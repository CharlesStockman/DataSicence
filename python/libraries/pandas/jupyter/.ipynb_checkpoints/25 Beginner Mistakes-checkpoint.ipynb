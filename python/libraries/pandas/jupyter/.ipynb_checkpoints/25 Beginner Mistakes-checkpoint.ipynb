{
 "cells": [
  {
   "cell_type": "markdown",
   "id": "02a7c4fb",
   "metadata": {
    "ExecuteTime": {
     "end_time": "2023-02-11T04:48:05.525796Z",
     "start_time": "2023-02-11T04:48:05.516034Z"
    }
   },
   "source": [
    "# Python and Data Science Stack problems to avoid\n",
    "25 Noob Pandas Coding Mistakes you should never make: https://www.youtube.com/watch?v=_gaAoJBMJ_Q&t=16s"
   ]
  },
  {
   "cell_type": "code",
   "execution_count": 2,
   "id": "a6070e41",
   "metadata": {
    "ExecuteTime": {
     "end_time": "2023-02-11T15:20:51.078172Z",
     "start_time": "2023-02-11T15:20:50.022403Z"
    }
   },
   "outputs": [
    {
     "name": "stdout",
     "output_type": "stream",
     "text": [
      "pandas version =  1.3.2\n"
     ]
    }
   ],
   "source": [
    "import pandas as pd \n",
    "print(\"pandas version = \", pd.__version__)"
   ]
  },
  {
   "cell_type": "markdown",
   "id": "7755e7cd",
   "metadata": {},
   "source": [
    "# Pandas"
   ]
  },
  {
   "cell_type": "code",
   "execution_count": 3,
   "id": "0023fd57",
   "metadata": {
    "ExecuteTime": {
     "end_time": "2023-02-11T15:20:51.087676Z",
     "start_time": "2023-02-11T15:20:51.080982Z"
    }
   },
   "outputs": [],
   "source": [
    "data_frame_1 = pd.read_csv('car-sales.csv')"
   ]
  },
  {
   "cell_type": "code",
   "execution_count": 4,
   "id": "887d43f1",
   "metadata": {
    "ExecuteTime": {
     "end_time": "2023-02-11T15:20:51.106914Z",
     "start_time": "2023-02-11T15:20:51.090459Z"
    }
   },
   "outputs": [
    {
     "data": {
      "text/html": [
       "<div>\n",
       "<style scoped>\n",
       "    .dataframe tbody tr th:only-of-type {\n",
       "        vertical-align: middle;\n",
       "    }\n",
       "\n",
       "    .dataframe tbody tr th {\n",
       "        vertical-align: top;\n",
       "    }\n",
       "\n",
       "    .dataframe thead th {\n",
       "        text-align: right;\n",
       "    }\n",
       "</style>\n",
       "<table border=\"1\" class=\"dataframe\">\n",
       "  <thead>\n",
       "    <tr style=\"text-align: right;\">\n",
       "      <th></th>\n",
       "      <th>Make</th>\n",
       "      <th>Colour</th>\n",
       "      <th>Odometer (KM)</th>\n",
       "      <th>Doors</th>\n",
       "      <th>Price</th>\n",
       "    </tr>\n",
       "  </thead>\n",
       "  <tbody>\n",
       "    <tr>\n",
       "      <th>0</th>\n",
       "      <td>Toyota</td>\n",
       "      <td>White</td>\n",
       "      <td>150043</td>\n",
       "      <td>4</td>\n",
       "      <td>$4,000.00</td>\n",
       "    </tr>\n",
       "    <tr>\n",
       "      <th>1</th>\n",
       "      <td>Honda</td>\n",
       "      <td>Red</td>\n",
       "      <td>87899</td>\n",
       "      <td>4</td>\n",
       "      <td>$5,000.00</td>\n",
       "    </tr>\n",
       "    <tr>\n",
       "      <th>2</th>\n",
       "      <td>Toyota</td>\n",
       "      <td>Blue</td>\n",
       "      <td>32549</td>\n",
       "      <td>3</td>\n",
       "      <td>$7,000.00</td>\n",
       "    </tr>\n",
       "    <tr>\n",
       "      <th>3</th>\n",
       "      <td>BMW</td>\n",
       "      <td>Black</td>\n",
       "      <td>11179</td>\n",
       "      <td>5</td>\n",
       "      <td>$22,000.00</td>\n",
       "    </tr>\n",
       "    <tr>\n",
       "      <th>4</th>\n",
       "      <td>Nissan</td>\n",
       "      <td>White</td>\n",
       "      <td>213095</td>\n",
       "      <td>4</td>\n",
       "      <td>$3,500.00</td>\n",
       "    </tr>\n",
       "    <tr>\n",
       "      <th>5</th>\n",
       "      <td>Toyota</td>\n",
       "      <td>Green</td>\n",
       "      <td>99213</td>\n",
       "      <td>4</td>\n",
       "      <td>$4,500.00</td>\n",
       "    </tr>\n",
       "    <tr>\n",
       "      <th>6</th>\n",
       "      <td>Honda</td>\n",
       "      <td>Blue</td>\n",
       "      <td>45698</td>\n",
       "      <td>4</td>\n",
       "      <td>$7,500.00</td>\n",
       "    </tr>\n",
       "    <tr>\n",
       "      <th>7</th>\n",
       "      <td>Honda</td>\n",
       "      <td>Blue</td>\n",
       "      <td>54738</td>\n",
       "      <td>4</td>\n",
       "      <td>$7,000.00</td>\n",
       "    </tr>\n",
       "    <tr>\n",
       "      <th>8</th>\n",
       "      <td>Toyota</td>\n",
       "      <td>White</td>\n",
       "      <td>60000</td>\n",
       "      <td>4</td>\n",
       "      <td>$6,250.00</td>\n",
       "    </tr>\n",
       "    <tr>\n",
       "      <th>9</th>\n",
       "      <td>Nissan</td>\n",
       "      <td>White</td>\n",
       "      <td>31600</td>\n",
       "      <td>4</td>\n",
       "      <td>$9,700.00</td>\n",
       "    </tr>\n",
       "  </tbody>\n",
       "</table>\n",
       "</div>"
      ],
      "text/plain": [
       "     Make Colour  Odometer (KM)  Doors       Price\n",
       "0  Toyota  White         150043      4   $4,000.00\n",
       "1   Honda    Red          87899      4   $5,000.00\n",
       "2  Toyota   Blue          32549      3   $7,000.00\n",
       "3     BMW  Black          11179      5  $22,000.00\n",
       "4  Nissan  White         213095      4   $3,500.00\n",
       "5  Toyota  Green          99213      4   $4,500.00\n",
       "6   Honda   Blue          45698      4   $7,500.00\n",
       "7   Honda   Blue          54738      4   $7,000.00\n",
       "8  Toyota  White          60000      4   $6,250.00\n",
       "9  Nissan  White          31600      4   $9,700.00"
      ]
     },
     "execution_count": 4,
     "metadata": {},
     "output_type": "execute_result"
    }
   ],
   "source": [
    "data_frame_1"
   ]
  },
  {
   "cell_type": "markdown",
   "id": "2828d57e",
   "metadata": {
    "ExecuteTime": {
     "end_time": "2023-02-11T04:53:52.508138Z",
     "start_time": "2023-02-11T04:53:52.491434Z"
    }
   },
   "source": [
    "### Problem 1: Writing to a csv with unecessary index you will see two indexes ( Second name Unnamed:0 )"
   ]
  },
  {
   "cell_type": "code",
   "execution_count": 5,
   "id": "63f70e57",
   "metadata": {
    "ExecuteTime": {
     "end_time": "2023-02-11T15:20:51.129407Z",
     "start_time": "2023-02-11T15:20:51.112908Z"
    }
   },
   "outputs": [
    {
     "data": {
      "text/html": [
       "<div>\n",
       "<style scoped>\n",
       "    .dataframe tbody tr th:only-of-type {\n",
       "        vertical-align: middle;\n",
       "    }\n",
       "\n",
       "    .dataframe tbody tr th {\n",
       "        vertical-align: top;\n",
       "    }\n",
       "\n",
       "    .dataframe thead th {\n",
       "        text-align: right;\n",
       "    }\n",
       "</style>\n",
       "<table border=\"1\" class=\"dataframe\">\n",
       "  <thead>\n",
       "    <tr style=\"text-align: right;\">\n",
       "      <th></th>\n",
       "      <th>Unnamed: 0</th>\n",
       "      <th>Make</th>\n",
       "      <th>Colour</th>\n",
       "      <th>Odometer (KM)</th>\n",
       "      <th>Doors</th>\n",
       "      <th>Price</th>\n",
       "    </tr>\n",
       "  </thead>\n",
       "  <tbody>\n",
       "    <tr>\n",
       "      <th>0</th>\n",
       "      <td>0</td>\n",
       "      <td>Toyota</td>\n",
       "      <td>White</td>\n",
       "      <td>150043</td>\n",
       "      <td>4</td>\n",
       "      <td>$4,000.00</td>\n",
       "    </tr>\n",
       "    <tr>\n",
       "      <th>1</th>\n",
       "      <td>1</td>\n",
       "      <td>Honda</td>\n",
       "      <td>Red</td>\n",
       "      <td>87899</td>\n",
       "      <td>4</td>\n",
       "      <td>$5,000.00</td>\n",
       "    </tr>\n",
       "    <tr>\n",
       "      <th>2</th>\n",
       "      <td>2</td>\n",
       "      <td>Toyota</td>\n",
       "      <td>Blue</td>\n",
       "      <td>32549</td>\n",
       "      <td>3</td>\n",
       "      <td>$7,000.00</td>\n",
       "    </tr>\n",
       "    <tr>\n",
       "      <th>3</th>\n",
       "      <td>3</td>\n",
       "      <td>BMW</td>\n",
       "      <td>Black</td>\n",
       "      <td>11179</td>\n",
       "      <td>5</td>\n",
       "      <td>$22,000.00</td>\n",
       "    </tr>\n",
       "    <tr>\n",
       "      <th>4</th>\n",
       "      <td>4</td>\n",
       "      <td>Nissan</td>\n",
       "      <td>White</td>\n",
       "      <td>213095</td>\n",
       "      <td>4</td>\n",
       "      <td>$3,500.00</td>\n",
       "    </tr>\n",
       "    <tr>\n",
       "      <th>5</th>\n",
       "      <td>5</td>\n",
       "      <td>Toyota</td>\n",
       "      <td>Green</td>\n",
       "      <td>99213</td>\n",
       "      <td>4</td>\n",
       "      <td>$4,500.00</td>\n",
       "    </tr>\n",
       "    <tr>\n",
       "      <th>6</th>\n",
       "      <td>6</td>\n",
       "      <td>Honda</td>\n",
       "      <td>Blue</td>\n",
       "      <td>45698</td>\n",
       "      <td>4</td>\n",
       "      <td>$7,500.00</td>\n",
       "    </tr>\n",
       "    <tr>\n",
       "      <th>7</th>\n",
       "      <td>7</td>\n",
       "      <td>Honda</td>\n",
       "      <td>Blue</td>\n",
       "      <td>54738</td>\n",
       "      <td>4</td>\n",
       "      <td>$7,000.00</td>\n",
       "    </tr>\n",
       "    <tr>\n",
       "      <th>8</th>\n",
       "      <td>8</td>\n",
       "      <td>Toyota</td>\n",
       "      <td>White</td>\n",
       "      <td>60000</td>\n",
       "      <td>4</td>\n",
       "      <td>$6,250.00</td>\n",
       "    </tr>\n",
       "    <tr>\n",
       "      <th>9</th>\n",
       "      <td>9</td>\n",
       "      <td>Nissan</td>\n",
       "      <td>White</td>\n",
       "      <td>31600</td>\n",
       "      <td>4</td>\n",
       "      <td>$9,700.00</td>\n",
       "    </tr>\n",
       "  </tbody>\n",
       "</table>\n",
       "</div>"
      ],
      "text/plain": [
       "   Unnamed: 0    Make Colour  Odometer (KM)  Doors       Price\n",
       "0           0  Toyota  White         150043      4   $4,000.00\n",
       "1           1   Honda    Red          87899      4   $5,000.00\n",
       "2           2  Toyota   Blue          32549      3   $7,000.00\n",
       "3           3     BMW  Black          11179      5  $22,000.00\n",
       "4           4  Nissan  White         213095      4   $3,500.00\n",
       "5           5  Toyota  Green          99213      4   $4,500.00\n",
       "6           6   Honda   Blue          45698      4   $7,500.00\n",
       "7           7   Honda   Blue          54738      4   $7,000.00\n",
       "8           8  Toyota  White          60000      4   $6,250.00\n",
       "9           9  Nissan  White          31600      4   $9,700.00"
      ]
     },
     "execution_count": 5,
     "metadata": {},
     "output_type": "execute_result"
    }
   ],
   "source": [
    "data_frame_1.to_csv('test.csv')\n",
    "data_frame_2 = pd.read_csv('test.csv')\n",
    "data_frame_2"
   ]
  },
  {
   "cell_type": "code",
   "execution_count": 6,
   "id": "7709b294",
   "metadata": {
    "ExecuteTime": {
     "end_time": "2023-02-11T15:20:51.147580Z",
     "start_time": "2023-02-11T15:20:51.132414Z"
    }
   },
   "outputs": [
    {
     "data": {
      "text/html": [
       "<div>\n",
       "<style scoped>\n",
       "    .dataframe tbody tr th:only-of-type {\n",
       "        vertical-align: middle;\n",
       "    }\n",
       "\n",
       "    .dataframe tbody tr th {\n",
       "        vertical-align: top;\n",
       "    }\n",
       "\n",
       "    .dataframe thead th {\n",
       "        text-align: right;\n",
       "    }\n",
       "</style>\n",
       "<table border=\"1\" class=\"dataframe\">\n",
       "  <thead>\n",
       "    <tr style=\"text-align: right;\">\n",
       "      <th></th>\n",
       "      <th>Make</th>\n",
       "      <th>Colour</th>\n",
       "      <th>Odometer (KM)</th>\n",
       "      <th>Doors</th>\n",
       "      <th>Price</th>\n",
       "    </tr>\n",
       "  </thead>\n",
       "  <tbody>\n",
       "    <tr>\n",
       "      <th>0</th>\n",
       "      <td>Toyota</td>\n",
       "      <td>White</td>\n",
       "      <td>150043</td>\n",
       "      <td>4</td>\n",
       "      <td>$4,000.00</td>\n",
       "    </tr>\n",
       "    <tr>\n",
       "      <th>1</th>\n",
       "      <td>Honda</td>\n",
       "      <td>Red</td>\n",
       "      <td>87899</td>\n",
       "      <td>4</td>\n",
       "      <td>$5,000.00</td>\n",
       "    </tr>\n",
       "    <tr>\n",
       "      <th>2</th>\n",
       "      <td>Toyota</td>\n",
       "      <td>Blue</td>\n",
       "      <td>32549</td>\n",
       "      <td>3</td>\n",
       "      <td>$7,000.00</td>\n",
       "    </tr>\n",
       "    <tr>\n",
       "      <th>3</th>\n",
       "      <td>BMW</td>\n",
       "      <td>Black</td>\n",
       "      <td>11179</td>\n",
       "      <td>5</td>\n",
       "      <td>$22,000.00</td>\n",
       "    </tr>\n",
       "    <tr>\n",
       "      <th>4</th>\n",
       "      <td>Nissan</td>\n",
       "      <td>White</td>\n",
       "      <td>213095</td>\n",
       "      <td>4</td>\n",
       "      <td>$3,500.00</td>\n",
       "    </tr>\n",
       "    <tr>\n",
       "      <th>5</th>\n",
       "      <td>Toyota</td>\n",
       "      <td>Green</td>\n",
       "      <td>99213</td>\n",
       "      <td>4</td>\n",
       "      <td>$4,500.00</td>\n",
       "    </tr>\n",
       "    <tr>\n",
       "      <th>6</th>\n",
       "      <td>Honda</td>\n",
       "      <td>Blue</td>\n",
       "      <td>45698</td>\n",
       "      <td>4</td>\n",
       "      <td>$7,500.00</td>\n",
       "    </tr>\n",
       "    <tr>\n",
       "      <th>7</th>\n",
       "      <td>Honda</td>\n",
       "      <td>Blue</td>\n",
       "      <td>54738</td>\n",
       "      <td>4</td>\n",
       "      <td>$7,000.00</td>\n",
       "    </tr>\n",
       "    <tr>\n",
       "      <th>8</th>\n",
       "      <td>Toyota</td>\n",
       "      <td>White</td>\n",
       "      <td>60000</td>\n",
       "      <td>4</td>\n",
       "      <td>$6,250.00</td>\n",
       "    </tr>\n",
       "    <tr>\n",
       "      <th>9</th>\n",
       "      <td>Nissan</td>\n",
       "      <td>White</td>\n",
       "      <td>31600</td>\n",
       "      <td>4</td>\n",
       "      <td>$9,700.00</td>\n",
       "    </tr>\n",
       "  </tbody>\n",
       "</table>\n",
       "</div>"
      ],
      "text/plain": [
       "     Make Colour  Odometer (KM)  Doors       Price\n",
       "0  Toyota  White         150043      4   $4,000.00\n",
       "1   Honda    Red          87899      4   $5,000.00\n",
       "2  Toyota   Blue          32549      3   $7,000.00\n",
       "3     BMW  Black          11179      5  $22,000.00\n",
       "4  Nissan  White         213095      4   $3,500.00\n",
       "5  Toyota  Green          99213      4   $4,500.00\n",
       "6   Honda   Blue          45698      4   $7,500.00\n",
       "7   Honda   Blue          54738      4   $7,000.00\n",
       "8  Toyota  White          60000      4   $6,250.00\n",
       "9  Nissan  White          31600      4   $9,700.00"
      ]
     },
     "execution_count": 6,
     "metadata": {},
     "output_type": "execute_result"
    }
   ],
   "source": [
    "# Solution : Set index = false\n",
    "data_frame_1.to_csv('test.csv', index=False)\n",
    "data_frame_2 = pd.read_csv('test.csv')\n",
    "data_frame_2"
   ]
  },
  {
   "cell_type": "markdown",
   "id": "0a2b3812",
   "metadata": {
    "ExecuteTime": {
     "end_time": "2023-02-08T06:13:35.271389Z",
     "start_time": "2023-02-08T06:13:35.267043Z"
    }
   },
   "source": [
    "Problem 2: Using column names with spaces lose the ability to use dot syntax.  Use an underscore instead"
   ]
  },
  {
   "cell_type": "markdown",
   "id": "d3400265",
   "metadata": {
    "ExecuteTime": {
     "end_time": "2023-02-11T04:53:35.337759Z",
     "start_time": "2023-02-11T04:53:35.322145Z"
    }
   },
   "source": [
    "### Problem 3: Use the Query Method -- Better for writing complex queries "
   ]
  },
  {
   "cell_type": "code",
   "execution_count": 7,
   "id": "5f46b607",
   "metadata": {
    "ExecuteTime": {
     "end_time": "2023-02-11T15:20:51.159874Z",
     "start_time": "2023-02-11T15:20:51.151321Z"
    }
   },
   "outputs": [
    {
     "data": {
      "text/plain": [
       "<bound method DataFrame.query of      Make Colour  Odometer (KM)  Doors       Price\n",
       "0  Toyota  White         150043      4   $4,000.00\n",
       "1   Honda    Red          87899      4   $5,000.00\n",
       "2  Toyota   Blue          32549      3   $7,000.00\n",
       "3     BMW  Black          11179      5  $22,000.00\n",
       "4  Nissan  White         213095      4   $3,500.00\n",
       "5  Toyota  Green          99213      4   $4,500.00\n",
       "6   Honda   Blue          45698      4   $7,500.00\n",
       "7   Honda   Blue          54738      4   $7,000.00\n",
       "8  Toyota  White          60000      4   $6,250.00\n",
       "9  Nissan  White          31600      4   $9,700.00>"
      ]
     },
     "execution_count": 7,
     "metadata": {},
     "output_type": "execute_result"
    }
   ],
   "source": [
    "data_frame_1.query"
   ]
  },
  {
   "cell_type": "code",
   "execution_count": 8,
   "id": "588758c1",
   "metadata": {
    "ExecuteTime": {
     "end_time": "2023-02-11T15:20:51.167736Z",
     "start_time": "2023-02-11T15:20:51.162613Z"
    }
   },
   "outputs": [
    {
     "data": {
      "text/plain": [
       "'Colour == \"Blue\" and Doors > 3'"
      ]
     },
     "execution_count": 8,
     "metadata": {},
     "output_type": "execute_result"
    }
   ],
   "source": [
    "('Colour == \"Blue\" and Doors > 3')"
   ]
  },
  {
   "cell_type": "code",
   "execution_count": 9,
   "id": "7eb50bb6",
   "metadata": {
    "ExecuteTime": {
     "end_time": "2023-02-11T15:20:51.182260Z",
     "start_time": "2023-02-11T15:20:51.170259Z"
    }
   },
   "outputs": [
    {
     "data": {
      "text/html": [
       "<div>\n",
       "<style scoped>\n",
       "    .dataframe tbody tr th:only-of-type {\n",
       "        vertical-align: middle;\n",
       "    }\n",
       "\n",
       "    .dataframe tbody tr th {\n",
       "        vertical-align: top;\n",
       "    }\n",
       "\n",
       "    .dataframe thead th {\n",
       "        text-align: right;\n",
       "    }\n",
       "</style>\n",
       "<table border=\"1\" class=\"dataframe\">\n",
       "  <thead>\n",
       "    <tr style=\"text-align: right;\">\n",
       "      <th></th>\n",
       "      <th>Make</th>\n",
       "      <th>Colour</th>\n",
       "      <th>Odometer (KM)</th>\n",
       "      <th>Doors</th>\n",
       "      <th>Price</th>\n",
       "    </tr>\n",
       "  </thead>\n",
       "  <tbody>\n",
       "    <tr>\n",
       "      <th>6</th>\n",
       "      <td>Honda</td>\n",
       "      <td>Blue</td>\n",
       "      <td>45698</td>\n",
       "      <td>4</td>\n",
       "      <td>$7,500.00</td>\n",
       "    </tr>\n",
       "    <tr>\n",
       "      <th>7</th>\n",
       "      <td>Honda</td>\n",
       "      <td>Blue</td>\n",
       "      <td>54738</td>\n",
       "      <td>4</td>\n",
       "      <td>$7,000.00</td>\n",
       "    </tr>\n",
       "  </tbody>\n",
       "</table>\n",
       "</div>"
      ],
      "text/plain": [
       "    Make Colour  Odometer (KM)  Doors      Price\n",
       "6  Honda   Blue          45698      4  $7,500.00\n",
       "7  Honda   Blue          54738      4  $7,000.00"
      ]
     },
     "execution_count": 9,
     "metadata": {},
     "output_type": "execute_result"
    }
   ],
   "source": [
    "# Pandas query string can access data.  Use the @ symbol to tell the query use the definition outside the query.\n",
    "colour = \"Blue\"\n",
    "more_doors_than = 3\n",
    "data_frame_1.query('Doors > @more_doors_than and Colour == @colour')"
   ]
  },
  {
   "cell_type": "markdown",
   "id": "e0d2d1e3",
   "metadata": {
    "ExecuteTime": {
     "end_time": "2023-02-11T04:53:35.852940Z",
     "start_time": "2023-02-11T04:53:35.849349Z"
    }
   },
   "source": [
    "### Problem 5: using inplace with true will overwrite the data table.  \n",
    "The pandas development team will be deprecating overwriting with modification.  Best solution is to provide a new variable"
   ]
  },
  {
   "cell_type": "markdown",
   "id": "65d4b4f5",
   "metadata": {
    "ExecuteTime": {
     "end_time": "2023-02-11T05:06:57.680812Z",
     "start_time": "2023-02-11T05:06:57.677798Z"
    }
   },
   "source": [
    "### Problem 6: Iterating over the rows when vectorization is an issue"
   ]
  },
  {
   "cell_type": "code",
   "execution_count": 10,
   "id": "07c285cb",
   "metadata": {
    "ExecuteTime": {
     "end_time": "2023-02-11T15:20:51.202682Z",
     "start_time": "2023-02-11T15:20:51.185168Z"
    }
   },
   "outputs": [
    {
     "data": {
      "text/html": [
       "<div>\n",
       "<style scoped>\n",
       "    .dataframe tbody tr th:only-of-type {\n",
       "        vertical-align: middle;\n",
       "    }\n",
       "\n",
       "    .dataframe tbody tr th {\n",
       "        vertical-align: top;\n",
       "    }\n",
       "\n",
       "    .dataframe thead th {\n",
       "        text-align: right;\n",
       "    }\n",
       "</style>\n",
       "<table border=\"1\" class=\"dataframe\">\n",
       "  <thead>\n",
       "    <tr style=\"text-align: right;\">\n",
       "      <th></th>\n",
       "      <th>Make</th>\n",
       "      <th>Colour</th>\n",
       "      <th>Odometer (KM)</th>\n",
       "      <th>Doors</th>\n",
       "      <th>Price</th>\n",
       "      <th>Quality</th>\n",
       "    </tr>\n",
       "  </thead>\n",
       "  <tbody>\n",
       "    <tr>\n",
       "      <th>0</th>\n",
       "      <td>Toyota</td>\n",
       "      <td>White</td>\n",
       "      <td>150043</td>\n",
       "      <td>4</td>\n",
       "      <td>$4,000.00</td>\n",
       "      <td>Bad</td>\n",
       "    </tr>\n",
       "    <tr>\n",
       "      <th>1</th>\n",
       "      <td>Honda</td>\n",
       "      <td>Red</td>\n",
       "      <td>87899</td>\n",
       "      <td>4</td>\n",
       "      <td>$5,000.00</td>\n",
       "      <td>Bad</td>\n",
       "    </tr>\n",
       "    <tr>\n",
       "      <th>2</th>\n",
       "      <td>Toyota</td>\n",
       "      <td>Blue</td>\n",
       "      <td>32549</td>\n",
       "      <td>3</td>\n",
       "      <td>$7,000.00</td>\n",
       "      <td>Good</td>\n",
       "    </tr>\n",
       "    <tr>\n",
       "      <th>3</th>\n",
       "      <td>BMW</td>\n",
       "      <td>Black</td>\n",
       "      <td>11179</td>\n",
       "      <td>5</td>\n",
       "      <td>$22,000.00</td>\n",
       "      <td>Good</td>\n",
       "    </tr>\n",
       "    <tr>\n",
       "      <th>4</th>\n",
       "      <td>Nissan</td>\n",
       "      <td>White</td>\n",
       "      <td>213095</td>\n",
       "      <td>4</td>\n",
       "      <td>$3,500.00</td>\n",
       "      <td>Bad</td>\n",
       "    </tr>\n",
       "    <tr>\n",
       "      <th>5</th>\n",
       "      <td>Toyota</td>\n",
       "      <td>Green</td>\n",
       "      <td>99213</td>\n",
       "      <td>4</td>\n",
       "      <td>$4,500.00</td>\n",
       "      <td>Bad</td>\n",
       "    </tr>\n",
       "    <tr>\n",
       "      <th>6</th>\n",
       "      <td>Honda</td>\n",
       "      <td>Blue</td>\n",
       "      <td>45698</td>\n",
       "      <td>4</td>\n",
       "      <td>$7,500.00</td>\n",
       "      <td>Good</td>\n",
       "    </tr>\n",
       "    <tr>\n",
       "      <th>7</th>\n",
       "      <td>Honda</td>\n",
       "      <td>Blue</td>\n",
       "      <td>54738</td>\n",
       "      <td>4</td>\n",
       "      <td>$7,000.00</td>\n",
       "      <td>Bad</td>\n",
       "    </tr>\n",
       "    <tr>\n",
       "      <th>8</th>\n",
       "      <td>Toyota</td>\n",
       "      <td>White</td>\n",
       "      <td>60000</td>\n",
       "      <td>4</td>\n",
       "      <td>$6,250.00</td>\n",
       "      <td>Bad</td>\n",
       "    </tr>\n",
       "    <tr>\n",
       "      <th>9</th>\n",
       "      <td>Nissan</td>\n",
       "      <td>White</td>\n",
       "      <td>31600</td>\n",
       "      <td>4</td>\n",
       "      <td>$9,700.00</td>\n",
       "      <td>Good</td>\n",
       "    </tr>\n",
       "  </tbody>\n",
       "</table>\n",
       "</div>"
      ],
      "text/plain": [
       "     Make Colour  Odometer (KM)  Doors       Price Quality\n",
       "0  Toyota  White         150043      4   $4,000.00     Bad\n",
       "1   Honda    Red          87899      4   $5,000.00     Bad\n",
       "2  Toyota   Blue          32549      3   $7,000.00    Good\n",
       "3     BMW  Black          11179      5  $22,000.00    Good\n",
       "4  Nissan  White         213095      4   $3,500.00     Bad\n",
       "5  Toyota  Green          99213      4   $4,500.00     Bad\n",
       "6   Honda   Blue          45698      4   $7,500.00    Good\n",
       "7   Honda   Blue          54738      4   $7,000.00     Bad\n",
       "8  Toyota  White          60000      4   $6,250.00     Bad\n",
       "9  Nissan  White          31600      4   $9,700.00    Good"
      ]
     },
     "execution_count": 10,
     "metadata": {},
     "output_type": "execute_result"
    }
   ],
   "source": [
    "for i, row in data_frame_1.iterrows():\n",
    "    if row['Odometer (KM)'] < 50000:\n",
    "        data_frame_1.loc[i, 'Quality'] = 'Good'\n",
    "    else:\n",
    "        data_frame_1.loc[i, 'Quality'] = 'Bad'\n",
    "data_frame_1"
   ]
  },
  {
   "cell_type": "markdown",
   "id": "bcff7e72",
   "metadata": {
    "ExecuteTime": {
     "start_time": "2023-02-11T05:28:44.335Z"
    }
   },
   "source": [
    "### Problem 7 : Solution: Vectorization"
   ]
  },
  {
   "cell_type": "code",
   "execution_count": 11,
   "id": "93dac192",
   "metadata": {
    "ExecuteTime": {
     "end_time": "2023-02-11T15:20:51.230630Z",
     "start_time": "2023-02-11T15:20:51.213248Z"
    }
   },
   "outputs": [
    {
     "data": {
      "text/html": [
       "<div>\n",
       "<style scoped>\n",
       "    .dataframe tbody tr th:only-of-type {\n",
       "        vertical-align: middle;\n",
       "    }\n",
       "\n",
       "    .dataframe tbody tr th {\n",
       "        vertical-align: top;\n",
       "    }\n",
       "\n",
       "    .dataframe thead th {\n",
       "        text-align: right;\n",
       "    }\n",
       "</style>\n",
       "<table border=\"1\" class=\"dataframe\">\n",
       "  <thead>\n",
       "    <tr style=\"text-align: right;\">\n",
       "      <th></th>\n",
       "      <th>Make</th>\n",
       "      <th>Colour</th>\n",
       "      <th>Odometer (KM)</th>\n",
       "      <th>Doors</th>\n",
       "      <th>Price</th>\n",
       "      <th>Quality</th>\n",
       "    </tr>\n",
       "  </thead>\n",
       "  <tbody>\n",
       "    <tr>\n",
       "      <th>0</th>\n",
       "      <td>Toyota</td>\n",
       "      <td>White</td>\n",
       "      <td>150043</td>\n",
       "      <td>4</td>\n",
       "      <td>$4,000.00</td>\n",
       "      <td>False</td>\n",
       "    </tr>\n",
       "    <tr>\n",
       "      <th>1</th>\n",
       "      <td>Honda</td>\n",
       "      <td>Red</td>\n",
       "      <td>87899</td>\n",
       "      <td>4</td>\n",
       "      <td>$5,000.00</td>\n",
       "      <td>False</td>\n",
       "    </tr>\n",
       "    <tr>\n",
       "      <th>2</th>\n",
       "      <td>Toyota</td>\n",
       "      <td>Blue</td>\n",
       "      <td>32549</td>\n",
       "      <td>3</td>\n",
       "      <td>$7,000.00</td>\n",
       "      <td>True</td>\n",
       "    </tr>\n",
       "    <tr>\n",
       "      <th>3</th>\n",
       "      <td>BMW</td>\n",
       "      <td>Black</td>\n",
       "      <td>11179</td>\n",
       "      <td>5</td>\n",
       "      <td>$22,000.00</td>\n",
       "      <td>True</td>\n",
       "    </tr>\n",
       "    <tr>\n",
       "      <th>4</th>\n",
       "      <td>Nissan</td>\n",
       "      <td>White</td>\n",
       "      <td>213095</td>\n",
       "      <td>4</td>\n",
       "      <td>$3,500.00</td>\n",
       "      <td>False</td>\n",
       "    </tr>\n",
       "    <tr>\n",
       "      <th>5</th>\n",
       "      <td>Toyota</td>\n",
       "      <td>Green</td>\n",
       "      <td>99213</td>\n",
       "      <td>4</td>\n",
       "      <td>$4,500.00</td>\n",
       "      <td>False</td>\n",
       "    </tr>\n",
       "    <tr>\n",
       "      <th>6</th>\n",
       "      <td>Honda</td>\n",
       "      <td>Blue</td>\n",
       "      <td>45698</td>\n",
       "      <td>4</td>\n",
       "      <td>$7,500.00</td>\n",
       "      <td>True</td>\n",
       "    </tr>\n",
       "    <tr>\n",
       "      <th>7</th>\n",
       "      <td>Honda</td>\n",
       "      <td>Blue</td>\n",
       "      <td>54738</td>\n",
       "      <td>4</td>\n",
       "      <td>$7,000.00</td>\n",
       "      <td>False</td>\n",
       "    </tr>\n",
       "    <tr>\n",
       "      <th>8</th>\n",
       "      <td>Toyota</td>\n",
       "      <td>White</td>\n",
       "      <td>60000</td>\n",
       "      <td>4</td>\n",
       "      <td>$6,250.00</td>\n",
       "      <td>False</td>\n",
       "    </tr>\n",
       "    <tr>\n",
       "      <th>9</th>\n",
       "      <td>Nissan</td>\n",
       "      <td>White</td>\n",
       "      <td>31600</td>\n",
       "      <td>4</td>\n",
       "      <td>$9,700.00</td>\n",
       "      <td>True</td>\n",
       "    </tr>\n",
       "  </tbody>\n",
       "</table>\n",
       "</div>"
      ],
      "text/plain": [
       "     Make Colour  Odometer (KM)  Doors       Price  Quality\n",
       "0  Toyota  White         150043      4   $4,000.00    False\n",
       "1   Honda    Red          87899      4   $5,000.00    False\n",
       "2  Toyota   Blue          32549      3   $7,000.00     True\n",
       "3     BMW  Black          11179      5  $22,000.00     True\n",
       "4  Nissan  White         213095      4   $3,500.00    False\n",
       "5  Toyota  Green          99213      4   $4,500.00    False\n",
       "6   Honda   Blue          45698      4   $7,500.00     True\n",
       "7   Honda   Blue          54738      4   $7,000.00    False\n",
       "8  Toyota  White          60000      4   $6,250.00    False\n",
       "9  Nissan  White          31600      4   $9,700.00     True"
      ]
     },
     "execution_count": 11,
     "metadata": {},
     "output_type": "execute_result"
    }
   ],
   "source": [
    "data_frame_1 = pd.read_csv('car-sales.csv')\n",
    "data_frame_1['Quality'] = data_frame_1['Odometer (KM)'] < 50000\n",
    "data_frame_1"
   ]
  },
  {
   "cell_type": "code",
   "execution_count": 12,
   "id": "2abedb5b",
   "metadata": {
    "ExecuteTime": {
     "end_time": "2023-02-11T15:20:51.249974Z",
     "start_time": "2023-02-11T15:20:51.233117Z"
    }
   },
   "outputs": [
    {
     "data": {
      "text/html": [
       "<div>\n",
       "<style scoped>\n",
       "    .dataframe tbody tr th:only-of-type {\n",
       "        vertical-align: middle;\n",
       "    }\n",
       "\n",
       "    .dataframe tbody tr th {\n",
       "        vertical-align: top;\n",
       "    }\n",
       "\n",
       "    .dataframe thead th {\n",
       "        text-align: right;\n",
       "    }\n",
       "</style>\n",
       "<table border=\"1\" class=\"dataframe\">\n",
       "  <thead>\n",
       "    <tr style=\"text-align: right;\">\n",
       "      <th></th>\n",
       "      <th>Make</th>\n",
       "      <th>Colour</th>\n",
       "      <th>Odometer (KM)</th>\n",
       "      <th>Doors</th>\n",
       "      <th>Price</th>\n",
       "      <th>Quality</th>\n",
       "    </tr>\n",
       "  </thead>\n",
       "  <tbody>\n",
       "    <tr>\n",
       "      <th>0</th>\n",
       "      <td>Toyota</td>\n",
       "      <td>White</td>\n",
       "      <td>150043</td>\n",
       "      <td>4</td>\n",
       "      <td>$4,000.00</td>\n",
       "      <td>Bad</td>\n",
       "    </tr>\n",
       "    <tr>\n",
       "      <th>1</th>\n",
       "      <td>Honda</td>\n",
       "      <td>Red</td>\n",
       "      <td>87899</td>\n",
       "      <td>4</td>\n",
       "      <td>$5,000.00</td>\n",
       "      <td>Bad</td>\n",
       "    </tr>\n",
       "    <tr>\n",
       "      <th>2</th>\n",
       "      <td>Toyota</td>\n",
       "      <td>Blue</td>\n",
       "      <td>32549</td>\n",
       "      <td>3</td>\n",
       "      <td>$7,000.00</td>\n",
       "      <td>Good</td>\n",
       "    </tr>\n",
       "    <tr>\n",
       "      <th>3</th>\n",
       "      <td>BMW</td>\n",
       "      <td>Black</td>\n",
       "      <td>11179</td>\n",
       "      <td>5</td>\n",
       "      <td>$22,000.00</td>\n",
       "      <td>Good</td>\n",
       "    </tr>\n",
       "    <tr>\n",
       "      <th>4</th>\n",
       "      <td>Nissan</td>\n",
       "      <td>White</td>\n",
       "      <td>213095</td>\n",
       "      <td>4</td>\n",
       "      <td>$3,500.00</td>\n",
       "      <td>Bad</td>\n",
       "    </tr>\n",
       "    <tr>\n",
       "      <th>5</th>\n",
       "      <td>Toyota</td>\n",
       "      <td>Green</td>\n",
       "      <td>99213</td>\n",
       "      <td>4</td>\n",
       "      <td>$4,500.00</td>\n",
       "      <td>Bad</td>\n",
       "    </tr>\n",
       "    <tr>\n",
       "      <th>6</th>\n",
       "      <td>Honda</td>\n",
       "      <td>Blue</td>\n",
       "      <td>45698</td>\n",
       "      <td>4</td>\n",
       "      <td>$7,500.00</td>\n",
       "      <td>Good</td>\n",
       "    </tr>\n",
       "    <tr>\n",
       "      <th>7</th>\n",
       "      <td>Honda</td>\n",
       "      <td>Blue</td>\n",
       "      <td>54738</td>\n",
       "      <td>4</td>\n",
       "      <td>$7,000.00</td>\n",
       "      <td>Bad</td>\n",
       "    </tr>\n",
       "    <tr>\n",
       "      <th>8</th>\n",
       "      <td>Toyota</td>\n",
       "      <td>White</td>\n",
       "      <td>60000</td>\n",
       "      <td>4</td>\n",
       "      <td>$6,250.00</td>\n",
       "      <td>Bad</td>\n",
       "    </tr>\n",
       "    <tr>\n",
       "      <th>9</th>\n",
       "      <td>Nissan</td>\n",
       "      <td>White</td>\n",
       "      <td>31600</td>\n",
       "      <td>4</td>\n",
       "      <td>$9,700.00</td>\n",
       "      <td>Good</td>\n",
       "    </tr>\n",
       "  </tbody>\n",
       "</table>\n",
       "</div>"
      ],
      "text/plain": [
       "     Make Colour  Odometer (KM)  Doors       Price Quality\n",
       "0  Toyota  White         150043      4   $4,000.00     Bad\n",
       "1   Honda    Red          87899      4   $5,000.00     Bad\n",
       "2  Toyota   Blue          32549      3   $7,000.00    Good\n",
       "3     BMW  Black          11179      5  $22,000.00    Good\n",
       "4  Nissan  White         213095      4   $3,500.00     Bad\n",
       "5  Toyota  Green          99213      4   $4,500.00     Bad\n",
       "6   Honda   Blue          45698      4   $7,500.00    Good\n",
       "7   Honda   Blue          54738      4   $7,000.00     Bad\n",
       "8  Toyota  White          60000      4   $6,250.00     Bad\n",
       "9  Nissan  White          31600      4   $9,700.00    Good"
      ]
     },
     "execution_count": 12,
     "metadata": {},
     "output_type": "execute_result"
    }
   ],
   "source": [
    "# Can also use the apply when the vectorization canno be used, but better to use Vectorization \n",
    "# -- Cleaner and runs faster\n",
    "data_frame_1 = pd.read_csv('car-sales.csv')\n",
    "data_frame_1['Quality'] = data_frame_1.apply(lambda row: 'Good' if row['Odometer (KM)'] < 50000 else 'Bad', axis = 1)\n",
    "data_frame_1"
   ]
  },
  {
   "cell_type": "markdown",
   "id": "14a758f3",
   "metadata": {
    "ExecuteTime": {
     "end_time": "2023-02-11T05:06:57.748272Z",
     "start_time": "2023-02-11T05:06:57.745492Z"
    }
   },
   "source": [
    "### Problem 8: When you slice a data frame the original data is immutable"
   ]
  },
  {
   "cell_type": "code",
   "execution_count": 13,
   "id": "613ea323",
   "metadata": {
    "ExecuteTime": {
     "end_time": "2023-02-11T15:20:51.269802Z",
     "start_time": "2023-02-11T15:20:51.252534Z"
    }
   },
   "outputs": [
    {
     "name": "stderr",
     "output_type": "stream",
     "text": [
      "/var/folders/1c/tyj7zpyn45bc8g5c1h6mz2s00000gn/T/ipykernel_42179/991996721.py:3: SettingWithCopyWarning: \n",
      "A value is trying to be set on a copy of a slice from a DataFrame.\n",
      "Try using .loc[row_indexer,col_indexer] = value instead\n",
      "\n",
      "See the caveats in the documentation: https://pandas.pydata.org/pandas-docs/stable/user_guide/indexing.html#returning-a-view-versus-a-copy\n",
      "  data_frame_2['Make'] = 'Toyota'\n"
     ]
    },
    {
     "data": {
      "text/html": [
       "<div>\n",
       "<style scoped>\n",
       "    .dataframe tbody tr th:only-of-type {\n",
       "        vertical-align: middle;\n",
       "    }\n",
       "\n",
       "    .dataframe tbody tr th {\n",
       "        vertical-align: top;\n",
       "    }\n",
       "\n",
       "    .dataframe thead th {\n",
       "        text-align: right;\n",
       "    }\n",
       "</style>\n",
       "<table border=\"1\" class=\"dataframe\">\n",
       "  <thead>\n",
       "    <tr style=\"text-align: right;\">\n",
       "      <th></th>\n",
       "      <th>Make</th>\n",
       "      <th>Colour</th>\n",
       "      <th>Odometer (KM)</th>\n",
       "      <th>Doors</th>\n",
       "      <th>Price</th>\n",
       "    </tr>\n",
       "  </thead>\n",
       "  <tbody>\n",
       "    <tr>\n",
       "      <th>0</th>\n",
       "      <td>Toyota</td>\n",
       "      <td>White</td>\n",
       "      <td>150043</td>\n",
       "      <td>4</td>\n",
       "      <td>$4,000.00</td>\n",
       "    </tr>\n",
       "    <tr>\n",
       "      <th>1</th>\n",
       "      <td>Honda</td>\n",
       "      <td>Red</td>\n",
       "      <td>87899</td>\n",
       "      <td>4</td>\n",
       "      <td>$5,000.00</td>\n",
       "    </tr>\n",
       "    <tr>\n",
       "      <th>2</th>\n",
       "      <td>Toyota</td>\n",
       "      <td>Blue</td>\n",
       "      <td>32549</td>\n",
       "      <td>3</td>\n",
       "      <td>$7,000.00</td>\n",
       "    </tr>\n",
       "    <tr>\n",
       "      <th>3</th>\n",
       "      <td>BMW</td>\n",
       "      <td>Black</td>\n",
       "      <td>11179</td>\n",
       "      <td>5</td>\n",
       "      <td>$22,000.00</td>\n",
       "    </tr>\n",
       "    <tr>\n",
       "      <th>4</th>\n",
       "      <td>Nissan</td>\n",
       "      <td>White</td>\n",
       "      <td>213095</td>\n",
       "      <td>4</td>\n",
       "      <td>$3,500.00</td>\n",
       "    </tr>\n",
       "    <tr>\n",
       "      <th>5</th>\n",
       "      <td>Toyota</td>\n",
       "      <td>Green</td>\n",
       "      <td>99213</td>\n",
       "      <td>4</td>\n",
       "      <td>$4,500.00</td>\n",
       "    </tr>\n",
       "    <tr>\n",
       "      <th>6</th>\n",
       "      <td>Honda</td>\n",
       "      <td>Blue</td>\n",
       "      <td>45698</td>\n",
       "      <td>4</td>\n",
       "      <td>$7,500.00</td>\n",
       "    </tr>\n",
       "    <tr>\n",
       "      <th>7</th>\n",
       "      <td>Honda</td>\n",
       "      <td>Blue</td>\n",
       "      <td>54738</td>\n",
       "      <td>4</td>\n",
       "      <td>$7,000.00</td>\n",
       "    </tr>\n",
       "    <tr>\n",
       "      <th>8</th>\n",
       "      <td>Toyota</td>\n",
       "      <td>White</td>\n",
       "      <td>60000</td>\n",
       "      <td>4</td>\n",
       "      <td>$6,250.00</td>\n",
       "    </tr>\n",
       "    <tr>\n",
       "      <th>9</th>\n",
       "      <td>Nissan</td>\n",
       "      <td>White</td>\n",
       "      <td>31600</td>\n",
       "      <td>4</td>\n",
       "      <td>$9,700.00</td>\n",
       "    </tr>\n",
       "  </tbody>\n",
       "</table>\n",
       "</div>"
      ],
      "text/plain": [
       "     Make Colour  Odometer (KM)  Doors       Price\n",
       "0  Toyota  White         150043      4   $4,000.00\n",
       "1   Honda    Red          87899      4   $5,000.00\n",
       "2  Toyota   Blue          32549      3   $7,000.00\n",
       "3     BMW  Black          11179      5  $22,000.00\n",
       "4  Nissan  White         213095      4   $3,500.00\n",
       "5  Toyota  Green          99213      4   $4,500.00\n",
       "6   Honda   Blue          45698      4   $7,500.00\n",
       "7   Honda   Blue          54738      4   $7,000.00\n",
       "8  Toyota  White          60000      4   $6,250.00\n",
       "9  Nissan  White          31600      4   $9,700.00"
      ]
     },
     "execution_count": 13,
     "metadata": {},
     "output_type": "execute_result"
    }
   ],
   "source": [
    "data_frame_1 = pd.read_csv('car-sales.csv')\n",
    "data_frame_2 = data_frame_1.query('Colour == \"Red\"')\n",
    "data_frame_2['Make'] = 'Toyota'\n",
    "data_frame_1"
   ]
  },
  {
   "cell_type": "code",
   "execution_count": 14,
   "id": "e137ee57",
   "metadata": {
    "ExecuteTime": {
     "end_time": "2023-02-11T15:20:51.296128Z",
     "start_time": "2023-02-11T15:20:51.272335Z"
    }
   },
   "outputs": [
    {
     "data": {
      "text/html": [
       "<div>\n",
       "<style scoped>\n",
       "    .dataframe tbody tr th:only-of-type {\n",
       "        vertical-align: middle;\n",
       "    }\n",
       "\n",
       "    .dataframe tbody tr th {\n",
       "        vertical-align: top;\n",
       "    }\n",
       "\n",
       "    .dataframe thead th {\n",
       "        text-align: right;\n",
       "    }\n",
       "</style>\n",
       "<table border=\"1\" class=\"dataframe\">\n",
       "  <thead>\n",
       "    <tr style=\"text-align: right;\">\n",
       "      <th></th>\n",
       "      <th>Make</th>\n",
       "      <th>Colour</th>\n",
       "      <th>Odometer (KM)</th>\n",
       "      <th>Doors</th>\n",
       "      <th>Price</th>\n",
       "    </tr>\n",
       "  </thead>\n",
       "  <tbody>\n",
       "    <tr>\n",
       "      <th>1</th>\n",
       "      <td>Toyota</td>\n",
       "      <td>Red</td>\n",
       "      <td>87899</td>\n",
       "      <td>4</td>\n",
       "      <td>$5,000.00</td>\n",
       "    </tr>\n",
       "  </tbody>\n",
       "</table>\n",
       "</div>"
      ],
      "text/plain": [
       "     Make Colour  Odometer (KM)  Doors      Price\n",
       "1  Toyota    Red          87899      4  $5,000.00"
      ]
     },
     "execution_count": 14,
     "metadata": {},
     "output_type": "execute_result"
    }
   ],
   "source": [
    "# Solution : Use the copy command which will create a copy of the slice and allow modifications\n",
    "# The copy allsows you to create make the slice a new data frame.\n",
    "data_frame_1 = pd.read_csv('car-sales.csv')\n",
    "data_frame_2 = data_frame_1.query('Colour == \"Red\"').copy(deep=True)\n",
    "data_frame_2['Make'] = 'Toyota'\n",
    "data_frame_2"
   ]
  },
  {
   "cell_type": "markdown",
   "id": "5b0b7c43",
   "metadata": {
    "ExecuteTime": {
     "end_time": "2023-02-11T05:07:24.713072Z",
     "start_time": "2023-02-11T05:07:24.710195Z"
    }
   },
   "source": [
    "### Problem 9: Each part of the process is written to a new data varaible"
   ]
  },
  {
   "cell_type": "code",
   "execution_count": 15,
   "id": "0da96eff",
   "metadata": {
    "ExecuteTime": {
     "end_time": "2023-02-11T15:20:51.315981Z",
     "start_time": "2023-02-11T15:20:51.299474Z"
    }
   },
   "outputs": [
    {
     "data": {
      "text/html": [
       "<div>\n",
       "<style scoped>\n",
       "    .dataframe tbody tr th:only-of-type {\n",
       "        vertical-align: middle;\n",
       "    }\n",
       "\n",
       "    .dataframe tbody tr th {\n",
       "        vertical-align: top;\n",
       "    }\n",
       "\n",
       "    .dataframe thead th {\n",
       "        text-align: right;\n",
       "    }\n",
       "</style>\n",
       "<table border=\"1\" class=\"dataframe\">\n",
       "  <thead>\n",
       "    <tr style=\"text-align: right;\">\n",
       "      <th></th>\n",
       "      <th>Colour</th>\n",
       "      <th>Odometer (KM)</th>\n",
       "      <th>Doors</th>\n",
       "      <th>Price</th>\n",
       "    </tr>\n",
       "    <tr>\n",
       "      <th>Make</th>\n",
       "      <th></th>\n",
       "      <th></th>\n",
       "      <th></th>\n",
       "      <th></th>\n",
       "    </tr>\n",
       "  </thead>\n",
       "  <tbody>\n",
       "    <tr>\n",
       "      <th>BMW</th>\n",
       "      <td>Black</td>\n",
       "      <td>11179</td>\n",
       "      <td>5</td>\n",
       "      <td>$22,000.00</td>\n",
       "    </tr>\n",
       "    <tr>\n",
       "      <th>Honda</th>\n",
       "      <td>Red</td>\n",
       "      <td>87899</td>\n",
       "      <td>4</td>\n",
       "      <td>$5,000.00</td>\n",
       "    </tr>\n",
       "    <tr>\n",
       "      <th>Nissan</th>\n",
       "      <td>White</td>\n",
       "      <td>213095</td>\n",
       "      <td>4</td>\n",
       "      <td>$3,500.00</td>\n",
       "    </tr>\n",
       "    <tr>\n",
       "      <th>Toyota</th>\n",
       "      <td>White</td>\n",
       "      <td>150043</td>\n",
       "      <td>4</td>\n",
       "      <td>$4,000.00</td>\n",
       "    </tr>\n",
       "  </tbody>\n",
       "</table>\n",
       "</div>"
      ],
      "text/plain": [
       "       Colour  Odometer (KM)  Doors       Price\n",
       "Make                                           \n",
       "BMW     Black          11179      5  $22,000.00\n",
       "Honda     Red          87899      4   $5,000.00\n",
       "Nissan  White         213095      4   $3,500.00\n",
       "Toyota  White         150043      4   $4,000.00"
      ]
     },
     "execution_count": 15,
     "metadata": {},
     "output_type": "execute_result"
    }
   ],
   "source": [
    "data_frame_1 = pd.read_csv('car-sales.csv')\n",
    "data_frame_2 = data_frame_1.query('Doors > 3')\n",
    "data_frame_3 = data_frame_2.groupby('Make')\n",
    "data_frame_3.first()"
   ]
  },
  {
   "cell_type": "code",
   "execution_count": 16,
   "id": "970461b5",
   "metadata": {
    "ExecuteTime": {
     "end_time": "2023-02-11T15:20:51.340689Z",
     "start_time": "2023-02-11T15:20:51.318433Z"
    }
   },
   "outputs": [
    {
     "data": {
      "text/html": [
       "<div>\n",
       "<style scoped>\n",
       "    .dataframe tbody tr th:only-of-type {\n",
       "        vertical-align: middle;\n",
       "    }\n",
       "\n",
       "    .dataframe tbody tr th {\n",
       "        vertical-align: top;\n",
       "    }\n",
       "\n",
       "    .dataframe thead th {\n",
       "        text-align: right;\n",
       "    }\n",
       "</style>\n",
       "<table border=\"1\" class=\"dataframe\">\n",
       "  <thead>\n",
       "    <tr style=\"text-align: right;\">\n",
       "      <th></th>\n",
       "      <th>Colour</th>\n",
       "      <th>Odometer (KM)</th>\n",
       "      <th>Doors</th>\n",
       "      <th>Price</th>\n",
       "    </tr>\n",
       "    <tr>\n",
       "      <th>Make</th>\n",
       "      <th></th>\n",
       "      <th></th>\n",
       "      <th></th>\n",
       "      <th></th>\n",
       "    </tr>\n",
       "  </thead>\n",
       "  <tbody>\n",
       "    <tr>\n",
       "      <th>BMW</th>\n",
       "      <td>Black</td>\n",
       "      <td>11179</td>\n",
       "      <td>5</td>\n",
       "      <td>$22,000.00</td>\n",
       "    </tr>\n",
       "    <tr>\n",
       "      <th>Honda</th>\n",
       "      <td>Red</td>\n",
       "      <td>87899</td>\n",
       "      <td>4</td>\n",
       "      <td>$5,000.00</td>\n",
       "    </tr>\n",
       "    <tr>\n",
       "      <th>Nissan</th>\n",
       "      <td>White</td>\n",
       "      <td>213095</td>\n",
       "      <td>4</td>\n",
       "      <td>$3,500.00</td>\n",
       "    </tr>\n",
       "    <tr>\n",
       "      <th>Toyota</th>\n",
       "      <td>White</td>\n",
       "      <td>150043</td>\n",
       "      <td>4</td>\n",
       "      <td>$4,000.00</td>\n",
       "    </tr>\n",
       "  </tbody>\n",
       "</table>\n",
       "</div>"
      ],
      "text/plain": [
       "       Colour  Odometer (KM)  Doors       Price\n",
       "Make                                           \n",
       "BMW     Black          11179      5  $22,000.00\n",
       "Honda     Red          87899      4   $5,000.00\n",
       "Nissan  White         213095      4   $3,500.00\n",
       "Toyota  White         150043      4   $4,000.00"
      ]
     },
     "execution_count": 16,
     "metadata": {},
     "output_type": "execute_result"
    }
   ],
   "source": [
    "# Solution -- Use Chaining where the transformaitons are applied once\n",
    "data_frame_1 = pd.read_csv('car-sales.csv')\n",
    "data_frame_out = ( data_frame_1.query('Doors > 3').groupby('Make') )\n",
    "data_frame_out.first()"
   ]
  },
  {
   "cell_type": "markdown",
   "id": "9a7f27eb",
   "metadata": {
    "ExecuteTime": {
     "end_time": "2023-02-11T05:07:26.248916Z",
     "start_time": "2023-02-11T05:07:26.246295Z"
    }
   },
   "source": [
    "### Problem 10 : Set your dtypes correctly "
   ]
  },
  {
   "cell_type": "code",
   "execution_count": 17,
   "id": "351fe27a",
   "metadata": {
    "ExecuteTime": {
     "end_time": "2023-02-11T15:20:51.351530Z",
     "start_time": "2023-02-11T15:20:51.345226Z"
    }
   },
   "outputs": [
    {
     "ename": "SyntaxError",
     "evalue": "invalid syntax (44431496.py, line 1)",
     "output_type": "error",
     "traceback": [
      "\u001b[0;36m  Cell \u001b[0;32mIn[17], line 1\u001b[0;36m\u001b[0m\n\u001b[0;31m    Set Dtypes Correctly for example data columns\u001b[0m\n\u001b[0m        ^\u001b[0m\n\u001b[0;31mSyntaxError\u001b[0m\u001b[0;31m:\u001b[0m invalid syntax\n"
     ]
    }
   ],
   "source": [
    "Set Dtypes Correctly for example data columns\n",
    "    In the read csv the Dates can be parts pd.read_csv('test.csv', parse_dates=['Date'])\n",
    "    pd.to_datetime(df['date field'])"
   ]
  },
  {
   "cell_type": "markdown",
   "id": "c425b493",
   "metadata": {
    "ExecuteTime": {
     "end_time": "2023-02-11T05:07:26.858269Z",
     "start_time": "2023-02-11T05:07:26.855183Z"
    }
   },
   "source": [
    "### Problem 11 : Don't map True / False Values to String ( Yes, No) "
   ]
  },
  {
   "cell_type": "code",
   "execution_count": null,
   "id": "8b28b7ce",
   "metadata": {
    "ExecuteTime": {
     "end_time": "2023-02-11T15:20:51.353968Z",
     "start_time": "2023-02-11T15:20:51.353949Z"
    }
   },
   "outputs": [],
   "source": [
    "Example if there is Yes,True and No,False as string"
   ]
  },
  {
   "cell_type": "code",
   "execution_count": null,
   "id": "e0193a56",
   "metadata": {
    "ExecuteTime": {
     "end_time": "2023-02-11T15:20:51.355666Z",
     "start_time": "2023-02-11T15:20:51.355649Z"
    }
   },
   "outputs": [],
   "source": [
    "df[\"sub10\"] = df['sbu10].map({\"Yes\":True, \"No\":False})']"
   ]
  },
  {
   "cell_type": "markdown",
   "id": "169abf2a",
   "metadata": {
    "ExecuteTime": {
     "end_time": "2023-02-11T05:07:27.386443Z",
     "start_time": "2023-02-11T05:07:27.382834Z"
    }
   },
   "source": [
    "### Problem 13: Pandas has string methods which can be applied to a column ( vectorization )"
   ]
  },
  {
   "cell_type": "code",
   "execution_count": null,
   "id": "f6c1a485",
   "metadata": {
    "ExecuteTime": {
     "end_time": "2023-02-11T15:20:51.360423Z",
     "start_time": "2023-02-11T15:20:51.360389Z"
    }
   },
   "outputs": [],
   "source": [
    "data_frame_1 = pd.read_csv('car-sales.csv')\n",
    "data_frame_1['test'] = data_frame_1['Make'].str.lower()\n",
    "data_frame_1"
   ]
  },
  {
   "cell_type": "code",
   "execution_count": null,
   "id": "ce1eed6a",
   "metadata": {
    "ExecuteTime": {
     "end_time": "2023-02-11T15:20:51.369437Z",
     "start_time": "2023-02-11T15:20:51.369396Z"
    }
   },
   "outputs": [],
   "source": [
    "### Problem 15: Renaming Columns\n",
    "data_frame_1 = pd.read_csv('car-sales.csv')\n",
    "print('old Columns: ', data_frame_1.columns.tolist())\n",
    "data_frame_1.columns = ['1', '2', '3', '4', '5']\n",
    "data_frame_1"
   ]
  },
  {
   "cell_type": "code",
   "execution_count": null,
   "id": "e58fbba4",
   "metadata": {
    "ExecuteTime": {
     "end_time": "2023-02-11T15:20:51.371916Z",
     "start_time": "2023-02-11T15:20:51.371888Z"
    }
   },
   "outputs": [],
   "source": [
    "# Solution : Cleaner and more descriptive\n",
    "data_frame_1 = pd.read_csv('car-sales.csv')\n",
    "print('old Columns: ', data_frame_1.columns.tolist())\n",
    "data_frame_2 = data_frame_1.rename(columns = { 'Make':'1', 'Colour':'2', 'Odometer (KM)':'3', 'Doors':'4', 'Price':'5' })\n",
    "data_frame_2"
   ]
  },
  {
   "cell_type": "markdown",
   "id": "e7fd3e58",
   "metadata": {
    "ExecuteTime": {
     "end_time": "2023-02-11T05:16:53.097383Z",
     "start_time": "2023-02-11T05:16:53.094574Z"
    }
   },
   "source": [
    "### Problem 16: Using the groupby incorreclty -- aggregating groups manually"
   ]
  },
  {
   "cell_type": "code",
   "execution_count": null,
   "id": "48083af4",
   "metadata": {
    "ExecuteTime": {
     "end_time": "2023-02-11T15:20:51.374852Z",
     "start_time": "2023-02-11T15:20:51.374812Z"
    }
   },
   "outputs": [],
   "source": [
    "data_frame_1 = pd.read_csv('car-sales.csv')\n",
    "color_count_1 = data_frame_1.query(\"Colour == 'Blue'\")['Make'].count()\n",
    "color_count_2 = data_frame_1.query(\"Colour == 'White'\")['Make'].count()\n",
    "color_count_3 = data_frame_1.query(\"Colour == 'Red'\")['Make'].count()\n",
    "color_count_4 = data_frame_1.query(\"Colour == 'Green'\")['Make'].count()\n",
    "\n",
    "print(\"Counts: \", color_count_1, ' ', color_count_2, ' ', color_count_3, ' ', color_count_4)"
   ]
  },
  {
   "cell_type": "code",
   "execution_count": null,
   "id": "482af4e5",
   "metadata": {
    "ExecuteTime": {
     "end_time": "2023-02-11T15:20:51.378240Z",
     "start_time": "2023-02-11T15:20:51.378219Z"
    }
   },
   "outputs": [],
   "source": [
    "# Just use the group by since it makes it simplier \n",
    "# The field that is group by become the index so it will not be considered a column\n",
    "data_frame_1 = pd.read_csv('car-sales.csv')\n",
    "data_frame_2 = data_frame_1.groupby('Colour').count()\n",
    "data_frame_2.loc[:, [ \"Make\"]]"
   ]
  },
  {
   "cell_type": "markdown",
   "id": "051d6829",
   "metadata": {
    "ExecuteTime": {
     "end_time": "2023-02-11T05:07:28.651123Z",
     "start_time": "2023-02-11T05:07:28.647287Z"
    }
   },
   "source": [
    "### Problem 18 : To calculate changes between rows don't use the loop, but pct_change and diff methods"
   ]
  },
  {
   "cell_type": "markdown",
   "id": "3e2f0083",
   "metadata": {
    "ExecuteTime": {
     "end_time": "2023-01-09T19:37:11.053792Z",
     "start_time": "2023-01-09T19:37:11.051341Z"
    }
   },
   "source": [
    "### 19  Saving large amounts of data : \n",
    "Can save to other formats such as parquet, feather, pickle and also save the datatype to Fucntions\n",
    "\n",
    "Example\n",
    "```python\n",
    "    import pandas as pd\n",
    "    large_df = pd.read_csv('large_dataset.csv')\n",
    "    large_df.to_parquet('output.parquet')\n",
    "    large_df.to_feather('output.feather')\n",
    "    large_df.to_pickle('output.pickle')\n",
    "```"
   ]
  },
  {
   "cell_type": "markdown",
   "id": "f5c1c9ef",
   "metadata": {
    "ExecuteTime": {
     "end_time": "2023-02-11T05:30:50.832085Z",
     "start_time": "2023-02-11T05:30:50.832053Z"
    }
   },
   "source": [
    "### Problem 19: Can style cells"
   ]
  },
  {
   "cell_type": "code",
   "execution_count": null,
   "id": "0c5f8fd7",
   "metadata": {
    "ExecuteTime": {
     "end_time": "2023-02-11T15:20:51.380893Z",
     "start_time": "2023-02-11T15:20:51.380872Z"
    }
   },
   "outputs": [],
   "source": [
    "data_frame_1 = pd.read_csv('car-sales.csv')\n",
    "print(type(data_frame_1.sort_values('Make')))\n",
    "data_frame_1 = data_frame_1.sort_values('Make').style.background_gradient(cmap='Reds')\n",
    "data_frame_1"
   ]
  },
  {
   "cell_type": "markdown",
   "id": "2bcfa040",
   "metadata": {
    "ExecuteTime": {
     "end_time": "2023-02-11T05:07:29.467097Z",
     "start_time": "2023-02-11T05:07:29.446672Z"
    }
   },
   "source": [
    "### 21: When merging data_frames provide the suffix for better tracing else the columns in the first get \n",
    "\n",
    "<name>_x and the second group get <name>_y.  The price will not get _x or _y since it is the column that is \n",
    "#getting merged"
   ]
  },
  {
   "cell_type": "markdown",
   "id": "07b58092",
   "metadata": {
    "ExecuteTime": {
     "end_time": "2023-02-11T05:07:29.467097Z",
     "start_time": "2023-02-11T05:07:29.446672Z"
    }
   },
   "source": [
    "data_frame_1 = pd.read_csv('car-sales.csv')\n",
    "data_frame_2 = pd.read_csv('car-sales.csv')\n",
    "data_frame_3 = data_frame_1.merge(data_frame_2, on=['Price'])\n",
    "data_frame_3"
   ]
  },
  {
   "cell_type": "code",
   "execution_count": null,
   "id": "173ef4f9",
   "metadata": {
    "ExecuteTime": {
     "end_time": "2023-02-11T15:20:51.383107Z",
     "start_time": "2023-02-11T15:20:51.383088Z"
    }
   },
   "outputs": [],
   "source": [
    "# A better way is to provide a different suffix for the both data_frames and apply the sufix which can make \n",
    "# it easier to read\n",
    "#\n",
    "# # Can provide validation validate can have following values \"1:1\", \"1:m\", \"m:1\", \"1:1\" where m means many\n",
    "#\n",
    "# This code blocik will show the error\n",
    "\n",
    "data_frame_1 = pd.read_csv('car-sales.csv')\n",
    "data_frame_2 = pd.read_csv('car-sales.csv')\n",
    "suffixes=('_car_lot_1', '_car_lot_2')\n",
    "data_frame_3 = data_frame_1.merge(data_frame_2, on=['Price'], suffixes=suffixes, validate=\"1:1\")\n",
    "data_frame_3"
   ]
  },
  {
   "cell_type": "code",
   "execution_count": null,
   "id": "48fe6447",
   "metadata": {
    "ExecuteTime": {
     "end_time": "2023-02-11T15:20:51.384693Z",
     "start_time": "2023-02-11T15:20:51.384676Z"
    }
   },
   "outputs": [],
   "source": [
    "# Correct validaton and suffixes provided, but I did cheat and drop all Price: 7000 duplicates\n",
    "data_frame_1 = pd.read_csv('car-sales.csv')\n",
    "data_frame_1 = data_frame_1.drop_duplicates(subset=['Price'])\n",
    "data_frame_2 = pd.read_csv('car-sales.csv')\n",
    "data_frame_2 = data_frame_2.drop_duplicates(subset=['Price'])\n",
    "suffixes=('_car_lot_1', '_car_lot_2')\n",
    "data_frame_3 = data_frame_1.merge(data_frame_2, on=['Price'], suffixes=suffixes, validate=\"1:1\")\n",
    "data_frame_3"
   ]
  },
  {
   "cell_type": "code",
   "execution_count": null,
   "id": "d6162c48",
   "metadata": {
    "ExecuteTime": {
     "end_time": "2023-02-11T15:20:51.386187Z",
     "start_time": "2023-02-11T15:20:51.386171Z"
    }
   },
   "outputs": [],
   "source": [
    "### Problem 22 How to chaining by putting each operation on a separete line ( use parenthesis ) "
   ]
  },
  {
   "cell_type": "code",
   "execution_count": null,
   "id": "7fcae2fd",
   "metadata": {
    "ExecuteTime": {
     "end_time": "2023-02-11T15:20:51.387772Z",
     "start_time": "2023-02-11T15:20:51.387754Z"
    }
   },
   "outputs": [],
   "source": [
    "data_frame_1 = pd.read_csv('car-sales.csv')\n",
    "data_frame_2 = (\n",
    "    data_frame_1\n",
    "    .groupby(\"Price\")\n",
    "    .count()\n",
    ")\n",
    "data_frame_2"
   ]
  },
  {
   "cell_type": "code",
   "execution_count": null,
   "id": "0626419e",
   "metadata": {
    "ExecuteTime": {
     "end_time": "2023-02-11T15:20:51.390271Z",
     "start_time": "2023-02-11T15:20:51.390207Z"
    }
   },
   "outputs": [],
   "source": [
    "### Problem 23 Use Categorical Data Type \n",
    "which take up less space in memroy and can make operations faster on large datasets."
   ]
  },
  {
   "cell_type": "code",
   "execution_count": null,
   "id": "21ea0b54",
   "metadata": {
    "ExecuteTime": {
     "end_time": "2023-02-11T15:20:51.393480Z",
     "start_time": "2023-02-11T15:20:51.393450Z"
    }
   },
   "outputs": [],
   "source": [
    "### Problem 24:  Check for duplicated columns\n",
    "#    1. pandas .set_flages(allows_duplicate_lables=False)\n",
    "#    2. ~df_double.columns.duplicated() - will alert you to errors"
   ]
  }
 ],
 "metadata": {
  "kernelspec": {
   "display_name": "Python 3 (ipykernel)",
   "language": "python",
   "name": "python3"
  },
  "language_info": {
   "codemirror_mode": {
    "name": "ipython",
    "version": 3
   },
   "file_extension": ".py",
   "mimetype": "text/x-python",
   "name": "python",
   "nbconvert_exporter": "python",
   "pygments_lexer": "ipython3",
   "version": "3.9.13"
  },
  "toc": {
   "base_numbering": 1,
   "nav_menu": {},
   "number_sections": true,
   "sideBar": true,
   "skip_h1_title": false,
   "title_cell": "Table of Contents",
   "title_sidebar": "Contents",
   "toc_cell": false,
   "toc_position": {},
   "toc_section_display": true,
   "toc_window_display": false
  }
 },
 "nbformat": 4,
 "nbformat_minor": 5
}
