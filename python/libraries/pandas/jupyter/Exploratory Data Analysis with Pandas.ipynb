{
 "cells": [
  {
   "cell_type": "markdown",
   "id": "cefb6a49",
   "metadata": {},
   "source": [
    "Exploratory Data Analysis with Pandas -- https://www.youtube.com/watch?v=xi0vhXFPegw 31:14"
   ]
  },
  {
   "cell_type": "code",
   "execution_count": 4,
   "id": "8099b954",
   "metadata": {
    "ExecuteTime": {
     "end_time": "2023-02-13T04:52:57.612991Z",
     "start_time": "2023-02-13T04:52:57.608315Z"
    }
   },
   "outputs": [],
   "source": [
    "import pandas as pd\n",
    "import numpy as np\n",
    "import matplotlib.pylab as plt\n",
    "import seaborn as sns\n",
    "\n",
    "plt.style.use('ggplot')\n",
    "\n",
    "#\n",
    "# Pandas does not show every column by default.  \n",
    "pd.set_option('display.max_columns', 200)"
   ]
  },
  {
   "cell_type": "code",
   "execution_count": 5,
   "id": "a0438b08",
   "metadata": {
    "ExecuteTime": {
     "end_time": "2023-02-13T04:52:57.638510Z",
     "start_time": "2023-02-13T04:52:57.616870Z"
    }
   },
   "outputs": [
    {
     "data": {
      "text/html": [
       "<div>\n",
       "<style scoped>\n",
       "    .dataframe tbody tr th:only-of-type {\n",
       "        vertical-align: middle;\n",
       "    }\n",
       "\n",
       "    .dataframe tbody tr th {\n",
       "        vertical-align: top;\n",
       "    }\n",
       "\n",
       "    .dataframe thead th {\n",
       "        text-align: right;\n",
       "    }\n",
       "</style>\n",
       "<table border=\"1\" class=\"dataframe\">\n",
       "  <thead>\n",
       "    <tr style=\"text-align: right;\">\n",
       "      <th></th>\n",
       "      <th>Make</th>\n",
       "      <th>Colour</th>\n",
       "      <th>Odometer (KM)</th>\n",
       "      <th>Doors</th>\n",
       "      <th>Price</th>\n",
       "    </tr>\n",
       "  </thead>\n",
       "  <tbody>\n",
       "    <tr>\n",
       "      <th>0</th>\n",
       "      <td>Toyota</td>\n",
       "      <td>White</td>\n",
       "      <td>150043</td>\n",
       "      <td>4</td>\n",
       "      <td>$4,000.00</td>\n",
       "    </tr>\n",
       "    <tr>\n",
       "      <th>1</th>\n",
       "      <td>Honda</td>\n",
       "      <td>Red</td>\n",
       "      <td>87899</td>\n",
       "      <td>4</td>\n",
       "      <td>$5,000.00</td>\n",
       "    </tr>\n",
       "    <tr>\n",
       "      <th>2</th>\n",
       "      <td>Toyota</td>\n",
       "      <td>Blue</td>\n",
       "      <td>32549</td>\n",
       "      <td>3</td>\n",
       "      <td>$7,000.00</td>\n",
       "    </tr>\n",
       "    <tr>\n",
       "      <th>3</th>\n",
       "      <td>BMW</td>\n",
       "      <td>Black</td>\n",
       "      <td>11179</td>\n",
       "      <td>5</td>\n",
       "      <td>$22,000.00</td>\n",
       "    </tr>\n",
       "    <tr>\n",
       "      <th>4</th>\n",
       "      <td>Nissan</td>\n",
       "      <td>White</td>\n",
       "      <td>213095</td>\n",
       "      <td>4</td>\n",
       "      <td>$3,500.00</td>\n",
       "    </tr>\n",
       "    <tr>\n",
       "      <th>5</th>\n",
       "      <td>Toyota</td>\n",
       "      <td>Green</td>\n",
       "      <td>99213</td>\n",
       "      <td>4</td>\n",
       "      <td>$4,500.00</td>\n",
       "    </tr>\n",
       "    <tr>\n",
       "      <th>6</th>\n",
       "      <td>Honda</td>\n",
       "      <td>Blue</td>\n",
       "      <td>45698</td>\n",
       "      <td>4</td>\n",
       "      <td>$7,500.00</td>\n",
       "    </tr>\n",
       "    <tr>\n",
       "      <th>7</th>\n",
       "      <td>Honda</td>\n",
       "      <td>Blue</td>\n",
       "      <td>54738</td>\n",
       "      <td>4</td>\n",
       "      <td>$7,000.00</td>\n",
       "    </tr>\n",
       "    <tr>\n",
       "      <th>8</th>\n",
       "      <td>Toyota</td>\n",
       "      <td>White</td>\n",
       "      <td>60000</td>\n",
       "      <td>4</td>\n",
       "      <td>$6,250.00</td>\n",
       "    </tr>\n",
       "    <tr>\n",
       "      <th>9</th>\n",
       "      <td>Nissan</td>\n",
       "      <td>White</td>\n",
       "      <td>31600</td>\n",
       "      <td>4</td>\n",
       "      <td>$9,700.00</td>\n",
       "    </tr>\n",
       "  </tbody>\n",
       "</table>\n",
       "</div>"
      ],
      "text/plain": [
       "     Make Colour  Odometer (KM)  Doors       Price\n",
       "0  Toyota  White         150043      4   $4,000.00\n",
       "1   Honda    Red          87899      4   $5,000.00\n",
       "2  Toyota   Blue          32549      3   $7,000.00\n",
       "3     BMW  Black          11179      5  $22,000.00\n",
       "4  Nissan  White         213095      4   $3,500.00\n",
       "5  Toyota  Green          99213      4   $4,500.00\n",
       "6   Honda   Blue          45698      4   $7,500.00\n",
       "7   Honda   Blue          54738      4   $7,000.00\n",
       "8  Toyota  White          60000      4   $6,250.00\n",
       "9  Nissan  White          31600      4   $9,700.00"
      ]
     },
     "execution_count": 5,
     "metadata": {},
     "output_type": "execute_result"
    }
   ],
   "source": [
    "data_frame_1 = pd.read_csv('car-sales.csv')\n",
    "data_frame_1"
   ]
  },
  {
   "cell_type": "markdown",
   "id": "a1539e54",
   "metadata": {
    "ExecuteTime": {
     "end_time": "2023-01-10T02:21:36.735447Z",
     "start_time": "2023-01-10T02:21:36.731319Z"
    }
   },
   "source": [
    "# Step 1: Data Understanding\n",
    "\n",
    "## Data Understanding\n",
    "\n",
    "<ul>Dataframe \n",
    "    <li>shape</li>\n",
    "    <li>head</li>\n",
    "    <li>tail</li>\n",
    "    <li>types ( which can you switch Date, Categorical)</li>\n",
    "    <li>describe</li>\n",
    "</ul>\n"
   ]
  },
  {
   "cell_type": "code",
   "execution_count": 6,
   "id": "b342c482",
   "metadata": {
    "ExecuteTime": {
     "end_time": "2023-02-13T04:52:57.645592Z",
     "start_time": "2023-02-13T04:52:57.640880Z"
    }
   },
   "outputs": [
    {
     "data": {
      "text/plain": [
       "(10, 5)"
      ]
     },
     "execution_count": 6,
     "metadata": {},
     "output_type": "execute_result"
    }
   ],
   "source": [
    "data_frame_1.shape"
   ]
  },
  {
   "cell_type": "code",
   "execution_count": 7,
   "id": "2497bedb",
   "metadata": {
    "ExecuteTime": {
     "end_time": "2023-02-13T04:52:57.660245Z",
     "start_time": "2023-02-13T04:52:57.649605Z"
    }
   },
   "outputs": [
    {
     "data": {
      "text/html": [
       "<div>\n",
       "<style scoped>\n",
       "    .dataframe tbody tr th:only-of-type {\n",
       "        vertical-align: middle;\n",
       "    }\n",
       "\n",
       "    .dataframe tbody tr th {\n",
       "        vertical-align: top;\n",
       "    }\n",
       "\n",
       "    .dataframe thead th {\n",
       "        text-align: right;\n",
       "    }\n",
       "</style>\n",
       "<table border=\"1\" class=\"dataframe\">\n",
       "  <thead>\n",
       "    <tr style=\"text-align: right;\">\n",
       "      <th></th>\n",
       "      <th>Make</th>\n",
       "      <th>Colour</th>\n",
       "      <th>Odometer (KM)</th>\n",
       "      <th>Doors</th>\n",
       "      <th>Price</th>\n",
       "    </tr>\n",
       "  </thead>\n",
       "  <tbody>\n",
       "    <tr>\n",
       "      <th>0</th>\n",
       "      <td>Toyota</td>\n",
       "      <td>White</td>\n",
       "      <td>150043</td>\n",
       "      <td>4</td>\n",
       "      <td>$4,000.00</td>\n",
       "    </tr>\n",
       "    <tr>\n",
       "      <th>1</th>\n",
       "      <td>Honda</td>\n",
       "      <td>Red</td>\n",
       "      <td>87899</td>\n",
       "      <td>4</td>\n",
       "      <td>$5,000.00</td>\n",
       "    </tr>\n",
       "    <tr>\n",
       "      <th>2</th>\n",
       "      <td>Toyota</td>\n",
       "      <td>Blue</td>\n",
       "      <td>32549</td>\n",
       "      <td>3</td>\n",
       "      <td>$7,000.00</td>\n",
       "    </tr>\n",
       "    <tr>\n",
       "      <th>3</th>\n",
       "      <td>BMW</td>\n",
       "      <td>Black</td>\n",
       "      <td>11179</td>\n",
       "      <td>5</td>\n",
       "      <td>$22,000.00</td>\n",
       "    </tr>\n",
       "    <tr>\n",
       "      <th>4</th>\n",
       "      <td>Nissan</td>\n",
       "      <td>White</td>\n",
       "      <td>213095</td>\n",
       "      <td>4</td>\n",
       "      <td>$3,500.00</td>\n",
       "    </tr>\n",
       "  </tbody>\n",
       "</table>\n",
       "</div>"
      ],
      "text/plain": [
       "     Make Colour  Odometer (KM)  Doors       Price\n",
       "0  Toyota  White         150043      4   $4,000.00\n",
       "1   Honda    Red          87899      4   $5,000.00\n",
       "2  Toyota   Blue          32549      3   $7,000.00\n",
       "3     BMW  Black          11179      5  $22,000.00\n",
       "4  Nissan  White         213095      4   $3,500.00"
      ]
     },
     "execution_count": 7,
     "metadata": {},
     "output_type": "execute_result"
    }
   ],
   "source": [
    "data_frame_1.head()"
   ]
  },
  {
   "cell_type": "code",
   "execution_count": 8,
   "id": "deee4398",
   "metadata": {
    "ExecuteTime": {
     "end_time": "2023-02-13T04:52:57.672552Z",
     "start_time": "2023-02-13T04:52:57.663095Z"
    }
   },
   "outputs": [
    {
     "data": {
      "text/html": [
       "<div>\n",
       "<style scoped>\n",
       "    .dataframe tbody tr th:only-of-type {\n",
       "        vertical-align: middle;\n",
       "    }\n",
       "\n",
       "    .dataframe tbody tr th {\n",
       "        vertical-align: top;\n",
       "    }\n",
       "\n",
       "    .dataframe thead th {\n",
       "        text-align: right;\n",
       "    }\n",
       "</style>\n",
       "<table border=\"1\" class=\"dataframe\">\n",
       "  <thead>\n",
       "    <tr style=\"text-align: right;\">\n",
       "      <th></th>\n",
       "      <th>Make</th>\n",
       "      <th>Colour</th>\n",
       "      <th>Odometer (KM)</th>\n",
       "      <th>Doors</th>\n",
       "      <th>Price</th>\n",
       "    </tr>\n",
       "  </thead>\n",
       "  <tbody>\n",
       "    <tr>\n",
       "      <th>5</th>\n",
       "      <td>Toyota</td>\n",
       "      <td>Green</td>\n",
       "      <td>99213</td>\n",
       "      <td>4</td>\n",
       "      <td>$4,500.00</td>\n",
       "    </tr>\n",
       "    <tr>\n",
       "      <th>6</th>\n",
       "      <td>Honda</td>\n",
       "      <td>Blue</td>\n",
       "      <td>45698</td>\n",
       "      <td>4</td>\n",
       "      <td>$7,500.00</td>\n",
       "    </tr>\n",
       "    <tr>\n",
       "      <th>7</th>\n",
       "      <td>Honda</td>\n",
       "      <td>Blue</td>\n",
       "      <td>54738</td>\n",
       "      <td>4</td>\n",
       "      <td>$7,000.00</td>\n",
       "    </tr>\n",
       "    <tr>\n",
       "      <th>8</th>\n",
       "      <td>Toyota</td>\n",
       "      <td>White</td>\n",
       "      <td>60000</td>\n",
       "      <td>4</td>\n",
       "      <td>$6,250.00</td>\n",
       "    </tr>\n",
       "    <tr>\n",
       "      <th>9</th>\n",
       "      <td>Nissan</td>\n",
       "      <td>White</td>\n",
       "      <td>31600</td>\n",
       "      <td>4</td>\n",
       "      <td>$9,700.00</td>\n",
       "    </tr>\n",
       "  </tbody>\n",
       "</table>\n",
       "</div>"
      ],
      "text/plain": [
       "     Make Colour  Odometer (KM)  Doors      Price\n",
       "5  Toyota  Green          99213      4  $4,500.00\n",
       "6   Honda   Blue          45698      4  $7,500.00\n",
       "7   Honda   Blue          54738      4  $7,000.00\n",
       "8  Toyota  White          60000      4  $6,250.00\n",
       "9  Nissan  White          31600      4  $9,700.00"
      ]
     },
     "execution_count": 8,
     "metadata": {},
     "output_type": "execute_result"
    }
   ],
   "source": [
    "data_frame_1.tail()"
   ]
  },
  {
   "cell_type": "code",
   "execution_count": 9,
   "id": "9ac25af7",
   "metadata": {
    "ExecuteTime": {
     "end_time": "2023-02-13T04:52:57.691031Z",
     "start_time": "2023-02-13T04:52:57.674676Z"
    }
   },
   "outputs": [
    {
     "name": "stdout",
     "output_type": "stream",
     "text": [
      "<class 'pandas.core.frame.DataFrame'>\n",
      "RangeIndex: 10 entries, 0 to 9\n",
      "Data columns (total 5 columns):\n",
      " #   Column         Non-Null Count  Dtype \n",
      "---  ------         --------------  ----- \n",
      " 0   Make           10 non-null     object\n",
      " 1   Colour         10 non-null     object\n",
      " 2   Odometer (KM)  10 non-null     int64 \n",
      " 3   Doors          10 non-null     int64 \n",
      " 4   Price          10 non-null     object\n",
      "dtypes: int64(2), object(3)\n",
      "memory usage: 528.0+ bytes\n"
     ]
    }
   ],
   "source": [
    "data_frame_1.info()"
   ]
  },
  {
   "cell_type": "code",
   "execution_count": 10,
   "id": "4bb0bbef",
   "metadata": {
    "ExecuteTime": {
     "end_time": "2023-02-13T04:52:57.715439Z",
     "start_time": "2023-02-13T04:52:57.693325Z"
    }
   },
   "outputs": [
    {
     "name": "stdout",
     "output_type": "stream",
     "text": [
      "<class 'pandas.core.frame.DataFrame'>\n",
      "RangeIndex: 10 entries, 0 to 9\n",
      "Data columns (total 5 columns):\n",
      " #   Column         Non-Null Count  Dtype   \n",
      "---  ------         --------------  -----   \n",
      " 0   Make           10 non-null     object  \n",
      " 1   Colour         10 non-null     object  \n",
      " 2   Odometer (KM)  10 non-null     int64   \n",
      " 3   Doors          10 non-null     category\n",
      " 4   Price          10 non-null     object  \n",
      "dtypes: category(1), int64(1), object(3)\n",
      "memory usage: 590.0+ bytes\n"
     ]
    }
   ],
   "source": [
    "# Convert the Doors to catagorical since there can a very limitied \n",
    "data_frame_1[\"Doors\"] = data_frame_1[\"Doors\"].astype(\"category\")\n",
    "data_frame_1.info()"
   ]
  },
  {
   "cell_type": "code",
   "execution_count": 11,
   "id": "2af28045",
   "metadata": {
    "ExecuteTime": {
     "end_time": "2023-02-13T04:52:57.816483Z",
     "start_time": "2023-02-13T04:52:57.717809Z"
    }
   },
   "outputs": [
    {
     "data": {
      "text/html": [
       "<style type=\"text/css\">\n",
       "</style>\n",
       "<table id=\"T_77603_\">\n",
       "  <thead>\n",
       "    <tr>\n",
       "      <th class=\"blank level0\" >&nbsp;</th>\n",
       "      <th class=\"col_heading level0 col0\" >Make</th>\n",
       "      <th class=\"col_heading level0 col1\" >Colour</th>\n",
       "      <th class=\"col_heading level0 col2\" >Odometer (KM)</th>\n",
       "      <th class=\"col_heading level0 col3\" >Doors</th>\n",
       "      <th class=\"col_heading level0 col4\" >Price</th>\n",
       "    </tr>\n",
       "  </thead>\n",
       "  <tbody>\n",
       "    <tr>\n",
       "      <th id=\"T_77603_level0_row0\" class=\"row_heading level0 row0\" >0</th>\n",
       "      <td id=\"T_77603_row0_col0\" class=\"data row0 col0\" >Toyota</td>\n",
       "      <td id=\"T_77603_row0_col1\" class=\"data row0 col1\" >White</td>\n",
       "      <td id=\"T_77603_row0_col2\" class=\"data row0 col2\" >150043</td>\n",
       "      <td id=\"T_77603_row0_col3\" class=\"data row0 col3\" >4</td>\n",
       "      <td id=\"T_77603_row0_col4\" class=\"data row0 col4\" >$4,000.00</td>\n",
       "    </tr>\n",
       "    <tr>\n",
       "      <th id=\"T_77603_level0_row1\" class=\"row_heading level0 row1\" >1</th>\n",
       "      <td id=\"T_77603_row1_col0\" class=\"data row1 col0\" >Honda</td>\n",
       "      <td id=\"T_77603_row1_col1\" class=\"data row1 col1\" >Red</td>\n",
       "      <td id=\"T_77603_row1_col2\" class=\"data row1 col2\" >87899</td>\n",
       "      <td id=\"T_77603_row1_col3\" class=\"data row1 col3\" >4</td>\n",
       "      <td id=\"T_77603_row1_col4\" class=\"data row1 col4\" >$5,000.00</td>\n",
       "    </tr>\n",
       "    <tr>\n",
       "      <th id=\"T_77603_level0_row2\" class=\"row_heading level0 row2\" >2</th>\n",
       "      <td id=\"T_77603_row2_col0\" class=\"data row2 col0\" >Toyota</td>\n",
       "      <td id=\"T_77603_row2_col1\" class=\"data row2 col1\" >Blue</td>\n",
       "      <td id=\"T_77603_row2_col2\" class=\"data row2 col2\" >32549</td>\n",
       "      <td id=\"T_77603_row2_col3\" class=\"data row2 col3\" >3</td>\n",
       "      <td id=\"T_77603_row2_col4\" class=\"data row2 col4\" >$7,000.00</td>\n",
       "    </tr>\n",
       "    <tr>\n",
       "      <th id=\"T_77603_level0_row3\" class=\"row_heading level0 row3\" >3</th>\n",
       "      <td id=\"T_77603_row3_col0\" class=\"data row3 col0\" >BMW</td>\n",
       "      <td id=\"T_77603_row3_col1\" class=\"data row3 col1\" >Black</td>\n",
       "      <td id=\"T_77603_row3_col2\" class=\"data row3 col2\" >11179</td>\n",
       "      <td id=\"T_77603_row3_col3\" class=\"data row3 col3\" >5</td>\n",
       "      <td id=\"T_77603_row3_col4\" class=\"data row3 col4\" >$22,000.00</td>\n",
       "    </tr>\n",
       "    <tr>\n",
       "      <th id=\"T_77603_level0_row4\" class=\"row_heading level0 row4\" >4</th>\n",
       "      <td id=\"T_77603_row4_col0\" class=\"data row4 col0\" >Nissan</td>\n",
       "      <td id=\"T_77603_row4_col1\" class=\"data row4 col1\" >White</td>\n",
       "      <td id=\"T_77603_row4_col2\" class=\"data row4 col2\" >213095</td>\n",
       "      <td id=\"T_77603_row4_col3\" class=\"data row4 col3\" >4</td>\n",
       "      <td id=\"T_77603_row4_col4\" class=\"data row4 col4\" >$3,500.00</td>\n",
       "    </tr>\n",
       "    <tr>\n",
       "      <th id=\"T_77603_level0_row5\" class=\"row_heading level0 row5\" >5</th>\n",
       "      <td id=\"T_77603_row5_col0\" class=\"data row5 col0\" >Toyota</td>\n",
       "      <td id=\"T_77603_row5_col1\" class=\"data row5 col1\" >Green</td>\n",
       "      <td id=\"T_77603_row5_col2\" class=\"data row5 col2\" >99213</td>\n",
       "      <td id=\"T_77603_row5_col3\" class=\"data row5 col3\" >4</td>\n",
       "      <td id=\"T_77603_row5_col4\" class=\"data row5 col4\" >$4,500.00</td>\n",
       "    </tr>\n",
       "    <tr>\n",
       "      <th id=\"T_77603_level0_row6\" class=\"row_heading level0 row6\" >6</th>\n",
       "      <td id=\"T_77603_row6_col0\" class=\"data row6 col0\" >Honda</td>\n",
       "      <td id=\"T_77603_row6_col1\" class=\"data row6 col1\" >Blue</td>\n",
       "      <td id=\"T_77603_row6_col2\" class=\"data row6 col2\" >45698</td>\n",
       "      <td id=\"T_77603_row6_col3\" class=\"data row6 col3\" >4</td>\n",
       "      <td id=\"T_77603_row6_col4\" class=\"data row6 col4\" >$7,500.00</td>\n",
       "    </tr>\n",
       "    <tr>\n",
       "      <th id=\"T_77603_level0_row7\" class=\"row_heading level0 row7\" >7</th>\n",
       "      <td id=\"T_77603_row7_col0\" class=\"data row7 col0\" >Honda</td>\n",
       "      <td id=\"T_77603_row7_col1\" class=\"data row7 col1\" >Blue</td>\n",
       "      <td id=\"T_77603_row7_col2\" class=\"data row7 col2\" >54738</td>\n",
       "      <td id=\"T_77603_row7_col3\" class=\"data row7 col3\" >4</td>\n",
       "      <td id=\"T_77603_row7_col4\" class=\"data row7 col4\" >$7,000.00</td>\n",
       "    </tr>\n",
       "    <tr>\n",
       "      <th id=\"T_77603_level0_row8\" class=\"row_heading level0 row8\" >8</th>\n",
       "      <td id=\"T_77603_row8_col0\" class=\"data row8 col0\" >Toyota</td>\n",
       "      <td id=\"T_77603_row8_col1\" class=\"data row8 col1\" >White</td>\n",
       "      <td id=\"T_77603_row8_col2\" class=\"data row8 col2\" >60000</td>\n",
       "      <td id=\"T_77603_row8_col3\" class=\"data row8 col3\" >4</td>\n",
       "      <td id=\"T_77603_row8_col4\" class=\"data row8 col4\" >$6,250.00</td>\n",
       "    </tr>\n",
       "    <tr>\n",
       "      <th id=\"T_77603_level0_row9\" class=\"row_heading level0 row9\" >9</th>\n",
       "      <td id=\"T_77603_row9_col0\" class=\"data row9 col0\" >Nissan</td>\n",
       "      <td id=\"T_77603_row9_col1\" class=\"data row9 col1\" >White</td>\n",
       "      <td id=\"T_77603_row9_col2\" class=\"data row9 col2\" >31600</td>\n",
       "      <td id=\"T_77603_row9_col3\" class=\"data row9 col3\" >4</td>\n",
       "      <td id=\"T_77603_row9_col4\" class=\"data row9 col4\" >$9,700.00</td>\n",
       "    </tr>\n",
       "  </tbody>\n",
       "</table>\n"
      ],
      "text/plain": [
       "<pandas.io.formats.style.Styler at 0x7f9548ecfe20>"
      ]
     },
     "execution_count": 11,
     "metadata": {},
     "output_type": "execute_result"
    }
   ],
   "source": [
    "# Convert the price to float and use the style to add the dollar sign and round\n",
    "data_frame_1[\"Price\"] = ( data_frame_1[\"Price\"]\n",
    "                         .str.replace('[\\$\\,]', '', regex=True)\n",
    "                         .astype(float)\n",
    "                        )\n",
    "data_frame_1.style.format({ 'Price':'${0:,.2f}'})"
   ]
  },
  {
   "cell_type": "code",
   "execution_count": 12,
   "id": "c9f4a9d5",
   "metadata": {
    "ExecuteTime": {
     "end_time": "2023-02-13T04:52:57.827999Z",
     "start_time": "2023-02-13T04:52:57.818873Z"
    }
   },
   "outputs": [
    {
     "name": "stdout",
     "output_type": "stream",
     "text": [
      "<class 'pandas.core.frame.DataFrame'>\n",
      "RangeIndex: 10 entries, 0 to 9\n",
      "Data columns (total 5 columns):\n",
      " #   Column         Non-Null Count  Dtype   \n",
      "---  ------         --------------  -----   \n",
      " 0   Make           10 non-null     object  \n",
      " 1   Colour         10 non-null     object  \n",
      " 2   Odometer (KM)  10 non-null     int64   \n",
      " 3   Doors          10 non-null     category\n",
      " 4   Price          10 non-null     float64 \n",
      "dtypes: category(1), float64(1), int64(1), object(2)\n",
      "memory usage: 590.0+ bytes\n"
     ]
    }
   ],
   "source": [
    "data_frame_1.info()"
   ]
  },
  {
   "cell_type": "markdown",
   "id": "4d81a635",
   "metadata": {},
   "source": [
    "# Second Step -- Data Preparation\n",
    "<ul>Data Preparation\n",
    "    <li>Dropping irrelevant columns and rows</li>\n",
    "    <li>Identifying duplicated columns</li>\n",
    "    <li>renaming columns</li>\n",
    "    <li>Feature Creation</li>\n",
    "</ul>"
   ]
  },
  {
   "cell_type": "code",
   "execution_count": 13,
   "id": "fa507634",
   "metadata": {
    "ExecuteTime": {
     "end_time": "2023-02-13T04:52:57.838329Z",
     "start_time": "2023-02-13T04:52:57.833477Z"
    }
   },
   "outputs": [],
   "source": [
    "# Remove the columns\n",
    "#    1. data_frame_1.columns\n",
    "#    2. copy the list of columns including the []\n",
    "#    3. get rid of columns you don't want\n",
    "#    4. Run the Square again\n",
    "#    Can use the drop command and can provide an element or a list  df.drop(['Door'], axis=1)\n",
    "#    .copy -- \n",
    "\n",
    "data_frame_2 = data_frame_1[['Make', 'Colour', 'Odometer (KM)', 'Price']].copy()"
   ]
  },
  {
   "cell_type": "code",
   "execution_count": 14,
   "id": "5ab65a89",
   "metadata": {
    "ExecuteTime": {
     "end_time": "2023-02-13T04:52:57.850662Z",
     "start_time": "2023-02-13T04:52:57.840530Z"
    }
   },
   "outputs": [
    {
     "data": {
      "text/html": [
       "<div>\n",
       "<style scoped>\n",
       "    .dataframe tbody tr th:only-of-type {\n",
       "        vertical-align: middle;\n",
       "    }\n",
       "\n",
       "    .dataframe tbody tr th {\n",
       "        vertical-align: top;\n",
       "    }\n",
       "\n",
       "    .dataframe thead th {\n",
       "        text-align: right;\n",
       "    }\n",
       "</style>\n",
       "<table border=\"1\" class=\"dataframe\">\n",
       "  <thead>\n",
       "    <tr style=\"text-align: right;\">\n",
       "      <th></th>\n",
       "      <th>Make</th>\n",
       "      <th>Colour</th>\n",
       "      <th>Odometer (KM)</th>\n",
       "      <th>Price</th>\n",
       "    </tr>\n",
       "  </thead>\n",
       "  <tbody>\n",
       "    <tr>\n",
       "      <th>0</th>\n",
       "      <td>Toyota</td>\n",
       "      <td>White</td>\n",
       "      <td>150043</td>\n",
       "      <td>4000.0</td>\n",
       "    </tr>\n",
       "    <tr>\n",
       "      <th>1</th>\n",
       "      <td>Honda</td>\n",
       "      <td>Red</td>\n",
       "      <td>87899</td>\n",
       "      <td>5000.0</td>\n",
       "    </tr>\n",
       "    <tr>\n",
       "      <th>2</th>\n",
       "      <td>Toyota</td>\n",
       "      <td>Blue</td>\n",
       "      <td>32549</td>\n",
       "      <td>7000.0</td>\n",
       "    </tr>\n",
       "    <tr>\n",
       "      <th>3</th>\n",
       "      <td>BMW</td>\n",
       "      <td>Black</td>\n",
       "      <td>11179</td>\n",
       "      <td>22000.0</td>\n",
       "    </tr>\n",
       "    <tr>\n",
       "      <th>4</th>\n",
       "      <td>Nissan</td>\n",
       "      <td>White</td>\n",
       "      <td>213095</td>\n",
       "      <td>3500.0</td>\n",
       "    </tr>\n",
       "    <tr>\n",
       "      <th>5</th>\n",
       "      <td>Toyota</td>\n",
       "      <td>Green</td>\n",
       "      <td>99213</td>\n",
       "      <td>4500.0</td>\n",
       "    </tr>\n",
       "    <tr>\n",
       "      <th>6</th>\n",
       "      <td>Honda</td>\n",
       "      <td>Blue</td>\n",
       "      <td>45698</td>\n",
       "      <td>7500.0</td>\n",
       "    </tr>\n",
       "    <tr>\n",
       "      <th>7</th>\n",
       "      <td>Honda</td>\n",
       "      <td>Blue</td>\n",
       "      <td>54738</td>\n",
       "      <td>7000.0</td>\n",
       "    </tr>\n",
       "    <tr>\n",
       "      <th>8</th>\n",
       "      <td>Toyota</td>\n",
       "      <td>White</td>\n",
       "      <td>60000</td>\n",
       "      <td>6250.0</td>\n",
       "    </tr>\n",
       "    <tr>\n",
       "      <th>9</th>\n",
       "      <td>Nissan</td>\n",
       "      <td>White</td>\n",
       "      <td>31600</td>\n",
       "      <td>9700.0</td>\n",
       "    </tr>\n",
       "  </tbody>\n",
       "</table>\n",
       "</div>"
      ],
      "text/plain": [
       "     Make Colour  Odometer (KM)    Price\n",
       "0  Toyota  White         150043   4000.0\n",
       "1   Honda    Red          87899   5000.0\n",
       "2  Toyota   Blue          32549   7000.0\n",
       "3     BMW  Black          11179  22000.0\n",
       "4  Nissan  White         213095   3500.0\n",
       "5  Toyota  Green          99213   4500.0\n",
       "6   Honda   Blue          45698   7500.0\n",
       "7   Honda   Blue          54738   7000.0\n",
       "8  Toyota  White          60000   6250.0\n",
       "9  Nissan  White          31600   9700.0"
      ]
     },
     "execution_count": 14,
     "metadata": {},
     "output_type": "execute_result"
    }
   ],
   "source": [
    "data_frame_2"
   ]
  },
  {
   "cell_type": "code",
   "execution_count": 15,
   "id": "96b15d1c",
   "metadata": {
    "ExecuteTime": {
     "end_time": "2023-02-13T04:52:57.855397Z",
     "start_time": "2023-02-13T04:52:57.852949Z"
    }
   },
   "outputs": [],
   "source": [
    "# pd.to_datetime(df['name of column'])\n",
    "# pd.to_numeric(df['name of column'])"
   ]
  },
  {
   "cell_type": "code",
   "execution_count": 16,
   "id": "9c52c55d",
   "metadata": {
    "ExecuteTime": {
     "end_time": "2023-02-13T04:52:57.860802Z",
     "start_time": "2023-02-13T04:52:57.857499Z"
    }
   },
   "outputs": [],
   "source": [
    "# Rename columns\n",
    "data_frame_2 = data_frame_1.rename(columns={ 'Price':'MSRP'})"
   ]
  },
  {
   "cell_type": "code",
   "execution_count": 17,
   "id": "9149c5c9",
   "metadata": {
    "ExecuteTime": {
     "end_time": "2023-02-13T04:52:57.872444Z",
     "start_time": "2023-02-13T04:52:57.862943Z"
    }
   },
   "outputs": [
    {
     "data": {
      "text/html": [
       "<div>\n",
       "<style scoped>\n",
       "    .dataframe tbody tr th:only-of-type {\n",
       "        vertical-align: middle;\n",
       "    }\n",
       "\n",
       "    .dataframe tbody tr th {\n",
       "        vertical-align: top;\n",
       "    }\n",
       "\n",
       "    .dataframe thead th {\n",
       "        text-align: right;\n",
       "    }\n",
       "</style>\n",
       "<table border=\"1\" class=\"dataframe\">\n",
       "  <thead>\n",
       "    <tr style=\"text-align: right;\">\n",
       "      <th></th>\n",
       "      <th>Make</th>\n",
       "      <th>Colour</th>\n",
       "      <th>Odometer (KM)</th>\n",
       "      <th>Doors</th>\n",
       "      <th>MSRP</th>\n",
       "    </tr>\n",
       "  </thead>\n",
       "  <tbody>\n",
       "    <tr>\n",
       "      <th>0</th>\n",
       "      <td>Toyota</td>\n",
       "      <td>White</td>\n",
       "      <td>150043</td>\n",
       "      <td>4</td>\n",
       "      <td>4000.0</td>\n",
       "    </tr>\n",
       "    <tr>\n",
       "      <th>1</th>\n",
       "      <td>Honda</td>\n",
       "      <td>Red</td>\n",
       "      <td>87899</td>\n",
       "      <td>4</td>\n",
       "      <td>5000.0</td>\n",
       "    </tr>\n",
       "    <tr>\n",
       "      <th>2</th>\n",
       "      <td>Toyota</td>\n",
       "      <td>Blue</td>\n",
       "      <td>32549</td>\n",
       "      <td>3</td>\n",
       "      <td>7000.0</td>\n",
       "    </tr>\n",
       "    <tr>\n",
       "      <th>3</th>\n",
       "      <td>BMW</td>\n",
       "      <td>Black</td>\n",
       "      <td>11179</td>\n",
       "      <td>5</td>\n",
       "      <td>22000.0</td>\n",
       "    </tr>\n",
       "    <tr>\n",
       "      <th>4</th>\n",
       "      <td>Nissan</td>\n",
       "      <td>White</td>\n",
       "      <td>213095</td>\n",
       "      <td>4</td>\n",
       "      <td>3500.0</td>\n",
       "    </tr>\n",
       "    <tr>\n",
       "      <th>5</th>\n",
       "      <td>Toyota</td>\n",
       "      <td>Green</td>\n",
       "      <td>99213</td>\n",
       "      <td>4</td>\n",
       "      <td>4500.0</td>\n",
       "    </tr>\n",
       "    <tr>\n",
       "      <th>6</th>\n",
       "      <td>Honda</td>\n",
       "      <td>Blue</td>\n",
       "      <td>45698</td>\n",
       "      <td>4</td>\n",
       "      <td>7500.0</td>\n",
       "    </tr>\n",
       "    <tr>\n",
       "      <th>7</th>\n",
       "      <td>Honda</td>\n",
       "      <td>Blue</td>\n",
       "      <td>54738</td>\n",
       "      <td>4</td>\n",
       "      <td>7000.0</td>\n",
       "    </tr>\n",
       "    <tr>\n",
       "      <th>8</th>\n",
       "      <td>Toyota</td>\n",
       "      <td>White</td>\n",
       "      <td>60000</td>\n",
       "      <td>4</td>\n",
       "      <td>6250.0</td>\n",
       "    </tr>\n",
       "    <tr>\n",
       "      <th>9</th>\n",
       "      <td>Nissan</td>\n",
       "      <td>White</td>\n",
       "      <td>31600</td>\n",
       "      <td>4</td>\n",
       "      <td>9700.0</td>\n",
       "    </tr>\n",
       "  </tbody>\n",
       "</table>\n",
       "</div>"
      ],
      "text/plain": [
       "     Make Colour  Odometer (KM) Doors     MSRP\n",
       "0  Toyota  White         150043     4   4000.0\n",
       "1   Honda    Red          87899     4   5000.0\n",
       "2  Toyota   Blue          32549     3   7000.0\n",
       "3     BMW  Black          11179     5  22000.0\n",
       "4  Nissan  White         213095     4   3500.0\n",
       "5  Toyota  Green          99213     4   4500.0\n",
       "6   Honda   Blue          45698     4   7500.0\n",
       "7   Honda   Blue          54738     4   7000.0\n",
       "8  Toyota  White          60000     4   6250.0\n",
       "9  Nissan  White          31600     4   9700.0"
      ]
     },
     "execution_count": 17,
     "metadata": {},
     "output_type": "execute_result"
    }
   ],
   "source": [
    "data_frame_2"
   ]
  },
  {
   "cell_type": "code",
   "execution_count": 18,
   "id": "f68b4e8b",
   "metadata": {
    "ExecuteTime": {
     "end_time": "2023-02-13T04:52:57.880726Z",
     "start_time": "2023-02-13T04:52:57.874664Z"
    }
   },
   "outputs": [
    {
     "data": {
      "text/plain": [
       "Make             0\n",
       "Colour           0\n",
       "Odometer (KM)    0\n",
       "Doors            0\n",
       "MSRP             0\n",
       "dtype: int64"
      ]
     },
     "execution_count": 18,
     "metadata": {},
     "output_type": "execute_result"
    }
   ],
   "source": [
    "# Identify missing values\n",
    "data_frame_2.isna().sum()"
   ]
  },
  {
   "cell_type": "code",
   "execution_count": 19,
   "id": "85a0ebbb",
   "metadata": {
    "ExecuteTime": {
     "end_time": "2023-02-13T04:52:57.896212Z",
     "start_time": "2023-02-13T04:52:57.882947Z"
    }
   },
   "outputs": [
    {
     "data": {
      "text/html": [
       "<div>\n",
       "<style scoped>\n",
       "    .dataframe tbody tr th:only-of-type {\n",
       "        vertical-align: middle;\n",
       "    }\n",
       "\n",
       "    .dataframe tbody tr th {\n",
       "        vertical-align: top;\n",
       "    }\n",
       "\n",
       "    .dataframe thead th {\n",
       "        text-align: right;\n",
       "    }\n",
       "</style>\n",
       "<table border=\"1\" class=\"dataframe\">\n",
       "  <thead>\n",
       "    <tr style=\"text-align: right;\">\n",
       "      <th></th>\n",
       "      <th>Make</th>\n",
       "      <th>Colour</th>\n",
       "      <th>Odometer (KM)</th>\n",
       "      <th>Doors</th>\n",
       "      <th>MSRP</th>\n",
       "    </tr>\n",
       "  </thead>\n",
       "  <tbody>\n",
       "  </tbody>\n",
       "</table>\n",
       "</div>"
      ],
      "text/plain": [
       "Empty DataFrame\n",
       "Columns: [Make, Colour, Odometer (KM), Doors, MSRP]\n",
       "Index: []"
      ]
     },
     "execution_count": 19,
     "metadata": {},
     "output_type": "execute_result"
    }
   ],
   "source": [
    "# Duplicated \n",
    "data_frame_2.duplicated()\n",
    "\n",
    "# See the rows that are duplicated\n",
    "data_frame_2.loc[ data_frame_2.duplicated() ]"
   ]
  },
  {
   "cell_type": "code",
   "execution_count": 20,
   "id": "d813378e",
   "metadata": {
    "ExecuteTime": {
     "end_time": "2023-02-13T04:52:57.904255Z",
     "start_time": "2023-02-13T04:52:57.898142Z"
    }
   },
   "outputs": [
    {
     "data": {
      "text/plain": [
       "0    False\n",
       "1    False\n",
       "2    False\n",
       "3    False\n",
       "4    False\n",
       "5    False\n",
       "6    False\n",
       "7     True\n",
       "8    False\n",
       "9    False\n",
       "dtype: bool"
      ]
     },
     "execution_count": 20,
     "metadata": {},
     "output_type": "execute_result"
    }
   ],
   "source": [
    "data_frame_2.duplicated(subset=['MSRP'])"
   ]
  },
  {
   "cell_type": "code",
   "execution_count": 21,
   "id": "39b7aa5f",
   "metadata": {
    "ExecuteTime": {
     "end_time": "2023-02-13T04:52:57.915765Z",
     "start_time": "2023-02-13T04:52:57.906724Z"
    }
   },
   "outputs": [
    {
     "data": {
      "text/html": [
       "<div>\n",
       "<style scoped>\n",
       "    .dataframe tbody tr th:only-of-type {\n",
       "        vertical-align: middle;\n",
       "    }\n",
       "\n",
       "    .dataframe tbody tr th {\n",
       "        vertical-align: top;\n",
       "    }\n",
       "\n",
       "    .dataframe thead th {\n",
       "        text-align: right;\n",
       "    }\n",
       "</style>\n",
       "<table border=\"1\" class=\"dataframe\">\n",
       "  <thead>\n",
       "    <tr style=\"text-align: right;\">\n",
       "      <th></th>\n",
       "      <th>Make</th>\n",
       "      <th>Colour</th>\n",
       "      <th>Odometer (KM)</th>\n",
       "      <th>Doors</th>\n",
       "      <th>MSRP</th>\n",
       "    </tr>\n",
       "  </thead>\n",
       "  <tbody>\n",
       "    <tr>\n",
       "      <th>7</th>\n",
       "      <td>Honda</td>\n",
       "      <td>Blue</td>\n",
       "      <td>54738</td>\n",
       "      <td>4</td>\n",
       "      <td>7000.0</td>\n",
       "    </tr>\n",
       "  </tbody>\n",
       "</table>\n",
       "</div>"
      ],
      "text/plain": [
       "    Make Colour  Odometer (KM) Doors    MSRP\n",
       "7  Honda   Blue          54738     4  7000.0"
      ]
     },
     "execution_count": 21,
     "metadata": {},
     "output_type": "execute_result"
    }
   ],
   "source": [
    "# Get the rows that are duplicated\n",
    "data_frame_2.loc[data_frame_2.duplicated(subset=['MSRP'])]"
   ]
  },
  {
   "cell_type": "code",
   "execution_count": 22,
   "id": "999165c5",
   "metadata": {
    "ExecuteTime": {
     "end_time": "2023-02-13T04:52:57.928214Z",
     "start_time": "2023-02-13T04:52:57.917830Z"
    }
   },
   "outputs": [
    {
     "data": {
      "text/html": [
       "<div>\n",
       "<style scoped>\n",
       "    .dataframe tbody tr th:only-of-type {\n",
       "        vertical-align: middle;\n",
       "    }\n",
       "\n",
       "    .dataframe tbody tr th {\n",
       "        vertical-align: top;\n",
       "    }\n",
       "\n",
       "    .dataframe thead th {\n",
       "        text-align: right;\n",
       "    }\n",
       "</style>\n",
       "<table border=\"1\" class=\"dataframe\">\n",
       "  <thead>\n",
       "    <tr style=\"text-align: right;\">\n",
       "      <th></th>\n",
       "      <th>Make</th>\n",
       "      <th>Colour</th>\n",
       "      <th>Odometer (KM)</th>\n",
       "      <th>Doors</th>\n",
       "      <th>MSRP</th>\n",
       "    </tr>\n",
       "  </thead>\n",
       "  <tbody>\n",
       "    <tr>\n",
       "      <th>2</th>\n",
       "      <td>Toyota</td>\n",
       "      <td>Blue</td>\n",
       "      <td>32549</td>\n",
       "      <td>3</td>\n",
       "      <td>7000.0</td>\n",
       "    </tr>\n",
       "    <tr>\n",
       "      <th>7</th>\n",
       "      <td>Honda</td>\n",
       "      <td>Blue</td>\n",
       "      <td>54738</td>\n",
       "      <td>4</td>\n",
       "      <td>7000.0</td>\n",
       "    </tr>\n",
       "  </tbody>\n",
       "</table>\n",
       "</div>"
      ],
      "text/plain": [
       "     Make Colour  Odometer (KM) Doors    MSRP\n",
       "2  Toyota   Blue          32549     3  7000.0\n",
       "7   Honda   Blue          54738     4  7000.0"
      ]
     },
     "execution_count": 22,
     "metadata": {},
     "output_type": "execute_result"
    }
   ],
   "source": [
    "data_frame_2.query( 'MSRP == 7000' )"
   ]
  },
  {
   "cell_type": "code",
   "execution_count": 23,
   "id": "9e001479",
   "metadata": {
    "ExecuteTime": {
     "end_time": "2023-02-13T04:52:57.935768Z",
     "start_time": "2023-02-13T04:52:57.930395Z"
    }
   },
   "outputs": [
    {
     "data": {
      "text/plain": [
       "0     True\n",
       "1     True\n",
       "2     True\n",
       "3     True\n",
       "4     True\n",
       "5     True\n",
       "6     True\n",
       "7    False\n",
       "8     True\n",
       "9     True\n",
       "dtype: bool"
      ]
     },
     "execution_count": 23,
     "metadata": {},
     "output_type": "execute_result"
    }
   ],
   "source": [
    "# Shows the ones that are not duplicated\n",
    "~data_frame_2.duplicated(subset=['MSRP'])"
   ]
  },
  {
   "cell_type": "code",
   "execution_count": 24,
   "id": "d49dd4ca",
   "metadata": {
    "ExecuteTime": {
     "end_time": "2023-02-13T04:52:57.942371Z",
     "start_time": "2023-02-13T04:52:57.938176Z"
    }
   },
   "outputs": [],
   "source": [
    "# Remvoe the rows that are dupliated and the index will jump since we removed rows so reset_index\n",
    "# drop=True gets rid of the original index\n",
    "data_frame_3 = data_frame_2.loc[~data_frame_2.duplicated(subset=['MSRP'])].reset_index(drop=True)"
   ]
  },
  {
   "cell_type": "code",
   "execution_count": 25,
   "id": "01ea42fe",
   "metadata": {
    "ExecuteTime": {
     "end_time": "2023-02-13T04:52:57.954361Z",
     "start_time": "2023-02-13T04:52:57.944577Z"
    }
   },
   "outputs": [
    {
     "data": {
      "text/html": [
       "<div>\n",
       "<style scoped>\n",
       "    .dataframe tbody tr th:only-of-type {\n",
       "        vertical-align: middle;\n",
       "    }\n",
       "\n",
       "    .dataframe tbody tr th {\n",
       "        vertical-align: top;\n",
       "    }\n",
       "\n",
       "    .dataframe thead th {\n",
       "        text-align: right;\n",
       "    }\n",
       "</style>\n",
       "<table border=\"1\" class=\"dataframe\">\n",
       "  <thead>\n",
       "    <tr style=\"text-align: right;\">\n",
       "      <th></th>\n",
       "      <th>Make</th>\n",
       "      <th>Colour</th>\n",
       "      <th>Odometer (KM)</th>\n",
       "      <th>Doors</th>\n",
       "      <th>MSRP</th>\n",
       "    </tr>\n",
       "  </thead>\n",
       "  <tbody>\n",
       "    <tr>\n",
       "      <th>0</th>\n",
       "      <td>Toyota</td>\n",
       "      <td>White</td>\n",
       "      <td>150043</td>\n",
       "      <td>4</td>\n",
       "      <td>4000.0</td>\n",
       "    </tr>\n",
       "    <tr>\n",
       "      <th>1</th>\n",
       "      <td>Honda</td>\n",
       "      <td>Red</td>\n",
       "      <td>87899</td>\n",
       "      <td>4</td>\n",
       "      <td>5000.0</td>\n",
       "    </tr>\n",
       "    <tr>\n",
       "      <th>2</th>\n",
       "      <td>Toyota</td>\n",
       "      <td>Blue</td>\n",
       "      <td>32549</td>\n",
       "      <td>3</td>\n",
       "      <td>7000.0</td>\n",
       "    </tr>\n",
       "    <tr>\n",
       "      <th>3</th>\n",
       "      <td>BMW</td>\n",
       "      <td>Black</td>\n",
       "      <td>11179</td>\n",
       "      <td>5</td>\n",
       "      <td>22000.0</td>\n",
       "    </tr>\n",
       "    <tr>\n",
       "      <th>4</th>\n",
       "      <td>Nissan</td>\n",
       "      <td>White</td>\n",
       "      <td>213095</td>\n",
       "      <td>4</td>\n",
       "      <td>3500.0</td>\n",
       "    </tr>\n",
       "    <tr>\n",
       "      <th>5</th>\n",
       "      <td>Toyota</td>\n",
       "      <td>Green</td>\n",
       "      <td>99213</td>\n",
       "      <td>4</td>\n",
       "      <td>4500.0</td>\n",
       "    </tr>\n",
       "    <tr>\n",
       "      <th>6</th>\n",
       "      <td>Honda</td>\n",
       "      <td>Blue</td>\n",
       "      <td>45698</td>\n",
       "      <td>4</td>\n",
       "      <td>7500.0</td>\n",
       "    </tr>\n",
       "    <tr>\n",
       "      <th>7</th>\n",
       "      <td>Toyota</td>\n",
       "      <td>White</td>\n",
       "      <td>60000</td>\n",
       "      <td>4</td>\n",
       "      <td>6250.0</td>\n",
       "    </tr>\n",
       "    <tr>\n",
       "      <th>8</th>\n",
       "      <td>Nissan</td>\n",
       "      <td>White</td>\n",
       "      <td>31600</td>\n",
       "      <td>4</td>\n",
       "      <td>9700.0</td>\n",
       "    </tr>\n",
       "  </tbody>\n",
       "</table>\n",
       "</div>"
      ],
      "text/plain": [
       "     Make Colour  Odometer (KM) Doors     MSRP\n",
       "0  Toyota  White         150043     4   4000.0\n",
       "1   Honda    Red          87899     4   5000.0\n",
       "2  Toyota   Blue          32549     3   7000.0\n",
       "3     BMW  Black          11179     5  22000.0\n",
       "4  Nissan  White         213095     4   3500.0\n",
       "5  Toyota  Green          99213     4   4500.0\n",
       "6   Honda   Blue          45698     4   7500.0\n",
       "7  Toyota  White          60000     4   6250.0\n",
       "8  Nissan  White          31600     4   9700.0"
      ]
     },
     "execution_count": 25,
     "metadata": {},
     "output_type": "execute_result"
    }
   ],
   "source": [
    "data_frame_3"
   ]
  },
  {
   "cell_type": "markdown",
   "id": "56ea3006",
   "metadata": {
    "ExecuteTime": {
     "end_time": "2023-01-11T02:50:06.072455Z",
     "start_time": "2023-01-11T02:50:06.069686Z"
    }
   },
   "source": [
    "# Feature Understanding"
   ]
  },
  {
   "cell_type": "code",
   "execution_count": 26,
   "id": "50e31d70",
   "metadata": {
    "ExecuteTime": {
     "end_time": "2023-02-13T04:52:57.962008Z",
     "start_time": "2023-02-13T04:52:57.956534Z"
    }
   },
   "outputs": [
    {
     "data": {
      "text/plain": [
       "White    4\n",
       "Blue     2\n",
       "Red      1\n",
       "Black    1\n",
       "Green    1\n",
       "Name: Colour, dtype: int64"
      ]
     },
     "execution_count": 26,
     "metadata": {},
     "output_type": "execute_result"
    }
   ],
   "source": [
    "data_frame_3['Colour'].value_counts()"
   ]
  },
  {
   "cell_type": "code",
   "execution_count": 27,
   "id": "544078dc",
   "metadata": {
    "ExecuteTime": {
     "end_time": "2023-02-13T04:52:57.969595Z",
     "start_time": "2023-02-13T04:52:57.964199Z"
    }
   },
   "outputs": [
    {
     "data": {
      "text/plain": [
       "Toyota    4\n",
       "Honda     2\n",
       "Nissan    2\n",
       "BMW       1\n",
       "Name: Make, dtype: int64"
      ]
     },
     "execution_count": 27,
     "metadata": {},
     "output_type": "execute_result"
    }
   ],
   "source": [
    "data_frame_3['Make'].value_counts()"
   ]
  },
  {
   "cell_type": "code",
   "execution_count": 28,
   "id": "8d4ec9c2",
   "metadata": {
    "ExecuteTime": {
     "end_time": "2023-02-13T04:52:58.185576Z",
     "start_time": "2023-02-13T04:52:57.972146Z"
    }
   },
   "outputs": [
    {
     "data": {
      "text/plain": [
       "Text(0, 0.5, 'Count')"
      ]
     },
     "execution_count": 28,
     "metadata": {},
     "output_type": "execute_result"
    },
    {
     "data": {
      "image/png": "[encoded data removed]",
      "text/plain": [
       "<Figure size 640x480 with 1 Axes>"
      ]
     },
     "metadata": {},
     "output_type": "display_data"
    }
   ],
   "source": [
    "matplotLib_axis = data_frame_2['MSRP'].plot(kind='bar', title=\"A plot for pandas\")\n",
    "matplotLib_axis.set_xlabel('Value of MSRP in Dollars')\n",
    "matplotLib_axis.set_ylabel('Count')"
   ]
  },
  {
   "cell_type": "code",
   "execution_count": 29,
   "id": "f02a7df8",
   "metadata": {
    "ExecuteTime": {
     "end_time": "2023-02-13T04:52:58.344043Z",
     "start_time": "2023-02-13T04:52:58.187763Z"
    }
   },
   "outputs": [
    {
     "data": {
      "text/plain": [
       "Text(0, 0.5, 'Count')"
      ]
     },
     "execution_count": 29,
     "metadata": {},
     "output_type": "execute_result"
    },
    {
     "data": {
      "image/png": "[encoded data removed]",
      "text/plain": [
       "<Figure size 640x480 with 1 Axes>"
      ]
     },
     "metadata": {},
     "output_type": "display_data"
    }
   ],
   "source": [
    "matplotLib_axis = data_frame_2['MSRP'].plot(kind='hist', bins=2, title=\"A plot for pandas\")\n",
    "matplotLib_axis.set_xlabel('Value of MSRP in Dollars')\n",
    "matplotLib_axis.set_ylabel('Count')"
   ]
  },
  {
   "cell_type": "code",
   "execution_count": 30,
   "id": "1ac48ade",
   "metadata": {
    "ExecuteTime": {
     "end_time": "2023-02-13T04:52:58.548359Z",
     "start_time": "2023-02-13T04:52:58.346359Z"
    }
   },
   "outputs": [
    {
     "data": {
      "text/plain": [
       "Text(0, 0.5, 'Count')"
      ]
     },
     "execution_count": 30,
     "metadata": {},
     "output_type": "execute_result"
    },
    {
     "data": {
      "image/png": "[encoded data removed]",
      "text/plain": [
       "<Figure size 640x480 with 1 Axes>"
      ]
     },
     "metadata": {},
     "output_type": "display_data"
    }
   ],
   "source": [
    "#Intereting : you might want to look at the bin count to see how best to display the data\n",
    "matplotLib_axis = data_frame_2['MSRP'].plot(kind='hist', title=\"A plot for pandas\")\n",
    "matplotLib_axis.set_xlabel('Value of MSRP in Dollars')\n",
    "matplotLib_axis.set_ylabel('Count')"
   ]
  },
  {
   "cell_type": "code",
   "execution_count": 31,
   "id": "5846dcb8",
   "metadata": {
    "ExecuteTime": {
     "end_time": "2023-02-13T04:52:58.743764Z",
     "start_time": "2023-02-13T04:52:58.557756Z"
    }
   },
   "outputs": [
    {
     "data": {
      "text/plain": [
       "Text(0, 0.5, 'Count')"
      ]
     },
     "execution_count": 31,
     "metadata": {},
     "output_type": "execute_result"
    },
    {
     "data": {
      "image/png": "[encoded data removed]",
      "text/plain": [
       "<Figure size 640x480 with 1 Axes>"
      ]
     },
     "metadata": {},
     "output_type": "display_data"
    }
   ],
   "source": [
    "# Kernel Desnity Plot\n",
    "# A kernel density estimate (KDE) plot is a method for visualizing tthe distribution of observations in a dataset,\n",
    "# analogous to a histogram.  Uses a continuous probability density curve in one or more dimensions \n",
    "matplotLib_axis = data_frame_2['MSRP'].plot(kind='kde', title=\"A plot for pandas\")\n",
    "matplotLib_axis.set_xlabel('Value of MSRP in Dollars')\n",
    "matplotLib_axis.set_ylabel('Count')"
   ]
  },
  {
   "cell_type": "markdown",
   "id": "41ba498f",
   "metadata": {},
   "source": [
    "# Feature Relationships\n",
    "\n",
    "<ul Feature Relationships>\n",
    "    <li>Scatterplot -- Compare two features</li>\n",
    "    <li>Heatmap Generation</li>\n",
    "    <li>Pairplot</li>\n",
    "    <li>Group by comparions</li>\n",
    "</ul>\n",
    "\n",
    "How do the different features relate to each other\n",
    "\n"
   ]
  },
  {
   "cell_type": "code",
   "execution_count": 32,
   "id": "60384de1",
   "metadata": {
    "ExecuteTime": {
     "end_time": "2023-02-13T04:52:59.050644Z",
     "start_time": "2023-02-13T04:52:58.747569Z"
    }
   },
   "outputs": [
    {
     "data": {
      "image/png": "[encoded data removed]",
      "text/plain": [
       "<Figure size 640x480 with 1 Axes>"
      ]
     },
     "metadata": {},
     "output_type": "display_data"
    }
   ],
   "source": [
    "data_frame_2.plot(kind='scatter', x='Odometer (KM)', y='MSRP', title='Speed vs Height' )\n",
    "\n",
    "# Remove the Object -- Comment it out to see the object\n",
    "plt.show()"
   ]
  },
  {
   "cell_type": "code",
   "execution_count": 33,
   "id": "aadb6e9d",
   "metadata": {
    "ExecuteTime": {
     "end_time": "2023-02-13T04:52:59.408768Z",
     "start_time": "2023-02-13T04:52:59.053612Z"
    }
   },
   "outputs": [
    {
     "data": {
      "text/plain": [
       "<AxesSubplot:xlabel='Odometer (KM)', ylabel='MSRP'>"
      ]
     },
     "execution_count": 33,
     "metadata": {},
     "output_type": "execute_result"
    },
    {
     "data": {
      "image/png": "[encoded data removed]",
      "text/plain": [
       "<Figure size 640x480 with 1 Axes>"
      ]
     },
     "metadata": {},
     "output_type": "display_data"
    }
   ],
   "source": [
    "# Hue is the color which Can be different columns that the x or y \n",
    "sns.scatterplot(x='Odometer (KM)', y='MSRP', data=data_frame_2, hue='Make')"
   ]
  },
  {
   "cell_type": "code",
   "execution_count": 34,
   "id": "27639465",
   "metadata": {
    "ExecuteTime": {
     "end_time": "2023-02-13T04:53:01.895187Z",
     "start_time": "2023-02-13T04:52:59.411569Z"
    }
   },
   "outputs": [
    {
     "data": {
      "text/plain": [
       "<seaborn.axisgrid.PairGrid at 0x7f954a4488b0>"
      ]
     },
     "execution_count": 34,
     "metadata": {},
     "output_type": "execute_result"
    },
    {
     "data": {
      "image/png": "[encoded data removed]",
      "text/plain": [
       "<Figure size 808.75x750 with 14 Axes>"
      ]
     },
     "metadata": {},
     "output_type": "display_data"
    }
   ],
   "source": [
    "# Compare more than two features\n",
    "sns.pairplot(data_frame_3, vars=['Odometer (KM)', 'MSRP', 'MSRP' ], hue = 'Doors')"
   ]
  },
  {
   "cell_type": "code",
   "execution_count": 35,
   "id": "c28f8bab",
   "metadata": {
    "ExecuteTime": {
     "end_time": "2023-02-13T04:53:02.114405Z",
     "start_time": "2023-02-13T04:53:01.897409Z"
    }
   },
   "outputs": [
    {
     "data": {
      "text/plain": [
       "<AxesSubplot:>"
      ]
     },
     "execution_count": 35,
     "metadata": {},
     "output_type": "execute_result"
    },
    {
     "data": {
      "image/png": "[encoded data removed]",
      "text/plain": [
       "<Figure size 640x480 with 2 Axes>"
      ]
     },
     "metadata": {},
     "output_type": "display_data"
    }
   ],
   "source": [
    "# Look at the Correlation.  Need to look only at numeric and will drop null values\n",
    "data_frame_heat_map = data_frame_3[['Odometer (KM)', 'Doors', 'MSRP']].dropna().corr()\n",
    "data_frame_heat_map\n",
    "sns.heatmap(data_frame_heat_map, annot=True)"
   ]
  },
  {
   "cell_type": "code",
   "execution_count": 43,
   "id": "42cbebef",
   "metadata": {
    "ExecuteTime": {
     "end_time": "2023-02-13T04:55:06.405831Z",
     "start_time": "2023-02-13T04:55:06.389848Z"
    }
   },
   "outputs": [
    {
     "data": {
      "text/html": [
       "<div>\n",
       "<style scoped>\n",
       "    .dataframe tbody tr th:only-of-type {\n",
       "        vertical-align: middle;\n",
       "    }\n",
       "\n",
       "    .dataframe tbody tr th {\n",
       "        vertical-align: top;\n",
       "    }\n",
       "\n",
       "    .dataframe thead tr th {\n",
       "        text-align: left;\n",
       "    }\n",
       "\n",
       "    .dataframe thead tr:last-of-type th {\n",
       "        text-align: right;\n",
       "    }\n",
       "</style>\n",
       "<table border=\"1\" class=\"dataframe\">\n",
       "  <thead>\n",
       "    <tr>\n",
       "      <th></th>\n",
       "      <th colspan=\"2\" halign=\"left\">Odometer (KM)</th>\n",
       "      <th colspan=\"2\" halign=\"left\">MSRP</th>\n",
       "    </tr>\n",
       "    <tr>\n",
       "      <th></th>\n",
       "      <th>mean</th>\n",
       "      <th>count</th>\n",
       "      <th>mean</th>\n",
       "      <th>count</th>\n",
       "    </tr>\n",
       "    <tr>\n",
       "      <th>Make</th>\n",
       "      <th></th>\n",
       "      <th></th>\n",
       "      <th></th>\n",
       "      <th></th>\n",
       "    </tr>\n",
       "  </thead>\n",
       "  <tbody>\n",
       "    <tr>\n",
       "      <th>BMW</th>\n",
       "      <td>11179.00</td>\n",
       "      <td>1</td>\n",
       "      <td>22000.0</td>\n",
       "      <td>1</td>\n",
       "    </tr>\n",
       "    <tr>\n",
       "      <th>Honda</th>\n",
       "      <td>66798.50</td>\n",
       "      <td>2</td>\n",
       "      <td>6250.0</td>\n",
       "      <td>2</td>\n",
       "    </tr>\n",
       "    <tr>\n",
       "      <th>Nissan</th>\n",
       "      <td>122347.50</td>\n",
       "      <td>2</td>\n",
       "      <td>6600.0</td>\n",
       "      <td>2</td>\n",
       "    </tr>\n",
       "    <tr>\n",
       "      <th>Toyota</th>\n",
       "      <td>85451.25</td>\n",
       "      <td>4</td>\n",
       "      <td>5437.5</td>\n",
       "      <td>4</td>\n",
       "    </tr>\n",
       "  </tbody>\n",
       "</table>\n",
       "</div>"
      ],
      "text/plain": [
       "       Odometer (KM)           MSRP      \n",
       "                mean count     mean count\n",
       "Make                                     \n",
       "BMW         11179.00     1  22000.0     1\n",
       "Honda       66798.50     2   6250.0     2\n",
       "Nissan     122347.50     2   6600.0     2\n",
       "Toyota      85451.25     4   5437.5     4"
      ]
     },
     "execution_count": 43,
     "metadata": {},
     "output_type": "execute_result"
    }
   ],
   "source": [
    "#Step 5 : Ask a Question abo the data\n",
    "#Due value_counts() -- Might show you other ( Can Remove or Keep )\n",
    "#Can use groupBy an can use the .agg(' ', 'count')\n",
    "#data_frame_3\n",
    "data_frame_3.groupby('Make').agg(['mean', 'count'])"
   ]
  },
  {
   "cell_type": "code",
   "execution_count": null,
   "id": "56aeb7e2",
   "metadata": {},
   "outputs": [],
   "source": []
  }
 ],
 "metadata": {
  "kernelspec": {
   "display_name": "Python 3 (ipykernel)",
   "language": "python",
   "name": "python3"
  },
  "language_info": {
   "codemirror_mode": {
    "name": "ipython",
    "version": 3
   },
   "file_extension": ".py",
   "mimetype": "text/x-python",
   "name": "python",
   "nbconvert_exporter": "python",
   "pygments_lexer": "ipython3",
   "version": "3.9.13"
  },
  "toc": {
   "base_numbering": 1,
   "nav_menu": {},
   "number_sections": true,
   "sideBar": true,
   "skip_h1_title": false,
   "title_cell": "Table of Contents",
   "title_sidebar": "Contents",
   "toc_cell": false,
   "toc_position": {},
   "toc_section_display": true,
   "toc_window_display": false
  }
 },
 "nbformat": 4,
 "nbformat_minor": 5
}
