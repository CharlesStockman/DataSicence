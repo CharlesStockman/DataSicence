{
 "cells": [
  {
   "cell_type": "code",
   "execution_count": 3,
   "id": "af2f47ca",
   "metadata": {
    "ExecuteTime": {
     "end_time": "2023-01-21T21:52:40.866730Z",
     "start_time": "2023-01-21T21:52:40.863089Z"
    }
   },
   "outputs": [
    {
     "name": "stdout",
     "output_type": "stream",
     "text": [
      "5300.0\n",
      "0.0053\n",
      "5.3\n"
     ]
    }
   ],
   "source": [
    "# Scientific Notation\n",
    "# The e -- base 10 so the first line is 5.3 * 10^3 = 5300\n",
    "# The e -- base 10 so the second line is 5.3 * 10^3 = .0053\n",
    "# The e -- base 10 so the third line is 5.03 * 10^ 0 = 5.3\n",
    "print(5.3e3)\n",
    "print(5.3e-3)\n",
    "print(5.3e0)"
   ]
  },
  {
   "cell_type": "code",
   "execution_count": 6,
   "id": "2bc6d02b",
   "metadata": {
    "ExecuteTime": {
     "end_time": "2023-01-21T21:59:46.559842Z",
     "start_time": "2023-01-21T21:59:46.555419Z"
    }
   },
   "outputs": [
    {
     "data": {
      "text/plain": [
       "'6691'"
      ]
     },
     "execution_count": 6,
     "metadata": {},
     "output_type": "execute_result"
    }
   ],
   "source": [
    "# Slicing\n",
    "# Create variable with name and four digit year and get the year and reverse the year\n",
    "variable = 'chuck1966'\n",
    "variable[-4:][::-1]"
   ]
  },
  {
   "cell_type": "code",
   "execution_count": 11,
   "id": "bd0c38d1",
   "metadata": {
    "ExecuteTime": {
     "end_time": "2023-01-21T22:09:15.336688Z",
     "start_time": "2023-01-21T22:09:15.332126Z"
    }
   },
   "outputs": [
    {
     "name": "stdout",
     "output_type": "stream",
     "text": [
      "n\n",
      "o\n",
      "h\n",
      "t\n",
      "y\n",
      "P\n"
     ]
    }
   ],
   "source": [
    "# Show review slicing\n",
    "variable = \"Python\"\n",
    "print(variable[-1])\n",
    "print(variable[-2])\n",
    "print(variable[-3])\n",
    "print(variable[-4])\n",
    "print(variable[-5])\n",
    "print(variable[-6])"
   ]
  },
  {
   "cell_type": "code",
   "execution_count": 7,
   "id": "31161918",
   "metadata": {
    "ExecuteTime": {
     "end_time": "2023-01-21T22:05:03.282127Z",
     "start_time": "2023-01-21T22:05:03.278266Z"
    }
   },
   "outputs": [
    {
     "name": "stdout",
     "output_type": "stream",
     "text": [
      "C:\\new data\\test1.tst\n"
     ]
    }
   ],
   "source": [
    "#Example of using a raw string -- Note the \\n is usually a new line , but in this case the actual \\n is printed\n",
    "print(r'C:\\new data\\test1.tst')"
   ]
  }
 ],
 "metadata": {
  "kernelspec": {
   "display_name": "Python 3 (ipykernel)",
   "language": "python",
   "name": "python3"
  },
  "language_info": {
   "codemirror_mode": {
    "name": "ipython",
    "version": 3
   },
   "file_extension": ".py",
   "mimetype": "text/x-python",
   "name": "python",
   "nbconvert_exporter": "python",
   "pygments_lexer": "ipython3",
   "version": "3.9.13"
  }
 },
 "nbformat": 4,
 "nbformat_minor": 5
}
