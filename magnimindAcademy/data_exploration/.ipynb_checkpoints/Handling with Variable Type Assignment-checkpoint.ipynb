{
 "cells": [
  {
   "cell_type": "markdown",
   "id": "cb8ae7cb",
   "metadata": {},
   "source": [
    "# Questions \n",
    "1. Determine the types of the below-given variables:\n",
    "Age\n",
    "Salary\n",
    "Income\n",
    "Customer type\n",
    "Stock price\n",
    "2. Using the movie data, we have studied in this lesson. Complete the following tasks:\n",
    "Select a continuous and a categorical variable from the movie dataset and discuss the variable type of this variable. Discuss further in detail the type of selected continuous and categorical variables.\n",
    "Categorize a variable of your choice and assign a name to it\n",
    "Count the number of rows for each category\n",
    "3. Is it possible to convert categorical variable into numerical one? If so, how can you make that?\n",
    "4. While continuous data is generally preferred over discrete data, please indicate circumstances where discrete is the preferred data type although continuous data is available for the same characteristic.\n",
    "5. While continuous data is measured and attribute data is counted, there is sometimes confusion if some specific dataset should be considered continuous or attribute. Provide some examples of confusing datasets and your inference.\n"
   ]
  },
  {
   "cell_type": "code",
   "execution_count": 61,
   "id": "49b4da0c",
   "metadata": {
    "ExecuteTime": {
     "end_time": "2023-02-20T19:53:21.439729Z",
     "start_time": "2023-02-20T19:53:21.436545Z"
    }
   },
   "outputs": [],
   "source": [
    "import pandas as pd"
   ]
  },
  {
   "cell_type": "code",
   "execution_count": 62,
   "id": "3087135f",
   "metadata": {
    "ExecuteTime": {
     "end_time": "2023-02-20T19:53:21.456800Z",
     "start_time": "2023-02-20T19:53:21.442715Z"
    }
   },
   "outputs": [],
   "source": [
    "movies = pd.read_csv('movies.csv')"
   ]
  },
  {
   "cell_type": "markdown",
   "id": "83b03580",
   "metadata": {
    "ExecuteTime": {
     "end_time": "2023-02-20T18:44:10.497608Z",
     "start_time": "2023-02-20T18:44:10.483787Z"
    }
   },
   "source": [
    "## Determine the types of the below-given variables:\n",
    "\n",
    "| Variable | Answer   | Descrption |\n",
    "| :------- | :---     | :--------- |\n",
    "| Age      |Continous Ratio        | Since there is a starting point and the age can be made into a fraction  |\n",
    "| Salary   | Discrete | since it is numeric and one value\n",
    "| Income   | Continous Ratio | An amount that can be plotted over time and can br analyzed by math and has a starting point ( When the person start receiving income)/\n",
    "|Customer type| Categorical Nominal | A category that has no rank or order |\n",
    "| Stock price | Continous Interval  |Investments could be included in income which can have many different value over time ( continous ) and the interval on the investments is when the customer start investing not when the fund was created. |  "
   ]
  },
  {
   "cell_type": "markdown",
   "id": "af38e763",
   "metadata": {
    "ExecuteTime": {
     "end_time": "2023-02-20T18:44:10.497608Z",
     "start_time": "2023-02-20T18:44:10.483787Z"
    }
   },
   "source": [
    "\n"
   ]
  },
  {
   "cell_type": "code",
   "execution_count": 63,
   "id": "cca11d58",
   "metadata": {
    "ExecuteTime": {
     "end_time": "2023-02-20T19:53:21.472686Z",
     "start_time": "2023-02-20T19:53:21.459426Z"
    }
   },
   "outputs": [
    {
     "data": {
      "text/html": [
       "<div>\n",
       "<style scoped>\n",
       "    .dataframe tbody tr th:only-of-type {\n",
       "        vertical-align: middle;\n",
       "    }\n",
       "\n",
       "    .dataframe tbody tr th {\n",
       "        vertical-align: top;\n",
       "    }\n",
       "\n",
       "    .dataframe thead th {\n",
       "        text-align: right;\n",
       "    }\n",
       "</style>\n",
       "<table border=\"1\" class=\"dataframe\">\n",
       "  <thead>\n",
       "    <tr style=\"text-align: right;\">\n",
       "      <th></th>\n",
       "      <th>Rank</th>\n",
       "      <th>Title</th>\n",
       "      <th>Genre</th>\n",
       "      <th>Description</th>\n",
       "      <th>Director</th>\n",
       "      <th>Actors</th>\n",
       "      <th>Year</th>\n",
       "      <th>Runtime (Minutes)</th>\n",
       "      <th>Rating</th>\n",
       "      <th>Votes</th>\n",
       "      <th>Revenue (Millions)</th>\n",
       "      <th>Metascore</th>\n",
       "    </tr>\n",
       "  </thead>\n",
       "  <tbody>\n",
       "    <tr>\n",
       "      <th>0</th>\n",
       "      <td>1</td>\n",
       "      <td>Guardians of the Galaxy</td>\n",
       "      <td>Action,Adventure,Sci-Fi</td>\n",
       "      <td>A group of intergalactic criminals are forced ...</td>\n",
       "      <td>James Gunn</td>\n",
       "      <td>Chris Pratt, Vin Diesel, Bradley Cooper, Zoe S...</td>\n",
       "      <td>2014</td>\n",
       "      <td>121</td>\n",
       "      <td>8.1</td>\n",
       "      <td>757074</td>\n",
       "      <td>333.13</td>\n",
       "      <td>76.0</td>\n",
       "    </tr>\n",
       "    <tr>\n",
       "      <th>1</th>\n",
       "      <td>2</td>\n",
       "      <td>Prometheus</td>\n",
       "      <td>Adventure,Mystery,Sci-Fi</td>\n",
       "      <td>Following clues to the origin of mankind, a te...</td>\n",
       "      <td>Ridley Scott</td>\n",
       "      <td>Noomi Rapace, Logan Marshall-Green, Michael Fa...</td>\n",
       "      <td>2012</td>\n",
       "      <td>124</td>\n",
       "      <td>7.0</td>\n",
       "      <td>485820</td>\n",
       "      <td>126.46</td>\n",
       "      <td>65.0</td>\n",
       "    </tr>\n",
       "    <tr>\n",
       "      <th>2</th>\n",
       "      <td>3</td>\n",
       "      <td>Split</td>\n",
       "      <td>Horror,Thriller</td>\n",
       "      <td>Three girls are kidnapped by a man with a diag...</td>\n",
       "      <td>M. Night Shyamalan</td>\n",
       "      <td>James McAvoy, Anya Taylor-Joy, Haley Lu Richar...</td>\n",
       "      <td>2016</td>\n",
       "      <td>117</td>\n",
       "      <td>7.3</td>\n",
       "      <td>157606</td>\n",
       "      <td>138.12</td>\n",
       "      <td>62.0</td>\n",
       "    </tr>\n",
       "    <tr>\n",
       "      <th>3</th>\n",
       "      <td>4</td>\n",
       "      <td>Sing</td>\n",
       "      <td>Animation,Comedy,Family</td>\n",
       "      <td>In a city of humanoid animals, a hustling thea...</td>\n",
       "      <td>Christophe Lourdelet</td>\n",
       "      <td>Matthew McConaughey,Reese Witherspoon, Seth Ma...</td>\n",
       "      <td>2016</td>\n",
       "      <td>108</td>\n",
       "      <td>7.2</td>\n",
       "      <td>60545</td>\n",
       "      <td>270.32</td>\n",
       "      <td>59.0</td>\n",
       "    </tr>\n",
       "    <tr>\n",
       "      <th>4</th>\n",
       "      <td>5</td>\n",
       "      <td>Suicide Squad</td>\n",
       "      <td>Action,Adventure,Fantasy</td>\n",
       "      <td>A secret government agency recruits some of th...</td>\n",
       "      <td>David Ayer</td>\n",
       "      <td>Will Smith, Jared Leto, Margot Robbie, Viola D...</td>\n",
       "      <td>2016</td>\n",
       "      <td>123</td>\n",
       "      <td>6.2</td>\n",
       "      <td>393727</td>\n",
       "      <td>325.02</td>\n",
       "      <td>40.0</td>\n",
       "    </tr>\n",
       "  </tbody>\n",
       "</table>\n",
       "</div>"
      ],
      "text/plain": [
       "   Rank                    Title                     Genre  \\\n",
       "0     1  Guardians of the Galaxy   Action,Adventure,Sci-Fi   \n",
       "1     2               Prometheus  Adventure,Mystery,Sci-Fi   \n",
       "2     3                    Split           Horror,Thriller   \n",
       "3     4                     Sing   Animation,Comedy,Family   \n",
       "4     5            Suicide Squad  Action,Adventure,Fantasy   \n",
       "\n",
       "                                         Description              Director  \\\n",
       "0  A group of intergalactic criminals are forced ...            James Gunn   \n",
       "1  Following clues to the origin of mankind, a te...          Ridley Scott   \n",
       "2  Three girls are kidnapped by a man with a diag...    M. Night Shyamalan   \n",
       "3  In a city of humanoid animals, a hustling thea...  Christophe Lourdelet   \n",
       "4  A secret government agency recruits some of th...            David Ayer   \n",
       "\n",
       "                                              Actors  Year  Runtime (Minutes)  \\\n",
       "0  Chris Pratt, Vin Diesel, Bradley Cooper, Zoe S...  2014                121   \n",
       "1  Noomi Rapace, Logan Marshall-Green, Michael Fa...  2012                124   \n",
       "2  James McAvoy, Anya Taylor-Joy, Haley Lu Richar...  2016                117   \n",
       "3  Matthew McConaughey,Reese Witherspoon, Seth Ma...  2016                108   \n",
       "4  Will Smith, Jared Leto, Margot Robbie, Viola D...  2016                123   \n",
       "\n",
       "   Rating   Votes  Revenue (Millions)  Metascore  \n",
       "0     8.1  757074              333.13       76.0  \n",
       "1     7.0  485820              126.46       65.0  \n",
       "2     7.3  157606              138.12       62.0  \n",
       "3     7.2   60545              270.32       59.0  \n",
       "4     6.2  393727              325.02       40.0  "
      ]
     },
     "execution_count": 63,
     "metadata": {},
     "output_type": "execute_result"
    }
   ],
   "source": [
    "movies.head()"
   ]
  },
  {
   "cell_type": "code",
   "execution_count": 64,
   "id": "41dd4408",
   "metadata": {
    "ExecuteTime": {
     "end_time": "2023-02-20T19:53:21.479509Z",
     "start_time": "2023-02-20T19:53:21.474850Z"
    }
   },
   "outputs": [
    {
     "data": {
      "text/plain": [
       "Index(['Rank', 'Title', 'Genre', 'Description', 'Director', 'Actors', 'Year',\n",
       "       'Runtime (Minutes)', 'Rating', 'Votes', 'Revenue (Millions)',\n",
       "       'Metascore'],\n",
       "      dtype='object')"
      ]
     },
     "execution_count": 64,
     "metadata": {},
     "output_type": "execute_result"
    }
   ],
   "source": [
    "movies.columns"
   ]
  },
  {
   "cell_type": "code",
   "execution_count": 65,
   "id": "1d2c0f74",
   "metadata": {
    "ExecuteTime": {
     "end_time": "2023-02-20T19:53:21.493361Z",
     "start_time": "2023-02-20T19:53:21.482672Z"
    }
   },
   "outputs": [
    {
     "name": "stdout",
     "output_type": "stream",
     "text": [
      "<class 'pandas.core.frame.DataFrame'>\n",
      "RangeIndex: 1000 entries, 0 to 999\n",
      "Data columns (total 12 columns):\n",
      " #   Column              Non-Null Count  Dtype  \n",
      "---  ------              --------------  -----  \n",
      " 0   Rank                1000 non-null   int64  \n",
      " 1   Title               1000 non-null   object \n",
      " 2   Genre               1000 non-null   object \n",
      " 3   Description         1000 non-null   object \n",
      " 4   Director            1000 non-null   object \n",
      " 5   Actors              1000 non-null   object \n",
      " 6   Year                1000 non-null   int64  \n",
      " 7   Runtime (Minutes)   1000 non-null   int64  \n",
      " 8   Rating              1000 non-null   float64\n",
      " 9   Votes               1000 non-null   int64  \n",
      " 10  Revenue (Millions)  872 non-null    float64\n",
      " 11  Metascore           936 non-null    float64\n",
      "dtypes: float64(3), int64(4), object(5)\n",
      "memory usage: 93.9+ KB\n"
     ]
    }
   ],
   "source": [
    "movies.info()"
   ]
  },
  {
   "cell_type": "markdown",
   "id": "c2ccc9b5",
   "metadata": {},
   "source": [
    "## Select a continuous and a categorical variable \n",
    "from the movie dataset and discuss the variable type of this variable. Discuss further in detail the type of selected continuous and categorical variables.\n",
    "\n",
    "Ratings -- Continous Ratio which has a starting point and the distance is meaingful ( Higher vlaues means the movies is regarded better than movies with a lower value rating).  Also rating has a staring point which is probably 0.\n",
    "\n",
    "Genre -- Category Nominal since it is a list that has no order\n",
    "\n"
   ]
  },
  {
   "cell_type": "markdown",
   "id": "468a5e5d",
   "metadata": {},
   "source": [
    "## Categorize a variable of your choice and assign a name to it\n",
    "Count the number of rows for each category"
   ]
  },
  {
   "cell_type": "code",
   "execution_count": 66,
   "id": "6f80002e",
   "metadata": {
    "ExecuteTime": {
     "end_time": "2023-02-20T19:53:21.639683Z",
     "start_time": "2023-02-20T19:53:21.495349Z"
    }
   },
   "outputs": [
    {
     "data": {
      "text/plain": [
       "<AxesSubplot:ylabel='Frequency'>"
      ]
     },
     "execution_count": 66,
     "metadata": {},
     "output_type": "execute_result"
    },
    {
     "data": {
      "image/png": "[encoded data removed]",
      "text/plain": [
       "<Figure size 640x480 with 1 Axes>"
      ]
     },
     "metadata": {},
     "output_type": "display_data"
    }
   ],
   "source": [
    "# Look at the histogram to get an idea of the range of value so a \n",
    "# catorgize function can be created.\n",
    "movies[\"Runtime (Minutes)\"].plot.hist(bins=3)"
   ]
  },
  {
   "cell_type": "code",
   "execution_count": 67,
   "id": "fc20c99f",
   "metadata": {
    "ExecuteTime": {
     "end_time": "2023-02-20T19:53:21.656176Z",
     "start_time": "2023-02-20T19:53:21.641924Z"
    }
   },
   "outputs": [],
   "source": [
    "# Create a new field that is the categorical \n",
    "# expression of Runtime (Minutes) column\n",
    "def categorize(runtime):\n",
    "    '''Convert the length of a movie to short/medium/long '''\n",
    "    result = None\n",
    "    if runtime <= 75:\n",
    "        result = \"short\"\n",
    "    elif runtime <= 120:\n",
    "        result = \"medium\"\n",
    "    else:\n",
    "        result = \"long\"\n",
    "    return result\n",
    "\n",
    "movies[\"time_length_category\"] = \\\n",
    "    movies[\"Runtime (Minutes)\"].apply(categorize)\n",
    "    \n",
    "\n",
    "        "
   ]
  },
  {
   "cell_type": "code",
   "execution_count": 68,
   "id": "0eea1e49",
   "metadata": {
    "ExecuteTime": {
     "end_time": "2023-02-20T19:53:21.682782Z",
     "start_time": "2023-02-20T19:53:21.658198Z"
    }
   },
   "outputs": [
    {
     "data": {
      "text/html": [
       "<div>\n",
       "<style scoped>\n",
       "    .dataframe tbody tr th:only-of-type {\n",
       "        vertical-align: middle;\n",
       "    }\n",
       "\n",
       "    .dataframe tbody tr th {\n",
       "        vertical-align: top;\n",
       "    }\n",
       "\n",
       "    .dataframe thead th {\n",
       "        text-align: right;\n",
       "    }\n",
       "</style>\n",
       "<table border=\"1\" class=\"dataframe\">\n",
       "  <thead>\n",
       "    <tr style=\"text-align: right;\">\n",
       "      <th></th>\n",
       "      <th>Title</th>\n",
       "      <th>Genre</th>\n",
       "      <th>Description</th>\n",
       "      <th>Director</th>\n",
       "      <th>Actors</th>\n",
       "      <th>time_length_category</th>\n",
       "    </tr>\n",
       "  </thead>\n",
       "  <tbody>\n",
       "    <tr>\n",
       "      <th>count</th>\n",
       "      <td>1000</td>\n",
       "      <td>1000</td>\n",
       "      <td>1000</td>\n",
       "      <td>1000</td>\n",
       "      <td>1000</td>\n",
       "      <td>1000</td>\n",
       "    </tr>\n",
       "    <tr>\n",
       "      <th>unique</th>\n",
       "      <td>999</td>\n",
       "      <td>207</td>\n",
       "      <td>1000</td>\n",
       "      <td>644</td>\n",
       "      <td>996</td>\n",
       "      <td>3</td>\n",
       "    </tr>\n",
       "    <tr>\n",
       "      <th>top</th>\n",
       "      <td>The Host</td>\n",
       "      <td>Action,Adventure,Sci-Fi</td>\n",
       "      <td>A group of intergalactic criminals are forced ...</td>\n",
       "      <td>Ridley Scott</td>\n",
       "      <td>Jennifer Lawrence, Josh Hutcherson, Liam Hemsw...</td>\n",
       "      <td>medium</td>\n",
       "    </tr>\n",
       "    <tr>\n",
       "      <th>freq</th>\n",
       "      <td>2</td>\n",
       "      <td>50</td>\n",
       "      <td>1</td>\n",
       "      <td>8</td>\n",
       "      <td>2</td>\n",
       "      <td>708</td>\n",
       "    </tr>\n",
       "  </tbody>\n",
       "</table>\n",
       "</div>"
      ],
      "text/plain": [
       "           Title                    Genre  \\\n",
       "count       1000                     1000   \n",
       "unique       999                      207   \n",
       "top     The Host  Action,Adventure,Sci-Fi   \n",
       "freq           2                       50   \n",
       "\n",
       "                                              Description      Director  \\\n",
       "count                                                1000          1000   \n",
       "unique                                               1000           644   \n",
       "top     A group of intergalactic criminals are forced ...  Ridley Scott   \n",
       "freq                                                    1             8   \n",
       "\n",
       "                                                   Actors time_length_category  \n",
       "count                                                1000                 1000  \n",
       "unique                                                996                    3  \n",
       "top     Jennifer Lawrence, Josh Hutcherson, Liam Hemsw...               medium  \n",
       "freq                                                    2                  708  "
      ]
     },
     "execution_count": 68,
     "metadata": {},
     "output_type": "execute_result"
    }
   ],
   "source": [
    "movies.describe(include=['O'])"
   ]
  },
  {
   "cell_type": "markdown",
   "id": "dfee299d",
   "metadata": {
    "ExecuteTime": {
     "end_time": "2023-02-20T19:53:21.691670Z",
     "start_time": "2023-02-20T19:53:21.686448Z"
    }
   },
   "source": [
    "## While continuous data is generally preferred over discrete data, \n",
    "\n",
    "please indicate circumstances where discrete is the preferred data type although continuous data is available for the same characteristic.\n",
    "\n",
    "Discrete data would be used when items are being put into groups such as inventory wher you cannot have 1.5 items usually.\n",
    "\n",
    "Continous -- Anywhere a line or curve could be used and the value \n",
    "could be a decimal  An example would be a graph that plotted \n",
    "number on miles on one axis and the how much such left in the tank.\n",
    "Even an 1.5 miles you could get the number of gallons left in tank."
   ]
  },
  {
   "cell_type": "markdown",
   "id": "3b3356dc",
   "metadata": {},
   "source": [
    "## Is it possible to convert categorical variable into numerical one? If so, how can you make that?\n",
    "\n",
    "Yes for each categorical string return an integer instead."
   ]
  },
  {
   "cell_type": "markdown",
   "id": "c4f8af0f",
   "metadata": {
    "ExecuteTime": {
     "end_time": "2023-03-05T16:03:15.214931Z",
     "start_time": "2023-03-05T16:03:15.210083Z"
    }
   },
   "source": [
    "## While continuous data is measured and attribute data is counted, \n",
    "\n",
    "there is sometimes confusion if some specific dataset should be \n",
    "considered continuous or attribute. Provide some examples of \n",
    "confusing datasets and your inference.\n",
    "\n",
    "I have searched the internet and can think of answer or provide one."
   ]
  }
 ],
 "metadata": {
  "kernelspec": {
   "display_name": "Python 3 (ipykernel)",
   "language": "python",
   "name": "python3"
  },
  "language_info": {
   "codemirror_mode": {
    "name": "ipython",
    "version": 3
   },
   "file_extension": ".py",
   "mimetype": "text/x-python",
   "name": "python",
   "nbconvert_exporter": "python",
   "pygments_lexer": "ipython3",
   "version": "3.9.13"
  },
  "toc": {
   "base_numbering": 1,
   "nav_menu": {},
   "number_sections": true,
   "sideBar": true,
   "skip_h1_title": false,
   "title_cell": "Table of Contents",
   "title_sidebar": "Contents",
   "toc_cell": false,
   "toc_position": {},
   "toc_section_display": true,
   "toc_window_display": false
  }
 },
 "nbformat": 4,
 "nbformat_minor": 5
}
