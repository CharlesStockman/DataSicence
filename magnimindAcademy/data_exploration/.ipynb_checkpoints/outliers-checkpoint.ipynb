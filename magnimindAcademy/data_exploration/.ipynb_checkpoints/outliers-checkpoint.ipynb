{
 "cells": [
  {
   "cell_type": "markdown",
   "id": "5a5b191d",
   "metadata": {},
   "source": [
    "In this assignment, you'll continue working with the U.S. Education Dataset from Kaggle. The data gives detailed state-level information on several facets of education on an annual basis. To learn more about the data and the column descriptions, you can view the Kaggle link above.\n",
    "\n",
    "Don't forget to apply the most suitable missing-value-filling techniques from the previous checkpoint to the data. Provide the answers to the following only after you've addressed missing values!\n",
    "\n",
    "To complete this assignment, submit a link to a Jupyter Notebook containing your solutions to the following tasks:\n",
    "\n",
    "1. Consider the two variables: TOTAL_REVENUE and TOTAL_EXPENDITURE. Do these variables have outlier values?\n",
    "\n",
    "2. If you detect outliers in the TOTAL_REVENUE and TOTAL_EXPENDITURE variables, apply the techniques you learned in this checkpoint to eliminate them and validate that there are no outlier values after you handled them.\n",
    "\n",
    "3. Create another variable by subtracting the original TOTAL_EXPENDITURE from TOTAL_REVENUE (before you eliminated the outliers). You can think of it as a kind of budget deficit in education. Do you find any outlier values in this new variable? If so, eliminate them using the technique that think is most suitable.\n",
    "\n",
    "4. Now create another variable by subtracting the TOTAL_EXPENDITURE from TOTAL_REVENUE. This time, use the outlier eliminated versions of TOTAL_EXPENDITURE from TOTAL_REVENUE. In this newly created variable, can you find any outliers? If so, eliminate them.\n",
    "\n",
    "5. Compare some basic descriptive statistics of the budget variables you end up with in the third and the fourth questions. Do you see any differences?\n",
    "\n",
    "6. If your variable of interest is the budget deficit variable, which method do you think is the most appropriate in dealing with the outliers in this variable: the method in the third question or the one in the fourth question?\n",
    "\n",
    "*Please add the URL of the assignments you uploaded to Github to the Online Text section."
   ]
  },
  {
   "cell_type": "code",
   "execution_count": 1,
   "id": "4cac3676",
   "metadata": {
    "ExecuteTime": {
     "end_time": "2023-03-31T23:15:35.743002Z",
     "start_time": "2023-03-31T23:15:30.895489Z"
    }
   },
   "outputs": [],
   "source": [
    "import pandas as pd\n",
    "from scipy.stats.mstats import winsorize\n",
    "import matplotlib.pyplot as plt\n",
    "import numpy as np"
   ]
  },
  {
   "cell_type": "code",
   "execution_count": 2,
   "id": "e5ff8931",
   "metadata": {
    "ExecuteTime": {
     "end_time": "2023-03-31T23:15:35.749931Z",
     "start_time": "2023-03-31T23:15:35.746328Z"
    }
   },
   "outputs": [],
   "source": [
    "## Load the data from the file.  We should crete a data_fram showing\n",
    "## the columns that we have an interest in.  Also provide some info\n",
    "## about those problems"
   ]
  },
  {
   "cell_type": "code",
   "execution_count": 3,
   "id": "0ca0b87f",
   "metadata": {
    "ExecuteTime": {
     "end_time": "2023-03-31T23:15:35.801054Z",
     "start_time": "2023-03-31T23:15:35.754338Z"
    }
   },
   "outputs": [],
   "source": [
    "data_frame_1 = pd.read_csv(\"states_all_clean.csv\")"
   ]
  },
  {
   "cell_type": "code",
   "execution_count": 4,
   "id": "37904436",
   "metadata": {
    "ExecuteTime": {
     "end_time": "2023-03-31T23:15:35.843118Z",
     "start_time": "2023-03-31T23:15:35.804752Z"
    }
   },
   "outputs": [
    {
     "data": {
      "text/html": [
       "<div>\n",
       "<style scoped>\n",
       "    .dataframe tbody tr th:only-of-type {\n",
       "        vertical-align: middle;\n",
       "    }\n",
       "\n",
       "    .dataframe tbody tr th {\n",
       "        vertical-align: top;\n",
       "    }\n",
       "\n",
       "    .dataframe thead th {\n",
       "        text-align: right;\n",
       "    }\n",
       "</style>\n",
       "<table border=\"1\" class=\"dataframe\">\n",
       "  <thead>\n",
       "    <tr style=\"text-align: right;\">\n",
       "      <th></th>\n",
       "      <th>PRIMARY_KEY</th>\n",
       "      <th>STATE</th>\n",
       "      <th>YEAR</th>\n",
       "      <th>ENROLL</th>\n",
       "      <th>TOTAL_REVENUE</th>\n",
       "      <th>FEDERAL_REVENUE</th>\n",
       "      <th>STATE_REVENUE</th>\n",
       "      <th>LOCAL_REVENUE</th>\n",
       "      <th>TOTAL_EXPENDITURE</th>\n",
       "      <th>INSTRUCTION_EXPENDITURE</th>\n",
       "      <th>...</th>\n",
       "      <th>GRADES_4_G</th>\n",
       "      <th>GRADES_8_G</th>\n",
       "      <th>GRADES_12_G</th>\n",
       "      <th>GRADES_1_8_G</th>\n",
       "      <th>GRADES_9_12_G</th>\n",
       "      <th>GRADES_ALL_G</th>\n",
       "      <th>AVG_MATH_4_SCORE</th>\n",
       "      <th>AVG_MATH_8_SCORE</th>\n",
       "      <th>AVG_READING_4_SCORE</th>\n",
       "      <th>AVG_READING_8_SCORE</th>\n",
       "    </tr>\n",
       "  </thead>\n",
       "  <tbody>\n",
       "    <tr>\n",
       "      <th>0</th>\n",
       "      <td>1992_ALABAMA</td>\n",
       "      <td>ALABAMA</td>\n",
       "      <td>1992</td>\n",
       "      <td>649933.5</td>\n",
       "      <td>2678885.0</td>\n",
       "      <td>304177.0</td>\n",
       "      <td>1659028.0</td>\n",
       "      <td>715680.0</td>\n",
       "      <td>2653798.0</td>\n",
       "      <td>1481703.0</td>\n",
       "      <td>...</td>\n",
       "      <td>57948.0</td>\n",
       "      <td>58025.0</td>\n",
       "      <td>41167.0</td>\n",
       "      <td>405111.5</td>\n",
       "      <td>186919.0</td>\n",
       "      <td>731634.0</td>\n",
       "      <td>208.0</td>\n",
       "      <td>252.0</td>\n",
       "      <td>207.0</td>\n",
       "      <td>265.0</td>\n",
       "    </tr>\n",
       "    <tr>\n",
       "      <th>1</th>\n",
       "      <td>1992_ALASKA</td>\n",
       "      <td>ALASKA</td>\n",
       "      <td>1992</td>\n",
       "      <td>649933.5</td>\n",
       "      <td>1049591.0</td>\n",
       "      <td>106780.0</td>\n",
       "      <td>720711.0</td>\n",
       "      <td>222100.0</td>\n",
       "      <td>972488.0</td>\n",
       "      <td>498362.0</td>\n",
       "      <td>...</td>\n",
       "      <td>9748.0</td>\n",
       "      <td>8789.0</td>\n",
       "      <td>6714.0</td>\n",
       "      <td>405111.5</td>\n",
       "      <td>186919.0</td>\n",
       "      <td>122487.0</td>\n",
       "      <td>238.0</td>\n",
       "      <td>280.5</td>\n",
       "      <td>220.0</td>\n",
       "      <td>265.0</td>\n",
       "    </tr>\n",
       "    <tr>\n",
       "      <th>2</th>\n",
       "      <td>1992_ARIZONA</td>\n",
       "      <td>ARIZONA</td>\n",
       "      <td>1992</td>\n",
       "      <td>649933.5</td>\n",
       "      <td>3258079.0</td>\n",
       "      <td>297888.0</td>\n",
       "      <td>1369815.0</td>\n",
       "      <td>1590376.0</td>\n",
       "      <td>3401580.0</td>\n",
       "      <td>1435908.0</td>\n",
       "      <td>...</td>\n",
       "      <td>55433.0</td>\n",
       "      <td>49081.0</td>\n",
       "      <td>37410.0</td>\n",
       "      <td>405111.5</td>\n",
       "      <td>186919.0</td>\n",
       "      <td>673477.0</td>\n",
       "      <td>215.0</td>\n",
       "      <td>265.0</td>\n",
       "      <td>209.0</td>\n",
       "      <td>265.0</td>\n",
       "    </tr>\n",
       "    <tr>\n",
       "      <th>3</th>\n",
       "      <td>1992_ARKANSAS</td>\n",
       "      <td>ARKANSAS</td>\n",
       "      <td>1992</td>\n",
       "      <td>649933.5</td>\n",
       "      <td>1711959.0</td>\n",
       "      <td>178571.0</td>\n",
       "      <td>958785.0</td>\n",
       "      <td>574603.0</td>\n",
       "      <td>1743022.0</td>\n",
       "      <td>964323.0</td>\n",
       "      <td>...</td>\n",
       "      <td>34632.0</td>\n",
       "      <td>36011.0</td>\n",
       "      <td>27651.0</td>\n",
       "      <td>405111.5</td>\n",
       "      <td>186919.0</td>\n",
       "      <td>441490.0</td>\n",
       "      <td>210.0</td>\n",
       "      <td>256.0</td>\n",
       "      <td>211.0</td>\n",
       "      <td>265.0</td>\n",
       "    </tr>\n",
       "    <tr>\n",
       "      <th>4</th>\n",
       "      <td>1992_CALIFORNIA</td>\n",
       "      <td>CALIFORNIA</td>\n",
       "      <td>1992</td>\n",
       "      <td>649933.5</td>\n",
       "      <td>26260025.0</td>\n",
       "      <td>2072470.0</td>\n",
       "      <td>16546514.0</td>\n",
       "      <td>7641041.0</td>\n",
       "      <td>27138832.0</td>\n",
       "      <td>14358922.0</td>\n",
       "      <td>...</td>\n",
       "      <td>418418.0</td>\n",
       "      <td>363296.0</td>\n",
       "      <td>270675.0</td>\n",
       "      <td>405111.5</td>\n",
       "      <td>186919.0</td>\n",
       "      <td>5254844.0</td>\n",
       "      <td>208.0</td>\n",
       "      <td>261.0</td>\n",
       "      <td>202.0</td>\n",
       "      <td>265.0</td>\n",
       "    </tr>\n",
       "  </tbody>\n",
       "</table>\n",
       "<p>5 rows × 25 columns</p>\n",
       "</div>"
      ],
      "text/plain": [
       "       PRIMARY_KEY       STATE  YEAR    ENROLL  TOTAL_REVENUE  \\\n",
       "0     1992_ALABAMA     ALABAMA  1992  649933.5      2678885.0   \n",
       "1      1992_ALASKA      ALASKA  1992  649933.5      1049591.0   \n",
       "2     1992_ARIZONA     ARIZONA  1992  649933.5      3258079.0   \n",
       "3    1992_ARKANSAS    ARKANSAS  1992  649933.5      1711959.0   \n",
       "4  1992_CALIFORNIA  CALIFORNIA  1992  649933.5     26260025.0   \n",
       "\n",
       "   FEDERAL_REVENUE  STATE_REVENUE  LOCAL_REVENUE  TOTAL_EXPENDITURE  \\\n",
       "0         304177.0      1659028.0       715680.0          2653798.0   \n",
       "1         106780.0       720711.0       222100.0           972488.0   \n",
       "2         297888.0      1369815.0      1590376.0          3401580.0   \n",
       "3         178571.0       958785.0       574603.0          1743022.0   \n",
       "4        2072470.0     16546514.0      7641041.0         27138832.0   \n",
       "\n",
       "   INSTRUCTION_EXPENDITURE  ...  GRADES_4_G  GRADES_8_G  GRADES_12_G  \\\n",
       "0                1481703.0  ...     57948.0     58025.0      41167.0   \n",
       "1                 498362.0  ...      9748.0      8789.0       6714.0   \n",
       "2                1435908.0  ...     55433.0     49081.0      37410.0   \n",
       "3                 964323.0  ...     34632.0     36011.0      27651.0   \n",
       "4               14358922.0  ...    418418.0    363296.0     270675.0   \n",
       "\n",
       "   GRADES_1_8_G  GRADES_9_12_G  GRADES_ALL_G  AVG_MATH_4_SCORE  \\\n",
       "0      405111.5       186919.0      731634.0             208.0   \n",
       "1      405111.5       186919.0      122487.0             238.0   \n",
       "2      405111.5       186919.0      673477.0             215.0   \n",
       "3      405111.5       186919.0      441490.0             210.0   \n",
       "4      405111.5       186919.0     5254844.0             208.0   \n",
       "\n",
       "   AVG_MATH_8_SCORE  AVG_READING_4_SCORE  AVG_READING_8_SCORE  \n",
       "0             252.0                207.0                265.0  \n",
       "1             280.5                220.0                265.0  \n",
       "2             265.0                209.0                265.0  \n",
       "3             256.0                211.0                265.0  \n",
       "4             261.0                202.0                265.0  \n",
       "\n",
       "[5 rows x 25 columns]"
      ]
     },
     "execution_count": 4,
     "metadata": {},
     "output_type": "execute_result"
    }
   ],
   "source": [
    "data_frame_1.head()"
   ]
  },
  {
   "cell_type": "code",
   "execution_count": 5,
   "id": "ed880cb0",
   "metadata": {
    "ExecuteTime": {
     "end_time": "2023-03-31T23:15:35.867296Z",
     "start_time": "2023-03-31T23:15:35.845377Z"
    }
   },
   "outputs": [
    {
     "data": {
      "text/html": [
       "<div>\n",
       "<style scoped>\n",
       "    .dataframe tbody tr th:only-of-type {\n",
       "        vertical-align: middle;\n",
       "    }\n",
       "\n",
       "    .dataframe tbody tr th {\n",
       "        vertical-align: top;\n",
       "    }\n",
       "\n",
       "    .dataframe thead th {\n",
       "        text-align: right;\n",
       "    }\n",
       "</style>\n",
       "<table border=\"1\" class=\"dataframe\">\n",
       "  <thead>\n",
       "    <tr style=\"text-align: right;\">\n",
       "      <th></th>\n",
       "      <th>PRIMARY_KEY</th>\n",
       "      <th>STATE</th>\n",
       "      <th>YEAR</th>\n",
       "      <th>TOTAL_REVENUE</th>\n",
       "      <th>TOTAL_EXPENDITURE</th>\n",
       "    </tr>\n",
       "  </thead>\n",
       "  <tbody>\n",
       "    <tr>\n",
       "      <th>0</th>\n",
       "      <td>1992_ALABAMA</td>\n",
       "      <td>ALABAMA</td>\n",
       "      <td>1992</td>\n",
       "      <td>2678885.0</td>\n",
       "      <td>2653798.0</td>\n",
       "    </tr>\n",
       "    <tr>\n",
       "      <th>1</th>\n",
       "      <td>1992_ALASKA</td>\n",
       "      <td>ALASKA</td>\n",
       "      <td>1992</td>\n",
       "      <td>1049591.0</td>\n",
       "      <td>972488.0</td>\n",
       "    </tr>\n",
       "    <tr>\n",
       "      <th>2</th>\n",
       "      <td>1992_ARIZONA</td>\n",
       "      <td>ARIZONA</td>\n",
       "      <td>1992</td>\n",
       "      <td>3258079.0</td>\n",
       "      <td>3401580.0</td>\n",
       "    </tr>\n",
       "    <tr>\n",
       "      <th>3</th>\n",
       "      <td>1992_ARKANSAS</td>\n",
       "      <td>ARKANSAS</td>\n",
       "      <td>1992</td>\n",
       "      <td>1711959.0</td>\n",
       "      <td>1743022.0</td>\n",
       "    </tr>\n",
       "    <tr>\n",
       "      <th>4</th>\n",
       "      <td>1992_CALIFORNIA</td>\n",
       "      <td>CALIFORNIA</td>\n",
       "      <td>1992</td>\n",
       "      <td>26260025.0</td>\n",
       "      <td>27138832.0</td>\n",
       "    </tr>\n",
       "  </tbody>\n",
       "</table>\n",
       "</div>"
      ],
      "text/plain": [
       "       PRIMARY_KEY       STATE  YEAR  TOTAL_REVENUE  TOTAL_EXPENDITURE\n",
       "0     1992_ALABAMA     ALABAMA  1992      2678885.0          2653798.0\n",
       "1      1992_ALASKA      ALASKA  1992      1049591.0           972488.0\n",
       "2     1992_ARIZONA     ARIZONA  1992      3258079.0          3401580.0\n",
       "3    1992_ARKANSAS    ARKANSAS  1992      1711959.0          1743022.0\n",
       "4  1992_CALIFORNIA  CALIFORNIA  1992     26260025.0         27138832.0"
      ]
     },
     "execution_count": 5,
     "metadata": {},
     "output_type": "execute_result"
    }
   ],
   "source": [
    "data_frame_2 = data_frame_1[[ \"PRIMARY_KEY\", \"STATE\", \"YEAR\", \"TOTAL_REVENUE\", \"TOTAL_EXPENDITURE\"]].copy()\n",
    "data_frame_2.head()"
   ]
  },
  {
   "cell_type": "code",
   "execution_count": 6,
   "id": "a044ebd3",
   "metadata": {
    "ExecuteTime": {
     "end_time": "2023-03-31T23:15:35.883422Z",
     "start_time": "2023-03-31T23:15:35.869560Z"
    }
   },
   "outputs": [
    {
     "name": "stdout",
     "output_type": "stream",
     "text": [
      "<class 'pandas.core.frame.DataFrame'>\n",
      "RangeIndex: 1715 entries, 0 to 1714\n",
      "Data columns (total 5 columns):\n",
      " #   Column             Non-Null Count  Dtype  \n",
      "---  ------             --------------  -----  \n",
      " 0   PRIMARY_KEY        1715 non-null   object \n",
      " 1   STATE              1715 non-null   object \n",
      " 2   YEAR               1715 non-null   int64  \n",
      " 3   TOTAL_REVENUE      1715 non-null   float64\n",
      " 4   TOTAL_EXPENDITURE  1715 non-null   float64\n",
      "dtypes: float64(2), int64(1), object(2)\n",
      "memory usage: 67.1+ KB\n"
     ]
    }
   ],
   "source": [
    "data_frame_2.info()"
   ]
  },
  {
   "cell_type": "code",
   "execution_count": 7,
   "id": "f4afdcc9",
   "metadata": {
    "ExecuteTime": {
     "end_time": "2023-03-31T23:15:35.911590Z",
     "start_time": "2023-03-31T23:15:35.887888Z"
    }
   },
   "outputs": [
    {
     "data": {
      "text/html": [
       "<div>\n",
       "<style scoped>\n",
       "    .dataframe tbody tr th:only-of-type {\n",
       "        vertical-align: middle;\n",
       "    }\n",
       "\n",
       "    .dataframe tbody tr th {\n",
       "        vertical-align: top;\n",
       "    }\n",
       "\n",
       "    .dataframe thead th {\n",
       "        text-align: right;\n",
       "    }\n",
       "</style>\n",
       "<table border=\"1\" class=\"dataframe\">\n",
       "  <thead>\n",
       "    <tr style=\"text-align: right;\">\n",
       "      <th></th>\n",
       "      <th>YEAR</th>\n",
       "      <th>TOTAL_REVENUE</th>\n",
       "      <th>TOTAL_EXPENDITURE</th>\n",
       "    </tr>\n",
       "  </thead>\n",
       "  <tbody>\n",
       "    <tr>\n",
       "      <th>count</th>\n",
       "      <td>1715.000000</td>\n",
       "      <td>1.715000e+03</td>\n",
       "      <td>1.715000e+03</td>\n",
       "    </tr>\n",
       "    <tr>\n",
       "      <th>mean</th>\n",
       "      <td>2002.075219</td>\n",
       "      <td>8.071645e+06</td>\n",
       "      <td>8.189349e+06</td>\n",
       "    </tr>\n",
       "    <tr>\n",
       "      <th>std</th>\n",
       "      <td>9.568621</td>\n",
       "      <td>1.028917e+07</td>\n",
       "      <td>1.048349e+07</td>\n",
       "    </tr>\n",
       "    <tr>\n",
       "      <th>min</th>\n",
       "      <td>1986.000000</td>\n",
       "      <td>4.656500e+05</td>\n",
       "      <td>4.816650e+05</td>\n",
       "    </tr>\n",
       "    <tr>\n",
       "      <th>25%</th>\n",
       "      <td>1994.000000</td>\n",
       "      <td>2.992297e+06</td>\n",
       "      <td>3.004448e+06</td>\n",
       "    </tr>\n",
       "    <tr>\n",
       "      <th>50%</th>\n",
       "      <td>2002.000000</td>\n",
       "      <td>5.085826e+06</td>\n",
       "      <td>5.242672e+06</td>\n",
       "    </tr>\n",
       "    <tr>\n",
       "      <th>75%</th>\n",
       "      <td>2010.000000</td>\n",
       "      <td>8.165744e+06</td>\n",
       "      <td>8.220253e+06</td>\n",
       "    </tr>\n",
       "    <tr>\n",
       "      <th>max</th>\n",
       "      <td>2019.000000</td>\n",
       "      <td>8.921726e+07</td>\n",
       "      <td>8.532013e+07</td>\n",
       "    </tr>\n",
       "  </tbody>\n",
       "</table>\n",
       "</div>"
      ],
      "text/plain": [
       "              YEAR  TOTAL_REVENUE  TOTAL_EXPENDITURE\n",
       "count  1715.000000   1.715000e+03       1.715000e+03\n",
       "mean   2002.075219   8.071645e+06       8.189349e+06\n",
       "std       9.568621   1.028917e+07       1.048349e+07\n",
       "min    1986.000000   4.656500e+05       4.816650e+05\n",
       "25%    1994.000000   2.992297e+06       3.004448e+06\n",
       "50%    2002.000000   5.085826e+06       5.242672e+06\n",
       "75%    2010.000000   8.165744e+06       8.220253e+06\n",
       "max    2019.000000   8.921726e+07       8.532013e+07"
      ]
     },
     "execution_count": 7,
     "metadata": {},
     "output_type": "execute_result"
    }
   ],
   "source": [
    "data_frame_2.describe()"
   ]
  },
  {
   "cell_type": "code",
   "execution_count": 8,
   "id": "9be740ac",
   "metadata": {
    "ExecuteTime": {
     "end_time": "2023-03-31T23:15:35.923760Z",
     "start_time": "2023-03-31T23:15:35.915751Z"
    }
   },
   "outputs": [
    {
     "name": "stdout",
     "output_type": "stream",
     "text": [
      "Number of missing values --  0\n"
     ]
    }
   ],
   "source": [
    "#\n",
    "# Verify there are no missing values\n",
    "#\n",
    "print(\"Number of missing values -- \",data_frame_2.isna().sum().sum())"
   ]
  },
  {
   "cell_type": "code",
   "execution_count": 9,
   "id": "a9fa64d6",
   "metadata": {
    "ExecuteTime": {
     "end_time": "2023-03-31T23:15:35.932168Z",
     "start_time": "2023-03-31T23:15:35.926381Z"
    }
   },
   "outputs": [
    {
     "name": "stdout",
     "output_type": "stream",
     "text": [
      "Object `values` not found.\n"
     ]
    }
   ],
   "source": [
    "# Consider the two variables: TOTAL_REVENUE and TOTAL_EXPENDITURE. \n",
    "Do these variables have outlier values?"
   ]
  },
  {
   "cell_type": "code",
   "execution_count": 10,
   "id": "b3b20abc",
   "metadata": {
    "ExecuteTime": {
     "end_time": "2023-03-31T23:15:36.209537Z",
     "start_time": "2023-03-31T23:15:35.939693Z"
    }
   },
   "outputs": [
    {
     "data": {
      "text/plain": [
       "Text(0.5, 1.0, 'histogram show the outliers')"
      ]
     },
     "execution_count": 10,
     "metadata": {},
     "output_type": "execute_result"
    },
    {
     "data": {
      "image/png": "[encoded data removed]",
      "text/plain": [
       "<Figure size 640x480 with 1 Axes>"
      ]
     },
     "metadata": {},
     "output_type": "display_data"
    }
   ],
   "source": [
    "ax = data_frame_2[\"TOTAL_REVENUE\"].plot.hist(bins=26)\n",
    "ax.set_title(\"histogram show the outliers\")"
   ]
  },
  {
   "cell_type": "code",
   "execution_count": 11,
   "id": "34f37bc3",
   "metadata": {
    "ExecuteTime": {
     "end_time": "2023-03-31T23:15:36.386213Z",
     "start_time": "2023-03-31T23:15:36.213846Z"
    }
   },
   "outputs": [
    {
     "data": {
      "text/plain": [
       "Text(0.5, 1.0, 'boxplot show the outliers')"
      ]
     },
     "execution_count": 11,
     "metadata": {},
     "output_type": "execute_result"
    },
    {
     "data": {
      "image/png": "[encoded data removed]",
      "text/plain": [
       "<Figure size 640x480 with 1 Axes>"
      ]
     },
     "metadata": {},
     "output_type": "display_data"
    }
   ],
   "source": [
    "# Box plot showing the outliers\n",
    "ax = data_frame_2[\"TOTAL_REVENUE\"].plot.box()\n",
    "ax.set_title(\"boxplot show the outliers\")"
   ]
  },
  {
   "cell_type": "code",
   "execution_count": 12,
   "id": "48b0c9fe",
   "metadata": {
    "ExecuteTime": {
     "end_time": "2023-03-31T23:15:36.394162Z",
     "start_time": "2023-03-31T23:15:36.388559Z"
    }
   },
   "outputs": [
    {
     "data": {
      "text/plain": [
       "10289171.151097354"
      ]
     },
     "execution_count": 12,
     "metadata": {},
     "output_type": "execute_result"
    }
   ],
   "source": [
    "data_frame_2[\"TOTAL_REVENUE\"].std()"
   ]
  },
  {
   "cell_type": "markdown",
   "id": "fdbbce2e",
   "metadata": {
    "ExecuteTime": {
     "end_time": "2023-03-02T20:54:50.465876Z",
     "start_time": "2023-03-02T20:54:50.463355Z"
    }
   },
   "source": [
    "## Find the outliers"
   ]
  },
  {
   "cell_type": "code",
   "execution_count": 13,
   "id": "c165fb97",
   "metadata": {
    "ExecuteTime": {
     "end_time": "2023-03-31T23:15:36.407028Z",
     "start_time": "2023-03-31T23:15:36.397239Z"
    }
   },
   "outputs": [],
   "source": [
    "# could have used zscore which is based on mean, IRQ based on median\n",
    "\n",
    "def find_outliers_IRG(data_frame, Column):\n",
    "    '''\n",
    "        find the outliers on the whisker plot\n",
    "        input : the column to check for outliers\n",
    "        output: The outliers below the quartile 1 and quartile 3\n",
    "    '''\n",
    "    column = data_frame[Column]\n",
    "    q1 = column.quantile(.25)\n",
    "    q3 = column.quantile(.75)\n",
    "    IQR = q3 - q1\n",
    "    lower = q1 - 1.5 * IQR\n",
    "    upper = q3 + 1.5 * IQR\n",
    "    \n",
    "    print(\"The lower and upper bounds are: \", lower, upper)\n",
    "    \n",
    "    min_outliers = column[ column < lower ]\n",
    "    max_outliers = column[ column >= upper ]\n",
    "    return (min_outliers, max_outliers)\n",
    "\n",
    "def show_outlier_irq(data_frame, Column, label):\n",
    "    '''\n",
    "        Calculates the outlier will print 2 sections\n",
    "            1. outliers below quartile 1 will print the \n",
    "               min/max for that set of outliers\n",
    "            2. ourliers above quartile 3 will print the \n",
    "               min/max for that set of outliers\n",
    "         Any section without values will display something.\n",
    "    '''\n",
    "    (min_outliers, max_outliers) = find_outliers_IRG(data_frame, Column)\n",
    "    print(\"--- \" + label)\n",
    "    print(\"The number of outliers is \", len(min_outliers) + len(max_outliers))\n",
    "    if ( len(max_outliers) != 0):\n",
    "        print(\"The max outlier is \", max(max_outliers))\n",
    "        print(\"The min of the max outlier is \", min(max_outliers))\n",
    "    \n",
    "    if len(min_outliers) != 0:\n",
    "        print(\"The min outlier is \", min(min_outliers))\n",
    "        print(\"The max of the min outlier is \", min(min_outliers))\n",
    "\n"
   ]
  },
  {
   "cell_type": "code",
   "execution_count": 14,
   "id": "75d10f1f",
   "metadata": {
    "ExecuteTime": {
     "end_time": "2023-03-31T23:15:36.418238Z",
     "start_time": "2023-03-31T23:15:36.409755Z"
    }
   },
   "outputs": [
    {
     "name": "stdout",
     "output_type": "stream",
     "text": [
      "The lower and upper bounds are:  -4767873.5 15925914.5\n",
      "--- Total Revenue\n",
      "The number of outliers is  195\n",
      "The max outlier is  89217262.0\n",
      "The min of the max outlier is  15939477.0\n"
     ]
    }
   ],
   "source": [
    "show_outlier_irq(data_frame_2, \"TOTAL_REVENUE\", \"Total Revenue\")"
   ]
  },
  {
   "cell_type": "code",
   "execution_count": 15,
   "id": "42cdcb47",
   "metadata": {
    "ExecuteTime": {
     "end_time": "2023-03-31T23:15:36.617189Z",
     "start_time": "2023-03-31T23:15:36.420381Z"
    }
   },
   "outputs": [
    {
     "data": {
      "text/plain": [
       "Text(0.5, 1.0, 'histogram show the outliers for total expenditures')"
      ]
     },
     "execution_count": 15,
     "metadata": {},
     "output_type": "execute_result"
    },
    {
     "data": {
      "image/png": "[encoded data removed]",
      "text/plain": [
       "<Figure size 640x480 with 1 Axes>"
      ]
     },
     "metadata": {},
     "output_type": "display_data"
    }
   ],
   "source": [
    "ax = data_frame_2[\"TOTAL_EXPENDITURE\"].plot.hist(bins=26)\n",
    "ax.set_title(\"histogram show the outliers for total expenditures\")"
   ]
  },
  {
   "cell_type": "code",
   "execution_count": 16,
   "id": "42dc5c71",
   "metadata": {
    "ExecuteTime": {
     "end_time": "2023-03-31T23:15:36.738722Z",
     "start_time": "2023-03-31T23:15:36.619915Z"
    }
   },
   "outputs": [
    {
     "data": {
      "text/plain": [
       "Text(0.5, 1.0, 'boxplot show the outliers')"
      ]
     },
     "execution_count": 16,
     "metadata": {},
     "output_type": "execute_result"
    },
    {
     "data": {
      "image/png": "[encoded data removed]",
      "text/plain": [
       "<Figure size 640x480 with 1 Axes>"
      ]
     },
     "metadata": {},
     "output_type": "display_data"
    }
   ],
   "source": [
    "# Box plot showing the outliers\n",
    "ax = data_frame_2[\"TOTAL_EXPENDITURE\"].plot.box()\n",
    "ax.set_title(\"boxplot show the outliers\")"
   ]
  },
  {
   "cell_type": "code",
   "execution_count": 17,
   "id": "76d57112",
   "metadata": {
    "ExecuteTime": {
     "end_time": "2023-03-31T23:15:37.401932Z",
     "start_time": "2023-03-31T23:15:36.741148Z"
    }
   },
   "outputs": [
    {
     "ename": "NameError",
     "evalue": "name 'show_outlier_irg' is not defined",
     "output_type": "error",
     "traceback": [
      "\u001b[0;31m---------------------------------------------------------------------------\u001b[0m",
      "\u001b[0;31mNameError\u001b[0m                                 Traceback (most recent call last)",
      "Input \u001b[0;32mIn [17]\u001b[0m, in \u001b[0;36m<cell line: 1>\u001b[0;34m()\u001b[0m\n\u001b[0;32m----> 1\u001b[0m \u001b[43mshow_outlier_irg\u001b[49m(data_frame_2, \u001b[38;5;124m\"\u001b[39m\u001b[38;5;124mTOTAL_EXPENDITURE\u001b[39m\u001b[38;5;124m\"\u001b[39m, \u001b[38;5;124m\"\u001b[39m\u001b[38;5;124mTotal Expenditure\u001b[39m\u001b[38;5;124m\"\u001b[39m)\n",
      "\u001b[0;31mNameError\u001b[0m: name 'show_outlier_irg' is not defined"
     ]
    }
   ],
   "source": [
    "show_outlier_irg(data_frame_2, \"TOTAL_EXPENDITURE\", \"Total Expenditure\")"
   ]
  },
  {
   "cell_type": "markdown",
   "id": "09211dd9",
   "metadata": {
    "ExecuteTime": {
     "end_time": "2023-02-24T01:18:25.537474Z",
     "start_time": "2023-02-24T01:18:25.526615Z"
    }
   },
   "source": [
    "## Remove the detected outliers\n",
    "\n",
    "Detect outliers in the TOTAL_REVENUE and TOTAL_EXPENDITURE \n",
    "\n",
    "variables, apply the techniques you learned in this checkpoint to \n",
    "eliminate them and validate that there are no outlier values after \n",
    "you handled them.\n"
   ]
  },
  {
   "cell_type": "code",
   "execution_count": null,
   "id": "82ad66a8",
   "metadata": {
    "ExecuteTime": {
     "end_time": "2023-03-31T23:15:37.403868Z",
     "start_time": "2023-03-31T23:15:37.403846Z"
    }
   },
   "outputs": [],
   "source": [
    "# Got rid of the outliers, but not what parameters to use.\n",
    "# The mean with the outliers and no outliers is similiar.\n",
    "spent = winsorize(data_frame_2[\"TOTAL_EXPENDITURE\"],(.4,.11))\n",
    "\n",
    "# Box plot showing the outliers\n",
    "plt.boxplot(spent)\n",
    "plt.title(\"Total Expenditure removal of outliers using winsorize\")\n",
    "plt.show()\n",
    "\n",
    "#\n",
    "# Store Statistics\n",
    "#\n",
    "summary_dataframe = pd.DataFrame()\n",
    "summary_dataframe[\"winsorize_expenditure\"] = spent"
   ]
  },
  {
   "cell_type": "code",
   "execution_count": null,
   "id": "069ef63f",
   "metadata": {
    "ExecuteTime": {
     "end_time": "2023-03-31T23:15:37.405783Z",
     "start_time": "2023-03-31T23:15:37.405764Z"
    }
   },
   "outputs": [],
   "source": [
    "fixed_revenue = np.log(data_frame_2[\"TOTAL_EXPENDITURE\"])\n",
    "plt.boxplot(fixed_revenue)\n",
    "plt.title(\"Total Expenditure removal of outliers using logarithm\")\n",
    "plt.show()\n",
    "\n",
    "summary_dataframe[\"logarithm_expenditure\"] = fixed_revenue"
   ]
  },
  {
   "cell_type": "code",
   "execution_count": null,
   "id": "c0faab04",
   "metadata": {
    "ExecuteTime": {
     "end_time": "2023-03-31T23:15:37.407696Z",
     "start_time": "2023-03-31T23:15:37.407667Z"
    }
   },
   "outputs": [],
   "source": [
    "spent = winsorize(data_frame_2[\"TOTAL_REVENUE\"],(.4,.11))\n",
    "\n",
    "# Box plot showing the outliers\n",
    "plt.boxplot(spent)\n",
    "plt.title(\"Total Revenue Removal of outliers using winsorize\")\n",
    "plt.show()\n",
    "\n",
    "summary_dataframe[\"winsorize_total_revenue\"] = spent"
   ]
  },
  {
   "cell_type": "code",
   "execution_count": null,
   "id": "c624c4e1",
   "metadata": {
    "ExecuteTime": {
     "end_time": "2023-03-31T23:15:37.410384Z",
     "start_time": "2023-03-31T23:15:37.410357Z"
    }
   },
   "outputs": [],
   "source": [
    "fixed_revenue = np.log(data_frame_2[\"TOTAL_REVENUE\"])\n",
    "\n",
    "plt.boxplot(fixed_revenue)\n",
    "plt.title(\"Total Revenue Removal of Outliers Using logarithm\")\n",
    "plt.show()\n",
    "\n",
    "summary_dataframe[\"logarithm_total_revenue\"] = fixed_revenue"
   ]
  },
  {
   "cell_type": "markdown",
   "id": "8f68ebfc",
   "metadata": {},
   "source": [
    "## Create another variable \n",
    "\n",
    "By subtracting the original TOTAL_EXPENDITURE from TOTAL_REVENUE (before you eliminated the outliers). You can think of it as a kind of budget deficit in education. Do you find any outlier values in this new variable? If so, eliminate them using the technique that think is most suitable."
   ]
  },
  {
   "cell_type": "code",
   "execution_count": null,
   "id": "c0394af7",
   "metadata": {
    "ExecuteTime": {
     "end_time": "2023-03-31T23:15:37.413517Z",
     "start_time": "2023-03-31T23:15:37.413488Z"
    }
   },
   "outputs": [],
   "source": [
    "ax = data_frame_4[\"BUDGET_DEFICIT\"].plot.box()\n",
    "ax.set_title(\"Detection of outliers from dereived column budget deficit\")\n",
    "plt.show()"
   ]
  },
  {
   "cell_type": "code",
   "execution_count": null,
   "id": "715ed919",
   "metadata": {
    "ExecuteTime": {
     "end_time": "2023-03-31T23:15:37.416299Z",
     "start_time": "2023-03-31T23:15:37.416264Z"
    }
   },
   "outputs": [],
   "source": [
    "# Got rid of the outliers, but not what parameters to use.\n",
    "# The mean with the outliers and no outliers is similiar.\n",
    "# Could not use log since I got a divide by 0 error\n",
    "spent = winsorize(data_frame_4[\"BUDGET_DEFICIT\"],(.3,.15))\n",
    "\n",
    "# Box plot showing the outliers\n",
    "plt.boxplot(spent)\n",
    "plt.title(\"boxplot show the outliers\")\n",
    "plt.show()"
   ]
  },
  {
   "cell_type": "markdown",
   "id": "52e42f9e",
   "metadata": {},
   "source": [
    "5. Compare some basic descriptive statistics of the budget variables you end up with in the third and the fourth questions. Do you see any differences?"
   ]
  },
  {
   "cell_type": "code",
   "execution_count": null,
   "id": "2aff4f83",
   "metadata": {
    "ExecuteTime": {
     "end_time": "2023-03-31T23:15:37.419745Z",
     "start_time": "2023-03-31T23:15:37.419716Z"
    }
   },
   "outputs": [],
   "source": [
    "# Initial Data\n",
    "data_frame_2.describe()"
   ]
  },
  {
   "cell_type": "code",
   "execution_count": null,
   "id": "aa4654ef",
   "metadata": {
    "ExecuteTime": {
     "end_time": "2023-03-31T23:15:37.421963Z",
     "start_time": "2023-03-31T23:15:37.421945Z"
    }
   },
   "outputs": [],
   "source": [
    "summary_dataframe.describe()"
   ]
  },
  {
   "cell_type": "markdown",
   "id": "c1d4a7a7",
   "metadata": {},
   "source": [
    "## Compare basic descriptive statistics of the variables \n",
    "\n",
    "you end up with in the third and the fourth questions. Do you see any differences\n",
    "\n",
    "I have choosen to start with mean and std and what I am seeing is \n",
    "the winsorize is more accurate with regards to the mean and the logirithm is more accurate with regards to the std.\n",
    "\n",
    "For the winsorize it seem it is very close the oringal values for the \n",
    "50 and 75 and somewhat close for the 30%\n"
   ]
  },
  {
   "cell_type": "markdown",
   "id": "e73b1d63",
   "metadata": {},
   "source": [
    "## If your variable of interest is budget deficit variable, \n",
    "\n",
    "which method do you think is the most appropriate in dealing with the outliers in this variable: the method in the third question or the one in the fourth question?\n",
    "\n",
    "For me this is easy, the logarithm gave me a divide by 0 error so by\n",
    "default, I had to use winsorize.\n",
    "\n",
    "After researching the internet, I found out the main difference, based\n",
    "on my work, was that winsorize take expeience to get it correct, but the logirathm has no parameters and gives you the same result."
   ]
  }
 ],
 "metadata": {
  "kernelspec": {
   "display_name": "Python 3 (ipykernel)",
   "language": "python",
   "name": "python3"
  },
  "language_info": {
   "codemirror_mode": {
    "name": "ipython",
    "version": 3
   },
   "file_extension": ".py",
   "mimetype": "text/x-python",
   "name": "python",
   "nbconvert_exporter": "python",
   "pygments_lexer": "ipython3",
   "version": "3.9.13"
  },
  "toc": {
   "base_numbering": 1,
   "nav_menu": {},
   "number_sections": true,
   "sideBar": true,
   "skip_h1_title": false,
   "title_cell": "Table of Contents",
   "title_sidebar": "Contents",
   "toc_cell": false,
   "toc_position": {},
   "toc_section_display": true,
   "toc_window_display": false
  }
 },
 "nbformat": 4,
 "nbformat_minor": 5
}
