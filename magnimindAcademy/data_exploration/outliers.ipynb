{
 "cells": [
  {
   "cell_type": "markdown",
   "id": "5a5b191d",
   "metadata": {},
   "source": [
    "In this assignment, you'll continue working with the U.S. Education Dataset from Kaggle. The data gives detailed state-level information on several facets of education on an annual basis. To learn more about the data and the column descriptions, you can view the Kaggle link above.\n",
    "\n",
    "Don't forget to apply the most suitable missing-value-filling techniques from the previous checkpoint to the data. Provide the answers to the following only after you've addressed missing values!\n",
    "\n",
    "To complete this assignment, submit a link to a Jupyter Notebook containing your solutions to the following tasks:\n",
    "\n",
    "1. Consider the two variables: TOTAL_REVENUE and TOTAL_EXPENDITURE. Do these variables have outlier values?\n",
    "\n",
    "2. If you detect outliers in the TOTAL_REVENUE and TOTAL_EXPENDITURE variables, apply the techniques you learned in this checkpoint to eliminate them and validate that there are no outlier values after you handled them.\n",
    "\n",
    "3. Create another variable by subtracting the original TOTAL_EXPENDITURE from TOTAL_REVENUE (before you eliminated the outliers). You can think of it as a kind of budget deficit in education. Do you find any outlier values in this new variable? If so, eliminate them using the technique that think is most suitable.\n",
    "\n",
    "4. Now create another variable by subtracting the TOTAL_EXPENDITURE from TOTAL_REVENUE. This time, use the outlier eliminated versions of TOTAL_EXPENDITURE from TOTAL_REVENUE. In this newly created variable, can you find any outliers? If so, eliminate them.\n",
    "\n",
    "5. Compare some basic descriptive statistics of the budget variables you end up with in the third and the fourth questions. Do you see any differences?\n",
    "\n",
    "6. If your variable of interest is the budget deficit variable, which method do you think is the most appropriate in dealing with the outliers in this variable: the method in the third question or the one in the fourth question?\n",
    "\n",
    "*Please add the URL of the assignments you uploaded to Github to the Online Text section."
   ]
  },
  {
   "cell_type": "code",
   "execution_count": 625,
   "id": "4cac3676",
   "metadata": {
    "ExecuteTime": {
     "end_time": "2023-03-02T22:15:44.189795Z",
     "start_time": "2023-03-02T22:15:44.185989Z"
    }
   },
   "outputs": [],
   "source": [
    "import pandas as pd\n",
    "from scipy.stats.mstats import winsorize\n",
    "import matplotlib.pyplot as plt\n",
    "import numpy as np"
   ]
  },
  {
   "cell_type": "code",
   "execution_count": 626,
   "id": "e5ff8931",
   "metadata": {
    "ExecuteTime": {
     "end_time": "2023-03-02T22:15:44.195184Z",
     "start_time": "2023-03-02T22:15:44.192583Z"
    }
   },
   "outputs": [],
   "source": [
    "## Load the data from the file.  We should crete a data_fram showing\n",
    "## the columns that we have an interest in.  Also provide some info\n",
    "## about those problems"
   ]
  },
  {
   "cell_type": "code",
   "execution_count": 627,
   "id": "0ca0b87f",
   "metadata": {
    "ExecuteTime": {
     "end_time": "2023-03-02T22:15:44.209103Z",
     "start_time": "2023-03-02T22:15:44.197402Z"
    }
   },
   "outputs": [],
   "source": [
    "data_frame_1 = pd.read_csv(\"states_all_clean.csv\")"
   ]
  },
  {
   "cell_type": "code",
   "execution_count": 628,
   "id": "37904436",
   "metadata": {
    "ExecuteTime": {
     "end_time": "2023-03-02T22:15:44.239043Z",
     "start_time": "2023-03-02T22:15:44.213138Z"
    }
   },
   "outputs": [
    {
     "data": {
      "text/html": [
       "<div>\n",
       "<style scoped>\n",
       "    .dataframe tbody tr th:only-of-type {\n",
       "        vertical-align: middle;\n",
       "    }\n",
       "\n",
       "    .dataframe tbody tr th {\n",
       "        vertical-align: top;\n",
       "    }\n",
       "\n",
       "    .dataframe thead th {\n",
       "        text-align: right;\n",
       "    }\n",
       "</style>\n",
       "<table border=\"1\" class=\"dataframe\">\n",
       "  <thead>\n",
       "    <tr style=\"text-align: right;\">\n",
       "      <th></th>\n",
       "      <th>PRIMARY_KEY</th>\n",
       "      <th>STATE</th>\n",
       "      <th>YEAR</th>\n",
       "      <th>ENROLL</th>\n",
       "      <th>TOTAL_REVENUE</th>\n",
       "      <th>FEDERAL_REVENUE</th>\n",
       "      <th>STATE_REVENUE</th>\n",
       "      <th>LOCAL_REVENUE</th>\n",
       "      <th>TOTAL_EXPENDITURE</th>\n",
       "      <th>INSTRUCTION_EXPENDITURE</th>\n",
       "      <th>...</th>\n",
       "      <th>GRADES_4_G</th>\n",
       "      <th>GRADES_8_G</th>\n",
       "      <th>GRADES_12_G</th>\n",
       "      <th>GRADES_1_8_G</th>\n",
       "      <th>GRADES_9_12_G</th>\n",
       "      <th>GRADES_ALL_G</th>\n",
       "      <th>AVG_MATH_4_SCORE</th>\n",
       "      <th>AVG_MATH_8_SCORE</th>\n",
       "      <th>AVG_READING_4_SCORE</th>\n",
       "      <th>AVG_READING_8_SCORE</th>\n",
       "    </tr>\n",
       "  </thead>\n",
       "  <tbody>\n",
       "    <tr>\n",
       "      <th>0</th>\n",
       "      <td>1992_ALABAMA</td>\n",
       "      <td>ALABAMA</td>\n",
       "      <td>1992</td>\n",
       "      <td>731634.0</td>\n",
       "      <td>2678885.0</td>\n",
       "      <td>304177.0</td>\n",
       "      <td>1659028.0</td>\n",
       "      <td>715680.0</td>\n",
       "      <td>2653798.0</td>\n",
       "      <td>1481703.0</td>\n",
       "      <td>...</td>\n",
       "      <td>57948.0</td>\n",
       "      <td>58025.0</td>\n",
       "      <td>41167.0</td>\n",
       "      <td>447526.50</td>\n",
       "      <td>220423.50</td>\n",
       "      <td>731634.0</td>\n",
       "      <td>208.000000</td>\n",
       "      <td>252.000000</td>\n",
       "      <td>207.000000</td>\n",
       "      <td>260.333333</td>\n",
       "    </tr>\n",
       "    <tr>\n",
       "      <th>1</th>\n",
       "      <td>1992_ALASKA</td>\n",
       "      <td>ALASKA</td>\n",
       "      <td>1992</td>\n",
       "      <td>122487.0</td>\n",
       "      <td>1049591.0</td>\n",
       "      <td>106780.0</td>\n",
       "      <td>720711.0</td>\n",
       "      <td>222100.0</td>\n",
       "      <td>972488.0</td>\n",
       "      <td>498362.0</td>\n",
       "      <td>...</td>\n",
       "      <td>9748.0</td>\n",
       "      <td>8789.0</td>\n",
       "      <td>6714.0</td>\n",
       "      <td>73675.88</td>\n",
       "      <td>36288.12</td>\n",
       "      <td>122487.0</td>\n",
       "      <td>218.219512</td>\n",
       "      <td>266.073171</td>\n",
       "      <td>215.146341</td>\n",
       "      <td>260.333333</td>\n",
       "    </tr>\n",
       "    <tr>\n",
       "      <th>2</th>\n",
       "      <td>1992_ARIZONA</td>\n",
       "      <td>ARIZONA</td>\n",
       "      <td>1992</td>\n",
       "      <td>673477.0</td>\n",
       "      <td>3258079.0</td>\n",
       "      <td>297888.0</td>\n",
       "      <td>1369815.0</td>\n",
       "      <td>1590376.0</td>\n",
       "      <td>3401580.0</td>\n",
       "      <td>1435908.0</td>\n",
       "      <td>...</td>\n",
       "      <td>55433.0</td>\n",
       "      <td>49081.0</td>\n",
       "      <td>37410.0</td>\n",
       "      <td>413682.12</td>\n",
       "      <td>203753.88</td>\n",
       "      <td>673477.0</td>\n",
       "      <td>215.000000</td>\n",
       "      <td>265.000000</td>\n",
       "      <td>209.000000</td>\n",
       "      <td>260.333333</td>\n",
       "    </tr>\n",
       "    <tr>\n",
       "      <th>3</th>\n",
       "      <td>1992_ARKANSAS</td>\n",
       "      <td>ARKANSAS</td>\n",
       "      <td>1992</td>\n",
       "      <td>441490.0</td>\n",
       "      <td>1711959.0</td>\n",
       "      <td>178571.0</td>\n",
       "      <td>958785.0</td>\n",
       "      <td>574603.0</td>\n",
       "      <td>1743022.0</td>\n",
       "      <td>964323.0</td>\n",
       "      <td>...</td>\n",
       "      <td>34632.0</td>\n",
       "      <td>36011.0</td>\n",
       "      <td>27651.0</td>\n",
       "      <td>272804.57</td>\n",
       "      <td>134366.43</td>\n",
       "      <td>441490.0</td>\n",
       "      <td>210.000000</td>\n",
       "      <td>256.000000</td>\n",
       "      <td>211.000000</td>\n",
       "      <td>260.333333</td>\n",
       "    </tr>\n",
       "    <tr>\n",
       "      <th>4</th>\n",
       "      <td>1992_CALIFORNIA</td>\n",
       "      <td>CALIFORNIA</td>\n",
       "      <td>1992</td>\n",
       "      <td>5254844.0</td>\n",
       "      <td>26260025.0</td>\n",
       "      <td>2072470.0</td>\n",
       "      <td>16546514.0</td>\n",
       "      <td>7641041.0</td>\n",
       "      <td>27138832.0</td>\n",
       "      <td>14358922.0</td>\n",
       "      <td>...</td>\n",
       "      <td>418418.0</td>\n",
       "      <td>363296.0</td>\n",
       "      <td>270675.0</td>\n",
       "      <td>3191889.38</td>\n",
       "      <td>1572124.62</td>\n",
       "      <td>5254844.0</td>\n",
       "      <td>208.000000</td>\n",
       "      <td>261.000000</td>\n",
       "      <td>202.000000</td>\n",
       "      <td>260.333333</td>\n",
       "    </tr>\n",
       "  </tbody>\n",
       "</table>\n",
       "<p>5 rows × 25 columns</p>\n",
       "</div>"
      ],
      "text/plain": [
       "       PRIMARY_KEY       STATE  YEAR     ENROLL  TOTAL_REVENUE  \\\n",
       "0     1992_ALABAMA     ALABAMA  1992   731634.0      2678885.0   \n",
       "1      1992_ALASKA      ALASKA  1992   122487.0      1049591.0   \n",
       "2     1992_ARIZONA     ARIZONA  1992   673477.0      3258079.0   \n",
       "3    1992_ARKANSAS    ARKANSAS  1992   441490.0      1711959.0   \n",
       "4  1992_CALIFORNIA  CALIFORNIA  1992  5254844.0     26260025.0   \n",
       "\n",
       "   FEDERAL_REVENUE  STATE_REVENUE  LOCAL_REVENUE  TOTAL_EXPENDITURE  \\\n",
       "0         304177.0      1659028.0       715680.0          2653798.0   \n",
       "1         106780.0       720711.0       222100.0           972488.0   \n",
       "2         297888.0      1369815.0      1590376.0          3401580.0   \n",
       "3         178571.0       958785.0       574603.0          1743022.0   \n",
       "4        2072470.0     16546514.0      7641041.0         27138832.0   \n",
       "\n",
       "   INSTRUCTION_EXPENDITURE  ...  GRADES_4_G  GRADES_8_G  GRADES_12_G  \\\n",
       "0                1481703.0  ...     57948.0     58025.0      41167.0   \n",
       "1                 498362.0  ...      9748.0      8789.0       6714.0   \n",
       "2                1435908.0  ...     55433.0     49081.0      37410.0   \n",
       "3                 964323.0  ...     34632.0     36011.0      27651.0   \n",
       "4               14358922.0  ...    418418.0    363296.0     270675.0   \n",
       "\n",
       "   GRADES_1_8_G  GRADES_9_12_G  GRADES_ALL_G  AVG_MATH_4_SCORE  \\\n",
       "0     447526.50      220423.50      731634.0        208.000000   \n",
       "1      73675.88       36288.12      122487.0        218.219512   \n",
       "2     413682.12      203753.88      673477.0        215.000000   \n",
       "3     272804.57      134366.43      441490.0        210.000000   \n",
       "4    3191889.38     1572124.62     5254844.0        208.000000   \n",
       "\n",
       "   AVG_MATH_8_SCORE  AVG_READING_4_SCORE  AVG_READING_8_SCORE  \n",
       "0        252.000000           207.000000           260.333333  \n",
       "1        266.073171           215.146341           260.333333  \n",
       "2        265.000000           209.000000           260.333333  \n",
       "3        256.000000           211.000000           260.333333  \n",
       "4        261.000000           202.000000           260.333333  \n",
       "\n",
       "[5 rows x 25 columns]"
      ]
     },
     "execution_count": 628,
     "metadata": {},
     "output_type": "execute_result"
    }
   ],
   "source": [
    "data_frame_1.head()"
   ]
  },
  {
   "cell_type": "code",
   "execution_count": 629,
   "id": "ed880cb0",
   "metadata": {
    "ExecuteTime": {
     "end_time": "2023-03-02T22:15:44.251893Z",
     "start_time": "2023-03-02T22:15:44.241117Z"
    }
   },
   "outputs": [
    {
     "data": {
      "text/html": [
       "<div>\n",
       "<style scoped>\n",
       "    .dataframe tbody tr th:only-of-type {\n",
       "        vertical-align: middle;\n",
       "    }\n",
       "\n",
       "    .dataframe tbody tr th {\n",
       "        vertical-align: top;\n",
       "    }\n",
       "\n",
       "    .dataframe thead th {\n",
       "        text-align: right;\n",
       "    }\n",
       "</style>\n",
       "<table border=\"1\" class=\"dataframe\">\n",
       "  <thead>\n",
       "    <tr style=\"text-align: right;\">\n",
       "      <th></th>\n",
       "      <th>PRIMARY_KEY</th>\n",
       "      <th>STATE</th>\n",
       "      <th>YEAR</th>\n",
       "      <th>TOTAL_REVENUE</th>\n",
       "      <th>TOTAL_EXPENDITURE</th>\n",
       "    </tr>\n",
       "  </thead>\n",
       "  <tbody>\n",
       "    <tr>\n",
       "      <th>0</th>\n",
       "      <td>1992_ALABAMA</td>\n",
       "      <td>ALABAMA</td>\n",
       "      <td>1992</td>\n",
       "      <td>2678885.0</td>\n",
       "      <td>2653798.0</td>\n",
       "    </tr>\n",
       "    <tr>\n",
       "      <th>1</th>\n",
       "      <td>1992_ALASKA</td>\n",
       "      <td>ALASKA</td>\n",
       "      <td>1992</td>\n",
       "      <td>1049591.0</td>\n",
       "      <td>972488.0</td>\n",
       "    </tr>\n",
       "    <tr>\n",
       "      <th>2</th>\n",
       "      <td>1992_ARIZONA</td>\n",
       "      <td>ARIZONA</td>\n",
       "      <td>1992</td>\n",
       "      <td>3258079.0</td>\n",
       "      <td>3401580.0</td>\n",
       "    </tr>\n",
       "    <tr>\n",
       "      <th>3</th>\n",
       "      <td>1992_ARKANSAS</td>\n",
       "      <td>ARKANSAS</td>\n",
       "      <td>1992</td>\n",
       "      <td>1711959.0</td>\n",
       "      <td>1743022.0</td>\n",
       "    </tr>\n",
       "    <tr>\n",
       "      <th>4</th>\n",
       "      <td>1992_CALIFORNIA</td>\n",
       "      <td>CALIFORNIA</td>\n",
       "      <td>1992</td>\n",
       "      <td>26260025.0</td>\n",
       "      <td>27138832.0</td>\n",
       "    </tr>\n",
       "  </tbody>\n",
       "</table>\n",
       "</div>"
      ],
      "text/plain": [
       "       PRIMARY_KEY       STATE  YEAR  TOTAL_REVENUE  TOTAL_EXPENDITURE\n",
       "0     1992_ALABAMA     ALABAMA  1992      2678885.0          2653798.0\n",
       "1      1992_ALASKA      ALASKA  1992      1049591.0           972488.0\n",
       "2     1992_ARIZONA     ARIZONA  1992      3258079.0          3401580.0\n",
       "3    1992_ARKANSAS    ARKANSAS  1992      1711959.0          1743022.0\n",
       "4  1992_CALIFORNIA  CALIFORNIA  1992     26260025.0         27138832.0"
      ]
     },
     "execution_count": 629,
     "metadata": {},
     "output_type": "execute_result"
    }
   ],
   "source": [
    "data_frame_2 = data_frame_1[[ \"PRIMARY_KEY\", \"STATE\", \"YEAR\", \"TOTAL_REVENUE\", \"TOTAL_EXPENDITURE\"]].copy()\n",
    "data_frame_2.head()"
   ]
  },
  {
   "cell_type": "code",
   "execution_count": 630,
   "id": "a044ebd3",
   "metadata": {
    "ExecuteTime": {
     "end_time": "2023-03-02T22:15:44.263615Z",
     "start_time": "2023-03-02T22:15:44.254112Z"
    }
   },
   "outputs": [
    {
     "name": "stdout",
     "output_type": "stream",
     "text": [
      "<class 'pandas.core.frame.DataFrame'>\n",
      "RangeIndex: 1542 entries, 0 to 1541\n",
      "Data columns (total 5 columns):\n",
      " #   Column             Non-Null Count  Dtype  \n",
      "---  ------             --------------  -----  \n",
      " 0   PRIMARY_KEY        1542 non-null   object \n",
      " 1   STATE              1542 non-null   object \n",
      " 2   YEAR               1542 non-null   int64  \n",
      " 3   TOTAL_REVENUE      1542 non-null   float64\n",
      " 4   TOTAL_EXPENDITURE  1542 non-null   float64\n",
      "dtypes: float64(2), int64(1), object(2)\n",
      "memory usage: 60.4+ KB\n"
     ]
    }
   ],
   "source": [
    "data_frame_2.info()"
   ]
  },
  {
   "cell_type": "code",
   "execution_count": 631,
   "id": "f4afdcc9",
   "metadata": {
    "ExecuteTime": {
     "end_time": "2023-03-02T22:15:44.282501Z",
     "start_time": "2023-03-02T22:15:44.265622Z"
    }
   },
   "outputs": [
    {
     "data": {
      "text/html": [
       "<div>\n",
       "<style scoped>\n",
       "    .dataframe tbody tr th:only-of-type {\n",
       "        vertical-align: middle;\n",
       "    }\n",
       "\n",
       "    .dataframe tbody tr th {\n",
       "        vertical-align: top;\n",
       "    }\n",
       "\n",
       "    .dataframe thead th {\n",
       "        text-align: right;\n",
       "    }\n",
       "</style>\n",
       "<table border=\"1\" class=\"dataframe\">\n",
       "  <thead>\n",
       "    <tr style=\"text-align: right;\">\n",
       "      <th></th>\n",
       "      <th>YEAR</th>\n",
       "      <th>TOTAL_REVENUE</th>\n",
       "      <th>TOTAL_EXPENDITURE</th>\n",
       "    </tr>\n",
       "  </thead>\n",
       "  <tbody>\n",
       "    <tr>\n",
       "      <th>count</th>\n",
       "      <td>1542.000000</td>\n",
       "      <td>1.542000e+03</td>\n",
       "      <td>1.542000e+03</td>\n",
       "    </tr>\n",
       "    <tr>\n",
       "      <th>mean</th>\n",
       "      <td>2002.184176</td>\n",
       "      <td>7.565374e+06</td>\n",
       "      <td>7.651510e+06</td>\n",
       "    </tr>\n",
       "    <tr>\n",
       "      <th>std</th>\n",
       "      <td>8.937656</td>\n",
       "      <td>1.102806e+07</td>\n",
       "      <td>1.124508e+07</td>\n",
       "    </tr>\n",
       "    <tr>\n",
       "      <th>min</th>\n",
       "      <td>1986.000000</td>\n",
       "      <td>4.656500e+05</td>\n",
       "      <td>4.816650e+05</td>\n",
       "    </tr>\n",
       "    <tr>\n",
       "      <th>25%</th>\n",
       "      <td>1995.000000</td>\n",
       "      <td>1.151216e+06</td>\n",
       "      <td>1.175658e+06</td>\n",
       "    </tr>\n",
       "    <tr>\n",
       "      <th>50%</th>\n",
       "      <td>2002.000000</td>\n",
       "      <td>3.647866e+06</td>\n",
       "      <td>3.683570e+06</td>\n",
       "    </tr>\n",
       "    <tr>\n",
       "      <th>75%</th>\n",
       "      <td>2010.000000</td>\n",
       "      <td>8.910780e+06</td>\n",
       "      <td>9.037558e+06</td>\n",
       "    </tr>\n",
       "    <tr>\n",
       "      <th>max</th>\n",
       "      <td>2017.000000</td>\n",
       "      <td>8.921726e+07</td>\n",
       "      <td>8.532013e+07</td>\n",
       "    </tr>\n",
       "  </tbody>\n",
       "</table>\n",
       "</div>"
      ],
      "text/plain": [
       "              YEAR  TOTAL_REVENUE  TOTAL_EXPENDITURE\n",
       "count  1542.000000   1.542000e+03       1.542000e+03\n",
       "mean   2002.184176   7.565374e+06       7.651510e+06\n",
       "std       8.937656   1.102806e+07       1.124508e+07\n",
       "min    1986.000000   4.656500e+05       4.816650e+05\n",
       "25%    1995.000000   1.151216e+06       1.175658e+06\n",
       "50%    2002.000000   3.647866e+06       3.683570e+06\n",
       "75%    2010.000000   8.910780e+06       9.037558e+06\n",
       "max    2017.000000   8.921726e+07       8.532013e+07"
      ]
     },
     "execution_count": 631,
     "metadata": {},
     "output_type": "execute_result"
    }
   ],
   "source": [
    "data_frame_2.describe()"
   ]
  },
  {
   "cell_type": "code",
   "execution_count": 632,
   "id": "9be740ac",
   "metadata": {
    "ExecuteTime": {
     "end_time": "2023-03-02T22:15:44.293280Z",
     "start_time": "2023-03-02T22:15:44.285826Z"
    }
   },
   "outputs": [
    {
     "name": "stdout",
     "output_type": "stream",
     "text": [
      "Number of missing values --  0\n"
     ]
    }
   ],
   "source": [
    "#\n",
    "# Verify there are no missing values\n",
    "#\n",
    "print(\"Number of missing values -- \",data_frame_2.isna().sum().sum())"
   ]
  },
  {
   "cell_type": "code",
   "execution_count": 633,
   "id": "a9fa64d6",
   "metadata": {
    "ExecuteTime": {
     "end_time": "2023-03-02T22:15:44.301508Z",
     "start_time": "2023-03-02T22:15:44.295715Z"
    }
   },
   "outputs": [
    {
     "name": "stdout",
     "output_type": "stream",
     "text": [
      "Object `values` not found.\n"
     ]
    }
   ],
   "source": [
    "# Consider the two variables: TOTAL_REVENUE and TOTAL_EXPENDITURE. \n",
    "Do these variables have outlier values?"
   ]
  },
  {
   "cell_type": "code",
   "execution_count": 634,
   "id": "b3b20abc",
   "metadata": {
    "ExecuteTime": {
     "end_time": "2023-03-02T22:15:44.505790Z",
     "start_time": "2023-03-02T22:15:44.309796Z"
    }
   },
   "outputs": [
    {
     "data": {
      "text/plain": [
       "Text(0.5, 1.0, 'histogram show the outliers')"
      ]
     },
     "execution_count": 634,
     "metadata": {},
     "output_type": "execute_result"
    },
    {
     "data": {
      "image/png": "[encoded data removed]",
      "text/plain": [
       "<Figure size 640x480 with 1 Axes>"
      ]
     },
     "metadata": {},
     "output_type": "display_data"
    }
   ],
   "source": [
    "ax = data_frame_2[\"TOTAL_REVENUE\"].plot.hist(bins=26)\n",
    "ax.set_title(\"histogram show the outliers\")"
   ]
  },
  {
   "cell_type": "code",
   "execution_count": 635,
   "id": "34f37bc3",
   "metadata": {
    "ExecuteTime": {
     "end_time": "2023-03-02T22:15:44.626567Z",
     "start_time": "2023-03-02T22:15:44.508052Z"
    }
   },
   "outputs": [
    {
     "data": {
      "text/plain": [
       "Text(0.5, 1.0, 'boxplot show the outliers')"
      ]
     },
     "execution_count": 635,
     "metadata": {},
     "output_type": "execute_result"
    },
    {
     "data": {
      "image/png": "[encoded data removed]",
      "text/plain": [
       "<Figure size 640x480 with 1 Axes>"
      ]
     },
     "metadata": {},
     "output_type": "display_data"
    }
   ],
   "source": [
    "# Box plot showing the outliers\n",
    "ax = data_frame_2[\"TOTAL_REVENUE\"].plot.box()\n",
    "ax.set_title(\"boxplot show the outliers\")"
   ]
  },
  {
   "cell_type": "code",
   "execution_count": 636,
   "id": "48b0c9fe",
   "metadata": {
    "ExecuteTime": {
     "end_time": "2023-03-02T22:15:44.633329Z",
     "start_time": "2023-03-02T22:15:44.628838Z"
    }
   },
   "outputs": [
    {
     "data": {
      "text/plain": [
       "11028060.583191276"
      ]
     },
     "execution_count": 636,
     "metadata": {},
     "output_type": "execute_result"
    }
   ],
   "source": [
    "data_frame_2[\"TOTAL_REVENUE\"].std()"
   ]
  },
  {
   "cell_type": "markdown",
   "id": "fdbbce2e",
   "metadata": {
    "ExecuteTime": {
     "end_time": "2023-03-02T20:54:50.465876Z",
     "start_time": "2023-03-02T20:54:50.463355Z"
    }
   },
   "source": [
    "## Find the outliers"
   ]
  },
  {
   "cell_type": "code",
   "execution_count": 637,
   "id": "c165fb97",
   "metadata": {
    "ExecuteTime": {
     "end_time": "2023-03-02T22:15:44.644349Z",
     "start_time": "2023-03-02T22:15:44.635536Z"
    }
   },
   "outputs": [],
   "source": [
    "def find_outliers_IRG(data_frame, Column):\n",
    "    '''\n",
    "        find the outliers on the whisker plot\n",
    "        input : the column to check for outliers\n",
    "        output: The outliers below the quartile 1 and quartile 3\n",
    "    '''\n",
    "    column = data_frame[Column]\n",
    "    q1 = column.quantile(.25)\n",
    "    q3 = column.quantile(.75)\n",
    "    IQR = q3 - q1\n",
    "    lower = q1 - 1.5 * IQR\n",
    "    upper = q3 + 1.5 * IQR\n",
    "    \n",
    "    print(\"The lower and upper bounds are: \", lower, upper)\n",
    "    \n",
    "    min_outliers = column[ column < lower ]\n",
    "    max_outliers = column[ column >= upper ]\n",
    "    return (min_outliers, max_outliers)\n",
    "\n",
    "def show_outlier_irq(data_frame, Column, label):\n",
    "    '''\n",
    "        Calculates the outlier will print 2 sections\n",
    "            1. outliers below quartile 1 will print the \n",
    "               min/max for that set of outliers\n",
    "            2. ourliers above quartile 3 will print the \n",
    "               min/max for that set of outliers\n",
    "         Any section without values will display something.\n",
    "    '''\n",
    "    (min_outliers, max_outliers) = find_outliers_IRG(data_frame, Column)\n",
    "    print(\"--- \" + label)\n",
    "    print(\"The number of outliers is \", len(min_outliers) + len(max_outliers))\n",
    "    if ( len(max_outliers) != 0):\n",
    "        print(\"The max outlier is \", max(max_outliers))\n",
    "        print(\"The min of the max outlier is \", min(max_outliers))\n",
    "    \n",
    "    if len(min_outliers) != 0:\n",
    "        print(\"The min outlier is \", min(min_outliers))\n",
    "        print(\"The max of the min outlier is \", min(min_outliers))\n",
    "\n"
   ]
  },
  {
   "cell_type": "code",
   "execution_count": 638,
   "id": "75d10f1f",
   "metadata": {
    "ExecuteTime": {
     "end_time": "2023-03-02T22:15:44.656597Z",
     "start_time": "2023-03-02T22:15:44.647024Z"
    }
   },
   "outputs": [
    {
     "name": "stdout",
     "output_type": "stream",
     "text": [
      "The lower and upper bounds are:  -10488129.5 20550126.5\n",
      "--- Total Revenue\n",
      "The number of outliers is  134\n",
      "The max outlier is  89217262.0\n",
      "The min of the max outlier is  20576110.0\n"
     ]
    }
   ],
   "source": [
    "show_outlier_irq(data_frame_2, \"TOTAL_REVENUE\", \"Total Revenue\")"
   ]
  },
  {
   "cell_type": "code",
   "execution_count": 639,
   "id": "42cdcb47",
   "metadata": {
    "ExecuteTime": {
     "end_time": "2023-03-02T22:15:44.855425Z",
     "start_time": "2023-03-02T22:15:44.659893Z"
    }
   },
   "outputs": [
    {
     "data": {
      "text/plain": [
       "Text(0.5, 1.0, 'histogram show the outliers for total expenditures')"
      ]
     },
     "execution_count": 639,
     "metadata": {},
     "output_type": "execute_result"
    },
    {
     "data": {
      "image/png": "[encoded data removed]",
      "text/plain": [
       "<Figure size 640x480 with 1 Axes>"
      ]
     },
     "metadata": {},
     "output_type": "display_data"
    }
   ],
   "source": [
    "ax = data_frame_2[\"TOTAL_EXPENDITURE\"].plot.hist(bins=26)\n",
    "ax.set_title(\"histogram show the outliers for total expenditures\")"
   ]
  },
  {
   "cell_type": "code",
   "execution_count": 640,
   "id": "42dc5c71",
   "metadata": {
    "ExecuteTime": {
     "end_time": "2023-03-02T22:15:44.970111Z",
     "start_time": "2023-03-02T22:15:44.857833Z"
    }
   },
   "outputs": [
    {
     "data": {
      "text/plain": [
       "Text(0.5, 1.0, 'boxplot show the outliers')"
      ]
     },
     "execution_count": 640,
     "metadata": {},
     "output_type": "execute_result"
    },
    {
     "data": {
      "image/png": "[encoded data removed]",
      "text/plain": [
       "<Figure size 640x480 with 1 Axes>"
      ]
     },
     "metadata": {},
     "output_type": "display_data"
    }
   ],
   "source": [
    "# Box plot showing the outliers\n",
    "ax = data_frame_2[\"TOTAL_EXPENDITURE\"].plot.box()\n",
    "ax.set_title(\"boxplot show the outliers\")"
   ]
  },
  {
   "cell_type": "code",
   "execution_count": 641,
   "id": "76d57112",
   "metadata": {
    "ExecuteTime": {
     "end_time": "2023-03-02T22:15:44.980219Z",
     "start_time": "2023-03-02T22:15:44.973933Z"
    }
   },
   "outputs": [
    {
     "name": "stdout",
     "output_type": "stream",
     "text": [
      "The lower and upper bounds are:  -10617191.875 20830407.125\n",
      "--- Total Expenditure\n",
      "The number of outliers is  133\n",
      "The max outlier is  85320133.0\n",
      "The min of the max outlier is  21278177.0\n"
     ]
    }
   ],
   "source": [
    "show_outlier_irg(data_frame_2, \"TOTAL_EXPENDITURE\", \"Total Expenditure\")"
   ]
  },
  {
   "cell_type": "markdown",
   "id": "09211dd9",
   "metadata": {
    "ExecuteTime": {
     "end_time": "2023-02-24T01:18:25.537474Z",
     "start_time": "2023-02-24T01:18:25.526615Z"
    }
   },
   "source": [
    "## Remove the detected outliers\n",
    "\n",
    "Detect outliers in the TOTAL_REVENUE and TOTAL_EXPENDITURE \n",
    "\n",
    "variables, apply the techniques you learned in this checkpoint to \n",
    "eliminate them and validate that there are no outlier values after \n",
    "you handled them.\n"
   ]
  },
  {
   "cell_type": "code",
   "execution_count": 642,
   "id": "82ad66a8",
   "metadata": {
    "ExecuteTime": {
     "end_time": "2023-03-02T22:15:45.109635Z",
     "start_time": "2023-03-02T22:15:44.983233Z"
    }
   },
   "outputs": [
    {
     "data": {
      "image/png": "[encoded data removed]",
      "text/plain": [
       "<Figure size 640x480 with 1 Axes>"
      ]
     },
     "metadata": {},
     "output_type": "display_data"
    }
   ],
   "source": [
    "# Got rid of the outliers, but not what parameters to use.\n",
    "# The mean with the outliers and no outliers is similiar.\n",
    "spent = winsorize(data_frame_2[\"TOTAL_EXPENDITURE\"],(.4,.11))\n",
    "\n",
    "# Box plot showing the outliers\n",
    "plt.boxplot(spent)\n",
    "plt.title(\"Total Expenditure removal of outliers using winsorize\")\n",
    "plt.show()\n",
    "\n",
    "#\n",
    "# Store Statistics\n",
    "#\n",
    "summary_dataframe = pd.DataFrame()\n",
    "summary_dataframe[\"winsorize_expenditure\"] = spent"
   ]
  },
  {
   "cell_type": "code",
   "execution_count": 643,
   "id": "069ef63f",
   "metadata": {
    "ExecuteTime": {
     "end_time": "2023-03-02T22:15:45.217756Z",
     "start_time": "2023-03-02T22:15:45.111828Z"
    }
   },
   "outputs": [
    {
     "data": {
      "image/png": "[encoded data removed]",
      "text/plain": [
       "<Figure size 640x480 with 1 Axes>"
      ]
     },
     "metadata": {},
     "output_type": "display_data"
    }
   ],
   "source": [
    "fixed_revenue = np.log(data_frame_2[\"TOTAL_EXPENDITURE\"])\n",
    "plt.boxplot(fixed_revenue)\n",
    "plt.title(\"Total Expenditure removal of outliers using logarithm\")\n",
    "plt.show()\n",
    "\n",
    "summary_dataframe[\"logarithm_expenditure\"] = fixed_revenue"
   ]
  },
  {
   "cell_type": "code",
   "execution_count": 644,
   "id": "c0faab04",
   "metadata": {
    "ExecuteTime": {
     "end_time": "2023-03-02T22:15:45.338637Z",
     "start_time": "2023-03-02T22:15:45.220154Z"
    }
   },
   "outputs": [
    {
     "data": {
      "image/png": "[encoded data removed]",
      "text/plain": [
       "<Figure size 640x480 with 1 Axes>"
      ]
     },
     "metadata": {},
     "output_type": "display_data"
    }
   ],
   "source": [
    "spent = winsorize(data_frame_2[\"TOTAL_REVENUE\"],(.4,.11))\n",
    "\n",
    "# Box plot showing the outliers\n",
    "plt.boxplot(spent)\n",
    "plt.title(\"Total Revenue Removal of outliers using winsorize\")\n",
    "plt.show()\n",
    "\n",
    "summary_dataframe[\"winsorize_total_revenue\"] = spent"
   ]
  },
  {
   "cell_type": "code",
   "execution_count": 645,
   "id": "c624c4e1",
   "metadata": {
    "ExecuteTime": {
     "end_time": "2023-03-02T22:15:45.442068Z",
     "start_time": "2023-03-02T22:15:45.340964Z"
    }
   },
   "outputs": [
    {
     "data": {
      "image/png": "[encoded data removed]",
      "text/plain": [
       "<Figure size 640x480 with 1 Axes>"
      ]
     },
     "metadata": {},
     "output_type": "display_data"
    }
   ],
   "source": [
    "fixed_revenue = np.log(data_frame_2[\"TOTAL_REVENUE\"])\n",
    "\n",
    "plt.boxplot(fixed_revenue)\n",
    "plt.title(\"Total Revenue Removal of Outliers Using logarithm\")\n",
    "plt.show()\n",
    "\n",
    "summary_dataframe[\"logarithm_total_revenue\"] = fixed_revenue"
   ]
  },
  {
   "cell_type": "markdown",
   "id": "8f68ebfc",
   "metadata": {},
   "source": [
    "## Create another variable \n",
    "\n",
    "By subtracting the original TOTAL_EXPENDITURE from TOTAL_REVENUE (before you eliminated the outliers). You can think of it as a kind of budget deficit in education. Do you find any outlier values in this new variable? If so, eliminate them using the technique that think is most suitable."
   ]
  },
  {
   "cell_type": "code",
   "execution_count": 646,
   "id": "c0394af7",
   "metadata": {
    "ExecuteTime": {
     "end_time": "2023-03-02T22:15:45.553949Z",
     "start_time": "2023-03-02T22:15:45.444426Z"
    }
   },
   "outputs": [
    {
     "data": {
      "image/png": "[encoded data removed]",
      "text/plain": [
       "<Figure size 640x480 with 1 Axes>"
      ]
     },
     "metadata": {},
     "output_type": "display_data"
    }
   ],
   "source": [
    "ax = data_frame_4[\"BUDGET_DEFICIT\"].plot.box()\n",
    "ax.set_title(\"Detection of outliers from dereived column budget deficit\")\n",
    "plt.show()"
   ]
  },
  {
   "cell_type": "code",
   "execution_count": 647,
   "id": "715ed919",
   "metadata": {
    "ExecuteTime": {
     "end_time": "2023-03-02T22:15:45.676972Z",
     "start_time": "2023-03-02T22:15:45.556219Z"
    }
   },
   "outputs": [
    {
     "data": {
      "image/png": "[encoded data removed]",
      "text/plain": [
       "<Figure size 640x480 with 1 Axes>"
      ]
     },
     "metadata": {},
     "output_type": "display_data"
    }
   ],
   "source": [
    "# Got rid of the outliers, but not what parameters to use.\n",
    "# The mean with the outliers and no outliers is similiar.\n",
    "# Could not use log since I got a divide by 0 error\n",
    "spent = winsorize(data_frame_4[\"BUDGET_DEFICIT\"],(.3,.15))\n",
    "\n",
    "# Box plot showing the outliers\n",
    "plt.boxplot(spent)\n",
    "plt.title(\"boxplot show the outliers\")\n",
    "plt.show()"
   ]
  },
  {
   "cell_type": "markdown",
   "id": "52e42f9e",
   "metadata": {},
   "source": [
    "5. Compare some basic descriptive statistics of the budget variables you end up with in the third and the fourth questions. Do you see any differences?"
   ]
  },
  {
   "cell_type": "code",
   "execution_count": 648,
   "id": "2aff4f83",
   "metadata": {
    "ExecuteTime": {
     "end_time": "2023-03-02T22:15:45.695948Z",
     "start_time": "2023-03-02T22:15:45.679546Z"
    }
   },
   "outputs": [
    {
     "data": {
      "text/html": [
       "<div>\n",
       "<style scoped>\n",
       "    .dataframe tbody tr th:only-of-type {\n",
       "        vertical-align: middle;\n",
       "    }\n",
       "\n",
       "    .dataframe tbody tr th {\n",
       "        vertical-align: top;\n",
       "    }\n",
       "\n",
       "    .dataframe thead th {\n",
       "        text-align: right;\n",
       "    }\n",
       "</style>\n",
       "<table border=\"1\" class=\"dataframe\">\n",
       "  <thead>\n",
       "    <tr style=\"text-align: right;\">\n",
       "      <th></th>\n",
       "      <th>YEAR</th>\n",
       "      <th>TOTAL_REVENUE</th>\n",
       "      <th>TOTAL_EXPENDITURE</th>\n",
       "    </tr>\n",
       "  </thead>\n",
       "  <tbody>\n",
       "    <tr>\n",
       "      <th>count</th>\n",
       "      <td>1542.000000</td>\n",
       "      <td>1.542000e+03</td>\n",
       "      <td>1.542000e+03</td>\n",
       "    </tr>\n",
       "    <tr>\n",
       "      <th>mean</th>\n",
       "      <td>2002.184176</td>\n",
       "      <td>7.565374e+06</td>\n",
       "      <td>7.651510e+06</td>\n",
       "    </tr>\n",
       "    <tr>\n",
       "      <th>std</th>\n",
       "      <td>8.937656</td>\n",
       "      <td>1.102806e+07</td>\n",
       "      <td>1.124508e+07</td>\n",
       "    </tr>\n",
       "    <tr>\n",
       "      <th>min</th>\n",
       "      <td>1986.000000</td>\n",
       "      <td>4.656500e+05</td>\n",
       "      <td>4.816650e+05</td>\n",
       "    </tr>\n",
       "    <tr>\n",
       "      <th>25%</th>\n",
       "      <td>1995.000000</td>\n",
       "      <td>1.151216e+06</td>\n",
       "      <td>1.175658e+06</td>\n",
       "    </tr>\n",
       "    <tr>\n",
       "      <th>50%</th>\n",
       "      <td>2002.000000</td>\n",
       "      <td>3.647866e+06</td>\n",
       "      <td>3.683570e+06</td>\n",
       "    </tr>\n",
       "    <tr>\n",
       "      <th>75%</th>\n",
       "      <td>2010.000000</td>\n",
       "      <td>8.910780e+06</td>\n",
       "      <td>9.037558e+06</td>\n",
       "    </tr>\n",
       "    <tr>\n",
       "      <th>max</th>\n",
       "      <td>2017.000000</td>\n",
       "      <td>8.921726e+07</td>\n",
       "      <td>8.532013e+07</td>\n",
       "    </tr>\n",
       "  </tbody>\n",
       "</table>\n",
       "</div>"
      ],
      "text/plain": [
       "              YEAR  TOTAL_REVENUE  TOTAL_EXPENDITURE\n",
       "count  1542.000000   1.542000e+03       1.542000e+03\n",
       "mean   2002.184176   7.565374e+06       7.651510e+06\n",
       "std       8.937656   1.102806e+07       1.124508e+07\n",
       "min    1986.000000   4.656500e+05       4.816650e+05\n",
       "25%    1995.000000   1.151216e+06       1.175658e+06\n",
       "50%    2002.000000   3.647866e+06       3.683570e+06\n",
       "75%    2010.000000   8.910780e+06       9.037558e+06\n",
       "max    2017.000000   8.921726e+07       8.532013e+07"
      ]
     },
     "execution_count": 648,
     "metadata": {},
     "output_type": "execute_result"
    }
   ],
   "source": [
    "# Initial Data\n",
    "data_frame_2.describe()"
   ]
  },
  {
   "cell_type": "code",
   "execution_count": 649,
   "id": "aa4654ef",
   "metadata": {
    "ExecuteTime": {
     "end_time": "2023-03-02T22:15:45.722098Z",
     "start_time": "2023-03-02T22:15:45.698668Z"
    }
   },
   "outputs": [
    {
     "data": {
      "text/html": [
       "<div>\n",
       "<style scoped>\n",
       "    .dataframe tbody tr th:only-of-type {\n",
       "        vertical-align: middle;\n",
       "    }\n",
       "\n",
       "    .dataframe tbody tr th {\n",
       "        vertical-align: top;\n",
       "    }\n",
       "\n",
       "    .dataframe thead th {\n",
       "        text-align: right;\n",
       "    }\n",
       "</style>\n",
       "<table border=\"1\" class=\"dataframe\">\n",
       "  <thead>\n",
       "    <tr style=\"text-align: right;\">\n",
       "      <th></th>\n",
       "      <th>winsorize_expenditure</th>\n",
       "      <th>logarithm_expenditure</th>\n",
       "      <th>winsorize_total_revenue</th>\n",
       "      <th>logarithm_total_revenue</th>\n",
       "    </tr>\n",
       "  </thead>\n",
       "  <tbody>\n",
       "    <tr>\n",
       "      <th>count</th>\n",
       "      <td>1.542000e+03</td>\n",
       "      <td>1542.000000</td>\n",
       "      <td>1.542000e+03</td>\n",
       "      <td>1542.000000</td>\n",
       "    </tr>\n",
       "    <tr>\n",
       "      <th>mean</th>\n",
       "      <td>6.437043e+06</td>\n",
       "      <td>15.059747</td>\n",
       "      <td>6.447032e+06</td>\n",
       "      <td>15.054881</td>\n",
       "    </tr>\n",
       "    <tr>\n",
       "      <th>std</th>\n",
       "      <td>5.344015e+06</td>\n",
       "      <td>1.289140</td>\n",
       "      <td>5.361662e+06</td>\n",
       "      <td>1.284650</td>\n",
       "    </tr>\n",
       "    <tr>\n",
       "      <th>min</th>\n",
       "      <td>2.326611e+06</td>\n",
       "      <td>13.085004</td>\n",
       "      <td>2.367068e+06</td>\n",
       "      <td>13.051190</td>\n",
       "    </tr>\n",
       "    <tr>\n",
       "      <th>25%</th>\n",
       "      <td>2.326611e+06</td>\n",
       "      <td>13.977338</td>\n",
       "      <td>2.367068e+06</td>\n",
       "      <td>13.956329</td>\n",
       "    </tr>\n",
       "    <tr>\n",
       "      <th>50%</th>\n",
       "      <td>3.683570e+06</td>\n",
       "      <td>15.119391</td>\n",
       "      <td>3.647866e+06</td>\n",
       "      <td>15.109650</td>\n",
       "    </tr>\n",
       "    <tr>\n",
       "      <th>75%</th>\n",
       "      <td>9.037558e+06</td>\n",
       "      <td>16.016898</td>\n",
       "      <td>8.910780e+06</td>\n",
       "      <td>16.002772</td>\n",
       "    </tr>\n",
       "    <tr>\n",
       "      <th>max</th>\n",
       "      <td>1.774290e+07</td>\n",
       "      <td>18.261921</td>\n",
       "      <td>1.783985e+07</td>\n",
       "      <td>18.306585</td>\n",
       "    </tr>\n",
       "  </tbody>\n",
       "</table>\n",
       "</div>"
      ],
      "text/plain": [
       "       winsorize_expenditure  logarithm_expenditure  winsorize_total_revenue  \\\n",
       "count           1.542000e+03            1542.000000             1.542000e+03   \n",
       "mean            6.437043e+06              15.059747             6.447032e+06   \n",
       "std             5.344015e+06               1.289140             5.361662e+06   \n",
       "min             2.326611e+06              13.085004             2.367068e+06   \n",
       "25%             2.326611e+06              13.977338             2.367068e+06   \n",
       "50%             3.683570e+06              15.119391             3.647866e+06   \n",
       "75%             9.037558e+06              16.016898             8.910780e+06   \n",
       "max             1.774290e+07              18.261921             1.783985e+07   \n",
       "\n",
       "       logarithm_total_revenue  \n",
       "count              1542.000000  \n",
       "mean                 15.054881  \n",
       "std                   1.284650  \n",
       "min                  13.051190  \n",
       "25%                  13.956329  \n",
       "50%                  15.109650  \n",
       "75%                  16.002772  \n",
       "max                  18.306585  "
      ]
     },
     "execution_count": 649,
     "metadata": {},
     "output_type": "execute_result"
    }
   ],
   "source": [
    "summary_dataframe.describe()"
   ]
  },
  {
   "cell_type": "markdown",
   "id": "c1d4a7a7",
   "metadata": {},
   "source": [
    "## Compare basic descriptive statistics of the variables \n",
    "\n",
    "you end up with in the third and the fourth questions. Do you see any differences\n",
    "\n",
    "I have choosen to start with mean and std and what I am seeing is \n",
    "the winsorize is more accurate with regards to the mean and the logirithm is more accurate with regards to the std.\n",
    "\n",
    "For the winsorize it seem it is very close the oringal values for the \n",
    "50 and 75 and somewhat close for the 30%\n"
   ]
  },
  {
   "cell_type": "markdown",
   "id": "e73b1d63",
   "metadata": {},
   "source": [
    "## If your variable of interest is budget deficit variable, \n",
    "\n",
    "which method do you think is the most appropriate in dealing with the outliers in this variable: the method in the third question or the one in the fourth question?\n",
    "\n",
    "For me this is easy, the logarithm gave me a divide by 0 error so by\n",
    "default, I had to use winsorize.\n",
    "\n",
    "After researching the internet, I found out the main difference, based\n",
    "on my work, was that winsorize take expeience to get it correct, but the logirathm has no parameters and gives you the same result."
   ]
  }
 ],
 "metadata": {
  "kernelspec": {
   "display_name": "Python 3 (ipykernel)",
   "language": "python",
   "name": "python3"
  },
  "language_info": {
   "codemirror_mode": {
    "name": "ipython",
    "version": 3
   },
   "file_extension": ".py",
   "mimetype": "text/x-python",
   "name": "python",
   "nbconvert_exporter": "python",
   "pygments_lexer": "ipython3",
   "version": "3.9.13"
  },
  "toc": {
   "base_numbering": 1,
   "nav_menu": {},
   "number_sections": true,
   "sideBar": true,
   "skip_h1_title": false,
   "title_cell": "Table of Contents",
   "title_sidebar": "Contents",
   "toc_cell": false,
   "toc_position": {},
   "toc_section_display": true,
   "toc_window_display": false
  }
 },
 "nbformat": 4,
 "nbformat_minor": 5
}
