{
 "cells": [
  {
   "cell_type": "markdown",
   "id": "30ada798",
   "metadata": {},
   "source": [
    "In this assignment, you will continue to study the data of the US Education System (dataset). You can reach the explanations of this data from Kaggle again.\n",
    "\n",
    "To complete this assignment, submit the Github link of the Jupyter notebook file containing solutions to the questions below. You can talk to your mentor on your head or ask Slack at office time.\n",
    "\n",
    "Does the performance in the exams vary according to gender, origin and education level of parents?\n",
    "\n",
    "Does lunch type have a relationship with exam performances? How can you explain this, if any?\n",
    "\n",
    "Does the preparation courses have an impact on exam performance?\n",
    "Which lessons are most correlated with each other?\n"
   ]
  },
  {
   "cell_type": "code",
   "execution_count": 138,
   "id": "d83d2692",
   "metadata": {
    "ExecuteTime": {
     "end_time": "2023-04-07T15:15:31.751797Z",
     "start_time": "2023-04-07T15:15:30.229408Z"
    }
   },
   "outputs": [
    {
     "name": "stdout",
     "output_type": "stream",
     "text": [
      "/Users/charles/origGit/dataScience/magnimindAcademy/data_exploration\r\n"
     ]
    }
   ],
   "source": [
    "import pandas as pd\n",
    "import numpy as np\n",
    "import matplotlib.pyplot as plt\n",
    "import seaborn as sns\n",
    "!pwd"
   ]
  },
  {
   "cell_type": "code",
   "execution_count": 118,
   "id": "412a8a18",
   "metadata": {
    "ExecuteTime": {
     "end_time": "2023-04-07T04:30:25.314933Z",
     "start_time": "2023-04-07T04:30:25.306051Z"
    }
   },
   "outputs": [],
   "source": [
    "df_1 = pd.read_csv('studPerform.csv')"
   ]
  },
  {
   "cell_type": "code",
   "execution_count": 119,
   "id": "663a5cee",
   "metadata": {
    "ExecuteTime": {
     "end_time": "2023-04-07T04:30:25.329103Z",
     "start_time": "2023-04-07T04:30:25.317298Z"
    }
   },
   "outputs": [
    {
     "data": {
      "text/html": [
       "<div>\n",
       "<style scoped>\n",
       "    .dataframe tbody tr th:only-of-type {\n",
       "        vertical-align: middle;\n",
       "    }\n",
       "\n",
       "    .dataframe tbody tr th {\n",
       "        vertical-align: top;\n",
       "    }\n",
       "\n",
       "    .dataframe thead th {\n",
       "        text-align: right;\n",
       "    }\n",
       "</style>\n",
       "<table border=\"1\" class=\"dataframe\">\n",
       "  <thead>\n",
       "    <tr style=\"text-align: right;\">\n",
       "      <th></th>\n",
       "      <th>gender</th>\n",
       "      <th>race/ethnicity</th>\n",
       "      <th>parental level of education</th>\n",
       "      <th>lunch</th>\n",
       "      <th>test preparation course</th>\n",
       "      <th>math score</th>\n",
       "      <th>reading score</th>\n",
       "      <th>writing score</th>\n",
       "    </tr>\n",
       "  </thead>\n",
       "  <tbody>\n",
       "    <tr>\n",
       "      <th>0</th>\n",
       "      <td>female</td>\n",
       "      <td>group B</td>\n",
       "      <td>bachelor's degree</td>\n",
       "      <td>standard</td>\n",
       "      <td>none</td>\n",
       "      <td>72</td>\n",
       "      <td>72</td>\n",
       "      <td>74</td>\n",
       "    </tr>\n",
       "    <tr>\n",
       "      <th>1</th>\n",
       "      <td>female</td>\n",
       "      <td>group C</td>\n",
       "      <td>some college</td>\n",
       "      <td>standard</td>\n",
       "      <td>completed</td>\n",
       "      <td>69</td>\n",
       "      <td>90</td>\n",
       "      <td>88</td>\n",
       "    </tr>\n",
       "    <tr>\n",
       "      <th>2</th>\n",
       "      <td>female</td>\n",
       "      <td>group B</td>\n",
       "      <td>master's degree</td>\n",
       "      <td>standard</td>\n",
       "      <td>none</td>\n",
       "      <td>90</td>\n",
       "      <td>95</td>\n",
       "      <td>93</td>\n",
       "    </tr>\n",
       "    <tr>\n",
       "      <th>3</th>\n",
       "      <td>male</td>\n",
       "      <td>group A</td>\n",
       "      <td>associate's degree</td>\n",
       "      <td>free/reduced</td>\n",
       "      <td>none</td>\n",
       "      <td>47</td>\n",
       "      <td>57</td>\n",
       "      <td>44</td>\n",
       "    </tr>\n",
       "    <tr>\n",
       "      <th>4</th>\n",
       "      <td>male</td>\n",
       "      <td>group C</td>\n",
       "      <td>some college</td>\n",
       "      <td>standard</td>\n",
       "      <td>none</td>\n",
       "      <td>76</td>\n",
       "      <td>78</td>\n",
       "      <td>75</td>\n",
       "    </tr>\n",
       "  </tbody>\n",
       "</table>\n",
       "</div>"
      ],
      "text/plain": [
       "   gender race/ethnicity parental level of education         lunch  \\\n",
       "0  female        group B           bachelor's degree      standard   \n",
       "1  female        group C                some college      standard   \n",
       "2  female        group B             master's degree      standard   \n",
       "3    male        group A          associate's degree  free/reduced   \n",
       "4    male        group C                some college      standard   \n",
       "\n",
       "  test preparation course  math score  reading score  writing score  \n",
       "0                    none          72             72             74  \n",
       "1               completed          69             90             88  \n",
       "2                    none          90             95             93  \n",
       "3                    none          47             57             44  \n",
       "4                    none          76             78             75  "
      ]
     },
     "execution_count": 119,
     "metadata": {},
     "output_type": "execute_result"
    }
   ],
   "source": [
    "df_1.head()"
   ]
  },
  {
   "cell_type": "code",
   "execution_count": 120,
   "id": "e7f6ccca",
   "metadata": {
    "ExecuteTime": {
     "end_time": "2023-04-07T04:30:25.344426Z",
     "start_time": "2023-04-07T04:30:25.333859Z"
    }
   },
   "outputs": [
    {
     "data": {
      "text/html": [
       "<div>\n",
       "<style scoped>\n",
       "    .dataframe tbody tr th:only-of-type {\n",
       "        vertical-align: middle;\n",
       "    }\n",
       "\n",
       "    .dataframe tbody tr th {\n",
       "        vertical-align: top;\n",
       "    }\n",
       "\n",
       "    .dataframe thead th {\n",
       "        text-align: right;\n",
       "    }\n",
       "</style>\n",
       "<table border=\"1\" class=\"dataframe\">\n",
       "  <thead>\n",
       "    <tr style=\"text-align: right;\">\n",
       "      <th></th>\n",
       "      <th>gender</th>\n",
       "      <th>race/ethnicity</th>\n",
       "      <th>parental level of education</th>\n",
       "      <th>lunch</th>\n",
       "      <th>test preparation course</th>\n",
       "      <th>math score</th>\n",
       "      <th>reading score</th>\n",
       "      <th>writing score</th>\n",
       "    </tr>\n",
       "  </thead>\n",
       "  <tbody>\n",
       "    <tr>\n",
       "      <th>995</th>\n",
       "      <td>female</td>\n",
       "      <td>group E</td>\n",
       "      <td>master's degree</td>\n",
       "      <td>standard</td>\n",
       "      <td>completed</td>\n",
       "      <td>88</td>\n",
       "      <td>99</td>\n",
       "      <td>95</td>\n",
       "    </tr>\n",
       "    <tr>\n",
       "      <th>996</th>\n",
       "      <td>male</td>\n",
       "      <td>group C</td>\n",
       "      <td>high school</td>\n",
       "      <td>free/reduced</td>\n",
       "      <td>none</td>\n",
       "      <td>62</td>\n",
       "      <td>55</td>\n",
       "      <td>55</td>\n",
       "    </tr>\n",
       "    <tr>\n",
       "      <th>997</th>\n",
       "      <td>female</td>\n",
       "      <td>group C</td>\n",
       "      <td>high school</td>\n",
       "      <td>free/reduced</td>\n",
       "      <td>completed</td>\n",
       "      <td>59</td>\n",
       "      <td>71</td>\n",
       "      <td>65</td>\n",
       "    </tr>\n",
       "    <tr>\n",
       "      <th>998</th>\n",
       "      <td>female</td>\n",
       "      <td>group D</td>\n",
       "      <td>some college</td>\n",
       "      <td>standard</td>\n",
       "      <td>completed</td>\n",
       "      <td>68</td>\n",
       "      <td>78</td>\n",
       "      <td>77</td>\n",
       "    </tr>\n",
       "    <tr>\n",
       "      <th>999</th>\n",
       "      <td>female</td>\n",
       "      <td>group D</td>\n",
       "      <td>some college</td>\n",
       "      <td>free/reduced</td>\n",
       "      <td>none</td>\n",
       "      <td>77</td>\n",
       "      <td>86</td>\n",
       "      <td>86</td>\n",
       "    </tr>\n",
       "  </tbody>\n",
       "</table>\n",
       "</div>"
      ],
      "text/plain": [
       "     gender race/ethnicity parental level of education         lunch  \\\n",
       "995  female        group E             master's degree      standard   \n",
       "996    male        group C                 high school  free/reduced   \n",
       "997  female        group C                 high school  free/reduced   \n",
       "998  female        group D                some college      standard   \n",
       "999  female        group D                some college  free/reduced   \n",
       "\n",
       "    test preparation course  math score  reading score  writing score  \n",
       "995               completed          88             99             95  \n",
       "996                    none          62             55             55  \n",
       "997               completed          59             71             65  \n",
       "998               completed          68             78             77  \n",
       "999                    none          77             86             86  "
      ]
     },
     "execution_count": 120,
     "metadata": {},
     "output_type": "execute_result"
    }
   ],
   "source": [
    "df_1.tail()"
   ]
  },
  {
   "cell_type": "code",
   "execution_count": 121,
   "id": "c99d5a0e",
   "metadata": {
    "ExecuteTime": {
     "end_time": "2023-04-07T04:30:25.353600Z",
     "start_time": "2023-04-07T04:30:25.346472Z"
    }
   },
   "outputs": [
    {
     "data": {
      "text/plain": [
       "('The number of missing values is ', 0)"
      ]
     },
     "execution_count": 121,
     "metadata": {},
     "output_type": "execute_result"
    }
   ],
   "source": [
    "#Check for missing values\n",
    "\"The number of missing values is \", df_1.isna().sum().sum()"
   ]
  },
  {
   "cell_type": "code",
   "execution_count": 122,
   "id": "ba997434",
   "metadata": {
    "ExecuteTime": {
     "end_time": "2023-04-07T04:30:25.374578Z",
     "start_time": "2023-04-07T04:30:25.355830Z"
    }
   },
   "outputs": [
    {
     "data": {
      "text/html": [
       "<div>\n",
       "<style scoped>\n",
       "    .dataframe tbody tr th:only-of-type {\n",
       "        vertical-align: middle;\n",
       "    }\n",
       "\n",
       "    .dataframe tbody tr th {\n",
       "        vertical-align: top;\n",
       "    }\n",
       "\n",
       "    .dataframe thead th {\n",
       "        text-align: right;\n",
       "    }\n",
       "</style>\n",
       "<table border=\"1\" class=\"dataframe\">\n",
       "  <thead>\n",
       "    <tr style=\"text-align: right;\">\n",
       "      <th></th>\n",
       "      <th>math score</th>\n",
       "      <th>reading score</th>\n",
       "      <th>writing score</th>\n",
       "    </tr>\n",
       "  </thead>\n",
       "  <tbody>\n",
       "    <tr>\n",
       "      <th>count</th>\n",
       "      <td>1000.00000</td>\n",
       "      <td>1000.000000</td>\n",
       "      <td>1000.000000</td>\n",
       "    </tr>\n",
       "    <tr>\n",
       "      <th>mean</th>\n",
       "      <td>66.08900</td>\n",
       "      <td>69.169000</td>\n",
       "      <td>68.054000</td>\n",
       "    </tr>\n",
       "    <tr>\n",
       "      <th>std</th>\n",
       "      <td>15.16308</td>\n",
       "      <td>14.600192</td>\n",
       "      <td>15.195657</td>\n",
       "    </tr>\n",
       "    <tr>\n",
       "      <th>min</th>\n",
       "      <td>0.00000</td>\n",
       "      <td>17.000000</td>\n",
       "      <td>10.000000</td>\n",
       "    </tr>\n",
       "    <tr>\n",
       "      <th>25%</th>\n",
       "      <td>57.00000</td>\n",
       "      <td>59.000000</td>\n",
       "      <td>57.750000</td>\n",
       "    </tr>\n",
       "    <tr>\n",
       "      <th>50%</th>\n",
       "      <td>66.00000</td>\n",
       "      <td>70.000000</td>\n",
       "      <td>69.000000</td>\n",
       "    </tr>\n",
       "    <tr>\n",
       "      <th>75%</th>\n",
       "      <td>77.00000</td>\n",
       "      <td>79.000000</td>\n",
       "      <td>79.000000</td>\n",
       "    </tr>\n",
       "    <tr>\n",
       "      <th>max</th>\n",
       "      <td>100.00000</td>\n",
       "      <td>100.000000</td>\n",
       "      <td>100.000000</td>\n",
       "    </tr>\n",
       "  </tbody>\n",
       "</table>\n",
       "</div>"
      ],
      "text/plain": [
       "       math score  reading score  writing score\n",
       "count  1000.00000    1000.000000    1000.000000\n",
       "mean     66.08900      69.169000      68.054000\n",
       "std      15.16308      14.600192      15.195657\n",
       "min       0.00000      17.000000      10.000000\n",
       "25%      57.00000      59.000000      57.750000\n",
       "50%      66.00000      70.000000      69.000000\n",
       "75%      77.00000      79.000000      79.000000\n",
       "max     100.00000     100.000000     100.000000"
      ]
     },
     "execution_count": 122,
     "metadata": {},
     "output_type": "execute_result"
    }
   ],
   "source": [
    "df_1.describe()"
   ]
  },
  {
   "cell_type": "code",
   "execution_count": 123,
   "id": "aa684f70",
   "metadata": {
    "ExecuteTime": {
     "end_time": "2023-04-07T04:30:25.391068Z",
     "start_time": "2023-04-07T04:30:25.376800Z"
    }
   },
   "outputs": [
    {
     "name": "stdout",
     "output_type": "stream",
     "text": [
      "<class 'pandas.core.frame.DataFrame'>\n",
      "RangeIndex: 1000 entries, 0 to 999\n",
      "Data columns (total 8 columns):\n",
      " #   Column                       Non-Null Count  Dtype \n",
      "---  ------                       --------------  ----- \n",
      " 0   gender                       1000 non-null   object\n",
      " 1   race/ethnicity               1000 non-null   object\n",
      " 2   parental level of education  1000 non-null   object\n",
      " 3   lunch                        1000 non-null   object\n",
      " 4   test preparation course      1000 non-null   object\n",
      " 5   math score                   1000 non-null   int64 \n",
      " 6   reading score                1000 non-null   int64 \n",
      " 7   writing score                1000 non-null   int64 \n",
      "dtypes: int64(3), object(5)\n",
      "memory usage: 62.6+ KB\n"
     ]
    }
   ],
   "source": [
    "df_1.info()"
   ]
  },
  {
   "cell_type": "code",
   "execution_count": 124,
   "id": "2ec80dbd",
   "metadata": {
    "ExecuteTime": {
     "end_time": "2023-04-07T04:30:25.397033Z",
     "start_time": "2023-04-07T04:30:25.394076Z"
    }
   },
   "outputs": [],
   "source": [
    "## Convert objects to categorical"
   ]
  },
  {
   "cell_type": "code",
   "execution_count": 125,
   "id": "b6c2e222",
   "metadata": {
    "ExecuteTime": {
     "end_time": "2023-04-07T04:30:25.406134Z",
     "start_time": "2023-04-07T04:30:25.400023Z"
    }
   },
   "outputs": [
    {
     "name": "stdout",
     "output_type": "stream",
     "text": [
      "Original gender value ['female' 'male']\n",
      "New Gender Values [1 0]\n"
     ]
    }
   ],
   "source": [
    "print(\"Original gender value\", df_1.gender.unique())\n",
    "df_1['gender'] = np.where(df_1.gender=='female',1,0)\n",
    "print(\"New Gender Values\", df_1.gender.unique())               "
   ]
  },
  {
   "cell_type": "code",
   "execution_count": 126,
   "id": "6db25e98",
   "metadata": {
    "ExecuteTime": {
     "end_time": "2023-04-07T04:30:25.423081Z",
     "start_time": "2023-04-07T04:30:25.413251Z"
    }
   },
   "outputs": [
    {
     "name": "stdout",
     "output_type": "stream",
     "text": [
      "original ethenicity ['group B' 'group C' 'group A' 'group D' 'group E']\n",
      "new race/ethenicity [1 2 0 3 4]\n"
     ]
    }
   ],
   "source": [
    "print(\"original ethenicity\", df_1[\"race/ethnicity\"].unique())\n",
    "df_1['race/ethnicity'] = df_1[\"race/ethnicity\"].astype('category').cat.codes\n",
    "print(\"new race/ethenicity\", df_1[\"race/ethnicity\"].unique())"
   ]
  },
  {
   "cell_type": "code",
   "execution_count": 127,
   "id": "61c048cb",
   "metadata": {
    "ExecuteTime": {
     "end_time": "2023-04-07T04:30:25.435156Z",
     "start_time": "2023-04-07T04:30:25.425668Z"
    }
   },
   "outputs": [
    {
     "name": "stdout",
     "output_type": "stream",
     "text": [
      "original parental level of education [\"bachelor's degree\" 'some college' \"master's degree\" \"associate's degree\"\n",
      " 'high school' 'some high school']\n",
      "The new values are  [2 3 1]\n"
     ]
    }
   ],
   "source": [
    "# When working with categories you can consider granularity.  cominbing group toegether \n",
    "# can make it similiar.\n",
    "print(\"original parental level of education\", df_1[\"parental level of education\"].unique())\n",
    "def converToCategory(value):\n",
    "    if \"high school\" in value:\n",
    "        return 1\n",
    "    elif \"master\" in value:\n",
    "        return 3\n",
    "    else: \n",
    "        return 2\n",
    "df_1[\"parental level of education\"] = df_1[\"parental level of education\"].apply(func=converToCategory)\n",
    "print(\"The new values are \", df_1[\"parental level of education\"].unique())           "
   ]
  },
  {
   "cell_type": "code",
   "execution_count": 128,
   "id": "4a17094b",
   "metadata": {
    "ExecuteTime": {
     "end_time": "2023-04-07T04:30:25.444633Z",
     "start_time": "2023-04-07T04:30:25.438602Z"
    }
   },
   "outputs": [
    {
     "name": "stdout",
     "output_type": "stream",
     "text": [
      "The original values of parental eduction are [2 3 1]\n",
      "The new values of parental eduction are [2 3 1]\n"
     ]
    }
   ],
   "source": [
    "print(\"The original values of parental eduction are\", df_1[\"parental level of education\"].unique())\n",
    "df_1[\"parental level of education\"] = df_1[\"parental level of education\"].astype(int)\n",
    "print(\"The new values of parental eduction are\", df_1[\"parental level of education\"].unique())\n"
   ]
  },
  {
   "cell_type": "code",
   "execution_count": 129,
   "id": "b7cd77e7",
   "metadata": {
    "ExecuteTime": {
     "end_time": "2023-04-07T04:30:25.453251Z",
     "start_time": "2023-04-07T04:30:25.447285Z"
    }
   },
   "outputs": [
    {
     "name": "stdout",
     "output_type": "stream",
     "text": [
      "The original values of test preparation course are ['none' 'completed']\n",
      "The new values of test preparation course are [0 1]\n"
     ]
    }
   ],
   "source": [
    "print(\"The original values of test preparation course are\", df_1[\"test preparation course\"].unique())\n",
    "df_1[\"test preparation course\"] = np.where(df_1[\"test preparation course\"]=='completed',1,0)\n",
    "print(\"The new values of test preparation course are\", df_1[\"test preparation course\"].unique())\n"
   ]
  },
  {
   "cell_type": "code",
   "execution_count": 130,
   "id": "ab4f4838",
   "metadata": {
    "ExecuteTime": {
     "end_time": "2023-04-07T04:30:25.462207Z",
     "start_time": "2023-04-07T04:30:25.455626Z"
    }
   },
   "outputs": [
    {
     "name": "stdout",
     "output_type": "stream",
     "text": [
      "The original values of lunch is  ['standard' 'free/reduced']\n",
      "The original values of lunch is  [1 0]\n"
     ]
    }
   ],
   "source": [
    "print(\"The original values of lunch is \", df_1.lunch.unique())\n",
    "df_1.lunch = np.where(df_1.lunch=='standard',1,0)\n",
    "print(\"The original values of lunch is \", df_1.lunch.unique())\n"
   ]
  },
  {
   "cell_type": "code",
   "execution_count": 136,
   "id": "5302beed",
   "metadata": {
    "ExecuteTime": {
     "end_time": "2023-04-07T04:31:51.197177Z",
     "start_time": "2023-04-07T04:31:51.187834Z"
    }
   },
   "outputs": [
    {
     "name": "stdout",
     "output_type": "stream",
     "text": [
      "<class 'pandas.core.frame.DataFrame'>\n",
      "RangeIndex: 1000 entries, 0 to 999\n",
      "Data columns (total 8 columns):\n",
      " #   Column                       Non-Null Count  Dtype\n",
      "---  ------                       --------------  -----\n",
      " 0   gender                       1000 non-null   int64\n",
      " 1   race/ethnicity               1000 non-null   int8 \n",
      " 2   parental level of education  1000 non-null   int64\n",
      " 3   lunch                        1000 non-null   int64\n",
      " 4   test preparation course      1000 non-null   int64\n",
      " 5   math score                   1000 non-null   int64\n",
      " 6   reading score                1000 non-null   int64\n",
      " 7   writing score                1000 non-null   int64\n",
      "dtypes: int64(7), int8(1)\n",
      "memory usage: 55.8 KB\n"
     ]
    }
   ],
   "source": [
    "# Verify that the datatypes are integers and floats since correlation only accepts numbers\n",
    "df_1.info()"
   ]
  },
  {
   "cell_type": "markdown",
   "id": "6a3ddcde",
   "metadata": {
    "ExecuteTime": {
     "end_time": "2023-02-24T16:52:52.776213Z",
     "start_time": "2023-02-24T16:52:52.773189Z"
    }
   },
   "source": [
    "## Does the performance in the exams \n",
    "\n",
    "vary according to gender, origin and education level of parents?"
   ]
  },
  {
   "cell_type": "code",
   "execution_count": 148,
   "id": "43b16e68",
   "metadata": {
    "ExecuteTime": {
     "end_time": "2023-04-07T15:19:52.413527Z",
     "start_time": "2023-04-07T15:19:52.410263Z"
    }
   },
   "outputs": [],
   "source": [
    "df_2 = df_1.copy(deep=True)"
   ]
  },
  {
   "cell_type": "code",
   "execution_count": 151,
   "id": "c6f9b615",
   "metadata": {
    "ExecuteTime": {
     "end_time": "2023-04-07T15:22:35.974355Z",
     "start_time": "2023-04-07T15:22:35.971472Z"
    }
   },
   "outputs": [],
   "source": [
    "column_list = df_2.columns.tolist()"
   ]
  },
  {
   "cell_type": "code",
   "execution_count": 152,
   "id": "c013fd83",
   "metadata": {
    "ExecuteTime": {
     "end_time": "2023-04-07T15:22:40.238425Z",
     "start_time": "2023-04-07T15:22:40.211161Z"
    }
   },
   "outputs": [
    {
     "data": {
      "text/html": [
       "<div>\n",
       "<style scoped>\n",
       "    .dataframe tbody tr th:only-of-type {\n",
       "        vertical-align: middle;\n",
       "    }\n",
       "\n",
       "    .dataframe tbody tr th {\n",
       "        vertical-align: top;\n",
       "    }\n",
       "\n",
       "    .dataframe thead th {\n",
       "        text-align: right;\n",
       "    }\n",
       "</style>\n",
       "<table border=\"1\" class=\"dataframe\">\n",
       "  <thead>\n",
       "    <tr style=\"text-align: right;\">\n",
       "      <th></th>\n",
       "      <th>gender</th>\n",
       "      <th>race/ethnicity</th>\n",
       "      <th>parental level of education</th>\n",
       "      <th>lunch</th>\n",
       "      <th>test preparation course</th>\n",
       "      <th>math score</th>\n",
       "      <th>reading score</th>\n",
       "      <th>writing score</th>\n",
       "    </tr>\n",
       "  </thead>\n",
       "  <tbody>\n",
       "    <tr>\n",
       "      <th>count</th>\n",
       "      <td>1000.000000</td>\n",
       "      <td>1000.000000</td>\n",
       "      <td>1000.000000</td>\n",
       "      <td>1000.000000</td>\n",
       "      <td>1000.000000</td>\n",
       "      <td>1000.00000</td>\n",
       "      <td>1000.000000</td>\n",
       "      <td>1000.000000</td>\n",
       "    </tr>\n",
       "    <tr>\n",
       "      <th>mean</th>\n",
       "      <td>0.518000</td>\n",
       "      <td>2.174000</td>\n",
       "      <td>1.684000</td>\n",
       "      <td>0.645000</td>\n",
       "      <td>0.358000</td>\n",
       "      <td>66.08900</td>\n",
       "      <td>69.169000</td>\n",
       "      <td>68.054000</td>\n",
       "    </tr>\n",
       "    <tr>\n",
       "      <th>std</th>\n",
       "      <td>0.499926</td>\n",
       "      <td>1.157179</td>\n",
       "      <td>0.578341</td>\n",
       "      <td>0.478753</td>\n",
       "      <td>0.479652</td>\n",
       "      <td>15.16308</td>\n",
       "      <td>14.600192</td>\n",
       "      <td>15.195657</td>\n",
       "    </tr>\n",
       "    <tr>\n",
       "      <th>min</th>\n",
       "      <td>0.000000</td>\n",
       "      <td>0.000000</td>\n",
       "      <td>1.000000</td>\n",
       "      <td>0.000000</td>\n",
       "      <td>0.000000</td>\n",
       "      <td>0.00000</td>\n",
       "      <td>17.000000</td>\n",
       "      <td>10.000000</td>\n",
       "    </tr>\n",
       "    <tr>\n",
       "      <th>25%</th>\n",
       "      <td>0.000000</td>\n",
       "      <td>1.000000</td>\n",
       "      <td>1.000000</td>\n",
       "      <td>0.000000</td>\n",
       "      <td>0.000000</td>\n",
       "      <td>57.00000</td>\n",
       "      <td>59.000000</td>\n",
       "      <td>57.750000</td>\n",
       "    </tr>\n",
       "    <tr>\n",
       "      <th>50%</th>\n",
       "      <td>1.000000</td>\n",
       "      <td>2.000000</td>\n",
       "      <td>2.000000</td>\n",
       "      <td>1.000000</td>\n",
       "      <td>0.000000</td>\n",
       "      <td>66.00000</td>\n",
       "      <td>70.000000</td>\n",
       "      <td>69.000000</td>\n",
       "    </tr>\n",
       "    <tr>\n",
       "      <th>75%</th>\n",
       "      <td>1.000000</td>\n",
       "      <td>3.000000</td>\n",
       "      <td>2.000000</td>\n",
       "      <td>1.000000</td>\n",
       "      <td>1.000000</td>\n",
       "      <td>77.00000</td>\n",
       "      <td>79.000000</td>\n",
       "      <td>79.000000</td>\n",
       "    </tr>\n",
       "    <tr>\n",
       "      <th>max</th>\n",
       "      <td>1.000000</td>\n",
       "      <td>4.000000</td>\n",
       "      <td>3.000000</td>\n",
       "      <td>1.000000</td>\n",
       "      <td>1.000000</td>\n",
       "      <td>100.00000</td>\n",
       "      <td>100.000000</td>\n",
       "      <td>100.000000</td>\n",
       "    </tr>\n",
       "  </tbody>\n",
       "</table>\n",
       "</div>"
      ],
      "text/plain": [
       "            gender  race/ethnicity  parental level of education        lunch  \\\n",
       "count  1000.000000     1000.000000                  1000.000000  1000.000000   \n",
       "mean      0.518000        2.174000                     1.684000     0.645000   \n",
       "std       0.499926        1.157179                     0.578341     0.478753   \n",
       "min       0.000000        0.000000                     1.000000     0.000000   \n",
       "25%       0.000000        1.000000                     1.000000     0.000000   \n",
       "50%       1.000000        2.000000                     2.000000     1.000000   \n",
       "75%       1.000000        3.000000                     2.000000     1.000000   \n",
       "max       1.000000        4.000000                     3.000000     1.000000   \n",
       "\n",
       "       test preparation course  math score  reading score  writing score  \n",
       "count              1000.000000  1000.00000    1000.000000    1000.000000  \n",
       "mean                  0.358000    66.08900      69.169000      68.054000  \n",
       "std                   0.479652    15.16308      14.600192      15.195657  \n",
       "min                   0.000000     0.00000      17.000000      10.000000  \n",
       "25%                   0.000000    57.00000      59.000000      57.750000  \n",
       "50%                   0.000000    66.00000      70.000000      69.000000  \n",
       "75%                   1.000000    77.00000      79.000000      79.000000  \n",
       "max                   1.000000   100.00000     100.000000     100.000000  "
      ]
     },
     "execution_count": 152,
     "metadata": {},
     "output_type": "execute_result"
    }
   ],
   "source": [
    "df_1.describe()"
   ]
  },
  {
   "cell_type": "code",
   "execution_count": 158,
   "id": "1dcc3eb6",
   "metadata": {
    "ExecuteTime": {
     "end_time": "2023-04-07T15:44:40.912950Z",
     "start_time": "2023-04-07T15:44:40.894408Z"
    }
   },
   "outputs": [
    {
     "data": {
      "text/html": [
       "<div>\n",
       "<style scoped>\n",
       "    .dataframe tbody tr th:only-of-type {\n",
       "        vertical-align: middle;\n",
       "    }\n",
       "\n",
       "    .dataframe tbody tr th {\n",
       "        vertical-align: top;\n",
       "    }\n",
       "\n",
       "    .dataframe thead th {\n",
       "        text-align: right;\n",
       "    }\n",
       "</style>\n",
       "<table border=\"1\" class=\"dataframe\">\n",
       "  <thead>\n",
       "    <tr style=\"text-align: right;\">\n",
       "      <th></th>\n",
       "      <th>gender</th>\n",
       "      <th>race/ethnicity</th>\n",
       "      <th>parental level of education</th>\n",
       "      <th>lunch</th>\n",
       "      <th>test preparation course</th>\n",
       "      <th>math score</th>\n",
       "      <th>reading score</th>\n",
       "      <th>writing score</th>\n",
       "    </tr>\n",
       "  </thead>\n",
       "  <tbody>\n",
       "    <tr>\n",
       "      <th>gender</th>\n",
       "      <td>1.000000</td>\n",
       "      <td>0.001502</td>\n",
       "      <td>0.050852</td>\n",
       "      <td>-0.021372</td>\n",
       "      <td>-0.006028</td>\n",
       "      <td>-0.167982</td>\n",
       "      <td>0.244313</td>\n",
       "      <td>0.301225</td>\n",
       "    </tr>\n",
       "    <tr>\n",
       "      <th>race/ethnicity</th>\n",
       "      <td>0.001502</td>\n",
       "      <td>1.000000</td>\n",
       "      <td>0.116642</td>\n",
       "      <td>0.046563</td>\n",
       "      <td>0.017508</td>\n",
       "      <td>0.216415</td>\n",
       "      <td>0.145253</td>\n",
       "      <td>0.165691</td>\n",
       "    </tr>\n",
       "    <tr>\n",
       "      <th>parental level of education</th>\n",
       "      <td>0.050852</td>\n",
       "      <td>0.116642</td>\n",
       "      <td>1.000000</td>\n",
       "      <td>-0.018727</td>\n",
       "      <td>0.000462</td>\n",
       "      <td>0.165983</td>\n",
       "      <td>0.194466</td>\n",
       "      <td>0.240910</td>\n",
       "    </tr>\n",
       "    <tr>\n",
       "      <th>lunch</th>\n",
       "      <td>-0.021372</td>\n",
       "      <td>0.046563</td>\n",
       "      <td>-0.018727</td>\n",
       "      <td>1.000000</td>\n",
       "      <td>-0.017044</td>\n",
       "      <td>0.350877</td>\n",
       "      <td>0.229560</td>\n",
       "      <td>0.245769</td>\n",
       "    </tr>\n",
       "    <tr>\n",
       "      <th>test preparation course</th>\n",
       "      <td>-0.006028</td>\n",
       "      <td>0.017508</td>\n",
       "      <td>0.000462</td>\n",
       "      <td>-0.017044</td>\n",
       "      <td>1.000000</td>\n",
       "      <td>0.177702</td>\n",
       "      <td>0.241780</td>\n",
       "      <td>0.312946</td>\n",
       "    </tr>\n",
       "    <tr>\n",
       "      <th>math score</th>\n",
       "      <td>-0.167982</td>\n",
       "      <td>0.216415</td>\n",
       "      <td>0.165983</td>\n",
       "      <td>0.350877</td>\n",
       "      <td>0.177702</td>\n",
       "      <td>1.000000</td>\n",
       "      <td>0.817580</td>\n",
       "      <td>0.802642</td>\n",
       "    </tr>\n",
       "    <tr>\n",
       "      <th>reading score</th>\n",
       "      <td>0.244313</td>\n",
       "      <td>0.145253</td>\n",
       "      <td>0.194466</td>\n",
       "      <td>0.229560</td>\n",
       "      <td>0.241780</td>\n",
       "      <td>0.817580</td>\n",
       "      <td>1.000000</td>\n",
       "      <td>0.954598</td>\n",
       "    </tr>\n",
       "    <tr>\n",
       "      <th>writing score</th>\n",
       "      <td>0.301225</td>\n",
       "      <td>0.165691</td>\n",
       "      <td>0.240910</td>\n",
       "      <td>0.245769</td>\n",
       "      <td>0.312946</td>\n",
       "      <td>0.802642</td>\n",
       "      <td>0.954598</td>\n",
       "      <td>1.000000</td>\n",
       "    </tr>\n",
       "  </tbody>\n",
       "</table>\n",
       "</div>"
      ],
      "text/plain": [
       "                               gender  race/ethnicity  \\\n",
       "gender                       1.000000        0.001502   \n",
       "race/ethnicity               0.001502        1.000000   \n",
       "parental level of education  0.050852        0.116642   \n",
       "lunch                       -0.021372        0.046563   \n",
       "test preparation course     -0.006028        0.017508   \n",
       "math score                  -0.167982        0.216415   \n",
       "reading score                0.244313        0.145253   \n",
       "writing score                0.301225        0.165691   \n",
       "\n",
       "                             parental level of education     lunch  \\\n",
       "gender                                          0.050852 -0.021372   \n",
       "race/ethnicity                                  0.116642  0.046563   \n",
       "parental level of education                     1.000000 -0.018727   \n",
       "lunch                                          -0.018727  1.000000   \n",
       "test preparation course                         0.000462 -0.017044   \n",
       "math score                                      0.165983  0.350877   \n",
       "reading score                                   0.194466  0.229560   \n",
       "writing score                                   0.240910  0.245769   \n",
       "\n",
       "                             test preparation course  math score  \\\n",
       "gender                                     -0.006028   -0.167982   \n",
       "race/ethnicity                              0.017508    0.216415   \n",
       "parental level of education                 0.000462    0.165983   \n",
       "lunch                                      -0.017044    0.350877   \n",
       "test preparation course                     1.000000    0.177702   \n",
       "math score                                  0.177702    1.000000   \n",
       "reading score                               0.241780    0.817580   \n",
       "writing score                               0.312946    0.802642   \n",
       "\n",
       "                             reading score  writing score  \n",
       "gender                            0.244313       0.301225  \n",
       "race/ethnicity                    0.145253       0.165691  \n",
       "parental level of education       0.194466       0.240910  \n",
       "lunch                             0.229560       0.245769  \n",
       "test preparation course           0.241780       0.312946  \n",
       "math score                        0.817580       0.802642  \n",
       "reading score                     1.000000       0.954598  \n",
       "writing score                     0.954598       1.000000  "
      ]
     },
     "execution_count": 158,
     "metadata": {},
     "output_type": "execute_result"
    }
   ],
   "source": [
    "df_2[column_list].corr()"
   ]
  },
  {
   "cell_type": "code",
   "execution_count": 156,
   "id": "0ce58aae",
   "metadata": {
    "ExecuteTime": {
     "end_time": "2023-04-07T15:24:36.220178Z",
     "start_time": "2023-04-07T15:24:35.744783Z"
    }
   },
   "outputs": [
    {
     "data": {
      "text/plain": [
       "<AxesSubplot:>"
      ]
     },
     "execution_count": 156,
     "metadata": {},
     "output_type": "execute_result"
    },
    {
     "data": {
      "image/png": "[encoded data removed]",
      "text/plain": [
       "<Figure size 1000x500 with 2 Axes>"
      ]
     },
     "metadata": {},
     "output_type": "display_data"
    }
   ],
   "source": [
    "# For the heatamp needed to convert the categorical variables to integer so they would be\n",
    "# used.\n",
    "plt.figure(figsize=(10,5))\n",
    "sns.heatmap(data=df_2[column_list].corr(), annot=True)"
   ]
  },
  {
   "cell_type": "code",
   "execution_count": 160,
   "id": "8b5c58a8",
   "metadata": {
    "ExecuteTime": {
     "end_time": "2023-04-07T15:55:09.038456Z",
     "start_time": "2023-04-07T15:55:08.703753Z"
    }
   },
   "outputs": [
    {
     "data": {
      "text/plain": [
       "<AxesSubplot:>"
      ]
     },
     "execution_count": 160,
     "metadata": {},
     "output_type": "execute_result"
    },
    {
     "data": {
      "image/png": "[encoded data removed]",
      "text/plain": [
       "<Figure size 1000x500 with 2 Axes>"
      ]
     },
     "metadata": {},
     "output_type": "display_data"
    }
   ],
   "source": [
    "plt.figure(figsize=(10,5))\n",
    "sns.heatmap(data=df_2[column_list].corr(), annot=True, mask=np.triu(df_2.corr(),0))"
   ]
  },
  {
   "cell_type": "code",
   "execution_count": null,
   "id": "0365a635",
   "metadata": {},
   "outputs": [],
   "source": [
    "Question : We have correlation, but how do we do cause and effect\n",
    "Question about the heat map : gender, math score = .17\n",
    "For lunch and gender more male got standard lunch\n",
    "Analysis: "
   ]
  },
  {
   "cell_type": "code",
   "execution_count": 134,
   "id": "8aa37400",
   "metadata": {
    "ExecuteTime": {
     "end_time": "2023-04-07T04:30:25.944598Z",
     "start_time": "2023-04-07T04:30:25.900760Z"
    }
   },
   "outputs": [
    {
     "data": {
      "text/html": [
       "<div>\n",
       "<style scoped>\n",
       "    .dataframe tbody tr th:only-of-type {\n",
       "        vertical-align: middle;\n",
       "    }\n",
       "\n",
       "    .dataframe tbody tr th {\n",
       "        vertical-align: top;\n",
       "    }\n",
       "\n",
       "    .dataframe thead th {\n",
       "        text-align: right;\n",
       "    }\n",
       "</style>\n",
       "<table border=\"1\" class=\"dataframe\">\n",
       "  <thead>\n",
       "    <tr style=\"text-align: right;\">\n",
       "      <th></th>\n",
       "      <th>gender</th>\n",
       "      <th>0</th>\n",
       "      <th>1</th>\n",
       "    </tr>\n",
       "  </thead>\n",
       "  <tbody>\n",
       "    <tr>\n",
       "      <th rowspan=\"8\" valign=\"top\">race/ethnicity</th>\n",
       "      <th>count</th>\n",
       "      <td>482.000000</td>\n",
       "      <td>518.000000</td>\n",
       "    </tr>\n",
       "    <tr>\n",
       "      <th>mean</th>\n",
       "      <td>2.172199</td>\n",
       "      <td>2.175676</td>\n",
       "    </tr>\n",
       "    <tr>\n",
       "      <th>std</th>\n",
       "      <td>1.206968</td>\n",
       "      <td>1.110016</td>\n",
       "    </tr>\n",
       "    <tr>\n",
       "      <th>min</th>\n",
       "      <td>0.000000</td>\n",
       "      <td>0.000000</td>\n",
       "    </tr>\n",
       "    <tr>\n",
       "      <th>25%</th>\n",
       "      <td>1.000000</td>\n",
       "      <td>1.000000</td>\n",
       "    </tr>\n",
       "    <tr>\n",
       "      <th>50%</th>\n",
       "      <td>2.000000</td>\n",
       "      <td>2.000000</td>\n",
       "    </tr>\n",
       "    <tr>\n",
       "      <th>75%</th>\n",
       "      <td>3.000000</td>\n",
       "      <td>3.000000</td>\n",
       "    </tr>\n",
       "    <tr>\n",
       "      <th>max</th>\n",
       "      <td>4.000000</td>\n",
       "      <td>4.000000</td>\n",
       "    </tr>\n",
       "    <tr>\n",
       "      <th rowspan=\"8\" valign=\"top\">parental level of education</th>\n",
       "      <th>count</th>\n",
       "      <td>482.000000</td>\n",
       "      <td>518.000000</td>\n",
       "    </tr>\n",
       "    <tr>\n",
       "      <th>mean</th>\n",
       "      <td>1.653527</td>\n",
       "      <td>1.712355</td>\n",
       "    </tr>\n",
       "    <tr>\n",
       "      <th>std</th>\n",
       "      <td>0.567921</td>\n",
       "      <td>0.586998</td>\n",
       "    </tr>\n",
       "    <tr>\n",
       "      <th>min</th>\n",
       "      <td>1.000000</td>\n",
       "      <td>1.000000</td>\n",
       "    </tr>\n",
       "    <tr>\n",
       "      <th>25%</th>\n",
       "      <td>1.000000</td>\n",
       "      <td>1.000000</td>\n",
       "    </tr>\n",
       "    <tr>\n",
       "      <th>50%</th>\n",
       "      <td>2.000000</td>\n",
       "      <td>2.000000</td>\n",
       "    </tr>\n",
       "    <tr>\n",
       "      <th>75%</th>\n",
       "      <td>2.000000</td>\n",
       "      <td>2.000000</td>\n",
       "    </tr>\n",
       "    <tr>\n",
       "      <th>max</th>\n",
       "      <td>3.000000</td>\n",
       "      <td>3.000000</td>\n",
       "    </tr>\n",
       "    <tr>\n",
       "      <th rowspan=\"8\" valign=\"top\">lunch</th>\n",
       "      <th>count</th>\n",
       "      <td>482.000000</td>\n",
       "      <td>518.000000</td>\n",
       "    </tr>\n",
       "    <tr>\n",
       "      <th>mean</th>\n",
       "      <td>0.655602</td>\n",
       "      <td>0.635135</td>\n",
       "    </tr>\n",
       "    <tr>\n",
       "      <th>std</th>\n",
       "      <td>0.475665</td>\n",
       "      <td>0.481858</td>\n",
       "    </tr>\n",
       "    <tr>\n",
       "      <th>min</th>\n",
       "      <td>0.000000</td>\n",
       "      <td>0.000000</td>\n",
       "    </tr>\n",
       "    <tr>\n",
       "      <th>25%</th>\n",
       "      <td>0.000000</td>\n",
       "      <td>0.000000</td>\n",
       "    </tr>\n",
       "    <tr>\n",
       "      <th>50%</th>\n",
       "      <td>1.000000</td>\n",
       "      <td>1.000000</td>\n",
       "    </tr>\n",
       "    <tr>\n",
       "      <th>75%</th>\n",
       "      <td>1.000000</td>\n",
       "      <td>1.000000</td>\n",
       "    </tr>\n",
       "    <tr>\n",
       "      <th>max</th>\n",
       "      <td>1.000000</td>\n",
       "      <td>1.000000</td>\n",
       "    </tr>\n",
       "    <tr>\n",
       "      <th rowspan=\"8\" valign=\"top\">test preparation course</th>\n",
       "      <th>count</th>\n",
       "      <td>482.000000</td>\n",
       "      <td>518.000000</td>\n",
       "    </tr>\n",
       "    <tr>\n",
       "      <th>mean</th>\n",
       "      <td>0.360996</td>\n",
       "      <td>0.355212</td>\n",
       "    </tr>\n",
       "    <tr>\n",
       "      <th>std</th>\n",
       "      <td>0.480788</td>\n",
       "      <td>0.479040</td>\n",
       "    </tr>\n",
       "    <tr>\n",
       "      <th>min</th>\n",
       "      <td>0.000000</td>\n",
       "      <td>0.000000</td>\n",
       "    </tr>\n",
       "    <tr>\n",
       "      <th>25%</th>\n",
       "      <td>0.000000</td>\n",
       "      <td>0.000000</td>\n",
       "    </tr>\n",
       "    <tr>\n",
       "      <th>50%</th>\n",
       "      <td>0.000000</td>\n",
       "      <td>0.000000</td>\n",
       "    </tr>\n",
       "    <tr>\n",
       "      <th>75%</th>\n",
       "      <td>1.000000</td>\n",
       "      <td>1.000000</td>\n",
       "    </tr>\n",
       "    <tr>\n",
       "      <th>max</th>\n",
       "      <td>1.000000</td>\n",
       "      <td>1.000000</td>\n",
       "    </tr>\n",
       "    <tr>\n",
       "      <th rowspan=\"8\" valign=\"top\">math score</th>\n",
       "      <th>count</th>\n",
       "      <td>482.000000</td>\n",
       "      <td>518.000000</td>\n",
       "    </tr>\n",
       "    <tr>\n",
       "      <th>mean</th>\n",
       "      <td>68.728216</td>\n",
       "      <td>63.633205</td>\n",
       "    </tr>\n",
       "    <tr>\n",
       "      <th>std</th>\n",
       "      <td>14.356277</td>\n",
       "      <td>15.491453</td>\n",
       "    </tr>\n",
       "    <tr>\n",
       "      <th>min</th>\n",
       "      <td>27.000000</td>\n",
       "      <td>0.000000</td>\n",
       "    </tr>\n",
       "    <tr>\n",
       "      <th>25%</th>\n",
       "      <td>59.000000</td>\n",
       "      <td>54.000000</td>\n",
       "    </tr>\n",
       "    <tr>\n",
       "      <th>50%</th>\n",
       "      <td>69.000000</td>\n",
       "      <td>65.000000</td>\n",
       "    </tr>\n",
       "    <tr>\n",
       "      <th>75%</th>\n",
       "      <td>79.000000</td>\n",
       "      <td>74.000000</td>\n",
       "    </tr>\n",
       "    <tr>\n",
       "      <th>max</th>\n",
       "      <td>100.000000</td>\n",
       "      <td>100.000000</td>\n",
       "    </tr>\n",
       "    <tr>\n",
       "      <th rowspan=\"8\" valign=\"top\">reading score</th>\n",
       "      <th>count</th>\n",
       "      <td>482.000000</td>\n",
       "      <td>518.000000</td>\n",
       "    </tr>\n",
       "    <tr>\n",
       "      <th>mean</th>\n",
       "      <td>65.473029</td>\n",
       "      <td>72.608108</td>\n",
       "    </tr>\n",
       "    <tr>\n",
       "      <th>std</th>\n",
       "      <td>13.931832</td>\n",
       "      <td>14.378245</td>\n",
       "    </tr>\n",
       "    <tr>\n",
       "      <th>min</th>\n",
       "      <td>23.000000</td>\n",
       "      <td>17.000000</td>\n",
       "    </tr>\n",
       "    <tr>\n",
       "      <th>25%</th>\n",
       "      <td>56.000000</td>\n",
       "      <td>63.250000</td>\n",
       "    </tr>\n",
       "    <tr>\n",
       "      <th>50%</th>\n",
       "      <td>66.000000</td>\n",
       "      <td>73.000000</td>\n",
       "    </tr>\n",
       "    <tr>\n",
       "      <th>75%</th>\n",
       "      <td>75.000000</td>\n",
       "      <td>83.000000</td>\n",
       "    </tr>\n",
       "    <tr>\n",
       "      <th>max</th>\n",
       "      <td>100.000000</td>\n",
       "      <td>100.000000</td>\n",
       "    </tr>\n",
       "    <tr>\n",
       "      <th rowspan=\"8\" valign=\"top\">writing score</th>\n",
       "      <th>count</th>\n",
       "      <td>482.000000</td>\n",
       "      <td>518.000000</td>\n",
       "    </tr>\n",
       "    <tr>\n",
       "      <th>mean</th>\n",
       "      <td>63.311203</td>\n",
       "      <td>72.467181</td>\n",
       "    </tr>\n",
       "    <tr>\n",
       "      <th>std</th>\n",
       "      <td>14.113832</td>\n",
       "      <td>14.844842</td>\n",
       "    </tr>\n",
       "    <tr>\n",
       "      <th>min</th>\n",
       "      <td>15.000000</td>\n",
       "      <td>10.000000</td>\n",
       "    </tr>\n",
       "    <tr>\n",
       "      <th>25%</th>\n",
       "      <td>53.000000</td>\n",
       "      <td>64.000000</td>\n",
       "    </tr>\n",
       "    <tr>\n",
       "      <th>50%</th>\n",
       "      <td>64.000000</td>\n",
       "      <td>74.000000</td>\n",
       "    </tr>\n",
       "    <tr>\n",
       "      <th>75%</th>\n",
       "      <td>73.750000</td>\n",
       "      <td>82.000000</td>\n",
       "    </tr>\n",
       "    <tr>\n",
       "      <th>max</th>\n",
       "      <td>100.000000</td>\n",
       "      <td>100.000000</td>\n",
       "    </tr>\n",
       "  </tbody>\n",
       "</table>\n",
       "</div>"
      ],
      "text/plain": [
       "gender                                      0           1\n",
       "race/ethnicity              count  482.000000  518.000000\n",
       "                            mean     2.172199    2.175676\n",
       "                            std      1.206968    1.110016\n",
       "                            min      0.000000    0.000000\n",
       "                            25%      1.000000    1.000000\n",
       "                            50%      2.000000    2.000000\n",
       "                            75%      3.000000    3.000000\n",
       "                            max      4.000000    4.000000\n",
       "parental level of education count  482.000000  518.000000\n",
       "                            mean     1.653527    1.712355\n",
       "                            std      0.567921    0.586998\n",
       "                            min      1.000000    1.000000\n",
       "                            25%      1.000000    1.000000\n",
       "                            50%      2.000000    2.000000\n",
       "                            75%      2.000000    2.000000\n",
       "                            max      3.000000    3.000000\n",
       "lunch                       count  482.000000  518.000000\n",
       "                            mean     0.655602    0.635135\n",
       "                            std      0.475665    0.481858\n",
       "                            min      0.000000    0.000000\n",
       "                            25%      0.000000    0.000000\n",
       "                            50%      1.000000    1.000000\n",
       "                            75%      1.000000    1.000000\n",
       "                            max      1.000000    1.000000\n",
       "test preparation course     count  482.000000  518.000000\n",
       "                            mean     0.360996    0.355212\n",
       "                            std      0.480788    0.479040\n",
       "                            min      0.000000    0.000000\n",
       "                            25%      0.000000    0.000000\n",
       "                            50%      0.000000    0.000000\n",
       "                            75%      1.000000    1.000000\n",
       "                            max      1.000000    1.000000\n",
       "math score                  count  482.000000  518.000000\n",
       "                            mean    68.728216   63.633205\n",
       "                            std     14.356277   15.491453\n",
       "                            min     27.000000    0.000000\n",
       "                            25%     59.000000   54.000000\n",
       "                            50%     69.000000   65.000000\n",
       "                            75%     79.000000   74.000000\n",
       "                            max    100.000000  100.000000\n",
       "reading score               count  482.000000  518.000000\n",
       "                            mean    65.473029   72.608108\n",
       "                            std     13.931832   14.378245\n",
       "                            min     23.000000   17.000000\n",
       "                            25%     56.000000   63.250000\n",
       "                            50%     66.000000   73.000000\n",
       "                            75%     75.000000   83.000000\n",
       "                            max    100.000000  100.000000\n",
       "writing score               count  482.000000  518.000000\n",
       "                            mean    63.311203   72.467181\n",
       "                            std     14.113832   14.844842\n",
       "                            min     15.000000   10.000000\n",
       "                            25%     53.000000   64.000000\n",
       "                            50%     64.000000   74.000000\n",
       "                            75%     73.750000   82.000000\n",
       "                            max    100.000000  100.000000"
      ]
     },
     "execution_count": 134,
     "metadata": {},
     "output_type": "execute_result"
    }
   ],
   "source": [
    "df_2.describe().T"
   ]
  },
  {
   "cell_type": "code",
   "execution_count": 179,
   "id": "45d16ef9",
   "metadata": {
    "ExecuteTime": {
     "end_time": "2023-04-07T16:11:33.656553Z",
     "start_time": "2023-04-07T16:11:33.652360Z"
    }
   },
   "outputs": [],
   "source": [
    "df_2['math score'].replace(0,1,inplace=True)"
   ]
  },
  {
   "cell_type": "code",
   "execution_count": 205,
   "id": "2628c215",
   "metadata": {
    "ExecuteTime": {
     "end_time": "2023-04-07T16:29:45.273965Z",
     "start_time": "2023-04-07T16:29:44.197112Z"
    }
   },
   "outputs": [
    {
     "data": {
      "text/plain": [
       "[]"
      ]
     },
     "execution_count": 205,
     "metadata": {},
     "output_type": "execute_result"
    },
    {
     "data": {
      "image/png": "[encoded data removed]",
      "text/plain": [
       "<Figure size 1000x500 with 6 Axes>"
      ]
     },
     "metadata": {},
     "output_type": "display_data"
    }
   ],
   "source": [
    "plt.figure(figsize=(10,5))\n",
    "plt.subplot(2,3,1)\n",
    "sns.boxplot(x='gender', y='math score', data=df_2)\n",
    "plt.subplot(2,3,4)\n",
    "sns.histplot(x='math score', hue='gender',data=df_2)\n",
    "\n",
    "plt.subplot(2,3,2)\n",
    "sns.boxplot(x='gender', y='reading score', data=df_2)\n",
    "plt.subplot(2,3,5)\n",
    "sns.histplot(x='reading score', hue='gender',data=df_2)\n",
    "\n",
    "plt.subplot(2,3,3)\n",
    "sns.boxplot(x='gender', y='writing score', data=df_2)\n",
    "plt.subplot(2,3,6)\n",
    "sns.histplot(x='writing score', hue='gender',data=df_2)\n",
    "\n",
    "plt.tight_layout()\n",
    "\n",
    "plt.plot()\n"
   ]
  },
  {
   "cell_type": "markdown",
   "id": "853e0d92",
   "metadata": {},
   "source": [
    "Analysis:\n",
    "    \n",
    "Can use boxplot since math score is continous and numerical and gender divides into 2 \n",
    "catgories\n",
    "\n",
    "histogram : To divide the historgram into different categories set hue to a categorical\n",
    "variable,  Not the gender who is better appear on right side more than the left.  \n",
    "Histogram is poor man hypothsis testing.  It will show if if the distirbutions are similar\n",
    "or not.\n",
    "\n",
    "Heat Map give you a numerical correlation\n",
    "If you numerical continous use histogram or boxplot\n",
    "If you discrete or categorical use bar chart to see the ratio\n",
    "\n",
    "For Univariate Analysis look at the columns individually.  Use the mean/median/standard\n",
    "distribtuion \n",
    "\n",
    "Next Step -- See what column is related to next column.  What problems are corrlated \n",
    "Find the most relavent columns and train the output.  Irreviliant column can worsen\n",
    "machine learning -- How do you do multivariate \n",
    "\n",
    "\n",
    "Females got more score in reading/writing and males got more score in math"
   ]
  },
  {
   "cell_type": "code",
   "execution_count": 135,
   "id": "f0422171",
   "metadata": {
    "ExecuteTime": {
     "end_time": "2023-04-07T04:30:25.952669Z",
     "start_time": "2023-04-07T04:30:25.947158Z"
    }
   },
   "outputs": [
    {
     "ename": "SyntaxError",
     "evalue": "invalid syntax (2686518876.py, line 3)",
     "output_type": "error",
     "traceback": [
      "\u001b[0;36m  Input \u001b[0;32mIn [135]\u001b[0;36m\u001b[0m\n\u001b[0;31m    Reading -- Female has the advantage\u001b[0m\n\u001b[0m                      ^\u001b[0m\n\u001b[0;31mSyntaxError\u001b[0m\u001b[0;31m:\u001b[0m invalid syntax\n"
     ]
    }
   ],
   "source": [
    "### Analysis by looking at the mean first and then standard deviation\n",
    "### All Standard deviations were close so it came down to the mean.\n",
    "Reading -- Female has the advantage\n",
    "Writing -- Female has the advantage\n",
    "Math    -- Male has the advantage"
   ]
  },
  {
   "cell_type": "markdown",
   "id": "5adfbd67",
   "metadata": {
    "ExecuteTime": {
     "end_time": "2023-02-24T19:19:41.726874Z",
     "start_time": "2023-02-24T19:19:41.724105Z"
    }
   },
   "source": [
    "### Education Level"
   ]
  },
  {
   "cell_type": "code",
   "execution_count": null,
   "id": "385f6cbb",
   "metadata": {
    "ExecuteTime": {
     "end_time": "2023-04-07T04:30:25.955327Z",
     "start_time": "2023-04-07T04:30:25.955309Z"
    }
   },
   "outputs": [],
   "source": [
    "df_3 = df_1.groupby(\"parental level of education\")\n",
    "df_3.describe()\n",
    "df_3.boxplot(figsize=(10,20))"
   ]
  },
  {
   "cell_type": "code",
   "execution_count": null,
   "id": "edd1aad9",
   "metadata": {
    "ExecuteTime": {
     "end_time": "2023-04-07T04:30:25.957286Z",
     "start_time": "2023-04-07T04:30:25.957270Z"
    }
   },
   "outputs": [],
   "source": [
    "df_3.describe().T"
   ]
  },
  {
   "cell_type": "markdown",
   "id": "7faf281c",
   "metadata": {},
   "source": [
    "There are 500 records and less then 3% so I will ignore the outliers.\n",
    "\n",
    "The master had the best results across the board \n",
    "\n",
    "The bachelors was next, but the associates degree was close being and\n",
    "did a little better in math.  Also some collage came close, but they did poorer in math.\n",
    "\n",
    "Interesting some high school did better than high school.  \n",
    "\n",
    "Though further study is needed.  What is signle factor is it access\n",
    "to paid teachers or the parent help them with their homework mroe."
   ]
  },
  {
   "cell_type": "code",
   "execution_count": null,
   "id": "966c9d49",
   "metadata": {
    "ExecuteTime": {
     "end_time": "2023-04-07T04:30:25.959415Z",
     "start_time": "2023-04-07T04:30:25.959372Z"
    }
   },
   "outputs": [],
   "source": [
    "df_3 = df_1.groupby(\"race/ethnicity\")\n",
    "df_3.boxplot(figsize=(8,10))"
   ]
  },
  {
   "cell_type": "code",
   "execution_count": null,
   "id": "eac5e39c",
   "metadata": {
    "ExecuteTime": {
     "end_time": "2023-04-07T04:30:25.962391Z",
     "start_time": "2023-04-07T04:30:25.962361Z"
    }
   },
   "outputs": [],
   "source": [
    "Group A was the lowest and D and C were second tier then group B \n",
    "and group was second and E was the best\n",
    "\n",
    "Though further study is needed.  What culteral factor most affect this\n",
    "relationship"
   ]
  },
  {
   "cell_type": "code",
   "execution_count": null,
   "id": "38bf98ed",
   "metadata": {
    "ExecuteTime": {
     "end_time": "2023-04-07T04:30:25.964200Z",
     "start_time": "2023-04-07T04:30:25.964183Z"
    }
   },
   "outputs": [],
   "source": [
    "## Does lunch type have a relationship with exam performances? \n",
    "\n",
    "How can you explain this, if any?\n"
   ]
  },
  {
   "cell_type": "code",
   "execution_count": null,
   "id": "1d0ac95c",
   "metadata": {
    "ExecuteTime": {
     "end_time": "2023-04-07T04:30:25.965705Z",
     "start_time": "2023-04-07T04:30:25.965688Z"
    }
   },
   "outputs": [],
   "source": [
    "df_3 = df_1.groupby(\"lunch\")\n",
    "df_3.boxplot(figsize=(8,5))"
   ]
  },
  {
   "cell_type": "code",
   "execution_count": null,
   "id": "d91c5895",
   "metadata": {
    "ExecuteTime": {
     "end_time": "2023-04-07T04:30:25.967510Z",
     "start_time": "2023-04-07T04:30:25.967491Z"
    }
   },
   "outputs": [],
   "source": [
    "Definitely there is an effect.  My guess, though further is needed,\n",
    "it might be cause of the social enconimic factors and not so much the \n",
    "free lunch."
   ]
  },
  {
   "cell_type": "code",
   "execution_count": null,
   "id": "ccc2151c",
   "metadata": {
    "ExecuteTime": {
     "end_time": "2023-04-07T04:30:25.969555Z",
     "start_time": "2023-04-07T04:30:25.969537Z"
    }
   },
   "outputs": [],
   "source": [
    "## Does the preparation courses have an impact on exam performance?\n",
    "\n",
    "Which lessons are most correlated with each other?\n"
   ]
  },
  {
   "cell_type": "code",
   "execution_count": null,
   "id": "d49fed7f",
   "metadata": {
    "ExecuteTime": {
     "end_time": "2023-04-07T04:30:25.971381Z",
     "start_time": "2023-04-07T04:30:25.971363Z"
    }
   },
   "outputs": [],
   "source": [
    "## Does lunch type have a relationship with exam performances? \n",
    "\n",
    "How can you explain this, if any?\n"
   ]
  },
  {
   "cell_type": "code",
   "execution_count": null,
   "id": "12e450a4",
   "metadata": {
    "ExecuteTime": {
     "end_time": "2023-04-07T04:30:25.974281Z",
     "start_time": "2023-04-07T04:30:25.974215Z"
    }
   },
   "outputs": [],
   "source": [
    "df_3 = df_1.groupby(\"test preparation course\")\n",
    "df_3.boxplot(figsize=(8,5))\n"
   ]
  },
  {
   "cell_type": "code",
   "execution_count": null,
   "id": "a4b2c1b3",
   "metadata": {
    "ExecuteTime": {
     "end_time": "2023-04-07T04:30:25.977655Z",
     "start_time": "2023-04-07T04:30:25.977628Z"
    }
   },
   "outputs": [],
   "source": [
    "# Kendall's will be used since measure how likely it is for two \n",
    "# variables to move in the same direction.\n",
    "df_3.corr(method='kendall')"
   ]
  },
  {
   "cell_type": "code",
   "execution_count": null,
   "id": "51245edf",
   "metadata": {
    "ExecuteTime": {
     "end_time": "2023-04-07T04:30:25.980007Z",
     "start_time": "2023-04-07T04:30:25.979981Z"
    }
   },
   "outputs": [],
   "source": [
    "The lesson most correlated with each ( I have chosen 80% are higher)\n",
    "\n",
    "No Preparation Courses : reading/writing\n",
    "For Preparation Courses: reading/writing"
   ]
  },
  {
   "cell_type": "code",
   "execution_count": null,
   "id": "ece20a95",
   "metadata": {},
   "outputs": [],
   "source": []
  }
 ],
 "metadata": {
  "kernelspec": {
   "display_name": "Python 3 (ipykernel)",
   "language": "python",
   "name": "python3"
  },
  "language_info": {
   "codemirror_mode": {
    "name": "ipython",
    "version": 3
   },
   "file_extension": ".py",
   "mimetype": "text/x-python",
   "name": "python",
   "nbconvert_exporter": "python",
   "pygments_lexer": "ipython3",
   "version": "3.9.13"
  },
  "toc": {
   "base_numbering": 1,
   "nav_menu": {},
   "number_sections": true,
   "sideBar": true,
   "skip_h1_title": false,
   "title_cell": "Table of Contents",
   "title_sidebar": "Contents",
   "toc_cell": false,
   "toc_position": {},
   "toc_section_display": true,
   "toc_window_display": false
  }
 },
 "nbformat": 4,
 "nbformat_minor": 5
}
