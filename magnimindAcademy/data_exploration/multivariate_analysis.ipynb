{
 "cells": [
  {
   "cell_type": "markdown",
   "id": "30ada798",
   "metadata": {},
   "source": [
    "In this assignment, you will continue to study the data of the US Education System (dataset). You can reach the explanations of this data from Kaggle again.\n",
    "\n",
    "To complete this assignment, submit the Github link of the Jupyter notebook file containing solutions to the questions below. You can talk to your mentor on your head or ask Slack at office time.\n",
    "\n",
    "Does the performance in the exams vary according to gender, origin and education level of parents?\n",
    "\n",
    "Does lunch type have a relationship with exam performances? How can you explain this, if any?\n",
    "\n",
    "Does the preparation courses have an impact on exam performance?\n",
    "Which lessons are most correlated with each other?\n"
   ]
  },
  {
   "cell_type": "code",
   "execution_count": 31,
   "id": "d83d2692",
   "metadata": {
    "ExecuteTime": {
     "end_time": "2023-02-24T17:10:28.941690Z",
     "start_time": "2023-02-24T17:10:28.938381Z"
    }
   },
   "outputs": [],
   "source": [
    "import pandas as pd\n",
    "import matplotlib.pyplot as plt"
   ]
  },
  {
   "cell_type": "code",
   "execution_count": 32,
   "id": "412a8a18",
   "metadata": {
    "ExecuteTime": {
     "end_time": "2023-02-24T17:10:29.423064Z",
     "start_time": "2023-02-24T17:10:29.415051Z"
    }
   },
   "outputs": [],
   "source": [
    "df_1 = pd.read_csv('studPerform.csv')"
   ]
  },
  {
   "cell_type": "code",
   "execution_count": 33,
   "id": "663a5cee",
   "metadata": {
    "ExecuteTime": {
     "end_time": "2023-02-24T17:10:30.110775Z",
     "start_time": "2023-02-24T17:10:30.097860Z"
    }
   },
   "outputs": [
    {
     "data": {
      "text/html": [
       "<div>\n",
       "<style scoped>\n",
       "    .dataframe tbody tr th:only-of-type {\n",
       "        vertical-align: middle;\n",
       "    }\n",
       "\n",
       "    .dataframe tbody tr th {\n",
       "        vertical-align: top;\n",
       "    }\n",
       "\n",
       "    .dataframe thead th {\n",
       "        text-align: right;\n",
       "    }\n",
       "</style>\n",
       "<table border=\"1\" class=\"dataframe\">\n",
       "  <thead>\n",
       "    <tr style=\"text-align: right;\">\n",
       "      <th></th>\n",
       "      <th>gender</th>\n",
       "      <th>race/ethnicity</th>\n",
       "      <th>parental level of education</th>\n",
       "      <th>lunch</th>\n",
       "      <th>test preparation course</th>\n",
       "      <th>math score</th>\n",
       "      <th>reading score</th>\n",
       "      <th>writing score</th>\n",
       "    </tr>\n",
       "  </thead>\n",
       "  <tbody>\n",
       "    <tr>\n",
       "      <th>0</th>\n",
       "      <td>female</td>\n",
       "      <td>group B</td>\n",
       "      <td>bachelor's degree</td>\n",
       "      <td>standard</td>\n",
       "      <td>none</td>\n",
       "      <td>72</td>\n",
       "      <td>72</td>\n",
       "      <td>74</td>\n",
       "    </tr>\n",
       "    <tr>\n",
       "      <th>1</th>\n",
       "      <td>female</td>\n",
       "      <td>group C</td>\n",
       "      <td>some college</td>\n",
       "      <td>standard</td>\n",
       "      <td>completed</td>\n",
       "      <td>69</td>\n",
       "      <td>90</td>\n",
       "      <td>88</td>\n",
       "    </tr>\n",
       "    <tr>\n",
       "      <th>2</th>\n",
       "      <td>female</td>\n",
       "      <td>group B</td>\n",
       "      <td>master's degree</td>\n",
       "      <td>standard</td>\n",
       "      <td>none</td>\n",
       "      <td>90</td>\n",
       "      <td>95</td>\n",
       "      <td>93</td>\n",
       "    </tr>\n",
       "    <tr>\n",
       "      <th>3</th>\n",
       "      <td>male</td>\n",
       "      <td>group A</td>\n",
       "      <td>associate's degree</td>\n",
       "      <td>free/reduced</td>\n",
       "      <td>none</td>\n",
       "      <td>47</td>\n",
       "      <td>57</td>\n",
       "      <td>44</td>\n",
       "    </tr>\n",
       "    <tr>\n",
       "      <th>4</th>\n",
       "      <td>male</td>\n",
       "      <td>group C</td>\n",
       "      <td>some college</td>\n",
       "      <td>standard</td>\n",
       "      <td>none</td>\n",
       "      <td>76</td>\n",
       "      <td>78</td>\n",
       "      <td>75</td>\n",
       "    </tr>\n",
       "  </tbody>\n",
       "</table>\n",
       "</div>"
      ],
      "text/plain": [
       "   gender race/ethnicity parental level of education         lunch  \\\n",
       "0  female        group B           bachelor's degree      standard   \n",
       "1  female        group C                some college      standard   \n",
       "2  female        group B             master's degree      standard   \n",
       "3    male        group A          associate's degree  free/reduced   \n",
       "4    male        group C                some college      standard   \n",
       "\n",
       "  test preparation course  math score  reading score  writing score  \n",
       "0                    none          72             72             74  \n",
       "1               completed          69             90             88  \n",
       "2                    none          90             95             93  \n",
       "3                    none          47             57             44  \n",
       "4                    none          76             78             75  "
      ]
     },
     "execution_count": 33,
     "metadata": {},
     "output_type": "execute_result"
    }
   ],
   "source": [
    "df_1.head()"
   ]
  },
  {
   "cell_type": "code",
   "execution_count": 34,
   "id": "e7f6ccca",
   "metadata": {
    "ExecuteTime": {
     "end_time": "2023-02-24T17:10:31.634882Z",
     "start_time": "2023-02-24T17:10:31.623802Z"
    }
   },
   "outputs": [
    {
     "data": {
      "text/html": [
       "<div>\n",
       "<style scoped>\n",
       "    .dataframe tbody tr th:only-of-type {\n",
       "        vertical-align: middle;\n",
       "    }\n",
       "\n",
       "    .dataframe tbody tr th {\n",
       "        vertical-align: top;\n",
       "    }\n",
       "\n",
       "    .dataframe thead th {\n",
       "        text-align: right;\n",
       "    }\n",
       "</style>\n",
       "<table border=\"1\" class=\"dataframe\">\n",
       "  <thead>\n",
       "    <tr style=\"text-align: right;\">\n",
       "      <th></th>\n",
       "      <th>gender</th>\n",
       "      <th>race/ethnicity</th>\n",
       "      <th>parental level of education</th>\n",
       "      <th>lunch</th>\n",
       "      <th>test preparation course</th>\n",
       "      <th>math score</th>\n",
       "      <th>reading score</th>\n",
       "      <th>writing score</th>\n",
       "    </tr>\n",
       "  </thead>\n",
       "  <tbody>\n",
       "    <tr>\n",
       "      <th>995</th>\n",
       "      <td>female</td>\n",
       "      <td>group E</td>\n",
       "      <td>master's degree</td>\n",
       "      <td>standard</td>\n",
       "      <td>completed</td>\n",
       "      <td>88</td>\n",
       "      <td>99</td>\n",
       "      <td>95</td>\n",
       "    </tr>\n",
       "    <tr>\n",
       "      <th>996</th>\n",
       "      <td>male</td>\n",
       "      <td>group C</td>\n",
       "      <td>high school</td>\n",
       "      <td>free/reduced</td>\n",
       "      <td>none</td>\n",
       "      <td>62</td>\n",
       "      <td>55</td>\n",
       "      <td>55</td>\n",
       "    </tr>\n",
       "    <tr>\n",
       "      <th>997</th>\n",
       "      <td>female</td>\n",
       "      <td>group C</td>\n",
       "      <td>high school</td>\n",
       "      <td>free/reduced</td>\n",
       "      <td>completed</td>\n",
       "      <td>59</td>\n",
       "      <td>71</td>\n",
       "      <td>65</td>\n",
       "    </tr>\n",
       "    <tr>\n",
       "      <th>998</th>\n",
       "      <td>female</td>\n",
       "      <td>group D</td>\n",
       "      <td>some college</td>\n",
       "      <td>standard</td>\n",
       "      <td>completed</td>\n",
       "      <td>68</td>\n",
       "      <td>78</td>\n",
       "      <td>77</td>\n",
       "    </tr>\n",
       "    <tr>\n",
       "      <th>999</th>\n",
       "      <td>female</td>\n",
       "      <td>group D</td>\n",
       "      <td>some college</td>\n",
       "      <td>free/reduced</td>\n",
       "      <td>none</td>\n",
       "      <td>77</td>\n",
       "      <td>86</td>\n",
       "      <td>86</td>\n",
       "    </tr>\n",
       "  </tbody>\n",
       "</table>\n",
       "</div>"
      ],
      "text/plain": [
       "     gender race/ethnicity parental level of education         lunch  \\\n",
       "995  female        group E             master's degree      standard   \n",
       "996    male        group C                 high school  free/reduced   \n",
       "997  female        group C                 high school  free/reduced   \n",
       "998  female        group D                some college      standard   \n",
       "999  female        group D                some college  free/reduced   \n",
       "\n",
       "    test preparation course  math score  reading score  writing score  \n",
       "995               completed          88             99             95  \n",
       "996                    none          62             55             55  \n",
       "997               completed          59             71             65  \n",
       "998               completed          68             78             77  \n",
       "999                    none          77             86             86  "
      ]
     },
     "execution_count": 34,
     "metadata": {},
     "output_type": "execute_result"
    }
   ],
   "source": [
    "df_1.tail()"
   ]
  },
  {
   "cell_type": "code",
   "execution_count": 14,
   "id": "ba997434",
   "metadata": {
    "ExecuteTime": {
     "end_time": "2023-02-24T16:56:50.912304Z",
     "start_time": "2023-02-24T16:56:50.890679Z"
    }
   },
   "outputs": [
    {
     "data": {
      "text/html": [
       "<div>\n",
       "<style scoped>\n",
       "    .dataframe tbody tr th:only-of-type {\n",
       "        vertical-align: middle;\n",
       "    }\n",
       "\n",
       "    .dataframe tbody tr th {\n",
       "        vertical-align: top;\n",
       "    }\n",
       "\n",
       "    .dataframe thead th {\n",
       "        text-align: right;\n",
       "    }\n",
       "</style>\n",
       "<table border=\"1\" class=\"dataframe\">\n",
       "  <thead>\n",
       "    <tr style=\"text-align: right;\">\n",
       "      <th></th>\n",
       "      <th>math score</th>\n",
       "      <th>reading score</th>\n",
       "      <th>writing score</th>\n",
       "    </tr>\n",
       "  </thead>\n",
       "  <tbody>\n",
       "    <tr>\n",
       "      <th>count</th>\n",
       "      <td>1000.00000</td>\n",
       "      <td>1000.000000</td>\n",
       "      <td>1000.000000</td>\n",
       "    </tr>\n",
       "    <tr>\n",
       "      <th>mean</th>\n",
       "      <td>66.08900</td>\n",
       "      <td>69.169000</td>\n",
       "      <td>68.054000</td>\n",
       "    </tr>\n",
       "    <tr>\n",
       "      <th>std</th>\n",
       "      <td>15.16308</td>\n",
       "      <td>14.600192</td>\n",
       "      <td>15.195657</td>\n",
       "    </tr>\n",
       "    <tr>\n",
       "      <th>min</th>\n",
       "      <td>0.00000</td>\n",
       "      <td>17.000000</td>\n",
       "      <td>10.000000</td>\n",
       "    </tr>\n",
       "    <tr>\n",
       "      <th>25%</th>\n",
       "      <td>57.00000</td>\n",
       "      <td>59.000000</td>\n",
       "      <td>57.750000</td>\n",
       "    </tr>\n",
       "    <tr>\n",
       "      <th>50%</th>\n",
       "      <td>66.00000</td>\n",
       "      <td>70.000000</td>\n",
       "      <td>69.000000</td>\n",
       "    </tr>\n",
       "    <tr>\n",
       "      <th>75%</th>\n",
       "      <td>77.00000</td>\n",
       "      <td>79.000000</td>\n",
       "      <td>79.000000</td>\n",
       "    </tr>\n",
       "    <tr>\n",
       "      <th>max</th>\n",
       "      <td>100.00000</td>\n",
       "      <td>100.000000</td>\n",
       "      <td>100.000000</td>\n",
       "    </tr>\n",
       "  </tbody>\n",
       "</table>\n",
       "</div>"
      ],
      "text/plain": [
       "       math score  reading score  writing score\n",
       "count  1000.00000    1000.000000    1000.000000\n",
       "mean     66.08900      69.169000      68.054000\n",
       "std      15.16308      14.600192      15.195657\n",
       "min       0.00000      17.000000      10.000000\n",
       "25%      57.00000      59.000000      57.750000\n",
       "50%      66.00000      70.000000      69.000000\n",
       "75%      77.00000      79.000000      79.000000\n",
       "max     100.00000     100.000000     100.000000"
      ]
     },
     "execution_count": 14,
     "metadata": {},
     "output_type": "execute_result"
    }
   ],
   "source": [
    "df_1.describe()"
   ]
  },
  {
   "cell_type": "markdown",
   "id": "6a3ddcde",
   "metadata": {
    "ExecuteTime": {
     "end_time": "2023-02-24T16:52:52.776213Z",
     "start_time": "2023-02-24T16:52:52.773189Z"
    }
   },
   "source": [
    "## Does the performance in the exams \n",
    "\n",
    "vary according to gender, origin and education level of parents?"
   ]
  },
  {
   "cell_type": "code",
   "execution_count": 108,
   "id": "43b16e68",
   "metadata": {
    "ExecuteTime": {
     "end_time": "2023-02-24T19:14:10.061703Z",
     "start_time": "2023-02-24T19:14:10.058513Z"
    }
   },
   "outputs": [],
   "source": [
    "df_2 = df_1.groupby(\"gender\")"
   ]
  },
  {
   "cell_type": "code",
   "execution_count": 109,
   "id": "c013fd83",
   "metadata": {
    "ExecuteTime": {
     "end_time": "2023-02-24T19:14:12.268162Z",
     "start_time": "2023-02-24T19:14:12.250393Z"
    }
   },
   "outputs": [
    {
     "data": {
      "text/html": [
       "<div>\n",
       "<style scoped>\n",
       "    .dataframe tbody tr th:only-of-type {\n",
       "        vertical-align: middle;\n",
       "    }\n",
       "\n",
       "    .dataframe tbody tr th {\n",
       "        vertical-align: top;\n",
       "    }\n",
       "\n",
       "    .dataframe thead th {\n",
       "        text-align: right;\n",
       "    }\n",
       "</style>\n",
       "<table border=\"1\" class=\"dataframe\">\n",
       "  <thead>\n",
       "    <tr style=\"text-align: right;\">\n",
       "      <th></th>\n",
       "      <th>math score</th>\n",
       "      <th>reading score</th>\n",
       "      <th>writing score</th>\n",
       "    </tr>\n",
       "  </thead>\n",
       "  <tbody>\n",
       "    <tr>\n",
       "      <th>count</th>\n",
       "      <td>1000.00000</td>\n",
       "      <td>1000.000000</td>\n",
       "      <td>1000.000000</td>\n",
       "    </tr>\n",
       "    <tr>\n",
       "      <th>mean</th>\n",
       "      <td>66.08900</td>\n",
       "      <td>69.169000</td>\n",
       "      <td>68.054000</td>\n",
       "    </tr>\n",
       "    <tr>\n",
       "      <th>std</th>\n",
       "      <td>15.16308</td>\n",
       "      <td>14.600192</td>\n",
       "      <td>15.195657</td>\n",
       "    </tr>\n",
       "    <tr>\n",
       "      <th>min</th>\n",
       "      <td>0.00000</td>\n",
       "      <td>17.000000</td>\n",
       "      <td>10.000000</td>\n",
       "    </tr>\n",
       "    <tr>\n",
       "      <th>25%</th>\n",
       "      <td>57.00000</td>\n",
       "      <td>59.000000</td>\n",
       "      <td>57.750000</td>\n",
       "    </tr>\n",
       "    <tr>\n",
       "      <th>50%</th>\n",
       "      <td>66.00000</td>\n",
       "      <td>70.000000</td>\n",
       "      <td>69.000000</td>\n",
       "    </tr>\n",
       "    <tr>\n",
       "      <th>75%</th>\n",
       "      <td>77.00000</td>\n",
       "      <td>79.000000</td>\n",
       "      <td>79.000000</td>\n",
       "    </tr>\n",
       "    <tr>\n",
       "      <th>max</th>\n",
       "      <td>100.00000</td>\n",
       "      <td>100.000000</td>\n",
       "      <td>100.000000</td>\n",
       "    </tr>\n",
       "  </tbody>\n",
       "</table>\n",
       "</div>"
      ],
      "text/plain": [
       "       math score  reading score  writing score\n",
       "count  1000.00000    1000.000000    1000.000000\n",
       "mean     66.08900      69.169000      68.054000\n",
       "std      15.16308      14.600192      15.195657\n",
       "min       0.00000      17.000000      10.000000\n",
       "25%      57.00000      59.000000      57.750000\n",
       "50%      66.00000      70.000000      69.000000\n",
       "75%      77.00000      79.000000      79.000000\n",
       "max     100.00000     100.000000     100.000000"
      ]
     },
     "execution_count": 109,
     "metadata": {},
     "output_type": "execute_result"
    }
   ],
   "source": [
    "df_1.describe()"
   ]
  },
  {
   "cell_type": "markdown",
   "id": "58aa47fa",
   "metadata": {},
   "source": [
    "Analysis : Looking over the numbers, everything seem very close together.  Now loets look at some graphs"
   ]
  },
  {
   "cell_type": "code",
   "execution_count": 102,
   "id": "0ce58aae",
   "metadata": {
    "ExecuteTime": {
     "end_time": "2023-02-24T18:29:48.249565Z",
     "start_time": "2023-02-24T18:29:47.502025Z"
    }
   },
   "outputs": [
    {
     "data": {
      "image/png": "[encoded data removed]",
      "text/plain": [
       "<Figure size 640x480 with 3 Axes>"
      ]
     },
     "metadata": {},
     "output_type": "display_data"
    }
   ],
   "source": [
    "fig, ax = plt.subplots(1,3)\n",
    "#plt.figure(figsize=(30,6))\n",
    "fig.tight_layout()\n",
    "\n",
    "ax[0].set_title(\"Reading\")\n",
    "ax[0].set_xlabel(\"gender\")\n",
    "ax[0].set_ylabel(\"score\")\n",
    "ax[0].scatter(df_1[\"gender\"], df_1[\"reading score\"])\n",
    "\n",
    "ax[1].set_title(\"Writing\")\n",
    "ax[1].set_xlabel(\"gender\")\n",
    "ax[1].set_ylabel(\"score\")\n",
    "ax[1].scatter(df_1[\"gender\"], df_1[\"writing score\"])\n",
    "              \n",
    "ax[2].set_title(\"Math\")\n",
    "ax[2].set_xlabel(\"gender\")\n",
    "ax[2].set_ylabel(\"score\")\n",
    "ax[2].scatter(df_1[\"gender\"], df_1[\"math score\"])\n",
    "\n",
    "plt.show()"
   ]
  },
  {
   "cell_type": "code",
   "execution_count": 114,
   "id": "8aa37400",
   "metadata": {
    "ExecuteTime": {
     "end_time": "2023-02-24T19:16:04.913682Z",
     "start_time": "2023-02-24T19:16:04.885716Z"
    }
   },
   "outputs": [
    {
     "data": {
      "text/html": [
       "<div>\n",
       "<style scoped>\n",
       "    .dataframe tbody tr th:only-of-type {\n",
       "        vertical-align: middle;\n",
       "    }\n",
       "\n",
       "    .dataframe tbody tr th {\n",
       "        vertical-align: top;\n",
       "    }\n",
       "\n",
       "    .dataframe thead th {\n",
       "        text-align: right;\n",
       "    }\n",
       "</style>\n",
       "<table border=\"1\" class=\"dataframe\">\n",
       "  <thead>\n",
       "    <tr style=\"text-align: right;\">\n",
       "      <th></th>\n",
       "      <th>gender</th>\n",
       "      <th>female</th>\n",
       "      <th>male</th>\n",
       "    </tr>\n",
       "  </thead>\n",
       "  <tbody>\n",
       "    <tr>\n",
       "      <th rowspan=\"8\" valign=\"top\">math score</th>\n",
       "      <th>count</th>\n",
       "      <td>518.000000</td>\n",
       "      <td>482.000000</td>\n",
       "    </tr>\n",
       "    <tr>\n",
       "      <th>mean</th>\n",
       "      <td>63.633205</td>\n",
       "      <td>68.728216</td>\n",
       "    </tr>\n",
       "    <tr>\n",
       "      <th>std</th>\n",
       "      <td>15.491453</td>\n",
       "      <td>14.356277</td>\n",
       "    </tr>\n",
       "    <tr>\n",
       "      <th>min</th>\n",
       "      <td>0.000000</td>\n",
       "      <td>27.000000</td>\n",
       "    </tr>\n",
       "    <tr>\n",
       "      <th>25%</th>\n",
       "      <td>54.000000</td>\n",
       "      <td>59.000000</td>\n",
       "    </tr>\n",
       "    <tr>\n",
       "      <th>50%</th>\n",
       "      <td>65.000000</td>\n",
       "      <td>69.000000</td>\n",
       "    </tr>\n",
       "    <tr>\n",
       "      <th>75%</th>\n",
       "      <td>74.000000</td>\n",
       "      <td>79.000000</td>\n",
       "    </tr>\n",
       "    <tr>\n",
       "      <th>max</th>\n",
       "      <td>100.000000</td>\n",
       "      <td>100.000000</td>\n",
       "    </tr>\n",
       "    <tr>\n",
       "      <th rowspan=\"8\" valign=\"top\">reading score</th>\n",
       "      <th>count</th>\n",
       "      <td>518.000000</td>\n",
       "      <td>482.000000</td>\n",
       "    </tr>\n",
       "    <tr>\n",
       "      <th>mean</th>\n",
       "      <td>72.608108</td>\n",
       "      <td>65.473029</td>\n",
       "    </tr>\n",
       "    <tr>\n",
       "      <th>std</th>\n",
       "      <td>14.378245</td>\n",
       "      <td>13.931832</td>\n",
       "    </tr>\n",
       "    <tr>\n",
       "      <th>min</th>\n",
       "      <td>17.000000</td>\n",
       "      <td>23.000000</td>\n",
       "    </tr>\n",
       "    <tr>\n",
       "      <th>25%</th>\n",
       "      <td>63.250000</td>\n",
       "      <td>56.000000</td>\n",
       "    </tr>\n",
       "    <tr>\n",
       "      <th>50%</th>\n",
       "      <td>73.000000</td>\n",
       "      <td>66.000000</td>\n",
       "    </tr>\n",
       "    <tr>\n",
       "      <th>75%</th>\n",
       "      <td>83.000000</td>\n",
       "      <td>75.000000</td>\n",
       "    </tr>\n",
       "    <tr>\n",
       "      <th>max</th>\n",
       "      <td>100.000000</td>\n",
       "      <td>100.000000</td>\n",
       "    </tr>\n",
       "    <tr>\n",
       "      <th rowspan=\"8\" valign=\"top\">writing score</th>\n",
       "      <th>count</th>\n",
       "      <td>518.000000</td>\n",
       "      <td>482.000000</td>\n",
       "    </tr>\n",
       "    <tr>\n",
       "      <th>mean</th>\n",
       "      <td>72.467181</td>\n",
       "      <td>63.311203</td>\n",
       "    </tr>\n",
       "    <tr>\n",
       "      <th>std</th>\n",
       "      <td>14.844842</td>\n",
       "      <td>14.113832</td>\n",
       "    </tr>\n",
       "    <tr>\n",
       "      <th>min</th>\n",
       "      <td>10.000000</td>\n",
       "      <td>15.000000</td>\n",
       "    </tr>\n",
       "    <tr>\n",
       "      <th>25%</th>\n",
       "      <td>64.000000</td>\n",
       "      <td>53.000000</td>\n",
       "    </tr>\n",
       "    <tr>\n",
       "      <th>50%</th>\n",
       "      <td>74.000000</td>\n",
       "      <td>64.000000</td>\n",
       "    </tr>\n",
       "    <tr>\n",
       "      <th>75%</th>\n",
       "      <td>82.000000</td>\n",
       "      <td>73.750000</td>\n",
       "    </tr>\n",
       "    <tr>\n",
       "      <th>max</th>\n",
       "      <td>100.000000</td>\n",
       "      <td>100.000000</td>\n",
       "    </tr>\n",
       "  </tbody>\n",
       "</table>\n",
       "</div>"
      ],
      "text/plain": [
       "gender                   female        male\n",
       "math score    count  518.000000  482.000000\n",
       "              mean    63.633205   68.728216\n",
       "              std     15.491453   14.356277\n",
       "              min      0.000000   27.000000\n",
       "              25%     54.000000   59.000000\n",
       "              50%     65.000000   69.000000\n",
       "              75%     74.000000   79.000000\n",
       "              max    100.000000  100.000000\n",
       "reading score count  518.000000  482.000000\n",
       "              mean    72.608108   65.473029\n",
       "              std     14.378245   13.931832\n",
       "              min     17.000000   23.000000\n",
       "              25%     63.250000   56.000000\n",
       "              50%     73.000000   66.000000\n",
       "              75%     83.000000   75.000000\n",
       "              max    100.000000  100.000000\n",
       "writing score count  518.000000  482.000000\n",
       "              mean    72.467181   63.311203\n",
       "              std     14.844842   14.113832\n",
       "              min     10.000000   15.000000\n",
       "              25%     64.000000   53.000000\n",
       "              50%     74.000000   64.000000\n",
       "              75%     82.000000   73.750000\n",
       "              max    100.000000  100.000000"
      ]
     },
     "execution_count": 114,
     "metadata": {},
     "output_type": "execute_result"
    }
   ],
   "source": [
    "df_2.describe().T"
   ]
  },
  {
   "cell_type": "code",
   "execution_count": null,
   "id": "f0422171",
   "metadata": {},
   "outputs": [],
   "source": [
    "### Analysis by looking at the mean first and then standard deviation\n",
    "### All Standard deviations were close so it came down to the mean.\n",
    "Reading -- Female has the advantage\n",
    "Writing -- Female has the advantage\n",
    "Math    -- Male has the advantage"
   ]
  },
  {
   "cell_type": "markdown",
   "id": "5adfbd67",
   "metadata": {
    "ExecuteTime": {
     "end_time": "2023-02-24T19:19:41.726874Z",
     "start_time": "2023-02-24T19:19:41.724105Z"
    }
   },
   "source": [
    "### Education Level"
   ]
  },
  {
   "cell_type": "code",
   "execution_count": 122,
   "id": "385f6cbb",
   "metadata": {
    "ExecuteTime": {
     "end_time": "2023-02-24T19:23:13.764023Z",
     "start_time": "2023-02-24T19:23:13.011387Z"
    }
   },
   "outputs": [
    {
     "data": {
      "text/plain": [
       "associate's degree         AxesSubplot(0.1,0.679412;0.363636x0.220588)\n",
       "bachelor's degree     AxesSubplot(0.536364,0.679412;0.363636x0.220588)\n",
       "high school                AxesSubplot(0.1,0.414706;0.363636x0.220588)\n",
       "master's degree       AxesSubplot(0.536364,0.414706;0.363636x0.220588)\n",
       "some college                   AxesSubplot(0.1,0.15;0.363636x0.220588)\n",
       "some high school          AxesSubplot(0.536364,0.15;0.363636x0.220588)\n",
       "dtype: object"
      ]
     },
     "execution_count": 122,
     "metadata": {},
     "output_type": "execute_result"
    },
    {
     "data": {
      "image/png": "[encoded data removed]",
      "text/plain": [
       "<Figure size 1000x2000 with 6 Axes>"
      ]
     },
     "metadata": {},
     "output_type": "display_data"
    }
   ],
   "source": [
    "df_3 = df_1.groupby(\"parental level of education\")\n",
    "df_3.describe()\n",
    "df_3.boxplot(figsize=(10,20))"
   ]
  },
  {
   "cell_type": "code",
   "execution_count": 124,
   "id": "edd1aad9",
   "metadata": {
    "ExecuteTime": {
     "end_time": "2023-02-24T19:29:10.376298Z",
     "start_time": "2023-02-24T19:29:10.324066Z"
    }
   },
   "outputs": [
    {
     "data": {
      "text/html": [
       "<div>\n",
       "<style scoped>\n",
       "    .dataframe tbody tr th:only-of-type {\n",
       "        vertical-align: middle;\n",
       "    }\n",
       "\n",
       "    .dataframe tbody tr th {\n",
       "        vertical-align: top;\n",
       "    }\n",
       "\n",
       "    .dataframe thead th {\n",
       "        text-align: right;\n",
       "    }\n",
       "</style>\n",
       "<table border=\"1\" class=\"dataframe\">\n",
       "  <thead>\n",
       "    <tr style=\"text-align: right;\">\n",
       "      <th></th>\n",
       "      <th>parental level of education</th>\n",
       "      <th>associate's degree</th>\n",
       "      <th>bachelor's degree</th>\n",
       "      <th>high school</th>\n",
       "      <th>master's degree</th>\n",
       "      <th>some college</th>\n",
       "      <th>some high school</th>\n",
       "    </tr>\n",
       "  </thead>\n",
       "  <tbody>\n",
       "    <tr>\n",
       "      <th rowspan=\"8\" valign=\"top\">math score</th>\n",
       "      <th>count</th>\n",
       "      <td>222.000000</td>\n",
       "      <td>118.000000</td>\n",
       "      <td>196.000000</td>\n",
       "      <td>59.000000</td>\n",
       "      <td>226.000000</td>\n",
       "      <td>179.000000</td>\n",
       "    </tr>\n",
       "    <tr>\n",
       "      <th>mean</th>\n",
       "      <td>67.882883</td>\n",
       "      <td>69.389831</td>\n",
       "      <td>62.137755</td>\n",
       "      <td>69.745763</td>\n",
       "      <td>67.128319</td>\n",
       "      <td>63.497207</td>\n",
       "    </tr>\n",
       "    <tr>\n",
       "      <th>std</th>\n",
       "      <td>15.112093</td>\n",
       "      <td>14.943789</td>\n",
       "      <td>14.539651</td>\n",
       "      <td>15.153915</td>\n",
       "      <td>14.312897</td>\n",
       "      <td>15.927989</td>\n",
       "    </tr>\n",
       "    <tr>\n",
       "      <th>min</th>\n",
       "      <td>26.000000</td>\n",
       "      <td>29.000000</td>\n",
       "      <td>8.000000</td>\n",
       "      <td>40.000000</td>\n",
       "      <td>19.000000</td>\n",
       "      <td>0.000000</td>\n",
       "    </tr>\n",
       "    <tr>\n",
       "      <th>25%</th>\n",
       "      <td>57.000000</td>\n",
       "      <td>61.000000</td>\n",
       "      <td>53.750000</td>\n",
       "      <td>55.500000</td>\n",
       "      <td>59.000000</td>\n",
       "      <td>53.000000</td>\n",
       "    </tr>\n",
       "    <tr>\n",
       "      <th>50%</th>\n",
       "      <td>67.000000</td>\n",
       "      <td>68.000000</td>\n",
       "      <td>63.000000</td>\n",
       "      <td>73.000000</td>\n",
       "      <td>67.500000</td>\n",
       "      <td>65.000000</td>\n",
       "    </tr>\n",
       "    <tr>\n",
       "      <th>75%</th>\n",
       "      <td>80.000000</td>\n",
       "      <td>79.000000</td>\n",
       "      <td>72.000000</td>\n",
       "      <td>81.000000</td>\n",
       "      <td>76.000000</td>\n",
       "      <td>74.000000</td>\n",
       "    </tr>\n",
       "    <tr>\n",
       "      <th>max</th>\n",
       "      <td>100.000000</td>\n",
       "      <td>100.000000</td>\n",
       "      <td>99.000000</td>\n",
       "      <td>95.000000</td>\n",
       "      <td>100.000000</td>\n",
       "      <td>97.000000</td>\n",
       "    </tr>\n",
       "    <tr>\n",
       "      <th rowspan=\"8\" valign=\"top\">reading score</th>\n",
       "      <th>count</th>\n",
       "      <td>222.000000</td>\n",
       "      <td>118.000000</td>\n",
       "      <td>196.000000</td>\n",
       "      <td>59.000000</td>\n",
       "      <td>226.000000</td>\n",
       "      <td>179.000000</td>\n",
       "    </tr>\n",
       "    <tr>\n",
       "      <th>mean</th>\n",
       "      <td>70.927928</td>\n",
       "      <td>73.000000</td>\n",
       "      <td>64.704082</td>\n",
       "      <td>75.372881</td>\n",
       "      <td>69.460177</td>\n",
       "      <td>66.938547</td>\n",
       "    </tr>\n",
       "    <tr>\n",
       "      <th>std</th>\n",
       "      <td>13.868948</td>\n",
       "      <td>14.285250</td>\n",
       "      <td>14.132130</td>\n",
       "      <td>13.775163</td>\n",
       "      <td>14.057049</td>\n",
       "      <td>15.479295</td>\n",
       "    </tr>\n",
       "    <tr>\n",
       "      <th>min</th>\n",
       "      <td>31.000000</td>\n",
       "      <td>41.000000</td>\n",
       "      <td>24.000000</td>\n",
       "      <td>42.000000</td>\n",
       "      <td>23.000000</td>\n",
       "      <td>17.000000</td>\n",
       "    </tr>\n",
       "    <tr>\n",
       "      <th>25%</th>\n",
       "      <td>61.000000</td>\n",
       "      <td>63.000000</td>\n",
       "      <td>54.000000</td>\n",
       "      <td>65.500000</td>\n",
       "      <td>60.000000</td>\n",
       "      <td>56.500000</td>\n",
       "    </tr>\n",
       "    <tr>\n",
       "      <th>50%</th>\n",
       "      <td>72.500000</td>\n",
       "      <td>73.000000</td>\n",
       "      <td>66.000000</td>\n",
       "      <td>76.000000</td>\n",
       "      <td>70.500000</td>\n",
       "      <td>67.000000</td>\n",
       "    </tr>\n",
       "    <tr>\n",
       "      <th>75%</th>\n",
       "      <td>81.000000</td>\n",
       "      <td>82.750000</td>\n",
       "      <td>74.250000</td>\n",
       "      <td>84.500000</td>\n",
       "      <td>79.750000</td>\n",
       "      <td>79.000000</td>\n",
       "    </tr>\n",
       "    <tr>\n",
       "      <th>max</th>\n",
       "      <td>100.000000</td>\n",
       "      <td>100.000000</td>\n",
       "      <td>99.000000</td>\n",
       "      <td>100.000000</td>\n",
       "      <td>100.000000</td>\n",
       "      <td>100.000000</td>\n",
       "    </tr>\n",
       "    <tr>\n",
       "      <th rowspan=\"8\" valign=\"top\">writing score</th>\n",
       "      <th>count</th>\n",
       "      <td>222.000000</td>\n",
       "      <td>118.000000</td>\n",
       "      <td>196.000000</td>\n",
       "      <td>59.000000</td>\n",
       "      <td>226.000000</td>\n",
       "      <td>179.000000</td>\n",
       "    </tr>\n",
       "    <tr>\n",
       "      <th>mean</th>\n",
       "      <td>69.896396</td>\n",
       "      <td>73.381356</td>\n",
       "      <td>62.448980</td>\n",
       "      <td>75.677966</td>\n",
       "      <td>68.840708</td>\n",
       "      <td>64.888268</td>\n",
       "    </tr>\n",
       "    <tr>\n",
       "      <th>std</th>\n",
       "      <td>14.311122</td>\n",
       "      <td>14.728262</td>\n",
       "      <td>14.085907</td>\n",
       "      <td>13.730711</td>\n",
       "      <td>15.012331</td>\n",
       "      <td>15.736197</td>\n",
       "    </tr>\n",
       "    <tr>\n",
       "      <th>min</th>\n",
       "      <td>35.000000</td>\n",
       "      <td>38.000000</td>\n",
       "      <td>15.000000</td>\n",
       "      <td>46.000000</td>\n",
       "      <td>19.000000</td>\n",
       "      <td>10.000000</td>\n",
       "    </tr>\n",
       "    <tr>\n",
       "      <th>25%</th>\n",
       "      <td>58.000000</td>\n",
       "      <td>62.500000</td>\n",
       "      <td>52.000000</td>\n",
       "      <td>67.000000</td>\n",
       "      <td>60.000000</td>\n",
       "      <td>54.000000</td>\n",
       "    </tr>\n",
       "    <tr>\n",
       "      <th>50%</th>\n",
       "      <td>70.500000</td>\n",
       "      <td>74.000000</td>\n",
       "      <td>64.000000</td>\n",
       "      <td>75.000000</td>\n",
       "      <td>70.000000</td>\n",
       "      <td>66.000000</td>\n",
       "    </tr>\n",
       "    <tr>\n",
       "      <th>75%</th>\n",
       "      <td>80.000000</td>\n",
       "      <td>83.000000</td>\n",
       "      <td>73.000000</td>\n",
       "      <td>85.000000</td>\n",
       "      <td>79.000000</td>\n",
       "      <td>77.000000</td>\n",
       "    </tr>\n",
       "    <tr>\n",
       "      <th>max</th>\n",
       "      <td>100.000000</td>\n",
       "      <td>100.000000</td>\n",
       "      <td>100.000000</td>\n",
       "      <td>100.000000</td>\n",
       "      <td>99.000000</td>\n",
       "      <td>100.000000</td>\n",
       "    </tr>\n",
       "  </tbody>\n",
       "</table>\n",
       "</div>"
      ],
      "text/plain": [
       "parental level of education  associate's degree  bachelor's degree  \\\n",
       "math score    count                  222.000000         118.000000   \n",
       "              mean                    67.882883          69.389831   \n",
       "              std                     15.112093          14.943789   \n",
       "              min                     26.000000          29.000000   \n",
       "              25%                     57.000000          61.000000   \n",
       "              50%                     67.000000          68.000000   \n",
       "              75%                     80.000000          79.000000   \n",
       "              max                    100.000000         100.000000   \n",
       "reading score count                  222.000000         118.000000   \n",
       "              mean                    70.927928          73.000000   \n",
       "              std                     13.868948          14.285250   \n",
       "              min                     31.000000          41.000000   \n",
       "              25%                     61.000000          63.000000   \n",
       "              50%                     72.500000          73.000000   \n",
       "              75%                     81.000000          82.750000   \n",
       "              max                    100.000000         100.000000   \n",
       "writing score count                  222.000000         118.000000   \n",
       "              mean                    69.896396          73.381356   \n",
       "              std                     14.311122          14.728262   \n",
       "              min                     35.000000          38.000000   \n",
       "              25%                     58.000000          62.500000   \n",
       "              50%                     70.500000          74.000000   \n",
       "              75%                     80.000000          83.000000   \n",
       "              max                    100.000000         100.000000   \n",
       "\n",
       "parental level of education  high school  master's degree  some college  \\\n",
       "math score    count           196.000000        59.000000    226.000000   \n",
       "              mean             62.137755        69.745763     67.128319   \n",
       "              std              14.539651        15.153915     14.312897   \n",
       "              min               8.000000        40.000000     19.000000   \n",
       "              25%              53.750000        55.500000     59.000000   \n",
       "              50%              63.000000        73.000000     67.500000   \n",
       "              75%              72.000000        81.000000     76.000000   \n",
       "              max              99.000000        95.000000    100.000000   \n",
       "reading score count           196.000000        59.000000    226.000000   \n",
       "              mean             64.704082        75.372881     69.460177   \n",
       "              std              14.132130        13.775163     14.057049   \n",
       "              min              24.000000        42.000000     23.000000   \n",
       "              25%              54.000000        65.500000     60.000000   \n",
       "              50%              66.000000        76.000000     70.500000   \n",
       "              75%              74.250000        84.500000     79.750000   \n",
       "              max              99.000000       100.000000    100.000000   \n",
       "writing score count           196.000000        59.000000    226.000000   \n",
       "              mean             62.448980        75.677966     68.840708   \n",
       "              std              14.085907        13.730711     15.012331   \n",
       "              min              15.000000        46.000000     19.000000   \n",
       "              25%              52.000000        67.000000     60.000000   \n",
       "              50%              64.000000        75.000000     70.000000   \n",
       "              75%              73.000000        85.000000     79.000000   \n",
       "              max             100.000000       100.000000     99.000000   \n",
       "\n",
       "parental level of education  some high school  \n",
       "math score    count                179.000000  \n",
       "              mean                  63.497207  \n",
       "              std                   15.927989  \n",
       "              min                    0.000000  \n",
       "              25%                   53.000000  \n",
       "              50%                   65.000000  \n",
       "              75%                   74.000000  \n",
       "              max                   97.000000  \n",
       "reading score count                179.000000  \n",
       "              mean                  66.938547  \n",
       "              std                   15.479295  \n",
       "              min                   17.000000  \n",
       "              25%                   56.500000  \n",
       "              50%                   67.000000  \n",
       "              75%                   79.000000  \n",
       "              max                  100.000000  \n",
       "writing score count                179.000000  \n",
       "              mean                  64.888268  \n",
       "              std                   15.736197  \n",
       "              min                   10.000000  \n",
       "              25%                   54.000000  \n",
       "              50%                   66.000000  \n",
       "              75%                   77.000000  \n",
       "              max                  100.000000  "
      ]
     },
     "execution_count": 124,
     "metadata": {},
     "output_type": "execute_result"
    }
   ],
   "source": [
    "df_3.describe().T"
   ]
  },
  {
   "cell_type": "markdown",
   "id": "7faf281c",
   "metadata": {},
   "source": [
    "There are 500 records and less then 3% so I will ignore the outliers.\n",
    "\n",
    "The master had the best results across the board \n",
    "\n",
    "The bachelors was next, but the associates degree was close being and\n",
    "did a little better in math.  Also some collage came close, but they did poorer in math.\n",
    "\n",
    "Interesting some high school did better than high school.  \n",
    "\n",
    "Though further study is needed.  What is signle factor is it access\n",
    "to paid teachers or the parent help them with their homework mroe."
   ]
  },
  {
   "cell_type": "code",
   "execution_count": 135,
   "id": "966c9d49",
   "metadata": {
    "ExecuteTime": {
     "end_time": "2023-02-24T19:37:36.160636Z",
     "start_time": "2023-02-24T19:37:35.553394Z"
    }
   },
   "outputs": [
    {
     "data": {
      "text/plain": [
       "group A         AxesSubplot(0.1,0.679412;0.363636x0.220588)\n",
       "group B    AxesSubplot(0.536364,0.679412;0.363636x0.220588)\n",
       "group C         AxesSubplot(0.1,0.414706;0.363636x0.220588)\n",
       "group D    AxesSubplot(0.536364,0.414706;0.363636x0.220588)\n",
       "group E             AxesSubplot(0.1,0.15;0.363636x0.220588)\n",
       "dtype: object"
      ]
     },
     "execution_count": 135,
     "metadata": {},
     "output_type": "execute_result"
    },
    {
     "data": {
      "image/png": "[encoded data removed]",
      "text/plain": [
       "<Figure size 800x1000 with 6 Axes>"
      ]
     },
     "metadata": {},
     "output_type": "display_data"
    }
   ],
   "source": [
    "df_3 = df_1.groupby(\"race/ethnicity\")\n",
    "df_3.boxplot(figsize=(8,10))"
   ]
  },
  {
   "cell_type": "code",
   "execution_count": null,
   "id": "eac5e39c",
   "metadata": {},
   "outputs": [],
   "source": [
    "Group A was the lowest and D and C were second tier then group B \n",
    "and group was second and E was the best\n",
    "\n",
    "Though further study is needed.  What culteral factor most affect this\n",
    "relationship"
   ]
  },
  {
   "cell_type": "code",
   "execution_count": 137,
   "id": "38bf98ed",
   "metadata": {
    "ExecuteTime": {
     "end_time": "2023-02-25T05:32:24.164176Z",
     "start_time": "2023-02-25T05:32:24.161143Z"
    }
   },
   "outputs": [],
   "source": [
    "## Does lunch type have a relationship with exam performances? \n",
    "\n",
    "How can you explain this, if any?\n"
   ]
  },
  {
   "cell_type": "code",
   "execution_count": 140,
   "id": "1d0ac95c",
   "metadata": {
    "ExecuteTime": {
     "end_time": "2023-02-25T05:33:20.736578Z",
     "start_time": "2023-02-25T05:33:20.446583Z"
    }
   },
   "outputs": [
    {
     "data": {
      "text/plain": [
       "free/reduced         AxesSubplot(0.1,0.15;0.363636x0.75)\n",
       "standard        AxesSubplot(0.536364,0.15;0.363636x0.75)\n",
       "dtype: object"
      ]
     },
     "execution_count": 140,
     "metadata": {},
     "output_type": "execute_result"
    },
    {
     "data": {
      "image/png": "[encoded data removed]",
      "text/plain": [
       "<Figure size 800x500 with 2 Axes>"
      ]
     },
     "metadata": {},
     "output_type": "display_data"
    }
   ],
   "source": [
    "df_3 = df_1.groupby(\"lunch\")\n",
    "df_3.boxplot(figsize=(8,5))"
   ]
  },
  {
   "cell_type": "code",
   "execution_count": null,
   "id": "d91c5895",
   "metadata": {},
   "outputs": [],
   "source": [
    "Definitely there is an effect.  My guess, though further is needed,\n",
    "it might be cause of the social enconimic factors and not so much the \n",
    "free lunch."
   ]
  },
  {
   "cell_type": "code",
   "execution_count": null,
   "id": "ccc2151c",
   "metadata": {},
   "outputs": [],
   "source": [
    "## Does the preparation courses have an impact on exam performance?\n",
    "\n",
    "Which lessons are most correlated with each other?\n"
   ]
  },
  {
   "cell_type": "code",
   "execution_count": null,
   "id": "d49fed7f",
   "metadata": {},
   "outputs": [],
   "source": [
    "## Does lunch type have a relationship with exam performances? \n",
    "\n",
    "How can you explain this, if any?\n"
   ]
  },
  {
   "cell_type": "code",
   "execution_count": 141,
   "id": "12e450a4",
   "metadata": {
    "ExecuteTime": {
     "end_time": "2023-02-25T05:37:06.946502Z",
     "start_time": "2023-02-25T05:37:06.644588Z"
    }
   },
   "outputs": [
    {
     "data": {
      "text/plain": [
       "completed         AxesSubplot(0.1,0.15;0.363636x0.75)\n",
       "none         AxesSubplot(0.536364,0.15;0.363636x0.75)\n",
       "dtype: object"
      ]
     },
     "execution_count": 141,
     "metadata": {},
     "output_type": "execute_result"
    },
    {
     "data": {
      "image/png": "[encoded data removed]",
      "text/plain": [
       "<Figure size 800x500 with 2 Axes>"
      ]
     },
     "metadata": {},
     "output_type": "display_data"
    }
   ],
   "source": [
    "df_3 = df_1.groupby(\"test preparation course\")\n",
    "df_3.boxplot(figsize=(8,5))\n"
   ]
  },
  {
   "cell_type": "code",
   "execution_count": 159,
   "id": "a4b2c1b3",
   "metadata": {
    "ExecuteTime": {
     "end_time": "2023-03-04T05:44:23.007640Z",
     "start_time": "2023-03-04T05:44:22.789694Z"
    }
   },
   "outputs": [
    {
     "data": {
      "text/html": [
       "<div>\n",
       "<style scoped>\n",
       "    .dataframe tbody tr th:only-of-type {\n",
       "        vertical-align: middle;\n",
       "    }\n",
       "\n",
       "    .dataframe tbody tr th {\n",
       "        vertical-align: top;\n",
       "    }\n",
       "\n",
       "    .dataframe thead th {\n",
       "        text-align: right;\n",
       "    }\n",
       "</style>\n",
       "<table border=\"1\" class=\"dataframe\">\n",
       "  <thead>\n",
       "    <tr style=\"text-align: right;\">\n",
       "      <th></th>\n",
       "      <th></th>\n",
       "      <th>math score</th>\n",
       "      <th>reading score</th>\n",
       "      <th>writing score</th>\n",
       "    </tr>\n",
       "    <tr>\n",
       "      <th>test preparation course</th>\n",
       "      <th></th>\n",
       "      <th></th>\n",
       "      <th></th>\n",
       "      <th></th>\n",
       "    </tr>\n",
       "  </thead>\n",
       "  <tbody>\n",
       "    <tr>\n",
       "      <th rowspan=\"3\" valign=\"top\">completed</th>\n",
       "      <th>math score</th>\n",
       "      <td>1.000000</td>\n",
       "      <td>0.597202</td>\n",
       "      <td>0.558748</td>\n",
       "    </tr>\n",
       "    <tr>\n",
       "      <th>reading score</th>\n",
       "      <td>0.597202</td>\n",
       "      <td>1.000000</td>\n",
       "      <td>0.807198</td>\n",
       "    </tr>\n",
       "    <tr>\n",
       "      <th>writing score</th>\n",
       "      <td>0.558748</td>\n",
       "      <td>0.807198</td>\n",
       "      <td>1.000000</td>\n",
       "    </tr>\n",
       "    <tr>\n",
       "      <th rowspan=\"3\" valign=\"top\">none</th>\n",
       "      <th>math score</th>\n",
       "      <td>1.000000</td>\n",
       "      <td>0.619326</td>\n",
       "      <td>0.604905</td>\n",
       "    </tr>\n",
       "    <tr>\n",
       "      <th>reading score</th>\n",
       "      <td>0.619326</td>\n",
       "      <td>1.000000</td>\n",
       "      <td>0.823375</td>\n",
       "    </tr>\n",
       "    <tr>\n",
       "      <th>writing score</th>\n",
       "      <td>0.604905</td>\n",
       "      <td>0.823375</td>\n",
       "      <td>1.000000</td>\n",
       "    </tr>\n",
       "  </tbody>\n",
       "</table>\n",
       "</div>"
      ],
      "text/plain": [
       "                                       math score  reading score  \\\n",
       "test preparation course                                            \n",
       "completed               math score       1.000000       0.597202   \n",
       "                        reading score    0.597202       1.000000   \n",
       "                        writing score    0.558748       0.807198   \n",
       "none                    math score       1.000000       0.619326   \n",
       "                        reading score    0.619326       1.000000   \n",
       "                        writing score    0.604905       0.823375   \n",
       "\n",
       "                                       writing score  \n",
       "test preparation course                               \n",
       "completed               math score          0.558748  \n",
       "                        reading score       0.807198  \n",
       "                        writing score       1.000000  \n",
       "none                    math score          0.604905  \n",
       "                        reading score       0.823375  \n",
       "                        writing score       1.000000  "
      ]
     },
     "execution_count": 159,
     "metadata": {},
     "output_type": "execute_result"
    }
   ],
   "source": [
    "# Kendall's will be used since measure how likely it is for two \n",
    "# variables to move in the same direction.\n",
    "df_3.corr(method='kendall')"
   ]
  },
  {
   "cell_type": "code",
   "execution_count": null,
   "id": "51245edf",
   "metadata": {},
   "outputs": [],
   "source": [
    "The lesson most correlated with each ( I have chosen 80% are higher)\n",
    "\n",
    "No Preparation Courses : reading/writing\n",
    "For Preparation Courses: reading/writing"
   ]
  },
  {
   "cell_type": "code",
   "execution_count": null,
   "id": "ece20a95",
   "metadata": {},
   "outputs": [],
   "source": []
  }
 ],
 "metadata": {
  "kernelspec": {
   "display_name": "Python 3 (ipykernel)",
   "language": "python",
   "name": "python3"
  },
  "language_info": {
   "codemirror_mode": {
    "name": "ipython",
    "version": 3
   },
   "file_extension": ".py",
   "mimetype": "text/x-python",
   "name": "python",
   "nbconvert_exporter": "python",
   "pygments_lexer": "ipython3",
   "version": "3.9.13"
  },
  "toc": {
   "base_numbering": 1,
   "nav_menu": {},
   "number_sections": true,
   "sideBar": true,
   "skip_h1_title": false,
   "title_cell": "Table of Contents",
   "title_sidebar": "Contents",
   "toc_cell": false,
   "toc_position": {},
   "toc_section_display": true,
   "toc_window_display": false
  }
 },
 "nbformat": 4,
 "nbformat_minor": 5
}
