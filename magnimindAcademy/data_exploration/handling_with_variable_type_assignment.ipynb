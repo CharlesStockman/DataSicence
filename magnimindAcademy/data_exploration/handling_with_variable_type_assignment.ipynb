{
 "cells": [
  {
   "cell_type": "markdown",
   "id": "cb8ae7cb",
   "metadata": {},
   "source": [
    "# Questions \n",
    "1. Determine the types of the below-given variables:<br>\n",
    "Age<br>\n",
    "Salary<br>\n",
    "Income<br>\n",
    "Customer type<br>\n",
    "Stock price<br>\n",
    "2. # Create a table with Datafame with the follwooing columns: Number of Categories, Categories ratio / Sample, Data Science Explamation\n",
    "3. Is it possible to convert categorical variable into numerical one? If so, how can you make that?<br>\n",
    "4. While continuous data is generally preferred over discrete data, please indicate circumstances where discrete is the preferred data type although continuous data is available for the same characteristic.<br>\n",
    "5. While continuous data is measured and attribute data is counted, there is sometimes confusion if some specific dataset should be considered continuous or attribute. Provide some examples of confusing datasets and your inference.<br>\n"
   ]
  },
  {
   "cell_type": "code",
   "execution_count": 171,
   "id": "49b4da0c",
   "metadata": {
    "ExecuteTime": {
     "end_time": "2023-03-24T20:07:45.776104Z",
     "start_time": "2023-03-24T20:07:45.719769Z"
    }
   },
   "outputs": [],
   "source": [
    "import pandas as pd\n",
    "\n",
    "def info_about_columns(dataframe, series):\n",
    "    '''\n",
    "        A reusable function that will create a dataframe to contain in another \n",
    "        dataframe the following : dataypes, Number of Unique Categories, Categories \n",
    "        per sample and the type of variable.\n",
    "        \n",
    "        input : A dataframe where data and categories will be retrieved\n",
    "        seris : The data science explamation for each data type\n",
    "    '''\n",
    "    data_frame_2 = pd.concat([dataframe.dtypes, \n",
    "                              dataframe.nunique(), \n",
    "                              round(dataframe.nunique()*100/len(dataframe)),\n",
    "                              dataframe.dtypes,\n",
    "                              series], axis=1)\n",
    "    data_frame_2.columns = columns=['DataType', \n",
    "                                         '# of Categories', \n",
    "                                         'categories/sample ratio', \n",
    "                                         'variable types', 'Data Science Type']\n",
    "    return data_frame_2\n",
    "\n"
   ]
  },
  {
   "cell_type": "markdown",
   "id": "83b03580",
   "metadata": {
    "ExecuteTime": {
     "end_time": "2023-02-20T18:44:10.497608Z",
     "start_time": "2023-02-20T18:44:10.483787Z"
    }
   },
   "source": [
    "## Determine the types of the below-given variables:\n",
    "\n",
    "| Variable | Answer   | Descrption |\n",
    "| :------- | :---     | :--------- |\n",
    "| Age      |Numerical Continous Ratio        | Since there is a starting point and the age can be made into a fraction  |\n",
    "| Salary   | Numerical Continous Ratio | Since there is a starting piont and salary can be made into a fraction\n",
    "| Income   | Continous Ratio | See Above | \n",
    "|Customer type| Categorical Nominal | A category that has no rank or order |\n",
    "| Stock price | Numerical Continous Ratio  | See Above"
   ]
  },
  {
   "cell_type": "markdown",
   "id": "4b0c376b",
   "metadata": {},
   "source": [
    "## Using the movie data. Complete the following tasks:\n",
    "\n",
    "> * Select a continuous and a categorical variable from the movie dataset \n",
    "> > Discuss the variable type of this variable.  \n",
    "> > Discuss further in detail the type of selected continuous and categorical variables.<br>"
   ]
  },
  {
   "cell_type": "code",
   "execution_count": 172,
   "id": "3087135f",
   "metadata": {
    "ExecuteTime": {
     "end_time": "2023-03-24T20:07:47.708571Z",
     "start_time": "2023-03-24T20:07:47.643685Z"
    }
   },
   "outputs": [],
   "source": [
    "movies = pd.read_csv('movies.csv')"
   ]
  },
  {
   "cell_type": "markdown",
   "id": "af38e763",
   "metadata": {
    "ExecuteTime": {
     "end_time": "2023-02-20T18:44:10.497608Z",
     "start_time": "2023-02-20T18:44:10.483787Z"
    }
   },
   "source": [
    "\n"
   ]
  },
  {
   "cell_type": "code",
   "execution_count": 173,
   "id": "cca11d58",
   "metadata": {
    "ExecuteTime": {
     "end_time": "2023-03-24T20:07:49.490512Z",
     "start_time": "2023-03-24T20:07:49.461445Z"
    }
   },
   "outputs": [
    {
     "data": {
      "text/html": [
       "<div>\n",
       "<style scoped>\n",
       "    .dataframe tbody tr th:only-of-type {\n",
       "        vertical-align: middle;\n",
       "    }\n",
       "\n",
       "    .dataframe tbody tr th {\n",
       "        vertical-align: top;\n",
       "    }\n",
       "\n",
       "    .dataframe thead th {\n",
       "        text-align: right;\n",
       "    }\n",
       "</style>\n",
       "<table border=\"1\" class=\"dataframe\">\n",
       "  <thead>\n",
       "    <tr style=\"text-align: right;\">\n",
       "      <th></th>\n",
       "      <th>Rank</th>\n",
       "      <th>Title</th>\n",
       "      <th>Genre</th>\n",
       "      <th>Description</th>\n",
       "      <th>Director</th>\n",
       "      <th>Actors</th>\n",
       "      <th>Year</th>\n",
       "      <th>Runtime (Minutes)</th>\n",
       "      <th>Rating</th>\n",
       "      <th>Votes</th>\n",
       "      <th>Revenue (Millions)</th>\n",
       "      <th>Metascore</th>\n",
       "    </tr>\n",
       "  </thead>\n",
       "  <tbody>\n",
       "    <tr>\n",
       "      <th>0</th>\n",
       "      <td>1</td>\n",
       "      <td>Guardians of the Galaxy</td>\n",
       "      <td>Action,Adventure,Sci-Fi</td>\n",
       "      <td>A group of intergalactic criminals are forced ...</td>\n",
       "      <td>James Gunn</td>\n",
       "      <td>Chris Pratt, Vin Diesel, Bradley Cooper, Zoe S...</td>\n",
       "      <td>2014</td>\n",
       "      <td>121</td>\n",
       "      <td>8.1</td>\n",
       "      <td>757074</td>\n",
       "      <td>333.13</td>\n",
       "      <td>76.0</td>\n",
       "    </tr>\n",
       "    <tr>\n",
       "      <th>1</th>\n",
       "      <td>2</td>\n",
       "      <td>Prometheus</td>\n",
       "      <td>Adventure,Mystery,Sci-Fi</td>\n",
       "      <td>Following clues to the origin of mankind, a te...</td>\n",
       "      <td>Ridley Scott</td>\n",
       "      <td>Noomi Rapace, Logan Marshall-Green, Michael Fa...</td>\n",
       "      <td>2012</td>\n",
       "      <td>124</td>\n",
       "      <td>7.0</td>\n",
       "      <td>485820</td>\n",
       "      <td>126.46</td>\n",
       "      <td>65.0</td>\n",
       "    </tr>\n",
       "    <tr>\n",
       "      <th>2</th>\n",
       "      <td>3</td>\n",
       "      <td>Split</td>\n",
       "      <td>Horror,Thriller</td>\n",
       "      <td>Three girls are kidnapped by a man with a diag...</td>\n",
       "      <td>M. Night Shyamalan</td>\n",
       "      <td>James McAvoy, Anya Taylor-Joy, Haley Lu Richar...</td>\n",
       "      <td>2016</td>\n",
       "      <td>117</td>\n",
       "      <td>7.3</td>\n",
       "      <td>157606</td>\n",
       "      <td>138.12</td>\n",
       "      <td>62.0</td>\n",
       "    </tr>\n",
       "    <tr>\n",
       "      <th>3</th>\n",
       "      <td>4</td>\n",
       "      <td>Sing</td>\n",
       "      <td>Animation,Comedy,Family</td>\n",
       "      <td>In a city of humanoid animals, a hustling thea...</td>\n",
       "      <td>Christophe Lourdelet</td>\n",
       "      <td>Matthew McConaughey,Reese Witherspoon, Seth Ma...</td>\n",
       "      <td>2016</td>\n",
       "      <td>108</td>\n",
       "      <td>7.2</td>\n",
       "      <td>60545</td>\n",
       "      <td>270.32</td>\n",
       "      <td>59.0</td>\n",
       "    </tr>\n",
       "    <tr>\n",
       "      <th>4</th>\n",
       "      <td>5</td>\n",
       "      <td>Suicide Squad</td>\n",
       "      <td>Action,Adventure,Fantasy</td>\n",
       "      <td>A secret government agency recruits some of th...</td>\n",
       "      <td>David Ayer</td>\n",
       "      <td>Will Smith, Jared Leto, Margot Robbie, Viola D...</td>\n",
       "      <td>2016</td>\n",
       "      <td>123</td>\n",
       "      <td>6.2</td>\n",
       "      <td>393727</td>\n",
       "      <td>325.02</td>\n",
       "      <td>40.0</td>\n",
       "    </tr>\n",
       "  </tbody>\n",
       "</table>\n",
       "</div>"
      ],
      "text/plain": [
       "   Rank                    Title                     Genre  \\\n",
       "0     1  Guardians of the Galaxy   Action,Adventure,Sci-Fi   \n",
       "1     2               Prometheus  Adventure,Mystery,Sci-Fi   \n",
       "2     3                    Split           Horror,Thriller   \n",
       "3     4                     Sing   Animation,Comedy,Family   \n",
       "4     5            Suicide Squad  Action,Adventure,Fantasy   \n",
       "\n",
       "                                         Description              Director  \\\n",
       "0  A group of intergalactic criminals are forced ...            James Gunn   \n",
       "1  Following clues to the origin of mankind, a te...          Ridley Scott   \n",
       "2  Three girls are kidnapped by a man with a diag...    M. Night Shyamalan   \n",
       "3  In a city of humanoid animals, a hustling thea...  Christophe Lourdelet   \n",
       "4  A secret government agency recruits some of th...            David Ayer   \n",
       "\n",
       "                                              Actors  Year  Runtime (Minutes)  \\\n",
       "0  Chris Pratt, Vin Diesel, Bradley Cooper, Zoe S...  2014                121   \n",
       "1  Noomi Rapace, Logan Marshall-Green, Michael Fa...  2012                124   \n",
       "2  James McAvoy, Anya Taylor-Joy, Haley Lu Richar...  2016                117   \n",
       "3  Matthew McConaughey,Reese Witherspoon, Seth Ma...  2016                108   \n",
       "4  Will Smith, Jared Leto, Margot Robbie, Viola D...  2016                123   \n",
       "\n",
       "   Rating   Votes  Revenue (Millions)  Metascore  \n",
       "0     8.1  757074              333.13       76.0  \n",
       "1     7.0  485820              126.46       65.0  \n",
       "2     7.3  157606              138.12       62.0  \n",
       "3     7.2   60545              270.32       59.0  \n",
       "4     6.2  393727              325.02       40.0  "
      ]
     },
     "execution_count": 173,
     "metadata": {},
     "output_type": "execute_result"
    }
   ],
   "source": [
    "movies.head()"
   ]
  },
  {
   "cell_type": "code",
   "execution_count": 174,
   "id": "41dd4408",
   "metadata": {
    "ExecuteTime": {
     "end_time": "2023-03-24T20:07:50.297764Z",
     "start_time": "2023-03-24T20:07:50.285295Z"
    }
   },
   "outputs": [
    {
     "data": {
      "text/plain": [
       "Index(['Rank', 'Title', 'Genre', 'Description', 'Director', 'Actors', 'Year',\n",
       "       'Runtime (Minutes)', 'Rating', 'Votes', 'Revenue (Millions)',\n",
       "       'Metascore'],\n",
       "      dtype='object')"
      ]
     },
     "execution_count": 174,
     "metadata": {},
     "output_type": "execute_result"
    }
   ],
   "source": [
    "movies.columns"
   ]
  },
  {
   "cell_type": "code",
   "execution_count": 175,
   "id": "1d2c0f74",
   "metadata": {
    "ExecuteTime": {
     "end_time": "2023-03-24T20:07:51.167055Z",
     "start_time": "2023-03-24T20:07:51.131410Z"
    }
   },
   "outputs": [
    {
     "name": "stdout",
     "output_type": "stream",
     "text": [
      "<class 'pandas.core.frame.DataFrame'>\n",
      "RangeIndex: 1000 entries, 0 to 999\n",
      "Data columns (total 12 columns):\n",
      " #   Column              Non-Null Count  Dtype  \n",
      "---  ------              --------------  -----  \n",
      " 0   Rank                1000 non-null   int64  \n",
      " 1   Title               1000 non-null   object \n",
      " 2   Genre               1000 non-null   object \n",
      " 3   Description         1000 non-null   object \n",
      " 4   Director            1000 non-null   object \n",
      " 5   Actors              1000 non-null   object \n",
      " 6   Year                1000 non-null   int64  \n",
      " 7   Runtime (Minutes)   1000 non-null   int64  \n",
      " 8   Rating              1000 non-null   float64\n",
      " 9   Votes               1000 non-null   int64  \n",
      " 10  Revenue (Millions)  872 non-null    float64\n",
      " 11  Metascore           936 non-null    float64\n",
      "dtypes: float64(3), int64(4), object(5)\n",
      "memory usage: 93.9+ KB\n"
     ]
    }
   ],
   "source": [
    "movies.info()"
   ]
  },
  {
   "cell_type": "markdown",
   "id": "c2ccc9b5",
   "metadata": {},
   "source": [
    "## Create a table with Datafame with the following columns: \n",
    "\n",
    "Number of Categories, Categories / Sample ratio, Data Science Explamation\n",
    "\n",
    "The Categories/Sample ratio is used for discrete and continous.  If they have too many \n",
    "values use histogram, few values bar chart\n",
    "\n",
    "If the category ratio > 30% consider another type.  Consider the problem."
   ]
  },
  {
   "cell_type": "code",
   "execution_count": 176,
   "id": "a3aa9a26",
   "metadata": {
    "ExecuteTime": {
     "end_time": "2023-03-24T20:07:55.267240Z",
     "start_time": "2023-03-24T20:07:55.230656Z"
    }
   },
   "outputs": [
    {
     "name": "stdout",
     "output_type": "stream",
     "text": [
      "Shape of Data Tables is  (1000, 12)\n"
     ]
    },
    {
     "data": {
      "text/html": [
       "<div>\n",
       "<style scoped>\n",
       "    .dataframe tbody tr th:only-of-type {\n",
       "        vertical-align: middle;\n",
       "    }\n",
       "\n",
       "    .dataframe tbody tr th {\n",
       "        vertical-align: top;\n",
       "    }\n",
       "\n",
       "    .dataframe thead th {\n",
       "        text-align: right;\n",
       "    }\n",
       "</style>\n",
       "<table border=\"1\" class=\"dataframe\">\n",
       "  <thead>\n",
       "    <tr style=\"text-align: right;\">\n",
       "      <th></th>\n",
       "      <th>DataType</th>\n",
       "      <th># of Categories</th>\n",
       "      <th>categories/sample ratio</th>\n",
       "      <th>variable types</th>\n",
       "      <th>Data Science Type</th>\n",
       "    </tr>\n",
       "  </thead>\n",
       "  <tbody>\n",
       "    <tr>\n",
       "      <th>Rank</th>\n",
       "      <td>int64</td>\n",
       "      <td>1000</td>\n",
       "      <td>100.0</td>\n",
       "      <td>int64</td>\n",
       "      <td>continous numerical - ordinal</td>\n",
       "    </tr>\n",
       "    <tr>\n",
       "      <th>Title</th>\n",
       "      <td>object</td>\n",
       "      <td>999</td>\n",
       "      <td>100.0</td>\n",
       "      <td>object</td>\n",
       "      <td>string variable - nominal</td>\n",
       "    </tr>\n",
       "    <tr>\n",
       "      <th>Genre</th>\n",
       "      <td>object</td>\n",
       "      <td>207</td>\n",
       "      <td>21.0</td>\n",
       "      <td>object</td>\n",
       "      <td>categorical - nominal</td>\n",
       "    </tr>\n",
       "    <tr>\n",
       "      <th>Description</th>\n",
       "      <td>object</td>\n",
       "      <td>1000</td>\n",
       "      <td>100.0</td>\n",
       "      <td>object</td>\n",
       "      <td>string variable - nominal</td>\n",
       "    </tr>\n",
       "    <tr>\n",
       "      <th>Director</th>\n",
       "      <td>object</td>\n",
       "      <td>644</td>\n",
       "      <td>64.0</td>\n",
       "      <td>object</td>\n",
       "      <td>categorical - nominal</td>\n",
       "    </tr>\n",
       "    <tr>\n",
       "      <th>Actors</th>\n",
       "      <td>object</td>\n",
       "      <td>996</td>\n",
       "      <td>100.0</td>\n",
       "      <td>object</td>\n",
       "      <td>categorical - nominal</td>\n",
       "    </tr>\n",
       "    <tr>\n",
       "      <th>Year</th>\n",
       "      <td>int64</td>\n",
       "      <td>11</td>\n",
       "      <td>1.0</td>\n",
       "      <td>int64</td>\n",
       "      <td>numerical discrete - interval</td>\n",
       "    </tr>\n",
       "    <tr>\n",
       "      <th>Runtime (Minutes)</th>\n",
       "      <td>int64</td>\n",
       "      <td>94</td>\n",
       "      <td>9.0</td>\n",
       "      <td>int64</td>\n",
       "      <td>numerical discrete - ratio</td>\n",
       "    </tr>\n",
       "    <tr>\n",
       "      <th>Rating</th>\n",
       "      <td>float64</td>\n",
       "      <td>55</td>\n",
       "      <td>6.0</td>\n",
       "      <td>float64</td>\n",
       "      <td>numerical discrete - ordinal</td>\n",
       "    </tr>\n",
       "    <tr>\n",
       "      <th>Votes</th>\n",
       "      <td>int64</td>\n",
       "      <td>997</td>\n",
       "      <td>100.0</td>\n",
       "      <td>int64</td>\n",
       "      <td>continuous numerical - ordinal</td>\n",
       "    </tr>\n",
       "    <tr>\n",
       "      <th>Revenue (Millions)</th>\n",
       "      <td>float64</td>\n",
       "      <td>814</td>\n",
       "      <td>81.0</td>\n",
       "      <td>float64</td>\n",
       "      <td>continuous numerical - ratio</td>\n",
       "    </tr>\n",
       "    <tr>\n",
       "      <th>Metascore</th>\n",
       "      <td>float64</td>\n",
       "      <td>84</td>\n",
       "      <td>8.0</td>\n",
       "      <td>float64</td>\n",
       "      <td>discrete numerical - ordinal</td>\n",
       "    </tr>\n",
       "  </tbody>\n",
       "</table>\n",
       "</div>"
      ],
      "text/plain": [
       "                   DataType  # of Categories  categories/sample ratio  \\\n",
       "Rank                  int64             1000                    100.0   \n",
       "Title                object              999                    100.0   \n",
       "Genre                object              207                     21.0   \n",
       "Description          object             1000                    100.0   \n",
       "Director             object              644                     64.0   \n",
       "Actors               object              996                    100.0   \n",
       "Year                  int64               11                      1.0   \n",
       "Runtime (Minutes)     int64               94                      9.0   \n",
       "Rating              float64               55                      6.0   \n",
       "Votes                 int64              997                    100.0   \n",
       "Revenue (Millions)  float64              814                     81.0   \n",
       "Metascore           float64               84                      8.0   \n",
       "\n",
       "                   variable types               Data Science Type  \n",
       "Rank                        int64   continous numerical - ordinal  \n",
       "Title                      object       string variable - nominal  \n",
       "Genre                      object           categorical - nominal  \n",
       "Description                object       string variable - nominal  \n",
       "Director                   object           categorical - nominal  \n",
       "Actors                     object           categorical - nominal  \n",
       "Year                        int64   numerical discrete - interval  \n",
       "Runtime (Minutes)           int64      numerical discrete - ratio  \n",
       "Rating                    float64    numerical discrete - ordinal  \n",
       "Votes                       int64  continuous numerical - ordinal  \n",
       "Revenue (Millions)        float64    continuous numerical - ratio  \n",
       "Metascore                 float64    discrete numerical - ordinal  "
      ]
     },
     "execution_count": 176,
     "metadata": {},
     "output_type": "execute_result"
    }
   ],
   "source": [
    "print(\"Shape of Data Tables is \", movies.shape)\n",
    "\n",
    "variable_type = pd.Series(\n",
    "    ['continous numerical - ordinal',\n",
    "     'string variable - nominal',\n",
    "     'categorical - nominal',\n",
    "     'string variable - nominal',\n",
    "     'categorical - nominal',\n",
    "     'categorical - nominal',\n",
    "     'numerical discrete - interval',\n",
    "     'numerical discrete - ratio',\n",
    "     'numerical discrete - ordinal',\n",
    "     'continuous numerical - ordinal',\n",
    "     'continuous numerical - ratio',\n",
    "     'discrete numerical - ordinal'],\n",
    "    index=movies.dtypes.index\n",
    ")\n",
    "data_frame_2 = info_about_columns(movies, variable_type)\n",
    "data_frame_2"
   ]
  },
  {
   "cell_type": "markdown",
   "id": "468a5e5d",
   "metadata": {},
   "source": [
    "## Categorize a variable of your choice and assign a name to it\n",
    "Count the number of rows for each category"
   ]
  },
  {
   "cell_type": "code",
   "execution_count": 162,
   "id": "6f80002e",
   "metadata": {
    "ExecuteTime": {
     "end_time": "2023-03-24T18:54:47.284105Z",
     "start_time": "2023-03-24T18:54:47.119429Z"
    }
   },
   "outputs": [
    {
     "data": {
      "text/plain": [
       "<AxesSubplot:ylabel='Frequency'>"
      ]
     },
     "execution_count": 162,
     "metadata": {},
     "output_type": "execute_result"
    },
    {
     "data": {
      "image/png": "[encoded data removed]",
      "text/plain": [
       "<Figure size 640x480 with 1 Axes>"
      ]
     },
     "metadata": {},
     "output_type": "display_data"
    }
   ],
   "source": [
    "# Look at the histogram to get an idea of the range of value so a \n",
    "# catorgize function can be created.\n",
    "movies[\"Runtime (Minutes)\"].plot.hist(bins=3)"
   ]
  },
  {
   "cell_type": "code",
   "execution_count": 163,
   "id": "fc20c99f",
   "metadata": {
    "ExecuteTime": {
     "end_time": "2023-03-24T18:54:47.310658Z",
     "start_time": "2023-03-24T18:54:47.286840Z"
    }
   },
   "outputs": [
    {
     "data": {
      "text/plain": [
       "0      medium\n",
       "1      medium\n",
       "2      medium\n",
       "3      medium\n",
       "4      medium\n",
       "        ...  \n",
       "995    medium\n",
       "996       low\n",
       "997       low\n",
       "998       low\n",
       "999       low\n",
       "Name: time_length_category, Length: 1000, dtype: category\n",
       "Categories (3, object): ['low' < 'medium' < 'high']"
      ]
     },
     "execution_count": 163,
     "metadata": {},
     "output_type": "execute_result"
    }
   ],
   "source": [
    "# First answer, kept this since it should supply and not using a for loop to modify a \n",
    "# whole column\n",
    "\n",
    "# Create a new field that is the categorical \n",
    "# expression of Runtime (Minutes) column\n",
    "def categorize(runtime):\n",
    "    '''Convert the length of a movie to short/medium/long '''\n",
    "    result = None\n",
    "    if runtime <= 75:\n",
    "        result = \"short\"\n",
    "    elif runtime <= 120:\n",
    "        result = \"medium\"\n",
    "    else:\n",
    "        result = \"long\"\n",
    "    return result\n",
    "\n",
    "movies2 = movies.copy(deep=True)\n",
    "movies2[\"time_length_category\"] = \\\n",
    "    movies[\"Runtime (Minutes)\"].apply(categorize)\n",
    "    \n",
    "# Use cut when you need to segment and sort data values into bins. This function is also \n",
    "# useful for going from a continuous variable to a categorical variable\n",
    "# Can also use an list to split by interval\n",
    "movies3 = movies.copy(deep=True)\n",
    "movies3[\"time_length_category\"] = pd.cut(\n",
    "    movies3['Runtime (Minutes)'], bins=3, right=True, labels=[\"low\",\"medium\",\"high\"])\n",
    "movies3.time_length_category.astype(dtype=\"category\")\n",
    "        "
   ]
  },
  {
   "cell_type": "code",
   "execution_count": 164,
   "id": "0eea1e49",
   "metadata": {
    "ExecuteTime": {
     "end_time": "2023-03-24T18:54:47.340606Z",
     "start_time": "2023-03-24T18:54:47.314246Z"
    }
   },
   "outputs": [
    {
     "data": {
      "text/html": [
       "<div>\n",
       "<style scoped>\n",
       "    .dataframe tbody tr th:only-of-type {\n",
       "        vertical-align: middle;\n",
       "    }\n",
       "\n",
       "    .dataframe tbody tr th {\n",
       "        vertical-align: top;\n",
       "    }\n",
       "\n",
       "    .dataframe thead th {\n",
       "        text-align: right;\n",
       "    }\n",
       "</style>\n",
       "<table border=\"1\" class=\"dataframe\">\n",
       "  <thead>\n",
       "    <tr style=\"text-align: right;\">\n",
       "      <th></th>\n",
       "      <th>Title</th>\n",
       "      <th>Genre</th>\n",
       "      <th>Description</th>\n",
       "      <th>Director</th>\n",
       "      <th>Actors</th>\n",
       "      <th>time_length_category</th>\n",
       "    </tr>\n",
       "  </thead>\n",
       "  <tbody>\n",
       "    <tr>\n",
       "      <th>count</th>\n",
       "      <td>1000</td>\n",
       "      <td>1000</td>\n",
       "      <td>1000</td>\n",
       "      <td>1000</td>\n",
       "      <td>1000</td>\n",
       "      <td>1000</td>\n",
       "    </tr>\n",
       "    <tr>\n",
       "      <th>unique</th>\n",
       "      <td>999</td>\n",
       "      <td>207</td>\n",
       "      <td>1000</td>\n",
       "      <td>644</td>\n",
       "      <td>996</td>\n",
       "      <td>3</td>\n",
       "    </tr>\n",
       "    <tr>\n",
       "      <th>top</th>\n",
       "      <td>The Host</td>\n",
       "      <td>Action,Adventure,Sci-Fi</td>\n",
       "      <td>A group of intergalactic criminals are forced ...</td>\n",
       "      <td>Ridley Scott</td>\n",
       "      <td>Jennifer Lawrence, Josh Hutcherson, Liam Hemsw...</td>\n",
       "      <td>medium</td>\n",
       "    </tr>\n",
       "    <tr>\n",
       "      <th>freq</th>\n",
       "      <td>2</td>\n",
       "      <td>50</td>\n",
       "      <td>1</td>\n",
       "      <td>8</td>\n",
       "      <td>2</td>\n",
       "      <td>708</td>\n",
       "    </tr>\n",
       "  </tbody>\n",
       "</table>\n",
       "</div>"
      ],
      "text/plain": [
       "           Title                    Genre  \\\n",
       "count       1000                     1000   \n",
       "unique       999                      207   \n",
       "top     The Host  Action,Adventure,Sci-Fi   \n",
       "freq           2                       50   \n",
       "\n",
       "                                              Description      Director  \\\n",
       "count                                                1000          1000   \n",
       "unique                                               1000           644   \n",
       "top     A group of intergalactic criminals are forced ...  Ridley Scott   \n",
       "freq                                                    1             8   \n",
       "\n",
       "                                                   Actors time_length_category  \n",
       "count                                                1000                 1000  \n",
       "unique                                                996                    3  \n",
       "top     Jennifer Lawrence, Josh Hutcherson, Liam Hemsw...               medium  \n",
       "freq                                                    2                  708  "
      ]
     },
     "execution_count": 164,
     "metadata": {},
     "output_type": "execute_result"
    }
   ],
   "source": [
    "movies2.describe(include=['O'])"
   ]
  },
  {
   "cell_type": "code",
   "execution_count": 165,
   "id": "4fc80643",
   "metadata": {
    "ExecuteTime": {
     "end_time": "2023-03-24T18:54:47.375068Z",
     "start_time": "2023-03-24T18:54:47.348405Z"
    }
   },
   "outputs": [
    {
     "data": {
      "text/html": [
       "<div>\n",
       "<style scoped>\n",
       "    .dataframe tbody tr th:only-of-type {\n",
       "        vertical-align: middle;\n",
       "    }\n",
       "\n",
       "    .dataframe tbody tr th {\n",
       "        vertical-align: top;\n",
       "    }\n",
       "\n",
       "    .dataframe thead th {\n",
       "        text-align: right;\n",
       "    }\n",
       "</style>\n",
       "<table border=\"1\" class=\"dataframe\">\n",
       "  <thead>\n",
       "    <tr style=\"text-align: right;\">\n",
       "      <th></th>\n",
       "      <th>Title</th>\n",
       "      <th>Genre</th>\n",
       "      <th>Description</th>\n",
       "      <th>Director</th>\n",
       "      <th>Actors</th>\n",
       "    </tr>\n",
       "  </thead>\n",
       "  <tbody>\n",
       "    <tr>\n",
       "      <th>count</th>\n",
       "      <td>1000</td>\n",
       "      <td>1000</td>\n",
       "      <td>1000</td>\n",
       "      <td>1000</td>\n",
       "      <td>1000</td>\n",
       "    </tr>\n",
       "    <tr>\n",
       "      <th>unique</th>\n",
       "      <td>999</td>\n",
       "      <td>207</td>\n",
       "      <td>1000</td>\n",
       "      <td>644</td>\n",
       "      <td>996</td>\n",
       "    </tr>\n",
       "    <tr>\n",
       "      <th>top</th>\n",
       "      <td>The Host</td>\n",
       "      <td>Action,Adventure,Sci-Fi</td>\n",
       "      <td>A group of intergalactic criminals are forced ...</td>\n",
       "      <td>Ridley Scott</td>\n",
       "      <td>Jennifer Lawrence, Josh Hutcherson, Liam Hemsw...</td>\n",
       "    </tr>\n",
       "    <tr>\n",
       "      <th>freq</th>\n",
       "      <td>2</td>\n",
       "      <td>50</td>\n",
       "      <td>1</td>\n",
       "      <td>8</td>\n",
       "      <td>2</td>\n",
       "    </tr>\n",
       "  </tbody>\n",
       "</table>\n",
       "</div>"
      ],
      "text/plain": [
       "           Title                    Genre  \\\n",
       "count       1000                     1000   \n",
       "unique       999                      207   \n",
       "top     The Host  Action,Adventure,Sci-Fi   \n",
       "freq           2                       50   \n",
       "\n",
       "                                              Description      Director  \\\n",
       "count                                                1000          1000   \n",
       "unique                                               1000           644   \n",
       "top     A group of intergalactic criminals are forced ...  Ridley Scott   \n",
       "freq                                                    1             8   \n",
       "\n",
       "                                                   Actors  \n",
       "count                                                1000  \n",
       "unique                                                996  \n",
       "top     Jennifer Lawrence, Josh Hutcherson, Liam Hemsw...  \n",
       "freq                                                    2  "
      ]
     },
     "execution_count": 165,
     "metadata": {},
     "output_type": "execute_result"
    }
   ],
   "source": [
    "# Why is this different from #2\n",
    "movies3.describe(include=['O'])"
   ]
  },
  {
   "cell_type": "code",
   "execution_count": 166,
   "id": "9d07e9dd",
   "metadata": {
    "ExecuteTime": {
     "end_time": "2023-03-24T18:54:47.398229Z",
     "start_time": "2023-03-24T18:54:47.381166Z"
    }
   },
   "outputs": [
    {
     "name": "stdout",
     "output_type": "stream",
     "text": [
      "<class 'pandas.core.frame.DataFrame'>\n",
      "RangeIndex: 1000 entries, 0 to 999\n",
      "Data columns (total 13 columns):\n",
      " #   Column                Non-Null Count  Dtype   \n",
      "---  ------                --------------  -----   \n",
      " 0   Rank                  1000 non-null   int64   \n",
      " 1   Title                 1000 non-null   object  \n",
      " 2   Genre                 1000 non-null   object  \n",
      " 3   Description           1000 non-null   object  \n",
      " 4   Director              1000 non-null   object  \n",
      " 5   Actors                1000 non-null   object  \n",
      " 6   Year                  1000 non-null   int64   \n",
      " 7   Runtime (Minutes)     1000 non-null   int64   \n",
      " 8   Rating                1000 non-null   float64 \n",
      " 9   Votes                 1000 non-null   int64   \n",
      " 10  Revenue (Millions)    872 non-null    float64 \n",
      " 11  Metascore             936 non-null    float64 \n",
      " 12  time_length_category  1000 non-null   category\n",
      "dtypes: category(1), float64(3), int64(4), object(5)\n",
      "memory usage: 95.0+ KB\n"
     ]
    }
   ],
   "source": [
    "movies3.info()"
   ]
  },
  {
   "cell_type": "code",
   "execution_count": 167,
   "id": "b17ec981",
   "metadata": {
    "ExecuteTime": {
     "end_time": "2023-03-24T18:54:47.409316Z",
     "start_time": "2023-03-24T18:54:47.403024Z"
    }
   },
   "outputs": [
    {
     "data": {
      "text/plain": [
       "Index(['low', 'medium', 'high'], dtype='object')"
      ]
     },
     "execution_count": 167,
     "metadata": {},
     "output_type": "execute_result"
    }
   ],
   "source": [
    "movies3.time_length_category.cat.categories"
   ]
  },
  {
   "cell_type": "code",
   "execution_count": 168,
   "id": "c8531cf1",
   "metadata": {
    "ExecuteTime": {
     "end_time": "2023-03-24T18:54:47.433776Z",
     "start_time": "2023-03-24T18:54:47.412902Z"
    }
   },
   "outputs": [
    {
     "data": {
      "text/plain": [
       "(6.633, 9.0]                   561\n",
       "(4.267, 6.633]                 424\n",
       "(1.8920000000000001, 4.267]     15\n",
       "Name: Rating, dtype: int64"
      ]
     },
     "execution_count": 168,
     "metadata": {},
     "output_type": "execute_result"
    }
   ],
   "source": [
    "# bins only work with category.\n",
    "movies3.Rating.value_counts(bins=3)"
   ]
  },
  {
   "cell_type": "code",
   "execution_count": 169,
   "id": "bfddc3cf",
   "metadata": {
    "ExecuteTime": {
     "end_time": "2023-03-24T18:54:47.446346Z",
     "start_time": "2023-03-24T18:54:47.436897Z"
    }
   },
   "outputs": [
    {
     "data": {
      "text/plain": [
       "medium    526\n",
       "low       423\n",
       "high       51\n",
       "Name: time_length_category, dtype: int64"
      ]
     },
     "execution_count": 169,
     "metadata": {},
     "output_type": "execute_result"
    }
   ],
   "source": [
    "movies3.time_length_category.value_counts()"
   ]
  },
  {
   "cell_type": "markdown",
   "id": "3b3356dc",
   "metadata": {},
   "source": [
    "## Is it possible to convert categorical variable into numerical one? If so, how can you make that?\n",
    "\n",
    "Knowing the type of data : Nominal, Ordinal helps to randomly assign different values to \n",
    "each category.\n",
    "\n",
    "Knowing the difference between ratio, interval, ordinal helps when you want to convert categorical varaibels to a numerical one\n",
    "\n",
    "Yes"
   ]
  },
  {
   "cell_type": "code",
   "execution_count": 170,
   "id": "c901a7bf",
   "metadata": {
    "ExecuteTime": {
     "end_time": "2023-03-24T18:54:47.487033Z",
     "start_time": "2023-03-24T18:54:47.449398Z"
    }
   },
   "outputs": [
    {
     "data": {
      "text/html": [
       "<div>\n",
       "<style scoped>\n",
       "    .dataframe tbody tr th:only-of-type {\n",
       "        vertical-align: middle;\n",
       "    }\n",
       "\n",
       "    .dataframe tbody tr th {\n",
       "        vertical-align: top;\n",
       "    }\n",
       "\n",
       "    .dataframe thead th {\n",
       "        text-align: right;\n",
       "    }\n",
       "</style>\n",
       "<table border=\"1\" class=\"dataframe\">\n",
       "  <thead>\n",
       "    <tr style=\"text-align: right;\">\n",
       "      <th></th>\n",
       "      <th>Rank</th>\n",
       "      <th>Title</th>\n",
       "      <th>Genre</th>\n",
       "      <th>Description</th>\n",
       "      <th>Director</th>\n",
       "      <th>Actors</th>\n",
       "      <th>Year</th>\n",
       "      <th>Runtime (Minutes)</th>\n",
       "      <th>Rating</th>\n",
       "      <th>Votes</th>\n",
       "      <th>Revenue (Millions)</th>\n",
       "      <th>Metascore</th>\n",
       "      <th>Genre_discrete</th>\n",
       "      <th>Genre_discrete_categories</th>\n",
       "    </tr>\n",
       "  </thead>\n",
       "  <tbody>\n",
       "    <tr>\n",
       "      <th>0</th>\n",
       "      <td>1</td>\n",
       "      <td>Guardians of the Galaxy</td>\n",
       "      <td>Action,Adventure,Sci-Fi</td>\n",
       "      <td>A group of intergalactic criminals are forced ...</td>\n",
       "      <td>James Gunn</td>\n",
       "      <td>Chris Pratt, Vin Diesel, Bradley Cooper, Zoe S...</td>\n",
       "      <td>2014</td>\n",
       "      <td>121</td>\n",
       "      <td>8.1</td>\n",
       "      <td>757074</td>\n",
       "      <td>333.13</td>\n",
       "      <td>76.0</td>\n",
       "      <td>11</td>\n",
       "      <td>Action,Adventure,Sci-Fi</td>\n",
       "    </tr>\n",
       "    <tr>\n",
       "      <th>1</th>\n",
       "      <td>2</td>\n",
       "      <td>Prometheus</td>\n",
       "      <td>Adventure,Mystery,Sci-Fi</td>\n",
       "      <td>Following clues to the origin of mankind, a te...</td>\n",
       "      <td>Ridley Scott</td>\n",
       "      <td>Noomi Rapace, Logan Marshall-Green, Michael Fa...</td>\n",
       "      <td>2012</td>\n",
       "      <td>124</td>\n",
       "      <td>7.0</td>\n",
       "      <td>485820</td>\n",
       "      <td>126.46</td>\n",
       "      <td>65.0</td>\n",
       "      <td>85</td>\n",
       "      <td>Adventure,Mystery,Sci-Fi</td>\n",
       "    </tr>\n",
       "    <tr>\n",
       "      <th>2</th>\n",
       "      <td>3</td>\n",
       "      <td>Split</td>\n",
       "      <td>Horror,Thriller</td>\n",
       "      <td>Three girls are kidnapped by a man with a diag...</td>\n",
       "      <td>M. Night Shyamalan</td>\n",
       "      <td>James McAvoy, Anya Taylor-Joy, Haley Lu Richar...</td>\n",
       "      <td>2016</td>\n",
       "      <td>117</td>\n",
       "      <td>7.3</td>\n",
       "      <td>157606</td>\n",
       "      <td>138.12</td>\n",
       "      <td>62.0</td>\n",
       "      <td>195</td>\n",
       "      <td>Horror,Thriller</td>\n",
       "    </tr>\n",
       "    <tr>\n",
       "      <th>3</th>\n",
       "      <td>4</td>\n",
       "      <td>Sing</td>\n",
       "      <td>Animation,Comedy,Family</td>\n",
       "      <td>In a city of humanoid animals, a hustling thea...</td>\n",
       "      <td>Christophe Lourdelet</td>\n",
       "      <td>Matthew McConaughey,Reese Witherspoon, Seth Ma...</td>\n",
       "      <td>2016</td>\n",
       "      <td>108</td>\n",
       "      <td>7.2</td>\n",
       "      <td>60545</td>\n",
       "      <td>270.32</td>\n",
       "      <td>59.0</td>\n",
       "      <td>92</td>\n",
       "      <td>Animation,Comedy,Family</td>\n",
       "    </tr>\n",
       "    <tr>\n",
       "      <th>4</th>\n",
       "      <td>5</td>\n",
       "      <td>Suicide Squad</td>\n",
       "      <td>Action,Adventure,Fantasy</td>\n",
       "      <td>A secret government agency recruits some of th...</td>\n",
       "      <td>David Ayer</td>\n",
       "      <td>Will Smith, Jared Leto, Margot Robbie, Viola D...</td>\n",
       "      <td>2016</td>\n",
       "      <td>123</td>\n",
       "      <td>6.2</td>\n",
       "      <td>393727</td>\n",
       "      <td>325.02</td>\n",
       "      <td>40.0</td>\n",
       "      <td>7</td>\n",
       "      <td>Action,Adventure,Fantasy</td>\n",
       "    </tr>\n",
       "    <tr>\n",
       "      <th>...</th>\n",
       "      <td>...</td>\n",
       "      <td>...</td>\n",
       "      <td>...</td>\n",
       "      <td>...</td>\n",
       "      <td>...</td>\n",
       "      <td>...</td>\n",
       "      <td>...</td>\n",
       "      <td>...</td>\n",
       "      <td>...</td>\n",
       "      <td>...</td>\n",
       "      <td>...</td>\n",
       "      <td>...</td>\n",
       "      <td>...</td>\n",
       "      <td>...</td>\n",
       "    </tr>\n",
       "    <tr>\n",
       "      <th>995</th>\n",
       "      <td>996</td>\n",
       "      <td>Secret in Their Eyes</td>\n",
       "      <td>Crime,Drama,Mystery</td>\n",
       "      <td>A tight-knit team of rising investigators, alo...</td>\n",
       "      <td>Billy Ray</td>\n",
       "      <td>Chiwetel Ejiofor, Nicole Kidman, Julia Roberts...</td>\n",
       "      <td>2015</td>\n",
       "      <td>111</td>\n",
       "      <td>6.2</td>\n",
       "      <td>27585</td>\n",
       "      <td>NaN</td>\n",
       "      <td>45.0</td>\n",
       "      <td>144</td>\n",
       "      <td>Crime,Drama,Mystery</td>\n",
       "    </tr>\n",
       "    <tr>\n",
       "      <th>996</th>\n",
       "      <td>997</td>\n",
       "      <td>Hostel: Part II</td>\n",
       "      <td>Horror</td>\n",
       "      <td>Three American college students studying abroa...</td>\n",
       "      <td>Eli Roth</td>\n",
       "      <td>Lauren German, Heather Matarazzo, Bijou Philli...</td>\n",
       "      <td>2007</td>\n",
       "      <td>94</td>\n",
       "      <td>5.5</td>\n",
       "      <td>73152</td>\n",
       "      <td>17.54</td>\n",
       "      <td>46.0</td>\n",
       "      <td>190</td>\n",
       "      <td>Horror</td>\n",
       "    </tr>\n",
       "    <tr>\n",
       "      <th>997</th>\n",
       "      <td>998</td>\n",
       "      <td>Step Up 2: The Streets</td>\n",
       "      <td>Drama,Music,Romance</td>\n",
       "      <td>Romantic sparks occur between two dance studen...</td>\n",
       "      <td>Jon M. Chu</td>\n",
       "      <td>Robert Hoffman, Briana Evigan, Cassie Ventura,...</td>\n",
       "      <td>2008</td>\n",
       "      <td>98</td>\n",
       "      <td>6.2</td>\n",
       "      <td>70699</td>\n",
       "      <td>58.01</td>\n",
       "      <td>50.0</td>\n",
       "      <td>170</td>\n",
       "      <td>Drama,Music,Romance</td>\n",
       "    </tr>\n",
       "    <tr>\n",
       "      <th>998</th>\n",
       "      <td>999</td>\n",
       "      <td>Search Party</td>\n",
       "      <td>Adventure,Comedy</td>\n",
       "      <td>A pair of friends embark on a mission to reuni...</td>\n",
       "      <td>Scot Armstrong</td>\n",
       "      <td>Adam Pally, T.J. Miller, Thomas Middleditch,Sh...</td>\n",
       "      <td>2014</td>\n",
       "      <td>93</td>\n",
       "      <td>5.6</td>\n",
       "      <td>4881</td>\n",
       "      <td>NaN</td>\n",
       "      <td>22.0</td>\n",
       "      <td>61</td>\n",
       "      <td>Adventure,Comedy</td>\n",
       "    </tr>\n",
       "    <tr>\n",
       "      <th>999</th>\n",
       "      <td>1000</td>\n",
       "      <td>Nine Lives</td>\n",
       "      <td>Comedy,Family,Fantasy</td>\n",
       "      <td>A stuffy businessman finds himself trapped ins...</td>\n",
       "      <td>Barry Sonnenfeld</td>\n",
       "      <td>Kevin Spacey, Jennifer Garner, Robbie Amell,Ch...</td>\n",
       "      <td>2016</td>\n",
       "      <td>87</td>\n",
       "      <td>5.3</td>\n",
       "      <td>12435</td>\n",
       "      <td>19.64</td>\n",
       "      <td>11.0</td>\n",
       "      <td>121</td>\n",
       "      <td>Comedy,Family,Fantasy</td>\n",
       "    </tr>\n",
       "  </tbody>\n",
       "</table>\n",
       "<p>1000 rows × 14 columns</p>\n",
       "</div>"
      ],
      "text/plain": [
       "     Rank                    Title                     Genre  \\\n",
       "0       1  Guardians of the Galaxy   Action,Adventure,Sci-Fi   \n",
       "1       2               Prometheus  Adventure,Mystery,Sci-Fi   \n",
       "2       3                    Split           Horror,Thriller   \n",
       "3       4                     Sing   Animation,Comedy,Family   \n",
       "4       5            Suicide Squad  Action,Adventure,Fantasy   \n",
       "..    ...                      ...                       ...   \n",
       "995   996     Secret in Their Eyes       Crime,Drama,Mystery   \n",
       "996   997          Hostel: Part II                    Horror   \n",
       "997   998   Step Up 2: The Streets       Drama,Music,Romance   \n",
       "998   999             Search Party          Adventure,Comedy   \n",
       "999  1000               Nine Lives     Comedy,Family,Fantasy   \n",
       "\n",
       "                                           Description              Director  \\\n",
       "0    A group of intergalactic criminals are forced ...            James Gunn   \n",
       "1    Following clues to the origin of mankind, a te...          Ridley Scott   \n",
       "2    Three girls are kidnapped by a man with a diag...    M. Night Shyamalan   \n",
       "3    In a city of humanoid animals, a hustling thea...  Christophe Lourdelet   \n",
       "4    A secret government agency recruits some of th...            David Ayer   \n",
       "..                                                 ...                   ...   \n",
       "995  A tight-knit team of rising investigators, alo...             Billy Ray   \n",
       "996  Three American college students studying abroa...              Eli Roth   \n",
       "997  Romantic sparks occur between two dance studen...            Jon M. Chu   \n",
       "998  A pair of friends embark on a mission to reuni...        Scot Armstrong   \n",
       "999  A stuffy businessman finds himself trapped ins...      Barry Sonnenfeld   \n",
       "\n",
       "                                                Actors  Year  \\\n",
       "0    Chris Pratt, Vin Diesel, Bradley Cooper, Zoe S...  2014   \n",
       "1    Noomi Rapace, Logan Marshall-Green, Michael Fa...  2012   \n",
       "2    James McAvoy, Anya Taylor-Joy, Haley Lu Richar...  2016   \n",
       "3    Matthew McConaughey,Reese Witherspoon, Seth Ma...  2016   \n",
       "4    Will Smith, Jared Leto, Margot Robbie, Viola D...  2016   \n",
       "..                                                 ...   ...   \n",
       "995  Chiwetel Ejiofor, Nicole Kidman, Julia Roberts...  2015   \n",
       "996  Lauren German, Heather Matarazzo, Bijou Philli...  2007   \n",
       "997  Robert Hoffman, Briana Evigan, Cassie Ventura,...  2008   \n",
       "998  Adam Pally, T.J. Miller, Thomas Middleditch,Sh...  2014   \n",
       "999  Kevin Spacey, Jennifer Garner, Robbie Amell,Ch...  2016   \n",
       "\n",
       "     Runtime (Minutes)  Rating   Votes  Revenue (Millions)  Metascore  \\\n",
       "0                  121     8.1  757074              333.13       76.0   \n",
       "1                  124     7.0  485820              126.46       65.0   \n",
       "2                  117     7.3  157606              138.12       62.0   \n",
       "3                  108     7.2   60545              270.32       59.0   \n",
       "4                  123     6.2  393727              325.02       40.0   \n",
       "..                 ...     ...     ...                 ...        ...   \n",
       "995                111     6.2   27585                 NaN       45.0   \n",
       "996                 94     5.5   73152               17.54       46.0   \n",
       "997                 98     6.2   70699               58.01       50.0   \n",
       "998                 93     5.6    4881                 NaN       22.0   \n",
       "999                 87     5.3   12435               19.64       11.0   \n",
       "\n",
       "     Genre_discrete Genre_discrete_categories  \n",
       "0                11   Action,Adventure,Sci-Fi  \n",
       "1                85  Adventure,Mystery,Sci-Fi  \n",
       "2               195           Horror,Thriller  \n",
       "3                92   Animation,Comedy,Family  \n",
       "4                 7  Action,Adventure,Fantasy  \n",
       "..              ...                       ...  \n",
       "995             144       Crime,Drama,Mystery  \n",
       "996             190                    Horror  \n",
       "997             170       Drama,Music,Romance  \n",
       "998              61          Adventure,Comedy  \n",
       "999             121     Comedy,Family,Fantasy  \n",
       "\n",
       "[1000 rows x 14 columns]"
      ]
     },
     "execution_count": 170,
     "metadata": {},
     "output_type": "execute_result"
    }
   ],
   "source": [
    "# Want to know which number is assigned to which genre\n",
    "d = dict(enumerate(movies.Genre.astype('category').cat.categories))\n",
    "\n",
    "# Assigns the number \n",
    "movies['Genre_discrete']=movies.Genre.astype('category').cat.codes\n",
    "\n",
    "# Assigns the code of the category\n",
    "movies['Genre_discrete_categories']=movies.Genre_discrete.map(d)\n",
    "movies"
   ]
  },
  {
   "cell_type": "markdown",
   "id": "dfee299d",
   "metadata": {
    "ExecuteTime": {
     "end_time": "2023-02-20T19:53:21.691670Z",
     "start_time": "2023-02-20T19:53:21.686448Z"
    }
   },
   "source": [
    "## While continuous data is generally preferred over discrete data, \n",
    "\n",
    "In regards to target varible.\n",
    "\n",
    "In classification categorical data is used since selection are distinct\n",
    "In regression continous data is used "
   ]
  },
  {
   "cell_type": "markdown",
   "id": "c4f8af0f",
   "metadata": {
    "ExecuteTime": {
     "end_time": "2023-03-05T16:03:15.214931Z",
     "start_time": "2023-03-05T16:03:15.210083Z"
    }
   },
   "source": [
    "## While continuous data is measured and attribute data is counted, \n",
    "1. Determination of whehter to use a data set shoud be determined by the parecision required for the analysis\n",
    "\n",
    "\n",
    "Age/Body Mass Index -- Continonous or caetgorical"
   ]
  },
  {
   "cell_type": "markdown",
   "id": "d987293f",
   "metadata": {},
   "source": [
    "## How should you handle a large amount of categorical columns \n",
    "\n",
    "Use Principal component analysis.  Keep the variables that are responsible for the greatest amount of variane and keep them.\n",
    "\n",
    "if many columns variation an there is no clear winner then keep the columns"
   ]
  }
 ],
 "metadata": {
  "kernelspec": {
   "display_name": "Python 3 (ipykernel)",
   "language": "python",
   "name": "python3"
  },
  "language_info": {
   "codemirror_mode": {
    "name": "ipython",
    "version": 3
   },
   "file_extension": ".py",
   "mimetype": "text/x-python",
   "name": "python",
   "nbconvert_exporter": "python",
   "pygments_lexer": "ipython3",
   "version": "3.9.13"
  },
  "toc": {
   "base_numbering": 1,
   "nav_menu": {},
   "number_sections": true,
   "sideBar": true,
   "skip_h1_title": false,
   "title_cell": "Table of Contents",
   "title_sidebar": "Contents",
   "toc_cell": false,
   "toc_position": {},
   "toc_section_display": true,
   "toc_window_display": false
  }
 },
 "nbformat": 4,
 "nbformat_minor": 5
}
