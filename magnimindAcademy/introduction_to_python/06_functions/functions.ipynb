{
 "cells": [
  {
   "cell_type": "markdown",
   "id": "5657ebad",
   "metadata": {},
   "source": [
    "# Function Assignment & Submit"
   ]
  },
  {
   "cell_type": "code",
   "execution_count": null,
   "id": "d7eae80c",
   "metadata": {},
   "outputs": [],
   "source": [
    "## Exercise 1\n",
    "\n",
    "<b>Finding Prime Number</b>\n",
    "\n",
    "A prime number is an integer greater than one that is only divisible by one and itself. Write a function that \n",
    "determines whether or not its parameter is prime, returning True if it is, and False otherwise. Write a main \n",
    "program that reads an integer from the user and displays a message indicating whether or not it is prime."
   ]
  },
  {
   "cell_type": "code",
   "execution_count": 45,
   "id": "41944ab9",
   "metadata": {
    "ExecuteTime": {
     "end_time": "2023-02-06T15:25:45.560958Z",
     "start_time": "2023-02-06T15:25:45.556516Z"
    }
   },
   "outputs": [],
   "source": [
    "import math\n",
    "def is_prime(number:int) -> bool:\n",
    "    ''' Return ture if the number is prime'''\n",
    "    result = True\n",
    "    if ( number == 1 or number == 2):\n",
    "        return True\n",
    "    \n",
    "    for counter in range(3, int(math.sqrt(number))+1,2):\n",
    "        #print(counter, number % counter)\n",
    "        if ( number % counter == 0 ):\n",
    "            result = False\n",
    "            break;\n",
    "    return result;\n"
   ]
  },
  {
   "cell_type": "code",
   "execution_count": 49,
   "id": "7d0b77bf",
   "metadata": {
    "ExecuteTime": {
     "end_time": "2023-02-06T15:27:39.571297Z",
     "start_time": "2023-02-06T15:27:39.567378Z"
    }
   },
   "outputs": [
    {
     "name": "stdout",
     "output_type": "stream",
     "text": [
      "(The input is    1 and the vlaue is True\n",
      "(The input is    3 and the vlaue is True\n",
      "(The input is    5 and the vlaue is True\n",
      "(The input is    7 and the vlaue is True\n",
      "(The input is    9 and the vlaue is False\n",
      "(The input is   11 and the vlaue is True\n",
      "(The input is   13 and the vlaue is True\n",
      "(The input is   15 and the vlaue is False\n",
      "(The input is   17 and the vlaue is True\n",
      "(The input is   19 and the vlaue is True\n",
      "(The input is   21 and the vlaue is False\n",
      "(The input is   23 and the vlaue is True\n",
      "(The input is   25 and the vlaue is False\n",
      "(The input is   27 and the vlaue is False\n",
      "(The input is   29 and the vlaue is True\n",
      "(The input is   31 and the vlaue is True\n",
      "(The input is   33 and the vlaue is False\n",
      "(The input is   35 and the vlaue is False\n",
      "(The input is   37 and the vlaue is True\n",
      "(The input is   39 and the vlaue is False\n",
      "(The input is   41 and the vlaue is True\n",
      "(The input is   43 and the vlaue is True\n",
      "(The input is   45 and the vlaue is False\n",
      "(The input is   47 and the vlaue is True\n",
      "(The input is   49 and the vlaue is False\n"
     ]
    }
   ],
   "source": [
    "#\n",
    "# Just ot show that it works print out the primes between 1 and 50\n",
    "#\n",
    "for counter in range(1,51,2):\n",
    "    print(f\"(The input is {counter:4} and the vlaue is {is_prime(counter)}\" )"
   ]
  },
  {
   "cell_type": "markdown",
   "id": "944f4487",
   "metadata": {},
   "source": [
    "## Exercise 3\n",
    "You're laying out a rad pixel art mural to paint on your living room wall in homage to Paul Robertson, your favorite pixel artist.\n",
    "\n",
    "You want your work to be perfect down to the millimeter. You haven't decided on the dimensions of your piece, how large you want your pixels to be, or which wall you want to use. You just know that you want to fit an exact number of pixels.\n",
    "\n",
    "To help decide those things you've decided to write a function, is_divisible that will tell you whether a wall of a certain length can exactly fit an integer number of pixels of a certain length.\n",
    "\n",
    "Your function should take two arguments: the size of the wall in millimeters and the size of a pixel in millimeters. It should return True if you can fit an exact number of pixels on the wall, otherwise it should return False. For example is_divisible(4050, 27) should return True, but is_divisible(4066, 27) should return False.\n",
    "\n",
    "Note: you don't need to use an if statement here. Remember that in Python an expression using the == comparison operator will evaluate to either True or False:"
   ]
  },
  {
   "cell_type": "code",
   "execution_count": 68,
   "id": "dd56aa9a",
   "metadata": {
    "ExecuteTime": {
     "end_time": "2023-02-06T15:43:28.217765Z",
     "start_time": "2023-02-06T15:43:28.214437Z"
    }
   },
   "outputs": [],
   "source": [
    "def is_divisible(size_of_wall, size_of_pixels):\n",
    "    ''' return true if the first number is divisbile by the second '''\n",
    "    return True if size_of_wall > 0 and size_of_wall % size_of_pixels == 0 else False"
   ]
  },
  {
   "cell_type": "code",
   "execution_count": 69,
   "id": "1a6949bc",
   "metadata": {
    "ExecuteTime": {
     "end_time": "2023-02-06T15:43:28.618745Z",
     "start_time": "2023-02-06T15:43:28.613804Z"
    }
   },
   "outputs": [
    {
     "name": "stdout",
     "output_type": "stream",
     "text": [
      "The first parameter is    6 and the second pameter is    3     and the result is True\n",
      "The first parameter is    3 and the second pameter is    6     and the result is False\n",
      "The first parameter is    0 and the second pameter is    1     and the result is False\n"
     ]
    }
   ],
   "source": [
    "def test(test_data:tuple):\n",
    "    print(f\"The first parameter is {test_data[0]:4} and the second pameter is {test_data[1]:4} \\\n",
    "    and the result is {is_divisible(test_data[0], test_data[1])}\")\n",
    "test((6,3))\n",
    "test((3,6))\n",
    "test((0,1))"
   ]
  },
  {
   "cell_type": "code",
   "execution_count": null,
   "id": "04890231",
   "metadata": {},
   "outputs": [],
   "source": []
  }
 ],
 "metadata": {
  "kernelspec": {
   "display_name": "Python 3 (ipykernel)",
   "language": "python",
   "name": "python3"
  },
  "language_info": {
   "codemirror_mode": {
    "name": "ipython",
    "version": 3
   },
   "file_extension": ".py",
   "mimetype": "text/x-python",
   "name": "python",
   "nbconvert_exporter": "python",
   "pygments_lexer": "ipython3",
   "version": "3.9.13"
  }
 },
 "nbformat": 4,
 "nbformat_minor": 5
}
