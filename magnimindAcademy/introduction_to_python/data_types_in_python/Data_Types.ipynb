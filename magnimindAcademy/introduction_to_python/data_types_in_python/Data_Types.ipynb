{
 "cells": [
  {
   "cell_type": "markdown",
   "id": "a05017e3",
   "metadata": {
    "ExecuteTime": {
     "end_time": "2023-01-24T17:33:18.431303Z",
     "start_time": "2023-01-24T17:33:18.426912Z"
    }
   },
   "source": [
    "# Data Types Assignment and Submit"
   ]
  },
  {
   "cell_type": "markdown",
   "id": "4d450c8c",
   "metadata": {},
   "source": [
    "## Question 1\n",
    "\n",
    "Suppose you invested in Bitcoin at the end of 2020 when Bitcoin gained a lot of value. What would be your money at the end of a week if you had invested $1000 with an average daily increase of 12% ? You can solve the problem using Python."
   ]
  },
  {
   "cell_type": "code",
   "execution_count": 47,
   "id": "ce754fb6",
   "metadata": {
    "ExecuteTime": {
     "end_time": "2023-01-24T17:57:47.836013Z",
     "start_time": "2023-01-24T17:57:47.831511Z"
    }
   },
   "outputs": [
    {
     "name": "stdout",
     "output_type": "stream",
     "text": [
      "Your money at the end of the week would be $3210.68\n"
     ]
    }
   ],
   "source": [
    "# Answer to question 1\n",
    "capital = 1000\n",
    "daily_growth = .12\n",
    "period = 7\n",
    "\n",
    "capital_after_period = capital\n",
    "for day in range(0,7):\n",
    "    capital_after_period += ( capital_after_period * daily_growth )\n",
    "\n",
    "result = capital_after_period + capital\n",
    "print(f\"Your money at the end of the week would be ${result:.2f}\")"
   ]
  },
  {
   "cell_type": "markdown",
   "id": "0a7e8536",
   "metadata": {},
   "source": [
    "## Question 2: \n",
    "\n",
    "Print the text in quotes with Python. However, you must get the numbers from variables using .format() notation. Because the text is long, you might consider writing in two lines:"
   ]
  },
  {
   "cell_type": "code",
   "execution_count": 48,
   "id": "9bc51716",
   "metadata": {
    "ExecuteTime": {
     "end_time": "2023-01-24T17:58:14.137930Z",
     "start_time": "2023-01-24T17:58:14.134343Z"
    }
   },
   "outputs": [
    {
     "name": "stdout",
     "output_type": "stream",
     "text": [
      "When we buy bitcoin with 1000 USD at the beginning of the week, we would earn $2210.68 USD at the end of the week, with an average gain of 12%.\n"
     ]
    }
   ],
   "source": [
    "# Answer 2\n",
    "print(\"When we buy bitcoin with {0} USD at the beginning of the week, we would earn ${1:.2f} USD\\\n",
    " at the end of the week, with an average gain of {2}%.\" \\\n",
    "      .format(capital,result - capital, int(daily_growth * 100)), sep=\"\")\n"
   ]
  },
  {
   "cell_type": "markdown",
   "id": "978013d5",
   "metadata": {},
   "source": [
    "## Question 3:\n",
    "Get the temperature in Fahrenheit from user and write a code to convert it to Celcius. For conversion, you can use this formula: C = (5/9) * (F - 32)\n"
   ]
  },
  {
   "cell_type": "code",
   "execution_count": 65,
   "id": "a0228373",
   "metadata": {
    "ExecuteTime": {
     "end_time": "2023-01-24T18:22:21.723407Z",
     "start_time": "2023-01-24T18:22:19.882176Z"
    }
   },
   "outputs": [
    {
     "name": "stdout",
     "output_type": "stream",
     "text": [
      "Please enter a temperature in Fahrenheit 26\n",
      "The temperature converted to Cellcius is -3.33\n"
     ]
    }
   ],
   "source": [
    "temperature_fahrenheit_as_string = input(\"Please enter a temperature in Fahrenheit \")\n",
    "\n",
    "try:\n",
    "    temperature_fahrenheit = int(temperature_fahrenheit_as_string)\n",
    "    celcius = ( 5 / 9 ) * ( temperature_fahrenheit - 32 )\n",
    "except:\n",
    "    print(\"Cannot calculate the temperature since it is not a numeric value \")\n",
    "print(\"The temperature converted to Cellcius is\", round(celcius, 2))"
   ]
  },
  {
   "cell_type": "markdown",
   "id": "9ee1c11b",
   "metadata": {},
   "source": [
    "## Question 4\n",
    "Get a three digit number the from user and calculate the sum of the digits in the integer."
   ]
  },
  {
   "cell_type": "code",
   "execution_count": 76,
   "id": "a0434f6c",
   "metadata": {
    "ExecuteTime": {
     "end_time": "2023-01-24T18:30:09.591101Z",
     "start_time": "2023-01-24T18:30:07.526734Z"
    }
   },
   "outputs": [
    {
     "name": "stdout",
     "output_type": "stream",
     "text": [
      "Please provide a 3 digit number -222\n",
      "Cannot calculate the sum of the three digits since one or more of the characters is not a digit \n"
     ]
    }
   ],
   "source": [
    "number_as_string = input(\"Please provide a 3 digit number \")\n",
    "\n",
    "total = 0\n",
    "try:\n",
    "    for character in number_as_string:\n",
    "        number = int(character)\n",
    "        total = total + number\n",
    "    print(\"The sum of the single digits in the string are \", total)\n",
    "except:\n",
    "    print(\"Cannot calculate the sum of the three digits since one or more of the characters is not a digit \")\n"
   ]
  },
  {
   "cell_type": "markdown",
   "id": "78b5ff3b",
   "metadata": {},
   "source": [
    "## Question 5\n",
    "Write some code to calculate the hypotenuse of a right angled triangle. Get the side lengths from the user"
   ]
  },
  {
   "cell_type": "code",
   "execution_count": 84,
   "id": "c4f547e9",
   "metadata": {
    "ExecuteTime": {
     "end_time": "2023-01-24T18:45:02.224400Z",
     "start_time": "2023-01-24T18:45:00.080284Z"
    }
   },
   "outputs": [
    {
     "name": "stdout",
     "output_type": "stream",
     "text": [
      "Please enter the first side length 25\n",
      "Please enter the second side length 30\n",
      "The length of the hypotenuse is 39.05\n"
     ]
    }
   ],
   "source": [
    "import math\n",
    "\n",
    "first_side_as_str = input(\"Please enter the first side length \")\n",
    "second_side_as_str = input(\"Please enter the second side length \")\n",
    "\n",
    "try:\n",
    "    first_side = int(first_side_as_str)\n",
    "    second_side = int(second_side_as_str)\n",
    "    \n",
    "    hypotenuse = math.sqrt(first_side**2 + second_side**2)\n",
    "    \n",
    "    print(f\"The length of the hypotenuse is {hypotenuse:.2f}\")\n",
    "except:\n",
    "    print(\"Either one or both of the sides not a number so the hypontenuse cannot be calculated.\")"
   ]
  },
  {
   "cell_type": "code",
   "execution_count": null,
   "id": "b0b6826c",
   "metadata": {},
   "outputs": [],
   "source": []
  }
 ],
 "metadata": {
  "kernelspec": {
   "display_name": "Python 3 (ipykernel)",
   "language": "python",
   "name": "python3"
  },
  "language_info": {
   "codemirror_mode": {
    "name": "ipython",
    "version": 3
   },
   "file_extension": ".py",
   "mimetype": "text/x-python",
   "name": "python",
   "nbconvert_exporter": "python",
   "pygments_lexer": "ipython3",
   "version": "3.9.13"
  }
 },
 "nbformat": 4,
 "nbformat_minor": 5
}
