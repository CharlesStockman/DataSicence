{
 "cells": [
  {
   "cell_type": "markdown",
   "id": "fc190ad7",
   "metadata": {},
   "source": [
    "# Question 3\n",
    "Removes extra characters from the start and end of a string and explain why you need to remove white spaces while exploring text.\n"
   ]
  },
  {
   "cell_type": "code",
   "execution_count": 9,
   "id": "f8973756",
   "metadata": {
    "ExecuteTime": {
     "end_time": "2023-01-24T16:49:52.779817Z",
     "start_time": "2023-01-24T16:49:52.775765Z"
    }
   },
   "outputs": [
    {
     "name": "stdout",
     "output_type": "stream",
     "text": [
      "Remove spaces from the left  side  of the string \"12345      \" \n",
      "Remove spaces from the right side  of the string \"     12345\" \n",
      "Remove spaces from     both  sides of the string \"12345\" \n"
     ]
    }
   ],
   "source": [
    "#Remove Characters from a String.  There three parts to the answers using strip, lstrip, rstrip\n",
    "import re\n",
    "string = \"     12345      \"\n",
    "print(f\"Remove spaces from the left  side  of the string \\\"{string.lstrip()}\\\" \")\n",
    "print(f\"Remove spaces from the right side  of the string \\\"{string.rstrip()}\\\" \")\n",
    "print(f\"Remove spaces from     both  sides of the string \\\"{string.strip()}\\\" \")"
   ]
  },
  {
   "cell_type": "code",
   "execution_count": 26,
   "id": "62c232d0",
   "metadata": {
    "ExecuteTime": {
     "end_time": "2023-01-24T17:08:49.531945Z",
     "start_time": "2023-01-24T17:08:49.526755Z"
    }
   },
   "outputs": [
    {
     "name": "stdout",
     "output_type": "stream",
     "text": [
      "Remove spaces from the left  side  of the string \"12345      \"\n",
      "Remove spaces from the left  side  of the string \"     12345\"\n",
      "Remove spaces from the left  side  of the string \"12345\"\n"
     ]
    }
   ],
   "source": [
    "# Remove using regular expressions.  There three parts to this answer\n",
    "import re\n",
    "string = \"     12345      \"\n",
    "\n",
    "print(\"Remove spaces from the left  side  of the string \", \"\\\"\", re.sub(r'^\\s+',        \"\", string), \"\\\"\", sep=\"\")\n",
    "print(\"Remove spaces from the left  side  of the string \", \"\\\"\", re.sub(r'\\s+$',        \"\", string), \"\\\"\", sep=\"\")\n",
    "print(\"Remove spaces from the left  side  of the string \", \"\\\"\", re.sub(r'^\\s+ | \\s+$', \"\", string), \"\\\"\", sep=\"\")\n"
   ]
  },
  {
   "cell_type": "markdown",
   "id": "d2480ad5",
   "metadata": {},
   "source": [
    "## Question 3B\n",
    "Explain why you need to remove white spaces while exploring text\n",
    "\n",
    "\n",
    "Actually the answer was give from the homework assignment itself which is: \"The reason why we remove it is because Python process these white space and if we have no idea about white spaces, there cannot properly process the text.\"\n",
    "\n",
    "<ol>\n",
    "To add to the above statement:<br>\n",
    "Assumption: Spaces have been removed fromt the string<br>\n",
    "<li><b>When printing the text you can easily line up text since the frist non space character since the character is always at index 0.</b></li>\n",
    "<li><b>For text processing if there are no space on the left or right of the string its makes the process easier.  Since it is one less item to think about</b></li>\n",
    "</ol>\n",
    "    \n",
    "    \n",
    "    \n",
    "\n"
   ]
  },
  {
   "cell_type": "code",
   "execution_count": null,
   "id": "c2372cdf",
   "metadata": {},
   "outputs": [],
   "source": []
  }
 ],
 "metadata": {
  "kernelspec": {
   "display_name": "Python 3 (ipykernel)",
   "language": "python",
   "name": "python3"
  },
  "language_info": {
   "codemirror_mode": {
    "name": "ipython",
    "version": 3
   },
   "file_extension": ".py",
   "mimetype": "text/x-python",
   "name": "python",
   "nbconvert_exporter": "python",
   "pygments_lexer": "ipython3",
   "version": "3.9.13"
  }
 },
 "nbformat": 4,
 "nbformat_minor": 5
}
