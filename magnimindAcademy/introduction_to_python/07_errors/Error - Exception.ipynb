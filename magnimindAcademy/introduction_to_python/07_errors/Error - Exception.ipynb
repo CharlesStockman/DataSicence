{
 "cells": [
  {
   "cell_type": "markdown",
   "id": "3ed9eab6",
   "metadata": {},
   "source": [
    "## Exercise 1\n",
    "Let us define a division operation inside a function (using def) but to get an error, define the denominator as 0. So, type except statement properly."
   ]
  },
  {
   "cell_type": "code",
   "execution_count": 5,
   "id": "57fd6de2",
   "metadata": {
    "ExecuteTime": {
     "end_time": "2023-02-06T15:50:46.760409Z",
     "start_time": "2023-02-06T15:50:46.756718Z"
    }
   },
   "outputs": [
    {
     "name": "stdout",
     "output_type": "stream",
     "text": [
      "We have successfully thrown an ZeroDivisionError\n"
     ]
    }
   ],
   "source": [
    "def operation(denominator=0):\n",
    "    return 3 / denominator\n",
    "\n",
    "try:\n",
    "    operation()\n",
    "except ZeroDivisionError:\n",
    "    print(\"We have successfully thrown an ZeroDivisionError\")"
   ]
  },
  {
   "cell_type": "markdown",
   "id": "aa26d458",
   "metadata": {},
   "source": [
    "## Exercise 2\n",
    " It is possible to get multiple errors after the execution of one try block. So, please define an error-exception issue with NameError."
   ]
  },
  {
   "cell_type": "code",
   "execution_count": 6,
   "id": "31786bdc",
   "metadata": {
    "ExecuteTime": {
     "end_time": "2023-02-06T16:12:58.735559Z",
     "start_time": "2023-02-06T16:12:58.730775Z"
    }
   },
   "outputs": [
    {
     "name": "stdout",
     "output_type": "stream",
     "text": [
      "Threw NameError excpeition and it is curretnly being fixed.\n",
      "Threw ZeroDivsionError and it is currently being fixed\n",
      "There are finally no exceptions and the answer is  1.0\n"
     ]
    }
   ],
   "source": [
    "import math\n",
    "\n",
    "# For rerunning this at the beginning of the test the varible number should not exit so an exception will thrown.\n",
    "if 'number' in locals():\n",
    "    del number\n",
    "\n",
    "denominator = 0\n",
    "for counter in range(0,3):\n",
    "    try:\n",
    "        input = number / denominator\n",
    "        math.sqrt(number)\n",
    "        print(\"There are finally no exceptions and the answer is \", input)\n",
    "    except NameError:\n",
    "        print(\"Threw NameError and its currently being fixed.\")\n",
    "        number = 1\n",
    "    except ZeroDivisionError:\n",
    "        print(\"Threw ZeroDivisionError and it is currently being fixed\")\n",
    "        denominator = 1"
   ]
  },
  {
   "cell_type": "markdown",
   "id": "7541b9ab",
   "metadata": {},
   "source": [
    "## Exercise 3\n",
    "Please define a function and with this function, generate a ValueError exception simply by entering a string instead of numerical value."
   ]
  },
  {
   "cell_type": "code",
   "execution_count": 7,
   "id": "8cfec1ce",
   "metadata": {
    "ExecuteTime": {
     "end_time": "2023-02-06T16:16:41.284373Z",
     "start_time": "2023-02-06T16:16:41.281529Z"
    }
   },
   "outputs": [],
   "source": [
    "def wrong_input(number:int) -> bool:\n",
    "    value = int(number)\n",
    "    return True"
   ]
  },
  {
   "cell_type": "code",
   "execution_count": 8,
   "id": "5501a851",
   "metadata": {
    "ExecuteTime": {
     "end_time": "2023-02-06T16:16:42.153618Z",
     "start_time": "2023-02-06T16:16:42.129131Z"
    }
   },
   "outputs": [
    {
     "ename": "ValueError",
     "evalue": "invalid literal for int() with base 10: 'aaa'",
     "output_type": "error",
     "traceback": [
      "\u001B[0;31m---------------------------------------------------------------------------\u001B[0m",
      "\u001B[0;31mValueError\u001B[0m                                Traceback (most recent call last)",
      "Cell \u001B[0;32mIn[8], line 1\u001B[0m\n\u001B[0;32m----> 1\u001B[0m \u001B[43mwrong_input\u001B[49m\u001B[43m(\u001B[49m\u001B[38;5;124;43m\"\u001B[39;49m\u001B[38;5;124;43maaa\u001B[39;49m\u001B[38;5;124;43m\"\u001B[39;49m\u001B[43m)\u001B[49m\n",
      "Cell \u001B[0;32mIn[7], line 2\u001B[0m, in \u001B[0;36mwrong_input\u001B[0;34m(number)\u001B[0m\n\u001B[1;32m      1\u001B[0m \u001B[38;5;28;01mdef\u001B[39;00m \u001B[38;5;21mwrong_input\u001B[39m(number:\u001B[38;5;28mint\u001B[39m) \u001B[38;5;241m-\u001B[39m\u001B[38;5;241m>\u001B[39m \u001B[38;5;28mbool\u001B[39m:\n\u001B[0;32m----> 2\u001B[0m     value \u001B[38;5;241m=\u001B[39m \u001B[38;5;28;43mint\u001B[39;49m\u001B[43m(\u001B[49m\u001B[43mnumber\u001B[49m\u001B[43m)\u001B[49m\n\u001B[1;32m      3\u001B[0m     \u001B[38;5;28;01mreturn\u001B[39;00m \u001B[38;5;28;01mTrue\u001B[39;00m\n",
      "\u001B[0;31mValueError\u001B[0m: invalid literal for int() with base 10: 'aaa'"
     ]
    }
   ],
   "source": [
    "wrong_input(\"aaa\")"
   ]
  },
  {
   "cell_type": "markdown",
   "id": "d414d8b9",
   "metadata": {
    "ExecuteTime": {
     "end_time": "2023-02-06T16:17:18.161887Z",
     "start_time": "2023-02-06T16:17:18.159346Z"
    }
   },
   "source": [
    "## Exercise 4\n",
    "Write a function called circumference that takes the diameter of a circle as input and produces the circumference of the circle. Your function should use try...except to check for a type error in the event a string is passed."
   ]
  },
  {
   "cell_type": "code",
   "execution_count": null,
   "id": "404fa1df",
   "metadata": {
    "ExecuteTime": {
     "end_time": "2023-02-06T16:20:43.642199Z",
     "start_time": "2023-02-06T16:20:43.639123Z"
    }
   },
   "outputs": [],
   "source": [
    "import math\n",
    "def circumference(diameter_as_string:str) -> float:\n",
    "    radius = int(diameter_as_string) / 2\n",
    "    return 2 * math.pi * radius"
   ]
  },
  {
   "cell_type": "code",
   "execution_count": null,
   "id": "bb14dd72",
   "metadata": {
    "ExecuteTime": {
     "end_time": "2023-02-06T16:20:44.330303Z",
     "start_time": "2023-02-06T16:20:44.325977Z"
    }
   },
   "outputs": [],
   "source": [
    "circumference(\"5\")"
   ]
  },
  {
   "cell_type": "code",
   "execution_count": null,
   "id": "1d4cdf26",
   "metadata": {
    "ExecuteTime": {
     "end_time": "2023-02-06T16:20:52.590253Z",
     "start_time": "2023-02-06T16:20:52.565870Z"
    },
    "pycharm": {
     "name": "#%%\n"
    }
   },
   "outputs": [],
   "source": [
    "circumference(\"aaa\")"
   ]
  }
 ],
 "metadata": {
  "kernelspec": {
   "display_name": "Python 3 (ipykernel)",
   "language": "python",
   "name": "python3"
  },
  "language_info": {
   "codemirror_mode": {
    "name": "ipython",
    "version": 3
   },
   "file_extension": ".py",
   "mimetype": "text/x-python",
   "name": "python",
   "nbconvert_exporter": "python",
   "pygments_lexer": "ipython3",
   "version": "3.9.13"
  }
 },
 "nbformat": 4,
 "nbformat_minor": 5
}