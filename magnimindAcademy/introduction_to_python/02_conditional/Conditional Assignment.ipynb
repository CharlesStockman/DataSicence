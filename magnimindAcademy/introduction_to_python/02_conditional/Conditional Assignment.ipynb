{
 "cells": [
  {
   "cell_type": "markdown",
   "id": "04ed45fa",
   "metadata": {},
   "source": [
    "# Conditional Assignment"
   ]
  },
  {
   "cell_type": "markdown",
   "id": "38783912",
   "metadata": {
    "ExecuteTime": {
     "end_time": "2023-02-02T17:59:13.238515Z",
     "start_time": "2023-02-02T17:59:13.233279Z"
    }
   },
   "source": [
    "## Exercise 1\n",
    "* Ask the user to enter a number between 10 and 20 (inclusive). If they enter a number within this range, display the message “Thank you”, otherwise display the message “Incorrect answer”."
   ]
  },
  {
   "cell_type": "code",
   "execution_count": 18,
   "id": "742dfed4",
   "metadata": {
    "ExecuteTime": {
     "end_time": "2023-02-02T18:19:42.717510Z",
     "start_time": "2023-02-02T18:19:40.603634Z"
    }
   },
   "outputs": [
    {
     "name": "stdout",
     "output_type": "stream",
     "text": [
      "Please enter an number between 10 and 20 inclusive: 5\n",
      "Incorrect Answer\n"
     ]
    }
   ],
   "source": [
    "## Exercise 1\n",
    "number_as_str = input(\"Please enter an number between 10 and 20 inclusive: \")\n",
    "if ( 10 <= int(number_as_str) < 21 ):\n",
    "    print(\"Thank you \")\n",
    "else:\n",
    "    print(\"Incorrect Answer\")"
   ]
  },
  {
   "cell_type": "markdown",
   "id": "dab6e0dd",
   "metadata": {
    "ExecuteTime": {
     "end_time": "2023-02-02T18:00:09.204290Z",
     "start_time": "2023-02-02T18:00:09.198895Z"
    }
   },
   "source": [
    "## Exercise 2\n",
    "* In this exercise, you will create a program that reads a letter of the alphabet from the user. According to the answer:\n",
    "* If the user enters a, e, i, o, u, then your program should display a message indicating that the entered letter is a vowel.\n",
    "* If the user enters y, then your program should display a message indicating that y is sometimes a vowel and sometimes a consonant.\n",
    "*Otherwise, your program should display a message indicating that the letter is a consonant."
   ]
  },
  {
   "cell_type": "code",
   "execution_count": 19,
   "id": "0609f2fc",
   "metadata": {
    "ExecuteTime": {
     "end_time": "2023-02-02T18:19:49.356570Z",
     "start_time": "2023-02-02T18:19:44.875112Z"
    }
   },
   "outputs": [
    {
     "name": "stdout",
     "output_type": "stream",
     "text": [
      "Please enter a letter of the alphabet: a\n",
      "The letter entered is a vowel\n"
     ]
    }
   ],
   "source": [
    "## Exercise 2\n",
    "import re\n",
    "\n",
    "def getInput():\n",
    "    ''' Gets the input from the user and if is not a single letter throws the ValueException \n",
    "    '''\n",
    "    letter = input(\"Please enter a letter of the alphabet: \")\n",
    "    letter = letter.casefold()\n",
    "    \n",
    "    pattern = re.compile(\"[a-z]\")\n",
    "    if ( pattern.fullmatch(letter) == None ):\n",
    "        raise ValueError(\"The input must be one letter, but the user provided \\\"\" + letter + \"\\\"\")\n",
    "        \n",
    "    return letter\n",
    "\n",
    "letter = getInput()\n",
    "if letter in ['a','e','i','o','u']:\n",
    "    print(\"The letter entered is a vowel\")\n",
    "elif letter == 'y':\n",
    "    print(\"Y sometimes is a vowel and sometimes a consonant\")\n",
    "else:\n",
    "    print(\"The letter is a consonant\")"
   ]
  }
 ],
 "metadata": {
  "kernelspec": {
   "display_name": "Python 3 (ipykernel)",
   "language": "python",
   "name": "python3"
  },
  "language_info": {
   "codemirror_mode": {
    "name": "ipython",
    "version": 3
   },
   "file_extension": ".py",
   "mimetype": "text/x-python",
   "name": "python",
   "nbconvert_exporter": "python",
   "pygments_lexer": "ipython3",
   "version": "3.9.13"
  }
 },
 "nbformat": 4,
 "nbformat_minor": 5
}
