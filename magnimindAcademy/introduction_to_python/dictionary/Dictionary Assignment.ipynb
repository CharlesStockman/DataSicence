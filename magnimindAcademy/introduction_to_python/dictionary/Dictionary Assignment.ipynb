{
 "cells": [
  {
   "cell_type": "markdown",
   "id": "2b99af01",
   "metadata": {
    "ExecuteTime": {
     "end_time": "2023-02-01T16:20:14.787183Z",
     "start_time": "2023-02-01T16:20:14.781058Z"
    }
   },
   "source": [
    "# Dictionary Assignment"
   ]
  },
  {
   "cell_type": "markdown",
   "id": "d2d9acc6",
   "metadata": {
    "ExecuteTime": {
     "end_time": "2023-02-01T16:20:15.432563Z",
     "start_time": "2023-02-01T16:20:15.423486Z"
    }
   },
   "source": [
    "## Question 1\n",
    "Create a dictionary with 7 days. Ask the user to choose 2 different days by listing the (e.g. \"12\" for \n",
    "Monday and Tuesday). Delete the user-selected days from the dictionary and print the remaining 5 days on the screen."
   ]
  },
  {
   "cell_type": "code",
   "execution_count": 50,
   "id": "abf240c2",
   "metadata": {
    "ExecuteTime": {
     "end_time": "2023-02-02T17:50:00.235218Z",
     "start_time": "2023-02-02T17:49:55.520032Z"
    }
   },
   "outputs": [
    {
     "name": "stdout",
     "output_type": "stream",
     "text": [
      "Please enter two days with Monday = 1 -- 56\n"
     ]
    }
   ],
   "source": [
    "# Get the days from the user and put them in separate variables\n",
    "input_days_as_string = input(\"Please enter two days with Monday = 1 -- \")\n",
    "first_day_key, second_day_key = input_days_as_string"
   ]
  },
  {
   "cell_type": "code",
   "execution_count": 51,
   "id": "c109d8c9",
   "metadata": {
    "ExecuteTime": {
     "end_time": "2023-02-02T17:50:00.247833Z",
     "start_time": "2023-02-02T17:50:00.239295Z"
    }
   },
   "outputs": [
    {
     "data": {
      "text/plain": [
       "{'1': 'Monday',\n",
       " '2': 'Tuesday',\n",
       " '3': 'Wednesday',\n",
       " '4': 'Thursday',\n",
       " '5': 'Friday',\n",
       " '6': 'Saturday',\n",
       " '7': 'Sunday'}"
      ]
     },
     "execution_count": 51,
     "metadata": {},
     "output_type": "execute_result"
    }
   ],
   "source": [
    "# Create the Dictionary\n",
    "#    key = The number of a day where Monday = 1\n",
    "#    values = The day of week as a name\n",
    "#\n",
    "keys = \"1\", \"2\", \"3\", \"4\", \"5\", \"6\", \"7\"\n",
    "values = \"Monday\", \"Tuesday\", \"Wednesday\", \"Thursday\", \"Friday\", \"Saturday\", \"Sunday\"\n",
    "day_num_to_name = dict(zip(keys,values))\n",
    "day_num_to_name"
   ]
  },
  {
   "cell_type": "code",
   "execution_count": 52,
   "id": "93b0900c",
   "metadata": {
    "ExecuteTime": {
     "end_time": "2023-02-02T17:50:00.253254Z",
     "start_time": "2023-02-02T17:50:00.249953Z"
    }
   },
   "outputs": [],
   "source": [
    "# Remove the two days chosen by the user\n",
    "del day_num_to_name[first_day_key]\n",
    "del day_num_to_name[second_day_key]"
   ]
  },
  {
   "cell_type": "code",
   "execution_count": 53,
   "id": "f6220621",
   "metadata": {
    "ExecuteTime": {
     "end_time": "2023-02-02T17:50:00.263911Z",
     "start_time": "2023-02-02T17:50:00.259707Z"
    }
   },
   "outputs": [
    {
     "name": "stdout",
     "output_type": "stream",
     "text": [
      "The five days left are  dict_values(['Monday', 'Tuesday', 'Wednesday', 'Thursday', 'Sunday'])\n"
     ]
    }
   ],
   "source": [
    "print(\"The five days left are \", str(day_num_to_name.values()))"
   ]
  },
  {
   "cell_type": "markdown",
   "id": "52e560fc",
   "metadata": {
    "ExecuteTime": {
     "end_time": "2023-02-01T16:39:18.097227Z",
     "start_time": "2023-02-01T16:39:18.094272Z"
    }
   },
   "source": [
    "## Question 2\n",
    "Create a dictionary with the following personnel. Use names as keys.\n",
    "(Michael (age: 20)\n",
    "(Linda (age: 30)\n",
    "\n",
    "Know that I would need to have extra data put into list from the question below I create a list that can hold multiple items.  The first item is tuple so that I could associate the label with actaul so the developer would have a better understanding of the datastructure"
   ]
  },
  {
   "cell_type": "code",
   "execution_count": 54,
   "id": "3ae00f12",
   "metadata": {
    "ExecuteTime": {
     "end_time": "2023-02-02T17:50:00.272126Z",
     "start_time": "2023-02-02T17:50:00.265962Z"
    }
   },
   "outputs": [
    {
     "data": {
      "text/plain": [
       "{'Michael': [('Age', 20)], 'Linda': [('Age', 30)]}"
      ]
     },
     "execution_count": 54,
     "metadata": {},
     "output_type": "execute_result"
    }
   ],
   "source": [
    "families = {}\n",
    "families[\"Michael\"] = [ (\"Age\",20) ]\n",
    "families[\"Linda\"] = [ (\"Age\",30) ]\n",
    "families"
   ]
  },
  {
   "cell_type": "markdown",
   "id": "e774a2fd",
   "metadata": {},
   "source": [
    "## Question 3\n",
    "Add child information to Michael and Linda. Michael has two children (Karen (age : 12, female) and Greg (age : 7, male) and Linda has one child (Susan (age: 6, female))"
   ]
  },
  {
   "cell_type": "code",
   "execution_count": 55,
   "id": "47a7e925",
   "metadata": {
    "ExecuteTime": {
     "end_time": "2023-02-02T17:50:00.282465Z",
     "start_time": "2023-02-02T17:50:00.274783Z"
    }
   },
   "outputs": [
    {
     "data": {
      "text/plain": [
       "{'Michael': [('Age', 20),\n",
       "  {'Karen': {'age': 12, 'gender': 'female'},\n",
       "   'Greg': {'age': 7, 'gender': 'male'}}],\n",
       " 'Linda': [('Age', 30), {'Linda': {'age': 6, 'gender': 'female'}}]}"
      ]
     },
     "execution_count": 55,
     "metadata": {},
     "output_type": "execute_result"
    }
   ],
   "source": [
    "families[\"Michael\"].append( { \"Karen\" : {\"age\":12, \"gender\":\"female\" }, \"Greg\": {\"age\":7, \"gender\":\"male\"} } )\n",
    "families[\"Linda\"].append( { \"Linda\": { \"age\":6, 'gender': 'female'}})\n",
    "families"
   ]
  },
  {
   "cell_type": "markdown",
   "id": "a3d47818",
   "metadata": {
    "ExecuteTime": {
     "end_time": "2023-02-01T17:00:37.721501Z",
     "start_time": "2023-02-01T17:00:37.718630Z"
    }
   },
   "source": [
    "## Question 4\n",
    "Print the names of Michael's children in a list."
   ]
  },
  {
   "cell_type": "code",
   "execution_count": 57,
   "id": "f90b3ad4",
   "metadata": {
    "ExecuteTime": {
     "end_time": "2023-02-02T17:50:49.627961Z",
     "start_time": "2023-02-02T17:50:49.624308Z"
    }
   },
   "outputs": [
    {
     "name": "stdout",
     "output_type": "stream",
     "text": [
      "The name of Michael's children are : ['Karen', 'Greg']\n"
     ]
    }
   ],
   "source": [
    "print(\"The name of Michael's children are :\", list(families['Michael'][1].keys()))"
   ]
  }
 ],
 "metadata": {
  "kernelspec": {
   "display_name": "Python 3 (ipykernel)",
   "language": "python",
   "name": "python3"
  },
  "language_info": {
   "codemirror_mode": {
    "name": "ipython",
    "version": 3
   },
   "file_extension": ".py",
   "mimetype": "text/x-python",
   "name": "python",
   "nbconvert_exporter": "python",
   "pygments_lexer": "ipython3",
   "version": "3.9.13"
  }
 },
 "nbformat": 4,
 "nbformat_minor": 5
}
