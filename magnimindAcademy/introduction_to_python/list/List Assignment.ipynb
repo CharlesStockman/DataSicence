{
 "cells": [
  {
   "cell_type": "markdown",
   "id": "75b3a383",
   "metadata": {},
   "source": [
    "# List Assignment "
   ]
  },
  {
   "cell_type": "markdown",
   "id": "182eea9c",
   "metadata": {},
   "source": [
    "## Question 1:\n",
    "\n",
    "Write a code to compute the sum of the two lowest numbers and the two highest numbers in the following lis"
   ]
  },
  {
   "cell_type": "code",
   "execution_count": 25,
   "id": "fff14e3e",
   "metadata": {
    "ExecuteTime": {
     "end_time": "2023-01-24T19:41:45.884661Z",
     "start_time": "2023-01-24T19:41:45.880227Z"
    }
   },
   "outputs": [
    {
     "name": "stdout",
     "output_type": "stream",
     "text": [
      "The two lowest numbers are: [2, 12] and the highest numbers are [67, 76]\n"
     ]
    }
   ],
   "source": [
    "my_list = [34, 56, 76, 45, 2, 12, 67, 98, 37, 54, 66]\n",
    "my_list.sort()\n",
    "print(f\"The two lowest numbers are: {my_list[0:2]} and the highest numbers are {my_list[-3:-1]}\");"
   ]
  },
  {
   "cell_type": "markdown",
   "id": "d7939aba",
   "metadata": {},
   "source": [
    "## Question 2\n",
    "The following two lists contain student names and scores. Write a code that gets the name from the user and prints the score of that student."
   ]
  },
  {
   "cell_type": "code",
   "execution_count": 26,
   "id": "3b42b3ab",
   "metadata": {
    "ExecuteTime": {
     "end_time": "2023-01-24T19:41:50.025881Z",
     "start_time": "2023-01-24T19:41:47.272641Z"
    }
   },
   "outputs": [
    {
     "name": "stdout",
     "output_type": "stream",
     "text": [
      "Please enter the student's name John\n"
     ]
    }
   ],
   "source": [
    "# Given the names of the students and the \n",
    "names = [\"David\", \"Michael\", \"John\", \"James\", \"Greg\", \"Mark\", \"William\", \"Richard\", \"Thomas\", \"Steven\", \\\n",
    "\"Mary\", \"Susan\", \"Maria\", \"Karen\", \"Lisa\", \"Linda\", \"Donna\", \"Patricia\", \"Debra\", \"Eric\"]\n",
    "\n",
    "scores = [99, 87, 78, 86, 68, 94, 76, 97, 56, 98, 76, 87, 79, 90, 73, 93, 82, 69, 97, 98]\n",
    "\n",
    "student_name = input(\"Please enter the student's name \")\n",
    "student_name = student_name.strip()"
   ]
  },
  {
   "cell_type": "code",
   "execution_count": 44,
   "id": "ba140ec5",
   "metadata": {
    "ExecuteTime": {
     "end_time": "2023-01-25T15:34:25.485087Z",
     "start_time": "2023-01-25T15:34:25.481160Z"
    }
   },
   "outputs": [
    {
     "name": "stdout",
     "output_type": "stream",
     "text": [
      "The score is 78\n"
     ]
    }
   ],
   "source": [
    "# Find the index of the student name and use the index to get the socre from the scores list\n",
    "try:\n",
    "    index = names.index(student_name)\n",
    "    print(\"The score is \", scores[index], sep=\"\")\n",
    "except ValueError:\n",
    "    print(\"In the names list could not find the user input \", student_name)"
   ]
  },
  {
   "cell_type": "code",
   "execution_count": null,
   "id": "6e9eea06",
   "metadata": {},
   "outputs": [],
   "source": [
    "# Find the index of the student name and use the index to get the score from the scores list"
   ]
  },
  {
   "cell_type": "markdown",
   "id": "89ca8e52",
   "metadata": {},
   "source": [
    "## Question 3\n",
    "By using the two lists above, what is the maximum score and how many students got that score"
   ]
  },
  {
   "cell_type": "code",
   "execution_count": 34,
   "id": "1fe33c17",
   "metadata": {
    "ExecuteTime": {
     "end_time": "2023-01-25T15:04:13.071643Z",
     "start_time": "2023-01-25T15:04:13.067248Z"
    }
   },
   "outputs": [
    {
     "name": "stdout",
     "output_type": "stream",
     "text": [
      "Total students to get max score is  1\n"
     ]
    }
   ],
   "source": [
    "scores = [99, 87, 78, 86, 68, 94, 76, 97, 56, 98, 76, 87, 79, 90, 73, 93, 82, 69, 97, 98]\n",
    "total_students_to_get_score = scores.count(max(scores))\n",
    "print(\"Total students to get max score is \", total_students_to_get_score)"
   ]
  }
 ],
 "metadata": {
  "kernelspec": {
   "display_name": "Python 3 (ipykernel)",
   "language": "python",
   "name": "python3"
  },
  "language_info": {
   "codemirror_mode": {
    "name": "ipython",
    "version": 3
   },
   "file_extension": ".py",
   "mimetype": "text/x-python",
   "name": "python",
   "nbconvert_exporter": "python",
   "pygments_lexer": "ipython3",
   "version": "3.9.13"
  }
 },
 "nbformat": 4,
 "nbformat_minor": 5
}
