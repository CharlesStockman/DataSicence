{
 "cells": [
  {
   "cell_type": "markdown",
   "id": "1715a8c3",
   "metadata": {},
   "source": [
    "# Numpy Assignment\n",
    "\n",
    "1- Create three lists representing house features, each list containing ten values. The first one for the house's size in square meters, the second one for rooms and last for price. Then, create an array combining these lists.\n",
    "\n",
    "2- Transpose the array you have created, so that every line can represent features of one house.\n",
    "\n",
    "3- Display the shape of the array and explain what it means.\n",
    "For the following assignment, you are going to use Earthquakes dataset.\n",
    "\n",
    "4- Load the Earthquakes dataset. Export the dataset to an array as you covered in the previous lesson.\n",
    "\n",
    "5- Slice first 20 rows and column numbers 3, 5, 6, 7, 12. Then, assign the array you sliced to a variable.\n",
    "\n",
    "6- Display the row numbers where last values are equal to 4.5 or higher.\n",
    "\n",
    "7- Assign 1 to first row.\n",
    "\n",
    "8- Save the final state of the array to disk. You are going to use this in the next assignment.\n",
    "\n",
    "9- Load the array you saved in the previous lesson from the disk.\n",
    "\n",
    "10- Display the mean and the standard deviation for each column.\n",
    "\n",
    "11- Subtract 1, 25, 25, 10, 4 from columns in order. (Remember it can be dobe in one line of code.)\n",
    "\n",
    "12- Multiply each element by 2. (Remember it can be done in one line of code.)"
   ]
  },
  {
   "cell_type": "code",
   "execution_count": 561,
   "id": "2f87f2ae",
   "metadata": {
    "ExecuteTime": {
     "end_time": "2023-02-22T01:53:10.045509Z",
     "start_time": "2023-02-22T01:53:10.042187Z"
    }
   },
   "outputs": [],
   "source": [
    "import numpy as np"
   ]
  },
  {
   "cell_type": "markdown",
   "id": "76c27bf8",
   "metadata": {},
   "source": [
    "## Create three lists representing house features, \n",
    "\n",
    "Each list containing ten values. The first one for the house's size in square meters, the second one for rooms and last for price. Then, create an array combining these lists."
   ]
  },
  {
   "cell_type": "code",
   "execution_count": 562,
   "id": "2d2f50c4",
   "metadata": {
    "ExecuteTime": {
     "end_time": "2023-02-22T01:53:10.055562Z",
     "start_time": "2023-02-22T01:53:10.048461Z"
    }
   },
   "outputs": [
    {
     "name": "stdout",
     "output_type": "stream",
     "text": [
      "length of square foot_list 10\n",
      "length of rooms_list 10\n",
      "length of price_list 10\n",
      "shape of data structure  (3, 10)\n",
      "Array =  [[  1100   1200   1300   1400   1500   1600   1700   1800   1900   2000]\n",
      " [     3      4      5      6      7      8      9     10     11     12]\n",
      " [ 20000  40000  60000  80000 100000 120000 140000 160000 180000 200000]]\n"
     ]
    }
   ],
   "source": [
    "square_foot_list = [1100, 1200, 1300, 1400, 1500, 1600, 1700, 1800, 1900, 2000]\n",
    "rooms_list = [i for i in np.arange(3,13)]\n",
    "price_list = [20000 * i for i in np.arange(1,11)]\n",
    "raw_house_data = np.array(\\\n",
    "            [square_foot_list,rooms_list,price_list])\n",
    "\n",
    "print(\"length of square foot_list\", len(square_foot_list))\n",
    "print(\"length of rooms_list\", len(rooms_list))\n",
    "print(\"length of price_list\", len(price_list))\n",
    "print(\"shape of data structure \", raw_house_data.shape)\n",
    "print(\"Array = \", raw_house_data)"
   ]
  },
  {
   "cell_type": "markdown",
   "id": "24e9647c",
   "metadata": {},
   "source": [
    "## Transpose the array you have created\n",
    "\n",
    "So that every line can represent features of one house.\n"
   ]
  },
  {
   "cell_type": "code",
   "execution_count": 563,
   "id": "14c199bf",
   "metadata": {
    "ExecuteTime": {
     "end_time": "2023-02-22T01:53:10.064790Z",
     "start_time": "2023-02-22T01:53:10.060263Z"
    }
   },
   "outputs": [
    {
     "name": "stdout",
     "output_type": "stream",
     "text": [
      "shape =  (10, 3)\n",
      "array tranposed is  [[  1100      3  20000]\n",
      " [  1200      4  40000]\n",
      " [  1300      5  60000]\n",
      " [  1400      6  80000]\n",
      " [  1500      7 100000]\n",
      " [  1600      8 120000]\n",
      " [  1700      9 140000]\n",
      " [  1800     10 160000]\n",
      " [  1900     11 180000]\n",
      " [  2000     12 200000]]\n"
     ]
    }
   ],
   "source": [
    "raw_house_data = raw_house_data.copy().T\n",
    "print(\"shape = \", raw_house_data.shape)\n",
    "print(\"array tranposed is \", raw_house_data)\n"
   ]
  },
  {
   "cell_type": "markdown",
   "id": "5fe1ede9",
   "metadata": {
    "ExecuteTime": {
     "end_time": "2023-02-19T15:38:14.308339Z",
     "start_time": "2023-02-19T15:38:14.305503Z"
    }
   },
   "source": [
    "## Display shape of array and explain what it means."
   ]
  },
  {
   "cell_type": "code",
   "execution_count": 564,
   "id": "eb36dd2f",
   "metadata": {
    "ExecuteTime": {
     "end_time": "2023-02-22T01:53:10.071920Z",
     "start_time": "2023-02-22T01:53:10.068112Z"
    }
   },
   "outputs": [
    {
     "name": "stdout",
     "output_type": "stream",
     "text": [
      "Shape of house data is  (10, 3) \n",
      "\n",
      "The Array has been changed into a matrix that we can split apart.\n",
      "It can be split into features ( size, root ) and dependent (price). \n",
      "\n"
     ]
    }
   ],
   "source": [
    "print(\"Shape of house data is \", house_data.shape, \"\\n\")\n",
    "explamation  = \"\"\"The Array has been changed into a matrix that we can split apart.\n",
    "It can be split into features ( size, root ) and dependent (price). \n",
    "\"\"\"\n",
    "print(explamation)"
   ]
  },
  {
   "cell_type": "markdown",
   "id": "7bf783ec",
   "metadata": {},
   "source": [
    "## Load the Earthquakes dataset. \n",
    "* Export the dataset to an array as you covered in the previous \n",
    "lesson.\n",
    "*Load the Earthquakes dataset. \n",
    "*Export the dataset to an array as you covered in the previous lesson.\n",
    "\n",
    "It was 100 time easy to use pandas and convert into a numpy array."
   ]
  },
  {
   "cell_type": "code",
   "execution_count": 565,
   "id": "6f82c5d4",
   "metadata": {
    "ExecuteTime": {
     "end_time": "2023-02-22T01:53:10.098146Z",
     "start_time": "2023-02-22T01:53:10.074089Z"
    }
   },
   "outputs": [
    {
     "data": {
      "text/plain": [
       "(5304, 12)"
      ]
     },
     "execution_count": 565,
     "metadata": {},
     "output_type": "execute_result"
    }
   ],
   "source": [
    "import pandas as pd\n",
    "pd_csv_data = pd.read_csv(\"earthquakes1970-2014.csv\")\n",
    "np_csv_data = pd_csv_data.to_numpy()\n",
    "np_csv_data.shape"
   ]
  },
  {
   "cell_type": "code",
   "execution_count": 566,
   "id": "6248409d",
   "metadata": {
    "ExecuteTime": {
     "end_time": "2023-02-22T01:53:10.136204Z",
     "start_time": "2023-02-22T01:53:10.101446Z"
    }
   },
   "outputs": [
    {
     "data": {
      "text/html": [
       "<div>\n",
       "<style scoped>\n",
       "    .dataframe tbody tr th:only-of-type {\n",
       "        vertical-align: middle;\n",
       "    }\n",
       "\n",
       "    .dataframe tbody tr th {\n",
       "        vertical-align: top;\n",
       "    }\n",
       "\n",
       "    .dataframe thead th {\n",
       "        text-align: right;\n",
       "    }\n",
       "</style>\n",
       "<table border=\"1\" class=\"dataframe\">\n",
       "  <thead>\n",
       "    <tr style=\"text-align: right;\">\n",
       "      <th></th>\n",
       "      <th>DateTime</th>\n",
       "      <th>Latitude</th>\n",
       "      <th>Longitude</th>\n",
       "      <th>Depth</th>\n",
       "      <th>Magnitude</th>\n",
       "      <th>MagType</th>\n",
       "      <th>NbStations</th>\n",
       "      <th>Gap</th>\n",
       "      <th>Distance</th>\n",
       "      <th>RMS</th>\n",
       "      <th>Source</th>\n",
       "      <th>EventID</th>\n",
       "    </tr>\n",
       "  </thead>\n",
       "  <tbody>\n",
       "    <tr>\n",
       "      <th>0</th>\n",
       "      <td>1970/01/04 17:00:40.20</td>\n",
       "      <td>24.1390</td>\n",
       "      <td>102.5030</td>\n",
       "      <td>31.0</td>\n",
       "      <td>7.5</td>\n",
       "      <td>Ms</td>\n",
       "      <td>90.0</td>\n",
       "      <td>NaN</td>\n",
       "      <td>NaN</td>\n",
       "      <td>0.0</td>\n",
       "      <td>NEI</td>\n",
       "      <td>1.970010e+09</td>\n",
       "    </tr>\n",
       "    <tr>\n",
       "      <th>1</th>\n",
       "      <td>1970/01/06 05:35:51.80</td>\n",
       "      <td>-9.6280</td>\n",
       "      <td>151.4580</td>\n",
       "      <td>8.0</td>\n",
       "      <td>6.2</td>\n",
       "      <td>Ms</td>\n",
       "      <td>85.0</td>\n",
       "      <td>NaN</td>\n",
       "      <td>NaN</td>\n",
       "      <td>0.0</td>\n",
       "      <td>NEI</td>\n",
       "      <td>1.970011e+09</td>\n",
       "    </tr>\n",
       "    <tr>\n",
       "      <th>2</th>\n",
       "      <td>1970/01/08 17:12:39.10</td>\n",
       "      <td>-34.7410</td>\n",
       "      <td>178.5680</td>\n",
       "      <td>179.0</td>\n",
       "      <td>6.1</td>\n",
       "      <td>Mb</td>\n",
       "      <td>59.0</td>\n",
       "      <td>NaN</td>\n",
       "      <td>NaN</td>\n",
       "      <td>0.0</td>\n",
       "      <td>NEI</td>\n",
       "      <td>1.970011e+09</td>\n",
       "    </tr>\n",
       "    <tr>\n",
       "      <th>3</th>\n",
       "      <td>1970/01/10 12:07:08.60</td>\n",
       "      <td>6.8250</td>\n",
       "      <td>126.7370</td>\n",
       "      <td>73.0</td>\n",
       "      <td>6.1</td>\n",
       "      <td>Mb</td>\n",
       "      <td>91.0</td>\n",
       "      <td>NaN</td>\n",
       "      <td>NaN</td>\n",
       "      <td>0.0</td>\n",
       "      <td>NEI</td>\n",
       "      <td>1.970011e+09</td>\n",
       "    </tr>\n",
       "    <tr>\n",
       "      <th>4</th>\n",
       "      <td>1970/01/16 08:05:39.00</td>\n",
       "      <td>60.2800</td>\n",
       "      <td>-152.6600</td>\n",
       "      <td>85.0</td>\n",
       "      <td>6.0</td>\n",
       "      <td>ML</td>\n",
       "      <td>0.0</td>\n",
       "      <td>NaN</td>\n",
       "      <td>NaN</td>\n",
       "      <td>NaN</td>\n",
       "      <td>AK</td>\n",
       "      <td>NaN</td>\n",
       "    </tr>\n",
       "    <tr>\n",
       "      <th>5</th>\n",
       "      <td>1970/01/20 07:19:51.20</td>\n",
       "      <td>-25.8000</td>\n",
       "      <td>-177.3490</td>\n",
       "      <td>80.0</td>\n",
       "      <td>6.5</td>\n",
       "      <td>Mb</td>\n",
       "      <td>175.0</td>\n",
       "      <td>NaN</td>\n",
       "      <td>NaN</td>\n",
       "      <td>0.0</td>\n",
       "      <td>NEI</td>\n",
       "      <td>1.970012e+09</td>\n",
       "    </tr>\n",
       "    <tr>\n",
       "      <th>6</th>\n",
       "      <td>1970/01/20 17:33:05.40</td>\n",
       "      <td>42.5190</td>\n",
       "      <td>142.9660</td>\n",
       "      <td>46.0</td>\n",
       "      <td>6.4</td>\n",
       "      <td>Ms</td>\n",
       "      <td>199.0</td>\n",
       "      <td>NaN</td>\n",
       "      <td>NaN</td>\n",
       "      <td>0.0</td>\n",
       "      <td>NEI</td>\n",
       "      <td>1.970012e+09</td>\n",
       "    </tr>\n",
       "    <tr>\n",
       "      <th>7</th>\n",
       "      <td>1970/01/21 17:51:38.50</td>\n",
       "      <td>7.0170</td>\n",
       "      <td>-104.2980</td>\n",
       "      <td>33.0</td>\n",
       "      <td>6.6</td>\n",
       "      <td>Ms</td>\n",
       "      <td>140.0</td>\n",
       "      <td>NaN</td>\n",
       "      <td>NaN</td>\n",
       "      <td>0.0</td>\n",
       "      <td>NEI</td>\n",
       "      <td>1.970012e+09</td>\n",
       "    </tr>\n",
       "    <tr>\n",
       "      <th>8</th>\n",
       "      <td>1970/01/26 10:01:20.50</td>\n",
       "      <td>-12.5790</td>\n",
       "      <td>166.3700</td>\n",
       "      <td>50.0</td>\n",
       "      <td>6.4</td>\n",
       "      <td>Ms</td>\n",
       "      <td>91.0</td>\n",
       "      <td>NaN</td>\n",
       "      <td>NaN</td>\n",
       "      <td>0.0</td>\n",
       "      <td>NEI</td>\n",
       "      <td>1.970013e+09</td>\n",
       "    </tr>\n",
       "    <tr>\n",
       "      <th>9</th>\n",
       "      <td>1970/02/04 05:08:48.00</td>\n",
       "      <td>15.5320</td>\n",
       "      <td>-99.4840</td>\n",
       "      <td>21.0</td>\n",
       "      <td>6.5</td>\n",
       "      <td>Ms</td>\n",
       "      <td>100.0</td>\n",
       "      <td>NaN</td>\n",
       "      <td>NaN</td>\n",
       "      <td>0.0</td>\n",
       "      <td>NEI</td>\n",
       "      <td>1.970020e+09</td>\n",
       "    </tr>\n",
       "    <tr>\n",
       "      <th>10</th>\n",
       "      <td>1970/02/05 22:05:58.30</td>\n",
       "      <td>12.5980</td>\n",
       "      <td>122.1170</td>\n",
       "      <td>11.0</td>\n",
       "      <td>6.6</td>\n",
       "      <td>Ms</td>\n",
       "      <td>94.0</td>\n",
       "      <td>NaN</td>\n",
       "      <td>NaN</td>\n",
       "      <td>0.0</td>\n",
       "      <td>NEI</td>\n",
       "      <td>1.970021e+09</td>\n",
       "    </tr>\n",
       "    <tr>\n",
       "      <th>11</th>\n",
       "      <td>1970/02/06 22:10:41.60</td>\n",
       "      <td>23.0960</td>\n",
       "      <td>100.7750</td>\n",
       "      <td>33.0</td>\n",
       "      <td>6.1</td>\n",
       "      <td>Ms</td>\n",
       "      <td>57.0</td>\n",
       "      <td>NaN</td>\n",
       "      <td>NaN</td>\n",
       "      <td>0.0</td>\n",
       "      <td>NEI</td>\n",
       "      <td>1.970021e+09</td>\n",
       "    </tr>\n",
       "    <tr>\n",
       "      <th>12</th>\n",
       "      <td>1970/02/24 02:07:36.80</td>\n",
       "      <td>30.5760</td>\n",
       "      <td>103.0310</td>\n",
       "      <td>33.0</td>\n",
       "      <td>6.0</td>\n",
       "      <td>Ms</td>\n",
       "      <td>94.0</td>\n",
       "      <td>NaN</td>\n",
       "      <td>NaN</td>\n",
       "      <td>0.0</td>\n",
       "      <td>NEI</td>\n",
       "      <td>1.970022e+09</td>\n",
       "    </tr>\n",
       "    <tr>\n",
       "      <th>13</th>\n",
       "      <td>1970/02/27 07:07:56.50</td>\n",
       "      <td>50.1300</td>\n",
       "      <td>-179.5898</td>\n",
       "      <td>7.0</td>\n",
       "      <td>6.0</td>\n",
       "      <td>ML</td>\n",
       "      <td>0.0</td>\n",
       "      <td>NaN</td>\n",
       "      <td>NaN</td>\n",
       "      <td>NaN</td>\n",
       "      <td>AK</td>\n",
       "      <td>NaN</td>\n",
       "    </tr>\n",
       "    <tr>\n",
       "      <th>14</th>\n",
       "      <td>1970/02/28 10:52:31.10</td>\n",
       "      <td>52.5898</td>\n",
       "      <td>-175.0400</td>\n",
       "      <td>161.0</td>\n",
       "      <td>6.1</td>\n",
       "      <td>ML</td>\n",
       "      <td>0.0</td>\n",
       "      <td>NaN</td>\n",
       "      <td>NaN</td>\n",
       "      <td>NaN</td>\n",
       "      <td>AK</td>\n",
       "      <td>NaN</td>\n",
       "    </tr>\n",
       "    <tr>\n",
       "      <th>15</th>\n",
       "      <td>1970/03/04 03:30:35.40</td>\n",
       "      <td>12.1340</td>\n",
       "      <td>143.7070</td>\n",
       "      <td>33.0</td>\n",
       "      <td>6.2</td>\n",
       "      <td>Ms</td>\n",
       "      <td>82.0</td>\n",
       "      <td>NaN</td>\n",
       "      <td>NaN</td>\n",
       "      <td>0.0</td>\n",
       "      <td>NEI</td>\n",
       "      <td>1.970030e+09</td>\n",
       "    </tr>\n",
       "    <tr>\n",
       "      <th>16</th>\n",
       "      <td>1970/03/09 16:01:10.50</td>\n",
       "      <td>-19.0080</td>\n",
       "      <td>168.6030</td>\n",
       "      <td>41.0</td>\n",
       "      <td>6.5</td>\n",
       "      <td>Ms</td>\n",
       "      <td>61.0</td>\n",
       "      <td>NaN</td>\n",
       "      <td>NaN</td>\n",
       "      <td>0.0</td>\n",
       "      <td>NEI</td>\n",
       "      <td>1.970031e+09</td>\n",
       "    </tr>\n",
       "    <tr>\n",
       "      <th>17</th>\n",
       "      <td>1970/03/10 04:58:26.20</td>\n",
       "      <td>44.7980</td>\n",
       "      <td>148.8700</td>\n",
       "      <td>40.0</td>\n",
       "      <td>6.0</td>\n",
       "      <td>Mb</td>\n",
       "      <td>65.0</td>\n",
       "      <td>NaN</td>\n",
       "      <td>NaN</td>\n",
       "      <td>0.0</td>\n",
       "      <td>NEI</td>\n",
       "      <td>1.970031e+09</td>\n",
       "    </tr>\n",
       "    <tr>\n",
       "      <th>18</th>\n",
       "      <td>1970/03/11 22:38:32.40</td>\n",
       "      <td>57.3900</td>\n",
       "      <td>-153.9700</td>\n",
       "      <td>16.0</td>\n",
       "      <td>6.5</td>\n",
       "      <td>ML</td>\n",
       "      <td>0.0</td>\n",
       "      <td>NaN</td>\n",
       "      <td>NaN</td>\n",
       "      <td>NaN</td>\n",
       "      <td>AK</td>\n",
       "      <td>NaN</td>\n",
       "    </tr>\n",
       "    <tr>\n",
       "      <th>19</th>\n",
       "      <td>1970/03/15 12:39:17.80</td>\n",
       "      <td>-29.6530</td>\n",
       "      <td>-69.4990</td>\n",
       "      <td>119.0</td>\n",
       "      <td>6.0</td>\n",
       "      <td>Mb</td>\n",
       "      <td>118.0</td>\n",
       "      <td>NaN</td>\n",
       "      <td>NaN</td>\n",
       "      <td>0.0</td>\n",
       "      <td>NEI</td>\n",
       "      <td>1.970032e+09</td>\n",
       "    </tr>\n",
       "  </tbody>\n",
       "</table>\n",
       "</div>"
      ],
      "text/plain": [
       "                  DateTime  Latitude  Longitude  Depth  Magnitude MagType  \\\n",
       "0   1970/01/04 17:00:40.20   24.1390   102.5030   31.0        7.5      Ms   \n",
       "1   1970/01/06 05:35:51.80   -9.6280   151.4580    8.0        6.2      Ms   \n",
       "2   1970/01/08 17:12:39.10  -34.7410   178.5680  179.0        6.1      Mb   \n",
       "3   1970/01/10 12:07:08.60    6.8250   126.7370   73.0        6.1      Mb   \n",
       "4   1970/01/16 08:05:39.00   60.2800  -152.6600   85.0        6.0      ML   \n",
       "5   1970/01/20 07:19:51.20  -25.8000  -177.3490   80.0        6.5      Mb   \n",
       "6   1970/01/20 17:33:05.40   42.5190   142.9660   46.0        6.4      Ms   \n",
       "7   1970/01/21 17:51:38.50    7.0170  -104.2980   33.0        6.6      Ms   \n",
       "8   1970/01/26 10:01:20.50  -12.5790   166.3700   50.0        6.4      Ms   \n",
       "9   1970/02/04 05:08:48.00   15.5320   -99.4840   21.0        6.5      Ms   \n",
       "10  1970/02/05 22:05:58.30   12.5980   122.1170   11.0        6.6      Ms   \n",
       "11  1970/02/06 22:10:41.60   23.0960   100.7750   33.0        6.1      Ms   \n",
       "12  1970/02/24 02:07:36.80   30.5760   103.0310   33.0        6.0      Ms   \n",
       "13  1970/02/27 07:07:56.50   50.1300  -179.5898    7.0        6.0      ML   \n",
       "14  1970/02/28 10:52:31.10   52.5898  -175.0400  161.0        6.1      ML   \n",
       "15  1970/03/04 03:30:35.40   12.1340   143.7070   33.0        6.2      Ms   \n",
       "16  1970/03/09 16:01:10.50  -19.0080   168.6030   41.0        6.5      Ms   \n",
       "17  1970/03/10 04:58:26.20   44.7980   148.8700   40.0        6.0      Mb   \n",
       "18  1970/03/11 22:38:32.40   57.3900  -153.9700   16.0        6.5      ML   \n",
       "19  1970/03/15 12:39:17.80  -29.6530   -69.4990  119.0        6.0      Mb   \n",
       "\n",
       "    NbStations  Gap  Distance  RMS Source       EventID  \n",
       "0         90.0  NaN       NaN  0.0    NEI  1.970010e+09  \n",
       "1         85.0  NaN       NaN  0.0    NEI  1.970011e+09  \n",
       "2         59.0  NaN       NaN  0.0    NEI  1.970011e+09  \n",
       "3         91.0  NaN       NaN  0.0    NEI  1.970011e+09  \n",
       "4          0.0  NaN       NaN  NaN     AK           NaN  \n",
       "5        175.0  NaN       NaN  0.0    NEI  1.970012e+09  \n",
       "6        199.0  NaN       NaN  0.0    NEI  1.970012e+09  \n",
       "7        140.0  NaN       NaN  0.0    NEI  1.970012e+09  \n",
       "8         91.0  NaN       NaN  0.0    NEI  1.970013e+09  \n",
       "9        100.0  NaN       NaN  0.0    NEI  1.970020e+09  \n",
       "10        94.0  NaN       NaN  0.0    NEI  1.970021e+09  \n",
       "11        57.0  NaN       NaN  0.0    NEI  1.970021e+09  \n",
       "12        94.0  NaN       NaN  0.0    NEI  1.970022e+09  \n",
       "13         0.0  NaN       NaN  NaN     AK           NaN  \n",
       "14         0.0  NaN       NaN  NaN     AK           NaN  \n",
       "15        82.0  NaN       NaN  0.0    NEI  1.970030e+09  \n",
       "16        61.0  NaN       NaN  0.0    NEI  1.970031e+09  \n",
       "17        65.0  NaN       NaN  0.0    NEI  1.970031e+09  \n",
       "18         0.0  NaN       NaN  NaN     AK           NaN  \n",
       "19       118.0  NaN       NaN  0.0    NEI  1.970032e+09  "
      ]
     },
     "execution_count": 566,
     "metadata": {},
     "output_type": "execute_result"
    }
   ],
   "source": [
    "pd_csv_data.head(20)"
   ]
  },
  {
   "cell_type": "code",
   "execution_count": 567,
   "id": "3bd7b4aa",
   "metadata": {
    "ExecuteTime": {
     "end_time": "2023-02-22T01:53:10.153087Z",
     "start_time": "2023-02-22T01:53:10.139162Z"
    }
   },
   "outputs": [
    {
     "name": "stdout",
     "output_type": "stream",
     "text": [
      "<class 'pandas.core.frame.DataFrame'>\n",
      "RangeIndex: 5304 entries, 0 to 5303\n",
      "Data columns (total 12 columns):\n",
      " #   Column      Non-Null Count  Dtype  \n",
      "---  ------      --------------  -----  \n",
      " 0   DateTime    5304 non-null   object \n",
      " 1   Latitude    5304 non-null   float64\n",
      " 2   Longitude   5304 non-null   float64\n",
      " 3   Depth       5304 non-null   float64\n",
      " 4   Magnitude   5304 non-null   float64\n",
      " 5   MagType     5304 non-null   object \n",
      " 6   NbStations  5250 non-null   float64\n",
      " 7   Gap         172 non-null    float64\n",
      " 8   Distance    170 non-null    float64\n",
      " 9   RMS         5264 non-null   float64\n",
      " 10  Source      5304 non-null   object \n",
      " 11  EventID     5242 non-null   float64\n",
      "dtypes: float64(9), object(3)\n",
      "memory usage: 497.4+ KB\n"
     ]
    }
   ],
   "source": [
    "pd_csv_data.info()"
   ]
  },
  {
   "cell_type": "markdown",
   "id": "7aa6d2af",
   "metadata": {
    "ExecuteTime": {
     "end_time": "2023-02-19T16:23:17.569232Z",
     "start_time": "2023-02-19T16:23:17.564484Z"
    }
   },
   "source": [
    "## Slice \n",
    "first 20 rows and column numbers 3, 5, 6, 7, 12. Then, assign the array you sliced to a variable."
   ]
  },
  {
   "cell_type": "code",
   "execution_count": 568,
   "id": "20253ed6",
   "metadata": {
    "ExecuteTime": {
     "end_time": "2023-02-22T01:53:10.163520Z",
     "start_time": "2023-02-22T01:53:10.155752Z"
    }
   },
   "outputs": [
    {
     "name": "stdout",
     "output_type": "stream",
     "text": [
      "Convert to 0 index since 12 is out of bounds: Shape  (5304, 12)\n",
      "The shape of the original data is  (5304, 12)\n",
      "The shape of the new data is  (20, 5)\n"
     ]
    },
    {
     "data": {
      "text/plain": [
       "array([[102.503, 7.5, 'Ms', 90.0, 1970010440.0],\n",
       "       [151.458, 6.2, 'Ms', 85.0, 1970010640.0],\n",
       "       [178.568, 6.1, 'Mb', 59.0, 1970010840.0],\n",
       "       [126.736999999999, 6.1, 'Mb', 91.0, 1970011040.0],\n",
       "       [-152.66, 6.0, 'ML', 0.0, nan],\n",
       "       [-177.348999999999, 6.5, 'Mb', 175.0, 1970012040.0],\n",
       "       [142.966, 6.4, 'Ms', 199.0, 1970012040.0],\n",
       "       [-104.298, 6.6, 'Ms', 140.0, 1970012140.0],\n",
       "       [166.37, 6.4, 'Ms', 91.0, 1970012640.0],\n",
       "       [-99.48399999999991, 6.5, 'Ms', 100.0, 1970020440.0],\n",
       "       [122.117, 6.6, 'Ms', 94.0, 1970020540.0],\n",
       "       [100.775, 6.1, 'Ms', 57.0, 1970020640.0],\n",
       "       [103.031, 6.0, 'Ms', 94.0, 1970022440.0],\n",
       "       [-179.5898, 6.0, 'ML', 0.0, nan],\n",
       "       [-175.039999999999, 6.1, 'ML', 0.0, nan],\n",
       "       [143.706999999999, 6.2, 'Ms', 82.0, 1970030440.0],\n",
       "       [168.603, 6.5, 'Ms', 61.0, 1970030940.0],\n",
       "       [148.87, 6.0, 'Mb', 65.0, 1970031040.0],\n",
       "       [-153.97, 6.5, 'ML', 0.0, nan],\n",
       "       [-69.49899999999991, 6.0, 'Mb', 118.0, 1970031540.0]], dtype=object)"
      ]
     },
     "execution_count": 568,
     "metadata": {},
     "output_type": "execute_result"
    }
   ],
   "source": [
    "print(\"Convert to 0 index since 12 is out of bounds: Shape \", \\\n",
    "      np_csv_data.shape)\n",
    "print(\"The shape of the original data is \", np_csv_data.shape);\n",
    "\n",
    "data = np_csv_data[:20,[2,4,5,6,11] ]\n",
    "\n",
    "print(\"The shape of the new data is \", data.shape)\n",
    "data"
   ]
  },
  {
   "cell_type": "markdown",
   "id": "f1c2eae7",
   "metadata": {
    "ExecuteTime": {
     "end_time": "2023-02-19T16:31:04.893180Z",
     "start_time": "2023-02-19T16:31:04.888015Z"
    }
   },
   "source": [
    "## Display the row numbers \n",
    "\n",
    "where last values are equal to 4.5 or higher.\n"
   ]
  },
  {
   "cell_type": "code",
   "execution_count": 569,
   "id": "a839c57e",
   "metadata": {
    "ExecuteTime": {
     "end_time": "2023-02-22T01:53:10.168340Z",
     "start_time": "2023-02-22T01:53:10.165609Z"
    }
   },
   "outputs": [],
   "source": [
    "# Problem -- I do not understand the question.\n",
    "# I have tried several different ideas, but I am not able to get a \n",
    "# good answer.  My plan is to discuss during office hours or after \n",
    "# next week and move on to the next probleem"
   ]
  },
  {
   "cell_type": "markdown",
   "id": "3a94649d",
   "metadata": {},
   "source": [
    "## Assign 1 to first row.\n"
   ]
  },
  {
   "cell_type": "code",
   "execution_count": 593,
   "id": "4dd4891e",
   "metadata": {
    "ExecuteTime": {
     "end_time": "2023-02-22T02:08:17.046949Z",
     "start_time": "2023-02-22T02:08:17.041813Z"
    }
   },
   "outputs": [
    {
     "data": {
      "text/plain": [
       "array([[1, 1, 1, 1, 1],\n",
       "       [151.458, 6.2, 'Ms', 85.0, 1970010640.0],\n",
       "       [178.568, 6.1, 'Mb', 59.0, 1970010840.0],\n",
       "       [126.736999999999, 6.1, 'Mb', 91.0, 1970011040.0],\n",
       "       [-152.66, 6.0, 'ML', 0.0, nan],\n",
       "       [-177.348999999999, 6.5, 'Mb', 175.0, 1970012040.0],\n",
       "       [142.966, 6.4, 'Ms', 199.0, 1970012040.0],\n",
       "       [-104.298, 6.6, 'Ms', 140.0, 1970012140.0],\n",
       "       [166.37, 6.4, 'Ms', 91.0, 1970012640.0],\n",
       "       [-99.48399999999991, 6.5, 'Ms', 100.0, 1970020440.0],\n",
       "       [122.117, 6.6, 'Ms', 94.0, 1970020540.0],\n",
       "       [100.775, 6.1, 'Ms', 57.0, 1970020640.0],\n",
       "       [103.031, 6.0, 'Ms', 94.0, 1970022440.0],\n",
       "       [-179.5898, 6.0, 'ML', 0.0, nan],\n",
       "       [-175.039999999999, 6.1, 'ML', 0.0, nan],\n",
       "       [143.706999999999, 6.2, 'Ms', 82.0, 1970030440.0],\n",
       "       [168.603, 6.5, 'Ms', 61.0, 1970030940.0],\n",
       "       [148.87, 6.0, 'Mb', 65.0, 1970031040.0],\n",
       "       [-153.97, 6.5, 'ML', 0.0, nan],\n",
       "       [-69.49899999999991, 6.0, 'Mb', 118.0, 1970031540.0]], dtype=object)"
      ]
     },
     "execution_count": 593,
     "metadata": {},
     "output_type": "execute_result"
    }
   ],
   "source": [
    "data[0,:] = 1\n",
    "data"
   ]
  },
  {
   "cell_type": "markdown",
   "id": "d19dcb79",
   "metadata": {},
   "source": [
    "## Save the final state of the array to disk. \n",
    "\n",
    "You are going to use this in the next assignment.\n"
   ]
  },
  {
   "cell_type": "code",
   "execution_count": 571,
   "id": "7218ff0e",
   "metadata": {
    "ExecuteTime": {
     "end_time": "2023-02-22T01:53:10.187553Z",
     "start_time": "2023-02-22T01:53:10.180039Z"
    }
   },
   "outputs": [
    {
     "data": {
      "text/plain": [
       "array([[1, 1, 1, 1, 1],\n",
       "       [151.458, 6.2, 'Ms', 85.0, 1970010640.0],\n",
       "       [178.568, 6.1, 'Mb', 59.0, 1970010840.0],\n",
       "       [126.736999999999, 6.1, 'Mb', 91.0, 1970011040.0],\n",
       "       [-152.66, 6.0, 'ML', 0.0, nan],\n",
       "       [-177.348999999999, 6.5, 'Mb', 175.0, 1970012040.0],\n",
       "       [142.966, 6.4, 'Ms', 199.0, 1970012040.0],\n",
       "       [-104.298, 6.6, 'Ms', 140.0, 1970012140.0],\n",
       "       [166.37, 6.4, 'Ms', 91.0, 1970012640.0],\n",
       "       [-99.48399999999991, 6.5, 'Ms', 100.0, 1970020440.0],\n",
       "       [122.117, 6.6, 'Ms', 94.0, 1970020540.0],\n",
       "       [100.775, 6.1, 'Ms', 57.0, 1970020640.0],\n",
       "       [103.031, 6.0, 'Ms', 94.0, 1970022440.0],\n",
       "       [-179.5898, 6.0, 'ML', 0.0, nan],\n",
       "       [-175.039999999999, 6.1, 'ML', 0.0, nan],\n",
       "       [143.706999999999, 6.2, 'Ms', 82.0, 1970030440.0],\n",
       "       [168.603, 6.5, 'Ms', 61.0, 1970030940.0],\n",
       "       [148.87, 6.0, 'Mb', 65.0, 1970031040.0],\n",
       "       [-153.97, 6.5, 'ML', 0.0, nan],\n",
       "       [-69.49899999999991, 6.0, 'Mb', 118.0, 1970031540.0]], dtype=object)"
      ]
     },
     "execution_count": 571,
     "metadata": {},
     "output_type": "execute_result"
    }
   ],
   "source": [
    "# Tried to save them all to string and convert them in the next \n",
    "# assignment, but it failed.  Has to resort to pandas to get the \n",
    "# numpy with the correct datatype\n",
    "#np.savetxt('data.csv', data, delimiter=',',fmt=\"%s\")\n",
    "import pandas as pd\n",
    "dataframe_to_save = pd.DataFrame(data)\n",
    "dataframe_to_save.to_csv(\"data.csv\", index=False)\n",
    "data\n"
   ]
  },
  {
   "cell_type": "markdown",
   "id": "537a694c",
   "metadata": {},
   "source": [
    "## Load the array you saved from the disk.\n",
    "\n",
    "<b>The values array will be loaded as a Strings and will the datatype\n",
    "    changed for each column</b>\n",
    "\n",
    "<b>I have tried several ways and could not create a ndArray with multiple datatypes like Pandas could.</b>\n",
    "\n",
    "#### Best attempt at create a datatype with multiple datatypes \n",
    "When column stack was called all columns were converted to string\n",
    "``` python\n",
    "test2 = array_from_file.transpose()\n",
    "a = np.copy(test2[0]).astype(float).reshape(-1,1)\n",
    "b = np.copy(test2[1]).astype(float).reshape(-1,1)\n",
    "c = np.copy(test2[2]).astype(str).reshape(-1,1)\n",
    "\n",
    "test3 = np.column_stack((a,b,c))\n",
    "print(\"first row = \", test3[0])\n",
    "print(\"Shape = \", test3.shape)\n",
    "```"
   ]
  },
  {
   "cell_type": "code",
   "execution_count": 572,
   "id": "67b6dfe3",
   "metadata": {
    "ExecuteTime": {
     "end_time": "2023-02-22T01:53:10.216777Z",
     "start_time": "2023-02-22T01:53:10.190832Z"
    }
   },
   "outputs": [
    {
     "data": {
      "text/html": [
       "<div>\n",
       "<style scoped>\n",
       "    .dataframe tbody tr th:only-of-type {\n",
       "        vertical-align: middle;\n",
       "    }\n",
       "\n",
       "    .dataframe tbody tr th {\n",
       "        vertical-align: top;\n",
       "    }\n",
       "\n",
       "    .dataframe thead th {\n",
       "        text-align: right;\n",
       "    }\n",
       "</style>\n",
       "<table border=\"1\" class=\"dataframe\">\n",
       "  <thead>\n",
       "    <tr style=\"text-align: right;\">\n",
       "      <th></th>\n",
       "      <th>0</th>\n",
       "      <th>1</th>\n",
       "      <th>2</th>\n",
       "      <th>3</th>\n",
       "      <th>4</th>\n",
       "    </tr>\n",
       "  </thead>\n",
       "  <tbody>\n",
       "    <tr>\n",
       "      <th>0</th>\n",
       "      <td>1.0000</td>\n",
       "      <td>1.0</td>\n",
       "      <td>1</td>\n",
       "      <td>1.0</td>\n",
       "      <td>1.000000e+00</td>\n",
       "    </tr>\n",
       "    <tr>\n",
       "      <th>1</th>\n",
       "      <td>151.4580</td>\n",
       "      <td>6.2</td>\n",
       "      <td>Ms</td>\n",
       "      <td>85.0</td>\n",
       "      <td>1.970011e+09</td>\n",
       "    </tr>\n",
       "    <tr>\n",
       "      <th>2</th>\n",
       "      <td>178.5680</td>\n",
       "      <td>6.1</td>\n",
       "      <td>Mb</td>\n",
       "      <td>59.0</td>\n",
       "      <td>1.970011e+09</td>\n",
       "    </tr>\n",
       "    <tr>\n",
       "      <th>3</th>\n",
       "      <td>126.7370</td>\n",
       "      <td>6.1</td>\n",
       "      <td>Mb</td>\n",
       "      <td>91.0</td>\n",
       "      <td>1.970011e+09</td>\n",
       "    </tr>\n",
       "    <tr>\n",
       "      <th>4</th>\n",
       "      <td>-152.6600</td>\n",
       "      <td>6.0</td>\n",
       "      <td>ML</td>\n",
       "      <td>0.0</td>\n",
       "      <td>NaN</td>\n",
       "    </tr>\n",
       "    <tr>\n",
       "      <th>5</th>\n",
       "      <td>-177.3490</td>\n",
       "      <td>6.5</td>\n",
       "      <td>Mb</td>\n",
       "      <td>175.0</td>\n",
       "      <td>1.970012e+09</td>\n",
       "    </tr>\n",
       "    <tr>\n",
       "      <th>6</th>\n",
       "      <td>142.9660</td>\n",
       "      <td>6.4</td>\n",
       "      <td>Ms</td>\n",
       "      <td>199.0</td>\n",
       "      <td>1.970012e+09</td>\n",
       "    </tr>\n",
       "    <tr>\n",
       "      <th>7</th>\n",
       "      <td>-104.2980</td>\n",
       "      <td>6.6</td>\n",
       "      <td>Ms</td>\n",
       "      <td>140.0</td>\n",
       "      <td>1.970012e+09</td>\n",
       "    </tr>\n",
       "    <tr>\n",
       "      <th>8</th>\n",
       "      <td>166.3700</td>\n",
       "      <td>6.4</td>\n",
       "      <td>Ms</td>\n",
       "      <td>91.0</td>\n",
       "      <td>1.970013e+09</td>\n",
       "    </tr>\n",
       "    <tr>\n",
       "      <th>9</th>\n",
       "      <td>-99.4840</td>\n",
       "      <td>6.5</td>\n",
       "      <td>Ms</td>\n",
       "      <td>100.0</td>\n",
       "      <td>1.970020e+09</td>\n",
       "    </tr>\n",
       "    <tr>\n",
       "      <th>10</th>\n",
       "      <td>122.1170</td>\n",
       "      <td>6.6</td>\n",
       "      <td>Ms</td>\n",
       "      <td>94.0</td>\n",
       "      <td>1.970021e+09</td>\n",
       "    </tr>\n",
       "    <tr>\n",
       "      <th>11</th>\n",
       "      <td>100.7750</td>\n",
       "      <td>6.1</td>\n",
       "      <td>Ms</td>\n",
       "      <td>57.0</td>\n",
       "      <td>1.970021e+09</td>\n",
       "    </tr>\n",
       "    <tr>\n",
       "      <th>12</th>\n",
       "      <td>103.0310</td>\n",
       "      <td>6.0</td>\n",
       "      <td>Ms</td>\n",
       "      <td>94.0</td>\n",
       "      <td>1.970022e+09</td>\n",
       "    </tr>\n",
       "    <tr>\n",
       "      <th>13</th>\n",
       "      <td>-179.5898</td>\n",
       "      <td>6.0</td>\n",
       "      <td>ML</td>\n",
       "      <td>0.0</td>\n",
       "      <td>NaN</td>\n",
       "    </tr>\n",
       "    <tr>\n",
       "      <th>14</th>\n",
       "      <td>-175.0400</td>\n",
       "      <td>6.1</td>\n",
       "      <td>ML</td>\n",
       "      <td>0.0</td>\n",
       "      <td>NaN</td>\n",
       "    </tr>\n",
       "    <tr>\n",
       "      <th>15</th>\n",
       "      <td>143.7070</td>\n",
       "      <td>6.2</td>\n",
       "      <td>Ms</td>\n",
       "      <td>82.0</td>\n",
       "      <td>1.970030e+09</td>\n",
       "    </tr>\n",
       "    <tr>\n",
       "      <th>16</th>\n",
       "      <td>168.6030</td>\n",
       "      <td>6.5</td>\n",
       "      <td>Ms</td>\n",
       "      <td>61.0</td>\n",
       "      <td>1.970031e+09</td>\n",
       "    </tr>\n",
       "    <tr>\n",
       "      <th>17</th>\n",
       "      <td>148.8700</td>\n",
       "      <td>6.0</td>\n",
       "      <td>Mb</td>\n",
       "      <td>65.0</td>\n",
       "      <td>1.970031e+09</td>\n",
       "    </tr>\n",
       "    <tr>\n",
       "      <th>18</th>\n",
       "      <td>-153.9700</td>\n",
       "      <td>6.5</td>\n",
       "      <td>ML</td>\n",
       "      <td>0.0</td>\n",
       "      <td>NaN</td>\n",
       "    </tr>\n",
       "    <tr>\n",
       "      <th>19</th>\n",
       "      <td>-69.4990</td>\n",
       "      <td>6.0</td>\n",
       "      <td>Mb</td>\n",
       "      <td>118.0</td>\n",
       "      <td>1.970032e+09</td>\n",
       "    </tr>\n",
       "  </tbody>\n",
       "</table>\n",
       "</div>"
      ],
      "text/plain": [
       "           0    1   2      3             4\n",
       "0     1.0000  1.0   1    1.0  1.000000e+00\n",
       "1   151.4580  6.2  Ms   85.0  1.970011e+09\n",
       "2   178.5680  6.1  Mb   59.0  1.970011e+09\n",
       "3   126.7370  6.1  Mb   91.0  1.970011e+09\n",
       "4  -152.6600  6.0  ML    0.0           NaN\n",
       "5  -177.3490  6.5  Mb  175.0  1.970012e+09\n",
       "6   142.9660  6.4  Ms  199.0  1.970012e+09\n",
       "7  -104.2980  6.6  Ms  140.0  1.970012e+09\n",
       "8   166.3700  6.4  Ms   91.0  1.970013e+09\n",
       "9   -99.4840  6.5  Ms  100.0  1.970020e+09\n",
       "10  122.1170  6.6  Ms   94.0  1.970021e+09\n",
       "11  100.7750  6.1  Ms   57.0  1.970021e+09\n",
       "12  103.0310  6.0  Ms   94.0  1.970022e+09\n",
       "13 -179.5898  6.0  ML    0.0           NaN\n",
       "14 -175.0400  6.1  ML    0.0           NaN\n",
       "15  143.7070  6.2  Ms   82.0  1.970030e+09\n",
       "16  168.6030  6.5  Ms   61.0  1.970031e+09\n",
       "17  148.8700  6.0  Mb   65.0  1.970031e+09\n",
       "18 -153.9700  6.5  ML    0.0           NaN\n",
       "19  -69.4990  6.0  Mb  118.0  1.970032e+09"
      ]
     },
     "execution_count": 572,
     "metadata": {},
     "output_type": "execute_result"
    }
   ],
   "source": [
    "# Could not use this \n",
    "# array_from_file = np.loadtxt('data.csv', delimiter=',', dtype=str)\n",
    "import pandas as pd\n",
    "raw_csv_data = pd.read_csv(\"data.csv\", index_col=False)\n",
    "raw_csv_data"
   ]
  },
  {
   "cell_type": "code",
   "execution_count": 573,
   "id": "9cab468f",
   "metadata": {
    "ExecuteTime": {
     "end_time": "2023-02-22T01:53:10.225723Z",
     "start_time": "2023-02-22T01:53:10.219876Z"
    }
   },
   "outputs": [
    {
     "data": {
      "text/plain": [
       "array([[1.0, 1.0, '1', 1.0, 1.0],\n",
       "       [151.458, 6.2, 'Ms', 85.0, 1970010640.0],\n",
       "       [178.568, 6.1, 'Mb', 59.0, 1970010840.0],\n",
       "       [126.736999999999, 6.1, 'Mb', 91.0, 1970011040.0],\n",
       "       [-152.66, 6.0, 'ML', 0.0, nan],\n",
       "       [-177.348999999999, 6.5, 'Mb', 175.0, 1970012040.0],\n",
       "       [142.966, 6.4, 'Ms', 199.0, 1970012040.0],\n",
       "       [-104.298, 6.6, 'Ms', 140.0, 1970012140.0],\n",
       "       [166.37, 6.4, 'Ms', 91.0, 1970012640.0],\n",
       "       [-99.48399999999992, 6.5, 'Ms', 100.0, 1970020440.0],\n",
       "       [122.117, 6.6, 'Ms', 94.0, 1970020540.0],\n",
       "       [100.775, 6.1, 'Ms', 57.0, 1970020640.0],\n",
       "       [103.031, 6.0, 'Ms', 94.0, 1970022440.0],\n",
       "       [-179.5898, 6.0, 'ML', 0.0, nan],\n",
       "       [-175.039999999999, 6.1, 'ML', 0.0, nan],\n",
       "       [143.706999999999, 6.2, 'Ms', 82.0, 1970030440.0],\n",
       "       [168.603, 6.5, 'Ms', 61.0, 1970030940.0],\n",
       "       [148.87, 6.0, 'Mb', 65.0, 1970031040.0],\n",
       "       [-153.97, 6.5, 'ML', 0.0, nan],\n",
       "       [-69.49899999999991, 6.0, 'Mb', 118.0, 1970031540.0]], dtype=object)"
      ]
     },
     "execution_count": 573,
     "metadata": {},
     "output_type": "execute_result"
    }
   ],
   "source": [
    "np_csv_data = raw_csv_data.to_numpy()\n",
    "np_csv_data"
   ]
  },
  {
   "cell_type": "markdown",
   "id": "6cc232f2",
   "metadata": {
    "ExecuteTime": {
     "end_time": "2023-02-19T23:12:26.906720Z",
     "start_time": "2023-02-19T23:12:26.903214Z"
    }
   },
   "source": [
    "## Display mean, standard deviation for each column.\n",
    "\n",
    "Note the last column contains nan so it not a number"
   ]
  },
  {
   "cell_type": "code",
   "execution_count": 589,
   "id": "9f7ee610",
   "metadata": {
    "ExecuteTime": {
     "end_time": "2023-02-22T02:05:44.172873Z",
     "start_time": "2023-02-22T02:05:44.105458Z"
    }
   },
   "outputs": [
    {
     "name": "stdout",
     "output_type": "stream",
     "text": [
      "<class 'numpy.ndarray'>\n"
     ]
    },
    {
     "ename": "TypeError",
     "evalue": "loop of ufunc does not support argument 0 of type float which has no callable rint method",
     "output_type": "error",
     "traceback": [
      "\u001b[0;31m---------------------------------------------------------------------------\u001b[0m",
      "\u001b[0;31mAttributeError\u001b[0m                            Traceback (most recent call last)",
      "\u001b[0;31mAttributeError\u001b[0m: 'float' object has no attribute 'rint'",
      "\nThe above exception was the direct cause of the following exception:\n",
      "\u001b[0;31mTypeError\u001b[0m                                 Traceback (most recent call last)",
      "File \u001b[0;32m~/anaconda3/lib/python3.9/site-packages/numpy/core/fromnumeric.py:57\u001b[0m, in \u001b[0;36m_wrapfunc\u001b[0;34m(obj, method, *args, **kwds)\u001b[0m\n\u001b[1;32m     56\u001b[0m \u001b[38;5;28;01mtry\u001b[39;00m:\n\u001b[0;32m---> 57\u001b[0m     \u001b[38;5;28;01mreturn\u001b[39;00m \u001b[43mbound\u001b[49m\u001b[43m(\u001b[49m\u001b[38;5;241;43m*\u001b[39;49m\u001b[43margs\u001b[49m\u001b[43m,\u001b[49m\u001b[43m \u001b[49m\u001b[38;5;241;43m*\u001b[39;49m\u001b[38;5;241;43m*\u001b[39;49m\u001b[43mkwds\u001b[49m\u001b[43m)\u001b[49m\n\u001b[1;32m     58\u001b[0m \u001b[38;5;28;01mexcept\u001b[39;00m \u001b[38;5;167;01mTypeError\u001b[39;00m:\n\u001b[1;32m     59\u001b[0m     \u001b[38;5;66;03m# A TypeError occurs if the object does have such a method in its\u001b[39;00m\n\u001b[1;32m     60\u001b[0m     \u001b[38;5;66;03m# class, but its signature is not identical to that of NumPy's. This\u001b[39;00m\n\u001b[0;32m   (...)\u001b[0m\n\u001b[1;32m     64\u001b[0m     \u001b[38;5;66;03m# Call _wrapit from within the except clause to ensure a potential\u001b[39;00m\n\u001b[1;32m     65\u001b[0m     \u001b[38;5;66;03m# exception has a traceback chain.\u001b[39;00m\n",
      "\u001b[0;31mTypeError\u001b[0m: loop of ufunc does not support argument 0 of type float which has no callable rint method",
      "\nDuring handling of the above exception, another exception occurred:\n",
      "\u001b[0;31mAttributeError\u001b[0m                            Traceback (most recent call last)",
      "\u001b[0;31mAttributeError\u001b[0m: 'float' object has no attribute 'rint'",
      "\nThe above exception was the direct cause of the following exception:\n",
      "\u001b[0;31mTypeError\u001b[0m                                 Traceback (most recent call last)",
      "Input \u001b[0;32mIn [589]\u001b[0m, in \u001b[0;36m<cell line: 6>\u001b[0;34m()\u001b[0m\n\u001b[1;32m      4\u001b[0m \u001b[38;5;66;03m# Calculate the mean\u001b[39;00m\n\u001b[1;32m      5\u001b[0m \u001b[38;5;28mprint\u001b[39m(\u001b[38;5;28mtype\u001b[39m(numeric_data\u001b[38;5;241m.\u001b[39mmean(axis\u001b[38;5;241m=\u001b[39m\u001b[38;5;241m0\u001b[39m)))\n\u001b[0;32m----> 6\u001b[0m \u001b[38;5;28mprint\u001b[39m(\u001b[38;5;124m\"\u001b[39m\u001b[38;5;124mMean of columns: \u001b[39m\u001b[38;5;124m\"\u001b[39m, \u001b[43mnp\u001b[49m\u001b[38;5;241;43m.\u001b[39;49m\u001b[43mround\u001b[49m\u001b[43m(\u001b[49m\u001b[43mnumeric_data\u001b[49m\u001b[38;5;241;43m.\u001b[39;49m\u001b[43mmean\u001b[49m\u001b[43m(\u001b[49m\u001b[43maxis\u001b[49m\u001b[38;5;241;43m=\u001b[39;49m\u001b[38;5;241;43m0\u001b[39;49m\u001b[43m)\u001b[49m\u001b[43m,\u001b[49m\u001b[38;5;241;43m2\u001b[39;49m\u001b[43m)\u001b[49m)\n\u001b[1;32m      8\u001b[0m \u001b[38;5;66;03m# Preprocessing -- Need to remomve the NaN std was failing\u001b[39;00m\n\u001b[1;32m      9\u001b[0m numeric_data_without_nan\u001b[38;5;241m=\u001b[39mnp\u001b[38;5;241m.\u001b[39mnan_to_num(numeric_data_without_nan, nan\u001b[38;5;241m=\u001b[39m\u001b[38;5;241m0\u001b[39m)\n",
      "File \u001b[0;32m<__array_function__ internals>:5\u001b[0m, in \u001b[0;36mround_\u001b[0;34m(*args, **kwargs)\u001b[0m\n",
      "File \u001b[0;32m~/anaconda3/lib/python3.9/site-packages/numpy/core/fromnumeric.py:3739\u001b[0m, in \u001b[0;36mround_\u001b[0;34m(a, decimals, out)\u001b[0m\n\u001b[1;32m   3730\u001b[0m \u001b[38;5;129m@array_function_dispatch\u001b[39m(_around_dispatcher)\n\u001b[1;32m   3731\u001b[0m \u001b[38;5;28;01mdef\u001b[39;00m \u001b[38;5;21mround_\u001b[39m(a, decimals\u001b[38;5;241m=\u001b[39m\u001b[38;5;241m0\u001b[39m, out\u001b[38;5;241m=\u001b[39m\u001b[38;5;28;01mNone\u001b[39;00m):\n\u001b[1;32m   3732\u001b[0m     \u001b[38;5;124;03m\"\"\"\u001b[39;00m\n\u001b[1;32m   3733\u001b[0m \u001b[38;5;124;03m    Round an array to the given number of decimals.\u001b[39;00m\n\u001b[1;32m   3734\u001b[0m \n\u001b[0;32m   (...)\u001b[0m\n\u001b[1;32m   3737\u001b[0m \u001b[38;5;124;03m    around : equivalent function; see for details.\u001b[39;00m\n\u001b[1;32m   3738\u001b[0m \u001b[38;5;124;03m    \"\"\"\u001b[39;00m\n\u001b[0;32m-> 3739\u001b[0m     \u001b[38;5;28;01mreturn\u001b[39;00m \u001b[43maround\u001b[49m\u001b[43m(\u001b[49m\u001b[43ma\u001b[49m\u001b[43m,\u001b[49m\u001b[43m \u001b[49m\u001b[43mdecimals\u001b[49m\u001b[38;5;241;43m=\u001b[39;49m\u001b[43mdecimals\u001b[49m\u001b[43m,\u001b[49m\u001b[43m \u001b[49m\u001b[43mout\u001b[49m\u001b[38;5;241;43m=\u001b[39;49m\u001b[43mout\u001b[49m\u001b[43m)\u001b[49m\n",
      "File \u001b[0;32m<__array_function__ internals>:5\u001b[0m, in \u001b[0;36maround\u001b[0;34m(*args, **kwargs)\u001b[0m\n",
      "File \u001b[0;32m~/anaconda3/lib/python3.9/site-packages/numpy/core/fromnumeric.py:3314\u001b[0m, in \u001b[0;36maround\u001b[0;34m(a, decimals, out)\u001b[0m\n\u001b[1;32m   3220\u001b[0m \u001b[38;5;129m@array_function_dispatch\u001b[39m(_around_dispatcher)\n\u001b[1;32m   3221\u001b[0m \u001b[38;5;28;01mdef\u001b[39;00m \u001b[38;5;21maround\u001b[39m(a, decimals\u001b[38;5;241m=\u001b[39m\u001b[38;5;241m0\u001b[39m, out\u001b[38;5;241m=\u001b[39m\u001b[38;5;28;01mNone\u001b[39;00m):\n\u001b[1;32m   3222\u001b[0m     \u001b[38;5;124;03m\"\"\"\u001b[39;00m\n\u001b[1;32m   3223\u001b[0m \u001b[38;5;124;03m    Evenly round to the given number of decimals.\u001b[39;00m\n\u001b[1;32m   3224\u001b[0m \n\u001b[0;32m   (...)\u001b[0m\n\u001b[1;32m   3312\u001b[0m \n\u001b[1;32m   3313\u001b[0m \u001b[38;5;124;03m    \"\"\"\u001b[39;00m\n\u001b[0;32m-> 3314\u001b[0m     \u001b[38;5;28;01mreturn\u001b[39;00m \u001b[43m_wrapfunc\u001b[49m\u001b[43m(\u001b[49m\u001b[43ma\u001b[49m\u001b[43m,\u001b[49m\u001b[43m \u001b[49m\u001b[38;5;124;43m'\u001b[39;49m\u001b[38;5;124;43mround\u001b[39;49m\u001b[38;5;124;43m'\u001b[39;49m\u001b[43m,\u001b[49m\u001b[43m \u001b[49m\u001b[43mdecimals\u001b[49m\u001b[38;5;241;43m=\u001b[39;49m\u001b[43mdecimals\u001b[49m\u001b[43m,\u001b[49m\u001b[43m \u001b[49m\u001b[43mout\u001b[49m\u001b[38;5;241;43m=\u001b[39;49m\u001b[43mout\u001b[49m\u001b[43m)\u001b[49m\n",
      "File \u001b[0;32m~/anaconda3/lib/python3.9/site-packages/numpy/core/fromnumeric.py:66\u001b[0m, in \u001b[0;36m_wrapfunc\u001b[0;34m(obj, method, *args, **kwds)\u001b[0m\n\u001b[1;32m     57\u001b[0m     \u001b[38;5;28;01mreturn\u001b[39;00m bound(\u001b[38;5;241m*\u001b[39margs, \u001b[38;5;241m*\u001b[39m\u001b[38;5;241m*\u001b[39mkwds)\n\u001b[1;32m     58\u001b[0m \u001b[38;5;28;01mexcept\u001b[39;00m \u001b[38;5;167;01mTypeError\u001b[39;00m:\n\u001b[1;32m     59\u001b[0m     \u001b[38;5;66;03m# A TypeError occurs if the object does have such a method in its\u001b[39;00m\n\u001b[1;32m     60\u001b[0m     \u001b[38;5;66;03m# class, but its signature is not identical to that of NumPy's. This\u001b[39;00m\n\u001b[0;32m   (...)\u001b[0m\n\u001b[1;32m     64\u001b[0m     \u001b[38;5;66;03m# Call _wrapit from within the except clause to ensure a potential\u001b[39;00m\n\u001b[1;32m     65\u001b[0m     \u001b[38;5;66;03m# exception has a traceback chain.\u001b[39;00m\n\u001b[0;32m---> 66\u001b[0m     \u001b[38;5;28;01mreturn\u001b[39;00m \u001b[43m_wrapit\u001b[49m\u001b[43m(\u001b[49m\u001b[43mobj\u001b[49m\u001b[43m,\u001b[49m\u001b[43m \u001b[49m\u001b[43mmethod\u001b[49m\u001b[43m,\u001b[49m\u001b[43m \u001b[49m\u001b[38;5;241;43m*\u001b[39;49m\u001b[43margs\u001b[49m\u001b[43m,\u001b[49m\u001b[43m \u001b[49m\u001b[38;5;241;43m*\u001b[39;49m\u001b[38;5;241;43m*\u001b[39;49m\u001b[43mkwds\u001b[49m\u001b[43m)\u001b[49m\n",
      "File \u001b[0;32m~/anaconda3/lib/python3.9/site-packages/numpy/core/fromnumeric.py:43\u001b[0m, in \u001b[0;36m_wrapit\u001b[0;34m(obj, method, *args, **kwds)\u001b[0m\n\u001b[1;32m     41\u001b[0m \u001b[38;5;28;01mexcept\u001b[39;00m \u001b[38;5;167;01mAttributeError\u001b[39;00m:\n\u001b[1;32m     42\u001b[0m     wrap \u001b[38;5;241m=\u001b[39m \u001b[38;5;28;01mNone\u001b[39;00m\n\u001b[0;32m---> 43\u001b[0m result \u001b[38;5;241m=\u001b[39m \u001b[38;5;28;43mgetattr\u001b[39;49m\u001b[43m(\u001b[49m\u001b[43masarray\u001b[49m\u001b[43m(\u001b[49m\u001b[43mobj\u001b[49m\u001b[43m)\u001b[49m\u001b[43m,\u001b[49m\u001b[43m \u001b[49m\u001b[43mmethod\u001b[49m\u001b[43m)\u001b[49m\u001b[43m(\u001b[49m\u001b[38;5;241;43m*\u001b[39;49m\u001b[43margs\u001b[49m\u001b[43m,\u001b[49m\u001b[43m \u001b[49m\u001b[38;5;241;43m*\u001b[39;49m\u001b[38;5;241;43m*\u001b[39;49m\u001b[43mkwds\u001b[49m\u001b[43m)\u001b[49m\n\u001b[1;32m     44\u001b[0m \u001b[38;5;28;01mif\u001b[39;00m wrap:\n\u001b[1;32m     45\u001b[0m     \u001b[38;5;28;01mif\u001b[39;00m \u001b[38;5;129;01mnot\u001b[39;00m \u001b[38;5;28misinstance\u001b[39m(result, mu\u001b[38;5;241m.\u001b[39mndarray):\n",
      "\u001b[0;31mTypeError\u001b[0m: loop of ufunc does not support argument 0 of type float which has no callable rint method"
     ]
    }
   ],
   "source": [
    "# Preprocessing -- Remove third column since it is a String\n",
    "numeric_data = np.delete(np_csv_data, 2, axis=1)\n",
    "\n",
    "# Calculate the mean\n",
    "print(type(numeric_data.mean(axis=0)))\n",
    "print(\"Mean of columns: \", np.round(numeric_data.mean(axis=0),2))\n",
    "\n",
    "# Preprocessing -- Need to remomve the NaN std was failing\n",
    "numeric_data_without_nan=np.nan_to_num(numeric_data_without_nan, nan=0)\n",
    "\n",
    "# Calculate the Standard Deviation\n",
    "print(\"Standard Deviation of Columns \",numeric_data_without_nan.std(axis=0))"
   ]
  },
  {
   "cell_type": "markdown",
   "id": "84c49c46",
   "metadata": {
    "ExecuteTime": {
     "end_time": "2023-02-20T00:21:06.042603Z",
     "start_time": "2023-02-20T00:21:06.038722Z"
    }
   },
   "source": [
    "## Subtract 1, 25, 25, 10, 4 from columns in order. \n",
    "\n",
    "(Remember it can be done in one line of code.)"
   ]
  },
  {
   "cell_type": "code",
   "execution_count": 575,
   "id": "51273949",
   "metadata": {
    "ExecuteTime": {
     "end_time": "2023-02-22T01:53:10.242676Z",
     "start_time": "2023-02-22T01:53:10.237284Z"
    }
   },
   "outputs": [
    {
     "data": {
      "text/plain": [
       "array([[0.0, -24.0, -9.0, -3.0],\n",
       "       [150.458, -18.8, 75.0, 1970010636.0],\n",
       "       [177.568, -18.9, 49.0, 1970010836.0],\n",
       "       [125.736999999999, -18.9, 81.0, 1970011036.0],\n",
       "       [-153.66, -19.0, -10.0, nan],\n",
       "       [-178.348999999999, -18.5, 165.0, 1970012036.0],\n",
       "       [141.966, -18.6, 189.0, 1970012036.0],\n",
       "       [-105.298, -18.4, 130.0, 1970012136.0],\n",
       "       [165.37, -18.6, 81.0, 1970012636.0],\n",
       "       [-100.48399999999992, -18.5, 90.0, 1970020436.0],\n",
       "       [121.117, -18.4, 84.0, 1970020536.0],\n",
       "       [99.775, -18.9, 47.0, 1970020636.0],\n",
       "       [102.031, -19.0, 84.0, 1970022436.0],\n",
       "       [-180.5898, -19.0, -10.0, nan],\n",
       "       [-176.039999999999, -18.9, -10.0, nan],\n",
       "       [142.706999999999, -18.8, 72.0, 1970030436.0],\n",
       "       [167.603, -18.5, 51.0, 1970030936.0],\n",
       "       [147.87, -19.0, 55.0, 1970031036.0],\n",
       "       [-154.97, -18.5, -10.0, nan],\n",
       "       [-70.49899999999991, -19.0, 108.0, 1970031536.0]], dtype=object)"
      ]
     },
     "execution_count": 575,
     "metadata": {},
     "output_type": "execute_result"
    }
   ],
   "source": [
    "# Preprocessing remove the third element (25) since the third is a\n",
    "# string and we cannot use the minus operator on a string\n",
    "# However, we will use the result from above\n",
    "\n",
    "numeric_data - [1,25,10,4]\n"
   ]
  },
  {
   "cell_type": "markdown",
   "id": "4124278d",
   "metadata": {
    "ExecuteTime": {
     "end_time": "2023-02-20T00:30:05.571410Z",
     "start_time": "2023-02-20T00:30:05.566513Z"
    }
   },
   "source": [
    "## Multiply each element by 2. \n",
    "\n",
    "(Remember it can be done in one line of code.)"
   ]
  },
  {
   "cell_type": "code",
   "execution_count": 576,
   "id": "abf1a986",
   "metadata": {
    "ExecuteTime": {
     "end_time": "2023-02-22T01:53:10.252438Z",
     "start_time": "2023-02-22T01:53:10.246489Z"
    }
   },
   "outputs": [
    {
     "data": {
      "text/plain": [
       "array([[2.0, 2.0, 2.0, 2.0],\n",
       "       [302.916, 12.4, 170.0, 3940021280.0],\n",
       "       [357.136, 12.2, 118.0, 3940021680.0],\n",
       "       [253.473999999998, 12.2, 182.0, 3940022080.0],\n",
       "       [-305.32, 12.0, 0.0, nan],\n",
       "       [-354.697999999998, 13.0, 350.0, 3940024080.0],\n",
       "       [285.932, 12.8, 398.0, 3940024080.0],\n",
       "       [-208.596, 13.2, 280.0, 3940024280.0],\n",
       "       [332.74, 12.8, 182.0, 3940025280.0],\n",
       "       [-198.96799999999985, 13.0, 200.0, 3940040880.0],\n",
       "       [244.234, 13.2, 188.0, 3940041080.0],\n",
       "       [201.55, 12.2, 114.0, 3940041280.0],\n",
       "       [206.062, 12.0, 188.0, 3940044880.0],\n",
       "       [-359.1796, 12.0, 0.0, nan],\n",
       "       [-350.079999999998, 12.2, 0.0, nan],\n",
       "       [287.413999999998, 12.4, 164.0, 3940060880.0],\n",
       "       [337.206, 13.0, 122.0, 3940061880.0],\n",
       "       [297.74, 12.0, 130.0, 3940062080.0],\n",
       "       [-307.94, 13.0, 0.0, nan],\n",
       "       [-138.99799999999982, 12.0, 236.0, 3940063080.0]], dtype=object)"
      ]
     },
     "execution_count": 576,
     "metadata": {},
     "output_type": "execute_result"
    }
   ],
   "source": [
    "numeric_data * 2"
   ]
  },
  {
   "cell_type": "code",
   "execution_count": null,
   "id": "ad28d776",
   "metadata": {},
   "outputs": [],
   "source": []
  }
 ],
 "metadata": {
  "kernelspec": {
   "display_name": "Python 3 (ipykernel)",
   "language": "python",
   "name": "python3"
  },
  "language_info": {
   "codemirror_mode": {
    "name": "ipython",
    "version": 3
   },
   "file_extension": ".py",
   "mimetype": "text/x-python",
   "name": "python",
   "nbconvert_exporter": "python",
   "pygments_lexer": "ipython3",
   "version": "3.9.13"
  },
  "toc": {
   "base_numbering": 1,
   "nav_menu": {},
   "number_sections": true,
   "sideBar": true,
   "skip_h1_title": false,
   "title_cell": "Table of Contents",
   "title_sidebar": "Contents",
   "toc_cell": false,
   "toc_position": {},
   "toc_section_display": true,
   "toc_window_display": false
  }
 },
 "nbformat": 4,
 "nbformat_minor": 5
}
