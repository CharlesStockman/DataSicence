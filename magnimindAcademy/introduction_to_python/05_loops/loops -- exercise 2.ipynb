{
 "cells": [
  {
   "cell_type": "markdown",
   "id": "78033432",
   "metadata": {},
   "source": [
    "# Problem Statement\n",
    "You're playing a game with a friend involving a bag of marbles. In the bag are ten marbles:\n",
    "\n",
    "1 smooth red marble\n",
    "\n",
    "4 bumpy red marbles\n",
    "\n",
    "2 bumpy yellow marbles\n",
    "\n",
    "1 smooth yellow marble\n",
    "\n",
    "1 bumpy green marble\n",
    "\n",
    "1 smooth green marble\n",
    "\n",
    "You can see that the probability of picking a smooth red marble from the bag is 1 / 10 or 0.10 and the probability of picking a bumpy yellow marble is 2 / 10 or 0.20.\n",
    "\n",
    "The game works like this: your friend puts her hand in the bag, chooses a marble (without looking at it) and tells you whether it's bumpy or smooth. Then you have to guess which color it is before she pulls it out and reveals whether you're correct or not.\n",
    "\n",
    "You know that the information about whether the marble is bumpy or smooth changes the probability of what color it is, and you want some help with your guesses.\n",
    "\n",
    "Write a function color_probability that takes two arguments: a color ('red', 'yellow', or 'green') and a texture ('bumpy' or 'smooth') and returns the probability of drawing that combination as a decimal fraction accurate to two places.\n",
    "\n",
    "The probability should be a string and should discard any digits after the 100ths place. For example, 2 / 3 or 0.6666666666666666 would become the string '0.66'. Note this is different from rounding.\n",
    "\n",
    "As a complete example, color_probability('red', 'bumpy') should return the string '0.57'."
   ]
  },
  {
   "cell_type": "markdown",
   "id": "5b068867",
   "metadata": {},
   "source": [
    "## Create the Number of Marble for each color / texture pair."
   ]
  },
  {
   "cell_type": "code",
   "execution_count": 1,
   "id": "bfa4050b",
   "metadata": {
    "ExecuteTime": {
     "end_time": "2023-02-02T19:00:54.552539Z",
     "start_time": "2023-02-02T19:00:54.523038Z"
    }
   },
   "outputs": [],
   "source": [
    "# Create a dictionary where : key is the color and the value is another hashmap\n",
    "# Create a inner dictionary where the key is the texture and the value is the count\n",
    "probability_dictionary = {}\n",
    "probability_dictionary[\"bumpy\"] = {\"red\":4,  \"yellow\":2, \"green\":1}\n",
    "probability_dictionary[\"smooth\"] = {\"red\":1, \"yellow\":1, \"green\":1}\n"
   ]
  },
  {
   "cell_type": "markdown",
   "id": "21a0426e",
   "metadata": {
    "ExecuteTime": {
     "end_time": "2023-01-31T17:53:31.363466Z",
     "start_time": "2023-01-31T17:53:31.360479Z"
    }
   },
   "source": [
    "## Get the total number of outcomes per colors"
   ]
  },
  {
   "cell_type": "code",
   "execution_count": 2,
   "id": "8472fc76",
   "metadata": {
    "ExecuteTime": {
     "end_time": "2023-02-02T19:00:55.013703Z",
     "start_time": "2023-02-02T19:00:54.999794Z"
    }
   },
   "outputs": [
    {
     "data": {
      "text/plain": [
       "{'bumpy': 7, 'smooth': 3}"
      ]
     },
     "execution_count": 2,
     "metadata": {},
     "output_type": "execute_result"
    }
   ],
   "source": [
    "# Get the total number of outcomes\n",
    "total_outcomes_by_texture = {}\n",
    "for colors_of_texture in probability_dictionary.items():\n",
    "    total_outcomes_by_texture[ colors_of_texture[0] ] = sum(colors_of_texture[1].values())\n",
    "total_outcomes_by_texture    \n",
    "    \n"
   ]
  },
  {
   "cell_type": "markdown",
   "id": "b0809fd3",
   "metadata": {},
   "source": [
    "## Generate all inputs to the color probability functions"
   ]
  },
  {
   "cell_type": "code",
   "execution_count": 9,
   "id": "614ca514",
   "metadata": {
    "ExecuteTime": {
     "end_time": "2023-02-02T19:02:16.460119Z",
     "start_time": "2023-02-02T19:02:16.455676Z"
    }
   },
   "outputs": [
    {
     "data": {
      "text/plain": [
       "{'bumpy', 'smooth'}"
      ]
     },
     "execution_count": 9,
     "metadata": {},
     "output_type": "execute_result"
    }
   ],
   "source": [
    "# Create the set of textures\n",
    "texture_set = set(probability_dictionary.keys())\n",
    "texture_set"
   ]
  },
  {
   "cell_type": "code",
   "execution_count": 13,
   "id": "0301a5ea",
   "metadata": {
    "ExecuteTime": {
     "end_time": "2023-02-02T19:04:13.613471Z",
     "start_time": "2023-02-02T19:04:13.608566Z"
    }
   },
   "outputs": [
    {
     "data": {
      "text/plain": [
       "[{'red': 4, 'yellow': 2, 'green': 1}, {'red': 1, 'yellow': 1, 'green': 1}]"
      ]
     },
     "execution_count": 13,
     "metadata": {},
     "output_type": "execute_result"
    }
   ],
   "source": [
    "# Get all the colors for now the list will contain duplicates which will be remove when the list is transformed\n",
    "# into a set.\n",
    "element = list(probability_dictionary.values())\n",
    "element"
   ]
  },
  {
   "cell_type": "markdown",
   "id": "b5ad0d1a",
   "metadata": {},
   "source": [
    "### Explanation of the code block below -- # Create the set of colors\n",
    "<b>The explamation is based heavily on the code in this notebook.  For example, I am using probabily distribution\n",
    "dictionary created in this notebook.</b>\n",
    "<hr>\n",
    "\n",
    "|Part of Code | Explanation |\n",
    "|:-           | :-          |\n",
    "|probability_dictionary.values()   | Return back a list of inner dictionaries \n",
    "|\\*probability_dictionary.values() | The values returend are all passed into the function \n",
    "|set.union()                       | set() creates an empty to call its method union which variable arguments"
   ]
  },
  {
   "cell_type": "code",
   "execution_count": 12,
   "id": "f0773f3a",
   "metadata": {
    "ExecuteTime": {
     "end_time": "2023-02-02T19:03:59.741659Z",
     "start_time": "2023-02-02T19:03:59.737483Z"
    }
   },
   "outputs": [
    {
     "data": {
      "text/plain": [
       "{'green', 'red', 'yellow'}"
      ]
     },
     "execution_count": 12,
     "metadata": {},
     "output_type": "execute_result"
    }
   ],
   "source": [
    "# Create the set of colors\n",
    "color_set = set().union(*probability_dictionary.values())\n",
    "color_set"
   ]
  },
  {
   "cell_type": "code",
   "execution_count": 14,
   "id": "8a3d9694",
   "metadata": {
    "ExecuteTime": {
     "end_time": "2023-02-02T19:10:41.048231Z",
     "start_time": "2023-02-02T19:10:41.042726Z"
    }
   },
   "outputs": [
    {
     "data": {
      "text/plain": [
       "(('bumpy', 'red'),\n",
       " ('bumpy', 'green'),\n",
       " ('bumpy', 'yellow'),\n",
       " ('smooth', 'red'),\n",
       " ('smooth', 'green'),\n",
       " ('smooth', 'yellow'))"
      ]
     },
     "execution_count": 14,
     "metadata": {},
     "output_type": "execute_result"
    }
   ],
   "source": [
    "# Using the text and colors sets pro0vide the permuation of the two set that contain one color and one textture.\n",
    "import itertools \n",
    "inputs = tuple(itertools.product(texture_set, color_set))\n",
    "inputs"
   ]
  },
  {
   "cell_type": "markdown",
   "id": "1cb7859b",
   "metadata": {
    "ExecuteTime": {
     "end_time": "2023-01-31T19:48:41.702025Z",
     "start_time": "2023-01-31T19:48:41.697706Z"
    }
   },
   "source": [
    "### Design the main algorithm \n",
    "\n",
    "Calculates the probability when give the texture of a marble the player will guess the color correctly\n"
   ]
  },
  {
   "cell_type": "code",
   "execution_count": 15,
   "id": "a2438f03",
   "metadata": {
    "ExecuteTime": {
     "end_time": "2023-02-02T19:10:42.172392Z",
     "start_time": "2023-02-02T19:10:42.168037Z"
    }
   },
   "outputs": [],
   "source": [
    "def color_probability(color = \"red\", texture=\"bumpy\"):\n",
    "    ''' Returns the probability of selecting a marble when you know the texture rounded to hundredths\n",
    "        :parameter  The color of the marble which can be red, yellow, green\n",
    "        :type string : string\n",
    "        :parameter  The text of the marble which can be smooth or bumpy\n",
    "        :type string   : string\n",
    "    :returns The probability of guesssing the correct marble when the teture is known.\n",
    "    :rtype float\n",
    "    '''\n",
    "    probability = probability_dictionary[texture][color] / total_outcomes_by_texture[texture]\n",
    "    probability = round(probability, 2)\n",
    "    return probability"
   ]
  },
  {
   "cell_type": "markdown",
   "id": "edfac79d",
   "metadata": {
    "ExecuteTime": {
     "end_time": "2023-01-31T19:59:13.834509Z",
     "start_time": "2023-01-31T19:59:13.831602Z"
    }
   },
   "source": [
    "### Display all the Outcomes for the function"
   ]
  },
  {
   "cell_type": "code",
   "execution_count": 16,
   "id": "84389348",
   "metadata": {
    "ExecuteTime": {
     "end_time": "2023-02-02T19:10:43.114927Z",
     "start_time": "2023-02-02T19:10:43.110975Z"
    }
   },
   "outputs": [
    {
     "name": "stdout",
     "output_type": "stream",
     "text": [
      "The marble has a color bumpy   and red     then the probability is 0.57\n",
      "The marble has a color bumpy   and green   then the probability is 0.14\n",
      "The marble has a color bumpy   and yellow  then the probability is 0.29\n",
      "The marble has a color smooth  and red     then the probability is 0.33\n",
      "The marble has a color smooth  and green   then the probability is 0.33\n",
      "The marble has a color smooth  and yellow  then the probability is 0.33\n"
     ]
    }
   ],
   "source": [
    "for input in inputs:\n",
    "    probability = color_probability( color = input[1], texture = input[0])\n",
    "    print(f\"The marble has a color {input[0]:7s} and {input[1]:7s} then the probability is {probability}\")"
   ]
  }
 ],
 "metadata": {
  "kernelspec": {
   "display_name": "Python 3 (ipykernel)",
   "language": "python",
   "name": "python3"
  },
  "language_info": {
   "codemirror_mode": {
    "name": "ipython",
    "version": 3
   },
   "file_extension": ".py",
   "mimetype": "text/x-python",
   "name": "python",
   "nbconvert_exporter": "python",
   "pygments_lexer": "ipython3",
   "version": "3.9.13"
  }
 },
 "nbformat": 4,
 "nbformat_minor": 5
}
