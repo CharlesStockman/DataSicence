{
 "cells": [
  {
   "cell_type": "markdown",
   "id": "42676d0d",
   "metadata": {},
   "source": [
    "# For Loops "
   ]
  },
  {
   "cell_type": "markdown",
   "id": "ed1ea4ef",
   "metadata": {},
   "source": [
    "## Exercise 1"
   ]
  },
  {
   "cell_type": "code",
   "execution_count": 14,
   "id": "1dd3d72e",
   "metadata": {
    "ExecuteTime": {
     "end_time": "2023-02-02T18:53:41.449210Z",
     "start_time": "2023-02-02T18:53:41.444229Z"
    }
   },
   "outputs": [
    {
     "data": {
      "text/plain": [
       "['Alice', 'Charles', 'Sharon', 'John']"
      ]
     },
     "execution_count": 14,
     "metadata": {},
     "output_type": "execute_result"
    }
   ],
   "source": [
    "# Make another list of five usernames called new_users. \n",
    "new_users = [ 'Alice', 'Charles', 'Sharon', 'John' ]\n",
    "new_users"
   ]
  },
  {
   "cell_type": "code",
   "execution_count": 16,
   "id": "2771923f",
   "metadata": {
    "ExecuteTime": {
     "end_time": "2023-02-02T18:53:50.647703Z",
     "start_time": "2023-02-02T18:53:50.643513Z"
    }
   },
   "outputs": [
    {
     "data": {
      "text/plain": [
       "['Frank', 'James', 'Alice', 'Sharon', 'Tim']"
      ]
     },
     "execution_count": 16,
     "metadata": {},
     "output_type": "execute_result"
    }
   ],
   "source": [
    "# Make sure one or two of the new usernames are also in the current_users list.\n",
    "current_user = ['Frank', 'James', 'Alice', 'Sharon', 'Tim']\n",
    "current_user"
   ]
  },
  {
   "cell_type": "code",
   "execution_count": 17,
   "id": "80f69b5d",
   "metadata": {
    "ExecuteTime": {
     "end_time": "2023-02-02T18:53:51.752482Z",
     "start_time": "2023-02-02T18:53:51.747106Z"
    }
   },
   "outputs": [
    {
     "data": {
      "text/plain": [
       "['frank', 'james', 'alice', 'sharon', 'tim']"
      ]
     },
     "execution_count": 17,
     "metadata": {},
     "output_type": "execute_result"
    }
   ],
   "source": [
    "# Make sure your comparison is case insensitive. If 'John' has been used, 'JOHN' should not be accepted.\n",
    "current_userlist_with_casefold = [ item.casefold() for item in current_user ]\n",
    "current_userlist_with_casefold"
   ]
  },
  {
   "cell_type": "code",
   "execution_count": 18,
   "id": "82ebd1c3",
   "metadata": {
    "ExecuteTime": {
     "end_time": "2023-02-02T18:53:52.807583Z",
     "start_time": "2023-02-02T18:53:52.802860Z"
    }
   },
   "outputs": [
    {
     "data": {
      "text/plain": [
       "['alice', 'charles', 'sharon', 'john']"
      ]
     },
     "execution_count": 18,
     "metadata": {},
     "output_type": "execute_result"
    }
   ],
   "source": [
    "# Make sure your comparison is case insensitive. If 'John' has been used, 'JOHN' should not be accepted.\n",
    "new_userlist_with_casefold = [ item.casefold() for item in new_users ]\n",
    "new_userlist_with_casefold "
   ]
  },
  {
   "cell_type": "code",
   "execution_count": 19,
   "id": "44dce545",
   "metadata": {
    "ExecuteTime": {
     "end_time": "2023-02-02T18:53:54.104408Z",
     "start_time": "2023-02-02T18:53:54.099857Z"
    }
   },
   "outputs": [
    {
     "name": "stdout",
     "output_type": "stream",
     "text": [
      "Alice username is not available\n",
      "Charles username is available\n",
      "Sharon username is not available\n",
      "John username is available\n"
     ]
    }
   ],
   "source": [
    "# Loop through the new_users list to see if each new username has already been used. If it has, \n",
    "# print a message that the person will need to enter a new username. If a username has not been \n",
    "# used, print a message saying that the username is available.\n",
    "\n",
    "for index, new_user in enumerate(new_userlist_with_casefold):\n",
    "    if new_user in current_userlist_with_casefold:\n",
    "        print(f\"{new_users[index]} username is not available\")\n",
    "    else:\n",
    "        print(f\"{new_users[index]} username is available\")"
   ]
  }
 ],
 "metadata": {
  "kernelspec": {
   "display_name": "Python 3 (ipykernel)",
   "language": "python",
   "name": "python3"
  },
  "language_info": {
   "codemirror_mode": {
    "name": "ipython",
    "version": 3
   },
   "file_extension": ".py",
   "mimetype": "text/x-python",
   "name": "python",
   "nbconvert_exporter": "python",
   "pygments_lexer": "ipython3",
   "version": "3.9.13"
  }
 },
 "nbformat": 4,
 "nbformat_minor": 5
}
