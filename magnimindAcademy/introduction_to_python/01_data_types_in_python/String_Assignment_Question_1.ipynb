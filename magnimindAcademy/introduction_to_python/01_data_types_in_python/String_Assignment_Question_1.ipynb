{
 "cells": [
  {
   "cell_type": "markdown",
   "id": "6852cf10",
   "metadata": {
    "ExecuteTime": {
     "end_time": "2023-01-21T22:56:44.968499Z",
     "start_time": "2023-01-21T22:56:44.964134Z"
    }
   },
   "source": [
    "# Question 1\n",
    "Ask the user to enter their first name and surname in lower case. <br>\n",
    "Change the case to title case and join them together. <br> \n",
    "Display the finished result.<br>"
   ]
  },
  {
   "cell_type": "code",
   "execution_count": 70,
   "id": "c51cc44d",
   "metadata": {
    "ExecuteTime": {
     "end_time": "2023-01-23T16:06:30.779561Z",
     "start_time": "2023-01-23T16:06:26.076217Z"
    }
   },
   "outputs": [
    {
     "name": "stdout",
     "output_type": "stream",
     "text": [
      "Please enter the first name in lower case:     \n",
      "Please enter the surname in lower case: Stockman\n"
     ]
    }
   ],
   "source": [
    "# Allow the User to select a first and last name \n",
    "first_name = input(\"Please enter the first name in lower case: \")\n",
    "last_name = input(\"Please enter the surname in lower case: \")\n",
    "\n",
    "# Preprocess the data by trimming the whitespace from each of the strings\n",
    "first_name = first_name.strip()\n",
    "last_name  = last_name.strip()"
   ]
  },
  {
   "cell_type": "code",
   "execution_count": 71,
   "id": "7777a7c1",
   "metadata": {
    "ExecuteTime": {
     "end_time": "2023-01-23T16:06:31.886815Z",
     "start_time": "2023-01-23T16:06:31.883528Z"
    }
   },
   "outputs": [],
   "source": [
    "# Convert the first and Last Name to lower case Capitiaize first letter of each name\n",
    "first_name = first_name.lower().capitalize()\n",
    "last_name = last_name.lower().capitalize()"
   ]
  },
  {
   "cell_type": "code",
   "execution_count": 72,
   "id": "87395c8e",
   "metadata": {
    "ExecuteTime": {
     "end_time": "2023-01-23T16:06:32.383617Z",
     "start_time": "2023-01-23T16:06:32.379781Z"
    }
   },
   "outputs": [],
   "source": [
    "# There are three ways at least we can join names\n",
    "\n",
    "# Use the join function\n",
    "name_list = [ first_name, last_name]\n",
    "name1 = \" \".join(name_list)\n",
    "\n",
    "# Concatentate using the plus operator\n",
    "name2 = first_name + ' ' + last_name\n",
    "\n",
    "# Use f-string\n",
    "name3 = f\"{first_name} {last_name}\""
   ]
  },
  {
   "cell_type": "code",
   "execution_count": 73,
   "id": "e0834fa5",
   "metadata": {
    "ExecuteTime": {
     "end_time": "2023-01-23T16:06:32.737407Z",
     "start_time": "2023-01-23T16:06:32.732340Z"
    }
   },
   "outputs": [
    {
     "name": "stdout",
     "output_type": "stream",
     "text": [
      "The first name after trimming the spaces was not specified\n",
      "\n",
      "The first name is   Stockman\n",
      "The second name is   Stockman\n",
      "The third name is   Stockman\n"
     ]
    }
   ],
   "source": [
    "# Handling the case where either both the first and last name were blank\n",
    "if ( len(first_name) == 0 ):\n",
    "    print(\"The first name, after trimming the spaces, was not specified\")\n",
    "if ( len(last_name) == 0 ):\n",
    "    print(\"The last name ,after trimming the spaces, was not specificed\")\n",
    "if ( len(first_name) == 0 or len(last_name) == 0 ):\n",
    "    print(\"\")\n",
    "print(\"The first name is \", name1)\n",
    "print(\"The second name is \", name2)\n",
    "print(\"The third name is \", name3)"
   ]
  },
  {
   "cell_type": "code",
   "execution_count": null,
   "id": "fc3e00de",
   "metadata": {},
   "outputs": [],
   "source": []
  }
 ],
 "metadata": {
  "kernelspec": {
   "display_name": "Python 3 (ipykernel)",
   "language": "python",
   "name": "python3"
  },
  "language_info": {
   "codemirror_mode": {
    "name": "ipython",
    "version": 3
   },
   "file_extension": ".py",
   "mimetype": "text/x-python",
   "name": "python",
   "nbconvert_exporter": "python",
   "pygments_lexer": "ipython3",
   "version": "3.9.13"
  }
 },
 "nbformat": 4,
 "nbformat_minor": 5
}
