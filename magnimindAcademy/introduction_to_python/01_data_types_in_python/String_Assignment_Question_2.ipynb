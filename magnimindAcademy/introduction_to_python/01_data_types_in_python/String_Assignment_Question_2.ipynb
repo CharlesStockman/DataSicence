{
 "cells": [
  {
   "cell_type": "markdown",
   "id": "4202d8bd",
   "metadata": {},
   "source": [
    "# Assignment 2 & 3 "
   ]
  },
  {
   "cell_type": "markdown",
   "id": "b885f5e2",
   "metadata": {},
   "source": [
    "## Question 2a\n",
    "\n",
    "<ol>\n",
    "Ask the user to type in the first line of a poem Raven by Edgar Allen Poe and display the length of the string."
   ]
  },
  {
   "cell_type": "code",
   "execution_count": 3,
   "id": "69ff3418",
   "metadata": {
    "ExecuteTime": {
     "end_time": "2023-01-24T15:07:41.115186Z",
     "start_time": "2023-01-24T15:07:34.121231Z"
    }
   },
   "outputs": [
    {
     "name": "stdout",
     "output_type": "stream",
     "text": [
      "Please enter the first line of the RavenDeep into the darkness peering,\n",
      "The first line is \"Deep into the darkness peering,\" and has a length of 31\n"
     ]
    }
   ],
   "source": [
    "first_line = input(\"Please enter the first line of the Raven\")\n",
    "first_line = first_line.strip()\n",
    "print(f'The first line is \"{first_line}\" and the length is {len(first_line)}')"
   ]
  },
  {
   "cell_type": "markdown",
   "id": "e5cceaf2",
   "metadata": {
    "ExecuteTime": {
     "end_time": "2023-01-24T15:09:05.374421Z",
     "start_time": "2023-01-24T15:09:05.369124Z"
    }
   },
   "source": [
    "## Question 2b\n",
    "Ask for a starting number and an ending number and then display just that section of the text (remember Python starts counting from 0 and not 1). Here is the poem Raven</li>\n",
    "\n",
    "<ol>Notes\n",
    "    <li>Created a class so that I unit test some of the functinality I needed before the program.</li>\n",
    "    <li>Error checking varliate that starting and ending line number are valid</li>\n",
    "    <li>If list of lines returned is empty, I will print out a warning that indexes may not be correct</li>"
   ]
  },
  {
   "cell_type": "code",
   "execution_count": 55,
   "id": "b43eb545",
   "metadata": {
    "ExecuteTime": {
     "end_time": "2023-01-24T16:27:34.856182Z",
     "start_time": "2023-01-24T16:27:34.849579Z"
    }
   },
   "outputs": [],
   "source": [
    "# %load \"poem/poem.py\"\n",
    "class Poem:\n",
    "\n",
    "    def __init__(self):\n",
    "        self.poem = None\n",
    "\n",
    "    def __load_poem(self):\n",
    "        \"\"\"\n",
    "         loads the string of a poem into a list\n",
    "       \"\"\"\n",
    "\n",
    "        poem_as_string = ''' Deep into that darkness peering,\n",
    "         Long I stood there, wondering, fearing,\n",
    "         Doubting, dreaming dreams no mortals\n",
    "         Ever dared to dream before;\n",
    "         But the silence was unbroken,\n",
    "         And the stillness gave no token,\n",
    "         And the only word there spoken\n",
    "         Was the whispered word, \"Lenore!\"\n",
    "         This I whispered, and an echo\n",
    "         Murmured back the word, \"Lenore!\"\n",
    "         Merely this, and nothing more. '''\n",
    "\n",
    "        poem_as_list = poem_as_string.split('\\n')\n",
    "\n",
    "        return poem_as_list\n",
    "\n",
    "    def get_poem(self):\n",
    "        \"\"\"\n",
    "         Return the poem to the user .  Uses lazy initialization\n",
    "        \"\"\"\n",
    "        if self.poem is None:\n",
    "            self.poem = self.__load_poem()\n",
    "        return self.poem\n",
    "\n",
    "    def __str__(self):\n",
    "        \"\"\"\n",
    "         A string to easily identify the instance of the class to the developer\n",
    "        \"\"\"\n",
    "        self.get_poem()\n",
    "        return f\"Class is Poem and there {len(self.poem)} lines\"\n",
    "\n",
    "    def __len__(self):\n",
    "        '''\n",
    "            The length of the instance of class is the number of lines in the poem\n",
    "        '''\n",
    "        self.get_poem()\n",
    "        return len(self.poem)\n",
    "    \n",
    "# Instantiate an instance of a Poem Class so that it is read for use\n",
    "poem = Poem()\n"
   ]
  },
  {
   "cell_type": "code",
   "execution_count": 56,
   "id": "6656f161",
   "metadata": {
    "ExecuteTime": {
     "end_time": "2023-01-24T16:27:39.553393Z",
     "start_time": "2023-01-24T16:27:35.665117Z"
    }
   },
   "outputs": [
    {
     "name": "stdout",
     "output_type": "stream",
     "text": [
      "Please enter the starting line number asdf\n",
      "Please enter the ending line number dsfja\n"
     ]
    }
   ],
   "source": [
    "# Get the Starting and the Ending Line Number\n",
    "starting_number_as_string = input(\"Please enter the starting line number \")\n",
    "ending_number_as_string = input(\"Please enter the ending line number \")"
   ]
  },
  {
   "cell_type": "code",
   "execution_count": 58,
   "id": "50976837",
   "metadata": {
    "ExecuteTime": {
     "end_time": "2023-01-24T16:28:10.483943Z",
     "start_time": "2023-01-24T16:28:10.480135Z"
    }
   },
   "outputs": [
    {
     "name": "stdout",
     "output_type": "stream",
     "text": [
      "Either Starting Line Number or Ending Line Number was not a valid integer\n"
     ]
    }
   ],
   "source": [
    "error = False\n",
    "\n",
    "# Attempt to convert the starting number and ending number to a integer\n",
    "# If the attempt fails then print out and error message and set a global so code block know it failed\n",
    "try:\n",
    "    starting_number = int(starting_number_as_string)\n",
    "    ending_number = int(ending_number_as_string)\n",
    "except ValueError:\n",
    "    print(\"Either Starting Line Number or Ending Line Number was not a valid integer\")\n",
    "    error = True\n"
   ]
  },
  {
   "cell_type": "code",
   "execution_count": 59,
   "id": "fe8fd8b1",
   "metadata": {
    "ExecuteTime": {
     "end_time": "2023-01-24T16:28:15.571418Z",
     "start_time": "2023-01-24T16:28:15.567351Z"
    }
   },
   "outputs": [],
   "source": [
    "# Get the lines and print them out.  If the array is empty then print out a warning\n",
    "if ( error ):\n",
    "    print(\"Either the Starting Line or Ending Line Number were \")\n",
    "if ( not error ):\n",
    "    lines = poem.get_poem()[starting_number:ending_number]\n",
    "    if ( len(lines) == 0):\n",
    "        print(\"No data was return implies the current starting and ending indexes need to adjusted.\")\n",
    "    else:\n",
    "        for line in lines:\n",
    "            print(line)"
   ]
  },
  {
   "cell_type": "code",
   "execution_count": null,
   "id": "e31ace36",
   "metadata": {},
   "outputs": [],
   "source": []
  }
 ],
 "metadata": {
  "kernelspec": {
   "display_name": "Python 3 (ipykernel)",
   "language": "python",
   "name": "python3"
  },
  "language_info": {
   "codemirror_mode": {
    "name": "ipython",
    "version": 3
   },
   "file_extension": ".py",
   "mimetype": "text/x-python",
   "name": "python",
   "nbconvert_exporter": "python",
   "pygments_lexer": "ipython3",
   "version": "3.9.13"
  }
 },
 "nbformat": 4,
 "nbformat_minor": 5
}
