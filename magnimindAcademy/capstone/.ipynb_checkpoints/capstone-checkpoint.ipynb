{
 "cells": [
  {
   "cell_type": "markdown",
   "id": "22194b75",
   "metadata": {},
   "source": [
    "# Capstone -- 1"
   ]
  },
  {
   "cell_type": "markdown",
   "id": "51265a56",
   "metadata": {
    "ExecuteTime": {
     "end_time": "2023-02-25T15:16:56.287535Z",
     "start_time": "2023-02-25T15:16:56.119244Z"
    }
   },
   "source": [
    "### Introduction\n",
    "\n",
    "The objective of this project examines the effects of user engagement after seeing Ad A or Ad B\n",
    "\n",
    "### Problem\n",
    "An advertising company has developed a new ad to have users engage with their questionnaire. The company has shown the new ad to some users and a dummy ad to others and wants their data analyst team to interpret the results. Does the new ad generate more responses to their questionnaire? Is it statistically significant? Is the company justified in using the new ad? \n",
    "\n",
    "A/B testing is common in the business world and is a way to compare two versions of something to figure out which performs better. Figuring out which ad users prefer is a real life business problem that would be expected to know how to solve as a business data analyst. \n",
    "\n",
    "### Dataset\n",
    "\n",
    "Found on kaggle from an advertising company. https://www.kaggle.com/osuolaleemmanuel/ad-ab-testing\n",
    "\n",
    " "
   ]
  },
  {
   "cell_type": "code",
   "execution_count": 26,
   "id": "3994a3ee",
   "metadata": {
    "ExecuteTime": {
     "end_time": "2023-03-03T20:56:03.982594Z",
     "start_time": "2023-03-03T20:56:03.979582Z"
    }
   },
   "outputs": [],
   "source": [
    "import pandas as pd\n",
    "import numpy as np\n",
    "from scipy.stats import norm"
   ]
  },
  {
   "cell_type": "markdown",
   "id": "6bb23532",
   "metadata": {},
   "source": [
    "## Section 1 \n",
    "> * Load the data\n",
    "> * Get Basic information such as column descrpitions and types\n",
    "> * Get initial statistical information to compare when tabie is changed\n",
    "> * Change as many generic column datatypes to a specific datatype"
   ]
  },
  {
   "cell_type": "code",
   "execution_count": 27,
   "id": "71b9f26e",
   "metadata": {
    "ExecuteTime": {
     "end_time": "2023-03-03T20:56:05.004982Z",
     "start_time": "2023-03-03T20:56:04.987633Z"
    }
   },
   "outputs": [],
   "source": [
    "df_adSmartABdata = pd.read_csv('AdSmartABdata - AdSmartABdata.csv')"
   ]
  },
  {
   "cell_type": "code",
   "execution_count": 28,
   "id": "bd744327",
   "metadata": {
    "ExecuteTime": {
     "end_time": "2023-03-03T20:56:05.543035Z",
     "start_time": "2023-03-03T20:56:05.532009Z"
    }
   },
   "outputs": [
    {
     "data": {
      "text/html": [
       "<div>\n",
       "<style scoped>\n",
       "    .dataframe tbody tr th:only-of-type {\n",
       "        vertical-align: middle;\n",
       "    }\n",
       "\n",
       "    .dataframe tbody tr th {\n",
       "        vertical-align: top;\n",
       "    }\n",
       "\n",
       "    .dataframe thead th {\n",
       "        text-align: right;\n",
       "    }\n",
       "</style>\n",
       "<table border=\"1\" class=\"dataframe\">\n",
       "  <thead>\n",
       "    <tr style=\"text-align: right;\">\n",
       "      <th></th>\n",
       "      <th>auction_id</th>\n",
       "      <th>experiment</th>\n",
       "      <th>date</th>\n",
       "      <th>hour</th>\n",
       "      <th>device_make</th>\n",
       "      <th>platform_os</th>\n",
       "      <th>browser</th>\n",
       "      <th>yes</th>\n",
       "      <th>no</th>\n",
       "    </tr>\n",
       "  </thead>\n",
       "  <tbody>\n",
       "    <tr>\n",
       "      <th>0</th>\n",
       "      <td>0008ef63-77a7-448b-bd1e-075f42c55e39</td>\n",
       "      <td>exposed</td>\n",
       "      <td>2020-07-10</td>\n",
       "      <td>8</td>\n",
       "      <td>Generic Smartphone</td>\n",
       "      <td>6</td>\n",
       "      <td>Chrome Mobile</td>\n",
       "      <td>0</td>\n",
       "      <td>0</td>\n",
       "    </tr>\n",
       "    <tr>\n",
       "      <th>1</th>\n",
       "      <td>000eabc5-17ce-4137-8efe-44734d914446</td>\n",
       "      <td>exposed</td>\n",
       "      <td>2020-07-07</td>\n",
       "      <td>10</td>\n",
       "      <td>Generic Smartphone</td>\n",
       "      <td>6</td>\n",
       "      <td>Chrome Mobile</td>\n",
       "      <td>0</td>\n",
       "      <td>0</td>\n",
       "    </tr>\n",
       "    <tr>\n",
       "      <th>2</th>\n",
       "      <td>0016d14a-ae18-4a02-a204-6ba53b52f2ed</td>\n",
       "      <td>exposed</td>\n",
       "      <td>2020-07-05</td>\n",
       "      <td>2</td>\n",
       "      <td>E5823</td>\n",
       "      <td>6</td>\n",
       "      <td>Chrome Mobile WebView</td>\n",
       "      <td>0</td>\n",
       "      <td>1</td>\n",
       "    </tr>\n",
       "    <tr>\n",
       "      <th>3</th>\n",
       "      <td>00187412-2932-4542-a8ef-3633901c98d9</td>\n",
       "      <td>control</td>\n",
       "      <td>2020-07-03</td>\n",
       "      <td>15</td>\n",
       "      <td>Samsung SM-A705FN</td>\n",
       "      <td>6</td>\n",
       "      <td>Facebook</td>\n",
       "      <td>0</td>\n",
       "      <td>0</td>\n",
       "    </tr>\n",
       "    <tr>\n",
       "      <th>4</th>\n",
       "      <td>001a7785-d3fe-4e11-a344-c8735acacc2c</td>\n",
       "      <td>control</td>\n",
       "      <td>2020-07-03</td>\n",
       "      <td>15</td>\n",
       "      <td>Generic Smartphone</td>\n",
       "      <td>6</td>\n",
       "      <td>Chrome Mobile</td>\n",
       "      <td>0</td>\n",
       "      <td>0</td>\n",
       "    </tr>\n",
       "  </tbody>\n",
       "</table>\n",
       "</div>"
      ],
      "text/plain": [
       "                             auction_id experiment        date  hour  \\\n",
       "0  0008ef63-77a7-448b-bd1e-075f42c55e39    exposed  2020-07-10     8   \n",
       "1  000eabc5-17ce-4137-8efe-44734d914446    exposed  2020-07-07    10   \n",
       "2  0016d14a-ae18-4a02-a204-6ba53b52f2ed    exposed  2020-07-05     2   \n",
       "3  00187412-2932-4542-a8ef-3633901c98d9    control  2020-07-03    15   \n",
       "4  001a7785-d3fe-4e11-a344-c8735acacc2c    control  2020-07-03    15   \n",
       "\n",
       "          device_make  platform_os                browser  yes  no  \n",
       "0  Generic Smartphone            6          Chrome Mobile    0   0  \n",
       "1  Generic Smartphone            6          Chrome Mobile    0   0  \n",
       "2               E5823            6  Chrome Mobile WebView    0   1  \n",
       "3   Samsung SM-A705FN            6               Facebook    0   0  \n",
       "4  Generic Smartphone            6          Chrome Mobile    0   0  "
      ]
     },
     "execution_count": 28,
     "metadata": {},
     "output_type": "execute_result"
    }
   ],
   "source": [
    "# Get an intial look at the data\n",
    "df_adSmartABdata.head()"
   ]
  },
  {
   "cell_type": "code",
   "execution_count": 29,
   "id": "003cd4f6",
   "metadata": {
    "ExecuteTime": {
     "end_time": "2023-03-03T20:56:05.967308Z",
     "start_time": "2023-03-03T20:56:05.963820Z"
    }
   },
   "outputs": [
    {
     "name": "stdout",
     "output_type": "stream",
     "text": [
      "Total number of rows =  (8077, 9)\n"
     ]
    }
   ],
   "source": [
    "# Get the total number of rows \n",
    "print(\"Total number of rows = \", df_adSmartABdata.shape)"
   ]
  },
  {
   "cell_type": "code",
   "execution_count": 30,
   "id": "2b4ac426",
   "metadata": {
    "ExecuteTime": {
     "end_time": "2023-03-03T20:56:06.450107Z",
     "start_time": "2023-03-03T20:56:06.429941Z"
    }
   },
   "outputs": [
    {
     "name": "stdout",
     "output_type": "stream",
     "text": [
      "<class 'pandas.core.frame.DataFrame'>\n",
      "RangeIndex: 8077 entries, 0 to 8076\n",
      "Data columns (total 9 columns):\n",
      " #   Column       Non-Null Count  Dtype \n",
      "---  ------       --------------  ----- \n",
      " 0   auction_id   8077 non-null   object\n",
      " 1   experiment   8077 non-null   object\n",
      " 2   date         8077 non-null   object\n",
      " 3   hour         8077 non-null   int64 \n",
      " 4   device_make  8077 non-null   object\n",
      " 5   platform_os  8077 non-null   int64 \n",
      " 6   browser      8077 non-null   object\n",
      " 7   yes          8077 non-null   int64 \n",
      " 8   no           8077 non-null   int64 \n",
      "dtypes: int64(4), object(5)\n",
      "memory usage: 3.1 MB\n"
     ]
    }
   ],
   "source": [
    "# Get a desription of all the columns\n",
    "df_adSmartABdata.info(memory_usage='deep')"
   ]
  },
  {
   "cell_type": "code",
   "execution_count": 31,
   "id": "06924339",
   "metadata": {
    "ExecuteTime": {
     "end_time": "2023-03-03T20:56:06.817673Z",
     "start_time": "2023-03-03T20:56:06.797617Z"
    }
   },
   "outputs": [
    {
     "data": {
      "text/html": [
       "<div>\n",
       "<style scoped>\n",
       "    .dataframe tbody tr th:only-of-type {\n",
       "        vertical-align: middle;\n",
       "    }\n",
       "\n",
       "    .dataframe tbody tr th {\n",
       "        vertical-align: top;\n",
       "    }\n",
       "\n",
       "    .dataframe thead th {\n",
       "        text-align: right;\n",
       "    }\n",
       "</style>\n",
       "<table border=\"1\" class=\"dataframe\">\n",
       "  <thead>\n",
       "    <tr style=\"text-align: right;\">\n",
       "      <th></th>\n",
       "      <th>hour</th>\n",
       "      <th>platform_os</th>\n",
       "      <th>yes</th>\n",
       "      <th>no</th>\n",
       "    </tr>\n",
       "  </thead>\n",
       "  <tbody>\n",
       "    <tr>\n",
       "      <th>count</th>\n",
       "      <td>8077.000000</td>\n",
       "      <td>8077.000000</td>\n",
       "      <td>8077.000000</td>\n",
       "      <td>8077.000000</td>\n",
       "    </tr>\n",
       "    <tr>\n",
       "      <th>mean</th>\n",
       "      <td>11.615080</td>\n",
       "      <td>5.947134</td>\n",
       "      <td>0.070818</td>\n",
       "      <td>0.083075</td>\n",
       "    </tr>\n",
       "    <tr>\n",
       "      <th>std</th>\n",
       "      <td>5.734879</td>\n",
       "      <td>0.224333</td>\n",
       "      <td>0.256537</td>\n",
       "      <td>0.276013</td>\n",
       "    </tr>\n",
       "    <tr>\n",
       "      <th>min</th>\n",
       "      <td>0.000000</td>\n",
       "      <td>5.000000</td>\n",
       "      <td>0.000000</td>\n",
       "      <td>0.000000</td>\n",
       "    </tr>\n",
       "    <tr>\n",
       "      <th>25%</th>\n",
       "      <td>7.000000</td>\n",
       "      <td>6.000000</td>\n",
       "      <td>0.000000</td>\n",
       "      <td>0.000000</td>\n",
       "    </tr>\n",
       "    <tr>\n",
       "      <th>50%</th>\n",
       "      <td>13.000000</td>\n",
       "      <td>6.000000</td>\n",
       "      <td>0.000000</td>\n",
       "      <td>0.000000</td>\n",
       "    </tr>\n",
       "    <tr>\n",
       "      <th>75%</th>\n",
       "      <td>15.000000</td>\n",
       "      <td>6.000000</td>\n",
       "      <td>0.000000</td>\n",
       "      <td>0.000000</td>\n",
       "    </tr>\n",
       "    <tr>\n",
       "      <th>max</th>\n",
       "      <td>23.000000</td>\n",
       "      <td>7.000000</td>\n",
       "      <td>1.000000</td>\n",
       "      <td>1.000000</td>\n",
       "    </tr>\n",
       "  </tbody>\n",
       "</table>\n",
       "</div>"
      ],
      "text/plain": [
       "              hour  platform_os          yes           no\n",
       "count  8077.000000  8077.000000  8077.000000  8077.000000\n",
       "mean     11.615080     5.947134     0.070818     0.083075\n",
       "std       5.734879     0.224333     0.256537     0.276013\n",
       "min       0.000000     5.000000     0.000000     0.000000\n",
       "25%       7.000000     6.000000     0.000000     0.000000\n",
       "50%      13.000000     6.000000     0.000000     0.000000\n",
       "75%      15.000000     6.000000     0.000000     0.000000\n",
       "max      23.000000     7.000000     1.000000     1.000000"
      ]
     },
     "execution_count": 31,
     "metadata": {},
     "output_type": "execute_result"
    }
   ],
   "source": [
    "# Get the basic statistics to compare when the data is changed.\n",
    "statistics_original = df_adSmartABdata.describe()\n",
    "statistics_original"
   ]
  },
  {
   "cell_type": "code",
   "execution_count": 32,
   "id": "22477a06",
   "metadata": {
    "ExecuteTime": {
     "end_time": "2023-03-03T20:56:07.184381Z",
     "start_time": "2023-03-03T20:56:07.181633Z"
    }
   },
   "outputs": [],
   "source": [
    "# I decide not to do this right now since I don't know what benefit\n",
    "# would, but kept it in here to show my thought proces\n",
    "\n",
    "# The documentation states the the fist is the primary key \n",
    "# (unique id) so the auction will be set as primary key\n",
    "#df_adSmartABdata = df_adSmartABdata.set_index('auction_id')"
   ]
  },
  {
   "cell_type": "code",
   "execution_count": 33,
   "id": "656b2001",
   "metadata": {
    "ExecuteTime": {
     "end_time": "2023-03-03T20:56:07.593150Z",
     "start_time": "2023-03-03T20:56:07.581836Z"
    }
   },
   "outputs": [],
   "source": [
    "# Convert the columns that are object to a specific type so the \n",
    "# developer can use and specific functions for the type of \n",
    "# can be easily used on the specific column\n",
    "#\n",
    "# I have decided not to convert hours for right now since they are \n",
    "# complicated and I want to spend the time other assignments\n",
    "#\n",
    "df_adSmartABdata.auction_id = df_adSmartABdata.auction_id.astype(dtype='string')\n",
    "df_adSmartABdata.date = pd.to_datetime(df_adSmartABdata.date)\n",
    "#df_adSmartABdata.hour = pd.to_datetime(df_adSmartABdata.hour, format='%H')\n",
    "df_adSmartABdata.device_make = df_adSmartABdata.device_make.astype(dtype='string')\n",
    "df_adSmartABdata.browser = df_adSmartABdata.browser.astype(dtype='string')"
   ]
  },
  {
   "cell_type": "code",
   "execution_count": 34,
   "id": "dcc50c2f",
   "metadata": {
    "ExecuteTime": {
     "end_time": "2023-03-03T20:56:07.947193Z",
     "start_time": "2023-03-03T20:56:07.932873Z"
    }
   },
   "outputs": [
    {
     "name": "stdout",
     "output_type": "stream",
     "text": [
      "<class 'pandas.core.frame.DataFrame'>\n",
      "RangeIndex: 8077 entries, 0 to 8076\n",
      "Data columns (total 9 columns):\n",
      " #   Column       Non-Null Count  Dtype         \n",
      "---  ------       --------------  -----         \n",
      " 0   auction_id   8077 non-null   string        \n",
      " 1   experiment   8077 non-null   object        \n",
      " 2   date         8077 non-null   datetime64[ns]\n",
      " 3   hour         8077 non-null   int64         \n",
      " 4   device_make  8077 non-null   string        \n",
      " 5   platform_os  8077 non-null   int64         \n",
      " 6   browser      8077 non-null   string        \n",
      " 7   yes          8077 non-null   int64         \n",
      " 8   no           8077 non-null   int64         \n",
      "dtypes: datetime64[ns](1), int64(4), object(1), string(3)\n",
      "memory usage: 568.0+ KB\n"
     ]
    }
   ],
   "source": [
    "df_adSmartABdata.info()"
   ]
  },
  {
   "cell_type": "code",
   "execution_count": 35,
   "id": "d0cfa9b6",
   "metadata": {
    "ExecuteTime": {
     "end_time": "2023-03-03T20:56:08.335679Z",
     "start_time": "2023-03-03T20:56:08.316041Z"
    }
   },
   "outputs": [
    {
     "data": {
      "text/html": [
       "<div>\n",
       "<style scoped>\n",
       "    .dataframe tbody tr th:only-of-type {\n",
       "        vertical-align: middle;\n",
       "    }\n",
       "\n",
       "    .dataframe tbody tr th {\n",
       "        vertical-align: top;\n",
       "    }\n",
       "\n",
       "    .dataframe thead th {\n",
       "        text-align: right;\n",
       "    }\n",
       "</style>\n",
       "<table border=\"1\" class=\"dataframe\">\n",
       "  <thead>\n",
       "    <tr style=\"text-align: right;\">\n",
       "      <th></th>\n",
       "      <th>hour</th>\n",
       "      <th>platform_os</th>\n",
       "      <th>yes</th>\n",
       "      <th>no</th>\n",
       "    </tr>\n",
       "  </thead>\n",
       "  <tbody>\n",
       "    <tr>\n",
       "      <th>count</th>\n",
       "      <td>8077.000000</td>\n",
       "      <td>8077.000000</td>\n",
       "      <td>8077.000000</td>\n",
       "      <td>8077.000000</td>\n",
       "    </tr>\n",
       "    <tr>\n",
       "      <th>mean</th>\n",
       "      <td>11.615080</td>\n",
       "      <td>5.947134</td>\n",
       "      <td>0.070818</td>\n",
       "      <td>0.083075</td>\n",
       "    </tr>\n",
       "    <tr>\n",
       "      <th>std</th>\n",
       "      <td>5.734879</td>\n",
       "      <td>0.224333</td>\n",
       "      <td>0.256537</td>\n",
       "      <td>0.276013</td>\n",
       "    </tr>\n",
       "    <tr>\n",
       "      <th>min</th>\n",
       "      <td>0.000000</td>\n",
       "      <td>5.000000</td>\n",
       "      <td>0.000000</td>\n",
       "      <td>0.000000</td>\n",
       "    </tr>\n",
       "    <tr>\n",
       "      <th>25%</th>\n",
       "      <td>7.000000</td>\n",
       "      <td>6.000000</td>\n",
       "      <td>0.000000</td>\n",
       "      <td>0.000000</td>\n",
       "    </tr>\n",
       "    <tr>\n",
       "      <th>50%</th>\n",
       "      <td>13.000000</td>\n",
       "      <td>6.000000</td>\n",
       "      <td>0.000000</td>\n",
       "      <td>0.000000</td>\n",
       "    </tr>\n",
       "    <tr>\n",
       "      <th>75%</th>\n",
       "      <td>15.000000</td>\n",
       "      <td>6.000000</td>\n",
       "      <td>0.000000</td>\n",
       "      <td>0.000000</td>\n",
       "    </tr>\n",
       "    <tr>\n",
       "      <th>max</th>\n",
       "      <td>23.000000</td>\n",
       "      <td>7.000000</td>\n",
       "      <td>1.000000</td>\n",
       "      <td>1.000000</td>\n",
       "    </tr>\n",
       "  </tbody>\n",
       "</table>\n",
       "</div>"
      ],
      "text/plain": [
       "              hour  platform_os          yes           no\n",
       "count  8077.000000  8077.000000  8077.000000  8077.000000\n",
       "mean     11.615080     5.947134     0.070818     0.083075\n",
       "std       5.734879     0.224333     0.256537     0.276013\n",
       "min       0.000000     5.000000     0.000000     0.000000\n",
       "25%       7.000000     6.000000     0.000000     0.000000\n",
       "50%      13.000000     6.000000     0.000000     0.000000\n",
       "75%      15.000000     6.000000     0.000000     0.000000\n",
       "max      23.000000     7.000000     1.000000     1.000000"
      ]
     },
     "execution_count": 35,
     "metadata": {},
     "output_type": "execute_result"
    }
   ],
   "source": [
    "statistics_new = df_adSmartABdata.describe()\n",
    "statistics_original"
   ]
  },
  {
   "cell_type": "code",
   "execution_count": 36,
   "id": "78e61b56",
   "metadata": {
    "ExecuteTime": {
     "end_time": "2023-03-03T20:56:08.663726Z",
     "start_time": "2023-03-03T20:56:08.652272Z"
    }
   },
   "outputs": [
    {
     "data": {
      "text/html": [
       "<div>\n",
       "<style scoped>\n",
       "    .dataframe tbody tr th:only-of-type {\n",
       "        vertical-align: middle;\n",
       "    }\n",
       "\n",
       "    .dataframe tbody tr th {\n",
       "        vertical-align: top;\n",
       "    }\n",
       "\n",
       "    .dataframe thead th {\n",
       "        text-align: right;\n",
       "    }\n",
       "</style>\n",
       "<table border=\"1\" class=\"dataframe\">\n",
       "  <thead>\n",
       "    <tr style=\"text-align: right;\">\n",
       "      <th></th>\n",
       "      <th>hour</th>\n",
       "      <th>platform_os</th>\n",
       "      <th>yes</th>\n",
       "      <th>no</th>\n",
       "    </tr>\n",
       "  </thead>\n",
       "  <tbody>\n",
       "    <tr>\n",
       "      <th>count</th>\n",
       "      <td>True</td>\n",
       "      <td>True</td>\n",
       "      <td>True</td>\n",
       "      <td>True</td>\n",
       "    </tr>\n",
       "    <tr>\n",
       "      <th>mean</th>\n",
       "      <td>True</td>\n",
       "      <td>True</td>\n",
       "      <td>True</td>\n",
       "      <td>True</td>\n",
       "    </tr>\n",
       "    <tr>\n",
       "      <th>std</th>\n",
       "      <td>True</td>\n",
       "      <td>True</td>\n",
       "      <td>True</td>\n",
       "      <td>True</td>\n",
       "    </tr>\n",
       "    <tr>\n",
       "      <th>min</th>\n",
       "      <td>True</td>\n",
       "      <td>True</td>\n",
       "      <td>True</td>\n",
       "      <td>True</td>\n",
       "    </tr>\n",
       "    <tr>\n",
       "      <th>25%</th>\n",
       "      <td>True</td>\n",
       "      <td>True</td>\n",
       "      <td>True</td>\n",
       "      <td>True</td>\n",
       "    </tr>\n",
       "    <tr>\n",
       "      <th>50%</th>\n",
       "      <td>True</td>\n",
       "      <td>True</td>\n",
       "      <td>True</td>\n",
       "      <td>True</td>\n",
       "    </tr>\n",
       "    <tr>\n",
       "      <th>75%</th>\n",
       "      <td>True</td>\n",
       "      <td>True</td>\n",
       "      <td>True</td>\n",
       "      <td>True</td>\n",
       "    </tr>\n",
       "    <tr>\n",
       "      <th>max</th>\n",
       "      <td>True</td>\n",
       "      <td>True</td>\n",
       "      <td>True</td>\n",
       "      <td>True</td>\n",
       "    </tr>\n",
       "  </tbody>\n",
       "</table>\n",
       "</div>"
      ],
      "text/plain": [
       "       hour  platform_os   yes    no\n",
       "count  True         True  True  True\n",
       "mean   True         True  True  True\n",
       "std    True         True  True  True\n",
       "min    True         True  True  True\n",
       "25%    True         True  True  True\n",
       "50%    True         True  True  True\n",
       "75%    True         True  True  True\n",
       "max    True         True  True  True"
      ]
     },
     "execution_count": 36,
     "metadata": {},
     "output_type": "execute_result"
    }
   ],
   "source": [
    "# Had to get rid of the hour since I changed the datatype.  Since I \n",
    "# coded it the only tranformation was to change the data type.  The \n",
    "# data is still same so I got rid of the data and validated it.\n",
    "# statistics_new == statistics_original.drop('hour', axis=1)\n",
    "\n",
    "#\n",
    "# Purpose to validate that dataset has not changed.\n",
    "#\n",
    "statistics_new == statistics_original"
   ]
  },
  {
   "cell_type": "markdown",
   "id": "15834839",
   "metadata": {
    "ExecuteTime": {
     "end_time": "2023-02-22T19:58:09.006185Z",
     "start_time": "2023-02-22T19:58:09.001143Z"
    }
   },
   "source": [
    "## Section that will show the count for values for certain columns\n",
    "\n",
    "This information may be used later, but I want to put it in the area \n",
    "where I was initially looking at the data"
   ]
  },
  {
   "cell_type": "code",
   "execution_count": 96,
   "id": "4cdb7da1",
   "metadata": {
    "ExecuteTime": {
     "end_time": "2023-03-04T03:53:31.852456Z",
     "start_time": "2023-03-04T03:53:31.692939Z"
    }
   },
   "outputs": [
    {
     "data": {
      "text/plain": [
       "control    4071\n",
       "exposed    4006\n",
       "Name: experiment, dtype: int64"
      ]
     },
     "execution_count": 96,
     "metadata": {},
     "output_type": "execute_result"
    }
   ],
   "source": [
    "# Show types for column experiment\n",
    "df_adSmartABdata_cleanup.experiment.value_counts()"
   ]
  },
  {
   "cell_type": "code",
   "execution_count": 38,
   "id": "f2f96c93",
   "metadata": {
    "ExecuteTime": {
     "end_time": "2023-03-03T20:56:09.380073Z",
     "start_time": "2023-03-03T20:56:09.371346Z"
    }
   },
   "outputs": [
    {
     "data": {
      "text/plain": [
       "Generic Smartphone     4743\n",
       "iPhone                  433\n",
       "Samsung SM-G960F        203\n",
       "Samsung SM-G973F        154\n",
       "Samsung SM-G950F        148\n",
       "                       ... \n",
       "Swift 2 Plus              1\n",
       "Samsung SM-G955U1         1\n",
       "Samsung SM-G9730          1\n",
       "XiaoMi Redmi S2           1\n",
       "XiaoMi Redmi Note 5       1\n",
       "Name: device_make, Length: 269, dtype: Int64"
      ]
     },
     "execution_count": 38,
     "metadata": {},
     "output_type": "execute_result"
    }
   ],
   "source": [
    "# Show value counts for device_make\n",
    "df_adSmartABdata.device_make.value_counts()"
   ]
  },
  {
   "cell_type": "code",
   "execution_count": 39,
   "id": "53381dea",
   "metadata": {
    "ExecuteTime": {
     "end_time": "2023-03-03T20:56:09.557622Z",
     "start_time": "2023-03-03T20:56:09.550443Z"
    }
   },
   "outputs": [
    {
     "data": {
      "text/plain": [
       "Chrome Mobile                 4554\n",
       "Chrome Mobile WebView         1489\n",
       "Samsung Internet               824\n",
       "Facebook                       764\n",
       "Mobile Safari                  337\n",
       "Chrome Mobile iOS               51\n",
       "Mobile Safari UI/WKWebView      44\n",
       "Chrome                           3\n",
       "Pinterest                        3\n",
       "Opera Mobile                     3\n",
       "Opera Mini                       1\n",
       "Edge Mobile                      1\n",
       "Android                          1\n",
       "Firefox Mobile                   1\n",
       "Puffin                           1\n",
       "Name: browser, dtype: Int64"
      ]
     },
     "execution_count": 39,
     "metadata": {},
     "output_type": "execute_result"
    }
   ],
   "source": [
    "# Show value for browser.  This columns needs to be fixed since \n",
    "# facebook is not a browser\n",
    "df_adSmartABdata.browser.value_counts()"
   ]
  },
  {
   "cell_type": "code",
   "execution_count": 40,
   "id": "b3fc23b2",
   "metadata": {
    "ExecuteTime": {
     "end_time": "2023-03-03T20:56:09.685276Z",
     "start_time": "2023-03-03T20:56:09.676026Z"
    }
   },
   "outputs": [
    {
     "data": {
      "text/html": [
       "<div>\n",
       "<style scoped>\n",
       "    .dataframe tbody tr th:only-of-type {\n",
       "        vertical-align: middle;\n",
       "    }\n",
       "\n",
       "    .dataframe tbody tr th {\n",
       "        vertical-align: top;\n",
       "    }\n",
       "\n",
       "    .dataframe thead th {\n",
       "        text-align: right;\n",
       "    }\n",
       "</style>\n",
       "<table border=\"1\" class=\"dataframe\">\n",
       "  <thead>\n",
       "    <tr style=\"text-align: right;\">\n",
       "      <th></th>\n",
       "      <th>hour</th>\n",
       "    </tr>\n",
       "  </thead>\n",
       "  <tbody>\n",
       "    <tr>\n",
       "      <th>0</th>\n",
       "      <td>194</td>\n",
       "    </tr>\n",
       "    <tr>\n",
       "      <th>1</th>\n",
       "      <td>222</td>\n",
       "    </tr>\n",
       "    <tr>\n",
       "      <th>2</th>\n",
       "      <td>230</td>\n",
       "    </tr>\n",
       "    <tr>\n",
       "      <th>3</th>\n",
       "      <td>266</td>\n",
       "    </tr>\n",
       "    <tr>\n",
       "      <th>4</th>\n",
       "      <td>281</td>\n",
       "    </tr>\n",
       "    <tr>\n",
       "      <th>5</th>\n",
       "      <td>302</td>\n",
       "    </tr>\n",
       "    <tr>\n",
       "      <th>6</th>\n",
       "      <td>327</td>\n",
       "    </tr>\n",
       "    <tr>\n",
       "      <th>7</th>\n",
       "      <td>381</td>\n",
       "    </tr>\n",
       "    <tr>\n",
       "      <th>8</th>\n",
       "      <td>394</td>\n",
       "    </tr>\n",
       "    <tr>\n",
       "      <th>9</th>\n",
       "      <td>346</td>\n",
       "    </tr>\n",
       "    <tr>\n",
       "      <th>10</th>\n",
       "      <td>336</td>\n",
       "    </tr>\n",
       "    <tr>\n",
       "      <th>11</th>\n",
       "      <td>282</td>\n",
       "    </tr>\n",
       "    <tr>\n",
       "      <th>12</th>\n",
       "      <td>278</td>\n",
       "    </tr>\n",
       "    <tr>\n",
       "      <th>13</th>\n",
       "      <td>290</td>\n",
       "    </tr>\n",
       "    <tr>\n",
       "      <th>14</th>\n",
       "      <td>319</td>\n",
       "    </tr>\n",
       "    <tr>\n",
       "      <th>15</th>\n",
       "      <td>1895</td>\n",
       "    </tr>\n",
       "    <tr>\n",
       "      <th>16</th>\n",
       "      <td>335</td>\n",
       "    </tr>\n",
       "    <tr>\n",
       "      <th>17</th>\n",
       "      <td>263</td>\n",
       "    </tr>\n",
       "    <tr>\n",
       "      <th>18</th>\n",
       "      <td>273</td>\n",
       "    </tr>\n",
       "    <tr>\n",
       "      <th>19</th>\n",
       "      <td>227</td>\n",
       "    </tr>\n",
       "    <tr>\n",
       "      <th>20</th>\n",
       "      <td>264</td>\n",
       "    </tr>\n",
       "    <tr>\n",
       "      <th>21</th>\n",
       "      <td>206</td>\n",
       "    </tr>\n",
       "    <tr>\n",
       "      <th>22</th>\n",
       "      <td>135</td>\n",
       "    </tr>\n",
       "    <tr>\n",
       "      <th>23</th>\n",
       "      <td>31</td>\n",
       "    </tr>\n",
       "  </tbody>\n",
       "</table>\n",
       "</div>"
      ],
      "text/plain": [
       "    hour\n",
       "0    194\n",
       "1    222\n",
       "2    230\n",
       "3    266\n",
       "4    281\n",
       "5    302\n",
       "6    327\n",
       "7    381\n",
       "8    394\n",
       "9    346\n",
       "10   336\n",
       "11   282\n",
       "12   278\n",
       "13   290\n",
       "14   319\n",
       "15  1895\n",
       "16   335\n",
       "17   263\n",
       "18   273\n",
       "19   227\n",
       "20   264\n",
       "21   206\n",
       "22   135\n",
       "23    31"
      ]
     },
     "execution_count": 40,
     "metadata": {},
     "output_type": "execute_result"
    }
   ],
   "source": [
    "# Shows the ads views during speicific hours -- Note that the 3PM is \n",
    "# 4 times higher than everybody else.\n",
    "pd.DataFrame(df_adSmartABdata['hour'].value_counts()).sort_index()"
   ]
  },
  {
   "cell_type": "markdown",
   "id": "5975c029",
   "metadata": {},
   "source": [
    "## Analysis of section 1\n",
    "The goal of section was to load the data and perform an initial analysis.  Also,  Datatypes were changedto representive of the data so it more descriptive and easier to use data type specific function on those columns.\n",
    "\n",
    "### Discrepancies in the data\n",
    "> * hour -- stores hours in military time ( 0-23).  It did not state in the documentation explicity \n",
    "> * platform_os -- Is just a number this documentation.  There is no documentation about what it menas\n",
    "> * browser -- Some of this data may inaccurate since facebook was considered a browser, but is an application\n",
    "> * \"yes\" and \"no\" -- It mentioned in different place, but if both are 0 then no data was entered\n",
    "> * hour -- 1500 is showing 3 times more than any other.  Could a lot\n",
    "of people be using the site or could this be DDOS Attack or somehting else.\n",
    "\n",
    "### Enhancements\n",
    "> * experiment -- Can be transformed into a category.  For further processing down the road, I might provide a function to convert the column to a category\n",
    "> * \"yes\" and \"no\" Can be transformed into a category.  For further processing down the road, I might provide a function to convet the column to a category\n"
   ]
  },
  {
   "cell_type": "code",
   "execution_count": 41,
   "id": "1b63d003",
   "metadata": {
    "ExecuteTime": {
     "end_time": "2023-03-03T20:56:10.030055Z",
     "start_time": "2023-03-03T20:56:10.027437Z"
    }
   },
   "outputs": [],
   "source": [
    "## Data Cleanup"
   ]
  },
  {
   "cell_type": "code",
   "execution_count": 42,
   "id": "b80f3dbd",
   "metadata": {
    "ExecuteTime": {
     "end_time": "2023-03-03T20:56:10.176640Z",
     "start_time": "2023-03-03T20:56:10.171655Z"
    }
   },
   "outputs": [],
   "source": [
    "df_adSmartABdata_cleanup = df_adSmartABdata.copy()"
   ]
  },
  {
   "cell_type": "markdown",
   "id": "a09cc5cf",
   "metadata": {},
   "source": [
    "### Step 1 -- Check for unique data\n",
    "Checked each row to make sure there were no duplicates.  \n",
    "\n",
    "I also started wondering if the user could have put in two answers ( ex. one from one machine and one from the other machine).  Even with dropping the primary key there was no way to determine that"
   ]
  },
  {
   "cell_type": "code",
   "execution_count": 99,
   "id": "822d6b7b",
   "metadata": {
    "ExecuteTime": {
     "end_time": "2023-03-04T04:01:55.641561Z",
     "start_time": "2023-03-04T04:01:55.624763Z"
    }
   },
   "outputs": [
    {
     "name": "stdout",
     "output_type": "stream",
     "text": [
      "Before/After dropping duplicates: original_size = 72693 : new_size is 72693\n"
     ]
    }
   ],
   "source": [
    "# original_size = df_adSmartABdata_cleanup.size\n",
    "original_size = df_adSmartABdata.size\n",
    "df_adSmartABdata_cleanup = df_adSmartABdata_cleanup.drop_duplicates()\n",
    "new_size = df_adSmartABdata_cleanup.size \n",
    "print(f\"Before/After dropping duplicates: original_size = {original_size} : new_size is {new_size}\")"
   ]
  },
  {
   "cell_type": "markdown",
   "id": "121a7ecc",
   "metadata": {},
   "source": [
    "### Step 2 -- Check for missing values\n",
    "\n",
    "After examining the data I have decided to add the empty string check\n",
    "dataframe to make sure that experiment and browser columns did not have any empty string .  The isna does not check for empty strings."
   ]
  },
  {
   "cell_type": "code",
   "execution_count": 44,
   "id": "6fbe2129",
   "metadata": {
    "ExecuteTime": {
     "end_time": "2023-03-03T20:56:10.837466Z",
     "start_time": "2023-03-03T20:56:10.827811Z"
    }
   },
   "outputs": [
    {
     "data": {
      "text/plain": [
       "auction_id     0\n",
       "experiment     0\n",
       "date           0\n",
       "hour           0\n",
       "device_make    0\n",
       "platform_os    0\n",
       "browser        0\n",
       "yes            0\n",
       "no             0\n",
       "dtype: int64"
      ]
     },
     "execution_count": 44,
     "metadata": {},
     "output_type": "execute_result"
    }
   ],
   "source": [
    "df_adSmartABdata_cleanup.isna().sum()"
   ]
  },
  {
   "cell_type": "code",
   "execution_count": 45,
   "id": "00111b42",
   "metadata": {
    "ExecuteTime": {
     "end_time": "2023-03-03T20:56:10.999350Z",
     "start_time": "2023-03-03T20:56:10.988321Z"
    }
   },
   "outputs": [
    {
     "data": {
      "text/plain": [
       "auction_id     0\n",
       "experiment     0\n",
       "date           0\n",
       "hour           0\n",
       "device_make    0\n",
       "platform_os    0\n",
       "browser        0\n",
       "yes            0\n",
       "no             0\n",
       "dtype: int64"
      ]
     },
     "execution_count": 45,
     "metadata": {},
     "output_type": "execute_result"
    }
   ],
   "source": [
    "df_adSmartABdata_cleanup.eq('').sum()"
   ]
  },
  {
   "cell_type": "markdown",
   "id": "d2c519fb",
   "metadata": {},
   "source": [
    "### Step 3 -- Outliers\n",
    "Even though I don't see how they can be outlier in this dataset.  I do\n",
    "want to check the possibility since it may show fraudiliant activty or \n",
    "Human Error\n",
    "\n",
    "The difference between the earliest and latest date is about week which seem plausible, but I would check with people who created the \n",
    "survey."
   ]
  },
  {
   "cell_type": "code",
   "execution_count": 46,
   "id": "3bb7de6d",
   "metadata": {
    "ExecuteTime": {
     "end_time": "2023-03-03T20:56:11.680189Z",
     "start_time": "2023-03-03T20:56:11.675256Z"
    }
   },
   "outputs": [
    {
     "name": "stdout",
     "output_type": "stream",
     "text": [
      "The min date is 2020-07-03 00:00:00\n",
      "The max data is 2020-07-10 00:00:00\n"
     ]
    }
   ],
   "source": [
    "print(\"The min date is \" + str(df_adSmartABdata_cleanup.date.min()))\n",
    "print(\"The max data is \" + str(df_adSmartABdata_cleanup.date.max()))"
   ]
  },
  {
   "cell_type": "code",
   "execution_count": 47,
   "id": "c01c2a6d",
   "metadata": {
    "ExecuteTime": {
     "end_time": "2023-03-03T20:56:11.937092Z",
     "start_time": "2023-03-03T20:56:11.917914Z"
    }
   },
   "outputs": [
    {
     "data": {
      "text/html": [
       "<div>\n",
       "<style scoped>\n",
       "    .dataframe tbody tr th:only-of-type {\n",
       "        vertical-align: middle;\n",
       "    }\n",
       "\n",
       "    .dataframe tbody tr th {\n",
       "        vertical-align: top;\n",
       "    }\n",
       "\n",
       "    .dataframe thead th {\n",
       "        text-align: right;\n",
       "    }\n",
       "</style>\n",
       "<table border=\"1\" class=\"dataframe\">\n",
       "  <thead>\n",
       "    <tr style=\"text-align: right;\">\n",
       "      <th></th>\n",
       "      <th>hour</th>\n",
       "      <th>platform_os</th>\n",
       "      <th>yes</th>\n",
       "      <th>no</th>\n",
       "    </tr>\n",
       "  </thead>\n",
       "  <tbody>\n",
       "    <tr>\n",
       "      <th>count</th>\n",
       "      <td>True</td>\n",
       "      <td>True</td>\n",
       "      <td>True</td>\n",
       "      <td>True</td>\n",
       "    </tr>\n",
       "    <tr>\n",
       "      <th>mean</th>\n",
       "      <td>True</td>\n",
       "      <td>True</td>\n",
       "      <td>True</td>\n",
       "      <td>True</td>\n",
       "    </tr>\n",
       "    <tr>\n",
       "      <th>std</th>\n",
       "      <td>True</td>\n",
       "      <td>True</td>\n",
       "      <td>True</td>\n",
       "      <td>True</td>\n",
       "    </tr>\n",
       "    <tr>\n",
       "      <th>min</th>\n",
       "      <td>True</td>\n",
       "      <td>True</td>\n",
       "      <td>True</td>\n",
       "      <td>True</td>\n",
       "    </tr>\n",
       "    <tr>\n",
       "      <th>25%</th>\n",
       "      <td>True</td>\n",
       "      <td>True</td>\n",
       "      <td>True</td>\n",
       "      <td>True</td>\n",
       "    </tr>\n",
       "    <tr>\n",
       "      <th>50%</th>\n",
       "      <td>True</td>\n",
       "      <td>True</td>\n",
       "      <td>True</td>\n",
       "      <td>True</td>\n",
       "    </tr>\n",
       "    <tr>\n",
       "      <th>75%</th>\n",
       "      <td>True</td>\n",
       "      <td>True</td>\n",
       "      <td>True</td>\n",
       "      <td>True</td>\n",
       "    </tr>\n",
       "    <tr>\n",
       "      <th>max</th>\n",
       "      <td>True</td>\n",
       "      <td>True</td>\n",
       "      <td>True</td>\n",
       "      <td>True</td>\n",
       "    </tr>\n",
       "  </tbody>\n",
       "</table>\n",
       "</div>"
      ],
      "text/plain": [
       "       hour  platform_os   yes    no\n",
       "count  True         True  True  True\n",
       "mean   True         True  True  True\n",
       "std    True         True  True  True\n",
       "min    True         True  True  True\n",
       "25%    True         True  True  True\n",
       "50%    True         True  True  True\n",
       "75%    True         True  True  True\n",
       "max    True         True  True  True"
      ]
     },
     "execution_count": 47,
     "metadata": {},
     "output_type": "execute_result"
    }
   ],
   "source": [
    "statistics_cleanup_table = df_adSmartABdata_cleanup.describe()\n",
    "statistics_new == statistics_cleanup_table"
   ]
  },
  {
   "cell_type": "markdown",
   "id": "a543ae30",
   "metadata": {
    "ExecuteTime": {
     "end_time": "2023-03-02T18:08:12.600555Z",
     "start_time": "2023-03-02T18:08:12.595150Z"
    }
   },
   "source": [
    "# Analysis of Cleanup section.\n",
    "The data was clean and there were no surpises which is fantastic."
   ]
  },
  {
   "cell_type": "markdown",
   "id": "a5735ca9",
   "metadata": {},
   "source": [
    "# Initial Analysis\n",
    "\n",
    "In this section the purpose is to get an idea of how the  data is \n",
    "balanced.\n"
   ]
  },
  {
   "cell_type": "code",
   "execution_count": 48,
   "id": "8d42a426",
   "metadata": {
    "ExecuteTime": {
     "end_time": "2023-03-03T20:56:12.638609Z",
     "start_time": "2023-03-03T20:56:12.539705Z"
    }
   },
   "outputs": [
    {
     "data": {
      "text/html": [
       "<div>\n",
       "<style scoped>\n",
       "    .dataframe tbody tr th:only-of-type {\n",
       "        vertical-align: middle;\n",
       "    }\n",
       "\n",
       "    .dataframe tbody tr th {\n",
       "        vertical-align: top;\n",
       "    }\n",
       "\n",
       "    .dataframe thead th {\n",
       "        text-align: right;\n",
       "    }\n",
       "</style>\n",
       "<table border=\"1\" class=\"dataframe\">\n",
       "  <thead>\n",
       "    <tr style=\"text-align: right;\">\n",
       "      <th></th>\n",
       "      <th>Experiment</th>\n",
       "      <th>Yes</th>\n",
       "      <th>No</th>\n",
       "      <th>Not Answered</th>\n",
       "    </tr>\n",
       "  </thead>\n",
       "  <tbody>\n",
       "    <tr>\n",
       "      <th>0</th>\n",
       "      <td>All Rows ( Control and Exposed)</td>\n",
       "      <td>572</td>\n",
       "      <td>671</td>\n",
       "      <td>6834</td>\n",
       "    </tr>\n",
       "    <tr>\n",
       "      <th>1</th>\n",
       "      <td>Control</td>\n",
       "      <td>264</td>\n",
       "      <td>322</td>\n",
       "      <td>3485</td>\n",
       "    </tr>\n",
       "    <tr>\n",
       "      <th>2</th>\n",
       "      <td>Exposed</td>\n",
       "      <td>308</td>\n",
       "      <td>349</td>\n",
       "      <td>3349</td>\n",
       "    </tr>\n",
       "  </tbody>\n",
       "</table>\n",
       "</div>"
      ],
      "text/plain": [
       "                        Experiment  Yes   No  Not Answered\n",
       "0  All Rows ( Control and Exposed)  572  671          6834\n",
       "1                          Control  264  322          3485\n",
       "2                          Exposed  308  349          3349"
      ]
     },
     "execution_count": 48,
     "metadata": {},
     "output_type": "execute_result"
    }
   ],
   "source": [
    "df_analysis = pd.DataFrame(columns=['Experiment', 'Yes', 'No', 'Not Answered'])\n",
    "\n",
    "row = []\n",
    "row.append(\"All Rows ( Control and Exposed)\")\n",
    "row.append(df_adSmartABdata_cleanup.query(\" yes == 1\").count()[0])\n",
    "row.append(df_adSmartABdata_cleanup.query(\" no == 1\").count()[0])\n",
    "row.append(df_adSmartABdata_cleanup.query(\" yes == 0 and no == 0\").count()[0])\n",
    "df_analysis.loc[0] = row\n",
    "\n",
    "row = []\n",
    "row.append(\"Control\")\n",
    "row.append(df_adSmartABdata_cleanup.query(\" yes == 1 and experiment == 'control'\").count()[0])\n",
    "row.append(df_adSmartABdata_cleanup.query(\" no == 1 and experiment == 'control'\").count()[0])\n",
    "row.append(df_adSmartABdata_cleanup.query(\" yes == 0 and no == 0 and experiment == 'control'\").count()[0])\n",
    "df_analysis.loc[1] = row\n",
    "\n",
    "row = []\n",
    "row.append(\"Exposed\")\n",
    "row.append(df_adSmartABdata_cleanup.query(\" yes == 1 and experiment == 'exposed'\").count()[0])\n",
    "row.append(df_adSmartABdata_cleanup.query(\" no == 1 and experiment == 'exposed'\").count()[0])\n",
    "row.append(df_adSmartABdata_cleanup.query(\" yes == 0 and no == 0 and experiment == 'exposed'\").count()[0])\n",
    "df_analysis.loc[2] = row\n",
    "\n",
    "df_analysis"
   ]
  },
  {
   "cell_type": "code",
   "execution_count": 49,
   "id": "4c3198a6",
   "metadata": {
    "ExecuteTime": {
     "end_time": "2023-03-03T20:56:13.850381Z",
     "start_time": "2023-03-03T20:56:12.747995Z"
    }
   },
   "outputs": [
    {
     "data": {
      "text/plain": [
       "[]"
      ]
     },
     "execution_count": 49,
     "metadata": {},
     "output_type": "execute_result"
    },
    {
     "data": {
      "image/png": "[encoded data removed]",
      "text/plain": [
       "<Figure size 640x480 with 1 Axes>"
      ]
     },
     "metadata": {},
     "output_type": "display_data"
    }
   ],
   "source": [
    "ax = df_analysis.plot.bar()\n",
    "ax.set_xticklabels(df_analysis.Experiment)\n",
    "ax.plot()\n"
   ]
  },
  {
   "cell_type": "code",
   "execution_count": 50,
   "id": "e1996a65",
   "metadata": {
    "ExecuteTime": {
     "end_time": "2023-03-03T20:56:13.860876Z",
     "start_time": "2023-03-03T20:56:13.852998Z"
    }
   },
   "outputs": [
    {
     "data": {
      "text/html": [
       "<div>\n",
       "<style scoped>\n",
       "    .dataframe tbody tr th:only-of-type {\n",
       "        vertical-align: middle;\n",
       "    }\n",
       "\n",
       "    .dataframe tbody tr th {\n",
       "        vertical-align: top;\n",
       "    }\n",
       "\n",
       "    .dataframe thead th {\n",
       "        text-align: right;\n",
       "    }\n",
       "</style>\n",
       "<table border=\"1\" class=\"dataframe\">\n",
       "  <thead>\n",
       "    <tr style=\"text-align: right;\">\n",
       "      <th></th>\n",
       "      <th>Experiment</th>\n",
       "      <th>Yes</th>\n",
       "      <th>No</th>\n",
       "      <th>Not Answered</th>\n",
       "    </tr>\n",
       "  </thead>\n",
       "  <tbody>\n",
       "    <tr>\n",
       "      <th>0</th>\n",
       "      <td>All Rows ( Control and Exposed)</td>\n",
       "      <td>572</td>\n",
       "      <td>671</td>\n",
       "      <td>6834</td>\n",
       "    </tr>\n",
       "    <tr>\n",
       "      <th>1</th>\n",
       "      <td>Control</td>\n",
       "      <td>264</td>\n",
       "      <td>322</td>\n",
       "      <td>3485</td>\n",
       "    </tr>\n",
       "    <tr>\n",
       "      <th>2</th>\n",
       "      <td>Exposed</td>\n",
       "      <td>308</td>\n",
       "      <td>349</td>\n",
       "      <td>3349</td>\n",
       "    </tr>\n",
       "  </tbody>\n",
       "</table>\n",
       "</div>"
      ],
      "text/plain": [
       "                        Experiment  Yes   No  Not Answered\n",
       "0  All Rows ( Control and Exposed)  572  671          6834\n",
       "1                          Control  264  322          3485\n",
       "2                          Exposed  308  349          3349"
      ]
     },
     "execution_count": 50,
     "metadata": {},
     "output_type": "execute_result"
    }
   ],
   "source": [
    "df_analysis"
   ]
  },
  {
   "cell_type": "markdown",
   "id": "bf1edf96",
   "metadata": {
    "ExecuteTime": {
     "end_time": "2023-02-27T05:20:45.948686Z",
     "start_time": "2023-02-27T05:20:45.724084Z"
    }
   },
   "source": [
    "# Modeling A/B Testing\n",
    "\n",
    "Common A/B Test Metric -- I have chosen \"The Click Through Rate\" since since that seems to be closley related to our problem \n",
    "\n",
    "Ctr = 100 * Clicks / impressions\n",
    "\n",
    "Hypothesis_0 -- There is no difference between showing the control add and the exposed ad.\n",
    "\n",
    "Hypothesis_1 -- The clicks on the exposed ad are different than the control add\n"
   ]
  },
  {
   "cell_type": "markdown",
   "id": "633dab6c",
   "metadata": {},
   "source": [
    "## Calculate the estimates of the probabilities \n",
    "\n",
    "P(Control) = Click Y when Experiment = Control and Yes = 1 / count of Experiment\n",
    "\n",
    "P(Experiment) = Click Y when Experiment = Exposed and Yes = 1 / count of Experiment"
   ]
  },
  {
   "cell_type": "code",
   "execution_count": 51,
   "id": "7d2ff125",
   "metadata": {
    "ExecuteTime": {
     "end_time": "2023-03-03T20:56:15.906279Z",
     "start_time": "2023-03-03T20:56:15.899134Z"
    }
   },
   "outputs": [
    {
     "data": {
      "text/html": [
       "<div>\n",
       "<style scoped>\n",
       "    .dataframe tbody tr th:only-of-type {\n",
       "        vertical-align: middle;\n",
       "    }\n",
       "\n",
       "    .dataframe tbody tr th {\n",
       "        vertical-align: top;\n",
       "    }\n",
       "\n",
       "    .dataframe thead th {\n",
       "        text-align: right;\n",
       "    }\n",
       "</style>\n",
       "<table border=\"1\" class=\"dataframe\">\n",
       "  <thead>\n",
       "    <tr style=\"text-align: right;\">\n",
       "      <th></th>\n",
       "      <th>Experiment</th>\n",
       "      <th>Yes</th>\n",
       "      <th>No</th>\n",
       "      <th>Not Answered</th>\n",
       "    </tr>\n",
       "  </thead>\n",
       "  <tbody>\n",
       "    <tr>\n",
       "      <th>0</th>\n",
       "      <td>All Rows ( Control and Exposed)</td>\n",
       "      <td>572</td>\n",
       "      <td>671</td>\n",
       "      <td>6834</td>\n",
       "    </tr>\n",
       "    <tr>\n",
       "      <th>1</th>\n",
       "      <td>Control</td>\n",
       "      <td>264</td>\n",
       "      <td>322</td>\n",
       "      <td>3485</td>\n",
       "    </tr>\n",
       "    <tr>\n",
       "      <th>2</th>\n",
       "      <td>Exposed</td>\n",
       "      <td>308</td>\n",
       "      <td>349</td>\n",
       "      <td>3349</td>\n",
       "    </tr>\n",
       "  </tbody>\n",
       "</table>\n",
       "</div>"
      ],
      "text/plain": [
       "                        Experiment  Yes   No  Not Answered\n",
       "0  All Rows ( Control and Exposed)  572  671          6834\n",
       "1                          Control  264  322          3485\n",
       "2                          Exposed  308  349          3349"
      ]
     },
     "execution_count": 51,
     "metadata": {},
     "output_type": "execute_result"
    }
   ],
   "source": [
    "df_analysis"
   ]
  },
  {
   "cell_type": "code",
   "execution_count": 100,
   "id": "beda4703",
   "metadata": {
    "ExecuteTime": {
     "end_time": "2023-03-04T04:08:11.799242Z",
     "start_time": "2023-03-04T04:08:11.787538Z"
    }
   },
   "outputs": [
    {
     "name": "stdout",
     "output_type": "stream",
     "text": [
      "control_yes: 264  n_total_sample_for_control: 586 exposed_yes: 308 n_total_sample_fox_exposed: 657\n"
     ]
    }
   ],
   "source": [
    "control_yes = df_analysis[df_analysis.Experiment == 'Control'].Yes.item()\n",
    "control_no  = df_analysis[df_analysis.Experiment == 'Control'].No.item()\n",
    "exposed_yes = df_analysis[df_analysis.Experiment == 'Exposed'].Yes.item()\n",
    "exposed_no  = df_analysis[df_analysis.Experiment == 'Exposed'].No.item()\n",
    "\n",
    "n_total_sample_for_control = control_yes + control_no\n",
    "n_total_sample_for_exposed = exposed_yes + exposed_no\n",
    "\n",
    "print(\"control_yes:\", control_yes, \" n_total_sample_for_control:\", n_total_sample_for_control, \\\n",
    "    \"exposed_yes:\", exposed_yes, \"n_total_sample_fox_exposed:\", n_total_sample_for_exposed)"
   ]
  },
  {
   "cell_type": "code",
   "execution_count": 101,
   "id": "64f0ec1f",
   "metadata": {
    "ExecuteTime": {
     "end_time": "2023-03-04T04:09:59.050209Z",
     "start_time": "2023-03-04T04:09:59.046914Z"
    }
   },
   "outputs": [],
   "source": [
    "# Select your alpha significance -- The signifience of rejecting the \n",
    "# null hypothesis is true.\n",
    "alpha = .05"
   ]
  },
  {
   "cell_type": "code",
   "execution_count": 102,
   "id": "2735a338",
   "metadata": {
    "ExecuteTime": {
     "end_time": "2023-03-04T04:09:59.467436Z",
     "start_time": "2023-03-04T04:09:59.462804Z"
    }
   },
   "outputs": [
    {
     "name": "stdout",
     "output_type": "stream",
     "text": [
      "estimated (all) proabilty of Yes for Control Group: 0.451  probaility for the Yes for exposed Group 0.469\n"
     ]
    }
   ],
   "source": [
    "# Get an estimate of the probability of the Yes clicks of both the \n",
    "# control group and the exposed group\n",
    "p_control_hat = np.round( control_yes / n_total_sample_for_control, 3)\n",
    "p_exposed_hat = np.round( exposed_yes / n_total_sample_for_exposed, 3)\n",
    "\n",
    "print(\"estimated (all) proabilty of Yes for Control Group:\", p_con_hat, \" probaility for the Yes for exposed Group\", p_exp_hat)"
   ]
  },
  {
   "cell_type": "code",
   "execution_count": 67,
   "id": "22ae9105",
   "metadata": {
    "ExecuteTime": {
     "end_time": "2023-03-03T20:57:45.021035Z",
     "start_time": "2023-03-03T20:57:45.015751Z"
    }
   },
   "outputs": [
    {
     "name": "stdout",
     "output_type": "stream",
     "text": [
      "pooled probability 0.46 pooled variance =  0.001\n"
     ]
    }
   ],
   "source": [
    "# Get an estimate of the pool probability and pooled variance\n",
    "# pooled variance -- combines the estimate within the individual \n",
    "# groups.  A better estimate of the unknown common population variance \n",
    "# than either of the individual group variance\n",
    "\n",
    "# Get an estimated probability for the population\n",
    "pooled_probability_success = ( control_yes + exposed_yes ) / \\\n",
    "    ( n_total_sample_for_control + n_total_sample_for_exposed )\n",
    "\n",
    "# Get an estimated standard devaiation for the population\n",
    "pooled_probability_variance = pooled_probability_success * \\\n",
    "    (1 - pooled_probability_success ) *\\\n",
    "    (1/n_total_sample_for_control + 1/n_total_sample_for_exposed)\n",
    "\n",
    "pooled_probability_success = np.round(pooled_probability_success,3)\n",
    "pooled_probability_variance = np.round(pooled_probability_variance,3)\n",
    "print(\"pooled probability\",pooled_probability_success,\"pooled variance = \", pooled_probability_variance)"
   ]
  },
  {
   "cell_type": "code",
   "execution_count": 68,
   "id": "39ac05f0",
   "metadata": {
    "ExecuteTime": {
     "end_time": "2023-03-03T20:57:47.003751Z",
     "start_time": "2023-03-03T20:57:46.999775Z"
    }
   },
   "outputs": [
    {
     "name": "stdout",
     "output_type": "stream",
     "text": [
      "The Standard Error is  0.032\n"
     ]
    }
   ],
   "source": [
    "# Calculate the Standard Error -- Accuracy which a sample distribution\n",
    "# represents the population.  \n",
    "# Describe the variation of the mean of the population and one which\n",
    "# is known or accepted as accruate.\n",
    "#    A high standard error shows the items are widly spread around \n",
    "#    the population mean and may not closely represent your population\n",
    "#\n",
    "# Standard Deviation describes variability within a sample\n",
    "# Standard Error describes variabily across multiple sampels\n",
    "\n",
    "standard_error = np.round(np.sqrt(pooled_probability_variance),3)\n",
    "print(\"The Standard Error is \", standard_error)"
   ]
  },
  {
   "cell_type": "code",
   "execution_count": 69,
   "id": "f85b0a0b",
   "metadata": {
    "ExecuteTime": {
     "end_time": "2023-03-03T20:57:49.052202Z",
     "start_time": "2023-03-03T20:57:49.048695Z"
    }
   },
   "outputs": [
    {
     "name": "stdout",
     "output_type": "stream",
     "text": [
      "The test statistics (zcore all called test_stat) is  -0.5624999999999988\n"
     ]
    }
   ],
   "source": [
    "# Test Statitics -- Number calculated from a statistical test of a \n",
    "# hypothesis to see how closely your observed data matches the \n",
    "# distribution expected under the null hypothesis \n",
    "z_score = (p_control_hat - p_exposed_hat ) / standard_error\n",
    "print(\"The test statistics (zcore all called test_stat) is \", z_score)"
   ]
  },
  {
   "cell_type": "code",
   "execution_count": 70,
   "id": "e877c0af",
   "metadata": {
    "ExecuteTime": {
     "end_time": "2023-03-03T20:57:51.307799Z",
     "start_time": "2023-03-03T20:57:51.303353Z"
    }
   },
   "outputs": [
    {
     "name": "stdout",
     "output_type": "stream",
     "text": [
      "z_critical =  -0.5624999999999988\n"
     ]
    }
   ],
   "source": [
    "# Critical Value -- Determine whether the results are statistically significient \n",
    "# norm.ppf -- A normal random continous value using the Percent Point Function\n",
    "#    Percent Point Function is the cumulative distribution function\n",
    "# alpha divided by two means  there a normal distribution that is symmetric\n",
    "z_critical = np.round(norm.ppf(1- (alpha/2)),3 )\n",
    "print(\"z_critical = \", z_score)"
   ]
  },
  {
   "cell_type": "code",
   "execution_count": 71,
   "id": "c56b6489",
   "metadata": {
    "ExecuteTime": {
     "end_time": "2023-03-03T20:57:52.299286Z",
     "start_time": "2023-03-03T20:57:52.295508Z"
    }
   },
   "outputs": [
    {
     "name": "stdout",
     "output_type": "stream",
     "text": [
      "margin of error 0.063\n"
     ]
    }
   ],
   "source": [
    "# Margin of error -- The margin of error in statistics is the degree \n",
    "# of error in results received from random sampling surveys. A \n",
    "# higher margin of error in statistics indicates less likelihood \n",
    "# of relying on the results of a survey or poll\n",
    "margin_of_error = np.round(standard_error * z_critical,3)\n",
    "print(\"margin of error\", margin_of_error)\n"
   ]
  },
  {
   "cell_type": "code",
   "execution_count": 72,
   "id": "ca5857e0",
   "metadata": {
    "ExecuteTime": {
     "end_time": "2023-03-03T20:57:53.308007Z",
     "start_time": "2023-03-03T20:57:53.303339Z"
    }
   },
   "outputs": [
    {
     "name": "stdout",
     "output_type": "stream",
     "text": [
      "confidence level  [ 0.    -0.018]\n"
     ]
    }
   ],
   "source": [
    "# Confidence Interval -- A confidence interval is the mean of your \n",
    "# estimate plus and minus the variation in that estimate. This is \n",
    "# the range of values you expect your estimate to fall between if \n",
    "# you redo your test\n",
    "p_hat = p_control_hat - p_exposed_hat\n",
    "confidence_level  = [p_hat - standard_error * z_score, \\\n",
    "                     (p_hat - standard_error * z_score) + \\\n",
    "                     standard_error * z_score]\n",
    "confidence_level = np.round(confidence_level, 3)\n",
    "print(\"confidence level \", confidence_level)\n"
   ]
  },
  {
   "cell_type": "code",
   "execution_count": 77,
   "id": "f1aef536",
   "metadata": {
    "ExecuteTime": {
     "end_time": "2023-03-03T20:58:46.505503Z",
     "start_time": "2023-03-03T20:58:46.501032Z"
    }
   },
   "outputs": [
    {
     "name": "stdout",
     "output_type": "stream",
     "text": [
      "0.5624999999999988 1.96\n",
      "rejection is  False\n",
      "failed to reject the null hypothesis\n"
     ]
    }
   ],
   "source": [
    "# The analysis of the z-score\n",
    "z_score = np.abs(z_score)\n",
    "rejection = z_score >= z_critical\n",
    "print(z_score, z_critical)\n",
    "print(\"rejection is \", rejection)\n",
    "\n",
    "if rejection:\n",
    "    print(\"reject the null hypostheis\")\n",
    "else: \n",
    "    print(\"failed to reject the null hypothesis\")\n"
   ]
  },
  {
   "cell_type": "markdown",
   "id": "7937d5cf",
   "metadata": {},
   "source": [
    "## Answer the second hypothesis testing\n",
    "\n",
    "The question is given the large amount of customers saying did it \n",
    "have any effect on questionare.\n",
    "\n",
    "Hypothesis0 -- The people that did not answer did not have an affect\n",
    "on the outcome of the survey.\n",
    "\n",
    "Hypothesis1 -- The people that did non answer did have an affect on the \n",
    "outcome of the survey."
   ]
  },
  {
   "cell_type": "code",
   "execution_count": 78,
   "id": "02e29057",
   "metadata": {
    "ExecuteTime": {
     "end_time": "2023-03-03T20:59:40.553904Z",
     "start_time": "2023-03-03T20:59:40.546572Z"
    }
   },
   "outputs": [
    {
     "data": {
      "text/html": [
       "<div>\n",
       "<style scoped>\n",
       "    .dataframe tbody tr th:only-of-type {\n",
       "        vertical-align: middle;\n",
       "    }\n",
       "\n",
       "    .dataframe tbody tr th {\n",
       "        vertical-align: top;\n",
       "    }\n",
       "\n",
       "    .dataframe thead th {\n",
       "        text-align: right;\n",
       "    }\n",
       "</style>\n",
       "<table border=\"1\" class=\"dataframe\">\n",
       "  <thead>\n",
       "    <tr style=\"text-align: right;\">\n",
       "      <th></th>\n",
       "      <th>Experiment</th>\n",
       "      <th>Yes</th>\n",
       "      <th>No</th>\n",
       "      <th>Not Answered</th>\n",
       "    </tr>\n",
       "  </thead>\n",
       "  <tbody>\n",
       "    <tr>\n",
       "      <th>0</th>\n",
       "      <td>All Rows ( Control and Exposed)</td>\n",
       "      <td>572</td>\n",
       "      <td>671</td>\n",
       "      <td>6834</td>\n",
       "    </tr>\n",
       "    <tr>\n",
       "      <th>1</th>\n",
       "      <td>Control</td>\n",
       "      <td>264</td>\n",
       "      <td>322</td>\n",
       "      <td>3485</td>\n",
       "    </tr>\n",
       "    <tr>\n",
       "      <th>2</th>\n",
       "      <td>Exposed</td>\n",
       "      <td>308</td>\n",
       "      <td>349</td>\n",
       "      <td>3349</td>\n",
       "    </tr>\n",
       "  </tbody>\n",
       "</table>\n",
       "</div>"
      ],
      "text/plain": [
       "                        Experiment  Yes   No  Not Answered\n",
       "0  All Rows ( Control and Exposed)  572  671          6834\n",
       "1                          Control  264  322          3485\n",
       "2                          Exposed  308  349          3349"
      ]
     },
     "execution_count": 78,
     "metadata": {},
     "output_type": "execute_result"
    }
   ],
   "source": [
    "# Is the data balanced\n",
    "df_analysis"
   ]
  },
  {
   "cell_type": "code",
   "execution_count": 79,
   "id": "284e7473",
   "metadata": {
    "ExecuteTime": {
     "end_time": "2023-03-03T20:59:41.096073Z",
     "start_time": "2023-03-03T20:59:41.090778Z"
    }
   },
   "outputs": [
    {
     "name": "stdout",
     "output_type": "stream",
     "text": [
      "The number of yes or no is: 1243\n",
      "The number of not answered 6834\n",
      "There ratio of answered to unaswered is 0.182\n",
      "The subdatasets are definitely unbalanced and the value is not remotely close 1\n"
     ]
    }
   ],
   "source": [
    "# Show that the data is unbalanced\n",
    "\n",
    "number_yes_or_no = df_analysis.iloc[0,1].item() + df_analysis.iloc[0,2].item()\n",
    "number_not_answered = df_analysis.iloc[0,3].item()\n",
    "\n",
    "in_balance = number_yes_or_no / number_not_answered\n",
    "print(\"The number of yes or no is:\", number_yes_or_no)\n",
    "print(\"The number of not answered\", number_not_answered)\n",
    "print(\"There ratio of answered to unaswered is\",np.round(in_balance,3))\n",
    "print(\"The subdatasets are definitely unbalanced and the value is not remotely close 1\")"
   ]
  },
  {
   "cell_type": "markdown",
   "id": "6e90a415",
   "metadata": {},
   "source": [
    "### Proposed Fix\n",
    "\n",
    "Since the data is unbalance and based on the discussion in class I \n",
    "have decide to go with binominal distribution \n",
    "\n",
    "1. After some research, I came upon this website: https://www.researchgate.net/post/Can_someone_suggest_a_statistical_test_to_be_applied_on_unbalanced_panel_data\n",
    "\n",
    "(ii) Discrete Data. Now if the data is dichotomous, the test turns to binomial distribution test. One population binomial distribution test may be given by:\n",
    "\n",
    "Paul Louangrath was the author and he talked speicially when the data was discrete.  Since we are dealing with 0's and 1's.\n",
    "\n",
    "(5)   Z = (p - p0) / sqrt(p0(1 - P0) / n)\n",
    "... where p = observed proportion of specified class; p0 = proportion of class of interest in the population; n = sample size. Assuming that the data reading is taken at the same time. If the data is taken at two separate time reading, i.e. pre- and post-introduction of stimulus then a Z-test for two counts Poisson distribution is used. From the stated facts, \"... divided into two groups depending on presence or absence of independent variable ...\" it appears you have dichotomous data: presence = yes and non-presence = no; therefore, yes = 1 and no =0. Otherwise, follow the non-discrete routine.\n",
    "\n",
    "Reason for using this algorithm.  It allow for the creation of a z-score.\n",
    "\n"
   ]
  },
  {
   "cell_type": "code",
   "execution_count": 80,
   "id": "199f2984",
   "metadata": {
    "ExecuteTime": {
     "end_time": "2023-03-03T20:59:43.673290Z",
     "start_time": "2023-03-03T20:59:43.666150Z"
    }
   },
   "outputs": [
    {
     "data": {
      "text/html": [
       "<div>\n",
       "<style scoped>\n",
       "    .dataframe tbody tr th:only-of-type {\n",
       "        vertical-align: middle;\n",
       "    }\n",
       "\n",
       "    .dataframe tbody tr th {\n",
       "        vertical-align: top;\n",
       "    }\n",
       "\n",
       "    .dataframe thead th {\n",
       "        text-align: right;\n",
       "    }\n",
       "</style>\n",
       "<table border=\"1\" class=\"dataframe\">\n",
       "  <thead>\n",
       "    <tr style=\"text-align: right;\">\n",
       "      <th></th>\n",
       "      <th>Experiment</th>\n",
       "      <th>Yes</th>\n",
       "      <th>No</th>\n",
       "      <th>Not Answered</th>\n",
       "    </tr>\n",
       "  </thead>\n",
       "  <tbody>\n",
       "    <tr>\n",
       "      <th>0</th>\n",
       "      <td>All Rows ( Control and Exposed)</td>\n",
       "      <td>572</td>\n",
       "      <td>671</td>\n",
       "      <td>6834</td>\n",
       "    </tr>\n",
       "    <tr>\n",
       "      <th>1</th>\n",
       "      <td>Control</td>\n",
       "      <td>264</td>\n",
       "      <td>322</td>\n",
       "      <td>3485</td>\n",
       "    </tr>\n",
       "    <tr>\n",
       "      <th>2</th>\n",
       "      <td>Exposed</td>\n",
       "      <td>308</td>\n",
       "      <td>349</td>\n",
       "      <td>3349</td>\n",
       "    </tr>\n",
       "  </tbody>\n",
       "</table>\n",
       "</div>"
      ],
      "text/plain": [
       "                        Experiment  Yes   No  Not Answered\n",
       "0  All Rows ( Control and Exposed)  572  671          6834\n",
       "1                          Control  264  322          3485\n",
       "2                          Exposed  308  349          3349"
      ]
     },
     "execution_count": 80,
     "metadata": {},
     "output_type": "execute_result"
    }
   ],
   "source": [
    "df_analysis"
   ]
  },
  {
   "cell_type": "markdown",
   "id": "93db0a62",
   "metadata": {},
   "source": [
    "## Question:\n",
    "\n",
    "Did the large number of unaswered have an effect on the exposed not \n",
    "being not doing as well\n",
    "\n"
   ]
  },
  {
   "cell_type": "code",
   "execution_count": 87,
   "id": "03f431e0",
   "metadata": {
    "ExecuteTime": {
     "end_time": "2023-03-03T21:04:14.128973Z",
     "start_time": "2023-03-03T21:04:14.120251Z"
    }
   },
   "outputs": [
    {
     "name": "stdout",
     "output_type": "stream",
     "text": [
      "The sample space is 8077\n",
      "control result answered 0.16814921090387375\n",
      "exposed result answered 0.1749776052553001\n"
     ]
    }
   ],
   "source": [
    "# Define the variables used in equation\n",
    "#\n",
    "# Defined the problem this way : Give the sample it is a simple \n",
    "# binary tree.\n",
    "# \n",
    "# The total population is split into Answered or did not Answer\n",
    "\n",
    "# Sample Space \n",
    "sample_space = df_analysis.loc[0,'Yes'] + \\\n",
    "    df_analysis.loc[0, 'No'] + \\\n",
    "    df_analysis.loc[0,'Not Answered']\n",
    "print(\"The sample space is \" + str(sample_space))\n",
    "\n",
    "\n",
    "# The proportion class of interest ( rate ) will have two \n",
    "# variables calculated\n",
    "# 1. The number of users that went to the control and did not answer\n",
    "# 2. The number of users that went to the exposed and did not answer\n",
    "\n",
    "control_total_answered = df_analysis.loc[1,'Yes'] + df_analysis.loc[1,'No']\n",
    "control_result_answered = total_answered / df_analysis.loc[1,'Not Answered']  \n",
    "\n",
    "exposed_total_answered = df_analysis.loc[2,'Yes'] + df_analysis.loc[2,'No']\n",
    "exposed_result_answered = total_answered / df_analysis.loc[2,'Not Answered']  \n",
    "\n",
    "print(\"control result answered\", control_result_answered)\n",
    "print(\"exposed result answered\", exposed_result_answered)\n"
   ]
  },
  {
   "cell_type": "code",
   "execution_count": 90,
   "id": "078236ed",
   "metadata": {
    "ExecuteTime": {
     "end_time": "2023-03-03T21:07:58.145392Z",
     "start_time": "2023-03-03T21:07:58.141085Z"
    }
   },
   "outputs": [],
   "source": [
    "# Find the standard deviation\n",
    "std_control = np.sqrt(\n",
    "    control_result_answered * (1 - control_result_answered) /\\\n",
    "        control_total_answered)\n",
    "\n",
    "std_exposed = np.sqrt(\\\n",
    "    exposed_result_answered * (1 - exposed_result_answered) /\\\n",
    "        exposed_total_answered)"
   ]
  },
  {
   "cell_type": "code",
   "execution_count": 91,
   "id": "7c33229c",
   "metadata": {
    "ExecuteTime": {
     "end_time": "2023-03-03T21:07:59.219231Z",
     "start_time": "2023-03-03T21:07:59.213168Z"
    }
   },
   "outputs": [
    {
     "data": {
      "text/plain": [
       "0.3748923556198933"
      ]
     },
     "execution_count": 91,
     "metadata": {},
     "output_type": "execute_result"
    }
   ],
   "source": [
    "# Calculate the z-score\n",
    "z_score = (exposed_result_answered - control_result_answered) /\\\n",
    "    np.sqrt(std_control**2 + std_exposed**2)"
   ]
  },
  {
   "cell_type": "code",
   "execution_count": 104,
   "id": "822edf43",
   "metadata": {
    "ExecuteTime": {
     "end_time": "2023-03-05T16:33:25.089840Z",
     "start_time": "2023-03-05T16:33:24.997227Z"
    }
   },
   "outputs": [
    {
     "name": "stdout",
     "output_type": "stream",
     "text": [
      "z_score 0.3189232526799223  and z_critical 1.96\n",
      "failed to reject the null hypothesis\n"
     ]
    }
   ],
   "source": [
    "print(\"z_score\",z_score, \" and z_critical\", z_critical)\n",
    "z_score > z_critical\n",
    "if ( z_score > z_critical):\n",
    "    print(\"Reject the null\")\n",
    "else:\n",
    "    print(\"failed to reject the null hypothesis\")"
   ]
  }
 ],
 "metadata": {
  "kernelspec": {
   "display_name": "Python 3 (ipykernel)",
   "language": "python",
   "name": "python3"
  },
  "language_info": {
   "codemirror_mode": {
    "name": "ipython",
    "version": 3
   },
   "file_extension": ".py",
   "mimetype": "text/x-python",
   "name": "python",
   "nbconvert_exporter": "python",
   "pygments_lexer": "ipython3",
   "version": "3.9.13"
  },
  "toc": {
   "base_numbering": 1,
   "nav_menu": {},
   "number_sections": true,
   "sideBar": true,
   "skip_h1_title": false,
   "title_cell": "Table of Contents",
   "title_sidebar": "Contents",
   "toc_cell": false,
   "toc_position": {},
   "toc_section_display": true,
   "toc_window_display": false
  }
 },
 "nbformat": 4,
 "nbformat_minor": 5
}
