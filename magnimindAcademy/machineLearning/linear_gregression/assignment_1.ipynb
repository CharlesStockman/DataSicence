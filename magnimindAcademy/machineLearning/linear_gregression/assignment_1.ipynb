{
 "cells": [
  {
   "cell_type": "code",
   "execution_count": 125,
   "id": "7517505f",
   "metadata": {
    "ExecuteTime": {
     "end_time": "2023-04-13T02:36:10.269703Z",
     "start_time": "2023-04-13T02:36:10.147371Z"
    }
   },
   "outputs": [],
   "source": [
    "from sklearn.datasets import load_boston\n",
    "import pandas as pd\n",
    "import numpy as np\n",
    "import matplotlib.pyplot as plt\n",
    "import seaborn as sns\n",
    "from sklearn.model_selection import train_test_split, cross_val_score\n",
    "from sklearn.linear_model import LinearRegression\n",
    "from sklearn.preprocessing import PolynomialFeatures\n",
    "from sklearn.preprocessing import StandardScaler\n",
    "from sklearn.ensemble import RandomForestRegressor\n",
    "from sklearn.pipeline import Pipeline\n",
    "\n"
   ]
  },
  {
   "cell_type": "code",
   "execution_count": 126,
   "id": "3a73b712",
   "metadata": {
    "ExecuteTime": {
     "end_time": "2023-04-13T02:36:10.281214Z",
     "start_time": "2023-04-13T02:36:10.272879Z"
    }
   },
   "outputs": [],
   "source": [
    "# Load Boston Data Set from sklearn.datasets"
   ]
  },
  {
   "cell_type": "code",
   "execution_count": 127,
   "id": "07521633",
   "metadata": {
    "ExecuteTime": {
     "end_time": "2023-04-13T02:36:10.336047Z",
     "start_time": "2023-04-13T02:36:10.283307Z"
    }
   },
   "outputs": [
    {
     "name": "stderr",
     "output_type": "stream",
     "text": [
      "/Users/charles/anaconda3/lib/python3.9/site-packages/sklearn/utils/deprecation.py:87: FutureWarning: Function load_boston is deprecated; `load_boston` is deprecated in 1.0 and will be removed in 1.2.\n",
      "\n",
      "    The Boston housing prices dataset has an ethical problem. You can refer to\n",
      "    the documentation of this function for further details.\n",
      "\n",
      "    The scikit-learn maintainers therefore strongly discourage the use of this\n",
      "    dataset unless the purpose of the code is to study and educate about\n",
      "    ethical issues in data science and machine learning.\n",
      "\n",
      "    In this special case, you can fetch the dataset from the original\n",
      "    source::\n",
      "\n",
      "        import pandas as pd\n",
      "        import numpy as np\n",
      "\n",
      "        data_url = \"http://lib.stat.cmu.edu/datasets/boston\"\n",
      "        raw_df = pd.read_csv(data_url, sep=\"\\s+\", skiprows=22, header=None)\n",
      "        data = np.hstack([raw_df.values[::2, :], raw_df.values[1::2, :2]])\n",
      "        target = raw_df.values[1::2, 2]\n",
      "\n",
      "    Alternative datasets include the California housing dataset (i.e.\n",
      "    :func:`~sklearn.datasets.fetch_california_housing`) and the Ames housing\n",
      "    dataset. You can load the datasets as follows::\n",
      "\n",
      "        from sklearn.datasets import fetch_california_housing\n",
      "        housing = fetch_california_housing()\n",
      "\n",
      "    for the California housing dataset and::\n",
      "\n",
      "        from sklearn.datasets import fetch_openml\n",
      "        housing = fetch_openml(name=\"house_prices\", as_frame=True)\n",
      "\n",
      "    for the Ames housing dataset.\n",
      "  warnings.warn(msg, category=FutureWarning)\n"
     ]
    }
   ],
   "source": [
    "dataset = load_boston()"
   ]
  },
  {
   "cell_type": "code",
   "execution_count": 128,
   "id": "9f3fdfab",
   "metadata": {
    "ExecuteTime": {
     "end_time": "2023-04-13T02:36:10.372220Z",
     "start_time": "2023-04-13T02:36:10.341519Z"
    }
   },
   "outputs": [
    {
     "data": {
      "text/plain": [
       "dict_keys(['data', 'target', 'feature_names', 'DESCR', 'filename', 'data_module'])"
      ]
     },
     "execution_count": 128,
     "metadata": {},
     "output_type": "execute_result"
    }
   ],
   "source": [
    "dataset.keys()"
   ]
  },
  {
   "cell_type": "markdown",
   "id": "4fd0feb5",
   "metadata": {},
   "source": [
    "## Assign data to X and target to y"
   ]
  },
  {
   "cell_type": "code",
   "execution_count": 129,
   "id": "07360387",
   "metadata": {
    "ExecuteTime": {
     "end_time": "2023-04-13T02:36:10.419671Z",
     "start_time": "2023-04-13T02:36:10.374658Z"
    }
   },
   "outputs": [],
   "source": [
    "X = pd.DataFrame(dataset.data, columns=dataset.feature_names)"
   ]
  },
  {
   "cell_type": "code",
   "execution_count": 130,
   "id": "7c897c42",
   "metadata": {
    "ExecuteTime": {
     "end_time": "2023-04-13T02:36:10.484841Z",
     "start_time": "2023-04-13T02:36:10.423849Z"
    }
   },
   "outputs": [
    {
     "data": {
      "text/html": [
       "<div>\n",
       "<style scoped>\n",
       "    .dataframe tbody tr th:only-of-type {\n",
       "        vertical-align: middle;\n",
       "    }\n",
       "\n",
       "    .dataframe tbody tr th {\n",
       "        vertical-align: top;\n",
       "    }\n",
       "\n",
       "    .dataframe thead th {\n",
       "        text-align: right;\n",
       "    }\n",
       "</style>\n",
       "<table border=\"1\" class=\"dataframe\">\n",
       "  <thead>\n",
       "    <tr style=\"text-align: right;\">\n",
       "      <th></th>\n",
       "      <th>CRIM</th>\n",
       "      <th>ZN</th>\n",
       "      <th>INDUS</th>\n",
       "      <th>CHAS</th>\n",
       "      <th>NOX</th>\n",
       "      <th>RM</th>\n",
       "      <th>AGE</th>\n",
       "      <th>DIS</th>\n",
       "      <th>RAD</th>\n",
       "      <th>TAX</th>\n",
       "      <th>PTRATIO</th>\n",
       "      <th>B</th>\n",
       "      <th>LSTAT</th>\n",
       "    </tr>\n",
       "  </thead>\n",
       "  <tbody>\n",
       "    <tr>\n",
       "      <th>0</th>\n",
       "      <td>0.00632</td>\n",
       "      <td>18.0</td>\n",
       "      <td>2.31</td>\n",
       "      <td>0.0</td>\n",
       "      <td>0.538</td>\n",
       "      <td>6.575</td>\n",
       "      <td>65.2</td>\n",
       "      <td>4.0900</td>\n",
       "      <td>1.0</td>\n",
       "      <td>296.0</td>\n",
       "      <td>15.3</td>\n",
       "      <td>396.90</td>\n",
       "      <td>4.98</td>\n",
       "    </tr>\n",
       "    <tr>\n",
       "      <th>1</th>\n",
       "      <td>0.02731</td>\n",
       "      <td>0.0</td>\n",
       "      <td>7.07</td>\n",
       "      <td>0.0</td>\n",
       "      <td>0.469</td>\n",
       "      <td>6.421</td>\n",
       "      <td>78.9</td>\n",
       "      <td>4.9671</td>\n",
       "      <td>2.0</td>\n",
       "      <td>242.0</td>\n",
       "      <td>17.8</td>\n",
       "      <td>396.90</td>\n",
       "      <td>9.14</td>\n",
       "    </tr>\n",
       "    <tr>\n",
       "      <th>2</th>\n",
       "      <td>0.02729</td>\n",
       "      <td>0.0</td>\n",
       "      <td>7.07</td>\n",
       "      <td>0.0</td>\n",
       "      <td>0.469</td>\n",
       "      <td>7.185</td>\n",
       "      <td>61.1</td>\n",
       "      <td>4.9671</td>\n",
       "      <td>2.0</td>\n",
       "      <td>242.0</td>\n",
       "      <td>17.8</td>\n",
       "      <td>392.83</td>\n",
       "      <td>4.03</td>\n",
       "    </tr>\n",
       "    <tr>\n",
       "      <th>3</th>\n",
       "      <td>0.03237</td>\n",
       "      <td>0.0</td>\n",
       "      <td>2.18</td>\n",
       "      <td>0.0</td>\n",
       "      <td>0.458</td>\n",
       "      <td>6.998</td>\n",
       "      <td>45.8</td>\n",
       "      <td>6.0622</td>\n",
       "      <td>3.0</td>\n",
       "      <td>222.0</td>\n",
       "      <td>18.7</td>\n",
       "      <td>394.63</td>\n",
       "      <td>2.94</td>\n",
       "    </tr>\n",
       "    <tr>\n",
       "      <th>4</th>\n",
       "      <td>0.06905</td>\n",
       "      <td>0.0</td>\n",
       "      <td>2.18</td>\n",
       "      <td>0.0</td>\n",
       "      <td>0.458</td>\n",
       "      <td>7.147</td>\n",
       "      <td>54.2</td>\n",
       "      <td>6.0622</td>\n",
       "      <td>3.0</td>\n",
       "      <td>222.0</td>\n",
       "      <td>18.7</td>\n",
       "      <td>396.90</td>\n",
       "      <td>5.33</td>\n",
       "    </tr>\n",
       "    <tr>\n",
       "      <th>...</th>\n",
       "      <td>...</td>\n",
       "      <td>...</td>\n",
       "      <td>...</td>\n",
       "      <td>...</td>\n",
       "      <td>...</td>\n",
       "      <td>...</td>\n",
       "      <td>...</td>\n",
       "      <td>...</td>\n",
       "      <td>...</td>\n",
       "      <td>...</td>\n",
       "      <td>...</td>\n",
       "      <td>...</td>\n",
       "      <td>...</td>\n",
       "    </tr>\n",
       "    <tr>\n",
       "      <th>501</th>\n",
       "      <td>0.06263</td>\n",
       "      <td>0.0</td>\n",
       "      <td>11.93</td>\n",
       "      <td>0.0</td>\n",
       "      <td>0.573</td>\n",
       "      <td>6.593</td>\n",
       "      <td>69.1</td>\n",
       "      <td>2.4786</td>\n",
       "      <td>1.0</td>\n",
       "      <td>273.0</td>\n",
       "      <td>21.0</td>\n",
       "      <td>391.99</td>\n",
       "      <td>9.67</td>\n",
       "    </tr>\n",
       "    <tr>\n",
       "      <th>502</th>\n",
       "      <td>0.04527</td>\n",
       "      <td>0.0</td>\n",
       "      <td>11.93</td>\n",
       "      <td>0.0</td>\n",
       "      <td>0.573</td>\n",
       "      <td>6.120</td>\n",
       "      <td>76.7</td>\n",
       "      <td>2.2875</td>\n",
       "      <td>1.0</td>\n",
       "      <td>273.0</td>\n",
       "      <td>21.0</td>\n",
       "      <td>396.90</td>\n",
       "      <td>9.08</td>\n",
       "    </tr>\n",
       "    <tr>\n",
       "      <th>503</th>\n",
       "      <td>0.06076</td>\n",
       "      <td>0.0</td>\n",
       "      <td>11.93</td>\n",
       "      <td>0.0</td>\n",
       "      <td>0.573</td>\n",
       "      <td>6.976</td>\n",
       "      <td>91.0</td>\n",
       "      <td>2.1675</td>\n",
       "      <td>1.0</td>\n",
       "      <td>273.0</td>\n",
       "      <td>21.0</td>\n",
       "      <td>396.90</td>\n",
       "      <td>5.64</td>\n",
       "    </tr>\n",
       "    <tr>\n",
       "      <th>504</th>\n",
       "      <td>0.10959</td>\n",
       "      <td>0.0</td>\n",
       "      <td>11.93</td>\n",
       "      <td>0.0</td>\n",
       "      <td>0.573</td>\n",
       "      <td>6.794</td>\n",
       "      <td>89.3</td>\n",
       "      <td>2.3889</td>\n",
       "      <td>1.0</td>\n",
       "      <td>273.0</td>\n",
       "      <td>21.0</td>\n",
       "      <td>393.45</td>\n",
       "      <td>6.48</td>\n",
       "    </tr>\n",
       "    <tr>\n",
       "      <th>505</th>\n",
       "      <td>0.04741</td>\n",
       "      <td>0.0</td>\n",
       "      <td>11.93</td>\n",
       "      <td>0.0</td>\n",
       "      <td>0.573</td>\n",
       "      <td>6.030</td>\n",
       "      <td>80.8</td>\n",
       "      <td>2.5050</td>\n",
       "      <td>1.0</td>\n",
       "      <td>273.0</td>\n",
       "      <td>21.0</td>\n",
       "      <td>396.90</td>\n",
       "      <td>7.88</td>\n",
       "    </tr>\n",
       "  </tbody>\n",
       "</table>\n",
       "<p>506 rows × 13 columns</p>\n",
       "</div>"
      ],
      "text/plain": [
       "        CRIM    ZN  INDUS  CHAS    NOX     RM   AGE     DIS  RAD    TAX  \\\n",
       "0    0.00632  18.0   2.31   0.0  0.538  6.575  65.2  4.0900  1.0  296.0   \n",
       "1    0.02731   0.0   7.07   0.0  0.469  6.421  78.9  4.9671  2.0  242.0   \n",
       "2    0.02729   0.0   7.07   0.0  0.469  7.185  61.1  4.9671  2.0  242.0   \n",
       "3    0.03237   0.0   2.18   0.0  0.458  6.998  45.8  6.0622  3.0  222.0   \n",
       "4    0.06905   0.0   2.18   0.0  0.458  7.147  54.2  6.0622  3.0  222.0   \n",
       "..       ...   ...    ...   ...    ...    ...   ...     ...  ...    ...   \n",
       "501  0.06263   0.0  11.93   0.0  0.573  6.593  69.1  2.4786  1.0  273.0   \n",
       "502  0.04527   0.0  11.93   0.0  0.573  6.120  76.7  2.2875  1.0  273.0   \n",
       "503  0.06076   0.0  11.93   0.0  0.573  6.976  91.0  2.1675  1.0  273.0   \n",
       "504  0.10959   0.0  11.93   0.0  0.573  6.794  89.3  2.3889  1.0  273.0   \n",
       "505  0.04741   0.0  11.93   0.0  0.573  6.030  80.8  2.5050  1.0  273.0   \n",
       "\n",
       "     PTRATIO       B  LSTAT  \n",
       "0       15.3  396.90   4.98  \n",
       "1       17.8  396.90   9.14  \n",
       "2       17.8  392.83   4.03  \n",
       "3       18.7  394.63   2.94  \n",
       "4       18.7  396.90   5.33  \n",
       "..       ...     ...    ...  \n",
       "501     21.0  391.99   9.67  \n",
       "502     21.0  396.90   9.08  \n",
       "503     21.0  396.90   5.64  \n",
       "504     21.0  393.45   6.48  \n",
       "505     21.0  396.90   7.88  \n",
       "\n",
       "[506 rows x 13 columns]"
      ]
     },
     "execution_count": 130,
     "metadata": {},
     "output_type": "execute_result"
    }
   ],
   "source": [
    "X"
   ]
  },
  {
   "cell_type": "code",
   "execution_count": 131,
   "id": "8cda1752",
   "metadata": {
    "ExecuteTime": {
     "end_time": "2023-04-13T02:36:10.495482Z",
     "start_time": "2023-04-13T02:36:10.487745Z"
    }
   },
   "outputs": [],
   "source": [
    "y = pd.DataFrame(dataset.target)\n",
    "y = y.rename({0:\"Result\"}, axis=1)"
   ]
  },
  {
   "cell_type": "code",
   "execution_count": 132,
   "id": "d6a66ca1",
   "metadata": {
    "ExecuteTime": {
     "end_time": "2023-04-13T02:36:10.504628Z",
     "start_time": "2023-04-13T02:36:10.500171Z"
    }
   },
   "outputs": [
    {
     "name": "stdout",
     "output_type": "stream",
     "text": [
      ".. _boston_dataset:\n",
      "\n",
      "Boston house prices dataset\n",
      "---------------------------\n",
      "\n",
      "**Data Set Characteristics:**  \n",
      "\n",
      "    :Number of Instances: 506 \n",
      "\n",
      "    :Number of Attributes: 13 numeric/categorical predictive. Median Value (attribute 14) is usually the target.\n",
      "\n",
      "    :Attribute Information (in order):\n",
      "        - CRIM     per capita crime rate by town\n",
      "        - ZN       proportion of residential land zoned for lots over 25,000 sq.ft.\n",
      "        - INDUS    proportion of non-retail business acres per town\n",
      "        - CHAS     Charles River dummy variable (= 1 if tract bounds river; 0 otherwise)\n",
      "        - NOX      nitric oxides concentration (parts per 10 million)\n",
      "        - RM       average number of rooms per dwelling\n",
      "        - AGE      proportion of owner-occupied units built prior to 1940\n",
      "        - DIS      weighted distances to five Boston employment centres\n",
      "        - RAD      index of accessibility to radial highways\n",
      "        - TAX      full-value property-tax rate per $10,000\n",
      "        - PTRATIO  pupil-teacher ratio by town\n",
      "        - B        1000(Bk - 0.63)^2 where Bk is the proportion of black people by town\n",
      "        - LSTAT    % lower status of the population\n",
      "        - MEDV     Median value of owner-occupied homes in $1000's\n",
      "\n",
      "    :Missing Attribute Values: None\n",
      "\n",
      "    :Creator: Harrison, D. and Rubinfeld, D.L.\n",
      "\n",
      "This is a copy of UCI ML housing dataset.\n",
      "https://archive.ics.uci.edu/ml/machine-learning-databases/housing/\n",
      "\n",
      "\n",
      "This dataset was taken from the StatLib library which is maintained at Carnegie Mellon University.\n",
      "\n",
      "The Boston house-price data of Harrison, D. and Rubinfeld, D.L. 'Hedonic\n",
      "prices and the demand for clean air', J. Environ. Economics & Management,\n",
      "vol.5, 81-102, 1978.   Used in Belsley, Kuh & Welsch, 'Regression diagnostics\n",
      "...', Wiley, 1980.   N.B. Various transformations are used in the table on\n",
      "pages 244-261 of the latter.\n",
      "\n",
      "The Boston house-price data has been used in many machine learning papers that address regression\n",
      "problems.   \n",
      "     \n",
      ".. topic:: References\n",
      "\n",
      "   - Belsley, Kuh & Welsch, 'Regression diagnostics: Identifying Influential Data and Sources of Collinearity', Wiley, 1980. 244-261.\n",
      "   - Quinlan,R. (1993). Combining Instance-Based and Model-Based Learning. In Proceedings on the Tenth International Conference of Machine Learning, 236-243, University of Massachusetts, Amherst. Morgan Kaufmann.\n",
      "\n"
     ]
    }
   ],
   "source": [
    "print(dataset.DESCR)"
   ]
  },
  {
   "cell_type": "markdown",
   "id": "1304f3e3",
   "metadata": {},
   "source": [
    "## Check the shape of the dataset\n",
    "\n",
    "I am adding more to this including checking the shape, datatypes and the basic statistics\n",
    "and correlation"
   ]
  },
  {
   "cell_type": "code",
   "execution_count": 133,
   "id": "052dfda1",
   "metadata": {
    "ExecuteTime": {
     "end_time": "2023-04-13T02:36:10.514916Z",
     "start_time": "2023-04-13T02:36:10.507475Z"
    }
   },
   "outputs": [
    {
     "name": "stdout",
     "output_type": "stream",
     "text": [
      "X.shape =  (506, 13)  Y.shape (506, 1)\n"
     ]
    }
   ],
   "source": [
    "print(\"X.shape = \", X.shape, \" Y.shape\", y.shape)"
   ]
  },
  {
   "cell_type": "code",
   "execution_count": 134,
   "id": "bd6580e0",
   "metadata": {
    "ExecuteTime": {
     "end_time": "2023-04-13T02:36:10.557545Z",
     "start_time": "2023-04-13T02:36:10.523813Z"
    }
   },
   "outputs": [
    {
     "name": "stdout",
     "output_type": "stream",
     "text": [
      "<class 'pandas.core.frame.DataFrame'>\n",
      "RangeIndex: 506 entries, 0 to 505\n",
      "Data columns (total 13 columns):\n",
      " #   Column   Non-Null Count  Dtype  \n",
      "---  ------   --------------  -----  \n",
      " 0   CRIM     506 non-null    float64\n",
      " 1   ZN       506 non-null    float64\n",
      " 2   INDUS    506 non-null    float64\n",
      " 3   CHAS     506 non-null    float64\n",
      " 4   NOX      506 non-null    float64\n",
      " 5   RM       506 non-null    float64\n",
      " 6   AGE      506 non-null    float64\n",
      " 7   DIS      506 non-null    float64\n",
      " 8   RAD      506 non-null    float64\n",
      " 9   TAX      506 non-null    float64\n",
      " 10  PTRATIO  506 non-null    float64\n",
      " 11  B        506 non-null    float64\n",
      " 12  LSTAT    506 non-null    float64\n",
      "dtypes: float64(13)\n",
      "memory usage: 51.5 KB\n"
     ]
    }
   ],
   "source": [
    "X.info()"
   ]
  },
  {
   "cell_type": "code",
   "execution_count": 135,
   "id": "f2756ba4",
   "metadata": {
    "ExecuteTime": {
     "end_time": "2023-04-13T02:36:10.569318Z",
     "start_time": "2023-04-13T02:36:10.560041Z"
    }
   },
   "outputs": [
    {
     "name": "stdout",
     "output_type": "stream",
     "text": [
      "<class 'pandas.core.frame.DataFrame'>\n",
      "RangeIndex: 506 entries, 0 to 505\n",
      "Data columns (total 1 columns):\n",
      " #   Column  Non-Null Count  Dtype  \n",
      "---  ------  --------------  -----  \n",
      " 0   Result  506 non-null    float64\n",
      "dtypes: float64(1)\n",
      "memory usage: 4.1 KB\n"
     ]
    }
   ],
   "source": [
    "y.info()"
   ]
  },
  {
   "cell_type": "code",
   "execution_count": 136,
   "id": "b9a58a9c",
   "metadata": {
    "ExecuteTime": {
     "end_time": "2023-04-13T02:36:10.624230Z",
     "start_time": "2023-04-13T02:36:10.572610Z"
    }
   },
   "outputs": [
    {
     "data": {
      "text/html": [
       "<div>\n",
       "<style scoped>\n",
       "    .dataframe tbody tr th:only-of-type {\n",
       "        vertical-align: middle;\n",
       "    }\n",
       "\n",
       "    .dataframe tbody tr th {\n",
       "        vertical-align: top;\n",
       "    }\n",
       "\n",
       "    .dataframe thead th {\n",
       "        text-align: right;\n",
       "    }\n",
       "</style>\n",
       "<table border=\"1\" class=\"dataframe\">\n",
       "  <thead>\n",
       "    <tr style=\"text-align: right;\">\n",
       "      <th></th>\n",
       "      <th>CRIM</th>\n",
       "      <th>ZN</th>\n",
       "      <th>INDUS</th>\n",
       "      <th>CHAS</th>\n",
       "      <th>NOX</th>\n",
       "      <th>RM</th>\n",
       "      <th>AGE</th>\n",
       "      <th>DIS</th>\n",
       "      <th>RAD</th>\n",
       "      <th>TAX</th>\n",
       "      <th>PTRATIO</th>\n",
       "      <th>B</th>\n",
       "      <th>LSTAT</th>\n",
       "    </tr>\n",
       "  </thead>\n",
       "  <tbody>\n",
       "    <tr>\n",
       "      <th>count</th>\n",
       "      <td>506.000000</td>\n",
       "      <td>506.000000</td>\n",
       "      <td>506.000000</td>\n",
       "      <td>506.000000</td>\n",
       "      <td>506.000000</td>\n",
       "      <td>506.000000</td>\n",
       "      <td>506.000000</td>\n",
       "      <td>506.000000</td>\n",
       "      <td>506.000000</td>\n",
       "      <td>506.000000</td>\n",
       "      <td>506.000000</td>\n",
       "      <td>506.000000</td>\n",
       "      <td>506.000000</td>\n",
       "    </tr>\n",
       "    <tr>\n",
       "      <th>mean</th>\n",
       "      <td>3.613524</td>\n",
       "      <td>11.363636</td>\n",
       "      <td>11.136779</td>\n",
       "      <td>0.069170</td>\n",
       "      <td>0.554695</td>\n",
       "      <td>6.284634</td>\n",
       "      <td>68.574901</td>\n",
       "      <td>3.795043</td>\n",
       "      <td>9.549407</td>\n",
       "      <td>408.237154</td>\n",
       "      <td>18.455534</td>\n",
       "      <td>356.674032</td>\n",
       "      <td>12.653063</td>\n",
       "    </tr>\n",
       "    <tr>\n",
       "      <th>std</th>\n",
       "      <td>8.601545</td>\n",
       "      <td>23.322453</td>\n",
       "      <td>6.860353</td>\n",
       "      <td>0.253994</td>\n",
       "      <td>0.115878</td>\n",
       "      <td>0.702617</td>\n",
       "      <td>28.148861</td>\n",
       "      <td>2.105710</td>\n",
       "      <td>8.707259</td>\n",
       "      <td>168.537116</td>\n",
       "      <td>2.164946</td>\n",
       "      <td>91.294864</td>\n",
       "      <td>7.141062</td>\n",
       "    </tr>\n",
       "    <tr>\n",
       "      <th>min</th>\n",
       "      <td>0.006320</td>\n",
       "      <td>0.000000</td>\n",
       "      <td>0.460000</td>\n",
       "      <td>0.000000</td>\n",
       "      <td>0.385000</td>\n",
       "      <td>3.561000</td>\n",
       "      <td>2.900000</td>\n",
       "      <td>1.129600</td>\n",
       "      <td>1.000000</td>\n",
       "      <td>187.000000</td>\n",
       "      <td>12.600000</td>\n",
       "      <td>0.320000</td>\n",
       "      <td>1.730000</td>\n",
       "    </tr>\n",
       "    <tr>\n",
       "      <th>25%</th>\n",
       "      <td>0.082045</td>\n",
       "      <td>0.000000</td>\n",
       "      <td>5.190000</td>\n",
       "      <td>0.000000</td>\n",
       "      <td>0.449000</td>\n",
       "      <td>5.885500</td>\n",
       "      <td>45.025000</td>\n",
       "      <td>2.100175</td>\n",
       "      <td>4.000000</td>\n",
       "      <td>279.000000</td>\n",
       "      <td>17.400000</td>\n",
       "      <td>375.377500</td>\n",
       "      <td>6.950000</td>\n",
       "    </tr>\n",
       "    <tr>\n",
       "      <th>50%</th>\n",
       "      <td>0.256510</td>\n",
       "      <td>0.000000</td>\n",
       "      <td>9.690000</td>\n",
       "      <td>0.000000</td>\n",
       "      <td>0.538000</td>\n",
       "      <td>6.208500</td>\n",
       "      <td>77.500000</td>\n",
       "      <td>3.207450</td>\n",
       "      <td>5.000000</td>\n",
       "      <td>330.000000</td>\n",
       "      <td>19.050000</td>\n",
       "      <td>391.440000</td>\n",
       "      <td>11.360000</td>\n",
       "    </tr>\n",
       "    <tr>\n",
       "      <th>75%</th>\n",
       "      <td>3.677083</td>\n",
       "      <td>12.500000</td>\n",
       "      <td>18.100000</td>\n",
       "      <td>0.000000</td>\n",
       "      <td>0.624000</td>\n",
       "      <td>6.623500</td>\n",
       "      <td>94.075000</td>\n",
       "      <td>5.188425</td>\n",
       "      <td>24.000000</td>\n",
       "      <td>666.000000</td>\n",
       "      <td>20.200000</td>\n",
       "      <td>396.225000</td>\n",
       "      <td>16.955000</td>\n",
       "    </tr>\n",
       "    <tr>\n",
       "      <th>max</th>\n",
       "      <td>88.976200</td>\n",
       "      <td>100.000000</td>\n",
       "      <td>27.740000</td>\n",
       "      <td>1.000000</td>\n",
       "      <td>0.871000</td>\n",
       "      <td>8.780000</td>\n",
       "      <td>100.000000</td>\n",
       "      <td>12.126500</td>\n",
       "      <td>24.000000</td>\n",
       "      <td>711.000000</td>\n",
       "      <td>22.000000</td>\n",
       "      <td>396.900000</td>\n",
       "      <td>37.970000</td>\n",
       "    </tr>\n",
       "  </tbody>\n",
       "</table>\n",
       "</div>"
      ],
      "text/plain": [
       "             CRIM          ZN       INDUS        CHAS         NOX          RM  \\\n",
       "count  506.000000  506.000000  506.000000  506.000000  506.000000  506.000000   \n",
       "mean     3.613524   11.363636   11.136779    0.069170    0.554695    6.284634   \n",
       "std      8.601545   23.322453    6.860353    0.253994    0.115878    0.702617   \n",
       "min      0.006320    0.000000    0.460000    0.000000    0.385000    3.561000   \n",
       "25%      0.082045    0.000000    5.190000    0.000000    0.449000    5.885500   \n",
       "50%      0.256510    0.000000    9.690000    0.000000    0.538000    6.208500   \n",
       "75%      3.677083   12.500000   18.100000    0.000000    0.624000    6.623500   \n",
       "max     88.976200  100.000000   27.740000    1.000000    0.871000    8.780000   \n",
       "\n",
       "              AGE         DIS         RAD         TAX     PTRATIO           B  \\\n",
       "count  506.000000  506.000000  506.000000  506.000000  506.000000  506.000000   \n",
       "mean    68.574901    3.795043    9.549407  408.237154   18.455534  356.674032   \n",
       "std     28.148861    2.105710    8.707259  168.537116    2.164946   91.294864   \n",
       "min      2.900000    1.129600    1.000000  187.000000   12.600000    0.320000   \n",
       "25%     45.025000    2.100175    4.000000  279.000000   17.400000  375.377500   \n",
       "50%     77.500000    3.207450    5.000000  330.000000   19.050000  391.440000   \n",
       "75%     94.075000    5.188425   24.000000  666.000000   20.200000  396.225000   \n",
       "max    100.000000   12.126500   24.000000  711.000000   22.000000  396.900000   \n",
       "\n",
       "            LSTAT  \n",
       "count  506.000000  \n",
       "mean    12.653063  \n",
       "std      7.141062  \n",
       "min      1.730000  \n",
       "25%      6.950000  \n",
       "50%     11.360000  \n",
       "75%     16.955000  \n",
       "max     37.970000  "
      ]
     },
     "execution_count": 136,
     "metadata": {},
     "output_type": "execute_result"
    }
   ],
   "source": [
    "X.describe()"
   ]
  },
  {
   "cell_type": "markdown",
   "id": "daee480d",
   "metadata": {
    "ExecuteTime": {
     "end_time": "2023-03-20T21:44:31.448637Z",
     "start_time": "2023-03-20T21:44:31.427916Z"
    }
   },
   "source": [
    "## Plot the scatter plot of each attribute versus MEDV"
   ]
  },
  {
   "cell_type": "code",
   "execution_count": 159,
   "id": "21e7c844",
   "metadata": {
    "ExecuteTime": {
     "end_time": "2023-04-13T02:40:45.720857Z",
     "start_time": "2023-04-13T02:40:45.209235Z"
    }
   },
   "outputs": [
    {
     "name": "stdout",
     "output_type": "stream",
     "text": [
      "<class 'numpy.ndarray'>\n"
     ]
    },
    {
     "data": {
      "image/png": "[encoded data removed]",
      "text/plain": [
       "<Figure size 1000x1000 with 16 Axes>"
      ]
     },
     "metadata": {},
     "output_type": "display_data"
    }
   ],
   "source": [
    "(fig, axes) = plt.subplots(4,4, figsize=(10,10))\n",
    "plt.tight_layout()\n",
    "plt.suptitle(\"Feature vs MEDV\", y=1.03)\n",
    "print(type(axes))\n",
    "all_ax = list(np.ravel(axes))\n",
    "\n",
    "\n",
    "for ax in all_ax:\n",
    "    ax.set_visible(False)\n",
    "\n",
    "# for (index, column) in enumerate(X):\n",
    "#     all_ax[index].set_visible(True)\n",
    "#     all_ax[index].set_title(column)\n",
    "#     all_ax[index].set_ylabel(\"Result\")\n",
    "#     all_ax[index].scatter(X[column],y)"
   ]
  },
  {
   "cell_type": "code",
   "execution_count": 138,
   "id": "3757b52c",
   "metadata": {
    "ExecuteTime": {
     "end_time": "2023-04-13T02:36:12.219940Z",
     "start_time": "2023-04-13T02:36:12.207161Z"
    }
   },
   "outputs": [],
   "source": [
    "#Split the dataset into test and train datasets\n",
    "(X_train, X_test, y_train, y_test ) = train_test_split(X,y,test_size=.25, random_state=42)"
   ]
  },
  {
   "cell_type": "markdown",
   "id": "eafafb85",
   "metadata": {
    "ExecuteTime": {
     "end_time": "2023-03-22T05:11:29.464402Z",
     "start_time": "2023-03-22T05:11:29.459644Z"
    }
   },
   "source": [
    "## run cross validation for the train and test datasets for cv=10\n",
    "\n",
    "print the mean score for the cross validation using linear regressor (LinearRegressor())\n",
    "\n",
    "<b>What is cross_val_score</b>\n",
    "The cross_val_score() has cv values ( default is 10 ) for each fold of the data.  By \n",
    "getting more scores, the developer can better understand how the model will perform\n",
    "on unseen data."
   ]
  },
  {
   "cell_type": "code",
   "execution_count": 139,
   "id": "fcb2b458",
   "metadata": {
    "ExecuteTime": {
     "end_time": "2023-04-13T02:36:12.313804Z",
     "start_time": "2023-04-13T02:36:12.224177Z"
    }
   },
   "outputs": [
    {
     "name": "stdout",
     "output_type": "stream",
     "text": [
      "mean =  0.716013319664838 std =  0.09275504601337771\n",
      "all of the scores =  [0.7832738  0.70313102 0.55559062 0.7328346  0.82883292 0.699766\n",
      " 0.80487399 0.71770265 0.78880787 0.54531972]\n"
     ]
    }
   ],
   "source": [
    "scores = cross_val_score(LinearRegression(), X_train,y_train,cv=10)\n",
    "print(\"mean = \", np.mean(scores), \"std = \",np.std(scores))\n",
    "print(\"all of the scores = \", scores)\n"
   ]
  },
  {
   "cell_type": "code",
   "execution_count": 140,
   "id": "d91bdd91",
   "metadata": {
    "ExecuteTime": {
     "end_time": "2023-04-13T02:36:12.319516Z",
     "start_time": "2023-04-13T02:36:12.316301Z"
    }
   },
   "outputs": [],
   "source": [
    "## run cross validation for the train and test datasets for cv=10 using random forest"
   ]
  },
  {
   "cell_type": "code",
   "execution_count": 141,
   "id": "0ecff6ac",
   "metadata": {
    "ExecuteTime": {
     "end_time": "2023-04-13T02:36:13.654954Z",
     "start_time": "2023-04-13T02:36:12.322592Z"
    }
   },
   "outputs": [
    {
     "name": "stderr",
     "output_type": "stream",
     "text": [
      "/Users/charles/anaconda3/lib/python3.9/site-packages/sklearn/model_selection/_validation.py:686: DataConversionWarning: A column-vector y was passed when a 1d array was expected. Please change the shape of y to (n_samples,), for example using ravel().\n",
      "  estimator.fit(X_train, y_train, **fit_params)\n",
      "/Users/charles/anaconda3/lib/python3.9/site-packages/sklearn/model_selection/_validation.py:686: DataConversionWarning: A column-vector y was passed when a 1d array was expected. Please change the shape of y to (n_samples,), for example using ravel().\n",
      "  estimator.fit(X_train, y_train, **fit_params)\n",
      "/Users/charles/anaconda3/lib/python3.9/site-packages/sklearn/model_selection/_validation.py:686: DataConversionWarning: A column-vector y was passed when a 1d array was expected. Please change the shape of y to (n_samples,), for example using ravel().\n",
      "  estimator.fit(X_train, y_train, **fit_params)\n",
      "/Users/charles/anaconda3/lib/python3.9/site-packages/sklearn/model_selection/_validation.py:686: DataConversionWarning: A column-vector y was passed when a 1d array was expected. Please change the shape of y to (n_samples,), for example using ravel().\n",
      "  estimator.fit(X_train, y_train, **fit_params)\n",
      "/Users/charles/anaconda3/lib/python3.9/site-packages/sklearn/model_selection/_validation.py:686: DataConversionWarning: A column-vector y was passed when a 1d array was expected. Please change the shape of y to (n_samples,), for example using ravel().\n",
      "  estimator.fit(X_train, y_train, **fit_params)\n"
     ]
    },
    {
     "name": "stdout",
     "output_type": "stream",
     "text": [
      "mean =  0.6378861953713109 std =  0.18296232369103224\n",
      "all of the scores =  [0.76512648 0.86052419 0.71608049 0.46790033 0.37979949]\n"
     ]
    }
   ],
   "source": [
    "scores = cross_val_score(RandomForestRegressor(), X, y)\n",
    "print(\"mean = \", np.mean(scores), \"std = \",np.std(scores))\n",
    "print(\"all of the scores = \", scores)"
   ]
  },
  {
   "cell_type": "markdown",
   "id": "d4424185",
   "metadata": {},
   "source": [
    "## Boston Housing Data with Polynomials\n",
    "\n",
    "Transform the Boston House dataset and split the dataset into test and train datasets<br>\n",
    "Run cross-validation<br>\n",
    "Plot the coefficients of the model<br>\n",
    "\n",
    "I already have the Boston House dataset and it is split"
   ]
  },
  {
   "cell_type": "code",
   "execution_count": 142,
   "id": "b83edbb8",
   "metadata": {
    "ExecuteTime": {
     "end_time": "2023-04-13T02:36:13.663816Z",
     "start_time": "2023-04-13T02:36:13.657843Z"
    }
   },
   "outputs": [],
   "source": [
    "X = pd.DataFrame(dataset.data, columns=dataset.feature_names)"
   ]
  },
  {
   "cell_type": "code",
   "execution_count": 143,
   "id": "4f871e21",
   "metadata": {
    "ExecuteTime": {
     "end_time": "2023-04-13T02:36:13.694871Z",
     "start_time": "2023-04-13T02:36:13.666380Z"
    }
   },
   "outputs": [
    {
     "data": {
      "text/html": [
       "<div>\n",
       "<style scoped>\n",
       "    .dataframe tbody tr th:only-of-type {\n",
       "        vertical-align: middle;\n",
       "    }\n",
       "\n",
       "    .dataframe tbody tr th {\n",
       "        vertical-align: top;\n",
       "    }\n",
       "\n",
       "    .dataframe thead th {\n",
       "        text-align: right;\n",
       "    }\n",
       "</style>\n",
       "<table border=\"1\" class=\"dataframe\">\n",
       "  <thead>\n",
       "    <tr style=\"text-align: right;\">\n",
       "      <th></th>\n",
       "      <th>CRIM</th>\n",
       "      <th>ZN</th>\n",
       "      <th>INDUS</th>\n",
       "      <th>CHAS</th>\n",
       "      <th>NOX</th>\n",
       "      <th>RM</th>\n",
       "      <th>AGE</th>\n",
       "      <th>DIS</th>\n",
       "      <th>RAD</th>\n",
       "      <th>TAX</th>\n",
       "      <th>PTRATIO</th>\n",
       "      <th>B</th>\n",
       "      <th>LSTAT</th>\n",
       "    </tr>\n",
       "  </thead>\n",
       "  <tbody>\n",
       "    <tr>\n",
       "      <th>0</th>\n",
       "      <td>0.00632</td>\n",
       "      <td>18.0</td>\n",
       "      <td>2.31</td>\n",
       "      <td>0.0</td>\n",
       "      <td>0.538</td>\n",
       "      <td>6.575</td>\n",
       "      <td>65.2</td>\n",
       "      <td>4.0900</td>\n",
       "      <td>1.0</td>\n",
       "      <td>296.0</td>\n",
       "      <td>15.3</td>\n",
       "      <td>396.9</td>\n",
       "      <td>4.98</td>\n",
       "    </tr>\n",
       "    <tr>\n",
       "      <th>1</th>\n",
       "      <td>0.02731</td>\n",
       "      <td>0.0</td>\n",
       "      <td>7.07</td>\n",
       "      <td>0.0</td>\n",
       "      <td>0.469</td>\n",
       "      <td>6.421</td>\n",
       "      <td>78.9</td>\n",
       "      <td>4.9671</td>\n",
       "      <td>2.0</td>\n",
       "      <td>242.0</td>\n",
       "      <td>17.8</td>\n",
       "      <td>396.9</td>\n",
       "      <td>9.14</td>\n",
       "    </tr>\n",
       "  </tbody>\n",
       "</table>\n",
       "</div>"
      ],
      "text/plain": [
       "      CRIM    ZN  INDUS  CHAS    NOX     RM   AGE     DIS  RAD    TAX  \\\n",
       "0  0.00632  18.0   2.31   0.0  0.538  6.575  65.2  4.0900  1.0  296.0   \n",
       "1  0.02731   0.0   7.07   0.0  0.469  6.421  78.9  4.9671  2.0  242.0   \n",
       "\n",
       "   PTRATIO      B  LSTAT  \n",
       "0     15.3  396.9   4.98  \n",
       "1     17.8  396.9   9.14  "
      ]
     },
     "execution_count": 143,
     "metadata": {},
     "output_type": "execute_result"
    }
   ],
   "source": [
    "X.head(2)"
   ]
  },
  {
   "cell_type": "code",
   "execution_count": 144,
   "id": "7e10d0a1",
   "metadata": {
    "ExecuteTime": {
     "end_time": "2023-04-13T02:36:13.702203Z",
     "start_time": "2023-04-13T02:36:13.697124Z"
    }
   },
   "outputs": [],
   "source": [
    "y = pd.DataFrame(dataset.target)\n",
    "y = y.rename({0:\"Result\"}, axis=1)"
   ]
  },
  {
   "cell_type": "code",
   "execution_count": 145,
   "id": "83f2b59a",
   "metadata": {
    "ExecuteTime": {
     "end_time": "2023-04-13T02:36:13.717711Z",
     "start_time": "2023-04-13T02:36:13.705522Z"
    }
   },
   "outputs": [
    {
     "data": {
      "text/plain": [
       "('Shape:', (379, 13), (127, 13), (379, 1), (127, 1))"
      ]
     },
     "execution_count": 145,
     "metadata": {},
     "output_type": "execute_result"
    }
   ],
   "source": [
    "X_train, y_train, X_test, y_test = train_test_split(X,y,test_size=.8)\n",
    "(X_train, X_test, y_train, y_test ) = train_test_split(X,y,test_size=.25, random_state=42)\n",
    "\"Shape:\", X_train.shape, X_test.shape, y_train.shape, y_test.shape"
   ]
  },
  {
   "cell_type": "code",
   "execution_count": 146,
   "id": "cec9320a",
   "metadata": {
    "ExecuteTime": {
     "end_time": "2023-04-13T02:36:13.736712Z",
     "start_time": "2023-04-13T02:36:13.720980Z"
    }
   },
   "outputs": [
    {
     "data": {
      "text/plain": [
       "((379, 13), (379, 104))"
      ]
     },
     "execution_count": 146,
     "metadata": {},
     "output_type": "execute_result"
    }
   ],
   "source": [
    "# Preprocess the data\n",
    "poly = PolynomialFeatures(2, include_bias=False)\n",
    "X_polyTrainData = poly.fit_transform(X_train)\n",
    "X_train.shape, X_polyTrainData.shape"
   ]
  },
  {
   "cell_type": "code",
   "execution_count": 147,
   "id": "4083006b",
   "metadata": {
    "ExecuteTime": {
     "end_time": "2023-04-13T02:36:14.106919Z",
     "start_time": "2023-04-13T02:36:13.741120Z"
    }
   },
   "outputs": [
    {
     "data": {
      "text/plain": [
       "<AxesSubplot:>"
      ]
     },
     "execution_count": 147,
     "metadata": {},
     "output_type": "execute_result"
    },
    {
     "data": {
      "image/png": "[encoded data removed]",
      "text/plain": [
       "<Figure size 1500x800 with 1 Axes>"
      ]
     },
     "metadata": {},
     "output_type": "display_data"
    }
   ],
   "source": [
    "# We know there are no missing values, but less understand if we should scale or not.  Scaling is definitely \n",
    "# needed.\n",
    "plt.figure(figsize=(15,8))\n",
    "sns.boxplot(X_train)"
   ]
  },
  {
   "cell_type": "code",
   "execution_count": 148,
   "id": "f75638ba",
   "metadata": {
    "ExecuteTime": {
     "end_time": "2023-04-13T02:36:14.421101Z",
     "start_time": "2023-04-13T02:36:14.110240Z"
    }
   },
   "outputs": [
    {
     "data": {
      "text/plain": [
       "<AxesSubplot:>"
      ]
     },
     "execution_count": 148,
     "metadata": {},
     "output_type": "execute_result"
    },
    {
     "data": {
      "image/png": "[encoded data removed]",
      "text/plain": [
       "<Figure size 1500x800 with 1 Axes>"
      ]
     },
     "metadata": {},
     "output_type": "display_data"
    }
   ],
   "source": [
    "plt.figure(figsize=(15,8))\n",
    "X_train_1 = X_train.copy()\n",
    "X_train_1 = StandardScaler().fit_transform(X_train_1)\n",
    "sns.boxplot(X_train_1)"
   ]
  },
  {
   "cell_type": "code",
   "execution_count": 149,
   "id": "f6690d0a",
   "metadata": {
    "ExecuteTime": {
     "end_time": "2023-04-13T02:36:14.430419Z",
     "start_time": "2023-04-13T02:36:14.423393Z"
    }
   },
   "outputs": [],
   "source": [
    "# Create the pipleline\n",
    "transform = Pipeline([\n",
    "    (\"poly\", PolynomialFeatures(2, include_bias=False)),\n",
    "    (\"scale\", StandardScaler())\n",
    "])"
   ]
  },
  {
   "cell_type": "code",
   "execution_count": 150,
   "id": "f45e23cf",
   "metadata": {
    "ExecuteTime": {
     "end_time": "2023-04-13T02:36:14.447908Z",
     "start_time": "2023-04-13T02:36:14.433295Z"
    }
   },
   "outputs": [
    {
     "name": "stdout",
     "output_type": "stream",
     "text": [
      "Shapes of training -- (379, 104) (379, 104)\n",
      "Shapes of testing  -- (379, 1) (127, 1)\n"
     ]
    }
   ],
   "source": [
    "# Run the pipeline\n",
    "# fit_transfrom : Fit the model and transform with the final estimator\n",
    "# transform : Transform with the final estimiator\n",
    "X_pipeline_train = transform.fit_transform(X_train)\n",
    "X_pipeline_test = transform.transform(X_test)\n",
    "print(\"Shapes of training --\", X_pipeline_train.shape, X_pipeline_train.shape)\n",
    "print(\"Shapes of testing  --\", y_train.shape, y_test.shape)"
   ]
  },
  {
   "cell_type": "code",
   "execution_count": 151,
   "id": "e8d76451",
   "metadata": {
    "ExecuteTime": {
     "end_time": "2023-04-13T02:36:14.536083Z",
     "start_time": "2023-04-13T02:36:14.451122Z"
    }
   },
   "outputs": [
    {
     "name": "stdout",
     "output_type": "stream",
     "text": [
      "0.8065194743874027 0.10074510814665205\n"
     ]
    }
   ],
   "source": [
    "# Do the Linear Regression\n",
    "results = cross_val_score(LinearRegression(), X_pipeline_train, y_train, cv=10)\n",
    "print(np.mean(results), np.std(results))"
   ]
  },
  {
   "cell_type": "code",
   "execution_count": 152,
   "id": "0272accc",
   "metadata": {
    "ExecuteTime": {
     "end_time": "2023-04-13T02:36:14.575753Z",
     "start_time": "2023-04-13T02:36:14.547423Z"
    }
   },
   "outputs": [
    {
     "name": "stdout",
     "output_type": "stream",
     "text": [
      "result =  LinearRegression()\n",
      "Min Coefficients =  -217.0325248004782\n",
      "Max Coefficients =  107.27950976570595\n",
      "y intercept =  [22.90791557]\n",
      "Coefficients =  [[-6.05275543e+01  9.69921272e+00 -3.37782811e+01  9.79241417e+00\n",
      "   3.31013237e+01  1.02831694e+01  2.10940766e+01  1.22708882e-01\n",
      "   1.79052935e+01  1.17813766e+01  1.40910519e+01  1.52785007e+01\n",
      "  -3.17130313e+00  8.51350726e-01  2.11443729e-01  8.83878915e+01\n",
      "   2.36892540e+00 -1.00727041e+01  9.60350491e+00  1.26585244e+00\n",
      "   1.36613268e+00  7.39105459e+01 -2.17032525e+02  1.07279510e+02\n",
      "  -1.95947209e+00  6.08387180e+00 -7.75324706e-01 -3.63616056e-01\n",
      "  -2.07508126e-01 -1.11710721e+01  1.38195984e-01  6.78034956e-01\n",
      "  -3.22168902e+00 -1.38422008e+00  6.04797464e+00 -1.18517327e+00\n",
      "   3.28447175e+00 -1.43375931e+00  8.49365241e+00 -3.97796267e-01\n",
      "   2.43834077e+00  1.45345983e+01  1.79994925e+00  1.85528863e+00\n",
      "  -3.16786051e+00 -2.63494816e-01 -1.98012988e+00  8.04232451e+00\n",
      "  -2.49634888e+00  9.79241417e+00 -6.23884639e+00 -9.87850428e+00\n",
      "  -6.18722043e-01 -8.46854903e-01  1.81878178e-01 -1.89174189e-01\n",
      "  -3.92378836e+00  1.57717788e+00 -1.01178867e+00 -1.51646821e+01\n",
      "  -3.35576410e+00 -1.38277226e+00  9.66100949e+00 -9.65406973e+00\n",
      "   3.28601237e+01 -3.55140753e+01 -3.54954624e+00  6.40044053e+00\n",
      "   1.14715897e+01 -1.41703495e+01 -5.42207247e+00 -9.08779901e+00\n",
      "  -1.83496107e+01 -6.91036877e+00 -3.38734557e+00 -1.26054191e-01\n",
      "  -4.05521448e-01 -1.26603475e-02  1.17561407e+01 -1.02239122e+01\n",
      "   3.39688258e-01 -3.98583793e+00 -7.26562081e+00  9.01499394e+00\n",
      "   7.99995683e-03 -3.93878305e+00 -9.59954400e+00 -6.95459497e+00\n",
      "   8.14198340e-01 -2.97989726e+01  4.53579514e+01 -2.54013116e+01\n",
      "   1.17429696e+01 -5.85475127e+00 -9.53368133e+00  2.51816957e+01\n",
      "  -2.30291213e+01 -5.28084103e+00  3.01312020e+00  5.15014831e+00\n",
      "   1.48846515e+00 -1.31431784e+00  4.58949064e-01  4.57411510e+00]]\n",
      "Score =  0.775837839335157\n"
     ]
    }
   ],
   "source": [
    "linear_regression = LinearRegression().fit(X_normalized_Data, y_train)\n",
    "print(\"result = \", result)\n",
    "print(\"Min Coefficients = \", np.min(linear_regression.coef_))\n",
    "print(\"Max Coefficients = \", np.max(linear_regression.coef_))\n",
    "print(\"y intercept = \", linear_regression.intercept_)\n",
    "print(\"Coefficients = \", linear_regression.coef_)\n",
    "print(\"Score = \", linear_regression.score(X_pipeline_test, y_test))\n"
   ]
  },
  {
   "cell_type": "code",
   "execution_count": 153,
   "id": "8a8083ae",
   "metadata": {
    "ExecuteTime": {
     "end_time": "2023-04-13T02:36:14.744788Z",
     "start_time": "2023-04-13T02:36:14.579174Z"
    }
   },
   "outputs": [
    {
     "name": "stdout",
     "output_type": "stream",
     "text": [
      "Number of elements =  104\n"
     ]
    },
    {
     "data": {
      "text/plain": [
       "<matplotlib.collections.PathCollection at 0x7fc091c6afa0>"
      ]
     },
     "execution_count": 153,
     "metadata": {},
     "output_type": "execute_result"
    },
    {
     "data": {
      "image/png": "[encoded data removed]",
      "text/plain": [
       "<Figure size 640x480 with 1 Axes>"
      ]
     },
     "metadata": {},
     "output_type": "display_data"
    }
   ],
   "source": [
    "print(\"Number of elements = \", X_pipeline_train.shape[1])\n",
    "\n",
    "plt.scatter(range(X_pipeline_train.shape[1]), linear_regression.coef_, c=np.sign(linear_regression.coef_))"
   ]
  }
 ],
 "metadata": {
  "kernelspec": {
   "display_name": "Python 3 (ipykernel)",
   "language": "python",
   "name": "python3"
  },
  "language_info": {
   "codemirror_mode": {
    "name": "ipython",
    "version": 3
   },
   "file_extension": ".py",
   "mimetype": "text/x-python",
   "name": "python",
   "nbconvert_exporter": "python",
   "pygments_lexer": "ipython3",
   "version": "3.9.13"
  },
  "toc": {
   "base_numbering": 1,
   "nav_menu": {},
   "number_sections": true,
   "sideBar": true,
   "skip_h1_title": false,
   "title_cell": "Table of Contents",
   "title_sidebar": "Contents",
   "toc_cell": false,
   "toc_position": {},
   "toc_section_display": true,
   "toc_window_display": false
  }
 },
 "nbformat": 4,
 "nbformat_minor": 5
}
