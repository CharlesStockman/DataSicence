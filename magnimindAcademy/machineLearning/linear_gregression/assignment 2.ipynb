{
 "cells": [
  {
   "cell_type": "markdown",
   "id": "da05e870",
   "metadata": {},
   "source": [
    "# Assignment 2a\n",
    "\n",
    "> Load the dataset bike_day_raw.csv, which has the regression target \n",
    "cnt. This dataset is hourly bike rentals in the citybike platform. \n",
    "The cnt column is the number of rentals, which we want to predict \n",
    "from date and weather data. Split the data into a training and a test set using train_test_split.\n",
    "\n",
    "> Use the LinearRegression class to learn a regression model on this data.\n",
    "\n",
    "> You can evaluate with the score method, which provides the R^2or using the mean_squared_error function from sklearn.metrics (Challenge: You can also write it yourself in numpy)."
   ]
  },
  {
   "cell_type": "code",
   "execution_count": 1030,
   "id": "55115ec2",
   "metadata": {
    "ExecuteTime": {
     "end_time": "2023-04-07T21:36:33.187588Z",
     "start_time": "2023-04-07T21:36:33.178696Z"
    }
   },
   "outputs": [],
   "source": [
    "import pandas as pd\n",
    "import numpy as np\n",
    "import matplotlib.pyplot as plt\n",
    "import seaborn as sns\n",
    "from sklearn.datasets import load_diabetes;\n",
    "from sklearn.metrics import mean_squared_error\n",
    "from sklearn.linear_model import Lasso\n"
   ]
  },
  {
   "cell_type": "code",
   "execution_count": 915,
   "id": "390cba54",
   "metadata": {
    "ExecuteTime": {
     "end_time": "2023-04-07T19:08:39.498819Z",
     "start_time": "2023-04-07T19:08:39.483755Z"
    }
   },
   "outputs": [],
   "source": [
    "import pandas as pd\n",
    "\n",
    "# Add a column for outlier\n",
    "# Can sort the values\n",
    "def info_about_columns(dataframe, data_science_descriptions=None):\n",
    "    '''\n",
    "        A reusable function that will create a dataframe to contain in another \n",
    "        dataframe the following : dataypes, Number of Unique Categories, Categories \n",
    "        per sample and the type of variable missing values and missing values %\n",
    "        \n",
    "        input : A dataframe where data and categories will be retrieved\n",
    "        series : The data science explamation for each data type\n",
    "    '''\n",
    "        \n",
    "    if data_science_descriptions == None:\n",
    "        data_science_descriptions = dataframe.copy().dtypes\n",
    "        data_science_descriptions = \\\n",
    "            data_science_descriptions.replace(data_science_descriptions.to_list(), \"NA\")\n",
    "                 \n",
    "    dataframe_info_about_columns = pd.concat([\n",
    "          dataframe.dtypes, \n",
    "          dataframe.nunique(), \n",
    "          round(dataframe.nunique()*100/len(dataframe)),\n",
    "          data_science_descriptions,\n",
    "          dataframe.isna().sum(),\n",
    "          dataframe.isna().sum() * 100 / len(dataframe)], axis=1)\n",
    "    \n",
    "\n",
    "    dataframe_info_about_columns.columns=[\n",
    "                                     'DataType', \n",
    "                                     '# of Categories', \n",
    "                                     'categories/sample ratio', \n",
    "                                     'Data Science Type',\n",
    "                                     'missing values',\n",
    "                                     'missing values %']\n",
    "\n",
    "#     dataframe_info_about_columns = pd.DataFrame()\n",
    "#     dataframe_info_about_columns['DataTypes'] = dataframe.dtypes\n",
    "#     dataframe_info_about_columns['# of Categories'] = dataframe.nunique()\n",
    "#     dataframe_info_about_columns['Data Science Description'] = data_science_descriptions\n",
    "#     dataframe_info_about_columns['categories/sample ratio'] =  round(dataframe.nunique()*100/len(dataframe))\n",
    "#     dataframe_info_about_columns['missing values'] = dataframe.isna().sum()\n",
    "#     dataframe_info_about_columns['missing values %'] = dataframe.isna().sum() * 100 / len(education_dataframe)\n",
    "    \n",
    "    return dataframe_info_about_columns"
   ]
  },
  {
   "cell_type": "code",
   "execution_count": 916,
   "id": "0e697330",
   "metadata": {
    "ExecuteTime": {
     "end_time": "2023-04-07T19:08:41.235044Z",
     "start_time": "2023-04-07T19:08:41.229796Z"
    }
   },
   "outputs": [],
   "source": [
    "def display_categorical_values(data, dataframe, max_unique_values):\n",
    "    '''\n",
    "        input dataframe : Contains the Column name and number of unique values\n",
    "        output: A dataframe with the unique values for each column \n",
    "                if the count is less then or equal to the max_unique_values\n",
    "    '''\n",
    "    value_dataframe = pd.DataFrame(columns=['Column', 'Unique Count', 'values'])\n",
    "    \n",
    "    \n",
    "    dataframe_local = dataframe[ dataframe['# of Categories'] <= max_unique_values]\n",
    "    for index, (name, values) in enumerate(dataframe_local['# of Categories'].iteritems()):\n",
    "        value_list = data.loc[:,name].value_counts().index.to_list()\n",
    "        value_dataframe.loc[index] = [name, values, value_list]\n",
    "        \n",
    "    return value_dataframe\n",
    "    "
   ]
  },
  {
   "cell_type": "code",
   "execution_count": 917,
   "id": "a949f2b4",
   "metadata": {
    "ExecuteTime": {
     "end_time": "2023-04-07T19:08:42.667184Z",
     "start_time": "2023-04-07T19:08:42.651480Z"
    }
   },
   "outputs": [],
   "source": [
    "def find_outliers_IRG(data_frame, Column):\n",
    "    '''\n",
    "        find the outliers on the whisker plot\n",
    "        input : the column to check for outliers\n",
    "        output: The outliers below the quartile 1 and quartile 3\n",
    "    '''\n",
    "    column = data_frame[Column]\n",
    "    q1 = column.quantile(.25)\n",
    "    q3 = column.quantile(.75)\n",
    "    IQR = q3 - q1\n",
    "    lower = q1 - 1.5 * IQR\n",
    "    upper = q3 + 1.5 * IQR\n",
    "        \n",
    "    min_outliers = column[ column < lower ]\n",
    "    max_outliers = column[ column >= upper ]\n",
    "    \n",
    "    return (min_outliers, max_outliers)\n",
    "\n",
    "def show_outlier_irq(data_frame, Column, label):\n",
    "    '''\n",
    "        Calculates the outlier will print 2 sections\n",
    "            1. outliers below quartile 1 will print the \n",
    "               min/max for that set of outliers\n",
    "            2. ourliers above quartile 3 will print the \n",
    "               min/max for that set of outliers\n",
    "         Any section without values will display something.\n",
    "    '''\n",
    "    (min_outliers, max_outliers) = find_outliers_IRG(data_frame, Column)\n",
    "    print(\"--- \" + label)\n",
    "    print(\"The number of outliers is \", len(min_outliers) + len(max_outliers))\n",
    "    if ( len(max_outliers) != 0):\n",
    "        print(\"The max outlier is \", max(max_outliers))\n",
    "        print(\"The min of the max outlier is \", min(max_outliers))\n",
    "    \n",
    "    if len(min_outliers) != 0:\n",
    "        print(\"The min outlier is \", min(min_outliers))\n",
    "        print(\"The max of the min outlier is \", min(min_outliers))\n",
    "        \n",
    "    return min_outliers.index.to_list() + max_outliers.index.to_list()"
   ]
  },
  {
   "cell_type": "code",
   "execution_count": 918,
   "id": "45b607fd",
   "metadata": {
    "ExecuteTime": {
     "end_time": "2023-04-07T19:08:43.968951Z",
     "start_time": "2023-04-07T19:08:43.882820Z"
    }
   },
   "outputs": [
    {
     "data": {
      "text/html": [
       "<div>\n",
       "<style scoped>\n",
       "    .dataframe tbody tr th:only-of-type {\n",
       "        vertical-align: middle;\n",
       "    }\n",
       "\n",
       "    .dataframe tbody tr th {\n",
       "        vertical-align: top;\n",
       "    }\n",
       "\n",
       "    .dataframe thead th {\n",
       "        text-align: right;\n",
       "    }\n",
       "</style>\n",
       "<table border=\"1\" class=\"dataframe\">\n",
       "  <thead>\n",
       "    <tr style=\"text-align: right;\">\n",
       "      <th></th>\n",
       "      <th>season</th>\n",
       "      <th>mnth</th>\n",
       "      <th>holiday</th>\n",
       "      <th>weekday</th>\n",
       "      <th>workingday</th>\n",
       "      <th>weathersit</th>\n",
       "      <th>temp</th>\n",
       "      <th>atemp</th>\n",
       "      <th>hum</th>\n",
       "      <th>windspeed</th>\n",
       "      <th>cnt</th>\n",
       "    </tr>\n",
       "  </thead>\n",
       "  <tbody>\n",
       "    <tr>\n",
       "      <th>0</th>\n",
       "      <td>1</td>\n",
       "      <td>1</td>\n",
       "      <td>0</td>\n",
       "      <td>6</td>\n",
       "      <td>0</td>\n",
       "      <td>2</td>\n",
       "      <td>0.344167</td>\n",
       "      <td>0.363625</td>\n",
       "      <td>0.805833</td>\n",
       "      <td>0.160446</td>\n",
       "      <td>985</td>\n",
       "    </tr>\n",
       "    <tr>\n",
       "      <th>1</th>\n",
       "      <td>1</td>\n",
       "      <td>1</td>\n",
       "      <td>0</td>\n",
       "      <td>0</td>\n",
       "      <td>0</td>\n",
       "      <td>2</td>\n",
       "      <td>0.363478</td>\n",
       "      <td>0.353739</td>\n",
       "      <td>0.696087</td>\n",
       "      <td>0.248539</td>\n",
       "      <td>801</td>\n",
       "    </tr>\n",
       "  </tbody>\n",
       "</table>\n",
       "</div>"
      ],
      "text/plain": [
       "   season  mnth  holiday  weekday  workingday  weathersit      temp     atemp  \\\n",
       "0       1     1        0        6           0           2  0.344167  0.363625   \n",
       "1       1     1        0        0           0           2  0.363478  0.353739   \n",
       "\n",
       "        hum  windspeed  cnt  \n",
       "0  0.805833   0.160446  985  \n",
       "1  0.696087   0.248539  801  "
      ]
     },
     "execution_count": 918,
     "metadata": {},
     "output_type": "execute_result"
    }
   ],
   "source": [
    "weather_for_bike_df = pd.read_csv(\"bike_day_raw.csv\")\n",
    "weather_for_bike_df.head(2)"
   ]
  },
  {
   "cell_type": "code",
   "execution_count": 919,
   "id": "558ca35d",
   "metadata": {
    "ExecuteTime": {
     "end_time": "2023-04-07T19:08:46.797581Z",
     "start_time": "2023-04-07T19:08:46.762946Z"
    }
   },
   "outputs": [
    {
     "name": "stdout",
     "output_type": "stream",
     "text": [
      "<class 'pandas.core.frame.DataFrame'>\n",
      "RangeIndex: 731 entries, 0 to 730\n",
      "Data columns (total 11 columns):\n",
      " #   Column      Non-Null Count  Dtype  \n",
      "---  ------      --------------  -----  \n",
      " 0   season      731 non-null    int64  \n",
      " 1   mnth        731 non-null    int64  \n",
      " 2   holiday     731 non-null    int64  \n",
      " 3   weekday     731 non-null    int64  \n",
      " 4   workingday  731 non-null    int64  \n",
      " 5   weathersit  731 non-null    int64  \n",
      " 6   temp        731 non-null    float64\n",
      " 7   atemp       731 non-null    float64\n",
      " 8   hum         731 non-null    float64\n",
      " 9   windspeed   731 non-null    float64\n",
      " 10  cnt         731 non-null    int64  \n",
      "dtypes: float64(4), int64(7)\n",
      "memory usage: 62.9 KB\n"
     ]
    }
   ],
   "source": [
    "weather_for_bike.info()"
   ]
  },
  {
   "cell_type": "code",
   "execution_count": 921,
   "id": "4df2a8e9",
   "metadata": {
    "ExecuteTime": {
     "end_time": "2023-04-07T19:09:01.585432Z",
     "start_time": "2023-04-07T19:09:01.562891Z"
    }
   },
   "outputs": [
    {
     "data": {
      "text/html": [
       "<div>\n",
       "<style scoped>\n",
       "    .dataframe tbody tr th:only-of-type {\n",
       "        vertical-align: middle;\n",
       "    }\n",
       "\n",
       "    .dataframe tbody tr th {\n",
       "        vertical-align: top;\n",
       "    }\n",
       "\n",
       "    .dataframe thead th {\n",
       "        text-align: right;\n",
       "    }\n",
       "</style>\n",
       "<table border=\"1\" class=\"dataframe\">\n",
       "  <thead>\n",
       "    <tr style=\"text-align: right;\">\n",
       "      <th></th>\n",
       "      <th>DataType</th>\n",
       "      <th># of Categories</th>\n",
       "      <th>categories/sample ratio</th>\n",
       "      <th>Data Science Type</th>\n",
       "      <th>missing values</th>\n",
       "      <th>missing values %</th>\n",
       "    </tr>\n",
       "  </thead>\n",
       "  <tbody>\n",
       "    <tr>\n",
       "      <th>season</th>\n",
       "      <td>int64</td>\n",
       "      <td>4</td>\n",
       "      <td>1.0</td>\n",
       "      <td>NA</td>\n",
       "      <td>0</td>\n",
       "      <td>0.0</td>\n",
       "    </tr>\n",
       "    <tr>\n",
       "      <th>mnth</th>\n",
       "      <td>int64</td>\n",
       "      <td>12</td>\n",
       "      <td>2.0</td>\n",
       "      <td>NA</td>\n",
       "      <td>0</td>\n",
       "      <td>0.0</td>\n",
       "    </tr>\n",
       "    <tr>\n",
       "      <th>holiday</th>\n",
       "      <td>int64</td>\n",
       "      <td>2</td>\n",
       "      <td>0.0</td>\n",
       "      <td>NA</td>\n",
       "      <td>0</td>\n",
       "      <td>0.0</td>\n",
       "    </tr>\n",
       "    <tr>\n",
       "      <th>weekday</th>\n",
       "      <td>int64</td>\n",
       "      <td>7</td>\n",
       "      <td>1.0</td>\n",
       "      <td>NA</td>\n",
       "      <td>0</td>\n",
       "      <td>0.0</td>\n",
       "    </tr>\n",
       "    <tr>\n",
       "      <th>workingday</th>\n",
       "      <td>int64</td>\n",
       "      <td>2</td>\n",
       "      <td>0.0</td>\n",
       "      <td>NA</td>\n",
       "      <td>0</td>\n",
       "      <td>0.0</td>\n",
       "    </tr>\n",
       "    <tr>\n",
       "      <th>weathersit</th>\n",
       "      <td>int64</td>\n",
       "      <td>3</td>\n",
       "      <td>0.0</td>\n",
       "      <td>NA</td>\n",
       "      <td>0</td>\n",
       "      <td>0.0</td>\n",
       "    </tr>\n",
       "    <tr>\n",
       "      <th>temp</th>\n",
       "      <td>float64</td>\n",
       "      <td>499</td>\n",
       "      <td>68.0</td>\n",
       "      <td>NA</td>\n",
       "      <td>0</td>\n",
       "      <td>0.0</td>\n",
       "    </tr>\n",
       "    <tr>\n",
       "      <th>atemp</th>\n",
       "      <td>float64</td>\n",
       "      <td>690</td>\n",
       "      <td>94.0</td>\n",
       "      <td>NA</td>\n",
       "      <td>0</td>\n",
       "      <td>0.0</td>\n",
       "    </tr>\n",
       "    <tr>\n",
       "      <th>hum</th>\n",
       "      <td>float64</td>\n",
       "      <td>595</td>\n",
       "      <td>81.0</td>\n",
       "      <td>NA</td>\n",
       "      <td>0</td>\n",
       "      <td>0.0</td>\n",
       "    </tr>\n",
       "    <tr>\n",
       "      <th>windspeed</th>\n",
       "      <td>float64</td>\n",
       "      <td>650</td>\n",
       "      <td>89.0</td>\n",
       "      <td>NA</td>\n",
       "      <td>0</td>\n",
       "      <td>0.0</td>\n",
       "    </tr>\n",
       "    <tr>\n",
       "      <th>cnt</th>\n",
       "      <td>int64</td>\n",
       "      <td>696</td>\n",
       "      <td>95.0</td>\n",
       "      <td>NA</td>\n",
       "      <td>0</td>\n",
       "      <td>0.0</td>\n",
       "    </tr>\n",
       "  </tbody>\n",
       "</table>\n",
       "</div>"
      ],
      "text/plain": [
       "           DataType  # of Categories  categories/sample ratio  \\\n",
       "season        int64                4                      1.0   \n",
       "mnth          int64               12                      2.0   \n",
       "holiday       int64                2                      0.0   \n",
       "weekday       int64                7                      1.0   \n",
       "workingday    int64                2                      0.0   \n",
       "weathersit    int64                3                      0.0   \n",
       "temp        float64              499                     68.0   \n",
       "atemp       float64              690                     94.0   \n",
       "hum         float64              595                     81.0   \n",
       "windspeed   float64              650                     89.0   \n",
       "cnt           int64              696                     95.0   \n",
       "\n",
       "           Data Science Type  missing values  missing values %  \n",
       "season                    NA               0               0.0  \n",
       "mnth                      NA               0               0.0  \n",
       "holiday                   NA               0               0.0  \n",
       "weekday                   NA               0               0.0  \n",
       "workingday                NA               0               0.0  \n",
       "weathersit                NA               0               0.0  \n",
       "temp                      NA               0               0.0  \n",
       "atemp                     NA               0               0.0  \n",
       "hum                       NA               0               0.0  \n",
       "windspeed                 NA               0               0.0  \n",
       "cnt                       NA               0               0.0  "
      ]
     },
     "execution_count": 921,
     "metadata": {},
     "output_type": "execute_result"
    }
   ],
   "source": [
    "info_dataframe = info_about_columns(dataframe=weather_for_bike_df)\n",
    "info_dataframe"
   ]
  },
  {
   "cell_type": "code",
   "execution_count": 922,
   "id": "4e36bc32",
   "metadata": {
    "ExecuteTime": {
     "end_time": "2023-04-07T19:09:02.167081Z",
     "start_time": "2023-04-07T19:09:02.138540Z"
    }
   },
   "outputs": [
    {
     "data": {
      "text/html": [
       "<div>\n",
       "<style scoped>\n",
       "    .dataframe tbody tr th:only-of-type {\n",
       "        vertical-align: middle;\n",
       "    }\n",
       "\n",
       "    .dataframe tbody tr th {\n",
       "        vertical-align: top;\n",
       "    }\n",
       "\n",
       "    .dataframe thead th {\n",
       "        text-align: right;\n",
       "    }\n",
       "</style>\n",
       "<table border=\"1\" class=\"dataframe\">\n",
       "  <thead>\n",
       "    <tr style=\"text-align: right;\">\n",
       "      <th></th>\n",
       "      <th>Column</th>\n",
       "      <th>Unique Count</th>\n",
       "      <th>values</th>\n",
       "    </tr>\n",
       "  </thead>\n",
       "  <tbody>\n",
       "    <tr>\n",
       "      <th>0</th>\n",
       "      <td>season</td>\n",
       "      <td>4</td>\n",
       "      <td>[3, 2, 1, 4]</td>\n",
       "    </tr>\n",
       "    <tr>\n",
       "      <th>1</th>\n",
       "      <td>mnth</td>\n",
       "      <td>12</td>\n",
       "      <td>[1, 3, 5, 7, 8, 10, 12, 4, 6, 9, 11, 2]</td>\n",
       "    </tr>\n",
       "    <tr>\n",
       "      <th>2</th>\n",
       "      <td>holiday</td>\n",
       "      <td>2</td>\n",
       "      <td>[0, 1]</td>\n",
       "    </tr>\n",
       "    <tr>\n",
       "      <th>3</th>\n",
       "      <td>weekday</td>\n",
       "      <td>7</td>\n",
       "      <td>[6, 0, 1, 2, 3, 4, 5]</td>\n",
       "    </tr>\n",
       "    <tr>\n",
       "      <th>4</th>\n",
       "      <td>workingday</td>\n",
       "      <td>2</td>\n",
       "      <td>[1, 0]</td>\n",
       "    </tr>\n",
       "    <tr>\n",
       "      <th>5</th>\n",
       "      <td>weathersit</td>\n",
       "      <td>3</td>\n",
       "      <td>[1, 2, 3]</td>\n",
       "    </tr>\n",
       "  </tbody>\n",
       "</table>\n",
       "</div>"
      ],
      "text/plain": [
       "       Column  Unique Count                                   values\n",
       "0      season             4                             [3, 2, 1, 4]\n",
       "1        mnth            12  [1, 3, 5, 7, 8, 10, 12, 4, 6, 9, 11, 2]\n",
       "2     holiday             2                                   [0, 1]\n",
       "3     weekday             7                    [6, 0, 1, 2, 3, 4, 5]\n",
       "4  workingday             2                                   [1, 0]\n",
       "5  weathersit             3                                [1, 2, 3]"
      ]
     },
     "execution_count": 922,
     "metadata": {},
     "output_type": "execute_result"
    }
   ],
   "source": [
    "display_categorical_values(weather_for_bike_df,info_dataframe,12)"
   ]
  },
  {
   "cell_type": "code",
   "execution_count": 923,
   "id": "f9dbfd7a",
   "metadata": {
    "ExecuteTime": {
     "end_time": "2023-04-07T19:09:02.893212Z",
     "start_time": "2023-04-07T19:09:02.875510Z"
    }
   },
   "outputs": [
    {
     "data": {
      "text/html": [
       "<div>\n",
       "<style scoped>\n",
       "    .dataframe tbody tr th:only-of-type {\n",
       "        vertical-align: middle;\n",
       "    }\n",
       "\n",
       "    .dataframe tbody tr th {\n",
       "        vertical-align: top;\n",
       "    }\n",
       "\n",
       "    .dataframe thead th {\n",
       "        text-align: right;\n",
       "    }\n",
       "</style>\n",
       "<table border=\"1\" class=\"dataframe\">\n",
       "  <thead>\n",
       "    <tr style=\"text-align: right;\">\n",
       "      <th></th>\n",
       "      <th>temp</th>\n",
       "      <th>atemp</th>\n",
       "      <th>hum</th>\n",
       "      <th>windspeed</th>\n",
       "      <th>weathersit</th>\n",
       "      <th>cnt</th>\n",
       "    </tr>\n",
       "  </thead>\n",
       "  <tbody>\n",
       "    <tr>\n",
       "      <th>711</th>\n",
       "      <td>0.297500</td>\n",
       "      <td>0.297338</td>\n",
       "      <td>0.538333</td>\n",
       "      <td>0.162937</td>\n",
       "      <td>2</td>\n",
       "      <td>5319</td>\n",
       "    </tr>\n",
       "    <tr>\n",
       "      <th>712</th>\n",
       "      <td>0.295833</td>\n",
       "      <td>0.294188</td>\n",
       "      <td>0.485833</td>\n",
       "      <td>0.174129</td>\n",
       "      <td>1</td>\n",
       "      <td>5532</td>\n",
       "    </tr>\n",
       "    <tr>\n",
       "      <th>713</th>\n",
       "      <td>0.281667</td>\n",
       "      <td>0.294192</td>\n",
       "      <td>0.642917</td>\n",
       "      <td>0.131229</td>\n",
       "      <td>1</td>\n",
       "      <td>5611</td>\n",
       "    </tr>\n",
       "    <tr>\n",
       "      <th>714</th>\n",
       "      <td>0.324167</td>\n",
       "      <td>0.338383</td>\n",
       "      <td>0.650417</td>\n",
       "      <td>0.106350</td>\n",
       "      <td>1</td>\n",
       "      <td>5047</td>\n",
       "    </tr>\n",
       "    <tr>\n",
       "      <th>715</th>\n",
       "      <td>0.362500</td>\n",
       "      <td>0.369938</td>\n",
       "      <td>0.838750</td>\n",
       "      <td>0.100742</td>\n",
       "      <td>2</td>\n",
       "      <td>3786</td>\n",
       "    </tr>\n",
       "    <tr>\n",
       "      <th>716</th>\n",
       "      <td>0.393333</td>\n",
       "      <td>0.401500</td>\n",
       "      <td>0.907083</td>\n",
       "      <td>0.098258</td>\n",
       "      <td>2</td>\n",
       "      <td>4585</td>\n",
       "    </tr>\n",
       "    <tr>\n",
       "      <th>717</th>\n",
       "      <td>0.410833</td>\n",
       "      <td>0.409708</td>\n",
       "      <td>0.666250</td>\n",
       "      <td>0.221404</td>\n",
       "      <td>1</td>\n",
       "      <td>5557</td>\n",
       "    </tr>\n",
       "    <tr>\n",
       "      <th>718</th>\n",
       "      <td>0.332500</td>\n",
       "      <td>0.342162</td>\n",
       "      <td>0.625417</td>\n",
       "      <td>0.184092</td>\n",
       "      <td>1</td>\n",
       "      <td>5267</td>\n",
       "    </tr>\n",
       "    <tr>\n",
       "      <th>719</th>\n",
       "      <td>0.330000</td>\n",
       "      <td>0.335217</td>\n",
       "      <td>0.667917</td>\n",
       "      <td>0.132463</td>\n",
       "      <td>2</td>\n",
       "      <td>4128</td>\n",
       "    </tr>\n",
       "    <tr>\n",
       "      <th>720</th>\n",
       "      <td>0.326667</td>\n",
       "      <td>0.301767</td>\n",
       "      <td>0.556667</td>\n",
       "      <td>0.374383</td>\n",
       "      <td>2</td>\n",
       "      <td>3623</td>\n",
       "    </tr>\n",
       "    <tr>\n",
       "      <th>721</th>\n",
       "      <td>0.265833</td>\n",
       "      <td>0.236113</td>\n",
       "      <td>0.441250</td>\n",
       "      <td>0.407346</td>\n",
       "      <td>1</td>\n",
       "      <td>1749</td>\n",
       "    </tr>\n",
       "    <tr>\n",
       "      <th>722</th>\n",
       "      <td>0.245833</td>\n",
       "      <td>0.259471</td>\n",
       "      <td>0.515417</td>\n",
       "      <td>0.133083</td>\n",
       "      <td>1</td>\n",
       "      <td>1787</td>\n",
       "    </tr>\n",
       "    <tr>\n",
       "      <th>723</th>\n",
       "      <td>0.231304</td>\n",
       "      <td>0.258900</td>\n",
       "      <td>0.791304</td>\n",
       "      <td>0.077230</td>\n",
       "      <td>2</td>\n",
       "      <td>920</td>\n",
       "    </tr>\n",
       "    <tr>\n",
       "      <th>724</th>\n",
       "      <td>0.291304</td>\n",
       "      <td>0.294465</td>\n",
       "      <td>0.734783</td>\n",
       "      <td>0.168726</td>\n",
       "      <td>2</td>\n",
       "      <td>1013</td>\n",
       "    </tr>\n",
       "    <tr>\n",
       "      <th>725</th>\n",
       "      <td>0.243333</td>\n",
       "      <td>0.220333</td>\n",
       "      <td>0.823333</td>\n",
       "      <td>0.316546</td>\n",
       "      <td>3</td>\n",
       "      <td>441</td>\n",
       "    </tr>\n",
       "    <tr>\n",
       "      <th>726</th>\n",
       "      <td>0.254167</td>\n",
       "      <td>0.226642</td>\n",
       "      <td>0.652917</td>\n",
       "      <td>0.350133</td>\n",
       "      <td>2</td>\n",
       "      <td>2114</td>\n",
       "    </tr>\n",
       "    <tr>\n",
       "      <th>727</th>\n",
       "      <td>0.253333</td>\n",
       "      <td>0.255046</td>\n",
       "      <td>0.590000</td>\n",
       "      <td>0.155471</td>\n",
       "      <td>2</td>\n",
       "      <td>3095</td>\n",
       "    </tr>\n",
       "    <tr>\n",
       "      <th>728</th>\n",
       "      <td>0.253333</td>\n",
       "      <td>0.242400</td>\n",
       "      <td>0.752917</td>\n",
       "      <td>0.124383</td>\n",
       "      <td>2</td>\n",
       "      <td>1341</td>\n",
       "    </tr>\n",
       "    <tr>\n",
       "      <th>729</th>\n",
       "      <td>0.255833</td>\n",
       "      <td>0.231700</td>\n",
       "      <td>0.483333</td>\n",
       "      <td>0.350754</td>\n",
       "      <td>1</td>\n",
       "      <td>1796</td>\n",
       "    </tr>\n",
       "    <tr>\n",
       "      <th>730</th>\n",
       "      <td>0.215833</td>\n",
       "      <td>0.223487</td>\n",
       "      <td>0.577500</td>\n",
       "      <td>0.154846</td>\n",
       "      <td>2</td>\n",
       "      <td>2729</td>\n",
       "    </tr>\n",
       "  </tbody>\n",
       "</table>\n",
       "</div>"
      ],
      "text/plain": [
       "         temp     atemp       hum  windspeed  weathersit   cnt\n",
       "711  0.297500  0.297338  0.538333   0.162937           2  5319\n",
       "712  0.295833  0.294188  0.485833   0.174129           1  5532\n",
       "713  0.281667  0.294192  0.642917   0.131229           1  5611\n",
       "714  0.324167  0.338383  0.650417   0.106350           1  5047\n",
       "715  0.362500  0.369938  0.838750   0.100742           2  3786\n",
       "716  0.393333  0.401500  0.907083   0.098258           2  4585\n",
       "717  0.410833  0.409708  0.666250   0.221404           1  5557\n",
       "718  0.332500  0.342162  0.625417   0.184092           1  5267\n",
       "719  0.330000  0.335217  0.667917   0.132463           2  4128\n",
       "720  0.326667  0.301767  0.556667   0.374383           2  3623\n",
       "721  0.265833  0.236113  0.441250   0.407346           1  1749\n",
       "722  0.245833  0.259471  0.515417   0.133083           1  1787\n",
       "723  0.231304  0.258900  0.791304   0.077230           2   920\n",
       "724  0.291304  0.294465  0.734783   0.168726           2  1013\n",
       "725  0.243333  0.220333  0.823333   0.316546           3   441\n",
       "726  0.254167  0.226642  0.652917   0.350133           2  2114\n",
       "727  0.253333  0.255046  0.590000   0.155471           2  3095\n",
       "728  0.253333  0.242400  0.752917   0.124383           2  1341\n",
       "729  0.255833  0.231700  0.483333   0.350754           1  1796\n",
       "730  0.215833  0.223487  0.577500   0.154846           2  2729"
      ]
     },
     "execution_count": 923,
     "metadata": {},
     "output_type": "execute_result"
    }
   ],
   "source": [
    "# From this we learn that correlation between weatersit and count\n",
    "# 3 ( weathersit )has the lowest amount of bike rented and 1 has the greatest\n",
    "weather_for_bike_df[[\"temp\", \"atemp\", \"hum\", \"windspeed\", \"weathersit\", \"cnt\"]].tail(20)"
   ]
  },
  {
   "cell_type": "code",
   "execution_count": 924,
   "id": "2de456d5",
   "metadata": {
    "ExecuteTime": {
     "end_time": "2023-04-07T19:09:03.612754Z",
     "start_time": "2023-04-07T19:09:03.610301Z"
    }
   },
   "outputs": [],
   "source": [
    "### This section will check for uniques"
   ]
  },
  {
   "cell_type": "code",
   "execution_count": 925,
   "id": "baf6e055",
   "metadata": {
    "ExecuteTime": {
     "end_time": "2023-04-07T19:09:04.392124Z",
     "start_time": "2023-04-07T19:09:04.378662Z"
    }
   },
   "outputs": [
    {
     "data": {
      "text/html": [
       "<div>\n",
       "<style scoped>\n",
       "    .dataframe tbody tr th:only-of-type {\n",
       "        vertical-align: middle;\n",
       "    }\n",
       "\n",
       "    .dataframe tbody tr th {\n",
       "        vertical-align: top;\n",
       "    }\n",
       "\n",
       "    .dataframe thead th {\n",
       "        text-align: right;\n",
       "    }\n",
       "</style>\n",
       "<table border=\"1\" class=\"dataframe\">\n",
       "  <thead>\n",
       "    <tr style=\"text-align: right;\">\n",
       "      <th></th>\n",
       "      <th>season</th>\n",
       "      <th>mnth</th>\n",
       "      <th>weekday</th>\n",
       "    </tr>\n",
       "  </thead>\n",
       "  <tbody>\n",
       "    <tr>\n",
       "      <th>0</th>\n",
       "      <td>1</td>\n",
       "      <td>1</td>\n",
       "      <td>6</td>\n",
       "    </tr>\n",
       "    <tr>\n",
       "      <th>1</th>\n",
       "      <td>1</td>\n",
       "      <td>1</td>\n",
       "      <td>0</td>\n",
       "    </tr>\n",
       "    <tr>\n",
       "      <th>2</th>\n",
       "      <td>1</td>\n",
       "      <td>1</td>\n",
       "      <td>1</td>\n",
       "    </tr>\n",
       "    <tr>\n",
       "      <th>3</th>\n",
       "      <td>1</td>\n",
       "      <td>1</td>\n",
       "      <td>2</td>\n",
       "    </tr>\n",
       "    <tr>\n",
       "      <th>4</th>\n",
       "      <td>1</td>\n",
       "      <td>1</td>\n",
       "      <td>3</td>\n",
       "    </tr>\n",
       "    <tr>\n",
       "      <th>5</th>\n",
       "      <td>1</td>\n",
       "      <td>1</td>\n",
       "      <td>4</td>\n",
       "    </tr>\n",
       "    <tr>\n",
       "      <th>6</th>\n",
       "      <td>1</td>\n",
       "      <td>1</td>\n",
       "      <td>5</td>\n",
       "    </tr>\n",
       "    <tr>\n",
       "      <th>7</th>\n",
       "      <td>1</td>\n",
       "      <td>1</td>\n",
       "      <td>6</td>\n",
       "    </tr>\n",
       "    <tr>\n",
       "      <th>8</th>\n",
       "      <td>1</td>\n",
       "      <td>1</td>\n",
       "      <td>0</td>\n",
       "    </tr>\n",
       "    <tr>\n",
       "      <th>9</th>\n",
       "      <td>1</td>\n",
       "      <td>1</td>\n",
       "      <td>1</td>\n",
       "    </tr>\n",
       "  </tbody>\n",
       "</table>\n",
       "</div>"
      ],
      "text/plain": [
       "   season  mnth  weekday\n",
       "0       1     1        6\n",
       "1       1     1        0\n",
       "2       1     1        1\n",
       "3       1     1        2\n",
       "4       1     1        3\n",
       "5       1     1        4\n",
       "6       1     1        5\n",
       "7       1     1        6\n",
       "8       1     1        0\n",
       "9       1     1        1"
      ]
     },
     "execution_count": 925,
     "metadata": {},
     "output_type": "execute_result"
    }
   ],
   "source": [
    "# check unique \n",
    "duplicated_dataframe = weather_for_bike_df[[\"season\", \"mnth\", \"weekday\"]]\n",
    "duplicated_dataframe[ duplicated_dataframe.duplicated(keep=False)].head(10)"
   ]
  },
  {
   "cell_type": "code",
   "execution_count": 926,
   "id": "d0adc7db",
   "metadata": {
    "ExecuteTime": {
     "end_time": "2023-04-07T19:09:05.207880Z",
     "start_time": "2023-04-07T19:09:05.196626Z"
    }
   },
   "outputs": [
    {
     "data": {
      "text/html": [
       "<div>\n",
       "<style scoped>\n",
       "    .dataframe tbody tr th:only-of-type {\n",
       "        vertical-align: middle;\n",
       "    }\n",
       "\n",
       "    .dataframe tbody tr th {\n",
       "        vertical-align: top;\n",
       "    }\n",
       "\n",
       "    .dataframe thead th {\n",
       "        text-align: right;\n",
       "    }\n",
       "</style>\n",
       "<table border=\"1\" class=\"dataframe\">\n",
       "  <thead>\n",
       "    <tr style=\"text-align: right;\">\n",
       "      <th></th>\n",
       "      <th>season</th>\n",
       "      <th>mnth</th>\n",
       "      <th>holiday</th>\n",
       "      <th>weekday</th>\n",
       "      <th>workingday</th>\n",
       "      <th>weathersit</th>\n",
       "      <th>temp</th>\n",
       "      <th>atemp</th>\n",
       "      <th>hum</th>\n",
       "      <th>windspeed</th>\n",
       "      <th>cnt</th>\n",
       "    </tr>\n",
       "  </thead>\n",
       "  <tbody>\n",
       "    <tr>\n",
       "      <th>0</th>\n",
       "      <td>1</td>\n",
       "      <td>1</td>\n",
       "      <td>0</td>\n",
       "      <td>6</td>\n",
       "      <td>0</td>\n",
       "      <td>2</td>\n",
       "      <td>0.344167</td>\n",
       "      <td>0.363625</td>\n",
       "      <td>0.805833</td>\n",
       "      <td>0.160446</td>\n",
       "      <td>985</td>\n",
       "    </tr>\n",
       "    <tr>\n",
       "      <th>7</th>\n",
       "      <td>1</td>\n",
       "      <td>1</td>\n",
       "      <td>0</td>\n",
       "      <td>6</td>\n",
       "      <td>0</td>\n",
       "      <td>2</td>\n",
       "      <td>0.165000</td>\n",
       "      <td>0.162254</td>\n",
       "      <td>0.535833</td>\n",
       "      <td>0.266804</td>\n",
       "      <td>959</td>\n",
       "    </tr>\n",
       "  </tbody>\n",
       "</table>\n",
       "</div>"
      ],
      "text/plain": [
       "   season  mnth  holiday  weekday  workingday  weathersit      temp     atemp  \\\n",
       "0       1     1        0        6           0           2  0.344167  0.363625   \n",
       "7       1     1        0        6           0           2  0.165000  0.162254   \n",
       "\n",
       "        hum  windspeed  cnt  \n",
       "0  0.805833   0.160446  985  \n",
       "7  0.535833   0.266804  959  "
      ]
     },
     "execution_count": 926,
     "metadata": {},
     "output_type": "execute_result"
    }
   ],
   "source": [
    "# Question for the homework : Should the duplicates be discarded or not\n",
    "weather_for_bike_df.iloc[0:10:7,:]"
   ]
  },
  {
   "cell_type": "code",
   "execution_count": 927,
   "id": "a0dd6bae",
   "metadata": {
    "ExecuteTime": {
     "end_time": "2023-04-07T19:09:06.045406Z",
     "start_time": "2023-04-07T19:09:06.042733Z"
    }
   },
   "outputs": [],
   "source": [
    "## Machine Learning "
   ]
  },
  {
   "cell_type": "code",
   "execution_count": 928,
   "id": "3169b6e9",
   "metadata": {
    "ExecuteTime": {
     "end_time": "2023-04-07T19:09:07.248327Z",
     "start_time": "2023-04-07T19:09:06.985741Z"
    }
   },
   "outputs": [
    {
     "data": {
      "image/png": "[encoded data removed]",
      "text/plain": [
       "<Figure size 640x480 with 1 Axes>"
      ]
     },
     "metadata": {},
     "output_type": "display_data"
    }
   ],
   "source": [
    "# Question : How should the outliers be handled.\n",
    "import matplotlib.pyplot as plt\n",
    "b = weather_for_bike_df.\\\n",
    "    drop(['cnt', 'mnth', 'weekday', 'season', 'weathersit'], axis=1).boxplot()\n",
    "#b.plot()\n",
    "plt.show()"
   ]
  },
  {
   "cell_type": "code",
   "execution_count": 934,
   "id": "9dabf03d",
   "metadata": {
    "ExecuteTime": {
     "end_time": "2023-04-07T19:10:07.954012Z",
     "start_time": "2023-04-07T19:10:07.937897Z"
    }
   },
   "outputs": [
    {
     "data": {
      "text/plain": [
       "((584, 10), (147, 10), (584,), (147,))"
      ]
     },
     "execution_count": 934,
     "metadata": {},
     "output_type": "execute_result"
    }
   ],
   "source": [
    "## Using Machine Learning Linear Regression \n",
    "from sklearn.linear_model import LinearRegression\n",
    "from sklearn.model_selection import train_test_split\n",
    "\n",
    "X = weather_for_bike_df.drop('cnt', axis=1)\n",
    "y = weather_for_bike_df['cnt']\n",
    "(X_train, X_test, y_train, y_test) = \\\n",
    "    train_test_split(X,y,test_size=.2,random_state=42)\n",
    "(X_train.shape, X_test.shape, y_train.shape, y_test.shape)"
   ]
  },
  {
   "cell_type": "code",
   "execution_count": 1024,
   "id": "76a8fa9b",
   "metadata": {
    "ExecuteTime": {
     "end_time": "2023-04-07T21:22:00.932641Z",
     "start_time": "2023-04-07T21:22:00.928051Z"
    }
   },
   "outputs": [],
   "source": [
    "def analyze_model(model,X,y):\n",
    "    '''\n",
    "        To provide information that should be available to models\n",
    "    '''\n",
    "    print(\"The score for the training dataset is \", \\\n",
    "          model.score(X_train,y_train))\n",
    "    print(\"The score for the testing  dataset is \", \\\n",
    "         model.score(X_test, y_test))\n",
    "    print(\"The score ( R^2) is \", model.score(X,y))\n"
   ]
  },
  {
   "cell_type": "code",
   "execution_count": 956,
   "id": "9f0b2d39",
   "metadata": {
    "ExecuteTime": {
     "end_time": "2023-04-07T19:17:07.352206Z",
     "start_time": "2023-04-07T19:17:07.348984Z"
    }
   },
   "outputs": [],
   "source": [
    "# from sklearn.preprocessing import StandardScaler\n",
    "# standardScalar = StandardScaler()\n",
    "# X_train2 = standardScalar.fit_transform(X_train)"
   ]
  },
  {
   "cell_type": "code",
   "execution_count": 962,
   "id": "e2e06152",
   "metadata": {
    "ExecuteTime": {
     "end_time": "2023-04-07T19:36:36.442609Z",
     "start_time": "2023-04-07T19:36:36.421566Z"
    }
   },
   "outputs": [
    {
     "name": "stdout",
     "output_type": "stream",
     "text": [
      "The score for the training dataset is  0.517644587434399\n",
      "The score for the testing  dataset is  0.5518626278474863\n",
      "The score is  0.5518626278474863\n"
     ]
    },
    {
     "data": {
      "text/plain": [
       "('Mean Square Error', 1796978.1114466998)"
      ]
     },
     "execution_count": 962,
     "metadata": {},
     "output_type": "execute_result"
    }
   ],
   "source": [
    "linearRegression = LinearRegression()\n",
    "linearRegression.fit(X_train,y_train)\n",
    "analyze_model(linearRegression,X_test,y_test)\n",
    "\n",
    "#\n",
    "# Calculate the mean squarey\n",
    "#\n",
    "y_predict = linearRegression.predict(X_test)\n",
    "\"Mean Square Error\", mean_squared_error(y_test, y_predict)"
   ]
  },
  {
   "cell_type": "code",
   "execution_count": 933,
   "id": "410d86f4",
   "metadata": {
    "ExecuteTime": {
     "end_time": "2023-04-07T19:09:18.125097Z",
     "start_time": "2023-04-07T19:09:17.977418Z"
    }
   },
   "outputs": [
    {
     "data": {
      "image/png": "[encoded data removed]",
      "text/plain": [
       "<Figure size 640x480 with 1 Axes>"
      ]
     },
     "metadata": {},
     "output_type": "display_data"
    }
   ],
   "source": [
    "plt.scatter(range(X_train.shape[1]), \\\n",
    "    linearRegression.coef_, \\\n",
    "    c=np.sign(model.coef_))\n",
    "plt.title(\"Coeffecients\")\n",
    "plt.show()\n"
   ]
  },
  {
   "cell_type": "markdown",
   "id": "0d36bfb0",
   "metadata": {
    "ExecuteTime": {
     "end_time": "2023-04-05T00:05:48.900219Z",
     "start_time": "2023-04-05T00:05:48.681652Z"
    }
   },
   "source": [
    "# Assignment 2b\n",
    "\n",
    "> * Load the diabetes dataset using sklearn.datasets.load_diabetes.\n",
    "> * Scale the dataset (you can be creative and make pipelines)\n",
    "> * Apply LinearRegression,\n",
    "> * Apply Ridge and do grid search\n",
    "> * Apply Lasso and do grid search\n",
    "> *Visualize the coefficients."
   ]
  },
  {
   "cell_type": "code",
   "execution_count": 881,
   "id": "9f84a4fd",
   "metadata": {
    "ExecuteTime": {
     "end_time": "2023-04-05T05:48:40.144934Z",
     "start_time": "2023-04-05T05:48:40.115266Z"
    }
   },
   "outputs": [],
   "source": [
    "#Load the diabetes dataset using sklearn.datasets.load_diabetes.\n",
    "diabetes_raw = load_diabetes()"
   ]
  },
  {
   "cell_type": "code",
   "execution_count": 882,
   "id": "0dd0af7e",
   "metadata": {
    "ExecuteTime": {
     "end_time": "2023-04-05T05:48:40.153503Z",
     "start_time": "2023-04-05T05:48:40.147202Z"
    }
   },
   "outputs": [
    {
     "data": {
      "text/plain": [
       "dict_keys(['data', 'target', 'frame', 'DESCR', 'feature_names', 'data_filename', 'target_filename', 'data_module'])"
      ]
     },
     "execution_count": 882,
     "metadata": {},
     "output_type": "execute_result"
    }
   ],
   "source": [
    "diabetes_raw.keys()"
   ]
  },
  {
   "cell_type": "markdown",
   "id": "bf222848",
   "metadata": {
    "ExecuteTime": {
     "end_time": "2023-04-05T00:29:21.040755Z",
     "start_time": "2023-04-05T00:29:21.037737Z"
    }
   },
   "source": [
    "## Create the dataset and display informatin about the dataset"
   ]
  },
  {
   "cell_type": "code",
   "execution_count": 883,
   "id": "f72057aa",
   "metadata": {
    "ExecuteTime": {
     "end_time": "2023-04-05T05:48:40.182717Z",
     "start_time": "2023-04-05T05:48:40.158657Z"
    }
   },
   "outputs": [
    {
     "data": {
      "text/html": [
       "<div>\n",
       "<style scoped>\n",
       "    .dataframe tbody tr th:only-of-type {\n",
       "        vertical-align: middle;\n",
       "    }\n",
       "\n",
       "    .dataframe tbody tr th {\n",
       "        vertical-align: top;\n",
       "    }\n",
       "\n",
       "    .dataframe thead th {\n",
       "        text-align: right;\n",
       "    }\n",
       "</style>\n",
       "<table border=\"1\" class=\"dataframe\">\n",
       "  <thead>\n",
       "    <tr style=\"text-align: right;\">\n",
       "      <th></th>\n",
       "      <th>age</th>\n",
       "      <th>sex</th>\n",
       "      <th>bmi</th>\n",
       "      <th>bp</th>\n",
       "      <th>s1</th>\n",
       "      <th>s2</th>\n",
       "      <th>s3</th>\n",
       "      <th>s4</th>\n",
       "      <th>s5</th>\n",
       "      <th>s6</th>\n",
       "    </tr>\n",
       "  </thead>\n",
       "  <tbody>\n",
       "    <tr>\n",
       "      <th>0</th>\n",
       "      <td>0.038076</td>\n",
       "      <td>0.050680</td>\n",
       "      <td>0.061696</td>\n",
       "      <td>0.021872</td>\n",
       "      <td>-0.044223</td>\n",
       "      <td>-0.034821</td>\n",
       "      <td>-0.043401</td>\n",
       "      <td>-0.002592</td>\n",
       "      <td>0.019907</td>\n",
       "      <td>-0.017646</td>\n",
       "    </tr>\n",
       "    <tr>\n",
       "      <th>1</th>\n",
       "      <td>-0.001882</td>\n",
       "      <td>-0.044642</td>\n",
       "      <td>-0.051474</td>\n",
       "      <td>-0.026328</td>\n",
       "      <td>-0.008449</td>\n",
       "      <td>-0.019163</td>\n",
       "      <td>0.074412</td>\n",
       "      <td>-0.039493</td>\n",
       "      <td>-0.068332</td>\n",
       "      <td>-0.092204</td>\n",
       "    </tr>\n",
       "    <tr>\n",
       "      <th>2</th>\n",
       "      <td>0.085299</td>\n",
       "      <td>0.050680</td>\n",
       "      <td>0.044451</td>\n",
       "      <td>-0.005670</td>\n",
       "      <td>-0.045599</td>\n",
       "      <td>-0.034194</td>\n",
       "      <td>-0.032356</td>\n",
       "      <td>-0.002592</td>\n",
       "      <td>0.002861</td>\n",
       "      <td>-0.025930</td>\n",
       "    </tr>\n",
       "    <tr>\n",
       "      <th>3</th>\n",
       "      <td>-0.089063</td>\n",
       "      <td>-0.044642</td>\n",
       "      <td>-0.011595</td>\n",
       "      <td>-0.036656</td>\n",
       "      <td>0.012191</td>\n",
       "      <td>0.024991</td>\n",
       "      <td>-0.036038</td>\n",
       "      <td>0.034309</td>\n",
       "      <td>0.022688</td>\n",
       "      <td>-0.009362</td>\n",
       "    </tr>\n",
       "    <tr>\n",
       "      <th>4</th>\n",
       "      <td>0.005383</td>\n",
       "      <td>-0.044642</td>\n",
       "      <td>-0.036385</td>\n",
       "      <td>0.021872</td>\n",
       "      <td>0.003935</td>\n",
       "      <td>0.015596</td>\n",
       "      <td>0.008142</td>\n",
       "      <td>-0.002592</td>\n",
       "      <td>-0.031988</td>\n",
       "      <td>-0.046641</td>\n",
       "    </tr>\n",
       "    <tr>\n",
       "      <th>...</th>\n",
       "      <td>...</td>\n",
       "      <td>...</td>\n",
       "      <td>...</td>\n",
       "      <td>...</td>\n",
       "      <td>...</td>\n",
       "      <td>...</td>\n",
       "      <td>...</td>\n",
       "      <td>...</td>\n",
       "      <td>...</td>\n",
       "      <td>...</td>\n",
       "    </tr>\n",
       "    <tr>\n",
       "      <th>437</th>\n",
       "      <td>0.041708</td>\n",
       "      <td>0.050680</td>\n",
       "      <td>0.019662</td>\n",
       "      <td>0.059744</td>\n",
       "      <td>-0.005697</td>\n",
       "      <td>-0.002566</td>\n",
       "      <td>-0.028674</td>\n",
       "      <td>-0.002592</td>\n",
       "      <td>0.031193</td>\n",
       "      <td>0.007207</td>\n",
       "    </tr>\n",
       "    <tr>\n",
       "      <th>438</th>\n",
       "      <td>-0.005515</td>\n",
       "      <td>0.050680</td>\n",
       "      <td>-0.015906</td>\n",
       "      <td>-0.067642</td>\n",
       "      <td>0.049341</td>\n",
       "      <td>0.079165</td>\n",
       "      <td>-0.028674</td>\n",
       "      <td>0.034309</td>\n",
       "      <td>-0.018114</td>\n",
       "      <td>0.044485</td>\n",
       "    </tr>\n",
       "    <tr>\n",
       "      <th>439</th>\n",
       "      <td>0.041708</td>\n",
       "      <td>0.050680</td>\n",
       "      <td>-0.015906</td>\n",
       "      <td>0.017293</td>\n",
       "      <td>-0.037344</td>\n",
       "      <td>-0.013840</td>\n",
       "      <td>-0.024993</td>\n",
       "      <td>-0.011080</td>\n",
       "      <td>-0.046883</td>\n",
       "      <td>0.015491</td>\n",
       "    </tr>\n",
       "    <tr>\n",
       "      <th>440</th>\n",
       "      <td>-0.045472</td>\n",
       "      <td>-0.044642</td>\n",
       "      <td>0.039062</td>\n",
       "      <td>0.001215</td>\n",
       "      <td>0.016318</td>\n",
       "      <td>0.015283</td>\n",
       "      <td>-0.028674</td>\n",
       "      <td>0.026560</td>\n",
       "      <td>0.044529</td>\n",
       "      <td>-0.025930</td>\n",
       "    </tr>\n",
       "    <tr>\n",
       "      <th>441</th>\n",
       "      <td>-0.045472</td>\n",
       "      <td>-0.044642</td>\n",
       "      <td>-0.073030</td>\n",
       "      <td>-0.081413</td>\n",
       "      <td>0.083740</td>\n",
       "      <td>0.027809</td>\n",
       "      <td>0.173816</td>\n",
       "      <td>-0.039493</td>\n",
       "      <td>-0.004222</td>\n",
       "      <td>0.003064</td>\n",
       "    </tr>\n",
       "  </tbody>\n",
       "</table>\n",
       "<p>442 rows × 10 columns</p>\n",
       "</div>"
      ],
      "text/plain": [
       "          age       sex       bmi        bp        s1        s2        s3  \\\n",
       "0    0.038076  0.050680  0.061696  0.021872 -0.044223 -0.034821 -0.043401   \n",
       "1   -0.001882 -0.044642 -0.051474 -0.026328 -0.008449 -0.019163  0.074412   \n",
       "2    0.085299  0.050680  0.044451 -0.005670 -0.045599 -0.034194 -0.032356   \n",
       "3   -0.089063 -0.044642 -0.011595 -0.036656  0.012191  0.024991 -0.036038   \n",
       "4    0.005383 -0.044642 -0.036385  0.021872  0.003935  0.015596  0.008142   \n",
       "..        ...       ...       ...       ...       ...       ...       ...   \n",
       "437  0.041708  0.050680  0.019662  0.059744 -0.005697 -0.002566 -0.028674   \n",
       "438 -0.005515  0.050680 -0.015906 -0.067642  0.049341  0.079165 -0.028674   \n",
       "439  0.041708  0.050680 -0.015906  0.017293 -0.037344 -0.013840 -0.024993   \n",
       "440 -0.045472 -0.044642  0.039062  0.001215  0.016318  0.015283 -0.028674   \n",
       "441 -0.045472 -0.044642 -0.073030 -0.081413  0.083740  0.027809  0.173816   \n",
       "\n",
       "           s4        s5        s6  \n",
       "0   -0.002592  0.019907 -0.017646  \n",
       "1   -0.039493 -0.068332 -0.092204  \n",
       "2   -0.002592  0.002861 -0.025930  \n",
       "3    0.034309  0.022688 -0.009362  \n",
       "4   -0.002592 -0.031988 -0.046641  \n",
       "..        ...       ...       ...  \n",
       "437 -0.002592  0.031193  0.007207  \n",
       "438  0.034309 -0.018114  0.044485  \n",
       "439 -0.011080 -0.046883  0.015491  \n",
       "440  0.026560  0.044529 -0.025930  \n",
       "441 -0.039493 -0.004222  0.003064  \n",
       "\n",
       "[442 rows x 10 columns]"
      ]
     },
     "execution_count": 883,
     "metadata": {},
     "output_type": "execute_result"
    }
   ],
   "source": [
    "x_diabetes_df = pd.DataFrame(data=diabetes_raw.data, columns=diabetes_raw.feature_names)\n",
    "x_diabetes_df"
   ]
  },
  {
   "cell_type": "code",
   "execution_count": 884,
   "id": "cabc9026",
   "metadata": {
    "ExecuteTime": {
     "end_time": "2023-04-05T05:48:40.218270Z",
     "start_time": "2023-04-05T05:48:40.185104Z"
    }
   },
   "outputs": [
    {
     "data": {
      "text/html": [
       "<div>\n",
       "<style scoped>\n",
       "    .dataframe tbody tr th:only-of-type {\n",
       "        vertical-align: middle;\n",
       "    }\n",
       "\n",
       "    .dataframe tbody tr th {\n",
       "        vertical-align: top;\n",
       "    }\n",
       "\n",
       "    .dataframe thead th {\n",
       "        text-align: right;\n",
       "    }\n",
       "</style>\n",
       "<table border=\"1\" class=\"dataframe\">\n",
       "  <thead>\n",
       "    <tr style=\"text-align: right;\">\n",
       "      <th></th>\n",
       "      <th>Target</th>\n",
       "    </tr>\n",
       "  </thead>\n",
       "  <tbody>\n",
       "    <tr>\n",
       "      <th>0</th>\n",
       "      <td>151.0</td>\n",
       "    </tr>\n",
       "    <tr>\n",
       "      <th>1</th>\n",
       "      <td>75.0</td>\n",
       "    </tr>\n",
       "    <tr>\n",
       "      <th>2</th>\n",
       "      <td>141.0</td>\n",
       "    </tr>\n",
       "    <tr>\n",
       "      <th>3</th>\n",
       "      <td>206.0</td>\n",
       "    </tr>\n",
       "    <tr>\n",
       "      <th>4</th>\n",
       "      <td>135.0</td>\n",
       "    </tr>\n",
       "    <tr>\n",
       "      <th>...</th>\n",
       "      <td>...</td>\n",
       "    </tr>\n",
       "    <tr>\n",
       "      <th>437</th>\n",
       "      <td>178.0</td>\n",
       "    </tr>\n",
       "    <tr>\n",
       "      <th>438</th>\n",
       "      <td>104.0</td>\n",
       "    </tr>\n",
       "    <tr>\n",
       "      <th>439</th>\n",
       "      <td>132.0</td>\n",
       "    </tr>\n",
       "    <tr>\n",
       "      <th>440</th>\n",
       "      <td>220.0</td>\n",
       "    </tr>\n",
       "    <tr>\n",
       "      <th>441</th>\n",
       "      <td>57.0</td>\n",
       "    </tr>\n",
       "  </tbody>\n",
       "</table>\n",
       "<p>442 rows × 1 columns</p>\n",
       "</div>"
      ],
      "text/plain": [
       "     Target\n",
       "0     151.0\n",
       "1      75.0\n",
       "2     141.0\n",
       "3     206.0\n",
       "4     135.0\n",
       "..      ...\n",
       "437   178.0\n",
       "438   104.0\n",
       "439   132.0\n",
       "440   220.0\n",
       "441    57.0\n",
       "\n",
       "[442 rows x 1 columns]"
      ]
     },
     "execution_count": 884,
     "metadata": {},
     "output_type": "execute_result"
    }
   ],
   "source": [
    "y_diabetes_df = pd.DataFrame(data=diabetes_raw.target, columns=['Target'])\n",
    "y_diabetes_df"
   ]
  },
  {
   "cell_type": "code",
   "execution_count": 885,
   "id": "49c2634f",
   "metadata": {
    "ExecuteTime": {
     "end_time": "2023-04-05T05:48:40.229155Z",
     "start_time": "2023-04-05T05:48:40.224277Z"
    }
   },
   "outputs": [
    {
     "name": "stdout",
     "output_type": "stream",
     "text": [
      ".. _diabetes_dataset:\n",
      "\n",
      "Diabetes dataset\n",
      "----------------\n",
      "\n",
      "Ten baseline variables, age, sex, body mass index, average blood\n",
      "pressure, and six blood serum measurements were obtained for each of n =\n",
      "442 diabetes patients, as well as the response of interest, a\n",
      "quantitative measure of disease progression one year after baseline.\n",
      "\n",
      "**Data Set Characteristics:**\n",
      "\n",
      "  :Number of Instances: 442\n",
      "\n",
      "  :Number of Attributes: First 10 columns are numeric predictive values\n",
      "\n",
      "  :Target: Column 11 is a quantitative measure of disease progression one year after baseline\n",
      "\n",
      "  :Attribute Information:\n",
      "      - age     age in years\n",
      "      - sex\n",
      "      - bmi     body mass index\n",
      "      - bp      average blood pressure\n",
      "      - s1      tc, total serum cholesterol\n",
      "      - s2      ldl, low-density lipoproteins\n",
      "      - s3      hdl, high-density lipoproteins\n",
      "      - s4      tch, total cholesterol / HDL\n",
      "      - s5      ltg, possibly log of serum triglycerides level\n",
      "      - s6      glu, blood sugar level\n",
      "\n",
      "Note: Each of these 10 feature variables have been mean centered and scaled by the standard deviation times the square root of `n_samples` (i.e. the sum of squares of each column totals 1).\n",
      "\n",
      "Source URL:\n",
      "https://www4.stat.ncsu.edu/~boos/var.select/diabetes.html\n",
      "\n",
      "For more information see:\n",
      "Bradley Efron, Trevor Hastie, Iain Johnstone and Robert Tibshirani (2004) \"Least Angle Regression,\" Annals of Statistics (with discussion), 407-499.\n",
      "(https://web.stanford.edu/~hastie/Papers/LARS/LeastAngle_2002.pdf)\n",
      "\n"
     ]
    }
   ],
   "source": [
    "print(diabetes_raw.DESCR)"
   ]
  },
  {
   "cell_type": "code",
   "execution_count": 886,
   "id": "b5eab328",
   "metadata": {
    "ExecuteTime": {
     "end_time": "2023-04-05T05:48:40.238589Z",
     "start_time": "2023-04-05T05:48:40.232423Z"
    }
   },
   "outputs": [],
   "source": [
    "diabetes_raw.frame"
   ]
  },
  {
   "cell_type": "markdown",
   "id": "9bdd60d1",
   "metadata": {},
   "source": [
    "## Analyze the Data"
   ]
  },
  {
   "cell_type": "code",
   "execution_count": 887,
   "id": "bc0f354b",
   "metadata": {
    "ExecuteTime": {
     "end_time": "2023-04-05T05:48:40.259811Z",
     "start_time": "2023-04-05T05:48:40.244440Z"
    }
   },
   "outputs": [
    {
     "name": "stdout",
     "output_type": "stream",
     "text": [
      "Where there any duplicates: False\n"
     ]
    }
   ],
   "source": [
    "# Check if there are any duplicates by comparing the rows of the dataframe without duplicates and the of the data\n",
    "# that could have duplicatoes.  If the result true then there are no duplicates.\n",
    "result = diabetes_df.drop_duplicates().shape == diabetes_df.shape\n",
    "print(\"Where there any duplicates:\", not result)"
   ]
  },
  {
   "cell_type": "code",
   "execution_count": 888,
   "id": "1c5673f4",
   "metadata": {
    "ExecuteTime": {
     "end_time": "2023-04-05T05:48:40.307805Z",
     "start_time": "2023-04-05T05:48:40.266132Z"
    }
   },
   "outputs": [
    {
     "data": {
      "text/html": [
       "<div>\n",
       "<style scoped>\n",
       "    .dataframe tbody tr th:only-of-type {\n",
       "        vertical-align: middle;\n",
       "    }\n",
       "\n",
       "    .dataframe tbody tr th {\n",
       "        vertical-align: top;\n",
       "    }\n",
       "\n",
       "    .dataframe thead th {\n",
       "        text-align: right;\n",
       "    }\n",
       "</style>\n",
       "<table border=\"1\" class=\"dataframe\">\n",
       "  <thead>\n",
       "    <tr style=\"text-align: right;\">\n",
       "      <th></th>\n",
       "      <th>DataType</th>\n",
       "      <th># of Categories</th>\n",
       "      <th>categories/sample ratio</th>\n",
       "      <th>Data Science Type</th>\n",
       "      <th>missing values</th>\n",
       "      <th>missing values %</th>\n",
       "    </tr>\n",
       "  </thead>\n",
       "  <tbody>\n",
       "    <tr>\n",
       "      <th>age</th>\n",
       "      <td>float64</td>\n",
       "      <td>58</td>\n",
       "      <td>13.0</td>\n",
       "      <td>NA</td>\n",
       "      <td>0</td>\n",
       "      <td>0.0</td>\n",
       "    </tr>\n",
       "    <tr>\n",
       "      <th>sex</th>\n",
       "      <td>float64</td>\n",
       "      <td>2</td>\n",
       "      <td>0.0</td>\n",
       "      <td>NA</td>\n",
       "      <td>0</td>\n",
       "      <td>0.0</td>\n",
       "    </tr>\n",
       "    <tr>\n",
       "      <th>bmi</th>\n",
       "      <td>float64</td>\n",
       "      <td>163</td>\n",
       "      <td>37.0</td>\n",
       "      <td>NA</td>\n",
       "      <td>0</td>\n",
       "      <td>0.0</td>\n",
       "    </tr>\n",
       "    <tr>\n",
       "      <th>bp</th>\n",
       "      <td>float64</td>\n",
       "      <td>100</td>\n",
       "      <td>23.0</td>\n",
       "      <td>NA</td>\n",
       "      <td>0</td>\n",
       "      <td>0.0</td>\n",
       "    </tr>\n",
       "    <tr>\n",
       "      <th>s1</th>\n",
       "      <td>float64</td>\n",
       "      <td>141</td>\n",
       "      <td>32.0</td>\n",
       "      <td>NA</td>\n",
       "      <td>0</td>\n",
       "      <td>0.0</td>\n",
       "    </tr>\n",
       "    <tr>\n",
       "      <th>s2</th>\n",
       "      <td>float64</td>\n",
       "      <td>302</td>\n",
       "      <td>68.0</td>\n",
       "      <td>NA</td>\n",
       "      <td>0</td>\n",
       "      <td>0.0</td>\n",
       "    </tr>\n",
       "    <tr>\n",
       "      <th>s3</th>\n",
       "      <td>float64</td>\n",
       "      <td>63</td>\n",
       "      <td>14.0</td>\n",
       "      <td>NA</td>\n",
       "      <td>0</td>\n",
       "      <td>0.0</td>\n",
       "    </tr>\n",
       "    <tr>\n",
       "      <th>s4</th>\n",
       "      <td>float64</td>\n",
       "      <td>66</td>\n",
       "      <td>15.0</td>\n",
       "      <td>NA</td>\n",
       "      <td>0</td>\n",
       "      <td>0.0</td>\n",
       "    </tr>\n",
       "    <tr>\n",
       "      <th>s5</th>\n",
       "      <td>float64</td>\n",
       "      <td>184</td>\n",
       "      <td>42.0</td>\n",
       "      <td>NA</td>\n",
       "      <td>0</td>\n",
       "      <td>0.0</td>\n",
       "    </tr>\n",
       "    <tr>\n",
       "      <th>s6</th>\n",
       "      <td>float64</td>\n",
       "      <td>56</td>\n",
       "      <td>13.0</td>\n",
       "      <td>NA</td>\n",
       "      <td>0</td>\n",
       "      <td>0.0</td>\n",
       "    </tr>\n",
       "  </tbody>\n",
       "</table>\n",
       "</div>"
      ],
      "text/plain": [
       "    DataType  # of Categories  categories/sample ratio Data Science Type  \\\n",
       "age  float64               58                     13.0                NA   \n",
       "sex  float64                2                      0.0                NA   \n",
       "bmi  float64              163                     37.0                NA   \n",
       "bp   float64              100                     23.0                NA   \n",
       "s1   float64              141                     32.0                NA   \n",
       "s2   float64              302                     68.0                NA   \n",
       "s3   float64               63                     14.0                NA   \n",
       "s4   float64               66                     15.0                NA   \n",
       "s5   float64              184                     42.0                NA   \n",
       "s6   float64               56                     13.0                NA   \n",
       "\n",
       "     missing values  missing values %  \n",
       "age               0               0.0  \n",
       "sex               0               0.0  \n",
       "bmi               0               0.0  \n",
       "bp                0               0.0  \n",
       "s1                0               0.0  \n",
       "s2                0               0.0  \n",
       "s3                0               0.0  \n",
       "s4                0               0.0  \n",
       "s5                0               0.0  \n",
       "s6                0               0.0  "
      ]
     },
     "execution_count": 888,
     "metadata": {},
     "output_type": "execute_result"
    }
   ],
   "source": [
    "info_about_columns(diabetes_df, None)"
   ]
  },
  {
   "cell_type": "code",
   "execution_count": 889,
   "id": "a45526c3",
   "metadata": {
    "ExecuteTime": {
     "end_time": "2023-04-05T05:48:40.719329Z",
     "start_time": "2023-04-05T05:48:40.317355Z"
    }
   },
   "outputs": [
    {
     "data": {
      "image/png": "[encoded data removed]",
      "text/plain": [
       "<Figure size 640x480 with 1 Axes>"
      ]
     },
     "metadata": {},
     "output_type": "display_data"
    }
   ],
   "source": [
    "boxplot=diabetes_df.boxplot()\n",
    "plt.show()"
   ]
  },
  {
   "cell_type": "code",
   "execution_count": 913,
   "id": "55c4f64c",
   "metadata": {
    "ExecuteTime": {
     "end_time": "2023-04-05T05:59:17.981001Z",
     "start_time": "2023-04-05T05:59:16.857414Z"
    }
   },
   "outputs": [
    {
     "data": {
      "image/png": "[encoded data removed]",
      "text/plain": [
       "<Figure size 1000x500 with 12 Axes>"
      ]
     },
     "metadata": {},
     "output_type": "display_data"
    }
   ],
   "source": [
    "fig, ax = plt.subplots(3,4,figsize=(10,5))\n",
    "fig.tight_layout()\n",
    "ax_ravel = np.ravel(ax)\n",
    "data = pd.concat([x_diabetes_df, y_diabetes_df], axis=1)\n",
    "for index,feature in enumerate(x_diabetes_df.columns):\n",
    "    sns.scatterplot(data=data, x=feature, y='Target', ax=ax_ravel[index])\n",
    "ax_ravel[10].set_visible(False)\n",
    "ax_ravel[11].set_visible(False)\n",
    "plt.show()"
   ]
  },
  {
   "cell_type": "code",
   "execution_count": 891,
   "id": "cab8af5d",
   "metadata": {
    "ExecuteTime": {
     "end_time": "2023-04-05T05:48:42.335011Z",
     "start_time": "2023-04-05T05:48:42.264741Z"
    }
   },
   "outputs": [
    {
     "data": {
      "text/html": [
       "<div>\n",
       "<style scoped>\n",
       "    .dataframe tbody tr th:only-of-type {\n",
       "        vertical-align: middle;\n",
       "    }\n",
       "\n",
       "    .dataframe tbody tr th {\n",
       "        vertical-align: top;\n",
       "    }\n",
       "\n",
       "    .dataframe thead th {\n",
       "        text-align: right;\n",
       "    }\n",
       "</style>\n",
       "<table border=\"1\" class=\"dataframe\">\n",
       "  <thead>\n",
       "    <tr style=\"text-align: right;\">\n",
       "      <th></th>\n",
       "      <th>age</th>\n",
       "      <th>sex</th>\n",
       "      <th>bmi</th>\n",
       "      <th>bp</th>\n",
       "      <th>s1</th>\n",
       "      <th>s2</th>\n",
       "      <th>s3</th>\n",
       "      <th>s4</th>\n",
       "      <th>s5</th>\n",
       "      <th>s6</th>\n",
       "    </tr>\n",
       "  </thead>\n",
       "  <tbody>\n",
       "    <tr>\n",
       "      <th>count</th>\n",
       "      <td>4.420000e+02</td>\n",
       "      <td>4.420000e+02</td>\n",
       "      <td>4.420000e+02</td>\n",
       "      <td>4.420000e+02</td>\n",
       "      <td>4.420000e+02</td>\n",
       "      <td>4.420000e+02</td>\n",
       "      <td>4.420000e+02</td>\n",
       "      <td>4.420000e+02</td>\n",
       "      <td>4.420000e+02</td>\n",
       "      <td>4.420000e+02</td>\n",
       "    </tr>\n",
       "    <tr>\n",
       "      <th>mean</th>\n",
       "      <td>-1.444295e-18</td>\n",
       "      <td>2.543215e-18</td>\n",
       "      <td>-2.255925e-16</td>\n",
       "      <td>-4.854086e-17</td>\n",
       "      <td>-1.428596e-17</td>\n",
       "      <td>3.898811e-17</td>\n",
       "      <td>-6.028360e-18</td>\n",
       "      <td>-1.788100e-17</td>\n",
       "      <td>9.243486e-17</td>\n",
       "      <td>1.351770e-17</td>\n",
       "    </tr>\n",
       "    <tr>\n",
       "      <th>std</th>\n",
       "      <td>4.761905e-02</td>\n",
       "      <td>4.761905e-02</td>\n",
       "      <td>4.761905e-02</td>\n",
       "      <td>4.761905e-02</td>\n",
       "      <td>4.761905e-02</td>\n",
       "      <td>4.761905e-02</td>\n",
       "      <td>4.761905e-02</td>\n",
       "      <td>4.761905e-02</td>\n",
       "      <td>4.761905e-02</td>\n",
       "      <td>4.761905e-02</td>\n",
       "    </tr>\n",
       "    <tr>\n",
       "      <th>min</th>\n",
       "      <td>-1.072256e-01</td>\n",
       "      <td>-4.464164e-02</td>\n",
       "      <td>-9.027530e-02</td>\n",
       "      <td>-1.123988e-01</td>\n",
       "      <td>-1.267807e-01</td>\n",
       "      <td>-1.156131e-01</td>\n",
       "      <td>-1.023071e-01</td>\n",
       "      <td>-7.639450e-02</td>\n",
       "      <td>-1.260971e-01</td>\n",
       "      <td>-1.377672e-01</td>\n",
       "    </tr>\n",
       "    <tr>\n",
       "      <th>25%</th>\n",
       "      <td>-3.729927e-02</td>\n",
       "      <td>-4.464164e-02</td>\n",
       "      <td>-3.422907e-02</td>\n",
       "      <td>-3.665608e-02</td>\n",
       "      <td>-3.424784e-02</td>\n",
       "      <td>-3.035840e-02</td>\n",
       "      <td>-3.511716e-02</td>\n",
       "      <td>-3.949338e-02</td>\n",
       "      <td>-3.324559e-02</td>\n",
       "      <td>-3.317903e-02</td>\n",
       "    </tr>\n",
       "    <tr>\n",
       "      <th>50%</th>\n",
       "      <td>5.383060e-03</td>\n",
       "      <td>-4.464164e-02</td>\n",
       "      <td>-7.283766e-03</td>\n",
       "      <td>-5.670422e-03</td>\n",
       "      <td>-4.320866e-03</td>\n",
       "      <td>-3.819065e-03</td>\n",
       "      <td>-6.584468e-03</td>\n",
       "      <td>-2.592262e-03</td>\n",
       "      <td>-1.947171e-03</td>\n",
       "      <td>-1.077698e-03</td>\n",
       "    </tr>\n",
       "    <tr>\n",
       "      <th>75%</th>\n",
       "      <td>3.807591e-02</td>\n",
       "      <td>5.068012e-02</td>\n",
       "      <td>3.124802e-02</td>\n",
       "      <td>3.564379e-02</td>\n",
       "      <td>2.835801e-02</td>\n",
       "      <td>2.984439e-02</td>\n",
       "      <td>2.931150e-02</td>\n",
       "      <td>3.430886e-02</td>\n",
       "      <td>3.243232e-02</td>\n",
       "      <td>2.791705e-02</td>\n",
       "    </tr>\n",
       "    <tr>\n",
       "      <th>max</th>\n",
       "      <td>1.107267e-01</td>\n",
       "      <td>5.068012e-02</td>\n",
       "      <td>1.705552e-01</td>\n",
       "      <td>1.320436e-01</td>\n",
       "      <td>1.539137e-01</td>\n",
       "      <td>1.987880e-01</td>\n",
       "      <td>1.811791e-01</td>\n",
       "      <td>1.852344e-01</td>\n",
       "      <td>1.335973e-01</td>\n",
       "      <td>1.356118e-01</td>\n",
       "    </tr>\n",
       "  </tbody>\n",
       "</table>\n",
       "</div>"
      ],
      "text/plain": [
       "                age           sex           bmi            bp            s1  \\\n",
       "count  4.420000e+02  4.420000e+02  4.420000e+02  4.420000e+02  4.420000e+02   \n",
       "mean  -1.444295e-18  2.543215e-18 -2.255925e-16 -4.854086e-17 -1.428596e-17   \n",
       "std    4.761905e-02  4.761905e-02  4.761905e-02  4.761905e-02  4.761905e-02   \n",
       "min   -1.072256e-01 -4.464164e-02 -9.027530e-02 -1.123988e-01 -1.267807e-01   \n",
       "25%   -3.729927e-02 -4.464164e-02 -3.422907e-02 -3.665608e-02 -3.424784e-02   \n",
       "50%    5.383060e-03 -4.464164e-02 -7.283766e-03 -5.670422e-03 -4.320866e-03   \n",
       "75%    3.807591e-02  5.068012e-02  3.124802e-02  3.564379e-02  2.835801e-02   \n",
       "max    1.107267e-01  5.068012e-02  1.705552e-01  1.320436e-01  1.539137e-01   \n",
       "\n",
       "                 s2            s3            s4            s5            s6  \n",
       "count  4.420000e+02  4.420000e+02  4.420000e+02  4.420000e+02  4.420000e+02  \n",
       "mean   3.898811e-17 -6.028360e-18 -1.788100e-17  9.243486e-17  1.351770e-17  \n",
       "std    4.761905e-02  4.761905e-02  4.761905e-02  4.761905e-02  4.761905e-02  \n",
       "min   -1.156131e-01 -1.023071e-01 -7.639450e-02 -1.260971e-01 -1.377672e-01  \n",
       "25%   -3.035840e-02 -3.511716e-02 -3.949338e-02 -3.324559e-02 -3.317903e-02  \n",
       "50%   -3.819065e-03 -6.584468e-03 -2.592262e-03 -1.947171e-03 -1.077698e-03  \n",
       "75%    2.984439e-02  2.931150e-02  3.430886e-02  3.243232e-02  2.791705e-02  \n",
       "max    1.987880e-01  1.811791e-01  1.852344e-01  1.335973e-01  1.356118e-01  "
      ]
     },
     "execution_count": 891,
     "metadata": {},
     "output_type": "execute_result"
    }
   ],
   "source": [
    "diabetes_df.describe()\n"
   ]
  },
  {
   "cell_type": "code",
   "execution_count": 892,
   "id": "c863c112",
   "metadata": {
    "ExecuteTime": {
     "end_time": "2023-04-05T05:48:42.423305Z",
     "start_time": "2023-04-05T05:48:42.338670Z"
    }
   },
   "outputs": [
    {
     "name": "stdout",
     "output_type": "stream",
     "text": [
      "--- bmi\n",
      "The number of outliers is  3\n",
      "The max outlier is  0.17055522598064407\n",
      "The min of the max outlier is  0.13714305169033927\n",
      "--- s1\n",
      "The number of outliers is  8\n",
      "The max outlier is  0.15391371315651542\n",
      "The min of the max outlier is  0.12501870313429186\n",
      "--- s2\n",
      "The number of outliers is  7\n",
      "The max outlier is  0.19878798965729408\n",
      "The min of the max outlier is  0.1251981011367534\n",
      "--- s3\n",
      "The number of outliers is  7\n",
      "The max outlier is  0.18117906039727852\n",
      "The min of the max outlier is  0.13331776894414826\n",
      "--- s4\n",
      "The number of outliers is  4\n",
      "The max outlier is  0.18523444326019867\n",
      "The min of the max outlier is  0.14501222150545676\n",
      "--- s5\n",
      "The number of outliers is  4\n",
      "The max outlier is  0.13359728192191356\n",
      "The min of the max outlier is  0.1323757911721786\n",
      "--- s6\n",
      "The number of outliers is  9\n",
      "The max outlier is  0.13561183068907107\n",
      "The min of the max outlier is  0.12732761685940217\n",
      "The min outlier is  -0.13776722569000302\n",
      "The max of the min outlier is  -0.13776722569000302\n"
     ]
    },
    {
     "data": {
      "text/html": [
       "<div>\n",
       "<style scoped>\n",
       "    .dataframe tbody tr th:only-of-type {\n",
       "        vertical-align: middle;\n",
       "    }\n",
       "\n",
       "    .dataframe tbody tr th {\n",
       "        vertical-align: top;\n",
       "    }\n",
       "\n",
       "    .dataframe thead th {\n",
       "        text-align: right;\n",
       "    }\n",
       "</style>\n",
       "<table border=\"1\" class=\"dataframe\">\n",
       "  <thead>\n",
       "    <tr style=\"text-align: right;\">\n",
       "      <th></th>\n",
       "      <th>cnt</th>\n",
       "    </tr>\n",
       "  </thead>\n",
       "  <tbody>\n",
       "    <tr>\n",
       "      <th>123</th>\n",
       "      <td>3</td>\n",
       "    </tr>\n",
       "    <tr>\n",
       "      <th>161</th>\n",
       "      <td>2</td>\n",
       "    </tr>\n",
       "    <tr>\n",
       "      <th>230</th>\n",
       "      <td>2</td>\n",
       "    </tr>\n",
       "    <tr>\n",
       "      <th>248</th>\n",
       "      <td>2</td>\n",
       "    </tr>\n",
       "    <tr>\n",
       "      <th>287</th>\n",
       "      <td>2</td>\n",
       "    </tr>\n",
       "    <tr>\n",
       "      <th>346</th>\n",
       "      <td>2</td>\n",
       "    </tr>\n",
       "    <tr>\n",
       "      <th>322</th>\n",
       "      <td>2</td>\n",
       "    </tr>\n",
       "    <tr>\n",
       "      <th>23</th>\n",
       "      <td>2</td>\n",
       "    </tr>\n",
       "  </tbody>\n",
       "</table>\n",
       "</div>"
      ],
      "text/plain": [
       "     cnt\n",
       "123    3\n",
       "161    2\n",
       "230    2\n",
       "248    2\n",
       "287    2\n",
       "346    2\n",
       "322    2\n",
       "23     2"
      ]
     },
     "execution_count": 892,
     "metadata": {},
     "output_type": "execute_result"
    }
   ],
   "source": [
    "def mapRowToAmountOfOutliersContain(outlier_row_list):\n",
    "    dict = {}\n",
    "    for index, value in enumerate(outlier_row_list):\n",
    "        key = str(value)\n",
    "        if key in dict:\n",
    "            dict[key] = dict[key] + 1\n",
    "        else:\n",
    "            dict[key] = 1\n",
    "    return dict\n",
    "outlier_row_list = [] \n",
    "outlier_row_list = outlier_row_list + show_outlier_irq(diabetes_df, \"bmi\", \"bmi\")\n",
    "outlier_row_list = outlier_row_list + show_outlier_irq(diabetes_df, \"s1\", \"s1\")\n",
    "outlier_row_list = outlier_row_list + show_outlier_irq(diabetes_df, \"s2\", \"s2\")\n",
    "outlier_row_list = outlier_row_list + show_outlier_irq(diabetes_df, \"s3\", \"s3\")\n",
    "outlier_row_list = outlier_row_list + show_outlier_irq(diabetes_df, \"s4\", \"s4\")\n",
    "outlier_row_list = outlier_row_list + show_outlier_irq(diabetes_df, \"s5\", \"s5\")\n",
    "outlier_row_list = outlier_row_list + show_outlier_irq(diabetes_df, \"s6\", \"s6\")\n",
    "\n",
    "row_outlier_cnt = mapRowToAmountOfOutliersContain(outlier_row_list)\n",
    "\n",
    "# Create the dataframe\n",
    "outlier_cnt_df = pd.DataFrame([row_outlier_cnt])\n",
    "outlier_cnt_df = outlier_cnt_df.T\n",
    "outlier_cnt_df.columns = ['cnt']\n",
    "\n",
    "outlier_cnt_df.query('cnt > 1')\n",
    "\n",
    "# Create another dataset that removes the rows with two or more two or more outliers"
   ]
  },
  {
   "cell_type": "code",
   "execution_count": 996,
   "id": "d41deb37",
   "metadata": {
    "ExecuteTime": {
     "end_time": "2023-04-07T20:42:00.863509Z",
     "start_time": "2023-04-07T20:42:00.855873Z"
    }
   },
   "outputs": [
    {
     "name": "stdout",
     "output_type": "stream",
     "text": [
      "The Size of the original dataset is  (442, 10)\n",
      "The Size of the dataset without some of the outiliers is  (434, 10)\n"
     ]
    }
   ],
   "source": [
    "print(\"The Size of the original dataset is \", diabetes_df.shape)\n",
    "indexes = [ eval(index) for index in outlier_cnt_df.query('cnt > 1').index ]\n",
    "diabetes_less_outliers_df = diabetes_df.copy().drop(indexes)\n",
    "print(\"The Size of the dataset without some of the outiliers is \", diabetes_less_outliers_df.shape)"
   ]
  },
  {
   "cell_type": "code",
   "execution_count": 997,
   "id": "8843c589",
   "metadata": {
    "ExecuteTime": {
     "end_time": "2023-04-07T20:42:02.447930Z",
     "start_time": "2023-04-07T20:42:02.216359Z"
    }
   },
   "outputs": [
    {
     "data": {
      "image/png": "[encoded data removed]",
      "text/plain": [
       "<Figure size 640x480 with 1 Axes>"
      ]
     },
     "metadata": {},
     "output_type": "display_data"
    }
   ],
   "source": [
    "# Show the boxplot again to get a visual idea of how many outlier were remove\n",
    "diabetes_less_outliers_df.boxplot()\n",
    "plt.show()"
   ]
  },
  {
   "cell_type": "code",
   "execution_count": 1093,
   "id": "e222f089",
   "metadata": {
    "ExecuteTime": {
     "end_time": "2023-04-07T23:29:48.637942Z",
     "start_time": "2023-04-07T23:29:48.630860Z"
    }
   },
   "outputs": [],
   "source": [
    "def task(feature_dataframe, dependent_y):\n",
    "    features_train,  features_test, dependent_trian, dependent_test = \\\n",
    "        train_test_split(feature_dataframe, dependent_y, test_size=.2)\n",
    "    print(\"Creating Training Datasets\")\n",
    "    print(\"Train: \", features_train.shape, dependent_trian.shape)\n",
    "    print(\"Test:  \", features_test.shape, dependent_test.shape)\n",
    "    \n",
    "    model_linear_regression = LinearRegression()\n",
    "    model_linear_regression.fit(features_train, dependent_trian)\n",
    "    analyze_model(model,features_test,dependent_test)\n",
    "    \n",
    "    model_lasso_regression = Lasso()\n",
    "    model_lasso_regression.fit(features_train, dependent_trian)\n",
    "    analyze_model(model,features_test, dependent_test)\n",
    "    \n",
    "    regression_algorithm = [model_linear_regression., model_lasso_regression]\n",
    "    \n",
    "    fig, ax = plt.subplots(1,2,figsize=(10,5))\n",
    "    ax_ravel = np.ravel(ax)\n",
    "    for index,ax in enumerate(ax_ravel): \n",
    "        print(index)\n",
    "        ax = plt.scatter(range(feature_dataframe.shape[1]), \n",
    "            regression_algorithm[index].coef_, \n",
    "            c=np.sign(model.coef_))\n",
    "        plt.title(\"Coeffecients\")\n",
    "\n",
    "    plt.show()\n",
    "          "
   ]
  },
  {
   "cell_type": "code",
   "execution_count": 1094,
   "id": "bb5e93ec",
   "metadata": {
    "ExecuteTime": {
     "end_time": "2023-04-07T23:29:49.320952Z",
     "start_time": "2023-04-07T23:29:49.014193Z"
    }
   },
   "outputs": [
    {
     "name": "stdout",
     "output_type": "stream",
     "text": [
      "Creating Training Datasets\n",
      "Train:  (353, 10) (353, 1)\n",
      "Test:   (89, 10) (89, 1)\n",
      "The score for the training dataset is  0.517644587434399\n",
      "The score for the testing  dataset is  0.5518626278474863\n",
      "The score ( R^2) is  0.5266468758640233\n",
      "The score for the training dataset is  0.517644587434399\n",
      "The score for the testing  dataset is  0.5518626278474863\n",
      "The score ( R^2) is  -1188.5687890711733\n",
      "0\n",
      "1\n"
     ]
    },
    {
     "name": "stderr",
     "output_type": "stream",
     "text": [
      "/Users/charles/anaconda3/lib/python3.9/site-packages/sklearn/base.py:493: FutureWarning: The feature names should match those that were passed during fit. Starting version 1.2, an error will be raised.\n",
      "Feature names unseen at fit time:\n",
      "- age\n",
      "- bmi\n",
      "- bp\n",
      "- s1\n",
      "- s2\n",
      "- ...\n",
      "Feature names seen at fit time, yet now missing:\n",
      "- atemp\n",
      "- holiday\n",
      "- hum\n",
      "- mnth\n",
      "- season\n",
      "- ...\n",
      "\n",
      "  warnings.warn(message, FutureWarning)\n"
     ]
    },
    {
     "data": {
      "image/png": "[encoded data removed]",
      "text/plain": [
       "<Figure size 1000x500 with 2 Axes>"
      ]
     },
     "metadata": {},
     "output_type": "display_data"
    }
   ],
   "source": [
    "task(diabetes_df, y_diabetes_df)"
   ]
  },
  {
   "cell_type": "markdown",
   "id": "803f5e72",
   "metadata": {
    "ExecuteTime": {
     "end_time": "2023-04-05T01:28:53.294291Z",
     "start_time": "2023-04-05T01:28:53.288994Z"
    }
   },
   "source": [
    "### Analysis of the data\n",
    "1. There were no duplicates \n",
    "2. There were no missing values\n",
    "3. The scaling seem find it is between 1.15 to .20"
   ]
  },
  {
   "cell_type": "code",
   "execution_count": null,
   "id": "554d832a",
   "metadata": {},
   "outputs": [],
   "source": []
  },
  {
   "cell_type": "code",
   "execution_count": null,
   "id": "4a30a90c",
   "metadata": {},
   "outputs": [],
   "source": []
  }
 ],
 "metadata": {
  "kernelspec": {
   "display_name": "Python 3 (ipykernel)",
   "language": "python",
   "name": "python3"
  },
  "language_info": {
   "codemirror_mode": {
    "name": "ipython",
    "version": 3
   },
   "file_extension": ".py",
   "mimetype": "text/x-python",
   "name": "python",
   "nbconvert_exporter": "python",
   "pygments_lexer": "ipython3",
   "version": "3.9.13"
  },
  "toc": {
   "base_numbering": 1,
   "nav_menu": {},
   "number_sections": true,
   "sideBar": true,
   "skip_h1_title": false,
   "title_cell": "Table of Contents",
   "title_sidebar": "Contents",
   "toc_cell": false,
   "toc_position": {},
   "toc_section_display": true,
   "toc_window_display": false
  }
 },
 "nbformat": 4,
 "nbformat_minor": 5
}
