{
 "cells": [
  {
   "cell_type": "markdown",
   "id": "413edf8f",
   "metadata": {
    "ExecuteTime": {
     "end_time": "2023-03-13T18:39:02.077949Z",
     "start_time": "2023-03-13T18:39:02.065756Z"
    }
   },
   "source": [
    "# Assignment 1 -- Dealing with missing data\n",
    "\n",
    "Step 1: Read the csv file as a pandas dataframe\n",
    "\n",
    "Step 2: Check the number of missing values for the columns\n",
    "\n",
    "Step 3: access the underlying NumPy array via the values attribute\n",
    "\n",
    "Step 4: Remove rows from df that contain missing values\n",
    "\n",
    "Step 5: Remove columns from df that contain missing values\n",
    "\n",
    "Step 6: Only drop rows where all columns are NaN\n",
    "\n",
    "Step 7: Drop rows that have less than 3 real values\n",
    "\n",
    "Step 8: Only drop rows where NaN appear in specific columns (here: 'C')"
   ]
  },
  {
   "cell_type": "code",
   "execution_count": 5,
   "id": "de4bb855",
   "metadata": {
    "ExecuteTime": {
     "end_time": "2023-03-20T00:20:29.982701Z",
     "start_time": "2023-03-20T00:20:29.283554Z"
    }
   },
   "outputs": [],
   "source": [
    "import pandas as pd\n",
    "import numpy as np"
   ]
  },
  {
   "cell_type": "markdown",
   "id": "91fc37d0",
   "metadata": {
    "ExecuteTime": {
     "end_time": "2023-03-13T19:41:32.613846Z",
     "start_time": "2023-03-13T19:41:32.610859Z"
    }
   },
   "source": [
    "## Read the csv file as a pandas dataframe"
   ]
  },
  {
   "cell_type": "code",
   "execution_count": 170,
   "id": "617719b8",
   "metadata": {
    "ExecuteTime": {
     "end_time": "2023-03-14T02:00:15.920062Z",
     "start_time": "2023-03-14T02:00:15.904590Z"
    }
   },
   "outputs": [
    {
     "data": {
      "text/html": [
       "<div>\n",
       "<style scoped>\n",
       "    .dataframe tbody tr th:only-of-type {\n",
       "        vertical-align: middle;\n",
       "    }\n",
       "\n",
       "    .dataframe tbody tr th {\n",
       "        vertical-align: top;\n",
       "    }\n",
       "\n",
       "    .dataframe thead th {\n",
       "        text-align: right;\n",
       "    }\n",
       "</style>\n",
       "<table border=\"1\" class=\"dataframe\">\n",
       "  <thead>\n",
       "    <tr style=\"text-align: right;\">\n",
       "      <th></th>\n",
       "      <th>A</th>\n",
       "      <th>B</th>\n",
       "      <th>C</th>\n",
       "      <th>D</th>\n",
       "    </tr>\n",
       "  </thead>\n",
       "  <tbody>\n",
       "    <tr>\n",
       "      <th>0</th>\n",
       "      <td>1.0</td>\n",
       "      <td>2.0</td>\n",
       "      <td>3.0</td>\n",
       "      <td>4.0</td>\n",
       "    </tr>\n",
       "    <tr>\n",
       "      <th>1</th>\n",
       "      <td>5.0</td>\n",
       "      <td>6.0</td>\n",
       "      <td>NaN</td>\n",
       "      <td>8.0</td>\n",
       "    </tr>\n",
       "    <tr>\n",
       "      <th>2</th>\n",
       "      <td>10.0</td>\n",
       "      <td>11.0</td>\n",
       "      <td>12.0</td>\n",
       "      <td>NaN</td>\n",
       "    </tr>\n",
       "  </tbody>\n",
       "</table>\n",
       "</div>"
      ],
      "text/plain": [
       "      A     B     C    D\n",
       "0   1.0   2.0   3.0  4.0\n",
       "1   5.0   6.0   NaN  8.0\n",
       "2  10.0  11.0  12.0  NaN"
      ]
     },
     "execution_count": 170,
     "metadata": {},
     "output_type": "execute_result"
    }
   ],
   "source": [
    "# The given data must be convert into an list of list\n",
    "csv_data = \\\n",
    "'''A,B,C,D\n",
    "1.0,2.0,3.0,4.0\n",
    "5.0,6.0,,8.0\n",
    "10.0,11.0,12.0,'''\n",
    "\n",
    "# Convert the csv_data from string to list\n",
    "raw_data_as_list = csv_data.replace(\"\\n\",\",\").split(\",\")\n",
    "\n",
    "# Separate the columns and data into two variables\n",
    "columns = raw_data_as_list[0:4]\n",
    "raw_data_as_list = raw_data_as_list[4:]\n",
    "\n",
    "# For the data list convert all the empty spaces into np.NaN\n",
    "# I did this way since the string str function cannot if a string represent a float.\n",
    "data_as_list = []\n",
    "for item in raw_data_as_list:\n",
    "    try:\n",
    "        new_value = float(item)\n",
    "        data_as_list.append(new_value)\n",
    "    except:\n",
    "        data_as_list.append(np.NaN)\n",
    "data_as_list\n",
    "\n",
    "# Convert the data into array and reshape so that the rows and column are correct then\n",
    "# add the data and columns to the dataframe.\n",
    "np_data = np.reshape( np.array(data_as_list), newshape=(3,4))\n",
    "data_frame_1 = pd.DataFrame(data=np_data,columns=columns)\n",
    "data_frame_1"
   ]
  },
  {
   "cell_type": "markdown",
   "id": "cb32ab77",
   "metadata": {
    "ExecuteTime": {
     "end_time": "2023-03-14T01:59:16.787028Z",
     "start_time": "2023-03-14T01:59:16.780715Z"
    }
   },
   "source": [
    "## Check the number of missing values for the columns"
   ]
  },
  {
   "cell_type": "code",
   "execution_count": 171,
   "id": "a2c93022",
   "metadata": {
    "ExecuteTime": {
     "end_time": "2023-03-14T02:00:15.927550Z",
     "start_time": "2023-03-14T02:00:15.922276Z"
    }
   },
   "outputs": [
    {
     "name": "stdout",
     "output_type": "stream",
     "text": [
      "The total of missing cells is  2\n",
      "The columns with missing cells are\n",
      "A    0\n",
      "B    0\n",
      "C    1\n",
      "D    1\n",
      "dtype: int64\n"
     ]
    }
   ],
   "source": [
    "nan_by_column = data_frame_1.isna().sum()\n",
    "nan_by_column_total = nan_by_column.sum()\n",
    "\n",
    "print(\"The total of missing cells is \", nan_by_column_total)\n",
    "print(\"The columns with missing cells are\", nan_by_column, sep=\"\\n\")"
   ]
  },
  {
   "cell_type": "markdown",
   "id": "66938d8d",
   "metadata": {
    "ExecuteTime": {
     "end_time": "2023-03-13T19:52:48.682358Z",
     "start_time": "2023-03-13T19:52:48.677738Z"
    }
   },
   "source": [
    "## access the underlying NumPy array via the values attribute"
   ]
  },
  {
   "cell_type": "code",
   "execution_count": 172,
   "id": "1132ee20",
   "metadata": {
    "ExecuteTime": {
     "end_time": "2023-03-14T02:00:15.935996Z",
     "start_time": "2023-03-14T02:00:15.931097Z"
    }
   },
   "outputs": [
    {
     "data": {
      "text/plain": [
       "array([[ 1.,  2.,  3.,  4.],\n",
       "       [ 5.,  6., nan,  8.],\n",
       "       [10., 11., 12., nan]])"
      ]
     },
     "execution_count": 172,
     "metadata": {},
     "output_type": "execute_result"
    }
   ],
   "source": [
    "data_frame_1.values\n",
    "data_frame_1.to_numpy()     # Recommended by Pandas itself."
   ]
  },
  {
   "cell_type": "markdown",
   "id": "20bb67d4",
   "metadata": {
    "ExecuteTime": {
     "end_time": "2023-03-14T01:19:31.627640Z",
     "start_time": "2023-03-14T01:19:31.624836Z"
    }
   },
   "source": [
    "## Remove rows from df that contain missing values"
   ]
  },
  {
   "cell_type": "code",
   "execution_count": 173,
   "id": "56baa11f",
   "metadata": {
    "ExecuteTime": {
     "end_time": "2023-03-14T02:00:15.947665Z",
     "start_time": "2023-03-14T02:00:15.938445Z"
    }
   },
   "outputs": [
    {
     "data": {
      "text/html": [
       "<div>\n",
       "<style scoped>\n",
       "    .dataframe tbody tr th:only-of-type {\n",
       "        vertical-align: middle;\n",
       "    }\n",
       "\n",
       "    .dataframe tbody tr th {\n",
       "        vertical-align: top;\n",
       "    }\n",
       "\n",
       "    .dataframe thead th {\n",
       "        text-align: right;\n",
       "    }\n",
       "</style>\n",
       "<table border=\"1\" class=\"dataframe\">\n",
       "  <thead>\n",
       "    <tr style=\"text-align: right;\">\n",
       "      <th></th>\n",
       "      <th>A</th>\n",
       "      <th>B</th>\n",
       "      <th>C</th>\n",
       "      <th>D</th>\n",
       "    </tr>\n",
       "  </thead>\n",
       "  <tbody>\n",
       "    <tr>\n",
       "      <th>0</th>\n",
       "      <td>1.0</td>\n",
       "      <td>2.0</td>\n",
       "      <td>3.0</td>\n",
       "      <td>4.0</td>\n",
       "    </tr>\n",
       "  </tbody>\n",
       "</table>\n",
       "</div>"
      ],
      "text/plain": [
       "     A    B    C    D\n",
       "0  1.0  2.0  3.0  4.0"
      ]
     },
     "execution_count": 173,
     "metadata": {},
     "output_type": "execute_result"
    }
   ],
   "source": [
    "data_frame_1.dropna(how='any')"
   ]
  },
  {
   "cell_type": "markdown",
   "id": "528d243e",
   "metadata": {},
   "source": [
    "## Remove columns from df that contain missing values"
   ]
  },
  {
   "cell_type": "code",
   "execution_count": 174,
   "id": "eb14aab6",
   "metadata": {
    "ExecuteTime": {
     "end_time": "2023-03-14T02:00:15.961166Z",
     "start_time": "2023-03-14T02:00:15.950100Z"
    }
   },
   "outputs": [
    {
     "data": {
      "text/html": [
       "<div>\n",
       "<style scoped>\n",
       "    .dataframe tbody tr th:only-of-type {\n",
       "        vertical-align: middle;\n",
       "    }\n",
       "\n",
       "    .dataframe tbody tr th {\n",
       "        vertical-align: top;\n",
       "    }\n",
       "\n",
       "    .dataframe thead th {\n",
       "        text-align: right;\n",
       "    }\n",
       "</style>\n",
       "<table border=\"1\" class=\"dataframe\">\n",
       "  <thead>\n",
       "    <tr style=\"text-align: right;\">\n",
       "      <th></th>\n",
       "      <th>A</th>\n",
       "      <th>B</th>\n",
       "    </tr>\n",
       "  </thead>\n",
       "  <tbody>\n",
       "    <tr>\n",
       "      <th>0</th>\n",
       "      <td>1.0</td>\n",
       "      <td>2.0</td>\n",
       "    </tr>\n",
       "    <tr>\n",
       "      <th>1</th>\n",
       "      <td>5.0</td>\n",
       "      <td>6.0</td>\n",
       "    </tr>\n",
       "    <tr>\n",
       "      <th>2</th>\n",
       "      <td>10.0</td>\n",
       "      <td>11.0</td>\n",
       "    </tr>\n",
       "  </tbody>\n",
       "</table>\n",
       "</div>"
      ],
      "text/plain": [
       "      A     B\n",
       "0   1.0   2.0\n",
       "1   5.0   6.0\n",
       "2  10.0  11.0"
      ]
     },
     "execution_count": 174,
     "metadata": {},
     "output_type": "execute_result"
    }
   ],
   "source": [
    "data_frame_1.dropna(axis=1, how='any')"
   ]
  },
  {
   "cell_type": "markdown",
   "id": "931af22a",
   "metadata": {
    "ExecuteTime": {
     "end_time": "2023-03-14T01:28:03.169255Z",
     "start_time": "2023-03-14T01:28:03.166350Z"
    }
   },
   "source": [
    "## Only drop rows where all columns are NaN"
   ]
  },
  {
   "cell_type": "code",
   "execution_count": 175,
   "id": "8f9fe662",
   "metadata": {
    "ExecuteTime": {
     "end_time": "2023-03-14T02:00:15.978928Z",
     "start_time": "2023-03-14T02:00:15.964783Z"
    }
   },
   "outputs": [
    {
     "data": {
      "text/html": [
       "<div>\n",
       "<style scoped>\n",
       "    .dataframe tbody tr th:only-of-type {\n",
       "        vertical-align: middle;\n",
       "    }\n",
       "\n",
       "    .dataframe tbody tr th {\n",
       "        vertical-align: top;\n",
       "    }\n",
       "\n",
       "    .dataframe thead th {\n",
       "        text-align: right;\n",
       "    }\n",
       "</style>\n",
       "<table border=\"1\" class=\"dataframe\">\n",
       "  <thead>\n",
       "    <tr style=\"text-align: right;\">\n",
       "      <th></th>\n",
       "      <th>A</th>\n",
       "      <th>B</th>\n",
       "      <th>C</th>\n",
       "      <th>D</th>\n",
       "    </tr>\n",
       "  </thead>\n",
       "  <tbody>\n",
       "    <tr>\n",
       "      <th>0</th>\n",
       "      <td>1.0</td>\n",
       "      <td>2.0</td>\n",
       "      <td>3.0</td>\n",
       "      <td>4.0</td>\n",
       "    </tr>\n",
       "    <tr>\n",
       "      <th>1</th>\n",
       "      <td>5.0</td>\n",
       "      <td>6.0</td>\n",
       "      <td>NaN</td>\n",
       "      <td>8.0</td>\n",
       "    </tr>\n",
       "    <tr>\n",
       "      <th>2</th>\n",
       "      <td>10.0</td>\n",
       "      <td>11.0</td>\n",
       "      <td>12.0</td>\n",
       "      <td>NaN</td>\n",
       "    </tr>\n",
       "    <tr>\n",
       "      <th>3</th>\n",
       "      <td>NaN</td>\n",
       "      <td>NaN</td>\n",
       "      <td>NaN</td>\n",
       "      <td>NaN</td>\n",
       "    </tr>\n",
       "  </tbody>\n",
       "</table>\n",
       "</div>"
      ],
      "text/plain": [
       "      A     B     C    D\n",
       "0   1.0   2.0   3.0  4.0\n",
       "1   5.0   6.0   NaN  8.0\n",
       "2  10.0  11.0  12.0  NaN\n",
       "3   NaN   NaN   NaN  NaN"
      ]
     },
     "execution_count": 175,
     "metadata": {},
     "output_type": "execute_result"
    }
   ],
   "source": [
    "data_frame_1.loc[len(data_frame_1.index)] = [np.NAN, np.NaN, np.NAN, np.NaN]\n",
    "data_frame_1"
   ]
  },
  {
   "cell_type": "code",
   "execution_count": 176,
   "id": "ba8816b5",
   "metadata": {
    "ExecuteTime": {
     "end_time": "2023-03-14T02:00:15.993098Z",
     "start_time": "2023-03-14T02:00:15.981042Z"
    }
   },
   "outputs": [
    {
     "data": {
      "text/html": [
       "<div>\n",
       "<style scoped>\n",
       "    .dataframe tbody tr th:only-of-type {\n",
       "        vertical-align: middle;\n",
       "    }\n",
       "\n",
       "    .dataframe tbody tr th {\n",
       "        vertical-align: top;\n",
       "    }\n",
       "\n",
       "    .dataframe thead th {\n",
       "        text-align: right;\n",
       "    }\n",
       "</style>\n",
       "<table border=\"1\" class=\"dataframe\">\n",
       "  <thead>\n",
       "    <tr style=\"text-align: right;\">\n",
       "      <th></th>\n",
       "      <th>A</th>\n",
       "      <th>B</th>\n",
       "      <th>C</th>\n",
       "      <th>D</th>\n",
       "    </tr>\n",
       "  </thead>\n",
       "  <tbody>\n",
       "    <tr>\n",
       "      <th>0</th>\n",
       "      <td>1.0</td>\n",
       "      <td>2.0</td>\n",
       "      <td>3.0</td>\n",
       "      <td>4.0</td>\n",
       "    </tr>\n",
       "    <tr>\n",
       "      <th>1</th>\n",
       "      <td>5.0</td>\n",
       "      <td>6.0</td>\n",
       "      <td>NaN</td>\n",
       "      <td>8.0</td>\n",
       "    </tr>\n",
       "    <tr>\n",
       "      <th>2</th>\n",
       "      <td>10.0</td>\n",
       "      <td>11.0</td>\n",
       "      <td>12.0</td>\n",
       "      <td>NaN</td>\n",
       "    </tr>\n",
       "  </tbody>\n",
       "</table>\n",
       "</div>"
      ],
      "text/plain": [
       "      A     B     C    D\n",
       "0   1.0   2.0   3.0  4.0\n",
       "1   5.0   6.0   NaN  8.0\n",
       "2  10.0  11.0  12.0  NaN"
      ]
     },
     "execution_count": 176,
     "metadata": {},
     "output_type": "execute_result"
    }
   ],
   "source": [
    "data_frame_1.dropna(how='all', axis=0)"
   ]
  },
  {
   "cell_type": "markdown",
   "id": "3572f4aa",
   "metadata": {},
   "source": [
    "## Step 7: Drop rows that have less than 3 real values"
   ]
  },
  {
   "cell_type": "code",
   "execution_count": 177,
   "id": "5c2f3734",
   "metadata": {
    "ExecuteTime": {
     "end_time": "2023-03-14T02:00:16.013163Z",
     "start_time": "2023-03-14T02:00:15.997958Z"
    }
   },
   "outputs": [
    {
     "data": {
      "text/html": [
       "<div>\n",
       "<style scoped>\n",
       "    .dataframe tbody tr th:only-of-type {\n",
       "        vertical-align: middle;\n",
       "    }\n",
       "\n",
       "    .dataframe tbody tr th {\n",
       "        vertical-align: top;\n",
       "    }\n",
       "\n",
       "    .dataframe thead th {\n",
       "        text-align: right;\n",
       "    }\n",
       "</style>\n",
       "<table border=\"1\" class=\"dataframe\">\n",
       "  <thead>\n",
       "    <tr style=\"text-align: right;\">\n",
       "      <th></th>\n",
       "      <th>A</th>\n",
       "      <th>B</th>\n",
       "      <th>C</th>\n",
       "      <th>D</th>\n",
       "    </tr>\n",
       "  </thead>\n",
       "  <tbody>\n",
       "    <tr>\n",
       "      <th>0</th>\n",
       "      <td>1.0</td>\n",
       "      <td>2.0</td>\n",
       "      <td>3.0</td>\n",
       "      <td>4.0</td>\n",
       "    </tr>\n",
       "    <tr>\n",
       "      <th>1</th>\n",
       "      <td>5.0</td>\n",
       "      <td>6.0</td>\n",
       "      <td>NaN</td>\n",
       "      <td>8.0</td>\n",
       "    </tr>\n",
       "    <tr>\n",
       "      <th>2</th>\n",
       "      <td>10.0</td>\n",
       "      <td>11.0</td>\n",
       "      <td>12.0</td>\n",
       "      <td>NaN</td>\n",
       "    </tr>\n",
       "  </tbody>\n",
       "</table>\n",
       "</div>"
      ],
      "text/plain": [
       "      A     B     C    D\n",
       "0   1.0   2.0   3.0  4.0\n",
       "1   5.0   6.0   NaN  8.0\n",
       "2  10.0  11.0  12.0  NaN"
      ]
     },
     "execution_count": 177,
     "metadata": {},
     "output_type": "execute_result"
    }
   ],
   "source": [
    "data_frame_1.dropna(thresh=3)"
   ]
  },
  {
   "cell_type": "markdown",
   "id": "3d7ef9f7",
   "metadata": {
    "ExecuteTime": {
     "end_time": "2023-03-14T02:00:05.985953Z",
     "start_time": "2023-03-14T02:00:05.983134Z"
    }
   },
   "source": [
    "## Only drop rows where NaN appear in specific columns (here: 'C')"
   ]
  },
  {
   "cell_type": "code",
   "execution_count": 178,
   "id": "033b03ad",
   "metadata": {
    "ExecuteTime": {
     "end_time": "2023-03-14T02:00:16.030528Z",
     "start_time": "2023-03-14T02:00:16.015383Z"
    }
   },
   "outputs": [
    {
     "data": {
      "text/html": [
       "<div>\n",
       "<style scoped>\n",
       "    .dataframe tbody tr th:only-of-type {\n",
       "        vertical-align: middle;\n",
       "    }\n",
       "\n",
       "    .dataframe tbody tr th {\n",
       "        vertical-align: top;\n",
       "    }\n",
       "\n",
       "    .dataframe thead th {\n",
       "        text-align: right;\n",
       "    }\n",
       "</style>\n",
       "<table border=\"1\" class=\"dataframe\">\n",
       "  <thead>\n",
       "    <tr style=\"text-align: right;\">\n",
       "      <th></th>\n",
       "      <th>A</th>\n",
       "      <th>B</th>\n",
       "      <th>C</th>\n",
       "      <th>D</th>\n",
       "    </tr>\n",
       "  </thead>\n",
       "  <tbody>\n",
       "    <tr>\n",
       "      <th>0</th>\n",
       "      <td>1.0</td>\n",
       "      <td>2.0</td>\n",
       "      <td>3.0</td>\n",
       "      <td>4.0</td>\n",
       "    </tr>\n",
       "    <tr>\n",
       "      <th>2</th>\n",
       "      <td>10.0</td>\n",
       "      <td>11.0</td>\n",
       "      <td>12.0</td>\n",
       "      <td>NaN</td>\n",
       "    </tr>\n",
       "  </tbody>\n",
       "</table>\n",
       "</div>"
      ],
      "text/plain": [
       "      A     B     C    D\n",
       "0   1.0   2.0   3.0  4.0\n",
       "2  10.0  11.0  12.0  NaN"
      ]
     },
     "execution_count": 178,
     "metadata": {},
     "output_type": "execute_result"
    }
   ],
   "source": [
    "data_frame_1.dropna(subset=['C'])"
   ]
  },
  {
   "cell_type": "markdown",
   "id": "31643a73",
   "metadata": {},
   "source": [
    "# B. Imputing missing values"
   ]
  },
  {
   "cell_type": "markdown",
   "id": "5ce138b2",
   "metadata": {
    "ExecuteTime": {
     "end_time": "2023-03-20T00:16:22.581722Z",
     "start_time": "2023-03-20T00:16:22.576083Z"
    }
   },
   "source": [
    "## Step 1: impute missing values via the column mean"
   ]
  },
  {
   "cell_type": "code",
   "execution_count": 4,
   "id": "497fcff3",
   "metadata": {
    "ExecuteTime": {
     "end_time": "2023-03-20T00:17:53.694354Z",
     "start_time": "2023-03-20T00:17:53.691562Z"
    }
   },
   "outputs": [],
   "source": [
    "from sklearn.impute import SimpleImputer"
   ]
  },
  {
   "cell_type": "code",
   "execution_count": 18,
   "id": "c6a4a74e",
   "metadata": {
    "ExecuteTime": {
     "end_time": "2023-03-20T00:37:30.509487Z",
     "start_time": "2023-03-20T00:37:30.499704Z"
    }
   },
   "outputs": [
    {
     "data": {
      "text/html": [
       "<div>\n",
       "<style scoped>\n",
       "    .dataframe tbody tr th:only-of-type {\n",
       "        vertical-align: middle;\n",
       "    }\n",
       "\n",
       "    .dataframe tbody tr th {\n",
       "        vertical-align: top;\n",
       "    }\n",
       "\n",
       "    .dataframe thead th {\n",
       "        text-align: right;\n",
       "    }\n",
       "</style>\n",
       "<table border=\"1\" class=\"dataframe\">\n",
       "  <thead>\n",
       "    <tr style=\"text-align: right;\">\n",
       "      <th></th>\n",
       "      <th>0</th>\n",
       "      <th>1</th>\n",
       "      <th>2</th>\n",
       "    </tr>\n",
       "  </thead>\n",
       "  <tbody>\n",
       "    <tr>\n",
       "      <th>0</th>\n",
       "      <td>1.0</td>\n",
       "      <td>2.0</td>\n",
       "      <td>3.0</td>\n",
       "    </tr>\n",
       "    <tr>\n",
       "      <th>1</th>\n",
       "      <td>4.0</td>\n",
       "      <td>5.0</td>\n",
       "      <td>6.0</td>\n",
       "    </tr>\n",
       "    <tr>\n",
       "      <th>2</th>\n",
       "      <td>7.0</td>\n",
       "      <td>8.0</td>\n",
       "      <td>10.0</td>\n",
       "    </tr>\n",
       "    <tr>\n",
       "      <th>3</th>\n",
       "      <td>11.0</td>\n",
       "      <td>12.0</td>\n",
       "      <td>NaN</td>\n",
       "    </tr>\n",
       "  </tbody>\n",
       "</table>\n",
       "</div>"
      ],
      "text/plain": [
       "      0     1     2\n",
       "0   1.0   2.0   3.0\n",
       "1   4.0   5.0   6.0\n",
       "2   7.0   8.0  10.0\n",
       "3  11.0  12.0   NaN"
      ]
     },
     "execution_count": 18,
     "metadata": {},
     "output_type": "execute_result"
    }
   ],
   "source": [
    "frame_data = np.array([1,2,3,4,5,6,7,8,10,11,12, np.nan]).reshape((4,3))\n",
    "dataframe_2 = pd.DataFrame(data=frame_data)\n",
    "dataframe_2"
   ]
  },
  {
   "cell_type": "code",
   "execution_count": 35,
   "id": "0c5de1d9",
   "metadata": {
    "ExecuteTime": {
     "end_time": "2023-03-20T00:50:36.826257Z",
     "start_time": "2023-03-20T00:50:36.819861Z"
    }
   },
   "outputs": [
    {
     "data": {
      "text/plain": [
       "array([[ 1.  ,  2.  ,  3.  ],\n",
       "       [ 4.  ,  5.  ,  6.  ],\n",
       "       [ 7.  ,  8.  , 10.  ],\n",
       "       [11.  , 12.  ,  6.33]])"
      ]
     },
     "execution_count": 35,
     "metadata": {},
     "output_type": "execute_result"
    }
   ],
   "source": [
    "# input missing vlaues via the column mean\n",
    "pd.set_option(\"display.precision\", 2)\n",
    "#pd.set_option(\"display.precision\",2)\n",
    "simpleImputer = SimpleImputer(strategy='mean')\n",
    "dataframe_2 = simpleImputer.fit(dataframe_2).transform(dataframe_2)\n",
    "dataframe_2.round(2)"
   ]
  },
  {
   "cell_type": "code",
   "execution_count": null,
   "id": "2b09feae",
   "metadata": {},
   "outputs": [],
   "source": []
  }
 ],
 "metadata": {
  "kernelspec": {
   "display_name": "Python 3 (ipykernel)",
   "language": "python",
   "name": "python3"
  },
  "language_info": {
   "codemirror_mode": {
    "name": "ipython",
    "version": 3
   },
   "file_extension": ".py",
   "mimetype": "text/x-python",
   "name": "python",
   "nbconvert_exporter": "python",
   "pygments_lexer": "ipython3",
   "version": "3.9.13"
  },
  "toc": {
   "base_numbering": 1,
   "nav_menu": {},
   "number_sections": true,
   "sideBar": true,
   "skip_h1_title": false,
   "title_cell": "Table of Contents",
   "title_sidebar": "Contents",
   "toc_cell": false,
   "toc_position": {},
   "toc_section_display": true,
   "toc_window_display": false
  }
 },
 "nbformat": 4,
 "nbformat_minor": 5
}
