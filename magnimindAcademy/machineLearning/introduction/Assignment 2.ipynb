{
 "cells": [
  {
   "cell_type": "code",
   "execution_count": 290,
   "id": "c10308c6",
   "metadata": {
    "ExecuteTime": {
     "end_time": "2023-03-09T15:57:11.164486Z",
     "start_time": "2023-03-09T15:57:11.161897Z"
    }
   },
   "outputs": [],
   "source": [
    "# Machine Learning"
   ]
  },
  {
   "cell_type": "markdown",
   "id": "d158cce8",
   "metadata": {
    "ExecuteTime": {
     "end_time": "2023-03-09T15:50:56.166045Z",
     "start_time": "2023-03-09T15:50:56.109504Z"
    }
   },
   "source": [
    "## Assignment 1\n",
    "\n",
    "Step 1\n",
    "Load iris dataset from ScikitLearn using load_iris(). Assign the dataset to X and the target values to y.\n",
    "\n",
    "Step 2\n",
    "Print the dataset keys using iris_dataset.keys()\n",
    "\n",
    "Step 3\n",
    "Print the names of the categories in the target file\n",
    "\n",
    "Step 4\n",
    "Print the feature names in the Iris dataset\n",
    "\n",
    "Step 5\n",
    "Print the type of the Iris dataset.\n",
    "\n",
    "Step 6\n",
    "Print the shape of the Iris dataset.\n",
    "\n",
    "Step 7\n",
    "Print the first five rows of the Iris dataset.\n",
    "\n",
    "Step 8\n",
    "Print the type of the target variable of Iris dataset.\n",
    "\n",
    "Step 9\n",
    "Print the shape of the target variable of Iris dataset.\n",
    "\n",
    "Step 10\n",
    "Print the entire target variable values of the Iris dataset.\n",
    "\n",
    "Step 11\n",
    "Import NumPy with import numpy as np and use the numpy.unique() function to print the unique values of the target variable of Iris dataset\n",
    "\n",
    "Step 12\n",
    "Split dataset into train and test datasets using from sklearn.model_selection import train_test_split\n",
    "\n",
    "Step 13\n",
    "Print the shape of train/test datasets and the train/test target variables.\n",
    "\n",
    "Step 14\n",
    "Build your K-neighbors classifier for nearest neighbor of 1 using from sklearn.neighbors import KNeighborsClassifier, fit the model to your train dataset and make a prediction for teh data point of [5, 1.9, 1, 0.2]. Print your prediction class value as an integer and also the corresponding string label."
   ]
  },
  {
   "cell_type": "code",
   "execution_count": 291,
   "id": "5cd9f014",
   "metadata": {
    "ExecuteTime": {
     "end_time": "2023-03-09T15:57:11.171131Z",
     "start_time": "2023-03-09T15:57:11.167849Z"
    }
   },
   "outputs": [],
   "source": [
    "from sklearn import datasets"
   ]
  },
  {
   "cell_type": "markdown",
   "id": "71d55c4f",
   "metadata": {
    "ExecuteTime": {
     "end_time": "2023-03-07T17:39:12.712934Z",
     "start_time": "2023-03-07T17:39:12.690177Z"
    }
   },
   "source": [
    "### load iris dataset"
   ]
  },
  {
   "cell_type": "code",
   "execution_count": 292,
   "id": "bb454ea8",
   "metadata": {
    "ExecuteTime": {
     "end_time": "2023-03-09T15:57:11.188888Z",
     "start_time": "2023-03-09T15:57:11.173365Z"
    }
   },
   "outputs": [
    {
     "data": {
      "text/plain": [
       "{'data': array([[5.1, 3.5, 1.4, 0.2],\n",
       "        [4.9, 3. , 1.4, 0.2],\n",
       "        [4.7, 3.2, 1.3, 0.2],\n",
       "        [4.6, 3.1, 1.5, 0.2],\n",
       "        [5. , 3.6, 1.4, 0.2],\n",
       "        [5.4, 3.9, 1.7, 0.4],\n",
       "        [4.6, 3.4, 1.4, 0.3],\n",
       "        [5. , 3.4, 1.5, 0.2],\n",
       "        [4.4, 2.9, 1.4, 0.2],\n",
       "        [4.9, 3.1, 1.5, 0.1],\n",
       "        [5.4, 3.7, 1.5, 0.2],\n",
       "        [4.8, 3.4, 1.6, 0.2],\n",
       "        [4.8, 3. , 1.4, 0.1],\n",
       "        [4.3, 3. , 1.1, 0.1],\n",
       "        [5.8, 4. , 1.2, 0.2],\n",
       "        [5.7, 4.4, 1.5, 0.4],\n",
       "        [5.4, 3.9, 1.3, 0.4],\n",
       "        [5.1, 3.5, 1.4, 0.3],\n",
       "        [5.7, 3.8, 1.7, 0.3],\n",
       "        [5.1, 3.8, 1.5, 0.3],\n",
       "        [5.4, 3.4, 1.7, 0.2],\n",
       "        [5.1, 3.7, 1.5, 0.4],\n",
       "        [4.6, 3.6, 1. , 0.2],\n",
       "        [5.1, 3.3, 1.7, 0.5],\n",
       "        [4.8, 3.4, 1.9, 0.2],\n",
       "        [5. , 3. , 1.6, 0.2],\n",
       "        [5. , 3.4, 1.6, 0.4],\n",
       "        [5.2, 3.5, 1.5, 0.2],\n",
       "        [5.2, 3.4, 1.4, 0.2],\n",
       "        [4.7, 3.2, 1.6, 0.2],\n",
       "        [4.8, 3.1, 1.6, 0.2],\n",
       "        [5.4, 3.4, 1.5, 0.4],\n",
       "        [5.2, 4.1, 1.5, 0.1],\n",
       "        [5.5, 4.2, 1.4, 0.2],\n",
       "        [4.9, 3.1, 1.5, 0.2],\n",
       "        [5. , 3.2, 1.2, 0.2],\n",
       "        [5.5, 3.5, 1.3, 0.2],\n",
       "        [4.9, 3.6, 1.4, 0.1],\n",
       "        [4.4, 3. , 1.3, 0.2],\n",
       "        [5.1, 3.4, 1.5, 0.2],\n",
       "        [5. , 3.5, 1.3, 0.3],\n",
       "        [4.5, 2.3, 1.3, 0.3],\n",
       "        [4.4, 3.2, 1.3, 0.2],\n",
       "        [5. , 3.5, 1.6, 0.6],\n",
       "        [5.1, 3.8, 1.9, 0.4],\n",
       "        [4.8, 3. , 1.4, 0.3],\n",
       "        [5.1, 3.8, 1.6, 0.2],\n",
       "        [4.6, 3.2, 1.4, 0.2],\n",
       "        [5.3, 3.7, 1.5, 0.2],\n",
       "        [5. , 3.3, 1.4, 0.2],\n",
       "        [7. , 3.2, 4.7, 1.4],\n",
       "        [6.4, 3.2, 4.5, 1.5],\n",
       "        [6.9, 3.1, 4.9, 1.5],\n",
       "        [5.5, 2.3, 4. , 1.3],\n",
       "        [6.5, 2.8, 4.6, 1.5],\n",
       "        [5.7, 2.8, 4.5, 1.3],\n",
       "        [6.3, 3.3, 4.7, 1.6],\n",
       "        [4.9, 2.4, 3.3, 1. ],\n",
       "        [6.6, 2.9, 4.6, 1.3],\n",
       "        [5.2, 2.7, 3.9, 1.4],\n",
       "        [5. , 2. , 3.5, 1. ],\n",
       "        [5.9, 3. , 4.2, 1.5],\n",
       "        [6. , 2.2, 4. , 1. ],\n",
       "        [6.1, 2.9, 4.7, 1.4],\n",
       "        [5.6, 2.9, 3.6, 1.3],\n",
       "        [6.7, 3.1, 4.4, 1.4],\n",
       "        [5.6, 3. , 4.5, 1.5],\n",
       "        [5.8, 2.7, 4.1, 1. ],\n",
       "        [6.2, 2.2, 4.5, 1.5],\n",
       "        [5.6, 2.5, 3.9, 1.1],\n",
       "        [5.9, 3.2, 4.8, 1.8],\n",
       "        [6.1, 2.8, 4. , 1.3],\n",
       "        [6.3, 2.5, 4.9, 1.5],\n",
       "        [6.1, 2.8, 4.7, 1.2],\n",
       "        [6.4, 2.9, 4.3, 1.3],\n",
       "        [6.6, 3. , 4.4, 1.4],\n",
       "        [6.8, 2.8, 4.8, 1.4],\n",
       "        [6.7, 3. , 5. , 1.7],\n",
       "        [6. , 2.9, 4.5, 1.5],\n",
       "        [5.7, 2.6, 3.5, 1. ],\n",
       "        [5.5, 2.4, 3.8, 1.1],\n",
       "        [5.5, 2.4, 3.7, 1. ],\n",
       "        [5.8, 2.7, 3.9, 1.2],\n",
       "        [6. , 2.7, 5.1, 1.6],\n",
       "        [5.4, 3. , 4.5, 1.5],\n",
       "        [6. , 3.4, 4.5, 1.6],\n",
       "        [6.7, 3.1, 4.7, 1.5],\n",
       "        [6.3, 2.3, 4.4, 1.3],\n",
       "        [5.6, 3. , 4.1, 1.3],\n",
       "        [5.5, 2.5, 4. , 1.3],\n",
       "        [5.5, 2.6, 4.4, 1.2],\n",
       "        [6.1, 3. , 4.6, 1.4],\n",
       "        [5.8, 2.6, 4. , 1.2],\n",
       "        [5. , 2.3, 3.3, 1. ],\n",
       "        [5.6, 2.7, 4.2, 1.3],\n",
       "        [5.7, 3. , 4.2, 1.2],\n",
       "        [5.7, 2.9, 4.2, 1.3],\n",
       "        [6.2, 2.9, 4.3, 1.3],\n",
       "        [5.1, 2.5, 3. , 1.1],\n",
       "        [5.7, 2.8, 4.1, 1.3],\n",
       "        [6.3, 3.3, 6. , 2.5],\n",
       "        [5.8, 2.7, 5.1, 1.9],\n",
       "        [7.1, 3. , 5.9, 2.1],\n",
       "        [6.3, 2.9, 5.6, 1.8],\n",
       "        [6.5, 3. , 5.8, 2.2],\n",
       "        [7.6, 3. , 6.6, 2.1],\n",
       "        [4.9, 2.5, 4.5, 1.7],\n",
       "        [7.3, 2.9, 6.3, 1.8],\n",
       "        [6.7, 2.5, 5.8, 1.8],\n",
       "        [7.2, 3.6, 6.1, 2.5],\n",
       "        [6.5, 3.2, 5.1, 2. ],\n",
       "        [6.4, 2.7, 5.3, 1.9],\n",
       "        [6.8, 3. , 5.5, 2.1],\n",
       "        [5.7, 2.5, 5. , 2. ],\n",
       "        [5.8, 2.8, 5.1, 2.4],\n",
       "        [6.4, 3.2, 5.3, 2.3],\n",
       "        [6.5, 3. , 5.5, 1.8],\n",
       "        [7.7, 3.8, 6.7, 2.2],\n",
       "        [7.7, 2.6, 6.9, 2.3],\n",
       "        [6. , 2.2, 5. , 1.5],\n",
       "        [6.9, 3.2, 5.7, 2.3],\n",
       "        [5.6, 2.8, 4.9, 2. ],\n",
       "        [7.7, 2.8, 6.7, 2. ],\n",
       "        [6.3, 2.7, 4.9, 1.8],\n",
       "        [6.7, 3.3, 5.7, 2.1],\n",
       "        [7.2, 3.2, 6. , 1.8],\n",
       "        [6.2, 2.8, 4.8, 1.8],\n",
       "        [6.1, 3. , 4.9, 1.8],\n",
       "        [6.4, 2.8, 5.6, 2.1],\n",
       "        [7.2, 3. , 5.8, 1.6],\n",
       "        [7.4, 2.8, 6.1, 1.9],\n",
       "        [7.9, 3.8, 6.4, 2. ],\n",
       "        [6.4, 2.8, 5.6, 2.2],\n",
       "        [6.3, 2.8, 5.1, 1.5],\n",
       "        [6.1, 2.6, 5.6, 1.4],\n",
       "        [7.7, 3. , 6.1, 2.3],\n",
       "        [6.3, 3.4, 5.6, 2.4],\n",
       "        [6.4, 3.1, 5.5, 1.8],\n",
       "        [6. , 3. , 4.8, 1.8],\n",
       "        [6.9, 3.1, 5.4, 2.1],\n",
       "        [6.7, 3.1, 5.6, 2.4],\n",
       "        [6.9, 3.1, 5.1, 2.3],\n",
       "        [5.8, 2.7, 5.1, 1.9],\n",
       "        [6.8, 3.2, 5.9, 2.3],\n",
       "        [6.7, 3.3, 5.7, 2.5],\n",
       "        [6.7, 3. , 5.2, 2.3],\n",
       "        [6.3, 2.5, 5. , 1.9],\n",
       "        [6.5, 3. , 5.2, 2. ],\n",
       "        [6.2, 3.4, 5.4, 2.3],\n",
       "        [5.9, 3. , 5.1, 1.8]]),\n",
       " 'target': array([0, 0, 0, 0, 0, 0, 0, 0, 0, 0, 0, 0, 0, 0, 0, 0, 0, 0, 0, 0, 0, 0,\n",
       "        0, 0, 0, 0, 0, 0, 0, 0, 0, 0, 0, 0, 0, 0, 0, 0, 0, 0, 0, 0, 0, 0,\n",
       "        0, 0, 0, 0, 0, 0, 1, 1, 1, 1, 1, 1, 1, 1, 1, 1, 1, 1, 1, 1, 1, 1,\n",
       "        1, 1, 1, 1, 1, 1, 1, 1, 1, 1, 1, 1, 1, 1, 1, 1, 1, 1, 1, 1, 1, 1,\n",
       "        1, 1, 1, 1, 1, 1, 1, 1, 1, 1, 1, 1, 2, 2, 2, 2, 2, 2, 2, 2, 2, 2,\n",
       "        2, 2, 2, 2, 2, 2, 2, 2, 2, 2, 2, 2, 2, 2, 2, 2, 2, 2, 2, 2, 2, 2,\n",
       "        2, 2, 2, 2, 2, 2, 2, 2, 2, 2, 2, 2, 2, 2, 2, 2, 2, 2]),\n",
       " 'frame': None,\n",
       " 'target_names': array(['setosa', 'versicolor', 'virginica'], dtype='<U10'),\n",
       " 'DESCR': '.. _iris_dataset:\\n\\nIris plants dataset\\n--------------------\\n\\n**Data Set Characteristics:**\\n\\n    :Number of Instances: 150 (50 in each of three classes)\\n    :Number of Attributes: 4 numeric, predictive attributes and the class\\n    :Attribute Information:\\n        - sepal length in cm\\n        - sepal width in cm\\n        - petal length in cm\\n        - petal width in cm\\n        - class:\\n                - Iris-Setosa\\n                - Iris-Versicolour\\n                - Iris-Virginica\\n                \\n    :Summary Statistics:\\n\\n    ============== ==== ==== ======= ===== ====================\\n                    Min  Max   Mean    SD   Class Correlation\\n    ============== ==== ==== ======= ===== ====================\\n    sepal length:   4.3  7.9   5.84   0.83    0.7826\\n    sepal width:    2.0  4.4   3.05   0.43   -0.4194\\n    petal length:   1.0  6.9   3.76   1.76    0.9490  (high!)\\n    petal width:    0.1  2.5   1.20   0.76    0.9565  (high!)\\n    ============== ==== ==== ======= ===== ====================\\n\\n    :Missing Attribute Values: None\\n    :Class Distribution: 33.3% for each of 3 classes.\\n    :Creator: R.A. Fisher\\n    :Donor: Michael Marshall (MARSHALL%PLU@io.arc.nasa.gov)\\n    :Date: July, 1988\\n\\nThe famous Iris database, first used by Sir R.A. Fisher. The dataset is taken\\nfrom Fisher\\'s paper. Note that it\\'s the same as in R, but not as in the UCI\\nMachine Learning Repository, which has two wrong data points.\\n\\nThis is perhaps the best known database to be found in the\\npattern recognition literature.  Fisher\\'s paper is a classic in the field and\\nis referenced frequently to this day.  (See Duda & Hart, for example.)  The\\ndata set contains 3 classes of 50 instances each, where each class refers to a\\ntype of iris plant.  One class is linearly separable from the other 2; the\\nlatter are NOT linearly separable from each other.\\n\\n.. topic:: References\\n\\n   - Fisher, R.A. \"The use of multiple measurements in taxonomic problems\"\\n     Annual Eugenics, 7, Part II, 179-188 (1936); also in \"Contributions to\\n     Mathematical Statistics\" (John Wiley, NY, 1950).\\n   - Duda, R.O., & Hart, P.E. (1973) Pattern Classification and Scene Analysis.\\n     (Q327.D83) John Wiley & Sons.  ISBN 0-471-22361-1.  See page 218.\\n   - Dasarathy, B.V. (1980) \"Nosing Around the Neighborhood: A New System\\n     Structure and Classification Rule for Recognition in Partially Exposed\\n     Environments\".  IEEE Transactions on Pattern Analysis and Machine\\n     Intelligence, Vol. PAMI-2, No. 1, 67-71.\\n   - Gates, G.W. (1972) \"The Reduced Nearest Neighbor Rule\".  IEEE Transactions\\n     on Information Theory, May 1972, 431-433.\\n   - See also: 1988 MLC Proceedings, 54-64.  Cheeseman et al\"s AUTOCLASS II\\n     conceptual clustering system finds 3 classes in the data.\\n   - Many, many more ...',\n",
       " 'feature_names': ['sepal length (cm)',\n",
       "  'sepal width (cm)',\n",
       "  'petal length (cm)',\n",
       "  'petal width (cm)'],\n",
       " 'filename': 'iris.csv',\n",
       " 'data_module': 'sklearn.datasets.data'}"
      ]
     },
     "execution_count": 292,
     "metadata": {},
     "output_type": "execute_result"
    }
   ],
   "source": [
    "iris_dataset = datasets.load_iris()\n",
    "iris_dataset"
   ]
  },
  {
   "cell_type": "markdown",
   "id": "83e342cb",
   "metadata": {
    "ExecuteTime": {
     "end_time": "2023-03-07T17:40:07.029388Z",
     "start_time": "2023-03-07T17:40:07.024235Z"
    }
   },
   "source": [
    "### Print the dataset keys using iris_dataset.keys()"
   ]
  },
  {
   "cell_type": "code",
   "execution_count": 293,
   "id": "6a0fac03",
   "metadata": {
    "ExecuteTime": {
     "end_time": "2023-03-09T15:57:11.197075Z",
     "start_time": "2023-03-09T15:57:11.192370Z"
    }
   },
   "outputs": [
    {
     "data": {
      "text/plain": [
       "dict_keys(['data', 'target', 'frame', 'target_names', 'DESCR', 'feature_names', 'filename', 'data_module'])"
      ]
     },
     "execution_count": 293,
     "metadata": {},
     "output_type": "execute_result"
    }
   ],
   "source": [
    "iris_dataset.keys()"
   ]
  },
  {
   "cell_type": "markdown",
   "id": "9c675c71",
   "metadata": {
    "ExecuteTime": {
     "end_time": "2023-03-07T17:41:05.730608Z",
     "start_time": "2023-03-07T17:41:05.726095Z"
    }
   },
   "source": [
    "### Print the names of the categories in the target file"
   ]
  },
  {
   "cell_type": "code",
   "execution_count": 294,
   "id": "40048946",
   "metadata": {
    "ExecuteTime": {
     "end_time": "2023-03-09T15:57:11.204362Z",
     "start_time": "2023-03-09T15:57:11.199360Z"
    }
   },
   "outputs": [
    {
     "data": {
      "text/plain": [
       "array(['setosa', 'versicolor', 'virginica'], dtype='<U10')"
      ]
     },
     "execution_count": 294,
     "metadata": {},
     "output_type": "execute_result"
    }
   ],
   "source": [
    "iris_dataset.target_names"
   ]
  },
  {
   "cell_type": "markdown",
   "id": "d9c3ce16",
   "metadata": {
    "ExecuteTime": {
     "end_time": "2023-03-07T17:41:30.688652Z",
     "start_time": "2023-03-07T17:41:30.684679Z"
    }
   },
   "source": [
    "### Print the feature names in the Iris dataset"
   ]
  },
  {
   "cell_type": "code",
   "execution_count": 295,
   "id": "1b5c757e",
   "metadata": {
    "ExecuteTime": {
     "end_time": "2023-03-09T15:57:11.211266Z",
     "start_time": "2023-03-09T15:57:11.206967Z"
    }
   },
   "outputs": [
    {
     "data": {
      "text/plain": [
       "['sepal length (cm)',\n",
       " 'sepal width (cm)',\n",
       " 'petal length (cm)',\n",
       " 'petal width (cm)']"
      ]
     },
     "execution_count": 295,
     "metadata": {},
     "output_type": "execute_result"
    }
   ],
   "source": [
    "iris_dataset.feature_names"
   ]
  },
  {
   "cell_type": "markdown",
   "id": "17f28c3e",
   "metadata": {
    "ExecuteTime": {
     "end_time": "2023-03-09T15:51:21.721194Z",
     "start_time": "2023-03-09T15:51:21.718575Z"
    }
   },
   "source": [
    "### Print the type of the Iris dataset."
   ]
  },
  {
   "cell_type": "code",
   "execution_count": 296,
   "id": "d4793143",
   "metadata": {
    "ExecuteTime": {
     "end_time": "2023-03-09T15:57:11.217570Z",
     "start_time": "2023-03-09T15:57:11.213889Z"
    }
   },
   "outputs": [
    {
     "name": "stdout",
     "output_type": "stream",
     "text": [
      "<class 'numpy.ndarray'>\n"
     ]
    }
   ],
   "source": [
    "print(type(iris_dataset.data))"
   ]
  },
  {
   "cell_type": "markdown",
   "id": "d5d54eec",
   "metadata": {
    "ExecuteTime": {
     "end_time": "2023-03-09T15:51:21.734734Z",
     "start_time": "2023-03-09T15:51:21.732040Z"
    }
   },
   "source": [
    "### Print the shape of the Iris dataset."
   ]
  },
  {
   "cell_type": "code",
   "execution_count": 297,
   "id": "e7c6a73e",
   "metadata": {
    "ExecuteTime": {
     "end_time": "2023-03-09T15:57:11.224778Z",
     "start_time": "2023-03-09T15:57:11.219924Z"
    }
   },
   "outputs": [
    {
     "data": {
      "text/plain": [
       "(150, 4)"
      ]
     },
     "execution_count": 297,
     "metadata": {},
     "output_type": "execute_result"
    }
   ],
   "source": [
    "iris_dataset.data.shape"
   ]
  },
  {
   "cell_type": "markdown",
   "id": "1a9ee052",
   "metadata": {
    "ExecuteTime": {
     "end_time": "2023-03-09T15:51:21.746512Z",
     "start_time": "2023-03-09T15:51:21.744064Z"
    }
   },
   "source": [
    "### Print the first five rows of the Iris dataset."
   ]
  },
  {
   "cell_type": "code",
   "execution_count": 298,
   "id": "7fd88df2",
   "metadata": {
    "ExecuteTime": {
     "end_time": "2023-03-09T15:57:11.234652Z",
     "start_time": "2023-03-09T15:57:11.229389Z"
    }
   },
   "outputs": [
    {
     "data": {
      "text/plain": [
       "array([[5.1, 3.5, 1.4, 0.2],\n",
       "       [4.9, 3. , 1.4, 0.2],\n",
       "       [4.7, 3.2, 1.3, 0.2],\n",
       "       [4.6, 3.1, 1.5, 0.2],\n",
       "       [5. , 3.6, 1.4, 0.2]])"
      ]
     },
     "execution_count": 298,
     "metadata": {},
     "output_type": "execute_result"
    }
   ],
   "source": [
    "iris_dataset.data[0:5,:]"
   ]
  },
  {
   "cell_type": "markdown",
   "id": "a528a5fd",
   "metadata": {
    "ExecuteTime": {
     "end_time": "2023-03-09T15:54:40.148975Z",
     "start_time": "2023-03-09T15:54:40.146398Z"
    }
   },
   "source": [
    "### Print the type of the target variable of Iris dataset."
   ]
  },
  {
   "cell_type": "code",
   "execution_count": 299,
   "id": "388b51b8",
   "metadata": {
    "ExecuteTime": {
     "end_time": "2023-03-09T15:57:11.241314Z",
     "start_time": "2023-03-09T15:57:11.236838Z"
    }
   },
   "outputs": [
    {
     "data": {
      "text/plain": [
       "dtype('int64')"
      ]
     },
     "execution_count": 299,
     "metadata": {},
     "output_type": "execute_result"
    }
   ],
   "source": [
    "iris_dataset.target.dtype"
   ]
  },
  {
   "cell_type": "markdown",
   "id": "3bc26fb1",
   "metadata": {
    "ExecuteTime": {
     "end_time": "2023-03-09T15:54:40.160430Z",
     "start_time": "2023-03-09T15:54:40.157753Z"
    }
   },
   "source": [
    "### Print the shape of the target variable of Iris dataset."
   ]
  },
  {
   "cell_type": "code",
   "execution_count": 300,
   "id": "c6b3b8ae",
   "metadata": {
    "ExecuteTime": {
     "end_time": "2023-03-09T15:57:11.248195Z",
     "start_time": "2023-03-09T15:57:11.243564Z"
    }
   },
   "outputs": [
    {
     "data": {
      "text/plain": [
       "(150,)"
      ]
     },
     "execution_count": 300,
     "metadata": {},
     "output_type": "execute_result"
    }
   ],
   "source": [
    "iris_dataset.target.shape"
   ]
  },
  {
   "cell_type": "markdown",
   "id": "9bbc6d12",
   "metadata": {
    "ExecuteTime": {
     "end_time": "2023-03-07T17:52:40.019702Z",
     "start_time": "2023-03-07T17:52:40.014519Z"
    }
   },
   "source": [
    "### Print the entire target variable values of the Iris dataset."
   ]
  },
  {
   "cell_type": "code",
   "execution_count": 301,
   "id": "55884915",
   "metadata": {
    "ExecuteTime": {
     "end_time": "2023-03-09T15:57:11.255161Z",
     "start_time": "2023-03-09T15:57:11.250422Z"
    }
   },
   "outputs": [
    {
     "data": {
      "text/plain": [
       "array([0, 0, 0, 0, 0, 0, 0, 0, 0, 0, 0, 0, 0, 0, 0, 0, 0, 0, 0, 0, 0, 0,\n",
       "       0, 0, 0, 0, 0, 0, 0, 0, 0, 0, 0, 0, 0, 0, 0, 0, 0, 0, 0, 0, 0, 0,\n",
       "       0, 0, 0, 0, 0, 0, 1, 1, 1, 1, 1, 1, 1, 1, 1, 1, 1, 1, 1, 1, 1, 1,\n",
       "       1, 1, 1, 1, 1, 1, 1, 1, 1, 1, 1, 1, 1, 1, 1, 1, 1, 1, 1, 1, 1, 1,\n",
       "       1, 1, 1, 1, 1, 1, 1, 1, 1, 1, 1, 1, 2, 2, 2, 2, 2, 2, 2, 2, 2, 2,\n",
       "       2, 2, 2, 2, 2, 2, 2, 2, 2, 2, 2, 2, 2, 2, 2, 2, 2, 2, 2, 2, 2, 2,\n",
       "       2, 2, 2, 2, 2, 2, 2, 2, 2, 2, 2, 2, 2, 2, 2, 2, 2, 2])"
      ]
     },
     "execution_count": 301,
     "metadata": {},
     "output_type": "execute_result"
    }
   ],
   "source": [
    "iris_dataset.target"
   ]
  },
  {
   "cell_type": "markdown",
   "id": "49d48567",
   "metadata": {
    "ExecuteTime": {
     "end_time": "2023-03-09T15:54:40.185419Z",
     "start_time": "2023-03-09T15:54:40.180475Z"
    }
   },
   "source": [
    "### Use the numpy.unique() function to print the unique values \n",
    "of the target variable of Iris dataset"
   ]
  },
  {
   "cell_type": "code",
   "execution_count": 302,
   "id": "980b88c1",
   "metadata": {
    "ExecuteTime": {
     "end_time": "2023-03-09T15:57:11.262192Z",
     "start_time": "2023-03-09T15:57:11.257194Z"
    }
   },
   "outputs": [
    {
     "data": {
      "text/plain": [
       "array([0, 1, 2])"
      ]
     },
     "execution_count": 302,
     "metadata": {},
     "output_type": "execute_result"
    }
   ],
   "source": [
    "import numpy as np\n",
    "np.unique(iris_dataset.target)"
   ]
  },
  {
   "cell_type": "markdown",
   "id": "f1d73dca",
   "metadata": {
    "ExecuteTime": {
     "end_time": "2023-03-07T18:14:52.418920Z",
     "start_time": "2023-03-07T18:14:52.403829Z"
    }
   },
   "source": [
    "### Split dataset into train and test datasets \n",
    "\n",
    "using from sklearn.model_selection import train_test_split"
   ]
  },
  {
   "cell_type": "code",
   "execution_count": 303,
   "id": "77ba0020",
   "metadata": {
    "ExecuteTime": {
     "end_time": "2023-03-09T15:57:11.268232Z",
     "start_time": "2023-03-09T15:57:11.264429Z"
    }
   },
   "outputs": [],
   "source": [
    "from sklearn.model_selection import train_test_split\n",
    "(X_train, X_test, y_train, y_test) = \\\n",
    "    train_test_split(iris_dataset.data,iris_dataset.target,test_size=.2)"
   ]
  },
  {
   "cell_type": "markdown",
   "id": "dea27131",
   "metadata": {
    "ExecuteTime": {
     "end_time": "2023-03-07T18:14:57.368057Z",
     "start_time": "2023-03-07T18:14:57.363072Z"
    }
   },
   "source": [
    "### Print the shapes of train/test datasets and the train/test target variables."
   ]
  },
  {
   "cell_type": "code",
   "execution_count": 304,
   "id": "4327876b",
   "metadata": {
    "ExecuteTime": {
     "end_time": "2023-03-09T15:57:11.275264Z",
     "start_time": "2023-03-09T15:57:11.270281Z"
    }
   },
   "outputs": [
    {
     "data": {
      "text/plain": [
       "('X_train/y_train:', (120, 4), (120,), (30, 4), (30,))"
      ]
     },
     "execution_count": 304,
     "metadata": {},
     "output_type": "execute_result"
    }
   ],
   "source": [
    "\"X_train/y_train:\", X_train.shape, y_train.shape, X_test.shape, y_test.shape"
   ]
  },
  {
   "cell_type": "markdown",
   "id": "c6fc5083",
   "metadata": {
    "ExecuteTime": {
     "end_time": "2023-03-09T15:55:17.998552Z",
     "start_time": "2023-03-09T15:55:17.989282Z"
    }
   },
   "source": [
    "### Build your K-neighbors classifier for nearest neighbor of 1 using \n",
    " \n",
    "from sklearn.neighbors import KNeighborsClassifier, fit the model to your train dataset \n",
    "and make a prediction for the data point of [5, 1.9, 1, 0.2]. Print your prediction \n",
    "class value as an integer and also the corresponding string label."
   ]
  },
  {
   "cell_type": "code",
   "execution_count": 305,
   "id": "a029e039",
   "metadata": {
    "ExecuteTime": {
     "end_time": "2023-03-09T15:57:11.350119Z",
     "start_time": "2023-03-09T15:57:11.277989Z"
    }
   },
   "outputs": [
    {
     "data": {
      "text/plain": [
       "'setosa'"
      ]
     },
     "execution_count": 305,
     "metadata": {},
     "output_type": "execute_result"
    }
   ],
   "source": [
    "from sklearn.neighbors import KNeighborsClassifier\n",
    "k_neighbors = KNeighborsClassifier(n_neighbors=1)\n",
    "model = k_neighbors.fit(X_train, y_train)\n",
    "\n",
    "# Returns an ndarray\n",
    "answer = model.predict([[5, 1.9, 1, 0.2]])[0]\n",
    "iris_dataset.target_names[0]"
   ]
  },
  {
   "cell_type": "markdown",
   "id": "668e0964",
   "metadata": {
    "ExecuteTime": {
     "end_time": "2023-03-09T15:56:14.874879Z",
     "start_time": "2023-03-09T15:56:14.860629Z"
    }
   },
   "source": [
    "# Assignment 2\n",
    "\n",
    "Step 1\n",
    "Import the modules needed to explore the data\n",
    "\n",
    "import pandas as pd\n",
    "import numpy as np\n",
    "import seaborn as sns\n",
    "import matplotlib.pyplot as plt\n",
    "\n",
    "Step 2\n",
    "Import auto_mpg.csv dataset using pandas'read_csv function. Print the first three samples from your dataset, print the index range of the observations, and print the column names of your dataset\n",
    "\n",
    "Step 3\n",
    "Assign mpg column as output and name it as y and the rest of the data as the features and assign it to X. Print the shape of X.\n",
    "\n",
    "Step 4\n",
    "Bonus: Check the dataset if there are any missing values in any of the columns using isnull().any() functions.\n",
    "\n",
    "Step 5\n",
    "Check the data types of each feature. Which columns are continuous and which are categorical?\n",
    "\n",
    "Step 6\n",
    "Look at the unique elements of horsepower\n",
    "\n",
    "Step 7\n",
    "Let's describe data since everything looks in order.\n",
    "\n",
    "See the statistical details of the dataset using describe and info methods.\n",
    "\n",
    "Step 8\n",
    "Let's specifically look at the description of the mpg feature\n",
    "\n",
    "Step 9\n",
    "Visualize the distribution of the features of the data using hist method, use bins=20.\n",
    "\n",
    "Step 10\n",
    "BONUS: Visualize the relationships between these data points.\n",
    "\n",
    "Create a function to scale your dataset by using the formula 𝑏=𝑥−𝑚𝑖𝑛𝑚𝑎𝑥−𝑚𝑖𝑛\n",
    "Using this function, scale displacement, horsepower, acceleration, weight, andmpg.\n",
    "Create a boxplot of mpg for different origin values before and after scaling."
   ]
  },
  {
   "cell_type": "markdown",
   "id": "6258b7c0",
   "metadata": {},
   "source": [
    "### Import the modules needed to explore the data"
   ]
  },
  {
   "cell_type": "code",
   "execution_count": 306,
   "id": "0045e28c",
   "metadata": {
    "ExecuteTime": {
     "end_time": "2023-03-09T15:57:11.358410Z",
     "start_time": "2023-03-09T15:57:11.352945Z"
    }
   },
   "outputs": [],
   "source": [
    "import pandas as pd\n",
    "import numpy as np\n",
    "import seaborn as sns\n",
    "import matplotlib.pyplot as plt"
   ]
  },
  {
   "cell_type": "markdown",
   "id": "0ae25fd8",
   "metadata": {
    "ExecuteTime": {
     "end_time": "2023-03-07T18:43:00.352698Z",
     "start_time": "2023-03-07T18:43:00.345040Z"
    }
   },
   "source": [
    "### Import auto_mpg.csv dataset using pandas'read_csv function. \n",
    "\n",
    "Print the first three samples from your dataset, print the index range of the \n",
    "observations, and print the column name of your dataset"
   ]
  },
  {
   "cell_type": "code",
   "execution_count": 307,
   "id": "1e82384d",
   "metadata": {
    "ExecuteTime": {
     "end_time": "2023-03-09T15:57:11.376183Z",
     "start_time": "2023-03-09T15:57:11.361149Z"
    }
   },
   "outputs": [
    {
     "name": "stdout",
     "output_type": "stream",
     "text": [
      "Range Index =  RangeIndex(start=0, stop=398, step=1)\n",
      "Columns...\n",
      "\t mpg\n",
      "\t cylinders\n",
      "\t displacement\n",
      "\t horsepower\n",
      "\t weight\n",
      "\t acceleration\n",
      "\t model year\n",
      "\t origin\n",
      "\t car name\n"
     ]
    }
   ],
   "source": [
    "auto_mpg_df = pd.read_csv('auto_mpg.csv')\n",
    "print(\"Range Index = \", auto_mpg_df.index)\n",
    "\n",
    "print(\"Columns...\")\n",
    "for column in auto_mpg_df.columns:\n",
    "    print(\"\\t\",column)"
   ]
  },
  {
   "cell_type": "markdown",
   "id": "5722bf65",
   "metadata": {
    "ExecuteTime": {
     "end_time": "2023-03-08T17:13:46.025559Z",
     "start_time": "2023-03-08T17:13:46.019186Z"
    }
   },
   "source": [
    "### Assign mpg column as output and name it as y and the rest of the \n",
    "\n",
    "data as the features "
   ]
  },
  {
   "cell_type": "code",
   "execution_count": 308,
   "id": "dd0d1349",
   "metadata": {
    "ExecuteTime": {
     "end_time": "2023-03-09T15:57:11.385413Z",
     "start_time": "2023-03-09T15:57:11.378673Z"
    }
   },
   "outputs": [
    {
     "name": "stdout",
     "output_type": "stream",
     "text": [
      "The Shape of the original dataframe  (398, 9)\n",
      "The Shape of X (398, 8)\n",
      "The Shape of y (398, 1)\n"
     ]
    }
   ],
   "source": [
    "y = auto_mpg_df[['mpg']]\n",
    "X = auto_mpg_df.loc[:, auto_mpg_df.columns != 'mpg']\n",
    "print(\"The Shape of the original dataframe \", auto_mpg_df.shape)\n",
    "print(\"The Shape of X\", X.shape)\n",
    "print(\"The Shape of y\",y.shape)"
   ]
  },
  {
   "cell_type": "markdown",
   "id": "d62702f6",
   "metadata": {
    "ExecuteTime": {
     "end_time": "2023-03-08T17:13:51.367581Z",
     "start_time": "2023-03-08T17:13:51.360247Z"
    }
   },
   "source": [
    "### Bonus: Check the dataset if there are any missing values\n",
    "\n",
    "in any of the columns using isnull().any() functions."
   ]
  },
  {
   "cell_type": "code",
   "execution_count": 309,
   "id": "befc31d8",
   "metadata": {
    "ExecuteTime": {
     "end_time": "2023-03-09T15:57:11.403839Z",
     "start_time": "2023-03-09T15:57:11.395251Z"
    }
   },
   "outputs": [
    {
     "name": "stdout",
     "output_type": "stream",
     "text": [
      "1. Are there any missing vlaues mpg             False\n",
      "cylinders       False\n",
      "displacement    False\n",
      "horsepower      False\n",
      "weight          False\n",
      "acceleration    False\n",
      "model year      False\n",
      "origin          False\n",
      "car name        False\n",
      "dtype: bool\n",
      "2. Are there any missing values 0\n"
     ]
    }
   ],
   "source": [
    "print(\"1. Are there any missing vlaues\", auto_mpg_df.isnull().any())\n",
    "print(\"2. Are there any missing values\", auto_mpg_df.isna().sum().sum())"
   ]
  },
  {
   "cell_type": "markdown",
   "id": "24de65fb",
   "metadata": {},
   "source": [
    "Check the data types of each feature. Which columns are continuous and which are categorical?\n",
    "\n",
    "|Field|Type|Extra Information |\n",
    "|-----|----|------------------|\n",
    "cylinder|categorial|values 3,4,5,6,8|\n",
    "displacement|continuous| too many values to be catgorical|\n",
    "horsepower|continuous| too many values to be categorical\n",
    "displacement|continuous| too many values to be categorical |\n",
    "acceleration|continuous| too many values to be categorical |\n",
    "model year  |discrete  | Not to many values to be categorical, but could group\n",
    "origin|categorical| Need to do research on what the number mean|\n",
    "car name|Unknown| Just a String where the column is not unique|"
   ]
  },
  {
   "cell_type": "markdown",
   "id": "251b78c6",
   "metadata": {
    "ExecuteTime": {
     "end_time": "2023-03-08T17:13:52.857827Z",
     "start_time": "2023-03-08T17:13:52.850713Z"
    }
   },
   "source": [
    "### Look at the unique elements of horsepower"
   ]
  },
  {
   "cell_type": "code",
   "execution_count": 310,
   "id": "7b078b73",
   "metadata": {
    "ExecuteTime": {
     "end_time": "2023-03-09T15:57:11.414544Z",
     "start_time": "2023-03-09T15:57:11.406508Z"
    }
   },
   "outputs": [
    {
     "name": "stdout",
     "output_type": "stream",
     "text": [
      "[130. 165. 150. 140. 198. 220. 215. 225. 190. 170. 160.  95.  97.  85.\n",
      "  88.  46.  87.  90. 113. 200. 210. 193. 104. 100. 105. 175. 153. 180.\n",
      " 110.  72.  86.  70.  76.  65.  69.  60.  80.  54. 208. 155. 112.  92.\n",
      " 145. 137. 158. 167.  94. 107. 230.  49.  75.  91. 122.  67.  83.  78.\n",
      "  52.  61.  93. 148. 129.  96.  71.  98. 115.  53.  81.  79. 120. 152.\n",
      " 102. 108.  68.  58. 149.  89.  63.  48.  66. 139. 103. 125. 133. 138.\n",
      " 135. 142.  77.  62. 132.  84.  64.  74. 116.  82.]\n"
     ]
    },
    {
     "data": {
      "text/plain": [
       "('There are 94 elements', 94)"
      ]
     },
     "execution_count": 310,
     "metadata": {},
     "output_type": "execute_result"
    }
   ],
   "source": [
    "print(X['horsepower'].unique())\n",
    "\"There are 94 elements\", X['horsepower'].nunique()"
   ]
  },
  {
   "cell_type": "markdown",
   "id": "64b072a9",
   "metadata": {
    "ExecuteTime": {
     "end_time": "2023-03-08T17:13:56.195340Z",
     "start_time": "2023-03-08T17:13:56.192379Z"
    }
   },
   "source": [
    "### describe data since everything looks in order."
   ]
  },
  {
   "cell_type": "code",
   "execution_count": 311,
   "id": "f64a7cbd",
   "metadata": {
    "ExecuteTime": {
     "end_time": "2023-03-09T15:57:11.448985Z",
     "start_time": "2023-03-09T15:57:11.416853Z"
    }
   },
   "outputs": [
    {
     "data": {
      "text/html": [
       "<div>\n",
       "<style scoped>\n",
       "    .dataframe tbody tr th:only-of-type {\n",
       "        vertical-align: middle;\n",
       "    }\n",
       "\n",
       "    .dataframe tbody tr th {\n",
       "        vertical-align: top;\n",
       "    }\n",
       "\n",
       "    .dataframe thead th {\n",
       "        text-align: right;\n",
       "    }\n",
       "</style>\n",
       "<table border=\"1\" class=\"dataframe\">\n",
       "  <thead>\n",
       "    <tr style=\"text-align: right;\">\n",
       "      <th></th>\n",
       "      <th>cylinders</th>\n",
       "      <th>displacement</th>\n",
       "      <th>horsepower</th>\n",
       "      <th>weight</th>\n",
       "      <th>acceleration</th>\n",
       "      <th>model year</th>\n",
       "      <th>origin</th>\n",
       "    </tr>\n",
       "  </thead>\n",
       "  <tbody>\n",
       "    <tr>\n",
       "      <th>count</th>\n",
       "      <td>398.000000</td>\n",
       "      <td>398.000000</td>\n",
       "      <td>398.000000</td>\n",
       "      <td>398.000000</td>\n",
       "      <td>398.000000</td>\n",
       "      <td>398.000000</td>\n",
       "      <td>398.000000</td>\n",
       "    </tr>\n",
       "    <tr>\n",
       "      <th>mean</th>\n",
       "      <td>5.454774</td>\n",
       "      <td>193.425879</td>\n",
       "      <td>104.462312</td>\n",
       "      <td>2970.424623</td>\n",
       "      <td>15.568090</td>\n",
       "      <td>76.010050</td>\n",
       "      <td>1.572864</td>\n",
       "    </tr>\n",
       "    <tr>\n",
       "      <th>std</th>\n",
       "      <td>1.701004</td>\n",
       "      <td>104.269838</td>\n",
       "      <td>38.199230</td>\n",
       "      <td>846.841774</td>\n",
       "      <td>2.757689</td>\n",
       "      <td>3.697627</td>\n",
       "      <td>0.802055</td>\n",
       "    </tr>\n",
       "    <tr>\n",
       "      <th>min</th>\n",
       "      <td>3.000000</td>\n",
       "      <td>68.000000</td>\n",
       "      <td>46.000000</td>\n",
       "      <td>1613.000000</td>\n",
       "      <td>8.000000</td>\n",
       "      <td>70.000000</td>\n",
       "      <td>1.000000</td>\n",
       "    </tr>\n",
       "    <tr>\n",
       "      <th>25%</th>\n",
       "      <td>4.000000</td>\n",
       "      <td>104.250000</td>\n",
       "      <td>76.000000</td>\n",
       "      <td>2223.750000</td>\n",
       "      <td>13.825000</td>\n",
       "      <td>73.000000</td>\n",
       "      <td>1.000000</td>\n",
       "    </tr>\n",
       "    <tr>\n",
       "      <th>50%</th>\n",
       "      <td>4.000000</td>\n",
       "      <td>148.500000</td>\n",
       "      <td>95.000000</td>\n",
       "      <td>2803.500000</td>\n",
       "      <td>15.500000</td>\n",
       "      <td>76.000000</td>\n",
       "      <td>1.000000</td>\n",
       "    </tr>\n",
       "    <tr>\n",
       "      <th>75%</th>\n",
       "      <td>8.000000</td>\n",
       "      <td>262.000000</td>\n",
       "      <td>125.000000</td>\n",
       "      <td>3608.000000</td>\n",
       "      <td>17.175000</td>\n",
       "      <td>79.000000</td>\n",
       "      <td>2.000000</td>\n",
       "    </tr>\n",
       "    <tr>\n",
       "      <th>max</th>\n",
       "      <td>8.000000</td>\n",
       "      <td>455.000000</td>\n",
       "      <td>230.000000</td>\n",
       "      <td>5140.000000</td>\n",
       "      <td>24.800000</td>\n",
       "      <td>82.000000</td>\n",
       "      <td>3.000000</td>\n",
       "    </tr>\n",
       "  </tbody>\n",
       "</table>\n",
       "</div>"
      ],
      "text/plain": [
       "        cylinders  displacement  horsepower       weight  acceleration  \\\n",
       "count  398.000000    398.000000  398.000000   398.000000    398.000000   \n",
       "mean     5.454774    193.425879  104.462312  2970.424623     15.568090   \n",
       "std      1.701004    104.269838   38.199230   846.841774      2.757689   \n",
       "min      3.000000     68.000000   46.000000  1613.000000      8.000000   \n",
       "25%      4.000000    104.250000   76.000000  2223.750000     13.825000   \n",
       "50%      4.000000    148.500000   95.000000  2803.500000     15.500000   \n",
       "75%      8.000000    262.000000  125.000000  3608.000000     17.175000   \n",
       "max      8.000000    455.000000  230.000000  5140.000000     24.800000   \n",
       "\n",
       "       model year      origin  \n",
       "count  398.000000  398.000000  \n",
       "mean    76.010050    1.572864  \n",
       "std      3.697627    0.802055  \n",
       "min     70.000000    1.000000  \n",
       "25%     73.000000    1.000000  \n",
       "50%     76.000000    1.000000  \n",
       "75%     79.000000    2.000000  \n",
       "max     82.000000    3.000000  "
      ]
     },
     "execution_count": 311,
     "metadata": {},
     "output_type": "execute_result"
    }
   ],
   "source": [
    "X.describe()"
   ]
  },
  {
   "cell_type": "code",
   "execution_count": 312,
   "id": "6663e44d",
   "metadata": {
    "ExecuteTime": {
     "end_time": "2023-03-09T15:57:11.462175Z",
     "start_time": "2023-03-09T15:57:11.451819Z"
    }
   },
   "outputs": [
    {
     "name": "stdout",
     "output_type": "stream",
     "text": [
      "<class 'pandas.core.frame.DataFrame'>\n",
      "RangeIndex: 398 entries, 0 to 397\n",
      "Data columns (total 8 columns):\n",
      " #   Column        Non-Null Count  Dtype  \n",
      "---  ------        --------------  -----  \n",
      " 0   cylinders     398 non-null    int64  \n",
      " 1   displacement  398 non-null    float64\n",
      " 2   horsepower    398 non-null    float64\n",
      " 3   weight        398 non-null    int64  \n",
      " 4   acceleration  398 non-null    float64\n",
      " 5   model year    398 non-null    int64  \n",
      " 6   origin        398 non-null    int64  \n",
      " 7   car name      398 non-null    object \n",
      "dtypes: float64(3), int64(4), object(1)\n",
      "memory usage: 25.0+ KB\n"
     ]
    }
   ],
   "source": [
    "X.info()"
   ]
  },
  {
   "cell_type": "markdown",
   "id": "c05b4e5c",
   "metadata": {
    "ExecuteTime": {
     "end_time": "2023-03-08T17:14:00.124049Z",
     "start_time": "2023-03-08T17:14:00.111276Z"
    }
   },
   "source": [
    "### Let's specifically look at the description of the mpg feature"
   ]
  },
  {
   "cell_type": "code",
   "execution_count": 313,
   "id": "5224ca93",
   "metadata": {
    "ExecuteTime": {
     "end_time": "2023-03-09T15:57:11.477640Z",
     "start_time": "2023-03-09T15:57:11.464212Z"
    }
   },
   "outputs": [
    {
     "data": {
      "text/html": [
       "<div>\n",
       "<style scoped>\n",
       "    .dataframe tbody tr th:only-of-type {\n",
       "        vertical-align: middle;\n",
       "    }\n",
       "\n",
       "    .dataframe tbody tr th {\n",
       "        vertical-align: top;\n",
       "    }\n",
       "\n",
       "    .dataframe thead th {\n",
       "        text-align: right;\n",
       "    }\n",
       "</style>\n",
       "<table border=\"1\" class=\"dataframe\">\n",
       "  <thead>\n",
       "    <tr style=\"text-align: right;\">\n",
       "      <th></th>\n",
       "      <th>mpg</th>\n",
       "    </tr>\n",
       "  </thead>\n",
       "  <tbody>\n",
       "    <tr>\n",
       "      <th>count</th>\n",
       "      <td>398.000000</td>\n",
       "    </tr>\n",
       "    <tr>\n",
       "      <th>mean</th>\n",
       "      <td>23.514573</td>\n",
       "    </tr>\n",
       "    <tr>\n",
       "      <th>std</th>\n",
       "      <td>7.815984</td>\n",
       "    </tr>\n",
       "    <tr>\n",
       "      <th>min</th>\n",
       "      <td>9.000000</td>\n",
       "    </tr>\n",
       "    <tr>\n",
       "      <th>25%</th>\n",
       "      <td>17.500000</td>\n",
       "    </tr>\n",
       "    <tr>\n",
       "      <th>50%</th>\n",
       "      <td>23.000000</td>\n",
       "    </tr>\n",
       "    <tr>\n",
       "      <th>75%</th>\n",
       "      <td>29.000000</td>\n",
       "    </tr>\n",
       "    <tr>\n",
       "      <th>max</th>\n",
       "      <td>46.600000</td>\n",
       "    </tr>\n",
       "  </tbody>\n",
       "</table>\n",
       "</div>"
      ],
      "text/plain": [
       "              mpg\n",
       "count  398.000000\n",
       "mean    23.514573\n",
       "std      7.815984\n",
       "min      9.000000\n",
       "25%     17.500000\n",
       "50%     23.000000\n",
       "75%     29.000000\n",
       "max     46.600000"
      ]
     },
     "execution_count": 313,
     "metadata": {},
     "output_type": "execute_result"
    }
   ],
   "source": [
    "y.describe()"
   ]
  },
  {
   "cell_type": "code",
   "execution_count": 314,
   "id": "97cb00a1",
   "metadata": {
    "ExecuteTime": {
     "end_time": "2023-03-09T15:57:11.482777Z",
     "start_time": "2023-03-09T15:57:11.480223Z"
    }
   },
   "outputs": [],
   "source": [
    "### Visualize the distribution of the features of the data using hist method, use bins=20."
   ]
  },
  {
   "cell_type": "code",
   "execution_count": 315,
   "id": "c4358599",
   "metadata": {
    "ExecuteTime": {
     "end_time": "2023-03-09T15:57:12.643302Z",
     "start_time": "2023-03-09T15:57:11.485026Z"
    }
   },
   "outputs": [
    {
     "data": {
      "image/png": "[encoded data removed]",
      "text/plain": [
       "<Figure size 1200x1600 with 9 Axes>"
      ]
     },
     "metadata": {},
     "output_type": "display_data"
    }
   ],
   "source": [
    "ax = X.hist(bins=20, figsize=(12,16))"
   ]
  },
  {
   "cell_type": "code",
   "execution_count": 316,
   "id": "cd32abe9",
   "metadata": {
    "ExecuteTime": {
     "end_time": "2023-03-09T15:57:12.659826Z",
     "start_time": "2023-03-09T15:57:12.645715Z"
    }
   },
   "outputs": [
    {
     "data": {
      "text/html": [
       "<div>\n",
       "<style scoped>\n",
       "    .dataframe tbody tr th:only-of-type {\n",
       "        vertical-align: middle;\n",
       "    }\n",
       "\n",
       "    .dataframe tbody tr th {\n",
       "        vertical-align: top;\n",
       "    }\n",
       "\n",
       "    .dataframe thead th {\n",
       "        text-align: right;\n",
       "    }\n",
       "</style>\n",
       "<table border=\"1\" class=\"dataframe\">\n",
       "  <thead>\n",
       "    <tr style=\"text-align: right;\">\n",
       "      <th></th>\n",
       "      <th>cylinders</th>\n",
       "      <th>displacement</th>\n",
       "      <th>horsepower</th>\n",
       "      <th>weight</th>\n",
       "      <th>acceleration</th>\n",
       "      <th>model year</th>\n",
       "      <th>origin</th>\n",
       "    </tr>\n",
       "  </thead>\n",
       "  <tbody>\n",
       "    <tr>\n",
       "      <th>cylinders</th>\n",
       "      <td>1.000000</td>\n",
       "      <td>0.950721</td>\n",
       "      <td>0.839061</td>\n",
       "      <td>0.896017</td>\n",
       "      <td>-0.505419</td>\n",
       "      <td>-0.348746</td>\n",
       "      <td>-0.562543</td>\n",
       "    </tr>\n",
       "    <tr>\n",
       "      <th>displacement</th>\n",
       "      <td>0.950721</td>\n",
       "      <td>1.000000</td>\n",
       "      <td>0.893760</td>\n",
       "      <td>0.932824</td>\n",
       "      <td>-0.543684</td>\n",
       "      <td>-0.370164</td>\n",
       "      <td>-0.609409</td>\n",
       "    </tr>\n",
       "    <tr>\n",
       "      <th>horsepower</th>\n",
       "      <td>0.839061</td>\n",
       "      <td>0.893760</td>\n",
       "      <td>1.000000</td>\n",
       "      <td>0.860676</td>\n",
       "      <td>-0.684376</td>\n",
       "      <td>-0.411750</td>\n",
       "      <td>-0.453613</td>\n",
       "    </tr>\n",
       "    <tr>\n",
       "      <th>weight</th>\n",
       "      <td>0.896017</td>\n",
       "      <td>0.932824</td>\n",
       "      <td>0.860676</td>\n",
       "      <td>1.000000</td>\n",
       "      <td>-0.417457</td>\n",
       "      <td>-0.306564</td>\n",
       "      <td>-0.581024</td>\n",
       "    </tr>\n",
       "    <tr>\n",
       "      <th>acceleration</th>\n",
       "      <td>-0.505419</td>\n",
       "      <td>-0.543684</td>\n",
       "      <td>-0.684376</td>\n",
       "      <td>-0.417457</td>\n",
       "      <td>1.000000</td>\n",
       "      <td>0.288137</td>\n",
       "      <td>0.205873</td>\n",
       "    </tr>\n",
       "    <tr>\n",
       "      <th>model year</th>\n",
       "      <td>-0.348746</td>\n",
       "      <td>-0.370164</td>\n",
       "      <td>-0.411750</td>\n",
       "      <td>-0.306564</td>\n",
       "      <td>0.288137</td>\n",
       "      <td>1.000000</td>\n",
       "      <td>0.180662</td>\n",
       "    </tr>\n",
       "    <tr>\n",
       "      <th>origin</th>\n",
       "      <td>-0.562543</td>\n",
       "      <td>-0.609409</td>\n",
       "      <td>-0.453613</td>\n",
       "      <td>-0.581024</td>\n",
       "      <td>0.205873</td>\n",
       "      <td>0.180662</td>\n",
       "      <td>1.000000</td>\n",
       "    </tr>\n",
       "  </tbody>\n",
       "</table>\n",
       "</div>"
      ],
      "text/plain": [
       "              cylinders  displacement  horsepower    weight  acceleration  \\\n",
       "cylinders      1.000000      0.950721    0.839061  0.896017     -0.505419   \n",
       "displacement   0.950721      1.000000    0.893760  0.932824     -0.543684   \n",
       "horsepower     0.839061      0.893760    1.000000  0.860676     -0.684376   \n",
       "weight         0.896017      0.932824    0.860676  1.000000     -0.417457   \n",
       "acceleration  -0.505419     -0.543684   -0.684376 -0.417457      1.000000   \n",
       "model year    -0.348746     -0.370164   -0.411750 -0.306564      0.288137   \n",
       "origin        -0.562543     -0.609409   -0.453613 -0.581024      0.205873   \n",
       "\n",
       "              model year    origin  \n",
       "cylinders      -0.348746 -0.562543  \n",
       "displacement   -0.370164 -0.609409  \n",
       "horsepower     -0.411750 -0.453613  \n",
       "weight         -0.306564 -0.581024  \n",
       "acceleration    0.288137  0.205873  \n",
       "model year      1.000000  0.180662  \n",
       "origin          0.180662  1.000000  "
      ]
     },
     "execution_count": 316,
     "metadata": {},
     "output_type": "execute_result"
    }
   ],
   "source": [
    "# Study the correlation\n",
    "X.corr()"
   ]
  },
  {
   "cell_type": "markdown",
   "id": "f08974f2",
   "metadata": {
    "ExecuteTime": {
     "end_time": "2023-03-08T17:14:11.140095Z",
     "start_time": "2023-03-08T17:14:11.137060Z"
    }
   },
   "source": [
    "### BONUS: Visualize the relationships between these data points.\n",
    "\n",
    "Create a function to scale your dataset by using the formula 𝑏=𝑥−𝑚𝑖𝑛𝑚𝑎𝑥−𝑚𝑖𝑛\n",
    "\n",
    "Using this function, scale displacement, horsepower, acceleration, weight, and mpg.\n",
    "\n",
    "Create a boxplot of mpg for different origin values before and after scaling."
   ]
  },
  {
   "cell_type": "code",
   "execution_count": 317,
   "id": "5df8bc77",
   "metadata": {
    "ExecuteTime": {
     "end_time": "2023-03-09T15:57:12.667965Z",
     "start_time": "2023-03-09T15:57:12.662241Z"
    }
   },
   "outputs": [],
   "source": [
    "def scale(column):\n",
    "    scaled_value = ( column - column.min()) /\\\n",
    "        (column.min() - column.max())\n",
    "    return scaled_value"
   ]
  },
  {
   "cell_type": "code",
   "execution_count": 318,
   "id": "7faa4d2c",
   "metadata": {
    "ExecuteTime": {
     "end_time": "2023-03-09T15:57:12.680971Z",
     "start_time": "2023-03-09T15:57:12.670878Z"
    }
   },
   "outputs": [
    {
     "data": {
      "text/plain": [
       "455.0"
      ]
     },
     "execution_count": 318,
     "metadata": {},
     "output_type": "execute_result"
    }
   ],
   "source": [
    "#Using this function, scale displacement, horsepower, acceleration, \n",
    "#weight, and mpg.\n",
    "X_scaled = X.copy()\n",
    "y_scaled = y.copy()\n",
    "\n",
    "X_scaled.displacement = scale(X.displacement)\n",
    "X_scaled.horsepower = scale(X.horsepower)\n",
    "X_scaled.acceleration = scale(X.acceleration)\n",
    "X_scaled.weight = scale(X.weight)\n",
    "y_scaled.mpg = scale(y.mpg)\n",
    "\n",
    "X.displacement.max()"
   ]
  },
  {
   "cell_type": "code",
   "execution_count": 362,
   "id": "44163222",
   "metadata": {
    "ExecuteTime": {
     "end_time": "2023-03-09T16:21:20.840774Z",
     "start_time": "2023-03-09T16:21:20.561931Z"
    }
   },
   "outputs": [
    {
     "data": {
      "text/plain": [
       "<AxesSubplot:title={'center':'displacement'}, xlabel='origin'>"
      ]
     },
     "execution_count": 362,
     "metadata": {},
     "output_type": "execute_result"
    },
    {
     "data": {
      "image/png": "[encoded data removed]",
      "text/plain": [
       "<Figure size 1000x800 with 2 Axes>"
      ]
     },
     "metadata": {},
     "output_type": "display_data"
    }
   ],
   "source": [
    "fig, ax = plt.subplots(1,2)\n",
    "plt.rcParams[\"figure.figsize\"]=[10,16]\n",
    "\n",
    "# Orignial Values\n",
    "X.boxplot(column='displacement', by='origin', ax=ax[0])\n",
    "\n",
    "# Scaled Variables\n",
    "X_scaled.boxplot(column='displacement', by='origin', ax=ax[1])\n"
   ]
  }
 ],
 "metadata": {
  "kernelspec": {
   "display_name": "Python 3 (ipykernel)",
   "language": "python",
   "name": "python3"
  },
  "language_info": {
   "codemirror_mode": {
    "name": "ipython",
    "version": 3
   },
   "file_extension": ".py",
   "mimetype": "text/x-python",
   "name": "python",
   "nbconvert_exporter": "python",
   "pygments_lexer": "ipython3",
   "version": "3.9.13"
  },
  "toc": {
   "base_numbering": 1,
   "nav_menu": {},
   "number_sections": true,
   "sideBar": true,
   "skip_h1_title": false,
   "title_cell": "Table of Contents",
   "title_sidebar": "Contents",
   "toc_cell": false,
   "toc_position": {},
   "toc_section_display": true,
   "toc_window_display": false
  }
 },
 "nbformat": 4,
 "nbformat_minor": 5
}
