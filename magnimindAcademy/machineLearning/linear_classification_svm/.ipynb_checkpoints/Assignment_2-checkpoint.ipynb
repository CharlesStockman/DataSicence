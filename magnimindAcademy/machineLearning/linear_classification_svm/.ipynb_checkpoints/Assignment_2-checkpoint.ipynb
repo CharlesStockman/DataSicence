{
 "cells": [
  {
   "cell_type": "code",
   "execution_count": 1,
   "id": "d10899b3",
   "metadata": {
    "ExecuteTime": {
     "end_time": "2023-05-08T15:44:17.374051Z",
     "start_time": "2023-05-08T15:44:11.987211Z"
    }
   },
   "outputs": [],
   "source": [
    "import numpy as np\n",
    "import matplotlib.pyplot as plt\n",
    "from sklearn.datasets import fetch_lfw_people\n",
    "from sklearn.svm import SVC\n",
    "from sklearn.decomposition import PCA\n",
    "from sklearn.pipeline import make_pipeline\n",
    "from sklearn.model_selection import train_test_split\n",
    "from sklearn.model_selection import GridSearchCV"
   ]
  },
  {
   "cell_type": "markdown",
   "id": "38b4c7c8",
   "metadata": {
    "ExecuteTime": {
     "end_time": "2023-05-07T20:01:54.585411Z",
     "start_time": "2023-05-07T20:01:54.568716Z"
    }
   },
   "source": [
    "## Face Recognition (from Python Data Science Handbook by Jake VanderPlas)\n",
    "\n",
    "As an example of support vector machines in action, let's take a look \n",
    "at the facial recognition problem.  We will use the Labeled Faces in \n",
    "the Wild dataset, which consists of several thousand collated photos \n",
    "of various public figures.  A fetcher for the dataset is built into \n",
    "]Scikit-Learn:"
   ]
  },
  {
   "cell_type": "code",
   "execution_count": 2,
   "id": "78d624a6",
   "metadata": {
    "ExecuteTime": {
     "end_time": "2023-05-08T15:44:17.490406Z",
     "start_time": "2023-05-08T15:44:17.376889Z"
    }
   },
   "outputs": [
    {
     "name": "stdout",
     "output_type": "stream",
     "text": [
      "Target Variable --  ['Ariel Sharon' 'Colin Powell' 'Donald Rumsfeld' 'George W Bush'\n",
      " 'Gerhard Schroeder' 'Hugo Chavez' 'Junichiro Koizumi' 'Tony Blair']\n",
      "Shape --  (1348, 62, 47)\n",
      "Shape of one image  (62, 47)\n"
     ]
    }
   ],
   "source": [
    "# Load the raw dataset\n",
    "faces_raw_data = fetch_lfw_people(min_faces_per_person=60)\n",
    "print(\"Target Variable -- \",faces_raw_data.target_names)\n",
    "print(\"Shape -- \", faces_raw_data.images.shape)\n",
    "print(\"Shape of one image \", faces_raw_data.images[0].shape)"
   ]
  },
  {
   "cell_type": "code",
   "execution_count": 3,
   "id": "986fc6a3",
   "metadata": {
    "ExecuteTime": {
     "end_time": "2023-05-08T15:44:17.496072Z",
     "start_time": "2023-05-08T15:44:17.492604Z"
    }
   },
   "outputs": [],
   "source": [
    "# Plot a face to see what we are working with"
   ]
  },
  {
   "cell_type": "code",
   "execution_count": 4,
   "id": "2d5fc0d6",
   "metadata": {
    "ExecuteTime": {
     "end_time": "2023-05-08T15:44:17.634329Z",
     "start_time": "2023-05-08T15:44:17.501765Z"
    }
   },
   "outputs": [
    {
     "data": {
      "text/plain": [
       "Text(0.5, 0, 'Colin Powell')"
      ]
     },
     "execution_count": 4,
     "metadata": {},
     "output_type": "execute_result"
    },
    {
     "data": {
      "image/png": "[encoded data removed]",
      "text/plain": [
       "<Figure size 640x480 with 1 Axes>"
      ]
     },
     "metadata": {},
     "output_type": "display_data"
    }
   ],
   "source": [
    "fig, ax = plt.subplots(1)\n",
    "ax.imshow(faces_raw_data.images[0], cmap='bone')\n",
    "ax.set(xticks=[], yticks=[])\n",
    "xlabel=faces_raw_data.target_names[faces_raw_data.target[0]]\n",
    "ax.set_xlabel(xlabel=xlabel)"
   ]
  },
  {
   "cell_type": "markdown",
   "id": "416db364",
   "metadata": {},
   "source": [
    "Each image contains [62×47] or nearly 3,000 pixels.\n",
    "We could proceed by simply using each pixel value as a feature, but often it is more effective to use some sort of preprocessor to extract more meaningful features; here we will use a principal component analysis (we will learn about PCA later) to extract 150 fundamental components to feed into our support vector machine classifier.\n",
    "We can do this most straightforwardly by packaging the preprocessor and the classifier into a single pipeline:"
   ]
  },
  {
   "cell_type": "code",
   "execution_count": 5,
   "id": "a80f1184",
   "metadata": {
    "ExecuteTime": {
     "end_time": "2023-05-08T15:44:17.642237Z",
     "start_time": "2023-05-08T15:44:17.637822Z"
    }
   },
   "outputs": [],
   "source": [
    "pca = PCA(n_components=150, whiten=True, random_state=42)\n",
    "svc = SVC(kernel='rbf', class_weight='balanced')\n",
    "model = make_pipeline(pca, svc)"
   ]
  },
  {
   "cell_type": "code",
   "execution_count": 6,
   "id": "b2010f22",
   "metadata": {
    "ExecuteTime": {
     "end_time": "2023-05-08T15:44:17.658203Z",
     "start_time": "2023-05-08T15:44:17.644372Z"
    }
   },
   "outputs": [
    {
     "name": "stdout",
     "output_type": "stream",
     "text": [
      "Training Shapes:  (1011, 2914) (1011,)\n",
      "Testing Shapes:  (337, 2914) (337,)\n"
     ]
    }
   ],
   "source": [
    "# Create a Test/Training Set\n",
    "(X_train, X_test, y_train,  y_test ) = \\\n",
    "    train_test_split(faces_raw_data.data, faces_raw_data.target, \\\n",
    "                     random_state=42)\n",
    "print(\"Training Shapes: \", X_train.shape, y_train.shape)\n",
    "print(\"Testing Shapes: \", X_test.shape, y_test.shape)"
   ]
  },
  {
   "cell_type": "code",
   "execution_count": null,
   "id": "09dfe176",
   "metadata": {
    "ExecuteTime": {
     "start_time": "2023-05-08T15:44:11.993Z"
    }
   },
   "outputs": [
    {
     "name": "stdout",
     "output_type": "stream",
     "text": [
      "Fitting 5 folds for each of 16 candidates, totalling 80 fits\n"
     ]
    }
   ],
   "source": [
    "# Grid Search\n",
    "parameters = { \n",
    "    'svc__C':[1, 5, 10, 50],\n",
    "    'svc__gamma': [0.0001, 0.0005, .001, .005 ]}\n",
    "\n",
    "grid_1 = GridSearchCV(model, param_grid=parameters, verbose=5)\n",
    "grid_1.fit(X_train,y_train)\n",
    "print(\"Best Score is \", grid_1.best_score_)\n",
    "print(\"Best estimator is \", grid_1.best_estimator_)\n",
    "print(\"Best params is \", grid_1.best_params_)\n",
    "\n",
    "# support_vector_classification.C = 1\n",
    "# support_vector_classification.kernel = 'linear'\n",
    "# model = support_vector_classification.fit(X_train, y_train)\n",
    "# print(\"Training Score\", model.score(X_train,y_train))\n",
    "# print(\"Testing Score \", model.score(X_test,y_test))\n"
   ]
  },
  {
   "cell_type": "code",
   "execution_count": null,
   "id": "1d387b56",
   "metadata": {},
   "outputs": [],
   "source": []
  }
 ],
 "metadata": {
  "kernelspec": {
   "display_name": "Python 3 (ipykernel)",
   "language": "python",
   "name": "python3"
  },
  "language_info": {
   "codemirror_mode": {
    "name": "ipython",
    "version": 3
   },
   "file_extension": ".py",
   "mimetype": "text/x-python",
   "name": "python",
   "nbconvert_exporter": "python",
   "pygments_lexer": "ipython3",
   "version": "3.9.13"
  },
  "toc": {
   "base_numbering": 1,
   "nav_menu": {},
   "number_sections": true,
   "sideBar": true,
   "skip_h1_title": false,
   "title_cell": "Table of Contents",
   "title_sidebar": "Contents",
   "toc_cell": false,
   "toc_position": {},
   "toc_section_display": true,
   "toc_window_display": false
  }
 },
 "nbformat": 4,
 "nbformat_minor": 5
}
