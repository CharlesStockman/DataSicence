{
 "cells": [
  {
   "cell_type": "code",
   "execution_count": 85,
   "id": "990af274",
   "metadata": {
    "ExecuteTime": {
     "end_time": "2023-05-01T21:55:23.052333Z",
     "start_time": "2023-05-01T21:55:22.320085Z"
    }
   },
   "outputs": [],
   "source": [
    "from sklearn.linear_model import LogisticRegression\n",
    "from sklearn.model_selection import train_test_split\n",
    "from sklearn.preprocessing import StandardScaler\n",
    "from sklearn.preprocessing import MinMaxScaler\n",
    "from sklearn.datasets import load_digits\n",
    "from sklearn.neighbors import KNeighborsClassifier\n",
    "\n",
    "import matplotlib.pyplot as plt\n",
    "import numpy as np"
   ]
  },
  {
   "cell_type": "code",
   "execution_count": 8,
   "id": "ca3f9bc7",
   "metadata": {
    "ExecuteTime": {
     "end_time": "2023-04-30T21:27:16.772898Z",
     "start_time": "2023-04-30T21:27:16.703292Z"
    }
   },
   "outputs": [
    {
     "data": {
      "text/plain": [
       "dict_keys(['data', 'target', 'frame', 'feature_names', 'target_names', 'images', 'DESCR'])"
      ]
     },
     "execution_count": 8,
     "metadata": {},
     "output_type": "execute_result"
    }
   ],
   "source": [
    "# Import digits data set from Scikitlearn datasets library\n",
    "data = load_digits()\n",
    "data.keys()"
   ]
  },
  {
   "cell_type": "code",
   "execution_count": 20,
   "id": "7799f772",
   "metadata": {
    "ExecuteTime": {
     "end_time": "2023-04-30T21:37:18.633456Z",
     "start_time": "2023-04-30T21:37:18.628978Z"
    }
   },
   "outputs": [
    {
     "data": {
      "text/plain": [
       "(1797, 64)"
      ]
     },
     "execution_count": 20,
     "metadata": {},
     "output_type": "execute_result"
    }
   ],
   "source": [
    "# Creaete the features dataframe\n",
    "X=data.data\n",
    "X.shape"
   ]
  },
  {
   "cell_type": "code",
   "execution_count": 17,
   "id": "60e70710",
   "metadata": {
    "ExecuteTime": {
     "end_time": "2023-04-30T21:28:27.823986Z",
     "start_time": "2023-04-30T21:28:27.819866Z"
    }
   },
   "outputs": [
    {
     "data": {
      "text/plain": [
       "(1797,)"
      ]
     },
     "execution_count": 17,
     "metadata": {},
     "output_type": "execute_result"
    }
   ],
   "source": [
    "# Create the dependent variable dataframe\n",
    "y = data.target\n",
    "y.shape"
   ]
  },
  {
   "cell_type": "code",
   "execution_count": 28,
   "id": "11fad0a1",
   "metadata": {
    "ExecuteTime": {
     "end_time": "2023-04-30T21:43:06.041003Z",
     "start_time": "2023-04-30T21:43:06.037393Z"
    }
   },
   "outputs": [
    {
     "name": "stdout",
     "output_type": "stream",
     "text": [
      "The Target Contains 10: elements counts -- [178 182 177 183 181 182 181 179 174 180]\n"
     ]
    }
   ],
   "source": [
    "# Get the number of images for each number\n",
    "result = np.bincount(y)\n",
    "print(f\"The Target Contains {len(result)}: elements counts -- {result}\" )"
   ]
  },
  {
   "cell_type": "code",
   "execution_count": 33,
   "id": "2f3116a0",
   "metadata": {
    "ExecuteTime": {
     "end_time": "2023-04-30T21:59:21.537560Z",
     "start_time": "2023-04-30T21:59:21.530749Z"
    }
   },
   "outputs": [
    {
     "name": "stdout",
     "output_type": "stream",
     "text": [
      "Shape Xtrain/yTrain (1347, 64) (1347,)\n",
      "Shape Xtest,yTest (450, 64) (450,)\n"
     ]
    }
   ],
   "source": [
    "# Create the train/test dataset\n",
    "XTrain, XTest, yTrain, yTest = train_test_split(X,y,stratify=y,random_state=142)\n",
    "print(\"Shape Xtrain/yTrain\", XTrain.shape, yTrain.shape)\n",
    "print(\"Shape Xtest,yTest\", XTest.shape, yTest.shape)"
   ]
  },
  {
   "cell_type": "code",
   "execution_count": 41,
   "id": "1010a392",
   "metadata": {
    "ExecuteTime": {
     "end_time": "2023-05-01T20:52:37.194448Z",
     "start_time": "2023-05-01T20:52:37.189067Z"
    }
   },
   "outputs": [
    {
     "name": "stdout",
     "output_type": "stream",
     "text": [
      "The maxinium value of XTrain is  16.0\n"
     ]
    }
   ],
   "source": [
    "# Normalizing the data\n",
    "Xtrain_max = np.max(XTrain)\n",
    "print(\"The maxinium value of XTrain is \", Xtrain_max)\n",
    "\n",
    "Xtrain_normalized = Xtrain / Xtrain_max\n",
    "Xtest_normalized = Xtest / Xtrain_max"
   ]
  },
  {
   "cell_type": "code",
   "execution_count": 95,
   "id": "ed846c86",
   "metadata": {
    "ExecuteTime": {
     "end_time": "2023-05-01T22:00:15.487838Z",
     "start_time": "2023-05-01T22:00:14.355380Z"
    }
   },
   "outputs": [
    {
     "name": "stdout",
     "output_type": "stream",
     "text": [
      "index =  1\n",
      "train score =  0.9888641425389755\n",
      "test  score =  0.9866666666666667\n",
      "--------------------------------------------------\n",
      "index =  2\n",
      "train score =  0.9881217520415738\n",
      "test  score =  0.9822222222222222\n",
      "--------------------------------------------------\n",
      "index =  3\n",
      "train score =  0.9925760950259837\n",
      "test  score =  0.9844444444444445\n",
      "--------------------------------------------------\n",
      "index =  4\n",
      "train score =  0.994060876020787\n",
      "test  score =  0.9844444444444445\n",
      "--------------------------------------------------\n",
      "index =  5\n",
      "train score =  1.0\n",
      "test  score =  0.9844444444444445\n",
      "--------------------------------------------------\n",
      "index =  6\n",
      "train score =  0.9948032665181886\n",
      "test  score =  0.9844444444444445\n",
      "--------------------------------------------------\n",
      "index =  7\n",
      "train score =  0.9933184855233853\n",
      "test  score =  0.9822222222222222\n",
      "--------------------------------------------------\n",
      "index =  8\n",
      "train score =  0.9925760950259837\n",
      "test  score =  0.98\n",
      "--------------------------------------------------\n",
      "index =  9\n",
      "train score =  0.991833704528582\n",
      "test  score =  0.9822222222222222\n",
      "--------------------------------------------------\n"
     ]
    }
   ],
   "source": [
    "# Using KneighborClassifier\n",
    "\n",
    "train_scores = []\n",
    "test_scores = []\n",
    "all_neighbors = range(1,10)\n",
    "for neighbors in all_neighbors:\n",
    "    k_neighbors = KNeighborsClassifier(n_neighbors=neighbors)\n",
    "    k_neighbors.fit(Xtrain_normalized, yTrain)\n",
    "\n",
    "    train_scores.append(k_neighbors.\\\n",
    "                       score(Xtrain_normalized, y_predicted_train))\n",
    "    test_scores.append(k_neighbors.\\\n",
    "                      score(Xtest_normalized, yTest))\n",
    "\n",
    "    print(\"index = \", neighbors)\n",
    "    print(\"train score = \", train_scores[neighbors-1])\n",
    "    print(\"test  score = \", test_scores[neighbors-1])\n",
    "    print(\"-\"*50)"
   ]
  },
  {
   "cell_type": "code",
   "execution_count": 101,
   "id": "08649cb8",
   "metadata": {
    "ExecuteTime": {
     "end_time": "2023-05-01T22:11:24.682454Z",
     "start_time": "2023-05-01T22:11:24.517585Z"
    }
   },
   "outputs": [
    {
     "data": {
      "image/png": "[encoded data removed]",
      "text/plain": [
       "<Figure size 640x480 with 1 Axes>"
      ]
     },
     "metadata": {},
     "output_type": "display_data"
    }
   ],
   "source": [
    "# Generate Plot\n",
    "plt.title(\"k-NN Nieghbors from 1 to 10\")\n",
    "plt.plot(all_neighbors, train_scores, label = \"Training Accuracy\")\n",
    "plt.plot(all_neighbors, test_scores, label = \"Test Accuracy\")\n",
    "plt.legend()\n",
    "plt.show()"
   ]
  },
  {
   "cell_type": "code",
   "execution_count": 114,
   "id": "2ccd1567",
   "metadata": {
    "ExecuteTime": {
     "end_time": "2023-05-01T22:32:03.639942Z",
     "start_time": "2023-05-01T22:32:03.504347Z"
    }
   },
   "outputs": [
    {
     "name": "stdout",
     "output_type": "stream",
     "text": [
      "train score =  0.9836674090571641\n",
      "test  score =  0.9688888888888889\n",
      "--------------------------------------------------\n"
     ]
    }
   ],
   "source": [
    "# Need to understand how to optimize\n",
    "logistic_regression = LogisticRegression(max_iter=190)\n",
    "logistic_regression.fit(Xtrain_normalized,yTrain)\n",
    "training_scores = logistic_regression.score(Xtrain_normalized,yTrain)\n",
    "testing_scores = logistic_regression.score(Xtest_normalized,yTest)\n",
    "print(\"train score = \", training_scores)\n",
    "print(\"test  score = \", testing_scores)\n",
    "print(\"-\"*50)"
   ]
  },
  {
   "cell_type": "code",
   "execution_count": null,
   "id": "f8c9db78",
   "metadata": {},
   "outputs": [],
   "source": []
  }
 ],
 "metadata": {
  "kernelspec": {
   "display_name": "Python 3 (ipykernel)",
   "language": "python",
   "name": "python3"
  },
  "language_info": {
   "codemirror_mode": {
    "name": "ipython",
    "version": 3
   },
   "file_extension": ".py",
   "mimetype": "text/x-python",
   "name": "python",
   "nbconvert_exporter": "python",
   "pygments_lexer": "ipython3",
   "version": "3.9.13"
  },
  "toc": {
   "base_numbering": 1,
   "nav_menu": {},
   "number_sections": true,
   "sideBar": true,
   "skip_h1_title": false,
   "title_cell": "Table of Contents",
   "title_sidebar": "Contents",
   "toc_cell": false,
   "toc_position": {},
   "toc_section_display": true,
   "toc_window_display": false
  }
 },
 "nbformat": 4,
 "nbformat_minor": 5
}
