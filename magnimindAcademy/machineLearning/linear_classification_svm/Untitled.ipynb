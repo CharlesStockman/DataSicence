{
 "cells": [
  {
   "cell_type": "code",
   "execution_count": 1,
   "id": "6531e063-3917-4a72-aa54-312d915d411e",
   "metadata": {
    "tags": []
   },
   "outputs": [],
   "source": [
    "import pandas as pd"
   ]
  },
  {
   "cell_type": "code",
   "execution_count": null,
   "id": "673cdf17-1e8e-492e-9c5d-3fae25f376e6",
   "metadata": {},
   "outputs": [],
   "source": [
    "# Reusable functions"
   ]
  },
  {
   "cell_type": "code",
   "execution_count": null,
   "id": "b64ceb1b-21ed-4b85-bbfd-360f1f9e2042",
   "metadata": {},
   "outputs": [],
   "source": [
    "def info_about_columns(dataframe, data_science_descriptions):\n",
    "    '''\n",
    "        A reusable function that will create a dataframe to contain in another \n",
    "        dataframe the following : dataypes, Number of Unique Categories, Categories \n",
    "        per sample and the type of variable missing values and missing values %\n",
    "        \n",
    "        input : A dataframe where data and categories will be retrieved\n",
    "        series : The data science explamation for each data type\n",
    "    '''\n",
    "        \n",
    "    if data_science_descriptions == None:\n",
    "        data_science_descriptions = dataframe.copy().dtypes\n",
    "        data_science_descriptions = \\\n",
    "            data_science_descriptions.replace(data_science_descriptions.to_list(), \"NA\")\n",
    "                 \n",
    "    dataframe_info_about_columns = pd.concat([\n",
    "          dataframe.dtypes, \n",
    "          dataframe.nunique(), \n",
    "          round(dataframe.nunique()*100/len(dataframe)),\n",
    "          data_science_descriptions,\n",
    "          dataframe.isna().sum(),\n",
    "          dataframe.isna().sum() * 100 / len(dataframe)], axis=1)\n",
    "    \n",
    "\n",
    "    dataframe_info_about_columns.columns=[\n",
    "                                     'DataType', \n",
    "                                     '# of Categories', \n",
    "                                     'categories/sample ratio', \n",
    "                                     'Data Science Type',\n",
    "                                     'missing values',\n",
    "                                     'missing values %']\n",
    "    \n",
    "    return dataframe_info_about_columns"
   ]
  },
  {
   "cell_type": "code",
   "execution_count": null,
   "id": "37ec81f0-faec-48cb-b2d5-2af11adb1a67",
   "metadata": {},
   "outputs": [],
   "source": [
    "from IPython.display import display, HTML\n",
    "\n",
    "def show_examples_of_data(dataframe, data_information, description, catgeogry_cutoff):\n",
    "    '''\n",
    "       purpose To show the data to provide the data scientist an understand of the data\n",
    "       \n",
    "       input:\n",
    "          dataframe          The data frame that contains the dataset\n",
    "          data_information   Information about the categorical, missing values etc..\n",
    "          descriptons        A series that contains a description for each filename\n",
    "    '''\n",
    "    \n",
    "    data_dictionary = pd.DataFrame(columns=[\"Field\", \"Description\", \"Value\"])\n",
    "    \n",
    "    for index, row in data_information.iterrows():\n",
    "        \n",
    "         values = \"\"\n",
    "         column_cnt = data_information.loc[index, '# of Categories']\n",
    "         if column_cnt <= catgeogry_cutoff:\n",
    "                value = original_df[index].unique()\n",
    "         else: \n",
    "                value = str(original_df[index].min()) + \" to \"  + str(original_df[index].max())             \n",
    "         row_data = []\n",
    "         row_data.append(index)\n",
    "         row_data.append(description.loc[index])\n",
    "         row_data.append(value)\n",
    "    \n",
    "         data_dictionary.loc[len(data_dictionary.index)] = row_data\n",
    "                \n",
    "    return data_dictionary\n",
    "\n"
   ]
  },
  {
   "cell_type": "code",
   "execution_count": null,
   "id": "df67e5fb-82f6-41b5-bf83-9a3ed2f96f96",
   "metadata": {},
   "outputs": [],
   "source": [
    "# Read the data and look at the data types / missing values / types which more accurately explained"
   ]
  },
  {
   "cell_type": "code",
   "execution_count": 1,
   "id": "8c3f95cd-298d-4f19-8b10-b699832d9169",
   "metadata": {
    "tags": []
   },
   "outputs": [
    {
     "name": "stdout",
     "output_type": "stream",
     "text": [
      "--- Currently executing .zshenv ---\n",
      "--- Finished executing .zshenv --- \n",
      "Have set \"fPATH\" and \"XDG_HOME\" and \"XDG_DATA_HOME\" and \"XDG_CACHE_HOME\" \n",
      "/Users/charlesstockman/git/dataScience/magnimindAcademy/machineLearning/linear_classification_svm\n"
     ]
    },
    {
     "ename": "NameError",
     "evalue": "name 'pd' is not defined",
     "output_type": "error",
     "traceback": [
      "\u001b[0;31m---------------------------------------------------------------------------\u001b[0m",
      "\u001b[0;31mNameError\u001b[0m                                 Traceback (most recent call last)",
      "Cell \u001b[0;32mIn[1], line 2\u001b[0m\n\u001b[1;32m      1\u001b[0m get_ipython()\u001b[38;5;241m.\u001b[39msystem(\u001b[38;5;124m'\u001b[39m\u001b[38;5;124mpwd\u001b[39m\u001b[38;5;124m'\u001b[39m)\n\u001b[0;32m----> 2\u001b[0m df_version_1 \u001b[38;5;241m=\u001b[39m \u001b[43mpd\u001b[49m\u001b[38;5;241m.\u001b[39mread_csv(\u001b[38;5;124m\"\u001b[39m\u001b[38;5;124m./DataSampled.csv\u001b[39m\u001b[38;5;124m\"\u001b[39m)\n",
      "\u001b[0;31mNameError\u001b[0m: name 'pd' is not defined"
     ]
    }
   ],
   "source": [
    "!pwd\n",
    "df_version_1 = pd.read_csv(\"./DataSampled.csv\")"
   ]
  },
  {
   "cell_type": "code",
   "execution_count": null,
   "id": "fd5750f8-377f-4867-bd67-d518dfab0e5d",
   "metadata": {},
   "outputs": [],
   "source": []
  }
 ],
 "metadata": {
  "kernelspec": {
   "display_name": "Python 3 (ipykernel)",
   "language": "python",
   "name": "python3"
  },
  "language_info": {
   "codemirror_mode": {
    "name": "ipython",
    "version": 3
   },
   "file_extension": ".py",
   "mimetype": "text/x-python",
   "name": "python",
   "nbconvert_exporter": "python",
   "pygments_lexer": "ipython3",
   "version": "3.11.3"
  }
 },
 "nbformat": 4,
 "nbformat_minor": 5
}
