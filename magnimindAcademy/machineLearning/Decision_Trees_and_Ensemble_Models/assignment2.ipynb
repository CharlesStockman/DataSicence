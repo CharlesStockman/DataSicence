{
 "cells": [
  {
   "cell_type": "code",
   "execution_count": 9,
   "id": "37682d12",
   "metadata": {
    "ExecuteTime": {
     "end_time": "2023-05-05T17:15:13.878747Z",
     "start_time": "2023-05-05T17:15:13.871467Z"
    }
   },
   "outputs": [],
   "source": [
    "import numpy as np\n",
    "import pandas as pd\n",
    "import matplotlib.pyplot as plt\n",
    "import seaborn as sns\n",
    "\n",
    "%matplotlib inline\n",
    "\n",
    "from sklearn.model_selection import train_test_split\n",
    "from sklearn.ensemble import RandomForestClassifier\n",
    "from sklearn.metrics import accuracy_score\n",
    "from sklearn.preprocessing import StandardScaler, MinMaxScaler\n",
    "from sklearn.impute import SimpleImputer\n",
    "from sklearn.pipeline import Pipeline\n",
    "from sklearn.compose import ColumnTransformer\n",
    "\n",
    "from matplotlib import rcParams\n",
    "import warnings\n"
   ]
  },
  {
   "cell_type": "code",
   "execution_count": 10,
   "id": "210291fa",
   "metadata": {
    "ExecuteTime": {
     "end_time": "2023-05-05T17:15:14.273803Z",
     "start_time": "2023-05-05T17:15:14.270580Z"
    }
   },
   "outputs": [],
   "source": [
    "warnings.filterwarnings(\"ignore\")"
   ]
  },
  {
   "cell_type": "code",
   "execution_count": 11,
   "id": "e6dbd699",
   "metadata": {
    "ExecuteTime": {
     "end_time": "2023-05-05T17:15:14.657634Z",
     "start_time": "2023-05-05T17:15:14.654447Z"
    }
   },
   "outputs": [],
   "source": [
    "# figure size in inches\n",
    "rcParams[\"figure.figsize\"] = 10, 6\n",
    "np.random.seed(42)"
   ]
  },
  {
   "cell_type": "code",
   "execution_count": 16,
   "id": "23ebe895",
   "metadata": {
    "ExecuteTime": {
     "end_time": "2023-05-05T17:21:58.786800Z",
     "start_time": "2023-05-05T17:21:58.780960Z"
    }
   },
   "outputs": [],
   "source": [
    "def info_about_columns(dataframe, data_science_descriptions):\n",
    "    '''\n",
    "        A reusable function that will create a dataframe to contain in another \n",
    "        dataframe the following : dataypes, Number of Unique Categories, Categories \n",
    "        per sample and the type of variable missing values and missing values %\n",
    "        \n",
    "        input : A dataframe where data and categories will be retrieved\n",
    "        series : The data science explamation for each data type\n",
    "    '''\n",
    "        \n",
    "    if data_science_descriptions == None:\n",
    "        data_science_descriptions = dataframe.copy().dtypes\n",
    "        data_science_descriptions = \\\n",
    "            data_science_descriptions.replace(data_science_descriptions.to_list(), \"NA\")\n",
    "                 \n",
    "    dataframe_info_about_columns = pd.concat([\n",
    "          dataframe.dtypes, \n",
    "          dataframe.nunique(), \n",
    "          round(dataframe.nunique()*100/len(dataframe)),\n",
    "          data_science_descriptions,\n",
    "          dataframe.isna().sum(),\n",
    "          dataframe.isna().sum() * 100 / len(dataframe)], axis=1)\n",
    "    \n",
    "\n",
    "    dataframe_info_about_columns.columns=[\n",
    "                                     'DataType', \n",
    "                                     '# of Categories', \n",
    "                                     'categories/sample ratio', \n",
    "                                     'Data Science Type',\n",
    "                                     'missing values',\n",
    "                                     'missing values %']\n",
    "    \n",
    "    return dataframe_info_about_columns"
   ]
  },
  {
   "cell_type": "code",
   "execution_count": 17,
   "id": "294f4234",
   "metadata": {
    "ExecuteTime": {
     "end_time": "2023-05-05T17:21:59.555343Z",
     "start_time": "2023-05-05T17:21:59.548418Z"
    }
   },
   "outputs": [],
   "source": [
    "from IPython.display import display, HTML\n",
    "\n",
    "def show_examples_of_data(dataframe, data_information, catgeogry_cutoff):\n",
    "    '''\n",
    "       purpose To show the data to provide the data scientist an understand of the data\n",
    "       \n",
    "       input:\n",
    "          dataframe          The data frame that contains the dataset\n",
    "          data_information   Information about the categorical, missing values etc..\n",
    "          descriptons        A series that contains a description for each filename\n",
    "    '''\n",
    "    \n",
    "    data_dictionary = pd.DataFrame(columns=[\"Field\", \"Value\"])\n",
    "    \n",
    "    for index, row in data_information.iterrows():\n",
    "        \n",
    "         values = \"\"\n",
    "         column_cnt = data_information.loc[index, '# of Categories']\n",
    "         if column_cnt <= catgeogry_cutoff:\n",
    "                value = dataframe[index].unique()\n",
    "         else: \n",
    "                value = str(dataframe[index].min()) + \" to \"  + str(dataframe[index].max())             \n",
    "         row_data = []\n",
    "         row_data.append(index)\n",
    "         #row_data.append(description.loc[index])\n",
    "         row_data.append(value)\n",
    "    \n",
    "         data_dictionary.loc[len(data_dictionary.index)] = row_data\n",
    "                \n",
    "    return data_dictionary\n"
   ]
  },
  {
   "cell_type": "markdown",
   "id": "3ad7933e",
   "metadata": {},
   "source": [
    "## Load Dataset\n",
    "\n",
    "> * Load the prime_indians_diabetes dataset\n",
    "> * Check the first five samples. Are there any categorical features?\n",
    "> * Is this a classification or regression problem?\n",
    "Check the columns of the dataset"
   ]
  },
  {
   "cell_type": "code",
   "execution_count": 32,
   "id": "6c10c456",
   "metadata": {
    "ExecuteTime": {
     "end_time": "2023-05-05T17:40:08.317356Z",
     "start_time": "2023-05-05T17:40:08.301731Z"
    }
   },
   "outputs": [
    {
     "data": {
      "text/html": [
       "<div>\n",
       "<style scoped>\n",
       "    .dataframe tbody tr th:only-of-type {\n",
       "        vertical-align: middle;\n",
       "    }\n",
       "\n",
       "    .dataframe tbody tr th {\n",
       "        vertical-align: top;\n",
       "    }\n",
       "\n",
       "    .dataframe thead th {\n",
       "        text-align: right;\n",
       "    }\n",
       "</style>\n",
       "<table border=\"1\" class=\"dataframe\">\n",
       "  <thead>\n",
       "    <tr style=\"text-align: right;\">\n",
       "      <th></th>\n",
       "      <th>time_pregnant_no</th>\n",
       "      <th>plasma_concentration</th>\n",
       "      <th>diastolic_blood_pressure</th>\n",
       "      <th>triceps_skinfold_thickness</th>\n",
       "      <th>serum_insulin</th>\n",
       "      <th>bmi</th>\n",
       "      <th>diabetes_pedigree</th>\n",
       "      <th>age</th>\n",
       "      <th>class</th>\n",
       "    </tr>\n",
       "  </thead>\n",
       "  <tbody>\n",
       "    <tr>\n",
       "      <th>0</th>\n",
       "      <td>6</td>\n",
       "      <td>148</td>\n",
       "      <td>72</td>\n",
       "      <td>35</td>\n",
       "      <td>0</td>\n",
       "      <td>33.6</td>\n",
       "      <td>0.627</td>\n",
       "      <td>50</td>\n",
       "      <td>1</td>\n",
       "    </tr>\n",
       "    <tr>\n",
       "      <th>1</th>\n",
       "      <td>1</td>\n",
       "      <td>85</td>\n",
       "      <td>66</td>\n",
       "      <td>29</td>\n",
       "      <td>0</td>\n",
       "      <td>26.6</td>\n",
       "      <td>0.351</td>\n",
       "      <td>31</td>\n",
       "      <td>0</td>\n",
       "    </tr>\n",
       "    <tr>\n",
       "      <th>2</th>\n",
       "      <td>8</td>\n",
       "      <td>183</td>\n",
       "      <td>64</td>\n",
       "      <td>0</td>\n",
       "      <td>0</td>\n",
       "      <td>23.3</td>\n",
       "      <td>0.672</td>\n",
       "      <td>32</td>\n",
       "      <td>1</td>\n",
       "    </tr>\n",
       "    <tr>\n",
       "      <th>3</th>\n",
       "      <td>1</td>\n",
       "      <td>89</td>\n",
       "      <td>66</td>\n",
       "      <td>23</td>\n",
       "      <td>94</td>\n",
       "      <td>28.1</td>\n",
       "      <td>0.167</td>\n",
       "      <td>21</td>\n",
       "      <td>0</td>\n",
       "    </tr>\n",
       "    <tr>\n",
       "      <th>4</th>\n",
       "      <td>0</td>\n",
       "      <td>137</td>\n",
       "      <td>40</td>\n",
       "      <td>35</td>\n",
       "      <td>168</td>\n",
       "      <td>43.1</td>\n",
       "      <td>2.288</td>\n",
       "      <td>33</td>\n",
       "      <td>1</td>\n",
       "    </tr>\n",
       "  </tbody>\n",
       "</table>\n",
       "</div>"
      ],
      "text/plain": [
       "   time_pregnant_no  plasma_concentration  diastolic_blood_pressure  \\\n",
       "0                 6                   148                        72   \n",
       "1                 1                    85                        66   \n",
       "2                 8                   183                        64   \n",
       "3                 1                    89                        66   \n",
       "4                 0                   137                        40   \n",
       "\n",
       "   triceps_skinfold_thickness  serum_insulin   bmi  diabetes_pedigree  age  \\\n",
       "0                          35              0  33.6              0.627   50   \n",
       "1                          29              0  26.6              0.351   31   \n",
       "2                           0              0  23.3              0.672   32   \n",
       "3                          23             94  28.1              0.167   21   \n",
       "4                          35            168  43.1              2.288   33   \n",
       "\n",
       "   class  \n",
       "0      1  \n",
       "1      0  \n",
       "2      1  \n",
       "3      0  \n",
       "4      1  "
      ]
     },
     "execution_count": 32,
     "metadata": {},
     "output_type": "execute_result"
    }
   ],
   "source": [
    "original_df = pd.read_csv(\"pima_indians_diabetes.csv\")\n",
    "original_df.head(5)"
   ]
  },
  {
   "cell_type": "code",
   "execution_count": 21,
   "id": "f3911e55",
   "metadata": {
    "ExecuteTime": {
     "end_time": "2023-05-05T17:28:49.985009Z",
     "start_time": "2023-05-05T17:28:49.963566Z"
    }
   },
   "outputs": [
    {
     "data": {
      "text/html": [
       "<div>\n",
       "<style scoped>\n",
       "    .dataframe tbody tr th:only-of-type {\n",
       "        vertical-align: middle;\n",
       "    }\n",
       "\n",
       "    .dataframe tbody tr th {\n",
       "        vertical-align: top;\n",
       "    }\n",
       "\n",
       "    .dataframe thead th {\n",
       "        text-align: right;\n",
       "    }\n",
       "</style>\n",
       "<table border=\"1\" class=\"dataframe\">\n",
       "  <thead>\n",
       "    <tr style=\"text-align: right;\">\n",
       "      <th></th>\n",
       "      <th>DataType</th>\n",
       "      <th># of Categories</th>\n",
       "      <th>categories/sample ratio</th>\n",
       "      <th>Data Science Type</th>\n",
       "      <th>missing values</th>\n",
       "      <th>missing values %</th>\n",
       "    </tr>\n",
       "  </thead>\n",
       "  <tbody>\n",
       "    <tr>\n",
       "      <th>time_pregnant_no</th>\n",
       "      <td>int64</td>\n",
       "      <td>17</td>\n",
       "      <td>2.0</td>\n",
       "      <td>NA</td>\n",
       "      <td>0</td>\n",
       "      <td>0.0</td>\n",
       "    </tr>\n",
       "    <tr>\n",
       "      <th>plasma_concentration</th>\n",
       "      <td>int64</td>\n",
       "      <td>136</td>\n",
       "      <td>18.0</td>\n",
       "      <td>NA</td>\n",
       "      <td>0</td>\n",
       "      <td>0.0</td>\n",
       "    </tr>\n",
       "    <tr>\n",
       "      <th>diastolic_blood_pressure</th>\n",
       "      <td>int64</td>\n",
       "      <td>47</td>\n",
       "      <td>6.0</td>\n",
       "      <td>NA</td>\n",
       "      <td>0</td>\n",
       "      <td>0.0</td>\n",
       "    </tr>\n",
       "    <tr>\n",
       "      <th>triceps_skinfold_thickness</th>\n",
       "      <td>int64</td>\n",
       "      <td>51</td>\n",
       "      <td>7.0</td>\n",
       "      <td>NA</td>\n",
       "      <td>0</td>\n",
       "      <td>0.0</td>\n",
       "    </tr>\n",
       "    <tr>\n",
       "      <th>serum_insulin</th>\n",
       "      <td>int64</td>\n",
       "      <td>186</td>\n",
       "      <td>24.0</td>\n",
       "      <td>NA</td>\n",
       "      <td>0</td>\n",
       "      <td>0.0</td>\n",
       "    </tr>\n",
       "    <tr>\n",
       "      <th>bmi</th>\n",
       "      <td>float64</td>\n",
       "      <td>248</td>\n",
       "      <td>32.0</td>\n",
       "      <td>NA</td>\n",
       "      <td>0</td>\n",
       "      <td>0.0</td>\n",
       "    </tr>\n",
       "    <tr>\n",
       "      <th>diabetes_pedigree</th>\n",
       "      <td>float64</td>\n",
       "      <td>517</td>\n",
       "      <td>67.0</td>\n",
       "      <td>NA</td>\n",
       "      <td>0</td>\n",
       "      <td>0.0</td>\n",
       "    </tr>\n",
       "    <tr>\n",
       "      <th>age</th>\n",
       "      <td>int64</td>\n",
       "      <td>52</td>\n",
       "      <td>7.0</td>\n",
       "      <td>NA</td>\n",
       "      <td>0</td>\n",
       "      <td>0.0</td>\n",
       "    </tr>\n",
       "    <tr>\n",
       "      <th>class</th>\n",
       "      <td>int64</td>\n",
       "      <td>2</td>\n",
       "      <td>0.0</td>\n",
       "      <td>NA</td>\n",
       "      <td>0</td>\n",
       "      <td>0.0</td>\n",
       "    </tr>\n",
       "  </tbody>\n",
       "</table>\n",
       "</div>"
      ],
      "text/plain": [
       "                           DataType  # of Categories  categories/sample ratio  \\\n",
       "time_pregnant_no              int64               17                      2.0   \n",
       "plasma_concentration          int64              136                     18.0   \n",
       "diastolic_blood_pressure      int64               47                      6.0   \n",
       "triceps_skinfold_thickness    int64               51                      7.0   \n",
       "serum_insulin                 int64              186                     24.0   \n",
       "bmi                         float64              248                     32.0   \n",
       "diabetes_pedigree           float64              517                     67.0   \n",
       "age                           int64               52                      7.0   \n",
       "class                         int64                2                      0.0   \n",
       "\n",
       "                           Data Science Type  missing values  missing values %  \n",
       "time_pregnant_no                          NA               0               0.0  \n",
       "plasma_concentration                      NA               0               0.0  \n",
       "diastolic_blood_pressure                  NA               0               0.0  \n",
       "triceps_skinfold_thickness                NA               0               0.0  \n",
       "serum_insulin                             NA               0               0.0  \n",
       "bmi                                       NA               0               0.0  \n",
       "diabetes_pedigree                         NA               0               0.0  \n",
       "age                                       NA               0               0.0  \n",
       "class                                     NA               0               0.0  "
      ]
     },
     "execution_count": 21,
     "metadata": {},
     "output_type": "execute_result"
    }
   ],
   "source": [
    "# Get Information about columns\n",
    "info = info_about_columns(original_df, None)\n",
    "info"
   ]
  },
  {
   "cell_type": "code",
   "execution_count": 26,
   "id": "24e8c69f",
   "metadata": {
    "ExecuteTime": {
     "end_time": "2023-05-05T17:30:38.959980Z",
     "start_time": "2023-05-05T17:30:38.934427Z"
    }
   },
   "outputs": [
    {
     "data": {
      "text/html": [
       "<table border=\"1\" class=\"dataframe\">\n",
       "  <thead>\n",
       "    <tr style=\"text-align: right;\">\n",
       "      <th></th>\n",
       "      <th>Field</th>\n",
       "      <th>Value</th>\n",
       "    </tr>\n",
       "  </thead>\n",
       "  <tbody>\n",
       "    <tr>\n",
       "      <th>0</th>\n",
       "      <td>time_pregnant_no</td>\n",
       "      <td>[6, 1, 8, 0, 5, 3, 10, 2, 4, 7, 9, 11, 13, 15, 17, 12, 14]</td>\n",
       "    </tr>\n",
       "    <tr>\n",
       "      <th>1</th>\n",
       "      <td>plasma_concentration</td>\n",
       "      <td>0 to 199</td>\n",
       "    </tr>\n",
       "    <tr>\n",
       "      <th>2</th>\n",
       "      <td>diastolic_blood_pressure</td>\n",
       "      <td>[72, 66, 64, 40, 74, 50, 0, 70, 96, 92, 80, 60, 84, 30, 88, 90, 94, 76, 82, 75, 58, 78, 68, 110, 56, 62, 85, 86, 48, 44, 65, 108, 55, 122, 54, 52, 98, 104, 95, 46, 102, 100, 61, 24, 38, 106, 114]</td>\n",
       "    </tr>\n",
       "    <tr>\n",
       "      <th>3</th>\n",
       "      <td>triceps_skinfold_thickness</td>\n",
       "      <td>0 to 99</td>\n",
       "    </tr>\n",
       "    <tr>\n",
       "      <th>4</th>\n",
       "      <td>serum_insulin</td>\n",
       "      <td>0 to 846</td>\n",
       "    </tr>\n",
       "    <tr>\n",
       "      <th>5</th>\n",
       "      <td>bmi</td>\n",
       "      <td>0.0 to 67.1</td>\n",
       "    </tr>\n",
       "    <tr>\n",
       "      <th>6</th>\n",
       "      <td>diabetes_pedigree</td>\n",
       "      <td>0.078 to 2.42</td>\n",
       "    </tr>\n",
       "    <tr>\n",
       "      <th>7</th>\n",
       "      <td>age</td>\n",
       "      <td>21 to 81</td>\n",
       "    </tr>\n",
       "    <tr>\n",
       "      <th>8</th>\n",
       "      <td>class</td>\n",
       "      <td>[1, 0]</td>\n",
       "    </tr>\n",
       "  </tbody>\n",
       "</table>"
      ],
      "text/plain": [
       "<IPython.core.display.HTML object>"
      ]
     },
     "metadata": {},
     "output_type": "display_data"
    }
   ],
   "source": [
    "display(HTML(show_examples_of_data(original_df, info, 47).to_html()))"
   ]
  },
  {
   "cell_type": "markdown",
   "id": "43b0e447",
   "metadata": {},
   "source": [
    "#### Check the first five samples. Are there any categorical features?\n",
    "The categorical features is the dependent variables : class"
   ]
  },
  {
   "cell_type": "code",
   "execution_count": 36,
   "id": "d751e798",
   "metadata": {
    "ExecuteTime": {
     "end_time": "2023-05-05T17:41:39.344304Z",
     "start_time": "2023-05-05T17:41:39.338374Z"
    }
   },
   "outputs": [
    {
     "data": {
      "text/plain": [
       "time_pregnant_no              111\n",
       "plasma_concentration            5\n",
       "diastolic_blood_pressure       35\n",
       "triceps_skinfold_thickness    227\n",
       "serum_insulin                 374\n",
       "bmi                            11\n",
       "diabetes_pedigree               0\n",
       "age                             0\n",
       "class                         500\n",
       "dtype: int64"
      ]
     },
     "execution_count": 36,
     "metadata": {},
     "output_type": "execute_result"
    }
   ],
   "source": [
    "# Check the columns of the dataset to find how many missing values \n",
    "# they have.\n",
    "original_df.eq(0).sum(axis=0)"
   ]
  },
  {
   "cell_type": "markdown",
   "id": "dd36baf5",
   "metadata": {},
   "source": [
    "2. Data Preprocessing and Model\n",
    "> * Assign features to X and target variable to y\n",
    "> * Create a pipeline for preprocessing which includes imputing and standardscaling\n",
    "> * Create a pipeline for preprocessor and the random forest classifier. Set n_estimators=100\n",
    "> * Train the model and make your predictions on the test dataset\n",
    "> * List the feature importance and the corresponding features\n",
    "> * Create a bar plot for the feature importances\n",
    "> * Drop the least important feature from the data and repeat the steps above"
   ]
  },
  {
   "cell_type": "code",
   "execution_count": 37,
   "id": "542b6961",
   "metadata": {
    "ExecuteTime": {
     "end_time": "2023-05-05T17:49:23.203747Z",
     "start_time": "2023-05-05T17:49:23.190779Z"
    }
   },
   "outputs": [
    {
     "data": {
      "text/html": [
       "<style>#sk-container-id-1 {color: black;background-color: white;}#sk-container-id-1 pre{padding: 0;}#sk-container-id-1 div.sk-toggleable {background-color: white;}#sk-container-id-1 label.sk-toggleable__label {cursor: pointer;display: block;width: 100%;margin-bottom: 0;padding: 0.3em;box-sizing: border-box;text-align: center;}#sk-container-id-1 label.sk-toggleable__label-arrow:before {content: \"▸\";float: left;margin-right: 0.25em;color: #696969;}#sk-container-id-1 label.sk-toggleable__label-arrow:hover:before {color: black;}#sk-container-id-1 div.sk-estimator:hover label.sk-toggleable__label-arrow:before {color: black;}#sk-container-id-1 div.sk-toggleable__content {max-height: 0;max-width: 0;overflow: hidden;text-align: left;background-color: #f0f8ff;}#sk-container-id-1 div.sk-toggleable__content pre {margin: 0.2em;color: black;border-radius: 0.25em;background-color: #f0f8ff;}#sk-container-id-1 input.sk-toggleable__control:checked~div.sk-toggleable__content {max-height: 200px;max-width: 100%;overflow: auto;}#sk-container-id-1 input.sk-toggleable__control:checked~label.sk-toggleable__label-arrow:before {content: \"▾\";}#sk-container-id-1 div.sk-estimator input.sk-toggleable__control:checked~label.sk-toggleable__label {background-color: #d4ebff;}#sk-container-id-1 div.sk-label input.sk-toggleable__control:checked~label.sk-toggleable__label {background-color: #d4ebff;}#sk-container-id-1 input.sk-hidden--visually {border: 0;clip: rect(1px 1px 1px 1px);clip: rect(1px, 1px, 1px, 1px);height: 1px;margin: -1px;overflow: hidden;padding: 0;position: absolute;width: 1px;}#sk-container-id-1 div.sk-estimator {font-family: monospace;background-color: #f0f8ff;border: 1px dotted black;border-radius: 0.25em;box-sizing: border-box;margin-bottom: 0.5em;}#sk-container-id-1 div.sk-estimator:hover {background-color: #d4ebff;}#sk-container-id-1 div.sk-parallel-item::after {content: \"\";width: 100%;border-bottom: 1px solid gray;flex-grow: 1;}#sk-container-id-1 div.sk-label:hover label.sk-toggleable__label {background-color: #d4ebff;}#sk-container-id-1 div.sk-serial::before {content: \"\";position: absolute;border-left: 1px solid gray;box-sizing: border-box;top: 0;bottom: 0;left: 50%;z-index: 0;}#sk-container-id-1 div.sk-serial {display: flex;flex-direction: column;align-items: center;background-color: white;padding-right: 0.2em;padding-left: 0.2em;position: relative;}#sk-container-id-1 div.sk-item {position: relative;z-index: 1;}#sk-container-id-1 div.sk-parallel {display: flex;align-items: stretch;justify-content: center;background-color: white;position: relative;}#sk-container-id-1 div.sk-item::before, #sk-container-id-1 div.sk-parallel-item::before {content: \"\";position: absolute;border-left: 1px solid gray;box-sizing: border-box;top: 0;bottom: 0;left: 50%;z-index: -1;}#sk-container-id-1 div.sk-parallel-item {display: flex;flex-direction: column;z-index: 1;position: relative;background-color: white;}#sk-container-id-1 div.sk-parallel-item:first-child::after {align-self: flex-end;width: 50%;}#sk-container-id-1 div.sk-parallel-item:last-child::after {align-self: flex-start;width: 50%;}#sk-container-id-1 div.sk-parallel-item:only-child::after {width: 0;}#sk-container-id-1 div.sk-dashed-wrapped {border: 1px dashed gray;margin: 0 0.4em 0.5em 0.4em;box-sizing: border-box;padding-bottom: 0.4em;background-color: white;}#sk-container-id-1 div.sk-label label {font-family: monospace;font-weight: bold;display: inline-block;line-height: 1.2em;}#sk-container-id-1 div.sk-label-container {text-align: center;}#sk-container-id-1 div.sk-container {/* jupyter's `normalize.less` sets `[hidden] { display: none; }` but bootstrap.min.css set `[hidden] { display: none !important; }` so we also need the `!important` here to be able to override the default hidden behavior on the sphinx rendered scikit-learn.org. See: https://github.com/scikit-learn/scikit-learn/issues/21755 */display: inline-block !important;position: relative;}#sk-container-id-1 div.sk-text-repr-fallback {display: none;}</style><div id=\"sk-container-id-1\" class=\"sk-top-container\"><div class=\"sk-text-repr-fallback\"><pre>Pipeline(steps=[(&#x27;imputer&#x27;, SimpleImputer(strategy=&#x27;median&#x27;)),\n",
       "                (&#x27;sclaler&#x27;, StandardScaler())])</pre><b>In a Jupyter environment, please rerun this cell to show the HTML representation or trust the notebook. <br />On GitHub, the HTML representation is unable to render, please try loading this page with nbviewer.org.</b></div><div class=\"sk-container\" hidden><div class=\"sk-item sk-dashed-wrapped\"><div class=\"sk-label-container\"><div class=\"sk-label sk-toggleable\"><input class=\"sk-toggleable__control sk-hidden--visually\" id=\"sk-estimator-id-1\" type=\"checkbox\" ><label for=\"sk-estimator-id-1\" class=\"sk-toggleable__label sk-toggleable__label-arrow\">Pipeline</label><div class=\"sk-toggleable__content\"><pre>Pipeline(steps=[(&#x27;imputer&#x27;, SimpleImputer(strategy=&#x27;median&#x27;)),\n",
       "                (&#x27;sclaler&#x27;, StandardScaler())])</pre></div></div></div><div class=\"sk-serial\"><div class=\"sk-item\"><div class=\"sk-estimator sk-toggleable\"><input class=\"sk-toggleable__control sk-hidden--visually\" id=\"sk-estimator-id-2\" type=\"checkbox\" ><label for=\"sk-estimator-id-2\" class=\"sk-toggleable__label sk-toggleable__label-arrow\">SimpleImputer</label><div class=\"sk-toggleable__content\"><pre>SimpleImputer(strategy=&#x27;median&#x27;)</pre></div></div></div><div class=\"sk-item\"><div class=\"sk-estimator sk-toggleable\"><input class=\"sk-toggleable__control sk-hidden--visually\" id=\"sk-estimator-id-3\" type=\"checkbox\" ><label for=\"sk-estimator-id-3\" class=\"sk-toggleable__label sk-toggleable__label-arrow\">StandardScaler</label><div class=\"sk-toggleable__content\"><pre>StandardScaler()</pre></div></div></div></div></div></div></div>"
      ],
      "text/plain": [
       "Pipeline(steps=[('imputer', SimpleImputer(strategy='median')),\n",
       "                ('sclaler', StandardScaler())])"
      ]
     },
     "execution_count": 37,
     "metadata": {},
     "output_type": "execute_result"
    }
   ],
   "source": [
    "# Create a Numerical Transformer\n",
    "numerical_transformer = Pipeline(steps=[ \n",
    "    ('imputer', SimpleImputer(strategy='median')), \n",
    "    ('sclaler', StandardScaler()) ])\n",
    "numerical_transformer"
   ]
  },
  {
   "cell_type": "code",
   "execution_count": null,
   "id": "26e818db",
   "metadata": {},
   "outputs": [],
   "source": []
  }
 ],
 "metadata": {
  "kernelspec": {
   "display_name": "Python 3 (ipykernel)",
   "language": "python",
   "name": "python3"
  },
  "language_info": {
   "codemirror_mode": {
    "name": "ipython",
    "version": 3
   },
   "file_extension": ".py",
   "mimetype": "text/x-python",
   "name": "python",
   "nbconvert_exporter": "python",
   "pygments_lexer": "ipython3",
   "version": "3.9.13"
  },
  "toc": {
   "base_numbering": 1,
   "nav_menu": {},
   "number_sections": true,
   "sideBar": true,
   "skip_h1_title": false,
   "title_cell": "Table of Contents",
   "title_sidebar": "Contents",
   "toc_cell": false,
   "toc_position": {},
   "toc_section_display": true,
   "toc_window_display": false
  }
 },
 "nbformat": 4,
 "nbformat_minor": 5
}
