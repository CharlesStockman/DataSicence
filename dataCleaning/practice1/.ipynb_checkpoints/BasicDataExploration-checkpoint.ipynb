{
 "cells": [
  {
   "cell_type": "markdown",
   "id": "0ada7a1f-4eec-4215-8506-df5f1767bd38",
   "metadata": {},
   "source": [
    "# Purpose of the Notebook\n",
    "\n",
    "The purpose of this notebook is to provide functions to look the data in the data frame including, types, example of values in the columns\n",
    "number of missing values, # of categories and their ratio and for the string/categorical the number of distinct values.\n",
    "\n",
    "The functions exported for other notebooks to use will be:\n",
    "> * info_about_columns\n",
    "> * show_examples_of_data\n",
    "\n"
   ]
  },
  {
   "cell_type": "code",
   "execution_count": 4,
   "id": "6531e063-3917-4a72-aa54-312d915d411e",
   "metadata": {
    "tags": []
   },
   "outputs": [],
   "source": [
    "import pandas as pd\n",
    "\n",
    "from itertools import repeat"
   ]
  },
  {
   "cell_type": "code",
   "execution_count": 5,
   "id": "673cdf17-1e8e-492e-9c5d-3fae25f376e6",
   "metadata": {},
   "outputs": [],
   "source": [
    "# Reusable functions"
   ]
  },
  {
   "cell_type": "code",
   "execution_count": 6,
   "id": "b64ceb1b-21ed-4b85-bbfd-360f1f9e2042",
   "metadata": {},
   "outputs": [],
   "source": [
    "def info_about_columns(dataframe, data_science_descriptions):\n",
    "    '''\n",
    "        A reusable function that will create a dataframe to contain\n",
    "        the following : dataypes, Number of Unique Categories, Categories \n",
    "        per sample and the type of variable missing values and missing values %\n",
    "        \n",
    "        input : A dataframe where data and categories will be retrieved\n",
    "        series : The data science explamation for each data type\n",
    "    '''\n",
    "                                         \n",
    "    dataframe_info_about_columns = pd.concat([\n",
    "          dataframe.dtypes, \n",
    "          dataframe.nunique(), \n",
    "          round(dataframe.nunique()*100/len(dataframe)),\n",
    "          dataframe.isnull().sum(),\n",
    "          dataframe.isnull().sum() * 100 / len(dataframe)], axis=1)\n",
    "    \n",
    "\n",
    "    dataframe_info_about_columns.columns=[\n",
    "                                     'DataType', \n",
    "                                     '# of Categories', \n",
    "                                     'categories/sample ratio', \n",
    "                                     'missing values',\n",
    "                                     'missing values %']\n",
    "    \n",
    "    return dataframe_info_about_columns"
   ]
  },
  {
   "cell_type": "code",
   "execution_count": 7,
   "id": "df67e5fb-82f6-41b5-bf83-9a3ed2f96f96",
   "metadata": {},
   "outputs": [],
   "source": [
    "# Read the data and look at the data types / missing values / types which more accurately explained"
   ]
  },
  {
   "cell_type": "code",
   "execution_count": 8,
   "id": "27e57a17-dd6c-45fe-8b60-0548dfc6194b",
   "metadata": {
    "tags": []
   },
   "outputs": [],
   "source": [
    "pd.set_option('display.max_columns', None)\n",
    "def show_examples_of_data(dataframe, data_information, category_cutoff):\n",
    "    '''\n",
    "       purpose: To show example of the data in each column\n",
    "       \n",
    "       input:\n",
    "          dataframe          The data frame that contains the dataset\n",
    "          data_information   Information about the categorical, missing values etc..\n",
    "    '''\n",
    "    \n",
    "    data_dictionary = pd.DataFrame(columns=[\"Field\", \"Value\", \"Number of Values\"])\n",
    "    \n",
    "    for index, row in data_information.iterrows():\n",
    "        \n",
    "         values = \"\"\n",
    "         number_of_distinct_values = \"\"\n",
    "         do_category_cutoff = data_information.loc[index, '# of Categories'] < category_cutoff\n",
    "         data_type = data_information.loc[index, 'DataType']\n",
    "         if data_type in [\"float64\", \"int64\" ] and do_category_cutoff == False:\n",
    "            value = str(dataframe[index].min()) + \" to \" + str(dataframe[index].max())\n",
    "            number_of_distinct_values = \"NA\"\n",
    "         elif data_type in [\"float64\", \"int64\" ] and do_category_cutoff == True:\n",
    "            value = dataframe[index].unique()\n",
    "            number_of_distinct_values = len(value)\n",
    "         elif data_type == \"object\" or data_type == \"string[python]\":\n",
    "            value = dataframe[index].unique()\n",
    "            number_of_distinct_values = len(value)\n",
    "         elif data_type == \"category\":\n",
    "            value = dataframe[index].unique()\n",
    "            number_of_distinct_values = len(value)\n",
    "         else:\n",
    "             value = \"Unknown\"\n",
    "             number_of_distinct_values = \"NA\"\n",
    "            \n",
    "         row_data = []\n",
    "         row_data.append(index)\n",
    "         row_data.append(value)\n",
    "         row_data.append(number_of_distinct_values)\n",
    "    \n",
    "         data_dictionary.loc[len(data_dictionary.index)] = row_data\n",
    "\n",
    "         last_column = data_dictionary.columns[-2]\n",
    "         #data_dictionary[last_column] = data_dictionary[last_column].apply( lambda x : x.ljust(20))\n",
    "         data_dictionary.style.set_properties(subset='Value', **{'text-align': 'left'})\n",
    "                \n",
    "    return data_dictionary\n"
   ]
  }
 ],
 "metadata": {
  "kernelspec": {
   "display_name": "Python 3 (ipykernel)",
   "language": "python",
   "name": "python3"
  },
  "language_info": {
   "codemirror_mode": {
    "name": "ipython",
    "version": 3
   },
   "file_extension": ".py",
   "mimetype": "text/x-python",
   "name": "python",
   "nbconvert_exporter": "python",
   "pygments_lexer": "ipython3",
   "version": "3.11.5"
  }
 },
 "nbformat": 4,
 "nbformat_minor": 5
}
